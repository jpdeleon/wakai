{
 "cells": [
  {
   "cell_type": "markdown",
   "id": "d560b0b5-32a2-4c33-9ef2-25de0688a014",
   "metadata": {},
   "source": [
    "https://gyro-interp.readthedocs.io/en/latest/examples.html"
   ]
  },
  {
   "cell_type": "code",
   "execution_count": 1,
   "id": "c53fbdd5-9905-47ca-94a6-f1340d6c6e06",
   "metadata": {},
   "outputs": [
    {
     "data": {
      "text/html": [
       "<div>\n",
       "<style scoped>\n",
       "    .dataframe tbody tr th:only-of-type {\n",
       "        vertical-align: middle;\n",
       "    }\n",
       "\n",
       "    .dataframe tbody tr th {\n",
       "        vertical-align: top;\n",
       "    }\n",
       "\n",
       "    .dataframe thead th {\n",
       "        text-align: right;\n",
       "    }\n",
       "</style>\n",
       "<table border=\"1\" class=\"dataframe\">\n",
       "  <thead>\n",
       "    <tr style=\"text-align: right;\">\n",
       "      <th></th>\n",
       "      <th>TOI</th>\n",
       "      <th>bv</th>\n",
       "      <th>bv_err</th>\n",
       "      <th>li</th>\n",
       "      <th>prot</th>\n",
       "      <th>rhk</th>\n",
       "      <th>teff</th>\n",
       "    </tr>\n",
       "  </thead>\n",
       "  <tbody>\n",
       "    <tr>\n",
       "      <th>0</th>\n",
       "      <td>101.01</td>\n",
       "      <td>0.656000</td>\n",
       "      <td>0.1</td>\n",
       "      <td>NaN</td>\n",
       "      <td>1.430321</td>\n",
       "      <td>NaN</td>\n",
       "      <td>5648.642857</td>\n",
       "    </tr>\n",
       "    <tr>\n",
       "      <th>1</th>\n",
       "      <td>102.01</td>\n",
       "      <td>0.507667</td>\n",
       "      <td>0.1</td>\n",
       "      <td>NaN</td>\n",
       "      <td>4.410011</td>\n",
       "      <td>NaN</td>\n",
       "      <td>6257.270417</td>\n",
       "    </tr>\n",
       "    <tr>\n",
       "      <th>2</th>\n",
       "      <td>103.01</td>\n",
       "      <td>0.291000</td>\n",
       "      <td>0.1</td>\n",
       "      <td>NaN</td>\n",
       "      <td>3.554638</td>\n",
       "      <td>NaN</td>\n",
       "      <td>6086.159167</td>\n",
       "    </tr>\n",
       "    <tr>\n",
       "      <th>3</th>\n",
       "      <td>104.01</td>\n",
       "      <td>0.545667</td>\n",
       "      <td>0.1</td>\n",
       "      <td>NaN</td>\n",
       "      <td>4.090360</td>\n",
       "      <td>NaN</td>\n",
       "      <td>6046.516250</td>\n",
       "    </tr>\n",
       "    <tr>\n",
       "      <th>4</th>\n",
       "      <td>105.01</td>\n",
       "      <td>0.687667</td>\n",
       "      <td>0.1</td>\n",
       "      <td>NaN</td>\n",
       "      <td>2.187803</td>\n",
       "      <td>NaN</td>\n",
       "      <td>5741.285333</td>\n",
       "    </tr>\n",
       "    <tr>\n",
       "      <th>...</th>\n",
       "      <td>...</td>\n",
       "      <td>...</td>\n",
       "      <td>...</td>\n",
       "      <td>...</td>\n",
       "      <td>...</td>\n",
       "      <td>...</td>\n",
       "      <td>...</td>\n",
       "    </tr>\n",
       "    <tr>\n",
       "      <th>4312</th>\n",
       "      <td>5023.01</td>\n",
       "      <td>NaN</td>\n",
       "      <td>NaN</td>\n",
       "      <td>NaN</td>\n",
       "      <td>NaN</td>\n",
       "      <td>NaN</td>\n",
       "      <td>3720.494840</td>\n",
       "    </tr>\n",
       "    <tr>\n",
       "      <th>4313</th>\n",
       "      <td>5024.01</td>\n",
       "      <td>0.612000</td>\n",
       "      <td>NaN</td>\n",
       "      <td>NaN</td>\n",
       "      <td>NaN</td>\n",
       "      <td>NaN</td>\n",
       "      <td>5985.393333</td>\n",
       "    </tr>\n",
       "    <tr>\n",
       "      <th>4314</th>\n",
       "      <td>5025.01</td>\n",
       "      <td>0.313000</td>\n",
       "      <td>NaN</td>\n",
       "      <td>NaN</td>\n",
       "      <td>NaN</td>\n",
       "      <td>NaN</td>\n",
       "      <td>8132.166667</td>\n",
       "    </tr>\n",
       "    <tr>\n",
       "      <th>4315</th>\n",
       "      <td>5026.01</td>\n",
       "      <td>0.700000</td>\n",
       "      <td>NaN</td>\n",
       "      <td>NaN</td>\n",
       "      <td>NaN</td>\n",
       "      <td>NaN</td>\n",
       "      <td>6444.962144</td>\n",
       "    </tr>\n",
       "    <tr>\n",
       "      <th>4316</th>\n",
       "      <td>5027.01</td>\n",
       "      <td>0.582000</td>\n",
       "      <td>NaN</td>\n",
       "      <td>NaN</td>\n",
       "      <td>NaN</td>\n",
       "      <td>NaN</td>\n",
       "      <td>5805.528337</td>\n",
       "    </tr>\n",
       "  </tbody>\n",
       "</table>\n",
       "<p>4317 rows × 7 columns</p>\n",
       "</div>"
      ],
      "text/plain": [
       "          TOI        bv  bv_err  li      prot  rhk         teff\n",
       "0      101.01  0.656000     0.1 NaN  1.430321  NaN  5648.642857\n",
       "1      102.01  0.507667     0.1 NaN  4.410011  NaN  6257.270417\n",
       "2      103.01  0.291000     0.1 NaN  3.554638  NaN  6086.159167\n",
       "3      104.01  0.545667     0.1 NaN  4.090360  NaN  6046.516250\n",
       "4      105.01  0.687667     0.1 NaN  2.187803  NaN  5741.285333\n",
       "...       ...       ...     ...  ..       ...  ...          ...\n",
       "4312  5023.01       NaN     NaN NaN       NaN  NaN  3720.494840\n",
       "4313  5024.01  0.612000     NaN NaN       NaN  NaN  5985.393333\n",
       "4314  5025.01  0.313000     NaN NaN       NaN  NaN  8132.166667\n",
       "4315  5026.01  0.700000     NaN NaN       NaN  NaN  6444.962144\n",
       "4316  5027.01  0.582000     NaN NaN       NaN  NaN  5805.528337\n",
       "\n",
       "[4317 rows x 7 columns]"
      ]
     },
     "execution_count": 1,
     "metadata": {},
     "output_type": "execute_result"
    }
   ],
   "source": [
    "import pandas as pd\n",
    "\n",
    "# see youth_indicators_tois.ipynb\n",
    "data = pd.read_csv('../data/youth_indicators_tois.csv')\n",
    "data"
   ]
  },
  {
   "cell_type": "code",
   "execution_count": 2,
   "id": "fc3ba1c6-c25f-48ab-bc85-23c432e6a55d",
   "metadata": {},
   "outputs": [
    {
     "data": {
      "text/plain": [
       "TOI        200.010000\n",
       "bv           0.735647\n",
       "bv_err       0.048146\n",
       "li         108.107498\n",
       "prot         5.475000\n",
       "rhk         -4.090000\n",
       "teff      5482.444615\n",
       "Name: 98, dtype: float64"
      ]
     },
     "execution_count": 2,
     "metadata": {},
     "output_type": "execute_result"
    }
   ],
   "source": [
    "d=data.query(\"TOI==200.01\").squeeze()\n",
    "d"
   ]
  },
  {
   "cell_type": "code",
   "execution_count": 3,
   "id": "02cba9f9-a8d9-4d75-bb75-fbaa8270ce0e",
   "metadata": {},
   "outputs": [],
   "source": [
    "Prot, Prot_err = d.prot, 0.1\n",
    "Teff, Teff_err = d.teff, 100"
   ]
  },
  {
   "cell_type": "markdown",
   "id": "1f972ccd-8df3-4ff2-9466-d6a8419913ce",
   "metadata": {},
   "source": [
    "## gyro-interp"
   ]
  },
  {
   "cell_type": "code",
   "execution_count": 4,
   "id": "f91fdd90-5d55-4885-93d6-023e009015d0",
   "metadata": {},
   "outputs": [
    {
     "name": "stdout",
     "output_type": "stream",
     "text": [
      "Age = 221.13 +101.35 -95.34 Myr.\n"
     ]
    }
   ],
   "source": [
    "import numpy as np\n",
    "from gyrointerp import gyro_age_posterior\n",
    "\n",
    "# uniformly spaced grid between 0 and 2600 megayears\n",
    "age_grid = np.linspace(0, 2600, 500)\n",
    "\n",
    "# calculate the age posterior - takes ~30 seconds\n",
    "age_posterior = gyro_age_posterior(\n",
    "  Prot, Teff, Prot_err=Prot_err, Teff_err=Teff_err, age_grid=age_grid\n",
    ")\n",
    "\n",
    "# calculate dictionary of summary statistics\n",
    "from gyrointerp import get_summary_statistics\n",
    "result = get_summary_statistics(age_grid, age_posterior)\n",
    "\n",
    "print(f\"Age = {result['median']} +{result['+1sigma']} -{result['-1sigma']} Myr.\")"
   ]
  },
  {
   "cell_type": "markdown",
   "id": "ad8ce02d-fd39-4549-a3c5-4deede4fc060",
   "metadata": {},
   "source": [
    "## age of young cluster planet candidates"
   ]
  },
  {
   "cell_type": "code",
   "execution_count": 12,
   "id": "64dd9e81-5e9d-492c-858a-5b057b22d583",
   "metadata": {},
   "outputs": [
    {
     "data": {
      "text/plain": [
       "(70, 3)"
      ]
     },
     "execution_count": 12,
     "metadata": {},
     "output_type": "execute_result"
    }
   ],
   "source": [
    "import pandas as pd\n",
    "\n",
    "loc = '~/github/research/project/young_ttvs/code/tois_yuanzhe'\n",
    "candidates = pd.read_csv(f'{loc}/tois_in_cluster_candidates_yuanzhe.txt', delimiter='\\t')\n",
    "candidates.shape"
   ]
  },
  {
   "cell_type": "code",
   "execution_count": 96,
   "id": "c21f6b34-b841-4526-a30b-1829c1dcfb57",
   "metadata": {},
   "outputs": [
    {
     "name": "stderr",
     "output_type": "stream",
     "text": [
      "54it [00:00, 325.55it/s]"
     ]
    },
    {
     "name": "stdout",
     "output_type": "stream",
     "text": [
      "Prot=2.925198 d, Teff=7137.558 K\n",
      "TOI-2538.01: Age = nan +nan -nan Myr.\n"
     ]
    },
    {
     "name": "stderr",
     "output_type": "stream",
     "text": [
      "\n"
     ]
    }
   ],
   "source": [
    "from tqdm import tqdm\n",
    "\n",
    "age_grid = np.linspace(0, 2600, 500)\n",
    "\n",
    "for i,row in tqdm(candidates.iterrows()):\n",
    "    # print(row.TOI)\n",
    "    toi = row.TOI\n",
    "    d=data.query(\"TOI==@toi\").squeeze()\n",
    "    if len(d)>0:\n",
    "        Prot, Prot_err = d.prot, 0.1\n",
    "        Teff, Teff_err = d.teff, 100\n",
    "        if (str(Prot)!='nan') and (str(Teff)!='nan'):\n",
    "            print(f\"Prot={Prot} d, Teff={Teff} K\")\n",
    "            \n",
    "            # calculate the age posterior - takes ~30 seconds\n",
    "            age_posterior = gyro_age_posterior(\n",
    "              Prot, Teff, Prot_err=Prot_err, Teff_err=Teff_err, age_grid=age_grid\n",
    "            )\n",
    "            \n",
    "            # calculate dictionary of summary statistics\n",
    "            result = get_summary_statistics(age_grid, age_posterior)\n",
    "            \n",
    "            print(f\"TOI-{toi}: Age = {result['median']} +{result['+1sigma']} -{result['-1sigma']} Myr.\")\n",
    "            break"
   ]
  },
  {
   "cell_type": "markdown",
   "id": "a1b43568-8d7a-4893-9789-7cbefe5182ed",
   "metadata": {},
   "source": [
    "## custom"
   ]
  },
  {
   "cell_type": "code",
   "execution_count": 3,
   "id": "692d8094-69ac-49a4-a87a-ca2337e0038e",
   "metadata": {},
   "outputs": [
    {
     "name": "stderr",
     "output_type": "stream",
     "text": [
      "[W 240827 19:19:03 getters:72] No module named 'cdips'\n",
      "[I 240827 19:19:03 getters:1551] Found /mnt_ut3/raid_ut3/home/jerome/github/research/project/ext_tools/gyro-interp/gyrointerp/data/interim/alpha-per/Boyle_table3_full_DR3_supp.csv; returning.\n",
      "[I 240827 19:19:03 getters:1253] Found /mnt_ut3/raid_ut3/home/jerome/github/research/project/ext_tools/gyro-interp/gyrointerp/data/interim/psc-eri/Curtis_2019_X_GDR3_supplemented.csv, and not overwrite; returning.\n",
      "[I 240827 19:19:03 getters:528] Found /mnt_ut3/raid_ut3/home/jerome/github/research/project/ext_tools/gyro-interp/gyrointerp/data/interim/blanco1/Gillen_2020_X_GDR3_supplemented.csv, and not overwrite; returning.\n",
      "[I 240827 19:19:03 getters:663] Found /mnt_ut3/raid_ut3/home/jerome/github/research/project/ext_tools/gyro-interp/gyrointerp/data/interim/pleiades/Rebull_2016_X_GDR3_supplemented.csv, and not overwrite; returning.\n",
      "[I 240827 19:19:03 getters:879] Found /mnt_ut3/raid_ut3/home/jerome/github/research/project/ext_tools/gyro-interp/gyrointerp/data/interim/ngc3532/Fritzewski_2021_X_DR3_supplemented.csv, and not overwrite; returning.\n",
      "[I 240827 19:19:03 getters:1388] Found /mnt_ut3/raid_ut3/home/jerome/github/research/project/ext_tools/gyro-interp/gyrointerp/data/interim/groupx/Messina_2022_X_GDR3_supplemented.csv, and not overwrite; returning.\n",
      "[I 240827 19:19:03 getters:1023] Found /mnt_ut3/raid_ut3/home/jerome/github/research/project/ext_tools/gyro-interp/gyrointerp/data/interim/praesepe_rampalli2021/Rampalli_2021_X_DR3_supplemented.csv, and not overwrite; returning.\n",
      "[I 240827 19:19:03 getters:383] Found /mnt_ut3/raid_ut3/home/jerome/github/research/project/ext_tools/gyro-interp/gyrointerp/data/interim/ngc6811/Curtis_2019_X_GDR3_supplemented.csv, and not overwrite; returning.\n",
      "[I 240827 19:19:03 getters:164] Found /mnt_ut3/raid_ut3/home/jerome/github/research/project/ext_tools/gyro-interp/gyrointerp/data/interim/ngc6819/Curtis_2020_ngc6819_X_GDR3_supplemented.csv, and not overwrite; returning.\n",
      "[I 240827 19:19:03 getters:273] Found /mnt_ut3/raid_ut3/home/jerome/github/research/project/ext_tools/gyro-interp/gyrointerp/data/interim/ruprecht147/Curtis_2020_rup147_X_GDR3_supplemented.csv, and not overwrite; returning.\n",
      "[I 240827 19:19:03 getters:1755] Found /mnt_ut3/raid_ut3/home/jerome/github/research/project/ext_tools/gyro-interp/gyrointerp/data/interim/M67/M67_supplemented.csv, and not overwrite; returning.\n",
      "[I 240827 19:19:03 models:733] Found /mnt_ut3/raid_ut3/home/jerome/github/research/project/ext_tools/gyro-interp/gyrointerp/data/interim/slow_sequence_coefficients/α Per_poly7_coefficients.txt, loading...\n",
      "[I 240827 19:19:03 models:733] Found /mnt_ut3/raid_ut3/home/jerome/github/research/project/ext_tools/gyro-interp/gyrointerp/data/interim/slow_sequence_coefficients/120-Myr_poly7_coefficients.txt, loading...\n",
      "[I 240827 19:19:03 models:733] Found /mnt_ut3/raid_ut3/home/jerome/github/research/project/ext_tools/gyro-interp/gyrointerp/data/interim/slow_sequence_coefficients/300-Myr_poly7_coefficients.txt, loading...\n",
      "[I 240827 19:19:03 models:733] Found /mnt_ut3/raid_ut3/home/jerome/github/research/project/ext_tools/gyro-interp/gyrointerp/data/interim/slow_sequence_coefficients/Praesepe_poly7_coefficients.txt, loading...\n",
      "[I 240827 19:19:03 models:733] Found /mnt_ut3/raid_ut3/home/jerome/github/research/project/ext_tools/gyro-interp/gyrointerp/data/interim/slow_sequence_coefficients/NGC-6811_poly7_coefficients.txt, loading...\n",
      "/mnt_ut3/raid_ut3/home/jerome/github/research/project/ext_tools/gyro-interp/gyrointerp/plotting.py:120: FutureWarning: The 'delim_whitespace' keyword in pd.read_csv is deprecated and will be removed in a future version. Use ``sep='\\s+'`` instead\n",
      "  mamajek_df = pd.read_csv(\n",
      "/mnt_ut3/raid_ut3/home/jerome/github/research/project/ext_tools/gyro-interp/gyrointerp/plotting.py:143: FutureWarning: Calling float on a single element Series is deprecated and will raise a TypeError in the future. Use float(ser.iloc[0]) instead\n",
      "  Teffs.append(float(sdf.loc[sdf.SpT==sptype]['Teff']))\n",
      "[I 240827 19:19:05 plotting:97] ['F2' 'F5' 'G2' 'K0' 'K5' 'M0' 'M3']\n",
      "[I 240827 19:19:05 plotting:98] [6820. 6550. 5770. 5270. 4440. 3850. 3430.]\n"
     ]
    },
    {
     "name": "stdout",
     "output_type": "stream",
     "text": [
      "2024-08-27T10:19:06.881348: made ./prot_vs_teff_α_Per_Pleiades_Blanco-1_Psc-Eri_NGC-3532_Group-X_Praesepe_NGC-6811_models_poly7_α_Per_120-Myr_300-Myr_Praesepe_NGC-6811_interpmethodpchip_m67.png\n"
     ]
    }
   ],
   "source": [
    "from gyrointerp.plotting import plot_prot_vs_teff\n",
    "\n",
    "# write the results to the current working directory\n",
    "outdir = \"./\"\n",
    "\n",
    "# show these cluster Prot vs Teff datasets\n",
    "reference_clusters = [\n",
    "    'α Per', 'Pleiades', 'Blanco-1', 'Psc-Eri', 'NGC-3532', 'Group-X',\n",
    "    'Praesepe', 'NGC-6811'\n",
    "]\n",
    "\n",
    "# underplot these polynomial fits\n",
    "model_ids = [\n",
    "    'α Per', '120-Myr', '300-Myr', 'Praesepe', 'NGC-6811'\n",
    "]\n",
    "\n",
    "# overplot these stars with big markers\n",
    "custom_stardict = {\n",
    "    \"Kepler-1643\": {\"Prot\":5.1, \"Teff\":4916, \"m\":\"s\", \"c\":\"red\"},\n",
    "    \"TOI-1136\": {\"Prot\":8.7, \"Teff\":5770, \"m\":\"X\", \"c\":\"pink\"},\n",
    "    \"TOI-1937 A\": {\"Prot\":6.6, \"Teff\":5798, \"m\":\"P\", \"c\":\"aqua\"},\n",
    "}\n",
    "\n",
    "# make the plot\n",
    "plot_prot_vs_teff(\n",
    "    outdir, reference_clusters=reference_clusters, model_ids=model_ids,\n",
    "    custom_stardict=custom_stardict, writepdf=0\n",
    ")"
   ]
  },
  {
   "cell_type": "code",
   "execution_count": null,
   "id": "8380f9ce-673c-4cdb-9bae-6c824290c4a4",
   "metadata": {},
   "outputs": [],
   "source": []
  }
 ],
 "metadata": {
  "kernelspec": {
   "display_name": "gyrointerp",
   "language": "python",
   "name": "gyrointerp"
  },
  "language_info": {
   "codemirror_mode": {
    "name": "ipython",
    "version": 3
   },
   "file_extension": ".py",
   "mimetype": "text/x-python",
   "name": "python",
   "nbconvert_exporter": "python",
   "pygments_lexer": "ipython3",
   "version": "3.10.14"
  }
 },
 "nbformat": 4,
 "nbformat_minor": 5
}
