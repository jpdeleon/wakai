{
 "cells": [
  {
   "cell_type": "markdown",
   "id": "d560b0b5-32a2-4c33-9ef2-25de0688a014",
   "metadata": {},
   "source": [
    "https://gyro-interp.readthedocs.io/en/latest/examples.html"
   ]
  },
  {
   "cell_type": "code",
   "execution_count": 2,
   "id": "f91fdd90-5d55-4885-93d6-023e009015d0",
   "metadata": {},
   "outputs": [
    {
     "name": "stdout",
     "output_type": "stream",
     "text": [
      "Age = 571.01 +315.27 -174.57 Myr.\n"
     ]
    }
   ],
   "source": [
    "import numpy as np\n",
    "from gyrointerp import gyro_age_posterior\n",
    "\n",
    "# units: days\n",
    "Prot, Prot_err = 11, 0.2\n",
    "\n",
    "# units: kelvin\n",
    "Teff, Teff_err = 4500, 100\n",
    "\n",
    "# uniformly spaced grid between 0 and 2600 megayears\n",
    "age_grid = np.linspace(0, 2600, 500)\n",
    "\n",
    "# calculate the age posterior - takes ~30 seconds\n",
    "age_posterior = gyro_age_posterior(\n",
    "  Prot, Teff, Prot_err=Prot_err, Teff_err=Teff_err, age_grid=age_grid\n",
    ")\n",
    "\n",
    "# calculate dictionary of summary statistics\n",
    "from gyrointerp import get_summary_statistics\n",
    "result = get_summary_statistics(age_grid, age_posterior)\n",
    "\n",
    "print(f\"Age = {result['median']} +{result['+1sigma']} -{result['-1sigma']} Myr.\")"
   ]
  },
  {
   "cell_type": "code",
   "execution_count": 3,
   "id": "692d8094-69ac-49a4-a87a-ca2337e0038e",
   "metadata": {},
   "outputs": [
    {
     "name": "stderr",
     "output_type": "stream",
     "text": [
      "[W 240827 19:19:03 getters:72] No module named 'cdips'\n",
      "[I 240827 19:19:03 getters:1551] Found /mnt_ut3/raid_ut3/home/jerome/github/research/project/ext_tools/gyro-interp/gyrointerp/data/interim/alpha-per/Boyle_table3_full_DR3_supp.csv; returning.\n",
      "[I 240827 19:19:03 getters:1253] Found /mnt_ut3/raid_ut3/home/jerome/github/research/project/ext_tools/gyro-interp/gyrointerp/data/interim/psc-eri/Curtis_2019_X_GDR3_supplemented.csv, and not overwrite; returning.\n",
      "[I 240827 19:19:03 getters:528] Found /mnt_ut3/raid_ut3/home/jerome/github/research/project/ext_tools/gyro-interp/gyrointerp/data/interim/blanco1/Gillen_2020_X_GDR3_supplemented.csv, and not overwrite; returning.\n",
      "[I 240827 19:19:03 getters:663] Found /mnt_ut3/raid_ut3/home/jerome/github/research/project/ext_tools/gyro-interp/gyrointerp/data/interim/pleiades/Rebull_2016_X_GDR3_supplemented.csv, and not overwrite; returning.\n",
      "[I 240827 19:19:03 getters:879] Found /mnt_ut3/raid_ut3/home/jerome/github/research/project/ext_tools/gyro-interp/gyrointerp/data/interim/ngc3532/Fritzewski_2021_X_DR3_supplemented.csv, and not overwrite; returning.\n",
      "[I 240827 19:19:03 getters:1388] Found /mnt_ut3/raid_ut3/home/jerome/github/research/project/ext_tools/gyro-interp/gyrointerp/data/interim/groupx/Messina_2022_X_GDR3_supplemented.csv, and not overwrite; returning.\n",
      "[I 240827 19:19:03 getters:1023] Found /mnt_ut3/raid_ut3/home/jerome/github/research/project/ext_tools/gyro-interp/gyrointerp/data/interim/praesepe_rampalli2021/Rampalli_2021_X_DR3_supplemented.csv, and not overwrite; returning.\n",
      "[I 240827 19:19:03 getters:383] Found /mnt_ut3/raid_ut3/home/jerome/github/research/project/ext_tools/gyro-interp/gyrointerp/data/interim/ngc6811/Curtis_2019_X_GDR3_supplemented.csv, and not overwrite; returning.\n",
      "[I 240827 19:19:03 getters:164] Found /mnt_ut3/raid_ut3/home/jerome/github/research/project/ext_tools/gyro-interp/gyrointerp/data/interim/ngc6819/Curtis_2020_ngc6819_X_GDR3_supplemented.csv, and not overwrite; returning.\n",
      "[I 240827 19:19:03 getters:273] Found /mnt_ut3/raid_ut3/home/jerome/github/research/project/ext_tools/gyro-interp/gyrointerp/data/interim/ruprecht147/Curtis_2020_rup147_X_GDR3_supplemented.csv, and not overwrite; returning.\n",
      "[I 240827 19:19:03 getters:1755] Found /mnt_ut3/raid_ut3/home/jerome/github/research/project/ext_tools/gyro-interp/gyrointerp/data/interim/M67/M67_supplemented.csv, and not overwrite; returning.\n",
      "[I 240827 19:19:03 models:733] Found /mnt_ut3/raid_ut3/home/jerome/github/research/project/ext_tools/gyro-interp/gyrointerp/data/interim/slow_sequence_coefficients/α Per_poly7_coefficients.txt, loading...\n",
      "[I 240827 19:19:03 models:733] Found /mnt_ut3/raid_ut3/home/jerome/github/research/project/ext_tools/gyro-interp/gyrointerp/data/interim/slow_sequence_coefficients/120-Myr_poly7_coefficients.txt, loading...\n",
      "[I 240827 19:19:03 models:733] Found /mnt_ut3/raid_ut3/home/jerome/github/research/project/ext_tools/gyro-interp/gyrointerp/data/interim/slow_sequence_coefficients/300-Myr_poly7_coefficients.txt, loading...\n",
      "[I 240827 19:19:03 models:733] Found /mnt_ut3/raid_ut3/home/jerome/github/research/project/ext_tools/gyro-interp/gyrointerp/data/interim/slow_sequence_coefficients/Praesepe_poly7_coefficients.txt, loading...\n",
      "[I 240827 19:19:03 models:733] Found /mnt_ut3/raid_ut3/home/jerome/github/research/project/ext_tools/gyro-interp/gyrointerp/data/interim/slow_sequence_coefficients/NGC-6811_poly7_coefficients.txt, loading...\n",
      "/mnt_ut3/raid_ut3/home/jerome/github/research/project/ext_tools/gyro-interp/gyrointerp/plotting.py:120: FutureWarning: The 'delim_whitespace' keyword in pd.read_csv is deprecated and will be removed in a future version. Use ``sep='\\s+'`` instead\n",
      "  mamajek_df = pd.read_csv(\n",
      "/mnt_ut3/raid_ut3/home/jerome/github/research/project/ext_tools/gyro-interp/gyrointerp/plotting.py:143: FutureWarning: Calling float on a single element Series is deprecated and will raise a TypeError in the future. Use float(ser.iloc[0]) instead\n",
      "  Teffs.append(float(sdf.loc[sdf.SpT==sptype]['Teff']))\n",
      "[I 240827 19:19:05 plotting:97] ['F2' 'F5' 'G2' 'K0' 'K5' 'M0' 'M3']\n",
      "[I 240827 19:19:05 plotting:98] [6820. 6550. 5770. 5270. 4440. 3850. 3430.]\n"
     ]
    },
    {
     "name": "stdout",
     "output_type": "stream",
     "text": [
      "2024-08-27T10:19:06.881348: made ./prot_vs_teff_α_Per_Pleiades_Blanco-1_Psc-Eri_NGC-3532_Group-X_Praesepe_NGC-6811_models_poly7_α_Per_120-Myr_300-Myr_Praesepe_NGC-6811_interpmethodpchip_m67.png\n"
     ]
    }
   ],
   "source": [
    "from gyrointerp.plotting import plot_prot_vs_teff\n",
    "\n",
    "# write the results to the current working directory\n",
    "outdir = \"./\"\n",
    "\n",
    "# show these cluster Prot vs Teff datasets\n",
    "reference_clusters = [\n",
    "    'α Per', 'Pleiades', 'Blanco-1', 'Psc-Eri', 'NGC-3532', 'Group-X',\n",
    "    'Praesepe', 'NGC-6811'\n",
    "]\n",
    "\n",
    "# underplot these polynomial fits\n",
    "model_ids = [\n",
    "    'α Per', '120-Myr', '300-Myr', 'Praesepe', 'NGC-6811'\n",
    "]\n",
    "\n",
    "# overplot these stars with big markers\n",
    "custom_stardict = {\n",
    "    \"Kepler-1643\": {\"Prot\":5.1, \"Teff\":4916, \"m\":\"s\", \"c\":\"red\"},\n",
    "    \"TOI-1136\": {\"Prot\":8.7, \"Teff\":5770, \"m\":\"X\", \"c\":\"pink\"},\n",
    "    \"TOI-1937 A\": {\"Prot\":6.6, \"Teff\":5798, \"m\":\"P\", \"c\":\"aqua\"},\n",
    "}\n",
    "\n",
    "# make the plot\n",
    "plot_prot_vs_teff(\n",
    "    outdir, reference_clusters=reference_clusters, model_ids=model_ids,\n",
    "    custom_stardict=custom_stardict, writepdf=0\n",
    ")"
   ]
  },
  {
   "cell_type": "code",
   "execution_count": null,
   "id": "8380f9ce-673c-4cdb-9bae-6c824290c4a4",
   "metadata": {},
   "outputs": [],
   "source": []
  }
 ],
 "metadata": {
  "kernelspec": {
   "display_name": "gyrointerp",
   "language": "python",
   "name": "gyrointerp"
  },
  "language_info": {
   "codemirror_mode": {
    "name": "ipython",
    "version": 3
   },
   "file_extension": ".py",
   "mimetype": "text/x-python",
   "name": "python",
   "nbconvert_exporter": "python",
   "pygments_lexer": "ipython3",
   "version": "3.10.14"
  }
 },
 "nbformat": 4,
 "nbformat_minor": 5
}
