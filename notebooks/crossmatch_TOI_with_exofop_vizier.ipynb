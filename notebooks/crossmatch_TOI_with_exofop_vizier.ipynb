{
 "cells": [
  {
   "cell_type": "markdown",
   "id": "25ec41de-2ce2-41f8-bd6b-81a7aff4027c",
   "metadata": {},
   "source": [
    "* `crossmatch_TOI_with_GaiaDR3.ipynb` attempts to cross-match based on position and magnitude difference.\n",
    "* here result of previous cross-match from exofop or vizier is used"
   ]
  },
  {
   "cell_type": "code",
   "execution_count": 1,
   "id": "f7a75e69-0dde-44eb-aec1-5d87029c56a8",
   "metadata": {},
   "outputs": [
    {
     "name": "stdout",
     "output_type": "stream",
     "text": [
      "/ut3/jerome/miniconda3/envs/wakai/bin/python\n"
     ]
    }
   ],
   "source": [
    "import sys\n",
    "\n",
    "!which {sys.executable}"
   ]
  },
  {
   "cell_type": "code",
   "execution_count": 2,
   "id": "2a1c4fb8-c666-4d90-b602-4fe48f919025",
   "metadata": {},
   "outputs": [],
   "source": [
    "import sys\n",
    "sys.path.insert(0, '../code')"
   ]
  },
  {
   "cell_type": "markdown",
   "id": "d11d26d4-cebc-47df-b8f4-0e4803757712",
   "metadata": {},
   "source": [
    "# TOI catalog"
   ]
  },
  {
   "cell_type": "code",
   "execution_count": 23,
   "id": "f20862dd-31a3-4729-a31f-91d87de2f280",
   "metadata": {},
   "outputs": [],
   "source": [
    "from catalog import get_tois\n",
    "\n",
    "tois = get_tois()\n",
    "# tois.columns.tolist()"
   ]
  },
  {
   "cell_type": "code",
   "execution_count": 24,
   "id": "818d26ec-01a3-48c3-abfe-c470079d11a4",
   "metadata": {},
   "outputs": [
    {
     "data": {
      "text/html": [
       "<div>\n",
       "<style scoped>\n",
       "    .dataframe tbody tr th:only-of-type {\n",
       "        vertical-align: middle;\n",
       "    }\n",
       "\n",
       "    .dataframe tbody tr th {\n",
       "        vertical-align: top;\n",
       "    }\n",
       "\n",
       "    .dataframe thead th {\n",
       "        text-align: right;\n",
       "    }\n",
       "</style>\n",
       "<table border=\"1\" class=\"dataframe\">\n",
       "  <thead>\n",
       "    <tr style=\"text-align: right;\">\n",
       "      <th></th>\n",
       "      <th>TIC ID</th>\n",
       "      <th>TOI</th>\n",
       "      <th>Previous CTOI</th>\n",
       "      <th>Master</th>\n",
       "      <th>SG1A</th>\n",
       "      <th>SG1B</th>\n",
       "      <th>SG2</th>\n",
       "      <th>SG3</th>\n",
       "      <th>SG4</th>\n",
       "      <th>SG5</th>\n",
       "      <th>...</th>\n",
       "      <th>Stellar Metallicity err</th>\n",
       "      <th>Stellar Mass (M_Sun)</th>\n",
       "      <th>Stellar Mass (M_Sun) err</th>\n",
       "      <th>Sectors</th>\n",
       "      <th>Date TOI Alerted (UTC)</th>\n",
       "      <th>Date TOI Updated (UTC)</th>\n",
       "      <th>Date Modified</th>\n",
       "      <th>Comments</th>\n",
       "      <th>ra_deg</th>\n",
       "      <th>dec_deg</th>\n",
       "    </tr>\n",
       "  </thead>\n",
       "  <tbody>\n",
       "    <tr>\n",
       "      <th>732</th>\n",
       "      <td>146520535</td>\n",
       "      <td>942.01</td>\n",
       "      <td>NaN</td>\n",
       "      <td>3</td>\n",
       "      <td>5</td>\n",
       "      <td>5</td>\n",
       "      <td>3</td>\n",
       "      <td>4</td>\n",
       "      <td>4</td>\n",
       "      <td>4</td>\n",
       "      <td>...</td>\n",
       "      <td>NaN</td>\n",
       "      <td>0.814000</td>\n",
       "      <td>0.097250</td>\n",
       "      <td>5</td>\n",
       "      <td>2019-07-24</td>\n",
       "      <td>2020-05-20</td>\n",
       "      <td>2022-12-14 12:09:24</td>\n",
       "      <td>Probable young K dwarf. Transit is believable ...</td>\n",
       "      <td>76.649625</td>\n",
       "      <td>-20.245614</td>\n",
       "    </tr>\n",
       "    <tr>\n",
       "      <th>2902</th>\n",
       "      <td>330135981</td>\n",
       "      <td>3604.01</td>\n",
       "      <td>NaN</td>\n",
       "      <td>3</td>\n",
       "      <td>4</td>\n",
       "      <td>4</td>\n",
       "      <td>3</td>\n",
       "      <td>2</td>\n",
       "      <td>4</td>\n",
       "      <td>4</td>\n",
       "      <td>...</td>\n",
       "      <td>NaN</td>\n",
       "      <td>NaN</td>\n",
       "      <td>NaN</td>\n",
       "      <td>16,17,56,57</td>\n",
       "      <td>2021-06-23</td>\n",
       "      <td>2023-02-01</td>\n",
       "      <td>2023-04-17 12:02:58</td>\n",
       "      <td>V-shaped; found in faint-star QLP search; no s...</td>\n",
       "      <td>333.501042</td>\n",
       "      <td>56.918981</td>\n",
       "    </tr>\n",
       "    <tr>\n",
       "      <th>4902</th>\n",
       "      <td>308300731</td>\n",
       "      <td>5743.01</td>\n",
       "      <td>NaN</td>\n",
       "      <td>3</td>\n",
       "      <td>4</td>\n",
       "      <td>3</td>\n",
       "      <td>3</td>\n",
       "      <td>4</td>\n",
       "      <td>4</td>\n",
       "      <td>4</td>\n",
       "      <td>...</td>\n",
       "      <td>NaN</td>\n",
       "      <td>0.898000</td>\n",
       "      <td>0.109025</td>\n",
       "      <td>26,53,79,80</td>\n",
       "      <td>2022-09-01</td>\n",
       "      <td>2024-08-25</td>\n",
       "      <td>2024-08-26 00:00:00</td>\n",
       "      <td>radius possibly underestimated; potentially yo...</td>\n",
       "      <td>267.904333</td>\n",
       "      <td>24.427456</td>\n",
       "    </tr>\n",
       "    <tr>\n",
       "      <th>5099</th>\n",
       "      <td>236785891</td>\n",
       "      <td>5956.01</td>\n",
       "      <td>TIC 236785891.01</td>\n",
       "      <td>3</td>\n",
       "      <td>4</td>\n",
       "      <td>3</td>\n",
       "      <td>3</td>\n",
       "      <td>2</td>\n",
       "      <td>4</td>\n",
       "      <td>4</td>\n",
       "      <td>...</td>\n",
       "      <td>NaN</td>\n",
       "      <td>0.483975</td>\n",
       "      <td>0.021842</td>\n",
       "      <td>56,57</td>\n",
       "      <td>2022-11-16</td>\n",
       "      <td>2023-02-03</td>\n",
       "      <td>2023-08-10 00:00:00</td>\n",
       "      <td>V-shaped; large; young host star; ~5 sigma odd...</td>\n",
       "      <td>283.317250</td>\n",
       "      <td>59.817658</td>\n",
       "    </tr>\n",
       "    <tr>\n",
       "      <th>5389</th>\n",
       "      <td>435878153</td>\n",
       "      <td>6258.01</td>\n",
       "      <td>NaN</td>\n",
       "      <td>2</td>\n",
       "      <td>4</td>\n",
       "      <td>4</td>\n",
       "      <td>2</td>\n",
       "      <td>4</td>\n",
       "      <td>4</td>\n",
       "      <td>4</td>\n",
       "      <td>...</td>\n",
       "      <td>NaN</td>\n",
       "      <td>0.368918</td>\n",
       "      <td>0.020209</td>\n",
       "      <td>17,57</td>\n",
       "      <td>2023-04-06</td>\n",
       "      <td>2023-04-06</td>\n",
       "      <td>2024-02-23 00:00:00</td>\n",
       "      <td>low SNR; asymmetric transit shape; flaring pos...</td>\n",
       "      <td>13.085375</td>\n",
       "      <td>20.938875</td>\n",
       "    </tr>\n",
       "    <tr>\n",
       "      <th>5806</th>\n",
       "      <td>253864764</td>\n",
       "      <td>6678.01</td>\n",
       "      <td>NaN</td>\n",
       "      <td>1</td>\n",
       "      <td>4</td>\n",
       "      <td>1</td>\n",
       "      <td>1</td>\n",
       "      <td>1</td>\n",
       "      <td>4</td>\n",
       "      <td>4</td>\n",
       "      <td>...</td>\n",
       "      <td>NaN</td>\n",
       "      <td>0.770000</td>\n",
       "      <td>0.092773</td>\n",
       "      <td>67</td>\n",
       "      <td>2023-09-21</td>\n",
       "      <td>2023-09-21</td>\n",
       "      <td>2023-09-25 12:14:10</td>\n",
       "      <td>rotational modulation at 7-8 days may indicate...</td>\n",
       "      <td>283.536292</td>\n",
       "      <td>-36.656858</td>\n",
       "    </tr>\n",
       "  </tbody>\n",
       "</table>\n",
       "<p>6 rows × 64 columns</p>\n",
       "</div>"
      ],
      "text/plain": [
       "         TIC ID      TOI     Previous CTOI  Master  SG1A  SG1B  SG2  SG3  SG4  \\\n",
       "732   146520535   942.01               NaN       3     5     5    3    4    4   \n",
       "2902  330135981  3604.01               NaN       3     4     4    3    2    4   \n",
       "4902  308300731  5743.01               NaN       3     4     3    3    4    4   \n",
       "5099  236785891  5956.01  TIC 236785891.01       3     4     3    3    2    4   \n",
       "5389  435878153  6258.01               NaN       2     4     4    2    4    4   \n",
       "5806  253864764  6678.01               NaN       1     4     1    1    1    4   \n",
       "\n",
       "      SG5  ...  Stellar Metallicity err  Stellar Mass (M_Sun)  \\\n",
       "732     4  ...                      NaN              0.814000   \n",
       "2902    4  ...                      NaN                   NaN   \n",
       "4902    4  ...                      NaN              0.898000   \n",
       "5099    4  ...                      NaN              0.483975   \n",
       "5389    4  ...                      NaN              0.368918   \n",
       "5806    4  ...                      NaN              0.770000   \n",
       "\n",
       "      Stellar Mass (M_Sun) err      Sectors  Date TOI Alerted (UTC)  \\\n",
       "732                   0.097250            5              2019-07-24   \n",
       "2902                       NaN  16,17,56,57              2021-06-23   \n",
       "4902                  0.109025  26,53,79,80              2022-09-01   \n",
       "5099                  0.021842        56,57              2022-11-16   \n",
       "5389                  0.020209        17,57              2023-04-06   \n",
       "5806                  0.092773           67              2023-09-21   \n",
       "\n",
       "      Date TOI Updated (UTC)        Date Modified  \\\n",
       "732               2020-05-20  2022-12-14 12:09:24   \n",
       "2902              2023-02-01  2023-04-17 12:02:58   \n",
       "4902              2024-08-25  2024-08-26 00:00:00   \n",
       "5099              2023-02-03  2023-08-10 00:00:00   \n",
       "5389              2023-04-06  2024-02-23 00:00:00   \n",
       "5806              2023-09-21  2023-09-25 12:14:10   \n",
       "\n",
       "                                               Comments      ra_deg    dec_deg  \n",
       "732   Probable young K dwarf. Transit is believable ...   76.649625 -20.245614  \n",
       "2902  V-shaped; found in faint-star QLP search; no s...  333.501042  56.918981  \n",
       "4902  radius possibly underestimated; potentially yo...  267.904333  24.427456  \n",
       "5099  V-shaped; large; young host star; ~5 sigma odd...  283.317250  59.817658  \n",
       "5389  low SNR; asymmetric transit shape; flaring pos...   13.085375  20.938875  \n",
       "5806  rotational modulation at 7-8 days may indicate...  283.536292 -36.656858  \n",
       "\n",
       "[6 rows x 64 columns]"
      ]
     },
     "execution_count": 24,
     "metadata": {},
     "output_type": "execute_result"
    }
   ],
   "source": [
    "tois[tois.Comments.apply(lambda x: 'young' in str(x))]"
   ]
  },
  {
   "cell_type": "code",
   "execution_count": 5,
   "id": "3c4f3856-c1ad-47f1-ace9-eb7f1d51e5df",
   "metadata": {},
   "outputs": [
    {
     "data": {
      "text/plain": [
       "(6160, 64)"
      ]
     },
     "execution_count": 5,
     "metadata": {},
     "output_type": "execute_result"
    }
   ],
   "source": [
    "tois.shape"
   ]
  },
  {
   "cell_type": "markdown",
   "id": "0c3123a7-1aaa-4df4-abc4-46b9f7021df4",
   "metadata": {},
   "source": [
    "# cross-match/query TOI info from exofop"
   ]
  },
  {
   "cell_type": "markdown",
   "id": "dacfee84-3bcb-466a-9a44-aef2f79e0d2f",
   "metadata": {},
   "source": [
    "* CAUTION: might hit rate limit set by exofop"
   ]
  },
  {
   "cell_type": "code",
   "execution_count": 4,
   "id": "1d82eb6e-c8b2-4052-a1dc-5b4e14b72997",
   "metadata": {},
   "outputs": [
    {
     "data": {
      "text/plain": [
       "{'tic_id': '4070275',\n",
       " 'star_names': 'TIC 4070275, 2MASS J05201599-0414220, APASS 757852, Gaia DR2 3210444215030339584, TOI-4364, UCAC4 429-009115, WISE J052016.03-041421.5',\n",
       " 'confirmed_planets': '',\n",
       " 'k2_campaign': '',\n",
       " 'tic_contamination_ratio': '0.165363'}"
      ]
     },
     "execution_count": 4,
     "metadata": {},
     "output_type": "execute_result"
    }
   ],
   "source": [
    "from catalog import get_tfop_info, get_params_from_tfop\n",
    "\n",
    "tfop_info = get_tfop_info(\"TOI-4364\")\n",
    "tfop_info['basic_info']"
   ]
  },
  {
   "cell_type": "code",
   "execution_count": 16,
   "id": "4f2875f4-ff4f-4a9d-8ac1-0651f554aa68",
   "metadata": {},
   "outputs": [],
   "source": [
    "def get_gaiaid(tfop_info):\n",
    "    names = tfop_info['basic_info'].get('star_names').split(', ')\n",
    "    try:\n",
    "        gaia = [i for i in names if i[:4]=='Gaia']\n",
    "        return int(gaia[0].split()[-1])\n",
    "    except Exception as e:\n",
    "        print(e)"
   ]
  },
  {
   "cell_type": "code",
   "execution_count": 15,
   "id": "b71ade9f-9a94-4743-89aa-5dcacaeee3b6",
   "metadata": {},
   "outputs": [
    {
     "data": {
      "text/plain": [
       "3210444215030339584"
      ]
     },
     "execution_count": 15,
     "metadata": {},
     "output_type": "execute_result"
    }
   ],
   "source": [
    "get_gaiaid(tfop_info)"
   ]
  },
  {
   "cell_type": "markdown",
   "id": "823671b9-cbfb-48c7-84be-90a1fdad0f95",
   "metadata": {},
   "source": [
    "# cross-match with vizier"
   ]
  },
  {
   "cell_type": "markdown",
   "id": "6a71b774-bd60-4eb0-8546-4b3d240dfc6d",
   "metadata": {},
   "source": [
    "* possibly limit is not as strict as in exofop server"
   ]
  },
  {
   "cell_type": "code",
   "execution_count": 49,
   "id": "10f60828-770f-43da-bbfd-3031ffb22974",
   "metadata": {},
   "outputs": [],
   "source": [
    "cols = ['ra_deg','dec_deg']\n",
    "toi_coords = tois[cols]"
   ]
  },
  {
   "cell_type": "code",
   "execution_count": 17,
   "id": "8eaee5f7-8d4a-4f01-babb-487529509753",
   "metadata": {},
   "outputs": [],
   "source": [
    "try:\n",
    "    import swifter\n",
    "except:\n",
    "    !{sys.executable} -m pip install swifter==1.3.4\n",
    "    import swifter\n",
    "assert swifter.__version__ == \"1.3.4\""
   ]
  },
  {
   "cell_type": "code",
   "execution_count": 59,
   "id": "5275cc94-ff61-4396-bf8a-cf6ff35ec703",
   "metadata": {},
   "outputs": [],
   "source": [
    "import warnings\n",
    "warnings.simplefilter(\"ignore\", category=\"UnitsWarning\")\n",
    "from catalog import Target\n",
    "\n",
    "class TargetWithProcessing(Target):\n",
    "    def process_target(self, catalog='GaiaDR3'):\n",
    "        # Perform the Vizier query and process results\n",
    "        res = self.query_vizier_param(catalog)\n",
    "        if len(set(res.values())) == 1:\n",
    "            return set(res.values()).pop()\n",
    "        return None  \n",
    " \n",
    "def get_GaiaDR3_id_from_vizier(df_coords, param='Gaia'):\n",
    "    return df_coords.apply(lambda coord: TargetWithProcessing(*coord, verbose=False).process_target(), axis=1)"
   ]
  },
  {
   "cell_type": "raw",
   "id": "74a22022-14a5-4bd8-9ee4-e36bc9af40ac",
   "metadata": {},
   "source": [
    "#test\n",
    "get_GaiaDR3_id_from_vizier(toi_coords.iloc[:10])"
   ]
  },
  {
   "cell_type": "code",
   "execution_count": null,
   "id": "6add415c-d18c-4c3e-8065-423a33a988f1",
   "metadata": {
    "scrolled": true
   },
   "outputs": [],
   "source": [
    "tois['GaiaDR3_vizier'] = get_GaiaDR3_id_from_vizier(toi_coords)"
   ]
  },
  {
   "cell_type": "markdown",
   "id": "b22d725a-d507-42bf-b8c2-443d72721413",
   "metadata": {},
   "source": [
    "# cross-match with exofop"
   ]
  },
  {
   "cell_type": "code",
   "execution_count": null,
   "id": "31e7892d-aac4-4659-9875-b3ac9e734da7",
   "metadata": {},
   "outputs": [],
   "source": [
    "def get_GaiaDR3_id_from_exofop(df_coords, param='Gaia', key='I/355/gaiadr3'):\n",
    "    \"\"\"try key='I/345/gaia2'\n",
    "    \"\"\"\n",
    "    return df_coords.swifter.apply(lambda coord: Target(*coord, verbose=False)\\\n",
    "            .query_vizier_param(param)\\\n",
    "            .get(key), axis=1)"
   ]
  },
  {
   "cell_type": "code",
   "execution_count": null,
   "id": "45bc7321-525d-43e2-a31e-a7e046b69802",
   "metadata": {},
   "outputs": [],
   "source": [
    "tois['GaiaDR3_exofop'] = get_GaiaDR3_id_from_exofop(toi_coords)"
   ]
  },
  {
   "cell_type": "code",
   "execution_count": 11,
   "id": "761ae181-5d77-4e3e-be55-c1fd9b2f6e56",
   "metadata": {},
   "outputs": [
    {
     "name": "stderr",
     "output_type": "stream",
     "text": [
      "/tmp/ipykernel_3827076/3963823051.py:1: SettingWithCopyWarning: \n",
      "A value is trying to be set on a copy of a slice from a DataFrame.\n",
      "Try using .loc[row_indexer,col_indexer] = value instead\n",
      "\n",
      "See the caveats in the documentation: https://pandas.pydata.org/pandas-docs/stable/user_guide/indexing.html#returning-a-view-versus-a-copy\n",
      "  matches['GaiaDR3'] = matches['DR3Name'].apply(lambda x: int(x.split()[-1]))\n"
     ]
    }
   ],
   "source": [
    "tois.to_csv('../data/TOIs2.csv', index=False)"
   ]
  }
 ],
 "metadata": {
  "kernelspec": {
   "display_name": "wakai",
   "language": "python",
   "name": "wakai"
  },
  "language_info": {
   "codemirror_mode": {
    "name": "ipython",
    "version": 3
   },
   "file_extension": ".py",
   "mimetype": "text/x-python",
   "name": "python",
   "nbconvert_exporter": "python",
   "pygments_lexer": "ipython3",
   "version": "3.12.4"
  },
  "toc": {
   "base_numbering": 1,
   "nav_menu": {},
   "number_sections": true,
   "sideBar": true,
   "skip_h1_title": false,
   "title_cell": "Table of Contents",
   "title_sidebar": "Contents",
   "toc_cell": false,
   "toc_position": {},
   "toc_section_display": true,
   "toc_window_display": false
  }
 },
 "nbformat": 4,
 "nbformat_minor": 5
}
