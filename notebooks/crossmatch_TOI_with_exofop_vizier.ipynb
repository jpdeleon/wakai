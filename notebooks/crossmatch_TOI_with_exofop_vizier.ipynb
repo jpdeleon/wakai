{
 "cells": [
  {
   "cell_type": "markdown",
   "id": "25ec41de-2ce2-41f8-bd6b-81a7aff4027c",
   "metadata": {},
   "source": [
    "* `crossmatch_TOI_with_GaiaDR3.ipynb` attempts to cross-match based on position and magnitude difference.\n",
    "* here result of previous cross-match from exofop or vizier is used"
   ]
  },
  {
   "cell_type": "markdown",
   "id": "c66b9b86-d53e-43b9-b1ee-d82455f49707",
   "metadata": {},
   "source": [
    "Last run: 241115"
   ]
  },
  {
   "cell_type": "code",
   "execution_count": 1,
   "id": "f7a75e69-0dde-44eb-aec1-5d87029c56a8",
   "metadata": {},
   "outputs": [
    {
     "name": "stdout",
     "output_type": "stream",
     "text": [
      "/ut3/jerome/miniconda3/envs/wakai/bin/python\n"
     ]
    }
   ],
   "source": [
    "import sys\n",
    "\n",
    "!which {sys.executable}"
   ]
  },
  {
   "cell_type": "code",
   "execution_count": 2,
   "id": "2a1c4fb8-c666-4d90-b602-4fe48f919025",
   "metadata": {},
   "outputs": [],
   "source": [
    "import sys\n",
    "sys.path.insert(0, '../code')"
   ]
  },
  {
   "cell_type": "markdown",
   "id": "d11d26d4-cebc-47df-b8f4-0e4803757712",
   "metadata": {},
   "source": [
    "# TOI catalog"
   ]
  },
  {
   "cell_type": "code",
   "execution_count": 22,
   "id": "f20862dd-31a3-4729-a31f-91d87de2f280",
   "metadata": {},
   "outputs": [
    {
     "data": {
      "text/plain": [
       "(6258, 66)"
      ]
     },
     "execution_count": 22,
     "metadata": {},
     "output_type": "execute_result"
    }
   ],
   "source": [
    "from catalog import get_tois\n",
    "\n",
    "tois = get_tois(clobber=False)\n",
    "tois.shape"
   ]
  },
  {
   "cell_type": "code",
   "execution_count": 24,
   "id": "7afb4ace-2171-4ee5-b3b9-8963692090e4",
   "metadata": {},
   "outputs": [
    {
     "data": {
      "text/html": [
       "<div>\n",
       "<style scoped>\n",
       "    .dataframe tbody tr th:only-of-type {\n",
       "        vertical-align: middle;\n",
       "    }\n",
       "\n",
       "    .dataframe tbody tr th {\n",
       "        vertical-align: top;\n",
       "    }\n",
       "\n",
       "    .dataframe thead th {\n",
       "        text-align: right;\n",
       "    }\n",
       "</style>\n",
       "<table border=\"1\" class=\"dataframe\">\n",
       "  <thead>\n",
       "    <tr style=\"text-align: right;\">\n",
       "      <th></th>\n",
       "      <th>TIC ID</th>\n",
       "      <th>TOI</th>\n",
       "      <th>Previous CTOI</th>\n",
       "      <th>Master</th>\n",
       "      <th>SG1A</th>\n",
       "      <th>SG1B</th>\n",
       "      <th>SG2</th>\n",
       "      <th>SG3</th>\n",
       "      <th>SG4</th>\n",
       "      <th>SG5</th>\n",
       "      <th>...</th>\n",
       "      <th>Stellar Mass (M_Sun) err</th>\n",
       "      <th>Sectors</th>\n",
       "      <th>Date TOI Alerted (UTC)</th>\n",
       "      <th>Date TOI Updated (UTC)</th>\n",
       "      <th>Date Modified</th>\n",
       "      <th>Comments</th>\n",
       "      <th>ra_deg</th>\n",
       "      <th>dec_deg</th>\n",
       "      <th>GaiaDR3_exofop</th>\n",
       "      <th>GaiaDR3_vizier</th>\n",
       "    </tr>\n",
       "  </thead>\n",
       "  <tbody>\n",
       "    <tr>\n",
       "      <th>7336</th>\n",
       "      <td>444159424</td>\n",
       "      <td>7159.01</td>\n",
       "      <td>NaN</td>\n",
       "      <td>3</td>\n",
       "      <td>4</td>\n",
       "      <td>3</td>\n",
       "      <td>3</td>\n",
       "      <td>1</td>\n",
       "      <td>4</td>\n",
       "      <td>4</td>\n",
       "      <td>...</td>\n",
       "      <td>NaN</td>\n",
       "      <td>16,17,57,77</td>\n",
       "      <td>2024-10-24</td>\n",
       "      <td>2024-10-23</td>\n",
       "      <td>2024-11-13 12:03:06</td>\n",
       "      <td>found in faint-star QLP search</td>\n",
       "      <td>342.520542</td>\n",
       "      <td>58.906175</td>\n",
       "      <td>NaN</td>\n",
       "      <td>NaN</td>\n",
       "    </tr>\n",
       "    <tr>\n",
       "      <th>7337</th>\n",
       "      <td>154264903</td>\n",
       "      <td>7160.01</td>\n",
       "      <td>NaN</td>\n",
       "      <td>3</td>\n",
       "      <td>4</td>\n",
       "      <td>3</td>\n",
       "      <td>3</td>\n",
       "      <td>1</td>\n",
       "      <td>4</td>\n",
       "      <td>4</td>\n",
       "      <td>...</td>\n",
       "      <td>NaN</td>\n",
       "      <td>16,17,56,57,76,77</td>\n",
       "      <td>2024-10-24</td>\n",
       "      <td>2024-10-23</td>\n",
       "      <td>2024-11-13 12:03:04</td>\n",
       "      <td>found in faint-star QLP search</td>\n",
       "      <td>342.052250</td>\n",
       "      <td>47.170483</td>\n",
       "      <td>NaN</td>\n",
       "      <td>NaN</td>\n",
       "    </tr>\n",
       "    <tr>\n",
       "      <th>7338</th>\n",
       "      <td>415461195</td>\n",
       "      <td>7161.01</td>\n",
       "      <td>NaN</td>\n",
       "      <td>3</td>\n",
       "      <td>4</td>\n",
       "      <td>3</td>\n",
       "      <td>3</td>\n",
       "      <td>1</td>\n",
       "      <td>4</td>\n",
       "      <td>4</td>\n",
       "      <td>...</td>\n",
       "      <td>NaN</td>\n",
       "      <td>16,17,57,76,77</td>\n",
       "      <td>2024-10-24</td>\n",
       "      <td>2024-10-23</td>\n",
       "      <td>2024-11-13 12:03:08</td>\n",
       "      <td>found in faint-star QLP search</td>\n",
       "      <td>337.314042</td>\n",
       "      <td>56.014714</td>\n",
       "      <td>NaN</td>\n",
       "      <td>NaN</td>\n",
       "    </tr>\n",
       "    <tr>\n",
       "      <th>7339</th>\n",
       "      <td>341005781</td>\n",
       "      <td>7162.01</td>\n",
       "      <td>NaN</td>\n",
       "      <td>3</td>\n",
       "      <td>4</td>\n",
       "      <td>3</td>\n",
       "      <td>3</td>\n",
       "      <td>1</td>\n",
       "      <td>4</td>\n",
       "      <td>4</td>\n",
       "      <td>...</td>\n",
       "      <td>0.028465</td>\n",
       "      <td>56,57,76,77</td>\n",
       "      <td>2024-10-24</td>\n",
       "      <td>2024-10-23</td>\n",
       "      <td>2024-11-13 12:03:04</td>\n",
       "      <td>found in faint-star QLP search</td>\n",
       "      <td>314.724625</td>\n",
       "      <td>59.595297</td>\n",
       "      <td>NaN</td>\n",
       "      <td>NaN</td>\n",
       "    </tr>\n",
       "    <tr>\n",
       "      <th>7340</th>\n",
       "      <td>343774169</td>\n",
       "      <td>7163.01</td>\n",
       "      <td>NaN</td>\n",
       "      <td>3</td>\n",
       "      <td>4</td>\n",
       "      <td>3</td>\n",
       "      <td>3</td>\n",
       "      <td>1</td>\n",
       "      <td>4</td>\n",
       "      <td>4</td>\n",
       "      <td>...</td>\n",
       "      <td>0.107367</td>\n",
       "      <td>16,17,57,77</td>\n",
       "      <td>2024-10-24</td>\n",
       "      <td>2024-10-23</td>\n",
       "      <td>2024-11-13 12:03:09</td>\n",
       "      <td>found in faint-star QLP search</td>\n",
       "      <td>341.716958</td>\n",
       "      <td>54.011836</td>\n",
       "      <td>NaN</td>\n",
       "      <td>NaN</td>\n",
       "    </tr>\n",
       "  </tbody>\n",
       "</table>\n",
       "<p>5 rows × 66 columns</p>\n",
       "</div>"
      ],
      "text/plain": [
       "         TIC ID      TOI Previous CTOI  Master  SG1A  SG1B  SG2  SG3  SG4  \\\n",
       "7336  444159424  7159.01           NaN       3     4     3    3    1    4   \n",
       "7337  154264903  7160.01           NaN       3     4     3    3    1    4   \n",
       "7338  415461195  7161.01           NaN       3     4     3    3    1    4   \n",
       "7339  341005781  7162.01           NaN       3     4     3    3    1    4   \n",
       "7340  343774169  7163.01           NaN       3     4     3    3    1    4   \n",
       "\n",
       "      SG5  ...  Stellar Mass (M_Sun) err            Sectors  \\\n",
       "7336    4  ...                       NaN        16,17,57,77   \n",
       "7337    4  ...                       NaN  16,17,56,57,76,77   \n",
       "7338    4  ...                       NaN     16,17,57,76,77   \n",
       "7339    4  ...                  0.028465        56,57,76,77   \n",
       "7340    4  ...                  0.107367        16,17,57,77   \n",
       "\n",
       "      Date TOI Alerted (UTC)  Date TOI Updated (UTC)        Date Modified  \\\n",
       "7336              2024-10-24              2024-10-23  2024-11-13 12:03:06   \n",
       "7337              2024-10-24              2024-10-23  2024-11-13 12:03:04   \n",
       "7338              2024-10-24              2024-10-23  2024-11-13 12:03:08   \n",
       "7339              2024-10-24              2024-10-23  2024-11-13 12:03:04   \n",
       "7340              2024-10-24              2024-10-23  2024-11-13 12:03:09   \n",
       "\n",
       "                            Comments      ra_deg    dec_deg  GaiaDR3_exofop  \\\n",
       "7336  found in faint-star QLP search  342.520542  58.906175             NaN   \n",
       "7337  found in faint-star QLP search  342.052250  47.170483             NaN   \n",
       "7338  found in faint-star QLP search  337.314042  56.014714             NaN   \n",
       "7339  found in faint-star QLP search  314.724625  59.595297             NaN   \n",
       "7340  found in faint-star QLP search  341.716958  54.011836             NaN   \n",
       "\n",
       "      GaiaDR3_vizier  \n",
       "7336             NaN  \n",
       "7337             NaN  \n",
       "7338             NaN  \n",
       "7339             NaN  \n",
       "7340             NaN  \n",
       "\n",
       "[5 rows x 66 columns]"
      ]
     },
     "execution_count": 24,
     "metadata": {},
     "output_type": "execute_result"
    }
   ],
   "source": [
    "tois.tail()"
   ]
  },
  {
   "cell_type": "raw",
   "id": "5f870654-d7dc-4cf5-b2a4-7f2a5f3c8f08",
   "metadata": {},
   "source": [
    "tois.columns.tolist()"
   ]
  },
  {
   "cell_type": "raw",
   "id": "126252f2-60ef-4745-bf26-42babf5433a1",
   "metadata": {},
   "source": [
    "tois[tois.Comments.apply(lambda x: 'young' in str(x))]"
   ]
  },
  {
   "cell_type": "markdown",
   "id": "0c3123a7-1aaa-4df4-abc4-46b9f7021df4",
   "metadata": {},
   "source": [
    "# cross-match/query TOI info from exofop"
   ]
  },
  {
   "cell_type": "markdown",
   "id": "dacfee84-3bcb-466a-9a44-aef2f79e0d2f",
   "metadata": {},
   "source": [
    "* CAUTION: might hit rate limit set by exofop"
   ]
  },
  {
   "cell_type": "code",
   "execution_count": 5,
   "id": "1d82eb6e-c8b2-4052-a1dc-5b4e14b72997",
   "metadata": {},
   "outputs": [
    {
     "data": {
      "text/plain": [
       "{'tic_id': '4070275',\n",
       " 'star_names': 'TIC 4070275, 2MASS J05201599-0414220, APASS 757852, Gaia DR2 3210444215030339584, TOI-4364, UCAC4 429-009115, WISE J052016.03-041421.5',\n",
       " 'confirmed_planets': '',\n",
       " 'k2_campaign': '',\n",
       " 'tic_contamination_ratio': '0.165363'}"
      ]
     },
     "execution_count": 5,
     "metadata": {},
     "output_type": "execute_result"
    }
   ],
   "source": [
    "from catalog import get_tfop_info\n",
    "\n",
    "tfop_info = get_tfop_info(\"TOI-4364\")\n",
    "tfop_info['basic_info']"
   ]
  },
  {
   "cell_type": "code",
   "execution_count": 6,
   "id": "4f2875f4-ff4f-4a9d-8ac1-0651f554aa68",
   "metadata": {},
   "outputs": [],
   "source": [
    "import math\n",
    "import json\n",
    "from urllib.request import urlopen\n",
    "from tqdm import tqdm\n",
    "\n",
    "def get_tfop_info(target_name: str) -> dict:\n",
    "    base_url = \"https://exofop.ipac.caltech.edu/tess\"\n",
    "    url = f\"{base_url}/target.php?id={target_name.replace(' ','')}&json\"\n",
    "    response = urlopen(url)\n",
    "    assert response.code == 200, \"Failed to get data from ExoFOP-TESS\"\n",
    "    try:\n",
    "        data_json = json.loads(response.read())\n",
    "        return data_json\n",
    "    except Exception:\n",
    "        #raise ValueError(f\"No TIC data found for {target_name}\")\n",
    "        return\n",
    "        \n",
    "def get_GaiaDR2_id_from_exofop(tfop_info):\n",
    "    \"\"\"Do not use swifter\n",
    "    \"\"\"\n",
    "    if tfop_info:\n",
    "        try:\n",
    "            names = tfop_info['basic_info'].get('star_names').split(', ')\n",
    "            gaia = [i for i in names if i[:4]=='Gaia']\n",
    "            if len(gaia)>0:\n",
    "                return int(gaia[0].split()[-1])\n",
    "        except Exception as e:\n",
    "            print(e)\n",
    "            return None\n",
    "\n",
    "def update_toi_GaiaDR2_exofop(tois):\n",
    "    for i,row in tqdm(tois.iterrows()):\n",
    "        if math.isnan(row['GaiaDR3_exofop']):\n",
    "            tfop_info = get_tfop_info(f\"TIC {row['TIC ID']}\")\n",
    "            tois.loc[i,'GaiaDR3_exofop'] = get_GaiaDR2_id_from_exofop(tfop_info)\n",
    "    return tois"
   ]
  },
  {
   "cell_type": "code",
   "execution_count": 7,
   "id": "ba727566-7dfd-483e-85e2-f747d5f44a63",
   "metadata": {},
   "outputs": [
    {
     "name": "stderr",
     "output_type": "stream",
     "text": [
      "5188it [01:51, 38.63it/s]"
     ]
    },
    {
     "name": "stdout",
     "output_type": "stream",
     "text": [
      "invalid literal for int() with base 10: 'Gaia-2'\n"
     ]
    },
    {
     "name": "stderr",
     "output_type": "stream",
     "text": [
      "6258it [09:25, 11.07it/s]\n"
     ]
    }
   ],
   "source": [
    "tois = update_toi_GaiaDR2_exofop(tois)"
   ]
  },
  {
   "cell_type": "raw",
   "id": "edfe5956-b177-4093-8af3-62cb61648554",
   "metadata": {},
   "source": [
    "#test\n",
    "tois['TIC ID'][-5:].apply(lambda x: f'TIC-{x}').apply(lambda x: get_GaiaDR2_id_from_exofop(x))"
   ]
  },
  {
   "cell_type": "raw",
   "id": "b4a3d0c8-516f-4638-badd-890beca8bd49",
   "metadata": {},
   "source": [
    "#run\n",
    "tois['GaiaDR3_exofop'] = tois['TIC ID'].apply(lambda x: f'TIC-{x}').apply(lambda x: get_GaiaDR2_id_from_exofop(x))"
   ]
  },
  {
   "cell_type": "markdown",
   "id": "823671b9-cbfb-48c7-84be-90a1fdad0f95",
   "metadata": {},
   "source": [
    "# cross-match with vizier"
   ]
  },
  {
   "cell_type": "markdown",
   "id": "6a71b774-bd60-4eb0-8546-4b3d240dfc6d",
   "metadata": {},
   "source": [
    "* possibly limit is not as strict as in exofop server"
   ]
  },
  {
   "cell_type": "code",
   "execution_count": 13,
   "id": "8eaee5f7-8d4a-4f01-babb-487529509753",
   "metadata": {},
   "outputs": [],
   "source": [
    "try:\n",
    "    import swifter\n",
    "except:\n",
    "    !{sys.executable} -m pip install swifter==1.3.4\n",
    "    import swifter\n",
    "assert swifter.__version__ == \"1.3.4\""
   ]
  },
  {
   "cell_type": "code",
   "execution_count": 11,
   "id": "10f60828-770f-43da-bbfd-3031ffb22974",
   "metadata": {},
   "outputs": [],
   "source": [
    "cols = ['ra_deg','dec_deg']\n",
    "toi_coords = tois[cols]"
   ]
  },
  {
   "cell_type": "markdown",
   "id": "5261a159-9b70-4f44-8ffe-b9bee9a78578",
   "metadata": {},
   "source": [
    "## method 1"
   ]
  },
  {
   "cell_type": "code",
   "execution_count": 5,
   "id": "94e01992-3ff6-400e-b3b1-53edb6abcd9a",
   "metadata": {},
   "outputs": [],
   "source": [
    "import warnings\n",
    "warnings.simplefilter(\"ignore\", category=\"UnitsWarning\")\n",
    "from catalog import Target\n",
    "\n",
    "def get_GaiaDR3_id_from_vizier1(df_coords, param='Gaia', key='I/355/gaiadr3'):\n",
    "    \"\"\"\n",
    "    Get Gaia ID by specifying catalog source using `key`.\n",
    "    Try also key='I/345/gaia2'.\n",
    "\n",
    "    Does not necessarily have GaiaDR3 entry.\n",
    "    \"\"\"\n",
    "    return df_coords.swifter.apply(lambda coord: Target(*coord, verbose=False)\\\n",
    "            .query_vizier_param(param)\\\n",
    "            .get(key), axis=1)\n",
    "\n",
    "def update_toi_GaiaDR2_vizier(tois):\n",
    "    for i,row in tqdm(tois.iterrows()):\n",
    "        if math.isnan(row['GaiaDR3_vizier']):\n",
    "            tois.loc[i,'GaiaDR3_vizier'] = Target(row.ra_deg, row.dec_deg, verbose=False)\\\n",
    "            .query_vizier_param(param)\\\n",
    "            .get(key)\n",
    "    return tois"
   ]
  },
  {
   "cell_type": "raw",
   "id": "b2587c71-f1f6-455d-b249-239b62fa2fb9",
   "metadata": {},
   "source": [
    "#test: not published so it results to None\n",
    "get_GaiaDR3_id_from_vizier1(toi_coords[:5])"
   ]
  },
  {
   "cell_type": "raw",
   "id": "081c8834-406d-47fd-9ec3-a027fc12e592",
   "metadata": {},
   "source": [
    "#run\n",
    "tois['GaiaDR3_vizier1'] = get_GaiaDR3_id_from_vizier1(toi_coords)"
   ]
  },
  {
   "cell_type": "markdown",
   "id": "0b5f902d-bda0-4bd1-a744-753a3f920847",
   "metadata": {},
   "source": [
    "## method 2 (recommended)"
   ]
  },
  {
   "cell_type": "code",
   "execution_count": 10,
   "id": "5275cc94-ff61-4396-bf8a-cf6ff35ec703",
   "metadata": {},
   "outputs": [],
   "source": [
    "import warnings\n",
    "warnings.simplefilter(\"ignore\", category=\"UnitsWarning\")\n",
    "from catalog import Target\n",
    "\n",
    "class TargetWithProcessing(Target):\n",
    "    def process_target(self, param='GaiaDR3'):\n",
    "        # Perform the Vizier query and process results\n",
    "        try:\n",
    "            res = self.query_vizier_param(param)\n",
    "            if res:\n",
    "                return set(res.values()).pop()\n",
    "            return None\n",
    "        except Exception as e:\n",
    "            print(e)\n",
    "            return None\n",
    "\n",
    "def get_GaiaDR3_id_from_vizier2(df_coords):\n",
    "    \"\"\"\n",
    "    Get Gaia ID without specifying catalog source.\n",
    "    Just get the unique set from potentially multiple sources.\n",
    "\n",
    "    Not good if TOI is unpublished.\n",
    "    \"\"\"\n",
    "    return df_coords.swifter.apply(lambda coord: TargetWithProcessing(*coord, verbose=False)\\\n",
    "            .process_target(), axis=1)\n",
    "\n",
    "def update_toi_GaiaDR2_vizier(tois):\n",
    "    for i,row in tqdm(tois.iterrows()):\n",
    "        if math.isnan(row['GaiaDR3_vizier']):\n",
    "            gaiaid = TargetWithProcessing(row.ra_deg, row.dec_deg, verbose=False)\\\n",
    "                .process_target(param='GaiaDR3')\n",
    "            # edit in place\n",
    "            tois.loc[i,'GaiaDR3_vizier'] = gaiaid\n",
    "    return tois"
   ]
  },
  {
   "cell_type": "code",
   "execution_count": null,
   "id": "01c10d91-a561-4c5e-8135-4aef7da2f30e",
   "metadata": {},
   "outputs": [],
   "source": [
    "tois = update_toi_GaiaDR2_vizier(tois)"
   ]
  },
  {
   "cell_type": "raw",
   "id": "8d4f5fa3-aefc-4cfb-a015-04e1f4158a1f",
   "metadata": {},
   "source": [
    "#test\n",
    "get_GaiaDR3_id_from_vizier2(toi_coords[:5])"
   ]
  },
  {
   "cell_type": "raw",
   "id": "3fe30061-fb0a-427e-b2ef-37814fb9c4db",
   "metadata": {},
   "source": [
    "#run\n",
    "tois['GaiaDR3_vizier'] = get_GaiaDR3_id_from_vizier2(toi_coords)\n",
    "tois['GaiaDR3_vizier'] = tois['GaiaDR3_vizier'].astype('Int64')"
   ]
  },
  {
   "cell_type": "raw",
   "id": "61449444-b90b-4b88-8eca-8d89a4ae38ac",
   "metadata": {},
   "source": [
    "tois[['TOI','GaiaDR3_exofop','GaiaDR3_vizier']].to_csv('../data/TOIs_with_Gaiaid.csv', index=False)"
   ]
  },
  {
   "cell_type": "code",
   "execution_count": 15,
   "id": "608b047c-309c-4067-ab31-c8f7664aeee3",
   "metadata": {},
   "outputs": [],
   "source": [
    "tois.to_csv('../data/TOIs.csv', index=False)"
   ]
  },
  {
   "cell_type": "markdown",
   "id": "bc2402f2-c7e0-4168-8b94-e36100138554",
   "metadata": {},
   "source": [
    "# Comparison"
   ]
  },
  {
   "cell_type": "code",
   "execution_count": 16,
   "id": "8f15a3bf-6973-496f-a26c-fbe049e315ed",
   "metadata": {},
   "outputs": [
    {
     "data": {
      "text/plain": [
       "763"
      ]
     },
     "execution_count": 16,
     "metadata": {},
     "output_type": "execute_result"
    }
   ],
   "source": [
    "import pandas as pd\n",
    "\n",
    "tois = pd.read_csv('../data/TOIs.csv')\n",
    "#mismatch\n",
    "sum((tois['GaiaDR3_exofop']-tois['GaiaDR3_vizier'])!=0)"
   ]
  },
  {
   "cell_type": "code",
   "execution_count": 17,
   "id": "838b1605-2598-4375-830b-bba3284dbaa5",
   "metadata": {},
   "outputs": [
    {
     "data": {
      "text/html": [
       "<div>\n",
       "<style scoped>\n",
       "    .dataframe tbody tr th:only-of-type {\n",
       "        vertical-align: middle;\n",
       "    }\n",
       "\n",
       "    .dataframe tbody tr th {\n",
       "        vertical-align: top;\n",
       "    }\n",
       "\n",
       "    .dataframe thead th {\n",
       "        text-align: right;\n",
       "    }\n",
       "</style>\n",
       "<table border=\"1\" class=\"dataframe\">\n",
       "  <thead>\n",
       "    <tr style=\"text-align: right;\">\n",
       "      <th></th>\n",
       "      <th>angDist</th>\n",
       "      <th>TIC ID</th>\n",
       "      <th>TOI</th>\n",
       "      <th>Previous CTOI</th>\n",
       "      <th>Master</th>\n",
       "      <th>SG1A</th>\n",
       "      <th>SG1B</th>\n",
       "      <th>SG2</th>\n",
       "      <th>SG3</th>\n",
       "      <th>SG4</th>\n",
       "      <th>...</th>\n",
       "      <th>E(BP-RP)</th>\n",
       "      <th>b_E(BP-RP)</th>\n",
       "      <th>B_E(BP-RP)</th>\n",
       "      <th>Lib</th>\n",
       "      <th>RAJ2000</th>\n",
       "      <th>DEJ2000</th>\n",
       "      <th>e_RAJ2000</th>\n",
       "      <th>e_DEJ2000</th>\n",
       "      <th>RADEcorJ2000</th>\n",
       "      <th>GaiaDR3</th>\n",
       "    </tr>\n",
       "  </thead>\n",
       "  <tbody>\n",
       "    <tr>\n",
       "      <th>0</th>\n",
       "      <td>0.031583</td>\n",
       "      <td>231663901</td>\n",
       "      <td>101.01</td>\n",
       "      <td>NaN</td>\n",
       "      <td>5</td>\n",
       "      <td>5</td>\n",
       "      <td>5</td>\n",
       "      <td>5</td>\n",
       "      <td>5</td>\n",
       "      <td>5</td>\n",
       "      <td>...</td>\n",
       "      <td>0.0088</td>\n",
       "      <td>0.0015</td>\n",
       "      <td>0.0438</td>\n",
       "      <td>MARCS</td>\n",
       "      <td>318.736916</td>\n",
       "      <td>-55.871794</td>\n",
       "      <td>0.183824</td>\n",
       "      <td>0.186203</td>\n",
       "      <td>-0.0885</td>\n",
       "      <td>6462994429708755072</td>\n",
       "    </tr>\n",
       "    <tr>\n",
       "      <th>1</th>\n",
       "      <td>0.029564</td>\n",
       "      <td>149603524</td>\n",
       "      <td>102.01</td>\n",
       "      <td>NaN</td>\n",
       "      <td>5</td>\n",
       "      <td>5</td>\n",
       "      <td>5</td>\n",
       "      <td>5</td>\n",
       "      <td>5</td>\n",
       "      <td>5</td>\n",
       "      <td>...</td>\n",
       "      <td>0.0005</td>\n",
       "      <td>0.0001</td>\n",
       "      <td>0.0013</td>\n",
       "      <td>MARCS</td>\n",
       "      <td>87.139972</td>\n",
       "      <td>-63.988441</td>\n",
       "      <td>0.270854</td>\n",
       "      <td>0.243980</td>\n",
       "      <td>-0.2165</td>\n",
       "      <td>4756649415309914240</td>\n",
       "    </tr>\n",
       "    <tr>\n",
       "      <th>2</th>\n",
       "      <td>0.035823</td>\n",
       "      <td>336732616</td>\n",
       "      <td>103.01</td>\n",
       "      <td>NaN</td>\n",
       "      <td>5</td>\n",
       "      <td>5</td>\n",
       "      <td>5</td>\n",
       "      <td>5</td>\n",
       "      <td>5</td>\n",
       "      <td>5</td>\n",
       "      <td>...</td>\n",
       "      <td>0.0180</td>\n",
       "      <td>0.0144</td>\n",
       "      <td>0.0210</td>\n",
       "      <td>MARCS</td>\n",
       "      <td>312.457439</td>\n",
       "      <td>-24.428761</td>\n",
       "      <td>0.282852</td>\n",
       "      <td>0.230957</td>\n",
       "      <td>0.4094</td>\n",
       "      <td>6805886373600546176</td>\n",
       "    </tr>\n",
       "    <tr>\n",
       "      <th>3</th>\n",
       "      <td>0.016955</td>\n",
       "      <td>231670397</td>\n",
       "      <td>104.01</td>\n",
       "      <td>NaN</td>\n",
       "      <td>5</td>\n",
       "      <td>5</td>\n",
       "      <td>5</td>\n",
       "      <td>5</td>\n",
       "      <td>5</td>\n",
       "      <td>5</td>\n",
       "      <td>...</td>\n",
       "      <td>NaN</td>\n",
       "      <td>NaN</td>\n",
       "      <td>NaN</td>\n",
       "      <td>NaN</td>\n",
       "      <td>319.949611</td>\n",
       "      <td>-58.148887</td>\n",
       "      <td>0.213587</td>\n",
       "      <td>0.200585</td>\n",
       "      <td>-0.1912</td>\n",
       "      <td>6453566701615683456</td>\n",
       "    </tr>\n",
       "    <tr>\n",
       "      <th>4</th>\n",
       "      <td>0.024290</td>\n",
       "      <td>144065872</td>\n",
       "      <td>105.01</td>\n",
       "      <td>NaN</td>\n",
       "      <td>5</td>\n",
       "      <td>5</td>\n",
       "      <td>5</td>\n",
       "      <td>5</td>\n",
       "      <td>5</td>\n",
       "      <td>5</td>\n",
       "      <td>...</td>\n",
       "      <td>0.0174</td>\n",
       "      <td>0.0136</td>\n",
       "      <td>0.0234</td>\n",
       "      <td>MARCS</td>\n",
       "      <td>337.457231</td>\n",
       "      <td>-48.003069</td>\n",
       "      <td>0.180076</td>\n",
       "      <td>0.230102</td>\n",
       "      <td>0.1517</td>\n",
       "      <td>6518399301667782016</td>\n",
       "    </tr>\n",
       "  </tbody>\n",
       "</table>\n",
       "<p>5 rows × 205 columns</p>\n",
       "</div>"
      ],
      "text/plain": [
       "    angDist     TIC ID     TOI Previous CTOI  Master  SG1A  SG1B  SG2  SG3  \\\n",
       "0  0.031583  231663901  101.01           NaN       5     5     5    5    5   \n",
       "1  0.029564  149603524  102.01           NaN       5     5     5    5    5   \n",
       "2  0.035823  336732616  103.01           NaN       5     5     5    5    5   \n",
       "3  0.016955  231670397  104.01           NaN       5     5     5    5    5   \n",
       "4  0.024290  144065872  105.01           NaN       5     5     5    5    5   \n",
       "\n",
       "   SG4  ...  E(BP-RP)  b_E(BP-RP)  B_E(BP-RP)    Lib     RAJ2000    DEJ2000  \\\n",
       "0    5  ...    0.0088      0.0015      0.0438  MARCS  318.736916 -55.871794   \n",
       "1    5  ...    0.0005      0.0001      0.0013  MARCS   87.139972 -63.988441   \n",
       "2    5  ...    0.0180      0.0144      0.0210  MARCS  312.457439 -24.428761   \n",
       "3    5  ...       NaN         NaN         NaN    NaN  319.949611 -58.148887   \n",
       "4    5  ...    0.0174      0.0136      0.0234  MARCS  337.457231 -48.003069   \n",
       "\n",
       "   e_RAJ2000 e_DEJ2000 RADEcorJ2000              GaiaDR3  \n",
       "0   0.183824  0.186203      -0.0885  6462994429708755072  \n",
       "1   0.270854  0.243980      -0.2165  4756649415309914240  \n",
       "2   0.282852  0.230957       0.4094  6805886373600546176  \n",
       "3   0.213587  0.200585      -0.1912  6453566701615683456  \n",
       "4   0.180076  0.230102       0.1517  6518399301667782016  \n",
       "\n",
       "[5 rows x 205 columns]"
      ]
     },
     "execution_count": 17,
     "metadata": {},
     "output_type": "execute_result"
    }
   ],
   "source": [
    "import pandas as pd\n",
    "\n",
    "matches = pd.read_csv('../data/TOIs_GaiaDR3_xmatch.csv')\n",
    "matches.head()"
   ]
  },
  {
   "cell_type": "code",
   "execution_count": 18,
   "id": "d944c954-a9e8-42fd-93f7-e3b2fee63ee1",
   "metadata": {},
   "outputs": [
    {
     "data": {
      "text/plain": [
       "(7304, 5875, 6234)"
      ]
     },
     "execution_count": 18,
     "metadata": {},
     "output_type": "execute_result"
    }
   ],
   "source": [
    "import numpy as np\n",
    "\n",
    "np.sum(matches.GaiaDR3>0), np.sum(tois.GaiaDR3_vizier>0), np.sum(tois.GaiaDR3_exofop>0)"
   ]
  },
  {
   "cell_type": "code",
   "execution_count": 19,
   "id": "40701837-9537-4d61-9e33-da04e2f7d31c",
   "metadata": {},
   "outputs": [
    {
     "data": {
      "text/plain": [
       "(15, 66)"
      ]
     },
     "execution_count": 19,
     "metadata": {},
     "output_type": "execute_result"
    }
   ],
   "source": [
    "import pandas as pd\n",
    "\n",
    "tois_missing = pd.read_csv('../data/TOIs_GaiaDR3_xmatch_missing.csv')\n",
    "tois_missing.shape"
   ]
  },
  {
   "cell_type": "code",
   "execution_count": null,
   "id": "2382735a-3937-44ff-848b-384e7261c9ee",
   "metadata": {},
   "outputs": [],
   "source": []
  }
 ],
 "metadata": {
  "kernelspec": {
   "display_name": "wakai",
   "language": "python",
   "name": "wakai"
  },
  "language_info": {
   "codemirror_mode": {
    "name": "ipython",
    "version": 3
   },
   "file_extension": ".py",
   "mimetype": "text/x-python",
   "name": "python",
   "nbconvert_exporter": "python",
   "pygments_lexer": "ipython3",
   "version": "3.12.4"
  },
  "toc": {
   "base_numbering": 1,
   "nav_menu": {},
   "number_sections": true,
   "sideBar": true,
   "skip_h1_title": false,
   "title_cell": "Table of Contents",
   "title_sidebar": "Contents",
   "toc_cell": false,
   "toc_position": {},
   "toc_section_display": true,
   "toc_window_display": false
  }
 },
 "nbformat": 4,
 "nbformat_minor": 5
}
