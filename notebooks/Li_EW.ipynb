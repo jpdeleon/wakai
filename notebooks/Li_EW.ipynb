{
 "cells": [
  {
   "cell_type": "markdown",
   "metadata": {},
   "source": [
    "TODO: table for Li EW for published planets"
   ]
  },
  {
   "cell_type": "code",
   "execution_count": 2,
   "metadata": {},
   "outputs": [
    {
     "name": "stdout",
     "output_type": "stream",
     "text": [
      "Balmer Series (n_final = 2) Wavelengths (in nm):\n",
      "Transition from n=3 to n=1: 102.52 nm\n",
      "Transition from n=4 to n=1: 97.20 nm\n",
      "Transition from n=5 to n=1: 94.92 nm\n",
      "Transition from n=6 to n=1: 93.73 nm\n"
     ]
    }
   ],
   "source": [
    "import numpy as np\n",
    "\n",
    "# Constants\n",
    "R_H = 1.0973731568508e7  # Rydberg constant for hydrogen in m^-1\n",
    "c = 2.998e8              # Speed of light in m/s\n",
    "h = 6.626e-34            # Planck's constant in J*s\n",
    "eV = 1.602e-19           # Electron volt in Joules\n",
    "\n",
    "# Function to calculate the wavelength of the emission/absorption lines using Rydberg formula\n",
    "def calculate_wavelength(n_initial, n_final):\n",
    "    \"\"\"\n",
    "    Calculate the wavelength for transitions between two energy levels in hydrogen-like atoms.\n",
    "\n",
    "    Parameters:\n",
    "    n_initial (int): Principal quantum number of the initial state (higher energy level)\n",
    "    n_final (int): Principal quantum number of the final state (lower energy level)\n",
    "\n",
    "    Returns:\n",
    "    float: Wavelength in meters\n",
    "    \"\"\"\n",
    "    # Calculate the wavelength using the Rydberg formula\n",
    "    wavelength = 1 / (R_H * (1/n_final**2 - 1/n_initial**2))\n",
    "    return wavelength\n",
    "\n",
    "# Function to print wavelengths for the Balmer series (visible spectrum)\n",
    "def balmer_series(n_final=1):\n",
    "    \"\"\"\n",
    "    Print the wavelengths of the Balmer series for hydrogen, corresponding to transitions\n",
    "    from n = 3, 4, 5, 6... down to n = 2.\n",
    "    \"\"\"\n",
    "    print(\"Balmer Series (n_final = 2) Wavelengths (in nm):\")\n",
    "    for n_initial in range(3, 7):  # Calculating for n_initial = 3, 4, 5, 6\n",
    "        wavelength_m = calculate_wavelength(n_initial, n_final)\n",
    "        wavelength_nm = wavelength_m * 1e9  # Convert meters to nanometers\n",
    "        print(f\"Transition from n={n_initial} to n={n_final}: {wavelength_nm:.2f} nm\")\n",
    "\n",
    "balmer_series()"
   ]
  },
  {
   "cell_type": "markdown",
   "metadata": {},
   "source": [
    "# Li EW"
   ]
  },
  {
   "cell_type": "code",
   "execution_count": 1,
   "metadata": {
    "ExecuteTime": {
     "end_time": "2023-04-05T11:48:44.858071Z",
     "start_time": "2023-04-05T11:48:44.458411Z"
    }
   },
   "outputs": [],
   "source": [
    "# %load init_ipynb\n",
    "import os\n",
    "import sys\n",
    "import matplotlib.pyplot as pl\n",
    "\n",
    "sys.path.insert(0, '../code')\n",
    "assert os.environ[\"CONDA_DEFAULT_ENV\"] == 'wakai'\n",
    "\n",
    "plotpar = {'axes.labelsize': 16,\n",
    "           'font.size': 16,\n",
    "           'legend.fontsize': 16,\n",
    "           'xtick.labelsize': 16,\n",
    "           'ytick.labelsize': 16,\n",
    "           #'text.usetex': False,\n",
    "           'xtick.direction': 'in',\n",
    "           'ytick.direction': 'in'\n",
    "           }\n",
    "pl.rcParams.update(plotpar)\n"
   ]
  },
  {
   "cell_type": "markdown",
   "metadata": {},
   "source": [
    "## Stanford-Moore+2020 (field)"
   ]
  },
  {
   "cell_type": "code",
   "execution_count": 2,
   "metadata": {
    "ExecuteTime": {
     "end_time": "2023-04-05T11:49:03.202942Z",
     "start_time": "2023-04-05T11:49:02.046718Z"
    }
   },
   "outputs": [
    {
     "name": "stdout",
     "output_type": "stream",
     "text": [
      "Data url: https://vizier.u-strasbg.fr/viz-bin/VizieR?-source=J/ApJ/898/27\n",
      "Downloading all tables in J/ApJ/898/27 from vizier.\n",
      "{'J/ApJ/898/27/table2': 'BAFFLES ages for nearby stars'}\n"
     ]
    }
   ],
   "source": [
    "from catalog import CatalogDownloader\n",
    "\n",
    "cd = CatalogDownloader(catalog_name=\"Stanford-Moore2020\", catalog_type=\"LiEW\")\n",
    "tabs = cd.get_tables_from_vizier(row_limit=-1)"
   ]
  },
  {
   "cell_type": "code",
   "execution_count": 3,
   "metadata": {
    "ExecuteTime": {
     "end_time": "2023-04-05T11:49:03.280071Z",
     "start_time": "2023-04-05T11:49:03.205629Z"
    }
   },
   "outputs": [
    {
     "data": {
      "text/html": [
       "<div>\n",
       "<style scoped>\n",
       "    .dataframe tbody tr th:only-of-type {\n",
       "        vertical-align: middle;\n",
       "    }\n",
       "\n",
       "    .dataframe tbody tr th {\n",
       "        vertical-align: top;\n",
       "    }\n",
       "\n",
       "    .dataframe thead th {\n",
       "        text-align: right;\n",
       "    }\n",
       "</style>\n",
       "<table border=\"1\" class=\"dataframe\">\n",
       "  <thead>\n",
       "    <tr style=\"text-align: right;\">\n",
       "      <th></th>\n",
       "      <th>ID</th>\n",
       "      <th>RAJ2000</th>\n",
       "      <th>DEJ2000</th>\n",
       "      <th>SpType</th>\n",
       "      <th>B-V</th>\n",
       "      <th>logRHK</th>\n",
       "      <th>EW</th>\n",
       "      <th>Ref</th>\n",
       "      <th>_2.5Age1</th>\n",
       "      <th>_16Age1</th>\n",
       "      <th>...</th>\n",
       "      <th>_50Age2</th>\n",
       "      <th>_84Age2</th>\n",
       "      <th>_97.5Age2</th>\n",
       "      <th>_2.5AgeF</th>\n",
       "      <th>_16AgeF</th>\n",
       "      <th>_50AgeF</th>\n",
       "      <th>_84AgeF</th>\n",
       "      <th>_97.5AgeF</th>\n",
       "      <th>BVCat</th>\n",
       "      <th>SimbadName</th>\n",
       "    </tr>\n",
       "  </thead>\n",
       "  <tbody>\n",
       "    <tr>\n",
       "      <th>0</th>\n",
       "      <td>BD+35 5152</td>\n",
       "      <td>00 00 35.97</td>\n",
       "      <td>+36 40 07.56</td>\n",
       "      <td>G0</td>\n",
       "      <td>0.662</td>\n",
       "      <td>NaN</td>\n",
       "      <td>104.5</td>\n",
       "      <td>4</td>\n",
       "      <td>NaN</td>\n",
       "      <td>NaN</td>\n",
       "      <td>...</td>\n",
       "      <td>565.0</td>\n",
       "      <td>3160.0</td>\n",
       "      <td>10100.0</td>\n",
       "      <td>67.099998</td>\n",
       "      <td>209.0</td>\n",
       "      <td>565.0</td>\n",
       "      <td>3160.0</td>\n",
       "      <td>10100.0</td>\n",
       "      <td>1</td>\n",
       "      <td>BD+35 5152</td>\n",
       "    </tr>\n",
       "    <tr>\n",
       "      <th>1</th>\n",
       "      <td>HD 224783</td>\n",
       "      <td>00 00 38.12</td>\n",
       "      <td>-66 40 59.43</td>\n",
       "      <td>G2IV/V</td>\n",
       "      <td>0.551</td>\n",
       "      <td>-4.782</td>\n",
       "      <td>NaN</td>\n",
       "      <td>3</td>\n",
       "      <td>1110.0</td>\n",
       "      <td>2430.0</td>\n",
       "      <td>...</td>\n",
       "      <td>NaN</td>\n",
       "      <td>NaN</td>\n",
       "      <td>NaN</td>\n",
       "      <td>1110.000000</td>\n",
       "      <td>2430.0</td>\n",
       "      <td>4390.0</td>\n",
       "      <td>7730.0</td>\n",
       "      <td>11800.0</td>\n",
       "      <td>1</td>\n",
       "      <td>HD 224783</td>\n",
       "    </tr>\n",
       "    <tr>\n",
       "      <th>2</th>\n",
       "      <td>HD 224789</td>\n",
       "      <td>00 00 40.32</td>\n",
       "      <td>-69 40 33.48</td>\n",
       "      <td>K1V</td>\n",
       "      <td>0.863</td>\n",
       "      <td>-4.535</td>\n",
       "      <td>NaN</td>\n",
       "      <td>3</td>\n",
       "      <td>249.0</td>\n",
       "      <td>630.0</td>\n",
       "      <td>...</td>\n",
       "      <td>NaN</td>\n",
       "      <td>NaN</td>\n",
       "      <td>NaN</td>\n",
       "      <td>249.000000</td>\n",
       "      <td>630.0</td>\n",
       "      <td>1330.0</td>\n",
       "      <td>3510.0</td>\n",
       "      <td>9270.0</td>\n",
       "      <td>3</td>\n",
       "      <td>HD 224789</td>\n",
       "    </tr>\n",
       "    <tr>\n",
       "      <th>3</th>\n",
       "      <td>CCDM J00014+3937AB</td>\n",
       "      <td>00 01 23.66</td>\n",
       "      <td>+39 36 38.56</td>\n",
       "      <td>K0</td>\n",
       "      <td>0.822</td>\n",
       "      <td>NaN</td>\n",
       "      <td>24.4</td>\n",
       "      <td>4</td>\n",
       "      <td>NaN</td>\n",
       "      <td>NaN</td>\n",
       "      <td>...</td>\n",
       "      <td>1690.0</td>\n",
       "      <td>3640.0</td>\n",
       "      <td>6960.0</td>\n",
       "      <td>349.000000</td>\n",
       "      <td>637.0</td>\n",
       "      <td>1690.0</td>\n",
       "      <td>3640.0</td>\n",
       "      <td>6960.0</td>\n",
       "      <td>1</td>\n",
       "      <td>CCDM J00014+3937AB</td>\n",
       "    </tr>\n",
       "    <tr>\n",
       "      <th>4</th>\n",
       "      <td>* 85 Peg</td>\n",
       "      <td>00 02 10.34</td>\n",
       "      <td>+27 04 54.48</td>\n",
       "      <td>G5VbFe-2</td>\n",
       "      <td>0.670</td>\n",
       "      <td>-4.843</td>\n",
       "      <td>NaN</td>\n",
       "      <td>3</td>\n",
       "      <td>1510.0</td>\n",
       "      <td>3230.0</td>\n",
       "      <td>...</td>\n",
       "      <td>NaN</td>\n",
       "      <td>NaN</td>\n",
       "      <td>NaN</td>\n",
       "      <td>1510.000000</td>\n",
       "      <td>3230.0</td>\n",
       "      <td>5620.0</td>\n",
       "      <td>8900.0</td>\n",
       "      <td>12200.0</td>\n",
       "      <td>1</td>\n",
       "      <td>* 85 Peg</td>\n",
       "    </tr>\n",
       "    <tr>\n",
       "      <th>...</th>\n",
       "      <td>...</td>\n",
       "      <td>...</td>\n",
       "      <td>...</td>\n",
       "      <td>...</td>\n",
       "      <td>...</td>\n",
       "      <td>...</td>\n",
       "      <td>...</td>\n",
       "      <td>...</td>\n",
       "      <td>...</td>\n",
       "      <td>...</td>\n",
       "      <td>...</td>\n",
       "      <td>...</td>\n",
       "      <td>...</td>\n",
       "      <td>...</td>\n",
       "      <td>...</td>\n",
       "      <td>...</td>\n",
       "      <td>...</td>\n",
       "      <td>...</td>\n",
       "      <td>...</td>\n",
       "      <td>...</td>\n",
       "      <td>...</td>\n",
       "    </tr>\n",
       "    <tr>\n",
       "      <th>2625</th>\n",
       "      <td>HD 224449</td>\n",
       "      <td>23 58 02.83</td>\n",
       "      <td>-01 58 48.12</td>\n",
       "      <td>G5/6IV</td>\n",
       "      <td>0.723</td>\n",
       "      <td>-4.748</td>\n",
       "      <td>NaN</td>\n",
       "      <td>3</td>\n",
       "      <td>922.0</td>\n",
       "      <td>2050.0</td>\n",
       "      <td>...</td>\n",
       "      <td>NaN</td>\n",
       "      <td>NaN</td>\n",
       "      <td>NaN</td>\n",
       "      <td>922.000000</td>\n",
       "      <td>2050.0</td>\n",
       "      <td>3780.0</td>\n",
       "      <td>7060.0</td>\n",
       "      <td>11600.0</td>\n",
       "      <td>1</td>\n",
       "      <td>HD 224449</td>\n",
       "    </tr>\n",
       "    <tr>\n",
       "      <th>2626</th>\n",
       "      <td>HD 224538</td>\n",
       "      <td>23 58 51.76</td>\n",
       "      <td>-61 35 12.38</td>\n",
       "      <td>F8/G0IV/V</td>\n",
       "      <td>0.581</td>\n",
       "      <td>-4.882</td>\n",
       "      <td>NaN</td>\n",
       "      <td>3</td>\n",
       "      <td>1830.0</td>\n",
       "      <td>3840.0</td>\n",
       "      <td>...</td>\n",
       "      <td>NaN</td>\n",
       "      <td>NaN</td>\n",
       "      <td>NaN</td>\n",
       "      <td>1830.000000</td>\n",
       "      <td>3840.0</td>\n",
       "      <td>6520.0</td>\n",
       "      <td>9720.0</td>\n",
       "      <td>12400.0</td>\n",
       "      <td>2</td>\n",
       "      <td>HD 224538</td>\n",
       "    </tr>\n",
       "    <tr>\n",
       "      <th>2627</th>\n",
       "      <td>HD 224601</td>\n",
       "      <td>23 59 14.43</td>\n",
       "      <td>+43 51 48.61</td>\n",
       "      <td>F8</td>\n",
       "      <td>0.541</td>\n",
       "      <td>-4.869</td>\n",
       "      <td>NaN</td>\n",
       "      <td>3</td>\n",
       "      <td>1720.0</td>\n",
       "      <td>3630.0</td>\n",
       "      <td>...</td>\n",
       "      <td>NaN</td>\n",
       "      <td>NaN</td>\n",
       "      <td>NaN</td>\n",
       "      <td>1720.000000</td>\n",
       "      <td>3630.0</td>\n",
       "      <td>6210.0</td>\n",
       "      <td>9430.0</td>\n",
       "      <td>12300.0</td>\n",
       "      <td>1</td>\n",
       "      <td>HD 224601</td>\n",
       "    </tr>\n",
       "    <tr>\n",
       "      <th>2628</th>\n",
       "      <td>HD 224618</td>\n",
       "      <td>23 59 27.88</td>\n",
       "      <td>-16 56 40.93</td>\n",
       "      <td>K0V</td>\n",
       "      <td>0.730</td>\n",
       "      <td>-4.926</td>\n",
       "      <td>NaN</td>\n",
       "      <td>3</td>\n",
       "      <td>2220.0</td>\n",
       "      <td>4580.0</td>\n",
       "      <td>...</td>\n",
       "      <td>NaN</td>\n",
       "      <td>NaN</td>\n",
       "      <td>NaN</td>\n",
       "      <td>2220.000000</td>\n",
       "      <td>4580.0</td>\n",
       "      <td>7560.0</td>\n",
       "      <td>10700.0</td>\n",
       "      <td>12600.0</td>\n",
       "      <td>1</td>\n",
       "      <td>HD 224618</td>\n",
       "    </tr>\n",
       "    <tr>\n",
       "      <th>2629</th>\n",
       "      <td>HD 224693</td>\n",
       "      <td>23 59 53.83</td>\n",
       "      <td>-22 25 41.22</td>\n",
       "      <td>G2V</td>\n",
       "      <td>0.639</td>\n",
       "      <td>-4.995</td>\n",
       "      <td>NaN</td>\n",
       "      <td>3</td>\n",
       "      <td>2810.0</td>\n",
       "      <td>5670.0</td>\n",
       "      <td>...</td>\n",
       "      <td>NaN</td>\n",
       "      <td>NaN</td>\n",
       "      <td>NaN</td>\n",
       "      <td>2810.000000</td>\n",
       "      <td>5670.0</td>\n",
       "      <td>8910.0</td>\n",
       "      <td>11600.0</td>\n",
       "      <td>12800.0</td>\n",
       "      <td>1</td>\n",
       "      <td>HD 224693</td>\n",
       "    </tr>\n",
       "  </tbody>\n",
       "</table>\n",
       "<p>2630 rows × 25 columns</p>\n",
       "</div>"
      ],
      "text/plain": [
       "                      ID      RAJ2000       DEJ2000     SpType    B-V  logRHK  \\\n",
       "0             BD+35 5152  00 00 35.97  +36 40 07.56         G0  0.662     NaN   \n",
       "1              HD 224783  00 00 38.12  -66 40 59.43     G2IV/V  0.551  -4.782   \n",
       "2              HD 224789  00 00 40.32  -69 40 33.48        K1V  0.863  -4.535   \n",
       "3     CCDM J00014+3937AB  00 01 23.66  +39 36 38.56         K0  0.822     NaN   \n",
       "4               * 85 Peg  00 02 10.34  +27 04 54.48   G5VbFe-2  0.670  -4.843   \n",
       "...                  ...          ...           ...        ...    ...     ...   \n",
       "2625           HD 224449  23 58 02.83  -01 58 48.12     G5/6IV  0.723  -4.748   \n",
       "2626           HD 224538  23 58 51.76  -61 35 12.38  F8/G0IV/V  0.581  -4.882   \n",
       "2627           HD 224601  23 59 14.43  +43 51 48.61         F8  0.541  -4.869   \n",
       "2628           HD 224618  23 59 27.88  -16 56 40.93        K0V  0.730  -4.926   \n",
       "2629           HD 224693  23 59 53.83  -22 25 41.22        G2V  0.639  -4.995   \n",
       "\n",
       "         EW Ref  _2.5Age1  _16Age1  ...  _50Age2  _84Age2  _97.5Age2  \\\n",
       "0     104.5   4       NaN      NaN  ...    565.0   3160.0    10100.0   \n",
       "1       NaN   3    1110.0   2430.0  ...      NaN      NaN        NaN   \n",
       "2       NaN   3     249.0    630.0  ...      NaN      NaN        NaN   \n",
       "3      24.4   4       NaN      NaN  ...   1690.0   3640.0     6960.0   \n",
       "4       NaN   3    1510.0   3230.0  ...      NaN      NaN        NaN   \n",
       "...     ...  ..       ...      ...  ...      ...      ...        ...   \n",
       "2625    NaN   3     922.0   2050.0  ...      NaN      NaN        NaN   \n",
       "2626    NaN   3    1830.0   3840.0  ...      NaN      NaN        NaN   \n",
       "2627    NaN   3    1720.0   3630.0  ...      NaN      NaN        NaN   \n",
       "2628    NaN   3    2220.0   4580.0  ...      NaN      NaN        NaN   \n",
       "2629    NaN   3    2810.0   5670.0  ...      NaN      NaN        NaN   \n",
       "\n",
       "         _2.5AgeF  _16AgeF  _50AgeF  _84AgeF  _97.5AgeF  BVCat  \\\n",
       "0       67.099998    209.0    565.0   3160.0    10100.0      1   \n",
       "1     1110.000000   2430.0   4390.0   7730.0    11800.0      1   \n",
       "2      249.000000    630.0   1330.0   3510.0     9270.0      3   \n",
       "3      349.000000    637.0   1690.0   3640.0     6960.0      1   \n",
       "4     1510.000000   3230.0   5620.0   8900.0    12200.0      1   \n",
       "...           ...      ...      ...      ...        ...    ...   \n",
       "2625   922.000000   2050.0   3780.0   7060.0    11600.0      1   \n",
       "2626  1830.000000   3840.0   6520.0   9720.0    12400.0      2   \n",
       "2627  1720.000000   3630.0   6210.0   9430.0    12300.0      1   \n",
       "2628  2220.000000   4580.0   7560.0  10700.0    12600.0      1   \n",
       "2629  2810.000000   5670.0   8910.0  11600.0    12800.0      1   \n",
       "\n",
       "              SimbadName  \n",
       "0             BD+35 5152  \n",
       "1              HD 224783  \n",
       "2              HD 224789  \n",
       "3     CCDM J00014+3937AB  \n",
       "4               * 85 Peg  \n",
       "...                  ...  \n",
       "2625           HD 224449  \n",
       "2626           HD 224538  \n",
       "2627           HD 224601  \n",
       "2628           HD 224618  \n",
       "2629           HD 224693  \n",
       "\n",
       "[2630 rows x 25 columns]"
      ]
     },
     "execution_count": 3,
     "metadata": {},
     "output_type": "execute_result"
    }
   ],
   "source": [
    "df = tabs[0].to_pandas()\n",
    "df"
   ]
  },
  {
   "cell_type": "markdown",
   "metadata": {},
   "source": [
    "## Grandjean+2020, 21, 23 (field)\n",
    "* merge targets and query Li and/or logRHK from vizier because they are not included in the published table"
   ]
  },
  {
   "cell_type": "code",
   "execution_count": 6,
   "metadata": {
    "ExecuteTime": {
     "end_time": "2023-04-05T11:49:15.387174Z",
     "start_time": "2023-04-05T11:49:15.187428Z"
    }
   },
   "outputs": [],
   "source": [
    "from astroquery.vizier import Vizier\n",
    "import pandas as pd\n",
    "\n",
    "tables = {}\n",
    "for i, key in enumerate([\"J/A+A/669/A12\", \"J/A+A/650/A39\", \"J/A+A/633/A44\"]):\n",
    "    tabs = Vizier.get_catalogs(key)\n",
    "    tables[i] = tabs[0].to_pandas()"
   ]
  },
  {
   "cell_type": "code",
   "execution_count": 7,
   "metadata": {
    "ExecuteTime": {
     "end_time": "2023-04-05T11:49:15.786874Z",
     "start_time": "2023-04-05T11:49:15.751725Z"
    }
   },
   "outputs": [
    {
     "data": {
      "text/html": [
       "<div>\n",
       "<style scoped>\n",
       "    .dataframe tbody tr th:only-of-type {\n",
       "        vertical-align: middle;\n",
       "    }\n",
       "\n",
       "    .dataframe tbody tr th {\n",
       "        vertical-align: top;\n",
       "    }\n",
       "\n",
       "    .dataframe thead th {\n",
       "        text-align: right;\n",
       "    }\n",
       "</style>\n",
       "<table border=\"1\" class=\"dataframe\">\n",
       "  <thead>\n",
       "    <tr style=\"text-align: right;\">\n",
       "      <th></th>\n",
       "      <th>Name</th>\n",
       "      <th>RAJ2000</th>\n",
       "      <th>DEJ2000</th>\n",
       "      <th>Simbad</th>\n",
       "      <th>All</th>\n",
       "      <th>HIP</th>\n",
       "      <th>Inclusion</th>\n",
       "      <th>SpType</th>\n",
       "      <th>B-V</th>\n",
       "      <th>Mass</th>\n",
       "      <th>...</th>\n",
       "      <th>Age</th>\n",
       "      <th>e_Age</th>\n",
       "      <th>E_Age</th>\n",
       "      <th>r_Age</th>\n",
       "      <th>vsini</th>\n",
       "      <th>IR</th>\n",
       "      <th>r_IR</th>\n",
       "      <th>D</th>\n",
       "      <th>r_D</th>\n",
       "      <th>SimbadName</th>\n",
       "    </tr>\n",
       "  </thead>\n",
       "  <tbody>\n",
       "    <tr>\n",
       "      <th>207</th>\n",
       "      <td>HIP44722</td>\n",
       "      <td>09 06 45.3496</td>\n",
       "      <td>-08 48 24.611</td>\n",
       "      <td>Simbad</td>\n",
       "      <td>NaN</td>\n",
       "      <td>&lt;NA&gt;</td>\n",
       "      <td>NaN</td>\n",
       "      <td>NaN</td>\n",
       "      <td>NaN</td>\n",
       "      <td>NaN</td>\n",
       "      <td>...</td>\n",
       "      <td>&lt;NA&gt;</td>\n",
       "      <td>&lt;NA&gt;</td>\n",
       "      <td>&lt;NA&gt;</td>\n",
       "      <td>NaN</td>\n",
       "      <td>NaN</td>\n",
       "      <td>NaN</td>\n",
       "      <td>NaN</td>\n",
       "      <td>NaN</td>\n",
       "      <td>NaN</td>\n",
       "      <td>NaN</td>\n",
       "    </tr>\n",
       "    <tr>\n",
       "      <th>208</th>\n",
       "      <td>HIP46634</td>\n",
       "      <td>09 30 34.9989</td>\n",
       "      <td>+10 35 59.822</td>\n",
       "      <td>Simbad</td>\n",
       "      <td>NaN</td>\n",
       "      <td>&lt;NA&gt;</td>\n",
       "      <td>NaN</td>\n",
       "      <td>NaN</td>\n",
       "      <td>NaN</td>\n",
       "      <td>NaN</td>\n",
       "      <td>...</td>\n",
       "      <td>&lt;NA&gt;</td>\n",
       "      <td>&lt;NA&gt;</td>\n",
       "      <td>&lt;NA&gt;</td>\n",
       "      <td>NaN</td>\n",
       "      <td>NaN</td>\n",
       "      <td>NaN</td>\n",
       "      <td>NaN</td>\n",
       "      <td>NaN</td>\n",
       "      <td>NaN</td>\n",
       "      <td>NaN</td>\n",
       "    </tr>\n",
       "    <tr>\n",
       "      <th>209</th>\n",
       "      <td>HIP51317</td>\n",
       "      <td>10 28 55.5513</td>\n",
       "      <td>+00 50 27.601</td>\n",
       "      <td>Simbad</td>\n",
       "      <td>NaN</td>\n",
       "      <td>&lt;NA&gt;</td>\n",
       "      <td>NaN</td>\n",
       "      <td>NaN</td>\n",
       "      <td>NaN</td>\n",
       "      <td>NaN</td>\n",
       "      <td>...</td>\n",
       "      <td>&lt;NA&gt;</td>\n",
       "      <td>&lt;NA&gt;</td>\n",
       "      <td>&lt;NA&gt;</td>\n",
       "      <td>NaN</td>\n",
       "      <td>NaN</td>\n",
       "      <td>NaN</td>\n",
       "      <td>NaN</td>\n",
       "      <td>NaN</td>\n",
       "      <td>NaN</td>\n",
       "      <td>NaN</td>\n",
       "    </tr>\n",
       "    <tr>\n",
       "      <th>210</th>\n",
       "      <td>BD+20 2465</td>\n",
       "      <td>10 19 36.2808</td>\n",
       "      <td>+19 52 12.014</td>\n",
       "      <td>Simbad</td>\n",
       "      <td>NaN</td>\n",
       "      <td>&lt;NA&gt;</td>\n",
       "      <td>NaN</td>\n",
       "      <td>NaN</td>\n",
       "      <td>NaN</td>\n",
       "      <td>NaN</td>\n",
       "      <td>...</td>\n",
       "      <td>&lt;NA&gt;</td>\n",
       "      <td>&lt;NA&gt;</td>\n",
       "      <td>&lt;NA&gt;</td>\n",
       "      <td>NaN</td>\n",
       "      <td>NaN</td>\n",
       "      <td>NaN</td>\n",
       "      <td>NaN</td>\n",
       "      <td>NaN</td>\n",
       "      <td>NaN</td>\n",
       "      <td>NaN</td>\n",
       "    </tr>\n",
       "    <tr>\n",
       "      <th>211</th>\n",
       "      <td>CD-46 1064</td>\n",
       "      <td>03 30 49.1011</td>\n",
       "      <td>-45 55 57.364</td>\n",
       "      <td>Simbad</td>\n",
       "      <td>NaN</td>\n",
       "      <td>&lt;NA&gt;</td>\n",
       "      <td>NaN</td>\n",
       "      <td>NaN</td>\n",
       "      <td>NaN</td>\n",
       "      <td>NaN</td>\n",
       "      <td>...</td>\n",
       "      <td>&lt;NA&gt;</td>\n",
       "      <td>&lt;NA&gt;</td>\n",
       "      <td>&lt;NA&gt;</td>\n",
       "      <td>NaN</td>\n",
       "      <td>NaN</td>\n",
       "      <td>NaN</td>\n",
       "      <td>NaN</td>\n",
       "      <td>NaN</td>\n",
       "      <td>NaN</td>\n",
       "      <td>NaN</td>\n",
       "    </tr>\n",
       "  </tbody>\n",
       "</table>\n",
       "<p>5 rows × 21 columns</p>\n",
       "</div>"
      ],
      "text/plain": [
       "           Name        RAJ2000        DEJ2000  Simbad  All   HIP Inclusion  \\\n",
       "207    HIP44722  09 06 45.3496  -08 48 24.611  Simbad  NaN  <NA>       NaN   \n",
       "208    HIP46634  09 30 34.9989  +10 35 59.822  Simbad  NaN  <NA>       NaN   \n",
       "209    HIP51317  10 28 55.5513  +00 50 27.601  Simbad  NaN  <NA>       NaN   \n",
       "210  BD+20 2465  10 19 36.2808  +19 52 12.014  Simbad  NaN  <NA>       NaN   \n",
       "211  CD-46 1064  03 30 49.1011  -45 55 57.364  Simbad  NaN  <NA>       NaN   \n",
       "\n",
       "    SpType  B-V  Mass  ...   Age  e_Age  E_Age  r_Age vsini   IR r_IR    D  \\\n",
       "207    NaN  NaN   NaN  ...  <NA>   <NA>   <NA>    NaN   NaN  NaN  NaN  NaN   \n",
       "208    NaN  NaN   NaN  ...  <NA>   <NA>   <NA>    NaN   NaN  NaN  NaN  NaN   \n",
       "209    NaN  NaN   NaN  ...  <NA>   <NA>   <NA>    NaN   NaN  NaN  NaN  NaN   \n",
       "210    NaN  NaN   NaN  ...  <NA>   <NA>   <NA>    NaN   NaN  NaN  NaN  NaN   \n",
       "211    NaN  NaN   NaN  ...  <NA>   <NA>   <NA>    NaN   NaN  NaN  NaN  NaN   \n",
       "\n",
       "     r_D SimbadName  \n",
       "207  NaN        NaN  \n",
       "208  NaN        NaN  \n",
       "209  NaN        NaN  \n",
       "210  NaN        NaN  \n",
       "211  NaN        NaN  \n",
       "\n",
       "[5 rows x 21 columns]"
      ]
     },
     "execution_count": 7,
     "metadata": {},
     "output_type": "execute_result"
    }
   ],
   "source": [
    "df = pd.concat(tables).reset_index(drop=True)\n",
    "df.tail()"
   ]
  },
  {
   "cell_type": "code",
   "execution_count": 8,
   "metadata": {
    "ExecuteTime": {
     "end_time": "2023-04-05T11:51:30.960704Z",
     "start_time": "2023-04-05T11:49:16.976653Z"
    },
    "scrolled": true
   },
   "outputs": [
    {
     "name": "stderr",
     "output_type": "stream",
     "text": [
      "0it [00:00, ?it/s]WARNING: UnitsWarning: The unit 'a' has been deprecated in the VOUnit standard. Suggested: 365.25d. [astropy.units.format.utils]\n",
      "WARNING: UnitsWarning: The unit 'pix' has been deprecated in the VOUnit standard. [astropy.units.format.utils]\n",
      "WARNING: UnitsWarning: The unit 'ct' has been deprecated in the VOUnit standard. [astropy.units.format.utils]\n",
      "WARNING: UnitsWarning: Unit 'Sun' not supported by the VOUnit standard. Did you mean uN? [astropy.units.format.vounit]\n",
      "WARNING: UnitsWarning: Unit 'geoMass' not supported by the VOUnit standard. Did you mean EsolMass or GsolMass? [astropy.units.format.vounit]\n",
      "WARNING: UnitsWarning: Unit 'Earth' not supported by the VOUnit standard.  [astropy.units.format.vounit]\n",
      "WARNING: UnitsWarning: The unit 'au' has been deprecated in the VOUnit standard. Suggested: 1.4959787e+11m. [astropy.units.format.utils]\n",
      "WARNING: UnitsWarning: Unit 'Mjup' not supported by the VOUnit standard.  [astropy.units.format.vounit]\n",
      "WARNING: UnitsWarning: Unit 'al' not supported by the VOUnit standard. Did you mean alm or alx? [astropy.units.format.vounit]\n",
      "/tmp/ipykernel_15370/3471364870.py:19: RuntimeWarning: Mean of empty slice\n",
      "  v = np.nanmean(list(p.values()))\n",
      "/tmp/ipykernel_15370/3471364870.py:21: FutureWarning: The frame.append method is deprecated and will be removed from pandas in a future version. Use pandas.concat instead.\n",
      "  data = data.append(d, ignore_index=True)\n",
      "1it [00:01,  1.14s/it]"
     ]
    },
    {
     "name": "stdout",
     "output_type": "stream",
     "text": [
      "Found 12 references in Vizier with `B-V`.\n",
      "Found 0 references in Vizier with `log_R_HK_`.\n",
      "Found 0 references in Vizier with `EWLi`.\n"
     ]
    },
    {
     "name": "stderr",
     "output_type": "stream",
     "text": [
      "WARNING: UnitsWarning: The unit 'a' has been deprecated in the VOUnit standard. Suggested: 365.25d. [astropy.units.format.utils]\n",
      "WARNING: UnitsWarning: The unit 'pix' has been deprecated in the VOUnit standard. [astropy.units.format.utils]\n",
      "WARNING: UnitsWarning: The unit 'ct' has been deprecated in the VOUnit standard. [astropy.units.format.utils]\n",
      "WARNING: UnitsWarning: Unit 'Sun' not supported by the VOUnit standard. Did you mean uN? [astropy.units.format.vounit]\n",
      "WARNING: UnitsWarning: The unit 'au' has been deprecated in the VOUnit standard. Suggested: 1.4959787e+11m. [astropy.units.format.utils]\n",
      "WARNING: UnitsWarning: Unit 'Mjup' not supported by the VOUnit standard.  [astropy.units.format.vounit]\n",
      "/tmp/ipykernel_15370/3471364870.py:19: RuntimeWarning: Mean of empty slice\n",
      "  v = np.nanmean(list(p.values()))\n",
      "/tmp/ipykernel_15370/3471364870.py:21: FutureWarning: The frame.append method is deprecated and will be removed from pandas in a future version. Use pandas.concat instead.\n",
      "  data = data.append(d, ignore_index=True)\n",
      "2it [00:02,  1.01s/it]"
     ]
    },
    {
     "name": "stdout",
     "output_type": "stream",
     "text": [
      "Found 8 references in Vizier with `B-V`.\n",
      "Found 0 references in Vizier with `log_R_HK_`.\n",
      "Found 0 references in Vizier with `EWLi`.\n"
     ]
    },
    {
     "name": "stderr",
     "output_type": "stream",
     "text": [
      "WARNING: UnitsWarning: The unit 'a' has been deprecated in the VOUnit standard. Suggested: 365.25d. [astropy.units.format.utils]\n",
      "WARNING: UnitsWarning: The unit 'pix' has been deprecated in the VOUnit standard. [astropy.units.format.utils]\n",
      "WARNING: UnitsWarning: The unit 'ct' has been deprecated in the VOUnit standard. [astropy.units.format.utils]\n",
      "WARNING: UnitsWarning: Unit 'Sun' not supported by the VOUnit standard. Did you mean uN? [astropy.units.format.vounit]\n",
      "WARNING: UnitsWarning: The unit 'ph' has been deprecated in the VOUnit standard. [astropy.units.format.utils]\n",
      "WARNING: UnitsWarning: The unit 'G' has been deprecated in the VOUnit standard. Suggested: 0.0001T. [astropy.units.format.utils]\n",
      "WARNING: UnitsWarning: The unit 'au' has been deprecated in the VOUnit standard. Suggested: 1.4959787e+11m. [astropy.units.format.utils]\n",
      "WARNING: UnitsWarning: Unit 'Mjup' not supported by the VOUnit standard.  [astropy.units.format.vounit]\n",
      "WARNING: UnitsWarning: Unit 'Rjup' not supported by the VOUnit standard.  [astropy.units.format.vounit]\n",
      "WARNING: UnitsWarning: Unit 'Mgeo' not supported by the VOUnit standard.  [astropy.units.format.vounit]\n",
      "/tmp/ipykernel_15370/3471364870.py:19: RuntimeWarning: Mean of empty slice\n",
      "  v = np.nanmean(list(p.values()))\n",
      "/tmp/ipykernel_15370/3471364870.py:21: FutureWarning: The frame.append method is deprecated and will be removed from pandas in a future version. Use pandas.concat instead.\n",
      "  data = data.append(d, ignore_index=True)\n",
      "3it [00:03,  1.14s/it]"
     ]
    },
    {
     "name": "stdout",
     "output_type": "stream",
     "text": [
      "Found 11 references in Vizier with `B-V`.\n",
      "Found 0 references in Vizier with `log_R_HK_`.\n",
      "Found 0 references in Vizier with `EWLi`.\n"
     ]
    },
    {
     "name": "stderr",
     "output_type": "stream",
     "text": [
      "WARNING: UnitsWarning: The unit 'a' has been deprecated in the VOUnit standard. Suggested: 365.25d. [astropy.units.format.utils]\n",
      "WARNING: UnitsWarning: The unit 'pix' has been deprecated in the VOUnit standard. [astropy.units.format.utils]\n",
      "WARNING: UnitsWarning: The unit 'ct' has been deprecated in the VOUnit standard. [astropy.units.format.utils]\n",
      "WARNING: UnitsWarning: Unit 'Sun' not supported by the VOUnit standard. Did you mean uN? [astropy.units.format.vounit]\n",
      "WARNING: UnitsWarning: The unit 'au' has been deprecated in the VOUnit standard. Suggested: 1.4959787e+11m. [astropy.units.format.utils]\n",
      "WARNING: UnitsWarning: Unit 'Mgeo' not supported by the VOUnit standard.  [astropy.units.format.vounit]\n",
      "WARNING: UnitsWarning: Unit 'Mjup' not supported by the VOUnit standard.  [astropy.units.format.vounit]\n",
      "/tmp/ipykernel_15370/3471364870.py:19: RuntimeWarning: Mean of empty slice\n",
      "  v = np.nanmean(list(p.values()))\n",
      "/tmp/ipykernel_15370/3471364870.py:21: FutureWarning: The frame.append method is deprecated and will be removed from pandas in a future version. Use pandas.concat instead.\n",
      "  data = data.append(d, ignore_index=True)\n",
      "4it [00:04,  1.17s/it]"
     ]
    },
    {
     "name": "stdout",
     "output_type": "stream",
     "text": [
      "Found 12 references in Vizier with `B-V`.\n",
      "Found 0 references in Vizier with `log_R_HK_`.\n",
      "Found 2 references in Vizier with `EWLi`.\n"
     ]
    },
    {
     "name": "stderr",
     "output_type": "stream",
     "text": [
      "WARNING: UnitsWarning: The unit 'a' has been deprecated in the VOUnit standard. Suggested: 365.25d. [astropy.units.format.utils]\n",
      "WARNING: UnitsWarning: The unit 'pix' has been deprecated in the VOUnit standard. [astropy.units.format.utils]\n",
      "WARNING: UnitsWarning: The unit 'ct' has been deprecated in the VOUnit standard. [astropy.units.format.utils]\n",
      "WARNING: UnitsWarning: Unit 'Sun' not supported by the VOUnit standard. Did you mean uN? [astropy.units.format.vounit]\n",
      "WARNING: UnitsWarning: The unit 'au' has been deprecated in the VOUnit standard. Suggested: 1.4959787e+11m. [astropy.units.format.utils]\n",
      "WARNING: UnitsWarning: Unit 'Mjup' not supported by the VOUnit standard.  [astropy.units.format.vounit]\n",
      "/tmp/ipykernel_15370/3471364870.py:19: RuntimeWarning: Mean of empty slice\n",
      "  v = np.nanmean(list(p.values()))\n",
      "/tmp/ipykernel_15370/3471364870.py:21: FutureWarning: The frame.append method is deprecated and will be removed from pandas in a future version. Use pandas.concat instead.\n",
      "  data = data.append(d, ignore_index=True)\n",
      "5it [00:05,  1.13s/it]"
     ]
    },
    {
     "name": "stdout",
     "output_type": "stream",
     "text": [
      "Found 8 references in Vizier with `B-V`.\n",
      "Found 0 references in Vizier with `log_R_HK_`.\n",
      "Found 0 references in Vizier with `EWLi`.\n"
     ]
    },
    {
     "name": "stderr",
     "output_type": "stream",
     "text": [
      "WARNING: UnitsWarning: The unit 'a' has been deprecated in the VOUnit standard. Suggested: 365.25d. [astropy.units.format.utils]\n",
      "WARNING: UnitsWarning: The unit 'pix' has been deprecated in the VOUnit standard. [astropy.units.format.utils]\n",
      "WARNING: UnitsWarning: The unit 'ct' has been deprecated in the VOUnit standard. [astropy.units.format.utils]\n",
      "WARNING: UnitsWarning: Unit 'Sun' not supported by the VOUnit standard. Did you mean uN? [astropy.units.format.vounit]\n",
      "WARNING: UnitsWarning: Unit 'Mgeo' not supported by the VOUnit standard.  [astropy.units.format.vounit]\n",
      "WARNING: UnitsWarning: The unit 'au' has been deprecated in the VOUnit standard. Suggested: 1.4959787e+11m. [astropy.units.format.utils]\n",
      "WARNING: UnitsWarning: Unit 'Mjup' not supported by the VOUnit standard.  [astropy.units.format.vounit]\n",
      "/tmp/ipykernel_15370/3471364870.py:19: RuntimeWarning: Mean of empty slice\n",
      "  v = np.nanmean(list(p.values()))\n",
      "/tmp/ipykernel_15370/3471364870.py:21: FutureWarning: The frame.append method is deprecated and will be removed from pandas in a future version. Use pandas.concat instead.\n",
      "  data = data.append(d, ignore_index=True)\n",
      "6it [00:06,  1.02s/it]"
     ]
    },
    {
     "name": "stdout",
     "output_type": "stream",
     "text": [
      "Found 7 references in Vizier with `B-V`.\n",
      "Found 0 references in Vizier with `log_R_HK_`.\n",
      "Found 0 references in Vizier with `EWLi`.\n"
     ]
    },
    {
     "name": "stderr",
     "output_type": "stream",
     "text": [
      "WARNING: UnitsWarning: The unit 'a' has been deprecated in the VOUnit standard. Suggested: 365.25d. [astropy.units.format.utils]\n",
      "WARNING: UnitsWarning: The unit 'pix' has been deprecated in the VOUnit standard. [astropy.units.format.utils]\n",
      "WARNING: UnitsWarning: The unit 'ct' has been deprecated in the VOUnit standard. [astropy.units.format.utils]\n",
      "WARNING: UnitsWarning: Unit 'Sun' not supported by the VOUnit standard. Did you mean uN? [astropy.units.format.vounit]\n",
      "WARNING: UnitsWarning: The unit 'au' has been deprecated in the VOUnit standard. Suggested: 1.4959787e+11m. [astropy.units.format.utils]\n",
      "WARNING: UnitsWarning: Unit 'Mgeo' not supported by the VOUnit standard.  [astropy.units.format.vounit]\n",
      "WARNING: UnitsWarning: Unit 'Mjup' not supported by the VOUnit standard.  [astropy.units.format.vounit]\n",
      "/tmp/ipykernel_15370/3471364870.py:19: RuntimeWarning: Mean of empty slice\n",
      "  v = np.nanmean(list(p.values()))\n",
      "/tmp/ipykernel_15370/3471364870.py:21: FutureWarning: The frame.append method is deprecated and will be removed from pandas in a future version. Use pandas.concat instead.\n",
      "  data = data.append(d, ignore_index=True)\n",
      "7it [00:07,  1.03s/it]"
     ]
    },
    {
     "name": "stdout",
     "output_type": "stream",
     "text": [
      "Found 10 references in Vizier with `B-V`.\n",
      "Found 0 references in Vizier with `log_R_HK_`.\n",
      "Found 0 references in Vizier with `EWLi`.\n"
     ]
    },
    {
     "name": "stderr",
     "output_type": "stream",
     "text": [
      "WARNING: UnitsWarning: The unit 'a' has been deprecated in the VOUnit standard. Suggested: 365.25d. [astropy.units.format.utils]\n",
      "WARNING: UnitsWarning: The unit 'pix' has been deprecated in the VOUnit standard. [astropy.units.format.utils]\n",
      "WARNING: UnitsWarning: The unit 'ct' has been deprecated in the VOUnit standard. [astropy.units.format.utils]\n",
      "WARNING: UnitsWarning: Unit 'Sun' not supported by the VOUnit standard. Did you mean uN? [astropy.units.format.vounit]\n",
      "WARNING: UnitsWarning: The unit 'au' has been deprecated in the VOUnit standard. Suggested: 1.4959787e+11m. [astropy.units.format.utils]\n",
      "WARNING: UnitsWarning: Unit 'Mjup' not supported by the VOUnit standard.  [astropy.units.format.vounit]\n",
      "/tmp/ipykernel_15370/3471364870.py:19: RuntimeWarning: Mean of empty slice\n",
      "  v = np.nanmean(list(p.values()))\n",
      "/tmp/ipykernel_15370/3471364870.py:21: FutureWarning: The frame.append method is deprecated and will be removed from pandas in a future version. Use pandas.concat instead.\n",
      "  data = data.append(d, ignore_index=True)\n",
      "8it [00:08,  1.03s/it]"
     ]
    },
    {
     "name": "stdout",
     "output_type": "stream",
     "text": [
      "Found 8 references in Vizier with `B-V`.\n",
      "Found 0 references in Vizier with `log_R_HK_`.\n",
      "Found 0 references in Vizier with `EWLi`.\n"
     ]
    },
    {
     "name": "stderr",
     "output_type": "stream",
     "text": [
      "WARNING: UnitsWarning: The unit 'a' has been deprecated in the VOUnit standard. Suggested: 365.25d. [astropy.units.format.utils]\n",
      "WARNING: UnitsWarning: The unit 'pix' has been deprecated in the VOUnit standard. [astropy.units.format.utils]\n",
      "WARNING: UnitsWarning: The unit 'ct' has been deprecated in the VOUnit standard. [astropy.units.format.utils]\n",
      "WARNING: UnitsWarning: Unit 'Sun' not supported by the VOUnit standard. Did you mean uN? [astropy.units.format.vounit]\n",
      "WARNING: UnitsWarning: Unit 'Earth' not supported by the VOUnit standard.  [astropy.units.format.vounit]\n",
      "WARNING: UnitsWarning: Unit 'Mgeo' not supported by the VOUnit standard.  [astropy.units.format.vounit]\n",
      "WARNING: UnitsWarning: The unit 'au' has been deprecated in the VOUnit standard. Suggested: 1.4959787e+11m. [astropy.units.format.utils]\n",
      "WARNING: UnitsWarning: Unit 'Mjup' not supported by the VOUnit standard.  [astropy.units.format.vounit]\n",
      "WARNING: UnitsWarning: Unit 'Rgeo' not supported by the VOUnit standard.  [astropy.units.format.vounit]\n",
      "WARNING: UnitsWarning: Unit 'al' not supported by the VOUnit standard. Did you mean alm or alx? [astropy.units.format.vounit]\n",
      "WARNING: UnitsWarning: Unit 'Rjup' not supported by the VOUnit standard.  [astropy.units.format.vounit]\n",
      "/tmp/ipykernel_15370/3471364870.py:19: RuntimeWarning: Mean of empty slice\n",
      "  v = np.nanmean(list(p.values()))\n",
      "/tmp/ipykernel_15370/3471364870.py:21: FutureWarning: The frame.append method is deprecated and will be removed from pandas in a future version. Use pandas.concat instead.\n",
      "  data = data.append(d, ignore_index=True)\n",
      "9it [00:10,  1.25s/it]"
     ]
    },
    {
     "name": "stdout",
     "output_type": "stream",
     "text": [
      "Found 17 references in Vizier with `B-V`.\n",
      "Found 0 references in Vizier with `log_R_HK_`.\n",
      "Found 0 references in Vizier with `EWLi`.\n"
     ]
    },
    {
     "name": "stderr",
     "output_type": "stream",
     "text": [
      "WARNING: UnitsWarning: The unit 'a' has been deprecated in the VOUnit standard. Suggested: 365.25d. [astropy.units.format.utils]\n",
      "WARNING: UnitsWarning: The unit 'pix' has been deprecated in the VOUnit standard. [astropy.units.format.utils]\n",
      "WARNING: UnitsWarning: The unit 'ct' has been deprecated in the VOUnit standard. [astropy.units.format.utils]\n",
      "WARNING: UnitsWarning: Unit 'Sun' not supported by the VOUnit standard. Did you mean uN? [astropy.units.format.vounit]\n",
      "WARNING: UnitsWarning: Unit 'Mgeo' not supported by the VOUnit standard.  [astropy.units.format.vounit]\n",
      "WARNING: UnitsWarning: The unit 'au' has been deprecated in the VOUnit standard. Suggested: 1.4959787e+11m. [astropy.units.format.utils]\n",
      "WARNING: UnitsWarning: Unit 'Mjup' not supported by the VOUnit standard.  [astropy.units.format.vounit]\n",
      "/tmp/ipykernel_15370/3471364870.py:19: RuntimeWarning: Mean of empty slice\n",
      "  v = np.nanmean(list(p.values()))\n",
      "/tmp/ipykernel_15370/3471364870.py:21: FutureWarning: The frame.append method is deprecated and will be removed from pandas in a future version. Use pandas.concat instead.\n",
      "  data = data.append(d, ignore_index=True)\n",
      "10it [00:11,  1.19s/it]"
     ]
    },
    {
     "name": "stdout",
     "output_type": "stream",
     "text": [
      "Found 8 references in Vizier with `B-V`.\n",
      "Found 0 references in Vizier with `log_R_HK_`.\n",
      "Found 0 references in Vizier with `EWLi`.\n"
     ]
    },
    {
     "name": "stderr",
     "output_type": "stream",
     "text": [
      "WARNING: UnitsWarning: The unit 'a' has been deprecated in the VOUnit standard. Suggested: 365.25d. [astropy.units.format.utils]\n",
      "WARNING: UnitsWarning: The unit 'pix' has been deprecated in the VOUnit standard. [astropy.units.format.utils]\n",
      "WARNING: UnitsWarning: The unit 'ct' has been deprecated in the VOUnit standard. [astropy.units.format.utils]\n",
      "WARNING: UnitsWarning: Unit 'Sun' not supported by the VOUnit standard. Did you mean uN? [astropy.units.format.vounit]\n",
      "WARNING: UnitsWarning: Unit 'Mgeo' not supported by the VOUnit standard.  [astropy.units.format.vounit]\n",
      "WARNING: UnitsWarning: The unit 'au' has been deprecated in the VOUnit standard. Suggested: 1.4959787e+11m. [astropy.units.format.utils]\n",
      "WARNING: UnitsWarning: Unit 'Mjup' not supported by the VOUnit standard.  [astropy.units.format.vounit]\n",
      "WARNING: UnitsWarning: Unit 'al' not supported by the VOUnit standard. Did you mean alm or alx? [astropy.units.format.vounit]\n",
      "/tmp/ipykernel_15370/3471364870.py:19: RuntimeWarning: Mean of empty slice\n",
      "  v = np.nanmean(list(p.values()))\n",
      "/tmp/ipykernel_15370/3471364870.py:21: FutureWarning: The frame.append method is deprecated and will be removed from pandas in a future version. Use pandas.concat instead.\n",
      "  data = data.append(d, ignore_index=True)\n",
      "11it [00:12,  1.21s/it]"
     ]
    },
    {
     "name": "stdout",
     "output_type": "stream",
     "text": [
      "Found 11 references in Vizier with `B-V`.\n",
      "Found 0 references in Vizier with `log_R_HK_`.\n",
      "Found 0 references in Vizier with `EWLi`.\n"
     ]
    },
    {
     "name": "stderr",
     "output_type": "stream",
     "text": [
      "WARNING: UnitsWarning: The unit 'a' has been deprecated in the VOUnit standard. Suggested: 365.25d. [astropy.units.format.utils]\n",
      "WARNING: UnitsWarning: The unit 'pix' has been deprecated in the VOUnit standard. [astropy.units.format.utils]\n",
      "WARNING: UnitsWarning: The unit 'ct' has been deprecated in the VOUnit standard. [astropy.units.format.utils]\n",
      "WARNING: UnitsWarning: Unit 'Sun' not supported by the VOUnit standard. Did you mean uN? [astropy.units.format.vounit]\n",
      "WARNING: UnitsWarning: Unit 'Mgeo' not supported by the VOUnit standard.  [astropy.units.format.vounit]\n",
      "WARNING: UnitsWarning: The unit 'au' has been deprecated in the VOUnit standard. Suggested: 1.4959787e+11m. [astropy.units.format.utils]\n",
      "WARNING: UnitsWarning: Unit 'Mjup' not supported by the VOUnit standard.  [astropy.units.format.vounit]\n",
      "/tmp/ipykernel_15370/3471364870.py:19: RuntimeWarning: Mean of empty slice\n",
      "  v = np.nanmean(list(p.values()))\n",
      "/tmp/ipykernel_15370/3471364870.py:21: FutureWarning: The frame.append method is deprecated and will be removed from pandas in a future version. Use pandas.concat instead.\n",
      "  data = data.append(d, ignore_index=True)\n",
      "12it [00:13,  1.14s/it]"
     ]
    },
    {
     "name": "stdout",
     "output_type": "stream",
     "text": [
      "Found 8 references in Vizier with `B-V`.\n",
      "Found 0 references in Vizier with `log_R_HK_`.\n",
      "Found 1 references in Vizier with `EWLi`.\n"
     ]
    },
    {
     "name": "stderr",
     "output_type": "stream",
     "text": [
      "WARNING: UnitsWarning: The unit 'a' has been deprecated in the VOUnit standard. Suggested: 365.25d. [astropy.units.format.utils]\n",
      "WARNING: UnitsWarning: The unit 'pix' has been deprecated in the VOUnit standard. [astropy.units.format.utils]\n",
      "WARNING: UnitsWarning: The unit 'ct' has been deprecated in the VOUnit standard. [astropy.units.format.utils]\n",
      "WARNING: UnitsWarning: Unit 'Sun' not supported by the VOUnit standard. Did you mean uN? [astropy.units.format.vounit]\n",
      "WARNING: UnitsWarning: Unit 'Mgeo' not supported by the VOUnit standard.  [astropy.units.format.vounit]\n",
      "WARNING: UnitsWarning: The unit 'au' has been deprecated in the VOUnit standard. Suggested: 1.4959787e+11m. [astropy.units.format.utils]\n",
      "WARNING: UnitsWarning: Unit 'Mjup' not supported by the VOUnit standard.  [astropy.units.format.vounit]\n",
      "/tmp/ipykernel_15370/3471364870.py:19: RuntimeWarning: Mean of empty slice\n",
      "  v = np.nanmean(list(p.values()))\n",
      "/tmp/ipykernel_15370/3471364870.py:21: FutureWarning: The frame.append method is deprecated and will be removed from pandas in a future version. Use pandas.concat instead.\n",
      "  data = data.append(d, ignore_index=True)\n",
      "13it [00:14,  1.06s/it]"
     ]
    },
    {
     "name": "stdout",
     "output_type": "stream",
     "text": [
      "Found 8 references in Vizier with `B-V`.\n",
      "Found 0 references in Vizier with `log_R_HK_`.\n",
      "Found 0 references in Vizier with `EWLi`.\n"
     ]
    },
    {
     "name": "stderr",
     "output_type": "stream",
     "text": [
      "WARNING: UnitsWarning: The unit 'a' has been deprecated in the VOUnit standard. Suggested: 365.25d. [astropy.units.format.utils]\n",
      "WARNING: UnitsWarning: The unit 'pix' has been deprecated in the VOUnit standard. [astropy.units.format.utils]\n",
      "WARNING: UnitsWarning: The unit 'ct' has been deprecated in the VOUnit standard. [astropy.units.format.utils]\n",
      "WARNING: UnitsWarning: Unit 'Sun' not supported by the VOUnit standard. Did you mean uN? [astropy.units.format.vounit]\n",
      "WARNING: UnitsWarning: The unit 'au' has been deprecated in the VOUnit standard. Suggested: 1.4959787e+11m. [astropy.units.format.utils]\n",
      "WARNING: UnitsWarning: Unit 'Mjup' not supported by the VOUnit standard.  [astropy.units.format.vounit]\n",
      "/tmp/ipykernel_15370/3471364870.py:19: RuntimeWarning: Mean of empty slice\n",
      "  v = np.nanmean(list(p.values()))\n",
      "/tmp/ipykernel_15370/3471364870.py:21: FutureWarning: The frame.append method is deprecated and will be removed from pandas in a future version. Use pandas.concat instead.\n",
      "  data = data.append(d, ignore_index=True)\n",
      "14it [00:15,  1.01it/s]"
     ]
    },
    {
     "name": "stdout",
     "output_type": "stream",
     "text": [
      "Found 11 references in Vizier with `B-V`.\n",
      "Found 0 references in Vizier with `log_R_HK_`.\n",
      "Found 0 references in Vizier with `EWLi`.\n"
     ]
    },
    {
     "name": "stderr",
     "output_type": "stream",
     "text": [
      "WARNING: UnitsWarning: The unit 'a' has been deprecated in the VOUnit standard. Suggested: 365.25d. [astropy.units.format.utils]\n",
      "WARNING: UnitsWarning: The unit 'pix' has been deprecated in the VOUnit standard. [astropy.units.format.utils]\n",
      "WARNING: UnitsWarning: The unit 'ct' has been deprecated in the VOUnit standard. [astropy.units.format.utils]\n",
      "WARNING: UnitsWarning: Unit 'Sun' not supported by the VOUnit standard. Did you mean uN? [astropy.units.format.vounit]\n",
      "WARNING: UnitsWarning: The unit 'au' has been deprecated in the VOUnit standard. Suggested: 1.4959787e+11m. [astropy.units.format.utils]\n",
      "WARNING: UnitsWarning: Unit 'Mgeo' not supported by the VOUnit standard.  [astropy.units.format.vounit]\n",
      "WARNING: UnitsWarning: Unit 'Mjup' not supported by the VOUnit standard.  [astropy.units.format.vounit]\n",
      "/tmp/ipykernel_15370/3471364870.py:19: RuntimeWarning: Mean of empty slice\n",
      "  v = np.nanmean(list(p.values()))\n",
      "/tmp/ipykernel_15370/3471364870.py:21: FutureWarning: The frame.append method is deprecated and will be removed from pandas in a future version. Use pandas.concat instead.\n",
      "  data = data.append(d, ignore_index=True)\n",
      "15it [00:16,  1.03s/it]"
     ]
    },
    {
     "name": "stdout",
     "output_type": "stream",
     "text": [
      "Found 8 references in Vizier with `B-V`.\n",
      "Found 0 references in Vizier with `log_R_HK_`.\n",
      "Found 0 references in Vizier with `EWLi`.\n"
     ]
    },
    {
     "name": "stderr",
     "output_type": "stream",
     "text": [
      "WARNING: UnitsWarning: The unit 'a' has been deprecated in the VOUnit standard. Suggested: 365.25d. [astropy.units.format.utils]\n",
      "WARNING: UnitsWarning: The unit 'ha' has been deprecated in the VOUnit standard. Suggested: 100a. [astropy.units.format.utils]\n",
      "WARNING: UnitsWarning: The unit 'pix' has been deprecated in the VOUnit standard. [astropy.units.format.utils]\n",
      "WARNING: UnitsWarning: The unit 'ct' has been deprecated in the VOUnit standard. [astropy.units.format.utils]\n",
      "WARNING: UnitsWarning: Unit 'Sun' not supported by the VOUnit standard. Did you mean uN? [astropy.units.format.vounit]\n",
      "WARNING: UnitsWarning: The unit 'au' has been deprecated in the VOUnit standard. Suggested: 1.4959787e+11m. [astropy.units.format.utils]\n",
      "WARNING: UnitsWarning: Unit 'Mjup' not supported by the VOUnit standard.  [astropy.units.format.vounit]\n",
      "/tmp/ipykernel_15370/3471364870.py:19: RuntimeWarning: Mean of empty slice\n",
      "  v = np.nanmean(list(p.values()))\n",
      "/tmp/ipykernel_15370/3471364870.py:21: FutureWarning: The frame.append method is deprecated and will be removed from pandas in a future version. Use pandas.concat instead.\n",
      "  data = data.append(d, ignore_index=True)\n",
      "16it [00:17,  1.05it/s]"
     ]
    },
    {
     "name": "stdout",
     "output_type": "stream",
     "text": [
      "Found 16 references in Vizier with `B-V`.\n",
      "Found 0 references in Vizier with `log_R_HK_`.\n",
      "Found 0 references in Vizier with `EWLi`.\n"
     ]
    },
    {
     "name": "stderr",
     "output_type": "stream",
     "text": [
      "WARNING: UnitsWarning: The unit 'a' has been deprecated in the VOUnit standard. Suggested: 365.25d. [astropy.units.format.utils]\n",
      "WARNING: UnitsWarning: The unit 'pix' has been deprecated in the VOUnit standard. [astropy.units.format.utils]\n",
      "WARNING: UnitsWarning: The unit 'ct' has been deprecated in the VOUnit standard. [astropy.units.format.utils]\n",
      "WARNING: UnitsWarning: Unit 'Sun' not supported by the VOUnit standard. Did you mean uN? [astropy.units.format.vounit]\n",
      "WARNING: UnitsWarning: The unit 'au' has been deprecated in the VOUnit standard. Suggested: 1.4959787e+11m. [astropy.units.format.utils]\n",
      "WARNING: UnitsWarning: Unit 'Mgeo' not supported by the VOUnit standard.  [astropy.units.format.vounit]\n",
      "WARNING: UnitsWarning: Unit 'Mjup' not supported by the VOUnit standard.  [astropy.units.format.vounit]\n",
      "WARNING: UnitsWarning: Unit 'al' not supported by the VOUnit standard. Did you mean alm or alx? [astropy.units.format.vounit]\n",
      "/tmp/ipykernel_15370/3471364870.py:19: RuntimeWarning: Mean of empty slice\n",
      "  v = np.nanmean(list(p.values()))\n",
      "/tmp/ipykernel_15370/3471364870.py:21: FutureWarning: The frame.append method is deprecated and will be removed from pandas in a future version. Use pandas.concat instead.\n",
      "  data = data.append(d, ignore_index=True)\n",
      "17it [00:18,  1.03s/it]"
     ]
    },
    {
     "name": "stdout",
     "output_type": "stream",
     "text": [
      "Found 10 references in Vizier with `B-V`.\n",
      "Found 0 references in Vizier with `log_R_HK_`.\n",
      "Found 0 references in Vizier with `EWLi`.\n"
     ]
    },
    {
     "name": "stderr",
     "output_type": "stream",
     "text": [
      "WARNING: UnitsWarning: The unit 'a' has been deprecated in the VOUnit standard. Suggested: 365.25d. [astropy.units.format.utils]\n",
      "WARNING: UnitsWarning: The unit 'pix' has been deprecated in the VOUnit standard. [astropy.units.format.utils]\n",
      "WARNING: UnitsWarning: The unit 'ct' has been deprecated in the VOUnit standard. [astropy.units.format.utils]\n",
      "WARNING: UnitsWarning: Unit 'Sun' not supported by the VOUnit standard. Did you mean uN? [astropy.units.format.vounit]\n",
      "WARNING: UnitsWarning: Unit 'Mgeo' not supported by the VOUnit standard.  [astropy.units.format.vounit]\n",
      "WARNING: UnitsWarning: The unit 'au' has been deprecated in the VOUnit standard. Suggested: 1.4959787e+11m. [astropy.units.format.utils]\n",
      "WARNING: UnitsWarning: Unit 'Mjup' not supported by the VOUnit standard.  [astropy.units.format.vounit]\n",
      "/tmp/ipykernel_15370/3471364870.py:19: RuntimeWarning: Mean of empty slice\n",
      "  v = np.nanmean(list(p.values()))\n",
      "/tmp/ipykernel_15370/3471364870.py:21: FutureWarning: The frame.append method is deprecated and will be removed from pandas in a future version. Use pandas.concat instead.\n",
      "  data = data.append(d, ignore_index=True)\n",
      "18it [00:19,  1.02s/it]"
     ]
    },
    {
     "name": "stdout",
     "output_type": "stream",
     "text": [
      "Found 8 references in Vizier with `B-V`.\n",
      "Found 0 references in Vizier with `log_R_HK_`.\n",
      "Found 0 references in Vizier with `EWLi`.\n"
     ]
    },
    {
     "name": "stderr",
     "output_type": "stream",
     "text": [
      "WARNING: UnitsWarning: The unit 'a' has been deprecated in the VOUnit standard. Suggested: 365.25d. [astropy.units.format.utils]\n",
      "WARNING: UnitsWarning: The unit 'pix' has been deprecated in the VOUnit standard. [astropy.units.format.utils]\n",
      "WARNING: UnitsWarning: The unit 'ct' has been deprecated in the VOUnit standard. [astropy.units.format.utils]\n",
      "WARNING: UnitsWarning: Unit 'Sun' not supported by the VOUnit standard. Did you mean uN? [astropy.units.format.vounit]\n",
      "WARNING: UnitsWarning: Unit 'Mgeo' not supported by the VOUnit standard.  [astropy.units.format.vounit]\n",
      "WARNING: UnitsWarning: The unit 'au' has been deprecated in the VOUnit standard. Suggested: 1.4959787e+11m. [astropy.units.format.utils]\n",
      "WARNING: UnitsWarning: Unit 'Mjup' not supported by the VOUnit standard.  [astropy.units.format.vounit]\n",
      "/tmp/ipykernel_15370/3471364870.py:19: RuntimeWarning: Mean of empty slice\n",
      "  v = np.nanmean(list(p.values()))\n",
      "/tmp/ipykernel_15370/3471364870.py:21: FutureWarning: The frame.append method is deprecated and will be removed from pandas in a future version. Use pandas.concat instead.\n",
      "  data = data.append(d, ignore_index=True)\n",
      "19it [00:20,  1.01s/it]"
     ]
    },
    {
     "name": "stdout",
     "output_type": "stream",
     "text": [
      "Found 9 references in Vizier with `B-V`.\n",
      "Found 0 references in Vizier with `log_R_HK_`.\n",
      "Found 0 references in Vizier with `EWLi`.\n"
     ]
    },
    {
     "name": "stderr",
     "output_type": "stream",
     "text": [
      "WARNING: UnitsWarning: The unit 'a' has been deprecated in the VOUnit standard. Suggested: 365.25d. [astropy.units.format.utils]\n",
      "WARNING: UnitsWarning: The unit 'pix' has been deprecated in the VOUnit standard. [astropy.units.format.utils]\n",
      "WARNING: UnitsWarning: The unit 'ct' has been deprecated in the VOUnit standard. [astropy.units.format.utils]\n",
      "WARNING: UnitsWarning: Unit 'Sun' not supported by the VOUnit standard. Did you mean uN? [astropy.units.format.vounit]\n",
      "WARNING: UnitsWarning: Unit 'Mgeo' not supported by the VOUnit standard.  [astropy.units.format.vounit]\n",
      "WARNING: UnitsWarning: The unit 'au' has been deprecated in the VOUnit standard. Suggested: 1.4959787e+11m. [astropy.units.format.utils]\n",
      "WARNING: UnitsWarning: Unit 'Mjup' not supported by the VOUnit standard.  [astropy.units.format.vounit]\n",
      "/tmp/ipykernel_15370/3471364870.py:19: RuntimeWarning: Mean of empty slice\n",
      "  v = np.nanmean(list(p.values()))\n",
      "/tmp/ipykernel_15370/3471364870.py:21: FutureWarning: The frame.append method is deprecated and will be removed from pandas in a future version. Use pandas.concat instead.\n",
      "  data = data.append(d, ignore_index=True)\n",
      "20it [00:21,  1.05it/s]"
     ]
    },
    {
     "name": "stdout",
     "output_type": "stream",
     "text": [
      "Found 8 references in Vizier with `B-V`.\n",
      "Found 0 references in Vizier with `log_R_HK_`.\n",
      "Found 0 references in Vizier with `EWLi`.\n"
     ]
    },
    {
     "name": "stderr",
     "output_type": "stream",
     "text": [
      "WARNING: UnitsWarning: The unit 'a' has been deprecated in the VOUnit standard. Suggested: 365.25d. [astropy.units.format.utils]\n",
      "WARNING: UnitsWarning: The unit 'pix' has been deprecated in the VOUnit standard. [astropy.units.format.utils]\n",
      "WARNING: UnitsWarning: The unit 'ct' has been deprecated in the VOUnit standard. [astropy.units.format.utils]\n",
      "WARNING: UnitsWarning: Unit 'Sun' not supported by the VOUnit standard. Did you mean uN? [astropy.units.format.vounit]\n",
      "WARNING: UnitsWarning: Unit 'Mgeo' not supported by the VOUnit standard.  [astropy.units.format.vounit]\n",
      "WARNING: UnitsWarning: The unit 'au' has been deprecated in the VOUnit standard. Suggested: 1.4959787e+11m. [astropy.units.format.utils]\n",
      "WARNING: UnitsWarning: Unit 'Mjup' not supported by the VOUnit standard.  [astropy.units.format.vounit]\n",
      "/tmp/ipykernel_15370/3471364870.py:19: RuntimeWarning: Mean of empty slice\n",
      "  v = np.nanmean(list(p.values()))\n",
      "/tmp/ipykernel_15370/3471364870.py:21: FutureWarning: The frame.append method is deprecated and will be removed from pandas in a future version. Use pandas.concat instead.\n",
      "  data = data.append(d, ignore_index=True)\n",
      "21it [00:22,  1.01s/it]"
     ]
    },
    {
     "name": "stdout",
     "output_type": "stream",
     "text": [
      "Found 7 references in Vizier with `B-V`.\n",
      "Found 0 references in Vizier with `log_R_HK_`.\n",
      "Found 0 references in Vizier with `EWLi`.\n"
     ]
    },
    {
     "name": "stderr",
     "output_type": "stream",
     "text": [
      "WARNING: UnitsWarning: The unit 'a' has been deprecated in the VOUnit standard. Suggested: 365.25d. [astropy.units.format.utils]\n",
      "WARNING: UnitsWarning: The unit 'pix' has been deprecated in the VOUnit standard. [astropy.units.format.utils]\n",
      "WARNING: UnitsWarning: The unit 'ct' has been deprecated in the VOUnit standard. [astropy.units.format.utils]\n",
      "WARNING: UnitsWarning: Unit 'Sun' not supported by the VOUnit standard. Did you mean uN? [astropy.units.format.vounit]\n",
      "WARNING: UnitsWarning: Unit 'Mgeo' not supported by the VOUnit standard.  [astropy.units.format.vounit]\n",
      "WARNING: UnitsWarning: The unit 'au' has been deprecated in the VOUnit standard. Suggested: 1.4959787e+11m. [astropy.units.format.utils]\n",
      "WARNING: UnitsWarning: Unit 'Mjup' not supported by the VOUnit standard.  [astropy.units.format.vounit]\n",
      "/tmp/ipykernel_15370/3471364870.py:19: RuntimeWarning: Mean of empty slice\n",
      "  v = np.nanmean(list(p.values()))\n",
      "/tmp/ipykernel_15370/3471364870.py:21: FutureWarning: The frame.append method is deprecated and will be removed from pandas in a future version. Use pandas.concat instead.\n",
      "  data = data.append(d, ignore_index=True)\n",
      "22it [00:23,  1.00s/it]"
     ]
    },
    {
     "name": "stdout",
     "output_type": "stream",
     "text": [
      "Found 9 references in Vizier with `B-V`.\n",
      "Found 0 references in Vizier with `log_R_HK_`.\n",
      "Found 0 references in Vizier with `EWLi`.\n"
     ]
    },
    {
     "name": "stderr",
     "output_type": "stream",
     "text": [
      "WARNING: UnitsWarning: The unit 'a' has been deprecated in the VOUnit standard. Suggested: 365.25d. [astropy.units.format.utils]\n",
      "WARNING: UnitsWarning: The unit 'pix' has been deprecated in the VOUnit standard. [astropy.units.format.utils]\n",
      "WARNING: UnitsWarning: The unit 'ct' has been deprecated in the VOUnit standard. [astropy.units.format.utils]\n",
      "WARNING: UnitsWarning: Unit 'Sun' not supported by the VOUnit standard. Did you mean uN? [astropy.units.format.vounit]\n",
      "WARNING: UnitsWarning: Unit 'Mgeo' not supported by the VOUnit standard.  [astropy.units.format.vounit]\n",
      "WARNING: UnitsWarning: The unit 'au' has been deprecated in the VOUnit standard. Suggested: 1.4959787e+11m. [astropy.units.format.utils]\n",
      "WARNING: UnitsWarning: Unit 'Mjup' not supported by the VOUnit standard.  [astropy.units.format.vounit]\n",
      "WARNING: UnitsWarning: Unit 'al' not supported by the VOUnit standard. Did you mean alm or alx? [astropy.units.format.vounit]\n",
      "/tmp/ipykernel_15370/3471364870.py:19: RuntimeWarning: Mean of empty slice\n",
      "  v = np.nanmean(list(p.values()))\n",
      "/tmp/ipykernel_15370/3471364870.py:21: FutureWarning: The frame.append method is deprecated and will be removed from pandas in a future version. Use pandas.concat instead.\n",
      "  data = data.append(d, ignore_index=True)\n",
      "23it [00:24,  1.01s/it]"
     ]
    },
    {
     "name": "stdout",
     "output_type": "stream",
     "text": [
      "Found 9 references in Vizier with `B-V`.\n",
      "Found 0 references in Vizier with `log_R_HK_`.\n",
      "Found 0 references in Vizier with `EWLi`.\n"
     ]
    },
    {
     "name": "stderr",
     "output_type": "stream",
     "text": [
      "WARNING: UnitsWarning: The unit 'a' has been deprecated in the VOUnit standard. Suggested: 365.25d. [astropy.units.format.utils]\n",
      "WARNING: UnitsWarning: The unit 'pix' has been deprecated in the VOUnit standard. [astropy.units.format.utils]\n",
      "WARNING: UnitsWarning: The unit 'ct' has been deprecated in the VOUnit standard. [astropy.units.format.utils]\n",
      "WARNING: UnitsWarning: Unit 'Sun' not supported by the VOUnit standard. Did you mean uN? [astropy.units.format.vounit]\n",
      "WARNING: UnitsWarning: Unit 'Mgeo' not supported by the VOUnit standard.  [astropy.units.format.vounit]\n",
      "WARNING: UnitsWarning: The unit 'au' has been deprecated in the VOUnit standard. Suggested: 1.4959787e+11m. [astropy.units.format.utils]\n",
      "WARNING: UnitsWarning: Unit 'Mjup' not supported by the VOUnit standard.  [astropy.units.format.vounit]\n",
      "/tmp/ipykernel_15370/3471364870.py:19: RuntimeWarning: Mean of empty slice\n",
      "  v = np.nanmean(list(p.values()))\n",
      "/tmp/ipykernel_15370/3471364870.py:21: FutureWarning: The frame.append method is deprecated and will be removed from pandas in a future version. Use pandas.concat instead.\n",
      "  data = data.append(d, ignore_index=True)\n",
      "24it [00:25,  1.05it/s]"
     ]
    },
    {
     "name": "stdout",
     "output_type": "stream",
     "text": [
      "Found 9 references in Vizier with `B-V`.\n",
      "Found 0 references in Vizier with `log_R_HK_`.\n",
      "Found 0 references in Vizier with `EWLi`.\n"
     ]
    },
    {
     "name": "stderr",
     "output_type": "stream",
     "text": [
      "WARNING: UnitsWarning: The unit 'a' has been deprecated in the VOUnit standard. Suggested: 365.25d. [astropy.units.format.utils]\n",
      "WARNING: UnitsWarning: The unit 'pix' has been deprecated in the VOUnit standard. [astropy.units.format.utils]\n",
      "WARNING: UnitsWarning: The unit 'ct' has been deprecated in the VOUnit standard. [astropy.units.format.utils]\n",
      "WARNING: UnitsWarning: Unit 'Sun' not supported by the VOUnit standard. Did you mean uN? [astropy.units.format.vounit]\n",
      "WARNING: UnitsWarning: Unit 'Mgeo' not supported by the VOUnit standard.  [astropy.units.format.vounit]\n",
      "WARNING: UnitsWarning: The unit 'au' has been deprecated in the VOUnit standard. Suggested: 1.4959787e+11m. [astropy.units.format.utils]\n",
      "WARNING: UnitsWarning: Unit 'Mjup' not supported by the VOUnit standard.  [astropy.units.format.vounit]\n",
      "/tmp/ipykernel_15370/3471364870.py:19: RuntimeWarning: Mean of empty slice\n",
      "  v = np.nanmean(list(p.values()))\n",
      "/tmp/ipykernel_15370/3471364870.py:21: FutureWarning: The frame.append method is deprecated and will be removed from pandas in a future version. Use pandas.concat instead.\n",
      "  data = data.append(d, ignore_index=True)\n",
      "25it [00:26,  1.02s/it]"
     ]
    },
    {
     "name": "stdout",
     "output_type": "stream",
     "text": [
      "Found 7 references in Vizier with `B-V`.\n",
      "Found 0 references in Vizier with `log_R_HK_`.\n",
      "Found 0 references in Vizier with `EWLi`.\n"
     ]
    },
    {
     "name": "stderr",
     "output_type": "stream",
     "text": [
      "WARNING: UnitsWarning: The unit 'a' has been deprecated in the VOUnit standard. Suggested: 365.25d. [astropy.units.format.utils]\n",
      "WARNING: UnitsWarning: The unit 'pix' has been deprecated in the VOUnit standard. [astropy.units.format.utils]\n",
      "WARNING: UnitsWarning: The unit 'ct' has been deprecated in the VOUnit standard. [astropy.units.format.utils]\n",
      "WARNING: UnitsWarning: Unit 'Sun' not supported by the VOUnit standard. Did you mean uN? [astropy.units.format.vounit]\n",
      "WARNING: UnitsWarning: The unit 'au' has been deprecated in the VOUnit standard. Suggested: 1.4959787e+11m. [astropy.units.format.utils]\n",
      "WARNING: UnitsWarning: Unit 'Mjup' not supported by the VOUnit standard.  [astropy.units.format.vounit]\n",
      "/tmp/ipykernel_15370/3471364870.py:19: RuntimeWarning: Mean of empty slice\n",
      "  v = np.nanmean(list(p.values()))\n",
      "/tmp/ipykernel_15370/3471364870.py:21: FutureWarning: The frame.append method is deprecated and will be removed from pandas in a future version. Use pandas.concat instead.\n",
      "  data = data.append(d, ignore_index=True)\n",
      "26it [00:27,  1.04it/s]"
     ]
    },
    {
     "name": "stdout",
     "output_type": "stream",
     "text": [
      "Found 8 references in Vizier with `B-V`.\n",
      "Found 0 references in Vizier with `log_R_HK_`.\n",
      "Found 0 references in Vizier with `EWLi`.\n"
     ]
    },
    {
     "name": "stderr",
     "output_type": "stream",
     "text": [
      "WARNING: UnitsWarning: The unit 'a' has been deprecated in the VOUnit standard. Suggested: 365.25d. [astropy.units.format.utils]\n",
      "WARNING: UnitsWarning: The unit 'pix' has been deprecated in the VOUnit standard. [astropy.units.format.utils]\n",
      "WARNING: UnitsWarning: The unit 'ct' has been deprecated in the VOUnit standard. [astropy.units.format.utils]\n",
      "WARNING: UnitsWarning: Unit 'Sun' not supported by the VOUnit standard. Did you mean uN? [astropy.units.format.vounit]\n",
      "WARNING: UnitsWarning: Unit 'Mgeo' not supported by the VOUnit standard.  [astropy.units.format.vounit]\n",
      "WARNING: UnitsWarning: The unit 'au' has been deprecated in the VOUnit standard. Suggested: 1.4959787e+11m. [astropy.units.format.utils]\n",
      "WARNING: UnitsWarning: Unit 'Mjup' not supported by the VOUnit standard.  [astropy.units.format.vounit]\n",
      "WARNING: UnitsWarning: Unit 'al' not supported by the VOUnit standard. Did you mean alm or alx? [astropy.units.format.vounit]\n",
      "/tmp/ipykernel_15370/3471364870.py:19: RuntimeWarning: Mean of empty slice\n",
      "  v = np.nanmean(list(p.values()))\n",
      "/tmp/ipykernel_15370/3471364870.py:21: FutureWarning: The frame.append method is deprecated and will be removed from pandas in a future version. Use pandas.concat instead.\n",
      "  data = data.append(d, ignore_index=True)\n",
      "27it [00:28,  1.02s/it]"
     ]
    },
    {
     "name": "stdout",
     "output_type": "stream",
     "text": [
      "Found 10 references in Vizier with `B-V`.\n",
      "Found 0 references in Vizier with `log_R_HK_`.\n",
      "Found 0 references in Vizier with `EWLi`.\n"
     ]
    },
    {
     "name": "stderr",
     "output_type": "stream",
     "text": [
      "WARNING: UnitsWarning: The unit 'a' has been deprecated in the VOUnit standard. Suggested: 365.25d. [astropy.units.format.utils]\n",
      "WARNING: UnitsWarning: The unit 'pix' has been deprecated in the VOUnit standard. [astropy.units.format.utils]\n",
      "WARNING: UnitsWarning: The unit 'ct' has been deprecated in the VOUnit standard. [astropy.units.format.utils]\n",
      "WARNING: UnitsWarning: Unit 'Sun' not supported by the VOUnit standard. Did you mean uN? [astropy.units.format.vounit]\n",
      "WARNING: UnitsWarning: The unit 'au' has been deprecated in the VOUnit standard. Suggested: 1.4959787e+11m. [astropy.units.format.utils]\n",
      "WARNING: UnitsWarning: Unit 'Mjup' not supported by the VOUnit standard.  [astropy.units.format.vounit]\n",
      "/tmp/ipykernel_15370/3471364870.py:19: RuntimeWarning: Mean of empty slice\n",
      "  v = np.nanmean(list(p.values()))\n",
      "/tmp/ipykernel_15370/3471364870.py:21: FutureWarning: The frame.append method is deprecated and will be removed from pandas in a future version. Use pandas.concat instead.\n",
      "  data = data.append(d, ignore_index=True)\n",
      "28it [00:29,  1.07it/s]"
     ]
    },
    {
     "name": "stdout",
     "output_type": "stream",
     "text": [
      "Found 9 references in Vizier with `B-V`.\n",
      "Found 0 references in Vizier with `log_R_HK_`.\n",
      "Found 0 references in Vizier with `EWLi`.\n"
     ]
    },
    {
     "name": "stderr",
     "output_type": "stream",
     "text": [
      "WARNING: UnitsWarning: The unit 'a' has been deprecated in the VOUnit standard. Suggested: 365.25d. [astropy.units.format.utils]\n",
      "WARNING: UnitsWarning: The unit 'pix' has been deprecated in the VOUnit standard. [astropy.units.format.utils]\n",
      "WARNING: UnitsWarning: The unit 'ct' has been deprecated in the VOUnit standard. [astropy.units.format.utils]\n",
      "WARNING: UnitsWarning: Unit 'Sun' not supported by the VOUnit standard. Did you mean uN? [astropy.units.format.vounit]\n",
      "WARNING: UnitsWarning: Unit 'Mgeo' not supported by the VOUnit standard.  [astropy.units.format.vounit]\n",
      "WARNING: UnitsWarning: The unit 'au' has been deprecated in the VOUnit standard. Suggested: 1.4959787e+11m. [astropy.units.format.utils]\n",
      "WARNING: UnitsWarning: Unit 'Mjup' not supported by the VOUnit standard.  [astropy.units.format.vounit]\n",
      "WARNING: UnitsWarning: Unit 'al' not supported by the VOUnit standard. Did you mean alm or alx? [astropy.units.format.vounit]\n",
      "/tmp/ipykernel_15370/3471364870.py:19: RuntimeWarning: Mean of empty slice\n",
      "  v = np.nanmean(list(p.values()))\n",
      "/tmp/ipykernel_15370/3471364870.py:21: FutureWarning: The frame.append method is deprecated and will be removed from pandas in a future version. Use pandas.concat instead.\n",
      "  data = data.append(d, ignore_index=True)\n",
      "29it [00:30,  1.03it/s]"
     ]
    },
    {
     "name": "stdout",
     "output_type": "stream",
     "text": [
      "Found 9 references in Vizier with `B-V`.\n",
      "Found 0 references in Vizier with `log_R_HK_`.\n",
      "Found 0 references in Vizier with `EWLi`.\n"
     ]
    },
    {
     "name": "stderr",
     "output_type": "stream",
     "text": [
      "WARNING: UnitsWarning: The unit 'a' has been deprecated in the VOUnit standard. Suggested: 365.25d. [astropy.units.format.utils]\n",
      "WARNING: UnitsWarning: The unit 'pix' has been deprecated in the VOUnit standard. [astropy.units.format.utils]\n",
      "WARNING: UnitsWarning: The unit 'ct' has been deprecated in the VOUnit standard. [astropy.units.format.utils]\n",
      "WARNING: UnitsWarning: Unit 'Sun' not supported by the VOUnit standard. Did you mean uN? [astropy.units.format.vounit]\n",
      "WARNING: UnitsWarning: Unit 'Mgeo' not supported by the VOUnit standard.  [astropy.units.format.vounit]\n",
      "WARNING: UnitsWarning: The unit 'au' has been deprecated in the VOUnit standard. Suggested: 1.4959787e+11m. [astropy.units.format.utils]\n",
      "WARNING: UnitsWarning: Unit 'Mjup' not supported by the VOUnit standard.  [astropy.units.format.vounit]\n",
      "/tmp/ipykernel_15370/3471364870.py:19: RuntimeWarning: Mean of empty slice\n",
      "  v = np.nanmean(list(p.values()))\n",
      "/tmp/ipykernel_15370/3471364870.py:21: FutureWarning: The frame.append method is deprecated and will be removed from pandas in a future version. Use pandas.concat instead.\n",
      "  data = data.append(d, ignore_index=True)\n",
      "30it [00:31,  1.03s/it]"
     ]
    },
    {
     "name": "stdout",
     "output_type": "stream",
     "text": [
      "Found 8 references in Vizier with `B-V`.\n",
      "Found 0 references in Vizier with `log_R_HK_`.\n",
      "Found 0 references in Vizier with `EWLi`.\n"
     ]
    },
    {
     "name": "stderr",
     "output_type": "stream",
     "text": [
      "WARNING: UnitsWarning: The unit 'a' has been deprecated in the VOUnit standard. Suggested: 365.25d. [astropy.units.format.utils]\n",
      "WARNING: UnitsWarning: The unit 'pix' has been deprecated in the VOUnit standard. [astropy.units.format.utils]\n",
      "WARNING: UnitsWarning: The unit 'ct' has been deprecated in the VOUnit standard. [astropy.units.format.utils]\n",
      "WARNING: UnitsWarning: Unit 'Sun' not supported by the VOUnit standard. Did you mean uN? [astropy.units.format.vounit]\n",
      "WARNING: UnitsWarning: Unit 'Mgeo' not supported by the VOUnit standard.  [astropy.units.format.vounit]\n",
      "WARNING: UnitsWarning: The unit 'au' has been deprecated in the VOUnit standard. Suggested: 1.4959787e+11m. [astropy.units.format.utils]\n",
      "WARNING: UnitsWarning: Unit 'Mjup' not supported by the VOUnit standard.  [astropy.units.format.vounit]\n",
      "/tmp/ipykernel_15370/3471364870.py:19: RuntimeWarning: Mean of empty slice\n",
      "  v = np.nanmean(list(p.values()))\n",
      "/tmp/ipykernel_15370/3471364870.py:21: FutureWarning: The frame.append method is deprecated and will be removed from pandas in a future version. Use pandas.concat instead.\n",
      "  data = data.append(d, ignore_index=True)\n",
      "31it [00:32,  1.02s/it]"
     ]
    },
    {
     "name": "stdout",
     "output_type": "stream",
     "text": [
      "Found 7 references in Vizier with `B-V`.\n",
      "Found 0 references in Vizier with `log_R_HK_`.\n",
      "Found 0 references in Vizier with `EWLi`.\n"
     ]
    },
    {
     "name": "stderr",
     "output_type": "stream",
     "text": [
      "WARNING: UnitsWarning: The unit 'a' has been deprecated in the VOUnit standard. Suggested: 365.25d. [astropy.units.format.utils]\n",
      "WARNING: UnitsWarning: The unit 'pix' has been deprecated in the VOUnit standard. [astropy.units.format.utils]\n",
      "WARNING: UnitsWarning: The unit 'ct' has been deprecated in the VOUnit standard. [astropy.units.format.utils]\n",
      "WARNING: UnitsWarning: Unit 'Sun' not supported by the VOUnit standard. Did you mean uN? [astropy.units.format.vounit]\n",
      "WARNING: UnitsWarning: Unit 'Mgeo' not supported by the VOUnit standard.  [astropy.units.format.vounit]\n",
      "WARNING: UnitsWarning: The unit 'au' has been deprecated in the VOUnit standard. Suggested: 1.4959787e+11m. [astropy.units.format.utils]\n",
      "WARNING: UnitsWarning: Unit 'Mjup' not supported by the VOUnit standard.  [astropy.units.format.vounit]\n",
      "/tmp/ipykernel_15370/3471364870.py:19: RuntimeWarning: Mean of empty slice\n",
      "  v = np.nanmean(list(p.values()))\n",
      "/tmp/ipykernel_15370/3471364870.py:21: FutureWarning: The frame.append method is deprecated and will be removed from pandas in a future version. Use pandas.concat instead.\n",
      "  data = data.append(d, ignore_index=True)\n",
      "32it [00:32,  1.09it/s]"
     ]
    },
    {
     "name": "stdout",
     "output_type": "stream",
     "text": [
      "Found 8 references in Vizier with `B-V`.\n",
      "Found 0 references in Vizier with `log_R_HK_`.\n",
      "Found 0 references in Vizier with `EWLi`.\n"
     ]
    },
    {
     "name": "stderr",
     "output_type": "stream",
     "text": [
      "WARNING: UnitsWarning: The unit 'a' has been deprecated in the VOUnit standard. Suggested: 365.25d. [astropy.units.format.utils]\n",
      "WARNING: UnitsWarning: The unit 'pix' has been deprecated in the VOUnit standard. [astropy.units.format.utils]\n",
      "WARNING: UnitsWarning: The unit 'ct' has been deprecated in the VOUnit standard. [astropy.units.format.utils]\n",
      "WARNING: UnitsWarning: Unit 'Sun' not supported by the VOUnit standard. Did you mean uN? [astropy.units.format.vounit]\n",
      "WARNING: UnitsWarning: Unit 'Mgeo' not supported by the VOUnit standard.  [astropy.units.format.vounit]\n",
      "WARNING: UnitsWarning: The unit 'au' has been deprecated in the VOUnit standard. Suggested: 1.4959787e+11m. [astropy.units.format.utils]\n",
      "WARNING: UnitsWarning: Unit 'Mjup' not supported by the VOUnit standard.  [astropy.units.format.vounit]\n",
      "/tmp/ipykernel_15370/3471364870.py:19: RuntimeWarning: Mean of empty slice\n",
      "  v = np.nanmean(list(p.values()))\n",
      "/tmp/ipykernel_15370/3471364870.py:21: FutureWarning: The frame.append method is deprecated and will be removed from pandas in a future version. Use pandas.concat instead.\n",
      "  data = data.append(d, ignore_index=True)\n",
      "33it [00:33,  1.09it/s]"
     ]
    },
    {
     "name": "stdout",
     "output_type": "stream",
     "text": [
      "Found 8 references in Vizier with `B-V`.\n",
      "Found 0 references in Vizier with `log_R_HK_`.\n",
      "Found 0 references in Vizier with `EWLi`.\n"
     ]
    },
    {
     "name": "stderr",
     "output_type": "stream",
     "text": [
      "WARNING: UnitsWarning: The unit 'a' has been deprecated in the VOUnit standard. Suggested: 365.25d. [astropy.units.format.utils]\n",
      "WARNING: UnitsWarning: The unit 'pix' has been deprecated in the VOUnit standard. [astropy.units.format.utils]\n",
      "WARNING: UnitsWarning: The unit 'ct' has been deprecated in the VOUnit standard. [astropy.units.format.utils]\n",
      "WARNING: UnitsWarning: Unit 'Sun' not supported by the VOUnit standard. Did you mean uN? [astropy.units.format.vounit]\n",
      "WARNING: UnitsWarning: The unit 'au' has been deprecated in the VOUnit standard. Suggested: 1.4959787e+11m. [astropy.units.format.utils]\n",
      "WARNING: UnitsWarning: Unit 'Mjup' not supported by the VOUnit standard.  [astropy.units.format.vounit]\n",
      "/tmp/ipykernel_15370/3471364870.py:19: RuntimeWarning: Mean of empty slice\n",
      "  v = np.nanmean(list(p.values()))\n",
      "/tmp/ipykernel_15370/3471364870.py:21: FutureWarning: The frame.append method is deprecated and will be removed from pandas in a future version. Use pandas.concat instead.\n",
      "  data = data.append(d, ignore_index=True)\n",
      "34it [00:34,  1.09it/s]"
     ]
    },
    {
     "name": "stdout",
     "output_type": "stream",
     "text": [
      "Found 9 references in Vizier with `B-V`.\n",
      "Found 0 references in Vizier with `log_R_HK_`.\n",
      "Found 0 references in Vizier with `EWLi`.\n"
     ]
    },
    {
     "name": "stderr",
     "output_type": "stream",
     "text": [
      "WARNING: UnitsWarning: The unit 'a' has been deprecated in the VOUnit standard. Suggested: 365.25d. [astropy.units.format.utils]\n",
      "WARNING: UnitsWarning: The unit 'pix' has been deprecated in the VOUnit standard. [astropy.units.format.utils]\n",
      "WARNING: UnitsWarning: The unit 'ct' has been deprecated in the VOUnit standard. [astropy.units.format.utils]\n",
      "WARNING: UnitsWarning: Unit 'Sun' not supported by the VOUnit standard. Did you mean uN? [astropy.units.format.vounit]\n",
      "WARNING: UnitsWarning: Unit 'Mgeo' not supported by the VOUnit standard.  [astropy.units.format.vounit]\n",
      "WARNING: UnitsWarning: The unit 'au' has been deprecated in the VOUnit standard. Suggested: 1.4959787e+11m. [astropy.units.format.utils]\n",
      "WARNING: UnitsWarning: Unit 'Mjup' not supported by the VOUnit standard.  [astropy.units.format.vounit]\n",
      "/tmp/ipykernel_15370/3471364870.py:19: RuntimeWarning: Mean of empty slice\n",
      "  v = np.nanmean(list(p.values()))\n",
      "/tmp/ipykernel_15370/3471364870.py:21: FutureWarning: The frame.append method is deprecated and will be removed from pandas in a future version. Use pandas.concat instead.\n",
      "  data = data.append(d, ignore_index=True)\n",
      "35it [00:35,  1.11it/s]"
     ]
    },
    {
     "name": "stdout",
     "output_type": "stream",
     "text": [
      "Found 10 references in Vizier with `B-V`.\n",
      "Found 0 references in Vizier with `log_R_HK_`.\n",
      "Found 0 references in Vizier with `EWLi`.\n"
     ]
    },
    {
     "name": "stderr",
     "output_type": "stream",
     "text": [
      "WARNING: UnitsWarning: The unit 'a' has been deprecated in the VOUnit standard. Suggested: 365.25d. [astropy.units.format.utils]\n",
      "WARNING: UnitsWarning: The unit 'pix' has been deprecated in the VOUnit standard. [astropy.units.format.utils]\n",
      "WARNING: UnitsWarning: The unit 'ct' has been deprecated in the VOUnit standard. [astropy.units.format.utils]\n",
      "WARNING: UnitsWarning: Unit 'Sun' not supported by the VOUnit standard. Did you mean uN? [astropy.units.format.vounit]\n",
      "WARNING: UnitsWarning: Unit 'Mgeo' not supported by the VOUnit standard.  [astropy.units.format.vounit]\n",
      "WARNING: UnitsWarning: The unit 'au' has been deprecated in the VOUnit standard. Suggested: 1.4959787e+11m. [astropy.units.format.utils]\n",
      "WARNING: UnitsWarning: Unit 'Mjup' not supported by the VOUnit standard.  [astropy.units.format.vounit]\n",
      "WARNING: UnitsWarning: The unit 'ha' has been deprecated in the VOUnit standard. Suggested: 100a. [astropy.units.format.utils]\n",
      "WARNING: UnitsWarning: Unit 'al' not supported by the VOUnit standard. Did you mean alm or alx? [astropy.units.format.vounit]\n",
      "/tmp/ipykernel_15370/3471364870.py:19: RuntimeWarning: Mean of empty slice\n",
      "  v = np.nanmean(list(p.values()))\n",
      "/tmp/ipykernel_15370/3471364870.py:21: FutureWarning: The frame.append method is deprecated and will be removed from pandas in a future version. Use pandas.concat instead.\n",
      "  data = data.append(d, ignore_index=True)\n",
      "36it [00:36,  1.09it/s]"
     ]
    },
    {
     "name": "stdout",
     "output_type": "stream",
     "text": [
      "Found 9 references in Vizier with `B-V`.\n",
      "Found 0 references in Vizier with `log_R_HK_`.\n",
      "Found 0 references in Vizier with `EWLi`.\n"
     ]
    },
    {
     "name": "stderr",
     "output_type": "stream",
     "text": [
      "WARNING: UnitsWarning: The unit 'a' has been deprecated in the VOUnit standard. Suggested: 365.25d. [astropy.units.format.utils]\n",
      "WARNING: UnitsWarning: The unit 'pix' has been deprecated in the VOUnit standard. [astropy.units.format.utils]\n",
      "WARNING: UnitsWarning: The unit 'ct' has been deprecated in the VOUnit standard. [astropy.units.format.utils]\n",
      "WARNING: UnitsWarning: Unit 'Sun' not supported by the VOUnit standard. Did you mean uN? [astropy.units.format.vounit]\n",
      "WARNING: UnitsWarning: Unit 'Mgeo' not supported by the VOUnit standard.  [astropy.units.format.vounit]\n",
      "WARNING: UnitsWarning: The unit 'au' has been deprecated in the VOUnit standard. Suggested: 1.4959787e+11m. [astropy.units.format.utils]\n",
      "WARNING: UnitsWarning: Unit 'Mjup' not supported by the VOUnit standard.  [astropy.units.format.vounit]\n",
      "/tmp/ipykernel_15370/3471364870.py:19: RuntimeWarning: Mean of empty slice\n",
      "  v = np.nanmean(list(p.values()))\n",
      "/tmp/ipykernel_15370/3471364870.py:21: FutureWarning: The frame.append method is deprecated and will be removed from pandas in a future version. Use pandas.concat instead.\n",
      "  data = data.append(d, ignore_index=True)\n",
      "37it [00:37,  1.11it/s]"
     ]
    },
    {
     "name": "stdout",
     "output_type": "stream",
     "text": [
      "Found 8 references in Vizier with `B-V`.\n",
      "Found 0 references in Vizier with `log_R_HK_`.\n",
      "Found 0 references in Vizier with `EWLi`.\n"
     ]
    },
    {
     "name": "stderr",
     "output_type": "stream",
     "text": [
      "WARNING: UnitsWarning: The unit 'a' has been deprecated in the VOUnit standard. Suggested: 365.25d. [astropy.units.format.utils]\n",
      "WARNING: UnitsWarning: The unit 'pix' has been deprecated in the VOUnit standard. [astropy.units.format.utils]\n",
      "WARNING: UnitsWarning: The unit 'ct' has been deprecated in the VOUnit standard. [astropy.units.format.utils]\n",
      "WARNING: UnitsWarning: Unit 'Sun' not supported by the VOUnit standard. Did you mean uN? [astropy.units.format.vounit]\n",
      "WARNING: UnitsWarning: Unit 'Mgeo' not supported by the VOUnit standard.  [astropy.units.format.vounit]\n",
      "WARNING: UnitsWarning: The unit 'au' has been deprecated in the VOUnit standard. Suggested: 1.4959787e+11m. [astropy.units.format.utils]\n",
      "WARNING: UnitsWarning: Unit 'Mjup' not supported by the VOUnit standard.  [astropy.units.format.vounit]\n",
      "/tmp/ipykernel_15370/3471364870.py:19: RuntimeWarning: Mean of empty slice\n",
      "  v = np.nanmean(list(p.values()))\n",
      "/tmp/ipykernel_15370/3471364870.py:21: FutureWarning: The frame.append method is deprecated and will be removed from pandas in a future version. Use pandas.concat instead.\n",
      "  data = data.append(d, ignore_index=True)\n",
      "38it [00:38,  1.10it/s]"
     ]
    },
    {
     "name": "stdout",
     "output_type": "stream",
     "text": [
      "Found 9 references in Vizier with `B-V`.\n",
      "Found 0 references in Vizier with `log_R_HK_`.\n",
      "Found 0 references in Vizier with `EWLi`.\n"
     ]
    },
    {
     "name": "stderr",
     "output_type": "stream",
     "text": [
      "WARNING: UnitsWarning: The unit 'a' has been deprecated in the VOUnit standard. Suggested: 365.25d. [astropy.units.format.utils]\n",
      "WARNING: UnitsWarning: The unit 'pix' has been deprecated in the VOUnit standard. [astropy.units.format.utils]\n",
      "WARNING: UnitsWarning: The unit 'ct' has been deprecated in the VOUnit standard. [astropy.units.format.utils]\n",
      "WARNING: UnitsWarning: Unit 'Sun' not supported by the VOUnit standard. Did you mean uN? [astropy.units.format.vounit]\n",
      "WARNING: UnitsWarning: The unit 'au' has been deprecated in the VOUnit standard. Suggested: 1.4959787e+11m. [astropy.units.format.utils]\n",
      "WARNING: UnitsWarning: Unit 'Mjup' not supported by the VOUnit standard.  [astropy.units.format.vounit]\n",
      "WARNING: UnitsWarning: Unit 'al' not supported by the VOUnit standard. Did you mean alm or alx? [astropy.units.format.vounit]\n",
      "WARNING: UnitsWarning: Unit 'kAU' not supported by the VOUnit standard. Did you mean 1000a, kA, ka (deprecated), kadu or ku? [astropy.units.format.vounit]\n",
      "/tmp/ipykernel_15370/3471364870.py:19: RuntimeWarning: Mean of empty slice\n",
      "  v = np.nanmean(list(p.values()))\n",
      "/tmp/ipykernel_15370/3471364870.py:21: FutureWarning: The frame.append method is deprecated and will be removed from pandas in a future version. Use pandas.concat instead.\n",
      "  data = data.append(d, ignore_index=True)\n",
      "39it [00:39,  1.07it/s]"
     ]
    },
    {
     "name": "stdout",
     "output_type": "stream",
     "text": [
      "Found 12 references in Vizier with `B-V`.\n",
      "Found 0 references in Vizier with `log_R_HK_`.\n",
      "Found 0 references in Vizier with `EWLi`.\n"
     ]
    },
    {
     "name": "stderr",
     "output_type": "stream",
     "text": [
      "WARNING: UnitsWarning: The unit 'a' has been deprecated in the VOUnit standard. Suggested: 365.25d. [astropy.units.format.utils]\n",
      "WARNING: UnitsWarning: The unit 'pix' has been deprecated in the VOUnit standard. [astropy.units.format.utils]\n",
      "WARNING: UnitsWarning: The unit 'ct' has been deprecated in the VOUnit standard. [astropy.units.format.utils]\n",
      "WARNING: UnitsWarning: Unit 'Sun' not supported by the VOUnit standard. Did you mean uN? [astropy.units.format.vounit]\n",
      "WARNING: UnitsWarning: Unit 'Mgeo' not supported by the VOUnit standard.  [astropy.units.format.vounit]\n",
      "WARNING: UnitsWarning: The unit 'au' has been deprecated in the VOUnit standard. Suggested: 1.4959787e+11m. [astropy.units.format.utils]\n",
      "WARNING: UnitsWarning: Unit 'Mjup' not supported by the VOUnit standard.  [astropy.units.format.vounit]\n",
      "/tmp/ipykernel_15370/3471364870.py:19: RuntimeWarning: Mean of empty slice\n",
      "  v = np.nanmean(list(p.values()))\n",
      "/tmp/ipykernel_15370/3471364870.py:21: FutureWarning: The frame.append method is deprecated and will be removed from pandas in a future version. Use pandas.concat instead.\n",
      "  data = data.append(d, ignore_index=True)\n",
      "40it [00:40,  1.06it/s]"
     ]
    },
    {
     "name": "stdout",
     "output_type": "stream",
     "text": [
      "Found 10 references in Vizier with `B-V`.\n",
      "Found 0 references in Vizier with `log_R_HK_`.\n",
      "Found 0 references in Vizier with `EWLi`.\n"
     ]
    },
    {
     "name": "stderr",
     "output_type": "stream",
     "text": [
      "WARNING: UnitsWarning: The unit 'a' has been deprecated in the VOUnit standard. Suggested: 365.25d. [astropy.units.format.utils]\n",
      "WARNING: UnitsWarning: The unit 'pix' has been deprecated in the VOUnit standard. [astropy.units.format.utils]\n",
      "WARNING: UnitsWarning: The unit 'ct' has been deprecated in the VOUnit standard. [astropy.units.format.utils]\n",
      "WARNING: UnitsWarning: Unit 'Sun' not supported by the VOUnit standard. Did you mean uN? [astropy.units.format.vounit]\n",
      "WARNING: UnitsWarning: The unit 'au' has been deprecated in the VOUnit standard. Suggested: 1.4959787e+11m. [astropy.units.format.utils]\n",
      "WARNING: UnitsWarning: Unit 'Mgeo' not supported by the VOUnit standard.  [astropy.units.format.vounit]\n",
      "WARNING: UnitsWarning: Unit 'Mjup' not supported by the VOUnit standard.  [astropy.units.format.vounit]\n",
      "WARNING: UnitsWarning: Unit 'al' not supported by the VOUnit standard. Did you mean alm or alx? [astropy.units.format.vounit]\n",
      "/tmp/ipykernel_15370/3471364870.py:19: RuntimeWarning: Mean of empty slice\n",
      "  v = np.nanmean(list(p.values()))\n",
      "/tmp/ipykernel_15370/3471364870.py:21: FutureWarning: The frame.append method is deprecated and will be removed from pandas in a future version. Use pandas.concat instead.\n",
      "  data = data.append(d, ignore_index=True)\n",
      "41it [00:41,  1.02it/s]"
     ]
    },
    {
     "name": "stdout",
     "output_type": "stream",
     "text": [
      "Found 12 references in Vizier with `B-V`.\n",
      "Found 0 references in Vizier with `log_R_HK_`.\n",
      "Found 0 references in Vizier with `EWLi`.\n"
     ]
    },
    {
     "name": "stderr",
     "output_type": "stream",
     "text": [
      "WARNING: UnitsWarning: The unit 'a' has been deprecated in the VOUnit standard. Suggested: 365.25d. [astropy.units.format.utils]\n",
      "WARNING: UnitsWarning: The unit 'pix' has been deprecated in the VOUnit standard. [astropy.units.format.utils]\n",
      "WARNING: UnitsWarning: The unit 'ct' has been deprecated in the VOUnit standard. [astropy.units.format.utils]\n",
      "WARNING: UnitsWarning: Unit 'Sun' not supported by the VOUnit standard. Did you mean uN? [astropy.units.format.vounit]\n",
      "WARNING: UnitsWarning: The unit 'au' has been deprecated in the VOUnit standard. Suggested: 1.4959787e+11m. [astropy.units.format.utils]\n",
      "WARNING: UnitsWarning: Unit 'Mgeo' not supported by the VOUnit standard.  [astropy.units.format.vounit]\n",
      "WARNING: UnitsWarning: Unit 'Mjup' not supported by the VOUnit standard.  [astropy.units.format.vounit]\n",
      "/tmp/ipykernel_15370/3471364870.py:19: RuntimeWarning: Mean of empty slice\n",
      "  v = np.nanmean(list(p.values()))\n",
      "/tmp/ipykernel_15370/3471364870.py:21: FutureWarning: The frame.append method is deprecated and will be removed from pandas in a future version. Use pandas.concat instead.\n",
      "  data = data.append(d, ignore_index=True)\n",
      "42it [00:42,  1.03it/s]"
     ]
    },
    {
     "name": "stdout",
     "output_type": "stream",
     "text": [
      "Found 9 references in Vizier with `B-V`.\n",
      "Found 0 references in Vizier with `log_R_HK_`.\n",
      "Found 0 references in Vizier with `EWLi`.\n"
     ]
    },
    {
     "name": "stderr",
     "output_type": "stream",
     "text": [
      "WARNING: UnitsWarning: The unit 'a' has been deprecated in the VOUnit standard. Suggested: 365.25d. [astropy.units.format.utils]\n",
      "WARNING: UnitsWarning: The unit 'pix' has been deprecated in the VOUnit standard. [astropy.units.format.utils]\n",
      "WARNING: UnitsWarning: The unit 'ct' has been deprecated in the VOUnit standard. [astropy.units.format.utils]\n",
      "WARNING: UnitsWarning: Unit 'Sun' not supported by the VOUnit standard. Did you mean uN? [astropy.units.format.vounit]\n",
      "WARNING: UnitsWarning: The unit 'au' has been deprecated in the VOUnit standard. Suggested: 1.4959787e+11m. [astropy.units.format.utils]\n",
      "WARNING: UnitsWarning: Unit 'Mgeo' not supported by the VOUnit standard.  [astropy.units.format.vounit]\n",
      "WARNING: UnitsWarning: Unit 'Mjup' not supported by the VOUnit standard.  [astropy.units.format.vounit]\n",
      "/tmp/ipykernel_15370/3471364870.py:19: RuntimeWarning: Mean of empty slice\n",
      "  v = np.nanmean(list(p.values()))\n",
      "/tmp/ipykernel_15370/3471364870.py:21: FutureWarning: The frame.append method is deprecated and will be removed from pandas in a future version. Use pandas.concat instead.\n",
      "  data = data.append(d, ignore_index=True)\n",
      "43it [00:43,  1.05it/s]"
     ]
    },
    {
     "name": "stdout",
     "output_type": "stream",
     "text": [
      "Found 9 references in Vizier with `B-V`.\n",
      "Found 0 references in Vizier with `log_R_HK_`.\n",
      "Found 0 references in Vizier with `EWLi`.\n"
     ]
    },
    {
     "name": "stderr",
     "output_type": "stream",
     "text": [
      "WARNING: UnitsWarning: The unit 'a' has been deprecated in the VOUnit standard. Suggested: 365.25d. [astropy.units.format.utils]\n",
      "WARNING: UnitsWarning: The unit 'pix' has been deprecated in the VOUnit standard. [astropy.units.format.utils]\n",
      "WARNING: UnitsWarning: The unit 'ct' has been deprecated in the VOUnit standard. [astropy.units.format.utils]\n",
      "WARNING: UnitsWarning: Unit 'Sun' not supported by the VOUnit standard. Did you mean uN? [astropy.units.format.vounit]\n",
      "WARNING: UnitsWarning: Unit 'Mgeo' not supported by the VOUnit standard.  [astropy.units.format.vounit]\n",
      "WARNING: UnitsWarning: The unit 'au' has been deprecated in the VOUnit standard. Suggested: 1.4959787e+11m. [astropy.units.format.utils]\n",
      "WARNING: UnitsWarning: Unit 'Mjup' not supported by the VOUnit standard.  [astropy.units.format.vounit]\n",
      "/tmp/ipykernel_15370/3471364870.py:19: RuntimeWarning: Mean of empty slice\n",
      "  v = np.nanmean(list(p.values()))\n",
      "/tmp/ipykernel_15370/3471364870.py:21: FutureWarning: The frame.append method is deprecated and will be removed from pandas in a future version. Use pandas.concat instead.\n",
      "  data = data.append(d, ignore_index=True)\n",
      "44it [00:44,  1.05it/s]"
     ]
    },
    {
     "name": "stdout",
     "output_type": "stream",
     "text": [
      "Found 9 references in Vizier with `B-V`.\n",
      "Found 0 references in Vizier with `log_R_HK_`.\n",
      "Found 0 references in Vizier with `EWLi`.\n"
     ]
    },
    {
     "name": "stderr",
     "output_type": "stream",
     "text": [
      "WARNING: UnitsWarning: The unit 'a' has been deprecated in the VOUnit standard. Suggested: 365.25d. [astropy.units.format.utils]\n",
      "WARNING: UnitsWarning: The unit 'pix' has been deprecated in the VOUnit standard. [astropy.units.format.utils]\n",
      "WARNING: UnitsWarning: The unit 'ct' has been deprecated in the VOUnit standard. [astropy.units.format.utils]\n",
      "WARNING: UnitsWarning: Unit 'Sun' not supported by the VOUnit standard. Did you mean uN? [astropy.units.format.vounit]\n",
      "WARNING: UnitsWarning: Unit 'Mgeo' not supported by the VOUnit standard.  [astropy.units.format.vounit]\n",
      "WARNING: UnitsWarning: The unit 'au' has been deprecated in the VOUnit standard. Suggested: 1.4959787e+11m. [astropy.units.format.utils]\n",
      "WARNING: UnitsWarning: Unit 'Mjup' not supported by the VOUnit standard.  [astropy.units.format.vounit]\n",
      "/tmp/ipykernel_15370/3471364870.py:19: RuntimeWarning: Mean of empty slice\n",
      "  v = np.nanmean(list(p.values()))\n",
      "/tmp/ipykernel_15370/3471364870.py:21: FutureWarning: The frame.append method is deprecated and will be removed from pandas in a future version. Use pandas.concat instead.\n",
      "  data = data.append(d, ignore_index=True)\n",
      "45it [00:45,  1.05it/s]"
     ]
    },
    {
     "name": "stdout",
     "output_type": "stream",
     "text": [
      "Found 9 references in Vizier with `B-V`.\n",
      "Found 0 references in Vizier with `log_R_HK_`.\n",
      "Found 0 references in Vizier with `EWLi`.\n"
     ]
    },
    {
     "name": "stderr",
     "output_type": "stream",
     "text": [
      "WARNING: UnitsWarning: The unit 'a' has been deprecated in the VOUnit standard. Suggested: 365.25d. [astropy.units.format.utils]\n",
      "WARNING: UnitsWarning: The unit 'pix' has been deprecated in the VOUnit standard. [astropy.units.format.utils]\n",
      "WARNING: UnitsWarning: The unit 'ct' has been deprecated in the VOUnit standard. [astropy.units.format.utils]\n",
      "WARNING: UnitsWarning: Unit 'Sun' not supported by the VOUnit standard. Did you mean uN? [astropy.units.format.vounit]\n",
      "WARNING: UnitsWarning: Unit 'Mgeo' not supported by the VOUnit standard.  [astropy.units.format.vounit]\n",
      "WARNING: UnitsWarning: The unit 'au' has been deprecated in the VOUnit standard. Suggested: 1.4959787e+11m. [astropy.units.format.utils]\n",
      "WARNING: UnitsWarning: Unit 'Mjup' not supported by the VOUnit standard.  [astropy.units.format.vounit]\n",
      "/tmp/ipykernel_15370/3471364870.py:19: RuntimeWarning: Mean of empty slice\n",
      "  v = np.nanmean(list(p.values()))\n",
      "/tmp/ipykernel_15370/3471364870.py:21: FutureWarning: The frame.append method is deprecated and will be removed from pandas in a future version. Use pandas.concat instead.\n",
      "  data = data.append(d, ignore_index=True)\n",
      "46it [00:46,  1.08it/s]"
     ]
    },
    {
     "name": "stdout",
     "output_type": "stream",
     "text": [
      "Found 8 references in Vizier with `B-V`.\n",
      "Found 0 references in Vizier with `log_R_HK_`.\n",
      "Found 0 references in Vizier with `EWLi`.\n"
     ]
    },
    {
     "name": "stderr",
     "output_type": "stream",
     "text": [
      "WARNING: UnitsWarning: The unit 'a' has been deprecated in the VOUnit standard. Suggested: 365.25d. [astropy.units.format.utils]\n",
      "WARNING: UnitsWarning: The unit 'pix' has been deprecated in the VOUnit standard. [astropy.units.format.utils]\n",
      "WARNING: UnitsWarning: The unit 'ct' has been deprecated in the VOUnit standard. [astropy.units.format.utils]\n",
      "WARNING: UnitsWarning: Unit 'Sun' not supported by the VOUnit standard. Did you mean uN? [astropy.units.format.vounit]\n",
      "WARNING: UnitsWarning: Unit 'Mgeo' not supported by the VOUnit standard.  [astropy.units.format.vounit]\n",
      "WARNING: UnitsWarning: The unit 'au' has been deprecated in the VOUnit standard. Suggested: 1.4959787e+11m. [astropy.units.format.utils]\n",
      "WARNING: UnitsWarning: Unit 'Mjup' not supported by the VOUnit standard.  [astropy.units.format.vounit]\n",
      "/tmp/ipykernel_15370/3471364870.py:19: RuntimeWarning: Mean of empty slice\n",
      "  v = np.nanmean(list(p.values()))\n",
      "/tmp/ipykernel_15370/3471364870.py:21: FutureWarning: The frame.append method is deprecated and will be removed from pandas in a future version. Use pandas.concat instead.\n",
      "  data = data.append(d, ignore_index=True)\n",
      "47it [00:47,  1.06it/s]"
     ]
    },
    {
     "name": "stdout",
     "output_type": "stream",
     "text": [
      "Found 9 references in Vizier with `B-V`.\n",
      "Found 0 references in Vizier with `log_R_HK_`.\n",
      "Found 0 references in Vizier with `EWLi`.\n"
     ]
    },
    {
     "name": "stderr",
     "output_type": "stream",
     "text": [
      "WARNING: UnitsWarning: The unit 'a' has been deprecated in the VOUnit standard. Suggested: 365.25d. [astropy.units.format.utils]\n",
      "WARNING: UnitsWarning: The unit 'pix' has been deprecated in the VOUnit standard. [astropy.units.format.utils]\n",
      "WARNING: UnitsWarning: The unit 'ct' has been deprecated in the VOUnit standard. [astropy.units.format.utils]\n",
      "WARNING: UnitsWarning: Unit 'Sun' not supported by the VOUnit standard. Did you mean uN? [astropy.units.format.vounit]\n",
      "WARNING: UnitsWarning: Unit 'Mgeo' not supported by the VOUnit standard.  [astropy.units.format.vounit]\n",
      "WARNING: UnitsWarning: The unit 'au' has been deprecated in the VOUnit standard. Suggested: 1.4959787e+11m. [astropy.units.format.utils]\n",
      "WARNING: UnitsWarning: Unit 'Mjup' not supported by the VOUnit standard.  [astropy.units.format.vounit]\n",
      "WARNING: UnitsWarning: Unit 'al' not supported by the VOUnit standard. Did you mean alm or alx? [astropy.units.format.vounit]\n",
      "/tmp/ipykernel_15370/3471364870.py:19: RuntimeWarning: Mean of empty slice\n",
      "  v = np.nanmean(list(p.values()))\n",
      "/tmp/ipykernel_15370/3471364870.py:21: FutureWarning: The frame.append method is deprecated and will be removed from pandas in a future version. Use pandas.concat instead.\n",
      "  data = data.append(d, ignore_index=True)\n",
      "48it [00:48,  1.01it/s]"
     ]
    },
    {
     "name": "stdout",
     "output_type": "stream",
     "text": [
      "Found 12 references in Vizier with `B-V`.\n",
      "Found 0 references in Vizier with `log_R_HK_`.\n",
      "Found 0 references in Vizier with `EWLi`.\n"
     ]
    },
    {
     "name": "stderr",
     "output_type": "stream",
     "text": [
      "WARNING: UnitsWarning: The unit 'a' has been deprecated in the VOUnit standard. Suggested: 365.25d. [astropy.units.format.utils]\n",
      "WARNING: UnitsWarning: The unit 'pix' has been deprecated in the VOUnit standard. [astropy.units.format.utils]\n",
      "WARNING: UnitsWarning: The unit 'ct' has been deprecated in the VOUnit standard. [astropy.units.format.utils]\n",
      "WARNING: UnitsWarning: Unit 'Sun' not supported by the VOUnit standard. Did you mean uN? [astropy.units.format.vounit]\n",
      "WARNING: UnitsWarning: Unit 'Mgeo' not supported by the VOUnit standard.  [astropy.units.format.vounit]\n",
      "WARNING: UnitsWarning: The unit 'au' has been deprecated in the VOUnit standard. Suggested: 1.4959787e+11m. [astropy.units.format.utils]\n",
      "WARNING: UnitsWarning: Unit 'Mjup' not supported by the VOUnit standard.  [astropy.units.format.vounit]\n",
      "/tmp/ipykernel_15370/3471364870.py:19: RuntimeWarning: Mean of empty slice\n",
      "  v = np.nanmean(list(p.values()))\n",
      "/tmp/ipykernel_15370/3471364870.py:21: FutureWarning: The frame.append method is deprecated and will be removed from pandas in a future version. Use pandas.concat instead.\n",
      "  data = data.append(d, ignore_index=True)\n",
      "49it [00:49,  1.01it/s]"
     ]
    },
    {
     "name": "stdout",
     "output_type": "stream",
     "text": [
      "Found 8 references in Vizier with `B-V`.\n",
      "Found 0 references in Vizier with `log_R_HK_`.\n",
      "Found 0 references in Vizier with `EWLi`.\n"
     ]
    },
    {
     "name": "stderr",
     "output_type": "stream",
     "text": [
      "WARNING: UnitsWarning: The unit 'a' has been deprecated in the VOUnit standard. Suggested: 365.25d. [astropy.units.format.utils]\n",
      "WARNING: UnitsWarning: The unit 'pix' has been deprecated in the VOUnit standard. [astropy.units.format.utils]\n",
      "WARNING: UnitsWarning: The unit 'ct' has been deprecated in the VOUnit standard. [astropy.units.format.utils]\n",
      "WARNING: UnitsWarning: Unit 'Sun' not supported by the VOUnit standard. Did you mean uN? [astropy.units.format.vounit]\n",
      "WARNING: UnitsWarning: Unit 'Mgeo' not supported by the VOUnit standard.  [astropy.units.format.vounit]\n",
      "WARNING: UnitsWarning: The unit 'au' has been deprecated in the VOUnit standard. Suggested: 1.4959787e+11m. [astropy.units.format.utils]\n",
      "WARNING: UnitsWarning: Unit 'Mjup' not supported by the VOUnit standard.  [astropy.units.format.vounit]\n",
      "/tmp/ipykernel_15370/3471364870.py:19: RuntimeWarning: Mean of empty slice\n",
      "  v = np.nanmean(list(p.values()))\n",
      "/tmp/ipykernel_15370/3471364870.py:21: FutureWarning: The frame.append method is deprecated and will be removed from pandas in a future version. Use pandas.concat instead.\n",
      "  data = data.append(d, ignore_index=True)\n",
      "50it [00:50,  1.01it/s]"
     ]
    },
    {
     "name": "stdout",
     "output_type": "stream",
     "text": [
      "Found 9 references in Vizier with `B-V`.\n",
      "Found 0 references in Vizier with `log_R_HK_`.\n",
      "Found 0 references in Vizier with `EWLi`.\n"
     ]
    },
    {
     "name": "stderr",
     "output_type": "stream",
     "text": [
      "WARNING: UnitsWarning: The unit 'a' has been deprecated in the VOUnit standard. Suggested: 365.25d. [astropy.units.format.utils]\n",
      "WARNING: UnitsWarning: The unit 'pix' has been deprecated in the VOUnit standard. [astropy.units.format.utils]\n",
      "WARNING: UnitsWarning: The unit 'ct' has been deprecated in the VOUnit standard. [astropy.units.format.utils]\n",
      "WARNING: UnitsWarning: Unit 'Sun' not supported by the VOUnit standard. Did you mean uN? [astropy.units.format.vounit]\n",
      "WARNING: UnitsWarning: The unit 'au' has been deprecated in the VOUnit standard. Suggested: 1.4959787e+11m. [astropy.units.format.utils]\n",
      "WARNING: UnitsWarning: Unit 'Mjup' not supported by the VOUnit standard.  [astropy.units.format.vounit]\n",
      "/tmp/ipykernel_15370/3471364870.py:19: RuntimeWarning: Mean of empty slice\n",
      "  v = np.nanmean(list(p.values()))\n",
      "/tmp/ipykernel_15370/3471364870.py:21: FutureWarning: The frame.append method is deprecated and will be removed from pandas in a future version. Use pandas.concat instead.\n",
      "  data = data.append(d, ignore_index=True)\n",
      "51it [00:50,  1.04it/s]"
     ]
    },
    {
     "name": "stdout",
     "output_type": "stream",
     "text": [
      "Found 10 references in Vizier with `B-V`.\n",
      "Found 0 references in Vizier with `log_R_HK_`.\n",
      "Found 0 references in Vizier with `EWLi`.\n"
     ]
    },
    {
     "name": "stderr",
     "output_type": "stream",
     "text": [
      "WARNING: UnitsWarning: The unit 'a' has been deprecated in the VOUnit standard. Suggested: 365.25d. [astropy.units.format.utils]\n",
      "WARNING: UnitsWarning: The unit 'pix' has been deprecated in the VOUnit standard. [astropy.units.format.utils]\n",
      "WARNING: UnitsWarning: The unit 'ct' has been deprecated in the VOUnit standard. [astropy.units.format.utils]\n",
      "WARNING: UnitsWarning: Unit 'Sun' not supported by the VOUnit standard. Did you mean uN? [astropy.units.format.vounit]\n",
      "WARNING: UnitsWarning: The unit 'au' has been deprecated in the VOUnit standard. Suggested: 1.4959787e+11m. [astropy.units.format.utils]\n",
      "WARNING: UnitsWarning: Unit 'Mgeo' not supported by the VOUnit standard.  [astropy.units.format.vounit]\n",
      "WARNING: UnitsWarning: Unit 'Mjup' not supported by the VOUnit standard.  [astropy.units.format.vounit]\n",
      "/tmp/ipykernel_15370/3471364870.py:19: RuntimeWarning: Mean of empty slice\n",
      "  v = np.nanmean(list(p.values()))\n",
      "/tmp/ipykernel_15370/3471364870.py:21: FutureWarning: The frame.append method is deprecated and will be removed from pandas in a future version. Use pandas.concat instead.\n",
      "  data = data.append(d, ignore_index=True)\n",
      "52it [00:52,  1.00it/s]"
     ]
    },
    {
     "name": "stdout",
     "output_type": "stream",
     "text": [
      "Found 7 references in Vizier with `B-V`.\n",
      "Found 0 references in Vizier with `log_R_HK_`.\n",
      "Found 0 references in Vizier with `EWLi`.\n"
     ]
    },
    {
     "name": "stderr",
     "output_type": "stream",
     "text": [
      "WARNING: UnitsWarning: The unit 'a' has been deprecated in the VOUnit standard. Suggested: 365.25d. [astropy.units.format.utils]\n",
      "WARNING: UnitsWarning: The unit 'pix' has been deprecated in the VOUnit standard. [astropy.units.format.utils]\n",
      "WARNING: UnitsWarning: The unit 'ct' has been deprecated in the VOUnit standard. [astropy.units.format.utils]\n",
      "WARNING: UnitsWarning: Unit 'Sun' not supported by the VOUnit standard. Did you mean uN? [astropy.units.format.vounit]\n",
      "WARNING: UnitsWarning: Unit 'Mgeo' not supported by the VOUnit standard.  [astropy.units.format.vounit]\n",
      "WARNING: UnitsWarning: The unit 'au' has been deprecated in the VOUnit standard. Suggested: 1.4959787e+11m. [astropy.units.format.utils]\n",
      "WARNING: UnitsWarning: Unit 'Mjup' not supported by the VOUnit standard.  [astropy.units.format.vounit]\n",
      "/tmp/ipykernel_15370/3471364870.py:19: RuntimeWarning: Mean of empty slice\n",
      "  v = np.nanmean(list(p.values()))\n",
      "/tmp/ipykernel_15370/3471364870.py:21: FutureWarning: The frame.append method is deprecated and will be removed from pandas in a future version. Use pandas.concat instead.\n",
      "  data = data.append(d, ignore_index=True)\n",
      "53it [00:53,  1.05s/it]"
     ]
    },
    {
     "name": "stdout",
     "output_type": "stream",
     "text": [
      "Found 9 references in Vizier with `B-V`.\n",
      "Found 0 references in Vizier with `log_R_HK_`.\n",
      "Found 0 references in Vizier with `EWLi`.\n"
     ]
    },
    {
     "name": "stderr",
     "output_type": "stream",
     "text": [
      "WARNING: UnitsWarning: The unit 'a' has been deprecated in the VOUnit standard. Suggested: 365.25d. [astropy.units.format.utils]\n",
      "WARNING: UnitsWarning: The unit 'pix' has been deprecated in the VOUnit standard. [astropy.units.format.utils]\n",
      "WARNING: UnitsWarning: The unit 'ct' has been deprecated in the VOUnit standard. [astropy.units.format.utils]\n",
      "WARNING: UnitsWarning: Unit 'Sun' not supported by the VOUnit standard. Did you mean uN? [astropy.units.format.vounit]\n",
      "WARNING: UnitsWarning: Unit 'Mgeo' not supported by the VOUnit standard.  [astropy.units.format.vounit]\n",
      "WARNING: UnitsWarning: The unit 'au' has been deprecated in the VOUnit standard. Suggested: 1.4959787e+11m. [astropy.units.format.utils]\n",
      "WARNING: UnitsWarning: Unit 'Mjup' not supported by the VOUnit standard.  [astropy.units.format.vounit]\n",
      "/tmp/ipykernel_15370/3471364870.py:19: RuntimeWarning: Mean of empty slice\n",
      "  v = np.nanmean(list(p.values()))\n",
      "/tmp/ipykernel_15370/3471364870.py:21: FutureWarning: The frame.append method is deprecated and will be removed from pandas in a future version. Use pandas.concat instead.\n",
      "  data = data.append(d, ignore_index=True)\n",
      "54it [00:54,  1.08s/it]"
     ]
    },
    {
     "name": "stdout",
     "output_type": "stream",
     "text": [
      "Found 11 references in Vizier with `B-V`.\n",
      "Found 0 references in Vizier with `log_R_HK_`.\n",
      "Found 0 references in Vizier with `EWLi`.\n"
     ]
    },
    {
     "name": "stderr",
     "output_type": "stream",
     "text": [
      "WARNING: UnitsWarning: The unit 'a' has been deprecated in the VOUnit standard. Suggested: 365.25d. [astropy.units.format.utils]\n",
      "WARNING: UnitsWarning: The unit 'pix' has been deprecated in the VOUnit standard. [astropy.units.format.utils]\n",
      "WARNING: UnitsWarning: The unit 'ct' has been deprecated in the VOUnit standard. [astropy.units.format.utils]\n",
      "WARNING: UnitsWarning: Unit 'Sun' not supported by the VOUnit standard. Did you mean uN? [astropy.units.format.vounit]\n",
      "WARNING: UnitsWarning: Unit 'Mgeo' not supported by the VOUnit standard.  [astropy.units.format.vounit]\n",
      "WARNING: UnitsWarning: The unit 'au' has been deprecated in the VOUnit standard. Suggested: 1.4959787e+11m. [astropy.units.format.utils]\n",
      "WARNING: UnitsWarning: Unit 'Mjup' not supported by the VOUnit standard.  [astropy.units.format.vounit]\n",
      "/tmp/ipykernel_15370/3471364870.py:19: RuntimeWarning: Mean of empty slice\n",
      "  v = np.nanmean(list(p.values()))\n",
      "/tmp/ipykernel_15370/3471364870.py:21: FutureWarning: The frame.append method is deprecated and will be removed from pandas in a future version. Use pandas.concat instead.\n",
      "  data = data.append(d, ignore_index=True)\n",
      "55it [00:55,  1.08s/it]"
     ]
    },
    {
     "name": "stdout",
     "output_type": "stream",
     "text": [
      "Found 11 references in Vizier with `B-V`.\n",
      "Found 0 references in Vizier with `log_R_HK_`.\n",
      "Found 0 references in Vizier with `EWLi`.\n"
     ]
    },
    {
     "name": "stderr",
     "output_type": "stream",
     "text": [
      "WARNING: UnitsWarning: The unit 'a' has been deprecated in the VOUnit standard. Suggested: 365.25d. [astropy.units.format.utils]\n",
      "WARNING: UnitsWarning: The unit 'pix' has been deprecated in the VOUnit standard. [astropy.units.format.utils]\n",
      "WARNING: UnitsWarning: The unit 'ct' has been deprecated in the VOUnit standard. [astropy.units.format.utils]\n",
      "WARNING: UnitsWarning: Unit 'Sun' not supported by the VOUnit standard. Did you mean uN? [astropy.units.format.vounit]\n",
      "WARNING: UnitsWarning: The unit 'au' has been deprecated in the VOUnit standard. Suggested: 1.4959787e+11m. [astropy.units.format.utils]\n",
      "WARNING: UnitsWarning: Unit 'Mgeo' not supported by the VOUnit standard.  [astropy.units.format.vounit]\n",
      "WARNING: UnitsWarning: Unit 'Mjup' not supported by the VOUnit standard.  [astropy.units.format.vounit]\n",
      "/tmp/ipykernel_15370/3471364870.py:19: RuntimeWarning: Mean of empty slice\n",
      "  v = np.nanmean(list(p.values()))\n",
      "/tmp/ipykernel_15370/3471364870.py:21: FutureWarning: The frame.append method is deprecated and will be removed from pandas in a future version. Use pandas.concat instead.\n",
      "  data = data.append(d, ignore_index=True)\n",
      "56it [00:56,  1.05s/it]"
     ]
    },
    {
     "name": "stdout",
     "output_type": "stream",
     "text": [
      "Found 8 references in Vizier with `B-V`.\n",
      "Found 0 references in Vizier with `log_R_HK_`.\n",
      "Found 0 references in Vizier with `EWLi`.\n"
     ]
    },
    {
     "name": "stderr",
     "output_type": "stream",
     "text": [
      "WARNING: UnitsWarning: The unit 'a' has been deprecated in the VOUnit standard. Suggested: 365.25d. [astropy.units.format.utils]\n",
      "WARNING: UnitsWarning: The unit 'pix' has been deprecated in the VOUnit standard. [astropy.units.format.utils]\n",
      "WARNING: UnitsWarning: The unit 'ct' has been deprecated in the VOUnit standard. [astropy.units.format.utils]\n",
      "WARNING: UnitsWarning: Unit 'Sun' not supported by the VOUnit standard. Did you mean uN? [astropy.units.format.vounit]\n",
      "WARNING: UnitsWarning: The unit 'au' has been deprecated in the VOUnit standard. Suggested: 1.4959787e+11m. [astropy.units.format.utils]\n",
      "WARNING: UnitsWarning: Unit 'Mjup' not supported by the VOUnit standard.  [astropy.units.format.vounit]\n",
      "WARNING: UnitsWarning: The unit 'ha' has been deprecated in the VOUnit standard. Suggested: 100a. [astropy.units.format.utils]\n",
      "/tmp/ipykernel_15370/3471364870.py:19: RuntimeWarning: Mean of empty slice\n",
      "  v = np.nanmean(list(p.values()))\n",
      "/tmp/ipykernel_15370/3471364870.py:21: FutureWarning: The frame.append method is deprecated and will be removed from pandas in a future version. Use pandas.concat instead.\n",
      "  data = data.append(d, ignore_index=True)\n",
      "57it [00:57,  1.11s/it]"
     ]
    },
    {
     "name": "stdout",
     "output_type": "stream",
     "text": [
      "Found 12 references in Vizier with `B-V`.\n",
      "Found 0 references in Vizier with `log_R_HK_`.\n",
      "Found 0 references in Vizier with `EWLi`.\n"
     ]
    },
    {
     "name": "stderr",
     "output_type": "stream",
     "text": [
      "WARNING: UnitsWarning: The unit 'a' has been deprecated in the VOUnit standard. Suggested: 365.25d. [astropy.units.format.utils]\n",
      "WARNING: UnitsWarning: The unit 'pix' has been deprecated in the VOUnit standard. [astropy.units.format.utils]\n",
      "WARNING: UnitsWarning: The unit 'ct' has been deprecated in the VOUnit standard. [astropy.units.format.utils]\n",
      "WARNING: UnitsWarning: Unit 'e' not supported by the VOUnit standard.  [astropy.units.format.vounit]\n",
      "WARNING: UnitsWarning: Unit 'Sun' not supported by the VOUnit standard. Did you mean uN? [astropy.units.format.vounit]\n",
      "WARNING: UnitsWarning: The unit 'au' has been deprecated in the VOUnit standard. Suggested: 1.4959787e+11m. [astropy.units.format.utils]\n",
      "WARNING: UnitsWarning: Unit 'Mgeo' not supported by the VOUnit standard.  [astropy.units.format.vounit]\n",
      "WARNING: UnitsWarning: Unit 'Mjup' not supported by the VOUnit standard.  [astropy.units.format.vounit]\n",
      "/tmp/ipykernel_15370/3471364870.py:19: RuntimeWarning: Mean of empty slice\n",
      "  v = np.nanmean(list(p.values()))\n",
      "/tmp/ipykernel_15370/3471364870.py:21: FutureWarning: The frame.append method is deprecated and will be removed from pandas in a future version. Use pandas.concat instead.\n",
      "  data = data.append(d, ignore_index=True)\n",
      "58it [00:58,  1.10s/it]"
     ]
    },
    {
     "name": "stdout",
     "output_type": "stream",
     "text": [
      "Found 8 references in Vizier with `B-V`.\n",
      "Found 0 references in Vizier with `log_R_HK_`.\n",
      "Found 0 references in Vizier with `EWLi`.\n"
     ]
    },
    {
     "name": "stderr",
     "output_type": "stream",
     "text": [
      "WARNING: UnitsWarning: The unit 'a' has been deprecated in the VOUnit standard. Suggested: 365.25d. [astropy.units.format.utils]\n",
      "WARNING: UnitsWarning: The unit 'pix' has been deprecated in the VOUnit standard. [astropy.units.format.utils]\n",
      "WARNING: UnitsWarning: The unit 'ct' has been deprecated in the VOUnit standard. [astropy.units.format.utils]\n",
      "WARNING: UnitsWarning: Unit 'Sun' not supported by the VOUnit standard. Did you mean uN? [astropy.units.format.vounit]\n",
      "WARNING: UnitsWarning: Unit 'Mgeo' not supported by the VOUnit standard.  [astropy.units.format.vounit]\n",
      "WARNING: UnitsWarning: The unit 'au' has been deprecated in the VOUnit standard. Suggested: 1.4959787e+11m. [astropy.units.format.utils]\n",
      "WARNING: UnitsWarning: Unit 'Mjup' not supported by the VOUnit standard.  [astropy.units.format.vounit]\n",
      "/tmp/ipykernel_15370/3471364870.py:19: RuntimeWarning: Mean of empty slice\n",
      "  v = np.nanmean(list(p.values()))\n",
      "/tmp/ipykernel_15370/3471364870.py:21: FutureWarning: The frame.append method is deprecated and will be removed from pandas in a future version. Use pandas.concat instead.\n",
      "  data = data.append(d, ignore_index=True)\n",
      "59it [00:59,  1.07s/it]"
     ]
    },
    {
     "name": "stdout",
     "output_type": "stream",
     "text": [
      "Found 8 references in Vizier with `B-V`.\n",
      "Found 0 references in Vizier with `log_R_HK_`.\n",
      "Found 0 references in Vizier with `EWLi`.\n"
     ]
    },
    {
     "name": "stderr",
     "output_type": "stream",
     "text": [
      "WARNING: UnitsWarning: The unit 'a' has been deprecated in the VOUnit standard. Suggested: 365.25d. [astropy.units.format.utils]\n",
      "WARNING: UnitsWarning: The unit 'pix' has been deprecated in the VOUnit standard. [astropy.units.format.utils]\n",
      "WARNING: UnitsWarning: The unit 'ct' has been deprecated in the VOUnit standard. [astropy.units.format.utils]\n",
      "WARNING: UnitsWarning: Unit 'Sun' not supported by the VOUnit standard. Did you mean uN? [astropy.units.format.vounit]\n",
      "WARNING: UnitsWarning: Unit 'Mgeo' not supported by the VOUnit standard.  [astropy.units.format.vounit]\n",
      "WARNING: UnitsWarning: The unit 'au' has been deprecated in the VOUnit standard. Suggested: 1.4959787e+11m. [astropy.units.format.utils]\n",
      "WARNING: UnitsWarning: Unit 'Mjup' not supported by the VOUnit standard.  [astropy.units.format.vounit]\n",
      "/tmp/ipykernel_15370/3471364870.py:19: RuntimeWarning: Mean of empty slice\n",
      "  v = np.nanmean(list(p.values()))\n",
      "/tmp/ipykernel_15370/3471364870.py:21: FutureWarning: The frame.append method is deprecated and will be removed from pandas in a future version. Use pandas.concat instead.\n",
      "  data = data.append(d, ignore_index=True)\n",
      "60it [01:00,  1.02s/it]"
     ]
    },
    {
     "name": "stdout",
     "output_type": "stream",
     "text": [
      "Found 11 references in Vizier with `B-V`.\n",
      "Found 0 references in Vizier with `log_R_HK_`.\n",
      "Found 1 references in Vizier with `EWLi`.\n"
     ]
    },
    {
     "name": "stderr",
     "output_type": "stream",
     "text": [
      "WARNING: UnitsWarning: The unit 'a' has been deprecated in the VOUnit standard. Suggested: 365.25d. [astropy.units.format.utils]\n",
      "WARNING: UnitsWarning: The unit 'pix' has been deprecated in the VOUnit standard. [astropy.units.format.utils]\n",
      "WARNING: UnitsWarning: The unit 'ct' has been deprecated in the VOUnit standard. [astropy.units.format.utils]\n",
      "WARNING: UnitsWarning: Unit 'Sun' not supported by the VOUnit standard. Did you mean uN? [astropy.units.format.vounit]\n",
      "WARNING: UnitsWarning: Unit 'Mgeo' not supported by the VOUnit standard.  [astropy.units.format.vounit]\n",
      "WARNING: UnitsWarning: The unit 'au' has been deprecated in the VOUnit standard. Suggested: 1.4959787e+11m. [astropy.units.format.utils]\n",
      "WARNING: UnitsWarning: Unit 'Mjup' not supported by the VOUnit standard.  [astropy.units.format.vounit]\n",
      "/tmp/ipykernel_15370/3471364870.py:19: RuntimeWarning: Mean of empty slice\n",
      "  v = np.nanmean(list(p.values()))\n",
      "/tmp/ipykernel_15370/3471364870.py:21: FutureWarning: The frame.append method is deprecated and will be removed from pandas in a future version. Use pandas.concat instead.\n",
      "  data = data.append(d, ignore_index=True)\n",
      "61it [01:02,  1.12s/it]"
     ]
    },
    {
     "name": "stdout",
     "output_type": "stream",
     "text": [
      "Found 12 references in Vizier with `B-V`.\n",
      "Found 0 references in Vizier with `log_R_HK_`.\n",
      "Found 0 references in Vizier with `EWLi`.\n"
     ]
    },
    {
     "name": "stderr",
     "output_type": "stream",
     "text": [
      "WARNING: UnitsWarning: The unit 'a' has been deprecated in the VOUnit standard. Suggested: 365.25d. [astropy.units.format.utils]\n",
      "WARNING: UnitsWarning: The unit 'pix' has been deprecated in the VOUnit standard. [astropy.units.format.utils]\n",
      "WARNING: UnitsWarning: The unit 'ct' has been deprecated in the VOUnit standard. [astropy.units.format.utils]\n",
      "WARNING: UnitsWarning: Unit 'Sun' not supported by the VOUnit standard. Did you mean uN? [astropy.units.format.vounit]\n",
      "WARNING: UnitsWarning: Unit 'Mgeo' not supported by the VOUnit standard.  [astropy.units.format.vounit]\n",
      "WARNING: UnitsWarning: The unit 'au' has been deprecated in the VOUnit standard. Suggested: 1.4959787e+11m. [astropy.units.format.utils]\n",
      "WARNING: UnitsWarning: Unit 'Mjup' not supported by the VOUnit standard.  [astropy.units.format.vounit]\n",
      "/tmp/ipykernel_15370/3471364870.py:19: RuntimeWarning: Mean of empty slice\n",
      "  v = np.nanmean(list(p.values()))\n",
      "/tmp/ipykernel_15370/3471364870.py:21: FutureWarning: The frame.append method is deprecated and will be removed from pandas in a future version. Use pandas.concat instead.\n",
      "  data = data.append(d, ignore_index=True)\n",
      "62it [01:03,  1.12s/it]"
     ]
    },
    {
     "name": "stdout",
     "output_type": "stream",
     "text": [
      "Found 11 references in Vizier with `B-V`.\n",
      "Found 0 references in Vizier with `log_R_HK_`.\n",
      "Found 0 references in Vizier with `EWLi`.\n"
     ]
    },
    {
     "name": "stderr",
     "output_type": "stream",
     "text": [
      "WARNING: UnitsWarning: The unit 'a' has been deprecated in the VOUnit standard. Suggested: 365.25d. [astropy.units.format.utils]\n",
      "WARNING: UnitsWarning: The unit 'pix' has been deprecated in the VOUnit standard. [astropy.units.format.utils]\n",
      "WARNING: UnitsWarning: The unit 'ct' has been deprecated in the VOUnit standard. [astropy.units.format.utils]\n",
      "WARNING: UnitsWarning: Unit 'Sun' not supported by the VOUnit standard. Did you mean uN? [astropy.units.format.vounit]\n",
      "WARNING: UnitsWarning: The unit 'au' has been deprecated in the VOUnit standard. Suggested: 1.4959787e+11m. [astropy.units.format.utils]\n",
      "WARNING: UnitsWarning: Unit 'Mjup' not supported by the VOUnit standard.  [astropy.units.format.vounit]\n",
      "/tmp/ipykernel_15370/3471364870.py:19: RuntimeWarning: Mean of empty slice\n",
      "  v = np.nanmean(list(p.values()))\n",
      "/tmp/ipykernel_15370/3471364870.py:21: FutureWarning: The frame.append method is deprecated and will be removed from pandas in a future version. Use pandas.concat instead.\n",
      "  data = data.append(d, ignore_index=True)\n",
      "63it [01:04,  1.06s/it]"
     ]
    },
    {
     "name": "stdout",
     "output_type": "stream",
     "text": [
      "Found 8 references in Vizier with `B-V`.\n",
      "Found 0 references in Vizier with `log_R_HK_`.\n",
      "Found 0 references in Vizier with `EWLi`.\n"
     ]
    },
    {
     "name": "stderr",
     "output_type": "stream",
     "text": [
      "WARNING: UnitsWarning: The unit 'a' has been deprecated in the VOUnit standard. Suggested: 365.25d. [astropy.units.format.utils]\n",
      "WARNING: UnitsWarning: The unit 'pix' has been deprecated in the VOUnit standard. [astropy.units.format.utils]\n",
      "WARNING: UnitsWarning: The unit 'ct' has been deprecated in the VOUnit standard. [astropy.units.format.utils]\n",
      "WARNING: UnitsWarning: Unit 'Sun' not supported by the VOUnit standard. Did you mean uN? [astropy.units.format.vounit]\n",
      "WARNING: UnitsWarning: Unit 'Mgeo' not supported by the VOUnit standard.  [astropy.units.format.vounit]\n",
      "WARNING: UnitsWarning: The unit 'au' has been deprecated in the VOUnit standard. Suggested: 1.4959787e+11m. [astropy.units.format.utils]\n",
      "WARNING: UnitsWarning: Unit 'Mjup' not supported by the VOUnit standard.  [astropy.units.format.vounit]\n",
      "/tmp/ipykernel_15370/3471364870.py:19: RuntimeWarning: Mean of empty slice\n",
      "  v = np.nanmean(list(p.values()))\n",
      "/tmp/ipykernel_15370/3471364870.py:21: FutureWarning: The frame.append method is deprecated and will be removed from pandas in a future version. Use pandas.concat instead.\n",
      "  data = data.append(d, ignore_index=True)\n",
      "64it [01:05,  1.05s/it]"
     ]
    },
    {
     "name": "stdout",
     "output_type": "stream",
     "text": [
      "Found 11 references in Vizier with `B-V`.\n",
      "Found 0 references in Vizier with `log_R_HK_`.\n",
      "Found 0 references in Vizier with `EWLi`.\n"
     ]
    },
    {
     "name": "stderr",
     "output_type": "stream",
     "text": [
      "WARNING: UnitsWarning: The unit 'a' has been deprecated in the VOUnit standard. Suggested: 365.25d. [astropy.units.format.utils]\n",
      "WARNING: UnitsWarning: The unit 'pix' has been deprecated in the VOUnit standard. [astropy.units.format.utils]\n",
      "WARNING: UnitsWarning: The unit 'ct' has been deprecated in the VOUnit standard. [astropy.units.format.utils]\n",
      "WARNING: UnitsWarning: Unit 'Sun' not supported by the VOUnit standard. Did you mean uN? [astropy.units.format.vounit]\n",
      "WARNING: UnitsWarning: Unit 'Mgeo' not supported by the VOUnit standard.  [astropy.units.format.vounit]\n",
      "WARNING: UnitsWarning: The unit 'au' has been deprecated in the VOUnit standard. Suggested: 1.4959787e+11m. [astropy.units.format.utils]\n",
      "WARNING: UnitsWarning: Unit 'Mjup' not supported by the VOUnit standard.  [astropy.units.format.vounit]\n",
      "/tmp/ipykernel_15370/3471364870.py:19: RuntimeWarning: Mean of empty slice\n",
      "  v = np.nanmean(list(p.values()))\n",
      "/tmp/ipykernel_15370/3471364870.py:21: FutureWarning: The frame.append method is deprecated and will be removed from pandas in a future version. Use pandas.concat instead.\n",
      "  data = data.append(d, ignore_index=True)\n",
      "65it [01:05,  1.01it/s]"
     ]
    },
    {
     "name": "stdout",
     "output_type": "stream",
     "text": [
      "Found 8 references in Vizier with `B-V`.\n",
      "Found 0 references in Vizier with `log_R_HK_`.\n",
      "Found 0 references in Vizier with `EWLi`.\n"
     ]
    },
    {
     "name": "stderr",
     "output_type": "stream",
     "text": [
      "WARNING: UnitsWarning: The unit 'a' has been deprecated in the VOUnit standard. Suggested: 365.25d. [astropy.units.format.utils]\n",
      "WARNING: UnitsWarning: The unit 'pix' has been deprecated in the VOUnit standard. [astropy.units.format.utils]\n",
      "WARNING: UnitsWarning: The unit 'ct' has been deprecated in the VOUnit standard. [astropy.units.format.utils]\n",
      "WARNING: UnitsWarning: Unit 'Sun' not supported by the VOUnit standard. Did you mean uN? [astropy.units.format.vounit]\n",
      "WARNING: UnitsWarning: Unit 'Mgeo' not supported by the VOUnit standard.  [astropy.units.format.vounit]\n",
      "WARNING: UnitsWarning: The unit 'au' has been deprecated in the VOUnit standard. Suggested: 1.4959787e+11m. [astropy.units.format.utils]\n",
      "WARNING: UnitsWarning: Unit 'Mjup' not supported by the VOUnit standard.  [astropy.units.format.vounit]\n",
      "/tmp/ipykernel_15370/3471364870.py:19: RuntimeWarning: Mean of empty slice\n",
      "  v = np.nanmean(list(p.values()))\n",
      "/tmp/ipykernel_15370/3471364870.py:21: FutureWarning: The frame.append method is deprecated and will be removed from pandas in a future version. Use pandas.concat instead.\n",
      "  data = data.append(d, ignore_index=True)\n",
      "66it [01:06,  1.01it/s]"
     ]
    },
    {
     "name": "stdout",
     "output_type": "stream",
     "text": [
      "Found 11 references in Vizier with `B-V`.\n",
      "Found 0 references in Vizier with `log_R_HK_`.\n",
      "Found 0 references in Vizier with `EWLi`.\n"
     ]
    },
    {
     "name": "stderr",
     "output_type": "stream",
     "text": [
      "WARNING: UnitsWarning: The unit 'a' has been deprecated in the VOUnit standard. Suggested: 365.25d. [astropy.units.format.utils]\n",
      "WARNING: UnitsWarning: The unit 'pix' has been deprecated in the VOUnit standard. [astropy.units.format.utils]\n",
      "WARNING: UnitsWarning: The unit 'ct' has been deprecated in the VOUnit standard. [astropy.units.format.utils]\n",
      "WARNING: UnitsWarning: Unit 'Sun' not supported by the VOUnit standard. Did you mean uN? [astropy.units.format.vounit]\n",
      "WARNING: UnitsWarning: Unit 'Mgeo' not supported by the VOUnit standard.  [astropy.units.format.vounit]\n",
      "WARNING: UnitsWarning: The unit 'au' has been deprecated in the VOUnit standard. Suggested: 1.4959787e+11m. [astropy.units.format.utils]\n",
      "WARNING: UnitsWarning: Unit 'Mjup' not supported by the VOUnit standard.  [astropy.units.format.vounit]\n",
      "WARNING: UnitsWarning: The unit 'ha' has been deprecated in the VOUnit standard. Suggested: 100a. [astropy.units.format.utils]\n",
      "/tmp/ipykernel_15370/3471364870.py:19: RuntimeWarning: Mean of empty slice\n",
      "  v = np.nanmean(list(p.values()))\n",
      "/tmp/ipykernel_15370/3471364870.py:21: FutureWarning: The frame.append method is deprecated and will be removed from pandas in a future version. Use pandas.concat instead.\n",
      "  data = data.append(d, ignore_index=True)\n",
      "67it [01:08,  1.04s/it]"
     ]
    },
    {
     "name": "stdout",
     "output_type": "stream",
     "text": [
      "Found 10 references in Vizier with `B-V`.\n",
      "Found 0 references in Vizier with `log_R_HK_`.\n",
      "Found 0 references in Vizier with `EWLi`.\n"
     ]
    },
    {
     "name": "stderr",
     "output_type": "stream",
     "text": [
      "WARNING: UnitsWarning: The unit 'a' has been deprecated in the VOUnit standard. Suggested: 365.25d. [astropy.units.format.utils]\n",
      "WARNING: UnitsWarning: The unit 'pix' has been deprecated in the VOUnit standard. [astropy.units.format.utils]\n",
      "WARNING: UnitsWarning: The unit 'ct' has been deprecated in the VOUnit standard. [astropy.units.format.utils]\n",
      "WARNING: UnitsWarning: Unit 'Sun' not supported by the VOUnit standard. Did you mean uN? [astropy.units.format.vounit]\n",
      "WARNING: UnitsWarning: Unit 'Mgeo' not supported by the VOUnit standard.  [astropy.units.format.vounit]\n",
      "WARNING: UnitsWarning: The unit 'au' has been deprecated in the VOUnit standard. Suggested: 1.4959787e+11m. [astropy.units.format.utils]\n",
      "WARNING: UnitsWarning: Unit 'Mjup' not supported by the VOUnit standard.  [astropy.units.format.vounit]\n",
      "/tmp/ipykernel_15370/3471364870.py:19: RuntimeWarning: Mean of empty slice\n",
      "  v = np.nanmean(list(p.values()))\n",
      "/tmp/ipykernel_15370/3471364870.py:21: FutureWarning: The frame.append method is deprecated and will be removed from pandas in a future version. Use pandas.concat instead.\n",
      "  data = data.append(d, ignore_index=True)\n",
      "68it [01:08,  1.06it/s]"
     ]
    },
    {
     "name": "stdout",
     "output_type": "stream",
     "text": [
      "Found 8 references in Vizier with `B-V`.\n",
      "Found 0 references in Vizier with `log_R_HK_`.\n",
      "Found 0 references in Vizier with `EWLi`.\n"
     ]
    },
    {
     "name": "stderr",
     "output_type": "stream",
     "text": [
      "WARNING: UnitsWarning: The unit 'pix' has been deprecated in the VOUnit standard. [astropy.units.format.utils]\n",
      "WARNING: UnitsWarning: The unit 'ct' has been deprecated in the VOUnit standard. [astropy.units.format.utils]\n",
      "WARNING: UnitsWarning: Unit 'e' not supported by the VOUnit standard.  [astropy.units.format.vounit]\n",
      "WARNING: UnitsWarning: Unit 'Sun' not supported by the VOUnit standard. Did you mean uN? [astropy.units.format.vounit]\n",
      "WARNING: UnitsWarning: Unit 'Earth' not supported by the VOUnit standard.  [astropy.units.format.vounit]\n",
      "WARNING: UnitsWarning: Unit 'Rgeo' not supported by the VOUnit standard.  [astropy.units.format.vounit]\n",
      "WARNING: UnitsWarning: Unit 'Mgeo' not supported by the VOUnit standard.  [astropy.units.format.vounit]\n",
      "WARNING: UnitsWarning: The unit 'au' has been deprecated in the VOUnit standard. Suggested: 1.4959787e+11m. [astropy.units.format.utils]\n",
      "WARNING: UnitsWarning: Unit 'Mjup' not supported by the VOUnit standard.  [astropy.units.format.vounit]\n",
      "WARNING: UnitsWarning: Unit 'Rjup' not supported by the VOUnit standard.  [astropy.units.format.vounit]\n",
      "/tmp/ipykernel_15370/3471364870.py:19: RuntimeWarning: Mean of empty slice\n",
      "  v = np.nanmean(list(p.values()))\n",
      "/tmp/ipykernel_15370/3471364870.py:21: FutureWarning: The frame.append method is deprecated and will be removed from pandas in a future version. Use pandas.concat instead.\n",
      "  data = data.append(d, ignore_index=True)\n",
      "69it [01:09,  1.09it/s]"
     ]
    },
    {
     "name": "stdout",
     "output_type": "stream",
     "text": [
      "Found 4 references in Vizier with `B-V`.\n",
      "Found 0 references in Vizier with `log_R_HK_`.\n",
      "Found 0 references in Vizier with `EWLi`.\n"
     ]
    },
    {
     "name": "stderr",
     "output_type": "stream",
     "text": [
      "WARNING: UnitsWarning: The unit 'a' has been deprecated in the VOUnit standard. Suggested: 365.25d. [astropy.units.format.utils]\n",
      "WARNING: UnitsWarning: The unit 'pix' has been deprecated in the VOUnit standard. [astropy.units.format.utils]\n",
      "WARNING: UnitsWarning: The unit 'ct' has been deprecated in the VOUnit standard. [astropy.units.format.utils]\n",
      "WARNING: UnitsWarning: Unit 'Sun' not supported by the VOUnit standard. Did you mean uN? [astropy.units.format.vounit]\n",
      "WARNING: UnitsWarning: Unit 'JD' not supported by the VOUnit standard.  [astropy.units.format.vounit]\n",
      "WARNING: UnitsWarning: Unit 'Mgeo' not supported by the VOUnit standard.  [astropy.units.format.vounit]\n",
      "WARNING: UnitsWarning: Unit 'MJup' not supported by the VOUnit standard.  [astropy.units.format.vounit]\n",
      "WARNING: UnitsWarning: The unit 'au' has been deprecated in the VOUnit standard. Suggested: 1.4959787e+11m. [astropy.units.format.utils]\n",
      "WARNING: UnitsWarning: Unit 'Mjup' not supported by the VOUnit standard.  [astropy.units.format.vounit]\n",
      "WARNING: UnitsWarning: Unit 'al' not supported by the VOUnit standard. Did you mean alm or alx? [astropy.units.format.vounit]\n",
      "WARNING: UnitsWarning: The unit 'G' has been deprecated in the VOUnit standard. Suggested: 0.0001T. [astropy.units.format.utils]\n",
      "/tmp/ipykernel_15370/3471364870.py:21: FutureWarning: The frame.append method is deprecated and will be removed from pandas in a future version. Use pandas.concat instead.\n",
      "  data = data.append(d, ignore_index=True)\n",
      "70it [01:11,  1.14s/it]"
     ]
    },
    {
     "name": "stdout",
     "output_type": "stream",
     "text": [
      "Found 22 references in Vizier with `B-V`.\n",
      "Found 2 references in Vizier with `log_R_HK_`.\n",
      "Found 2 references in Vizier with `EWLi`.\n"
     ]
    },
    {
     "name": "stderr",
     "output_type": "stream",
     "text": [
      "WARNING: UnitsWarning: The unit 'a' has been deprecated in the VOUnit standard. Suggested: 365.25d. [astropy.units.format.utils]\n",
      "WARNING: UnitsWarning: The unit 'pix' has been deprecated in the VOUnit standard. [astropy.units.format.utils]\n",
      "WARNING: UnitsWarning: Unit 'Sun' not supported by the VOUnit standard. Did you mean uN? [astropy.units.format.vounit]\n",
      "WARNING: UnitsWarning: Unit 'Mgeo' not supported by the VOUnit standard.  [astropy.units.format.vounit]\n",
      "WARNING: UnitsWarning: The unit 'Ga' has been deprecated in the VOUnit standard. Suggested: 1e+09a. [astropy.units.format.utils]\n",
      "WARNING: UnitsWarning: The unit 'au' has been deprecated in the VOUnit standard. Suggested: 1.4959787e+11m. [astropy.units.format.utils]\n",
      "WARNING: UnitsWarning: Unit 'Mjup' not supported by the VOUnit standard.  [astropy.units.format.vounit]\n",
      "WARNING: UnitsWarning: Unit 'al' not supported by the VOUnit standard. Did you mean alm or alx? [astropy.units.format.vounit]\n",
      "/tmp/ipykernel_15370/3471364870.py:19: RuntimeWarning: Mean of empty slice\n",
      "  v = np.nanmean(list(p.values()))\n",
      "/tmp/ipykernel_15370/3471364870.py:21: FutureWarning: The frame.append method is deprecated and will be removed from pandas in a future version. Use pandas.concat instead.\n",
      "  data = data.append(d, ignore_index=True)\n",
      "71it [01:12,  1.24s/it]"
     ]
    },
    {
     "name": "stdout",
     "output_type": "stream",
     "text": [
      "Found 27 references in Vizier with `B-V`.\n",
      "Found 1 references in Vizier with `log_R_HK_`.\n",
      "Found 0 references in Vizier with `EWLi`.\n"
     ]
    },
    {
     "name": "stderr",
     "output_type": "stream",
     "text": [
      "WARNING: UnitsWarning: The unit 'a' has been deprecated in the VOUnit standard. Suggested: 365.25d. [astropy.units.format.utils]\n",
      "WARNING: UnitsWarning: The unit 'ha' has been deprecated in the VOUnit standard. Suggested: 100a. [astropy.units.format.utils]\n",
      "WARNING: UnitsWarning: The unit 'pix' has been deprecated in the VOUnit standard. [astropy.units.format.utils]\n",
      "WARNING: UnitsWarning: The unit 'ct' has been deprecated in the VOUnit standard. [astropy.units.format.utils]\n",
      "WARNING: UnitsWarning: Unit 'Sun' not supported by the VOUnit standard. Did you mean uN? [astropy.units.format.vounit]\n",
      "WARNING: UnitsWarning: The unit 'au' has been deprecated in the VOUnit standard. Suggested: 1.4959787e+11m. [astropy.units.format.utils]\n",
      "WARNING: UnitsWarning: Unit 'Mjup' not supported by the VOUnit standard.  [astropy.units.format.vounit]\n",
      "WARNING: UnitsWarning: Unit 'al' not supported by the VOUnit standard. Did you mean alm or alx? [astropy.units.format.vounit]\n",
      "/tmp/ipykernel_15370/3471364870.py:19: RuntimeWarning: Mean of empty slice\n",
      "  v = np.nanmean(list(p.values()))\n",
      "/tmp/ipykernel_15370/3471364870.py:21: FutureWarning: The frame.append method is deprecated and will be removed from pandas in a future version. Use pandas.concat instead.\n",
      "  data = data.append(d, ignore_index=True)\n",
      "72it [01:14,  1.25s/it]"
     ]
    },
    {
     "name": "stdout",
     "output_type": "stream",
     "text": [
      "Found 21 references in Vizier with `B-V`.\n",
      "Found 0 references in Vizier with `log_R_HK_`.\n",
      "Found 0 references in Vizier with `EWLi`.\n"
     ]
    },
    {
     "name": "stderr",
     "output_type": "stream",
     "text": [
      "WARNING: UnitsWarning: The unit 'a' has been deprecated in the VOUnit standard. Suggested: 365.25d. [astropy.units.format.utils]\n",
      "WARNING: UnitsWarning: The unit 'pix' has been deprecated in the VOUnit standard. [astropy.units.format.utils]\n",
      "WARNING: UnitsWarning: The unit 'ct' has been deprecated in the VOUnit standard. [astropy.units.format.utils]\n",
      "WARNING: UnitsWarning: Unit 'Sun' not supported by the VOUnit standard. Did you mean uN? [astropy.units.format.vounit]\n",
      "WARNING: UnitsWarning: Unit 'JD' not supported by the VOUnit standard.  [astropy.units.format.vounit]\n",
      "WARNING: UnitsWarning: Unit 'Mgeo' not supported by the VOUnit standard.  [astropy.units.format.vounit]\n",
      "WARNING: UnitsWarning: The unit 'au' has been deprecated in the VOUnit standard. Suggested: 1.4959787e+11m. [astropy.units.format.utils]\n",
      "WARNING: UnitsWarning: Unit 'Mjup' not supported by the VOUnit standard.  [astropy.units.format.vounit]\n",
      "WARNING: UnitsWarning: Unit 'al' not supported by the VOUnit standard. Did you mean alm or alx? [astropy.units.format.vounit]\n",
      "/tmp/ipykernel_15370/3471364870.py:21: FutureWarning: The frame.append method is deprecated and will be removed from pandas in a future version. Use pandas.concat instead.\n",
      "  data = data.append(d, ignore_index=True)\n",
      "73it [01:15,  1.34s/it]"
     ]
    },
    {
     "name": "stdout",
     "output_type": "stream",
     "text": [
      "Found 24 references in Vizier with `B-V`.\n",
      "Found 2 references in Vizier with `log_R_HK_`.\n",
      "Found 1 references in Vizier with `EWLi`.\n"
     ]
    },
    {
     "name": "stderr",
     "output_type": "stream",
     "text": [
      "WARNING: UnitsWarning: The unit 'a' has been deprecated in the VOUnit standard. Suggested: 365.25d. [astropy.units.format.utils]\n",
      "WARNING: UnitsWarning: The unit 'pix' has been deprecated in the VOUnit standard. [astropy.units.format.utils]\n",
      "WARNING: UnitsWarning: The unit 'ct' has been deprecated in the VOUnit standard. [astropy.units.format.utils]\n",
      "WARNING: UnitsWarning: Unit 'Sun' not supported by the VOUnit standard. Did you mean uN? [astropy.units.format.vounit]\n",
      "WARNING: UnitsWarning: Unit 'JD' not supported by the VOUnit standard.  [astropy.units.format.vounit]\n",
      "WARNING: UnitsWarning: Unit 'Mgeo' not supported by the VOUnit standard.  [astropy.units.format.vounit]\n",
      "WARNING: UnitsWarning: The unit 'au' has been deprecated in the VOUnit standard. Suggested: 1.4959787e+11m. [astropy.units.format.utils]\n",
      "WARNING: UnitsWarning: Unit 'Mjup' not supported by the VOUnit standard.  [astropy.units.format.vounit]\n",
      "WARNING: UnitsWarning: Unit 'al' not supported by the VOUnit standard. Did you mean alm or alx? [astropy.units.format.vounit]\n",
      "WARNING: UnitsWarning: The unit 'G' has been deprecated in the VOUnit standard. Suggested: 0.0001T. [astropy.units.format.utils]\n",
      "WARNING: UnitsWarning: Unit 'kAU' not supported by the VOUnit standard. Did you mean 1000a, kA, ka (deprecated), kadu or ku? [astropy.units.format.vounit]\n",
      "/tmp/ipykernel_15370/3471364870.py:21: FutureWarning: The frame.append method is deprecated and will be removed from pandas in a future version. Use pandas.concat instead.\n",
      "  data = data.append(d, ignore_index=True)\n",
      "74it [01:16,  1.32s/it]"
     ]
    },
    {
     "name": "stdout",
     "output_type": "stream",
     "text": [
      "Found 22 references in Vizier with `B-V`.\n",
      "Found 2 references in Vizier with `log_R_HK_`.\n",
      "Found 1 references in Vizier with `EWLi`.\n"
     ]
    },
    {
     "name": "stderr",
     "output_type": "stream",
     "text": [
      "WARNING: UnitsWarning: The unit 'a' has been deprecated in the VOUnit standard. Suggested: 365.25d. [astropy.units.format.utils]\n",
      "WARNING: UnitsWarning: The unit 'pix' has been deprecated in the VOUnit standard. [astropy.units.format.utils]\n",
      "WARNING: UnitsWarning: The unit 'ct' has been deprecated in the VOUnit standard. [astropy.units.format.utils]\n",
      "WARNING: UnitsWarning: Unit 'Sun' not supported by the VOUnit standard. Did you mean uN? [astropy.units.format.vounit]\n",
      "WARNING: UnitsWarning: Unit 'uas' not supported by the VOUnit standard. Did you mean 1e-06a, uA or ua (deprecated)? [astropy.units.format.vounit]\n",
      "WARNING: UnitsWarning: Unit 'Mgeo' not supported by the VOUnit standard.  [astropy.units.format.vounit]\n",
      "WARNING: UnitsWarning: The unit 'au' has been deprecated in the VOUnit standard. Suggested: 1.4959787e+11m. [astropy.units.format.utils]\n",
      "WARNING: UnitsWarning: Unit 'Mjup' not supported by the VOUnit standard.  [astropy.units.format.vounit]\n",
      "WARNING: UnitsWarning: Unit 'al' not supported by the VOUnit standard. Did you mean alm or alx? [astropy.units.format.vounit]\n",
      "/tmp/ipykernel_15370/3471364870.py:19: RuntimeWarning: Mean of empty slice\n",
      "  v = np.nanmean(list(p.values()))\n",
      "/tmp/ipykernel_15370/3471364870.py:21: FutureWarning: The frame.append method is deprecated and will be removed from pandas in a future version. Use pandas.concat instead.\n",
      "  data = data.append(d, ignore_index=True)\n",
      "75it [01:18,  1.29s/it]"
     ]
    },
    {
     "name": "stdout",
     "output_type": "stream",
     "text": [
      "Found 11 references in Vizier with `B-V`.\n",
      "Found 0 references in Vizier with `log_R_HK_`.\n",
      "Found 0 references in Vizier with `EWLi`.\n"
     ]
    },
    {
     "name": "stderr",
     "output_type": "stream",
     "text": [
      "WARNING: UnitsWarning: The unit 'a' has been deprecated in the VOUnit standard. Suggested: 365.25d. [astropy.units.format.utils]\n",
      "WARNING: UnitsWarning: The unit 'ha' has been deprecated in the VOUnit standard. Suggested: 100a. [astropy.units.format.utils]\n",
      "WARNING: UnitsWarning: The unit 'pix' has been deprecated in the VOUnit standard. [astropy.units.format.utils]\n",
      "WARNING: UnitsWarning: Unit 'Sun' not supported by the VOUnit standard. Did you mean uN? [astropy.units.format.vounit]\n",
      "WARNING: UnitsWarning: Unit 'al' not supported by the VOUnit standard. Did you mean alm or alx? [astropy.units.format.vounit]\n",
      "WARNING: UnitsWarning: The unit 'ct' has been deprecated in the VOUnit standard. [astropy.units.format.utils]\n",
      "WARNING: UnitsWarning: Unit 'JD' not supported by the VOUnit standard.  [astropy.units.format.vounit]\n",
      "WARNING: UnitsWarning: Unit 'Mgeo' not supported by the VOUnit standard.  [astropy.units.format.vounit]\n",
      "WARNING: UnitsWarning: The unit 'au' has been deprecated in the VOUnit standard. Suggested: 1.4959787e+11m. [astropy.units.format.utils]\n",
      "WARNING: UnitsWarning: Unit 'Mjup' not supported by the VOUnit standard.  [astropy.units.format.vounit]\n",
      "WARNING: UnitsWarning: The unit 'ph' has been deprecated in the VOUnit standard. [astropy.units.format.utils]\n",
      "WARNING: UnitsWarning: The unit 'G' has been deprecated in the VOUnit standard. Suggested: 0.0001T. [astropy.units.format.utils]\n",
      "/tmp/ipykernel_15370/3471364870.py:19: RuntimeWarning: Mean of empty slice\n",
      "  v = np.nanmean(list(p.values()))\n",
      "/tmp/ipykernel_15370/3471364870.py:21: FutureWarning: The frame.append method is deprecated and will be removed from pandas in a future version. Use pandas.concat instead.\n",
      "  data = data.append(d, ignore_index=True)\n",
      "76it [01:20,  1.60s/it]"
     ]
    },
    {
     "name": "stdout",
     "output_type": "stream",
     "text": [
      "Found 50 references in Vizier with `B-V`.\n",
      "Found 3 references in Vizier with `log_R_HK_`.\n",
      "Found 0 references in Vizier with `EWLi`.\n"
     ]
    },
    {
     "name": "stderr",
     "output_type": "stream",
     "text": [
      "WARNING: UnitsWarning: The unit 'a' has been deprecated in the VOUnit standard. Suggested: 365.25d. [astropy.units.format.utils]\n",
      "WARNING: UnitsWarning: The unit 'pix' has been deprecated in the VOUnit standard. [astropy.units.format.utils]\n",
      "WARNING: UnitsWarning: Unit 'Sun' not supported by the VOUnit standard. Did you mean uN? [astropy.units.format.vounit]\n",
      "WARNING: UnitsWarning: The unit 'ct' has been deprecated in the VOUnit standard. [astropy.units.format.utils]\n",
      "WARNING: UnitsWarning: Unit 'geoMass' not supported by the VOUnit standard. Did you mean EsolMass or GsolMass? [astropy.units.format.vounit]\n",
      "WARNING: UnitsWarning: Unit 'Mgeo' not supported by the VOUnit standard.  [astropy.units.format.vounit]\n",
      "WARNING: UnitsWarning: The unit 'au' has been deprecated in the VOUnit standard. Suggested: 1.4959787e+11m. [astropy.units.format.utils]\n",
      "WARNING: UnitsWarning: Unit 'Mjup' not supported by the VOUnit standard.  [astropy.units.format.vounit]\n",
      "WARNING: UnitsWarning: Unit 'al' not supported by the VOUnit standard. Did you mean alm or alx? [astropy.units.format.vounit]\n",
      "/tmp/ipykernel_15370/3471364870.py:21: FutureWarning: The frame.append method is deprecated and will be removed from pandas in a future version. Use pandas.concat instead.\n",
      "  data = data.append(d, ignore_index=True)\n",
      "77it [01:22,  1.60s/it]"
     ]
    },
    {
     "name": "stdout",
     "output_type": "stream",
     "text": [
      "Found 39 references in Vizier with `B-V`.\n",
      "Found 1 references in Vizier with `log_R_HK_`.\n",
      "Found 2 references in Vizier with `EWLi`.\n"
     ]
    },
    {
     "name": "stderr",
     "output_type": "stream",
     "text": [
      "WARNING: UnitsWarning: The unit 'a' has been deprecated in the VOUnit standard. Suggested: 365.25d. [astropy.units.format.utils]\n",
      "WARNING: UnitsWarning: The unit 'pix' has been deprecated in the VOUnit standard. [astropy.units.format.utils]\n",
      "WARNING: UnitsWarning: The unit 'ct' has been deprecated in the VOUnit standard. [astropy.units.format.utils]\n",
      "WARNING: UnitsWarning: Unit 'Sun' not supported by the VOUnit standard. Did you mean uN? [astropy.units.format.vounit]\n",
      "WARNING: UnitsWarning: Unit 'Mgeo' not supported by the VOUnit standard.  [astropy.units.format.vounit]\n",
      "WARNING: UnitsWarning: The unit 'au' has been deprecated in the VOUnit standard. Suggested: 1.4959787e+11m. [astropy.units.format.utils]\n",
      "WARNING: UnitsWarning: Unit 'Mjup' not supported by the VOUnit standard.  [astropy.units.format.vounit]\n",
      "WARNING: UnitsWarning: Unit 'al' not supported by the VOUnit standard. Did you mean alm or alx? [astropy.units.format.vounit]\n",
      "/tmp/ipykernel_15370/3471364870.py:19: RuntimeWarning: Mean of empty slice\n",
      "  v = np.nanmean(list(p.values()))\n",
      "/tmp/ipykernel_15370/3471364870.py:21: FutureWarning: The frame.append method is deprecated and will be removed from pandas in a future version. Use pandas.concat instead.\n",
      "  data = data.append(d, ignore_index=True)\n",
      "78it [01:23,  1.46s/it]"
     ]
    },
    {
     "name": "stdout",
     "output_type": "stream",
     "text": [
      "Found 12 references in Vizier with `B-V`.\n",
      "Found 0 references in Vizier with `log_R_HK_`.\n",
      "Found 1 references in Vizier with `EWLi`.\n"
     ]
    },
    {
     "name": "stderr",
     "output_type": "stream",
     "text": [
      "WARNING: UnitsWarning: The unit 'a' has been deprecated in the VOUnit standard. Suggested: 365.25d. [astropy.units.format.utils]\n",
      "WARNING: UnitsWarning: The unit 'pix' has been deprecated in the VOUnit standard. [astropy.units.format.utils]\n",
      "WARNING: UnitsWarning: The unit 'ct' has been deprecated in the VOUnit standard. [astropy.units.format.utils]\n",
      "WARNING: UnitsWarning: Unit 'Sun' not supported by the VOUnit standard. Did you mean uN? [astropy.units.format.vounit]\n",
      "WARNING: UnitsWarning: The unit 'au' has been deprecated in the VOUnit standard. Suggested: 1.4959787e+11m. [astropy.units.format.utils]\n",
      "WARNING: UnitsWarning: Unit 'Mgeo' not supported by the VOUnit standard.  [astropy.units.format.vounit]\n",
      "WARNING: UnitsWarning: Unit 'Mjup' not supported by the VOUnit standard.  [astropy.units.format.vounit]\n",
      "WARNING: UnitsWarning: Unit 'al' not supported by the VOUnit standard. Did you mean alm or alx? [astropy.units.format.vounit]\n",
      "/tmp/ipykernel_15370/3471364870.py:19: RuntimeWarning: Mean of empty slice\n",
      "  v = np.nanmean(list(p.values()))\n",
      "/tmp/ipykernel_15370/3471364870.py:21: FutureWarning: The frame.append method is deprecated and will be removed from pandas in a future version. Use pandas.concat instead.\n",
      "  data = data.append(d, ignore_index=True)\n",
      "79it [01:24,  1.51s/it]"
     ]
    },
    {
     "name": "stdout",
     "output_type": "stream",
     "text": [
      "Found 30 references in Vizier with `B-V`.\n",
      "Found 1 references in Vizier with `log_R_HK_`.\n",
      "Found 0 references in Vizier with `EWLi`.\n"
     ]
    },
    {
     "name": "stderr",
     "output_type": "stream",
     "text": [
      "WARNING: UnitsWarning: The unit 'a' has been deprecated in the VOUnit standard. Suggested: 365.25d. [astropy.units.format.utils]\n",
      "WARNING: UnitsWarning: The unit 'pix' has been deprecated in the VOUnit standard. [astropy.units.format.utils]\n",
      "WARNING: UnitsWarning: The unit 'ct' has been deprecated in the VOUnit standard. [astropy.units.format.utils]\n",
      "WARNING: UnitsWarning: Unit 'Sun' not supported by the VOUnit standard. Did you mean uN? [astropy.units.format.vounit]\n",
      "WARNING: UnitsWarning: Unit 'Mgeo' not supported by the VOUnit standard.  [astropy.units.format.vounit]\n",
      "WARNING: UnitsWarning: The unit 'au' has been deprecated in the VOUnit standard. Suggested: 1.4959787e+11m. [astropy.units.format.utils]\n",
      "WARNING: UnitsWarning: Unit 'Mjup' not supported by the VOUnit standard.  [astropy.units.format.vounit]\n",
      "WARNING: UnitsWarning: Unit 'al' not supported by the VOUnit standard. Did you mean alm or alx? [astropy.units.format.vounit]\n",
      "/tmp/ipykernel_15370/3471364870.py:19: RuntimeWarning: Mean of empty slice\n",
      "  v = np.nanmean(list(p.values()))\n",
      "/tmp/ipykernel_15370/3471364870.py:21: FutureWarning: The frame.append method is deprecated and will be removed from pandas in a future version. Use pandas.concat instead.\n",
      "  data = data.append(d, ignore_index=True)\n",
      "80it [01:26,  1.55s/it]"
     ]
    },
    {
     "name": "stdout",
     "output_type": "stream",
     "text": [
      "Found 29 references in Vizier with `B-V`.\n",
      "Found 1 references in Vizier with `log_R_HK_`.\n",
      "Found 0 references in Vizier with `EWLi`.\n"
     ]
    },
    {
     "name": "stderr",
     "output_type": "stream",
     "text": [
      "WARNING: UnitsWarning: The unit 'a' has been deprecated in the VOUnit standard. Suggested: 365.25d. [astropy.units.format.utils]\n",
      "WARNING: UnitsWarning: The unit 'pix' has been deprecated in the VOUnit standard. [astropy.units.format.utils]\n",
      "WARNING: UnitsWarning: The unit 'ct' has been deprecated in the VOUnit standard. [astropy.units.format.utils]\n",
      "WARNING: UnitsWarning: Unit 'Sun' not supported by the VOUnit standard. Did you mean uN? [astropy.units.format.vounit]\n",
      "WARNING: UnitsWarning: Unit 'Mgeo' not supported by the VOUnit standard.  [astropy.units.format.vounit]\n",
      "WARNING: UnitsWarning: The unit 'au' has been deprecated in the VOUnit standard. Suggested: 1.4959787e+11m. [astropy.units.format.utils]\n",
      "WARNING: UnitsWarning: Unit 'Mjup' not supported by the VOUnit standard.  [astropy.units.format.vounit]\n",
      "WARNING: UnitsWarning: Unit 'al' not supported by the VOUnit standard. Did you mean alm or alx? [astropy.units.format.vounit]\n",
      "/tmp/ipykernel_15370/3471364870.py:19: RuntimeWarning: Mean of empty slice\n",
      "  v = np.nanmean(list(p.values()))\n",
      "/tmp/ipykernel_15370/3471364870.py:21: FutureWarning: The frame.append method is deprecated and will be removed from pandas in a future version. Use pandas.concat instead.\n",
      "  data = data.append(d, ignore_index=True)\n",
      "81it [01:27,  1.40s/it]"
     ]
    },
    {
     "name": "stdout",
     "output_type": "stream",
     "text": [
      "Found 20 references in Vizier with `B-V`.\n",
      "Found 2 references in Vizier with `log_R_HK_`.\n",
      "Found 0 references in Vizier with `EWLi`.\n"
     ]
    },
    {
     "name": "stderr",
     "output_type": "stream",
     "text": [
      "WARNING: UnitsWarning: The unit 'a' has been deprecated in the VOUnit standard. Suggested: 365.25d. [astropy.units.format.utils]\n",
      "WARNING: UnitsWarning: The unit 'pix' has been deprecated in the VOUnit standard. [astropy.units.format.utils]\n",
      "WARNING: UnitsWarning: Unit 'Sun' not supported by the VOUnit standard. Did you mean uN? [astropy.units.format.vounit]\n",
      "WARNING: UnitsWarning: The unit 'ct' has been deprecated in the VOUnit standard. [astropy.units.format.utils]\n",
      "WARNING: UnitsWarning: The unit 'au' has been deprecated in the VOUnit standard. Suggested: 1.4959787e+11m. [astropy.units.format.utils]\n",
      "WARNING: UnitsWarning: Unit 'Mjup' not supported by the VOUnit standard.  [astropy.units.format.vounit]\n",
      "WARNING: UnitsWarning: Unit 'al' not supported by the VOUnit standard. Did you mean alm or alx? [astropy.units.format.vounit]\n",
      "/tmp/ipykernel_15370/3471364870.py:19: RuntimeWarning: Mean of empty slice\n",
      "  v = np.nanmean(list(p.values()))\n",
      "/tmp/ipykernel_15370/3471364870.py:21: FutureWarning: The frame.append method is deprecated and will be removed from pandas in a future version. Use pandas.concat instead.\n",
      "  data = data.append(d, ignore_index=True)\n",
      "82it [01:28,  1.29s/it]"
     ]
    },
    {
     "name": "stdout",
     "output_type": "stream",
     "text": [
      "Found 25 references in Vizier with `B-V`.\n",
      "Found 1 references in Vizier with `log_R_HK_`.\n",
      "Found 0 references in Vizier with `EWLi`.\n"
     ]
    },
    {
     "name": "stderr",
     "output_type": "stream",
     "text": [
      "WARNING: UnitsWarning: The unit 'a' has been deprecated in the VOUnit standard. Suggested: 365.25d. [astropy.units.format.utils]\n",
      "WARNING: UnitsWarning: The unit 'ha' has been deprecated in the VOUnit standard. Suggested: 100a. [astropy.units.format.utils]\n",
      "WARNING: UnitsWarning: The unit 'pix' has been deprecated in the VOUnit standard. [astropy.units.format.utils]\n",
      "WARNING: UnitsWarning: The unit 'ct' has been deprecated in the VOUnit standard. [astropy.units.format.utils]\n",
      "WARNING: UnitsWarning: Unit 'Sun' not supported by the VOUnit standard. Did you mean uN? [astropy.units.format.vounit]\n",
      "WARNING: UnitsWarning: The unit 'au' has been deprecated in the VOUnit standard. Suggested: 1.4959787e+11m. [astropy.units.format.utils]\n",
      "WARNING: UnitsWarning: Unit 'Mjup' not supported by the VOUnit standard.  [astropy.units.format.vounit]\n",
      "WARNING: UnitsWarning: Unit 'al' not supported by the VOUnit standard. Did you mean alm or alx? [astropy.units.format.vounit]\n",
      "/tmp/ipykernel_15370/3471364870.py:19: RuntimeWarning: Mean of empty slice\n",
      "  v = np.nanmean(list(p.values()))\n",
      "/tmp/ipykernel_15370/3471364870.py:21: FutureWarning: The frame.append method is deprecated and will be removed from pandas in a future version. Use pandas.concat instead.\n",
      "  data = data.append(d, ignore_index=True)\n",
      "83it [01:29,  1.21s/it]"
     ]
    },
    {
     "name": "stdout",
     "output_type": "stream",
     "text": [
      "Found 17 references in Vizier with `B-V`.\n",
      "Found 0 references in Vizier with `log_R_HK_`.\n",
      "Found 0 references in Vizier with `EWLi`.\n"
     ]
    },
    {
     "name": "stderr",
     "output_type": "stream",
     "text": [
      "WARNING: UnitsWarning: The unit 'a' has been deprecated in the VOUnit standard. Suggested: 365.25d. [astropy.units.format.utils]\n",
      "WARNING: UnitsWarning: The unit 'pix' has been deprecated in the VOUnit standard. [astropy.units.format.utils]\n",
      "WARNING: UnitsWarning: Unit 'Sun' not supported by the VOUnit standard. Did you mean uN? [astropy.units.format.vounit]\n",
      "WARNING: UnitsWarning: The unit 'ct' has been deprecated in the VOUnit standard. [astropy.units.format.utils]\n",
      "WARNING: UnitsWarning: The unit 'au' has been deprecated in the VOUnit standard. Suggested: 1.4959787e+11m. [astropy.units.format.utils]\n",
      "WARNING: UnitsWarning: Unit 'Mjup' not supported by the VOUnit standard.  [astropy.units.format.vounit]\n",
      "WARNING: UnitsWarning: Unit 'al' not supported by the VOUnit standard. Did you mean alm or alx? [astropy.units.format.vounit]\n",
      "/tmp/ipykernel_15370/3471364870.py:19: RuntimeWarning: Mean of empty slice\n",
      "  v = np.nanmean(list(p.values()))\n",
      "/tmp/ipykernel_15370/3471364870.py:21: FutureWarning: The frame.append method is deprecated and will be removed from pandas in a future version. Use pandas.concat instead.\n",
      "  data = data.append(d, ignore_index=True)\n",
      "84it [01:30,  1.17s/it]"
     ]
    },
    {
     "name": "stdout",
     "output_type": "stream",
     "text": [
      "Found 24 references in Vizier with `B-V`.\n",
      "Found 0 references in Vizier with `log_R_HK_`.\n",
      "Found 0 references in Vizier with `EWLi`.\n"
     ]
    },
    {
     "name": "stderr",
     "output_type": "stream",
     "text": [
      "WARNING: UnitsWarning: The unit 'a' has been deprecated in the VOUnit standard. Suggested: 365.25d. [astropy.units.format.utils]\n",
      "WARNING: UnitsWarning: The unit 'pix' has been deprecated in the VOUnit standard. [astropy.units.format.utils]\n",
      "WARNING: UnitsWarning: Unit 'Sun' not supported by the VOUnit standard. Did you mean uN? [astropy.units.format.vounit]\n",
      "WARNING: UnitsWarning: Unit 'al' not supported by the VOUnit standard. Did you mean alm or alx? [astropy.units.format.vounit]\n",
      "WARNING: UnitsWarning: Unit 'uas' not supported by the VOUnit standard. Did you mean 1e-06a, uA or ua (deprecated)? [astropy.units.format.vounit]\n",
      "WARNING: UnitsWarning: The unit 'ct' has been deprecated in the VOUnit standard. [astropy.units.format.utils]\n",
      "WARNING: UnitsWarning: Unit 'Mgeo' not supported by the VOUnit standard.  [astropy.units.format.vounit]\n",
      "WARNING: UnitsWarning: The unit 'Ga' has been deprecated in the VOUnit standard. Suggested: 1e+09a. [astropy.units.format.utils]\n",
      "WARNING: UnitsWarning: The unit 'au' has been deprecated in the VOUnit standard. Suggested: 1.4959787e+11m. [astropy.units.format.utils]\n",
      "WARNING: UnitsWarning: Unit 'Mjup' not supported by the VOUnit standard.  [astropy.units.format.vounit]\n",
      "WARNING: UnitsWarning: The unit 'ph' has been deprecated in the VOUnit standard. [astropy.units.format.utils]\n",
      "WARNING: UnitsWarning: The unit 'G' has been deprecated in the VOUnit standard. Suggested: 0.0001T. [astropy.units.format.utils]\n",
      "WARNING: UnitsWarning: Unit 'kAU' not supported by the VOUnit standard. Did you mean 1000a, kA, ka (deprecated), kadu or ku? [astropy.units.format.vounit]\n",
      "/tmp/ipykernel_15370/3471364870.py:19: RuntimeWarning: Mean of empty slice\n",
      "  v = np.nanmean(list(p.values()))\n",
      "/tmp/ipykernel_15370/3471364870.py:21: FutureWarning: The frame.append method is deprecated and will be removed from pandas in a future version. Use pandas.concat instead.\n",
      "  data = data.append(d, ignore_index=True)\n",
      "85it [01:32,  1.51s/it]"
     ]
    },
    {
     "name": "stdout",
     "output_type": "stream",
     "text": [
      "Found 54 references in Vizier with `B-V`.\n",
      "Found 2 references in Vizier with `log_R_HK_`.\n",
      "Found 0 references in Vizier with `EWLi`.\n"
     ]
    },
    {
     "name": "stderr",
     "output_type": "stream",
     "text": [
      "WARNING: UnitsWarning: The unit 'a' has been deprecated in the VOUnit standard. Suggested: 365.25d. [astropy.units.format.utils]\n",
      "WARNING: UnitsWarning: The unit 'pix' has been deprecated in the VOUnit standard. [astropy.units.format.utils]\n",
      "WARNING: UnitsWarning: The unit 'ct' has been deprecated in the VOUnit standard. [astropy.units.format.utils]\n",
      "WARNING: UnitsWarning: Unit 'Sun' not supported by the VOUnit standard. Did you mean uN? [astropy.units.format.vounit]\n",
      "WARNING: UnitsWarning: Unit 'Mgeo' not supported by the VOUnit standard.  [astropy.units.format.vounit]\n",
      "WARNING: UnitsWarning: The unit 'au' has been deprecated in the VOUnit standard. Suggested: 1.4959787e+11m. [astropy.units.format.utils]\n",
      "WARNING: UnitsWarning: Unit 'Mjup' not supported by the VOUnit standard.  [astropy.units.format.vounit]\n",
      "WARNING: UnitsWarning: Unit 'al' not supported by the VOUnit standard. Did you mean alm or alx? [astropy.units.format.vounit]\n",
      "/tmp/ipykernel_15370/3471364870.py:19: RuntimeWarning: Mean of empty slice\n",
      "  v = np.nanmean(list(p.values()))\n",
      "/tmp/ipykernel_15370/3471364870.py:21: FutureWarning: The frame.append method is deprecated and will be removed from pandas in a future version. Use pandas.concat instead.\n",
      "  data = data.append(d, ignore_index=True)\n",
      "86it [01:34,  1.53s/it]"
     ]
    },
    {
     "name": "stdout",
     "output_type": "stream",
     "text": [
      "Found 34 references in Vizier with `B-V`.\n",
      "Found 2 references in Vizier with `log_R_HK_`.\n",
      "Found 0 references in Vizier with `EWLi`.\n"
     ]
    },
    {
     "name": "stderr",
     "output_type": "stream",
     "text": [
      "WARNING: UnitsWarning: The unit 'a' has been deprecated in the VOUnit standard. Suggested: 365.25d. [astropy.units.format.utils]\n",
      "WARNING: UnitsWarning: The unit 'pix' has been deprecated in the VOUnit standard. [astropy.units.format.utils]\n",
      "WARNING: UnitsWarning: The unit 'ct' has been deprecated in the VOUnit standard. [astropy.units.format.utils]\n",
      "WARNING: UnitsWarning: Unit 'Sun' not supported by the VOUnit standard. Did you mean uN? [astropy.units.format.vounit]\n",
      "WARNING: UnitsWarning: Unit 'Mgeo' not supported by the VOUnit standard.  [astropy.units.format.vounit]\n",
      "WARNING: UnitsWarning: The unit 'au' has been deprecated in the VOUnit standard. Suggested: 1.4959787e+11m. [astropy.units.format.utils]\n",
      "WARNING: UnitsWarning: Unit 'Mjup' not supported by the VOUnit standard.  [astropy.units.format.vounit]\n",
      "WARNING: UnitsWarning: Unit 'al' not supported by the VOUnit standard. Did you mean alm or alx? [astropy.units.format.vounit]\n",
      "/tmp/ipykernel_15370/3471364870.py:19: RuntimeWarning: Mean of empty slice\n",
      "  v = np.nanmean(list(p.values()))\n",
      "/tmp/ipykernel_15370/3471364870.py:21: FutureWarning: The frame.append method is deprecated and will be removed from pandas in a future version. Use pandas.concat instead.\n",
      "  data = data.append(d, ignore_index=True)\n",
      "87it [01:35,  1.37s/it]"
     ]
    },
    {
     "name": "stdout",
     "output_type": "stream",
     "text": [
      "Found 11 references in Vizier with `B-V`.\n",
      "Found 0 references in Vizier with `log_R_HK_`.\n",
      "Found 0 references in Vizier with `EWLi`.\n"
     ]
    },
    {
     "name": "stderr",
     "output_type": "stream",
     "text": [
      "WARNING: UnitsWarning: The unit 'a' has been deprecated in the VOUnit standard. Suggested: 365.25d. [astropy.units.format.utils]\n",
      "WARNING: UnitsWarning: The unit 'pix' has been deprecated in the VOUnit standard. [astropy.units.format.utils]\n",
      "WARNING: UnitsWarning: The unit 'ct' has been deprecated in the VOUnit standard. [astropy.units.format.utils]\n",
      "WARNING: UnitsWarning: Unit 'Sun' not supported by the VOUnit standard. Did you mean uN? [astropy.units.format.vounit]\n",
      "WARNING: UnitsWarning: Unit 'JD' not supported by the VOUnit standard.  [astropy.units.format.vounit]\n",
      "WARNING: UnitsWarning: Unit 'Mgeo' not supported by the VOUnit standard.  [astropy.units.format.vounit]\n",
      "WARNING: UnitsWarning: The unit 'au' has been deprecated in the VOUnit standard. Suggested: 1.4959787e+11m. [astropy.units.format.utils]\n",
      "WARNING: UnitsWarning: Unit 'Mjup' not supported by the VOUnit standard.  [astropy.units.format.vounit]\n",
      "WARNING: UnitsWarning: Unit 'Rgeo' not supported by the VOUnit standard.  [astropy.units.format.vounit]\n",
      "WARNING: UnitsWarning: Unit 'Earth' not supported by the VOUnit standard.  [astropy.units.format.vounit]\n",
      "WARNING: UnitsWarning: Unit 'al' not supported by the VOUnit standard. Did you mean alm or alx? [astropy.units.format.vounit]\n",
      "/tmp/ipykernel_15370/3471364870.py:19: RuntimeWarning: Mean of empty slice\n",
      "  v = np.nanmean(list(p.values()))\n",
      "/tmp/ipykernel_15370/3471364870.py:21: FutureWarning: The frame.append method is deprecated and will be removed from pandas in a future version. Use pandas.concat instead.\n",
      "  data = data.append(d, ignore_index=True)\n",
      "88it [01:37,  1.53s/it]"
     ]
    },
    {
     "name": "stdout",
     "output_type": "stream",
     "text": [
      "Found 28 references in Vizier with `B-V`.\n",
      "Found 2 references in Vizier with `log_R_HK_`.\n",
      "Found 0 references in Vizier with `EWLi`.\n"
     ]
    },
    {
     "name": "stderr",
     "output_type": "stream",
     "text": [
      "WARNING: UnitsWarning: The unit 'a' has been deprecated in the VOUnit standard. Suggested: 365.25d. [astropy.units.format.utils]\n",
      "WARNING: UnitsWarning: The unit 'pix' has been deprecated in the VOUnit standard. [astropy.units.format.utils]\n",
      "WARNING: UnitsWarning: The unit 'ct' has been deprecated in the VOUnit standard. [astropy.units.format.utils]\n",
      "WARNING: UnitsWarning: Unit 'Sun' not supported by the VOUnit standard. Did you mean uN? [astropy.units.format.vounit]\n",
      "WARNING: UnitsWarning: Unit 'JD' not supported by the VOUnit standard.  [astropy.units.format.vounit]\n",
      "WARNING: UnitsWarning: Unit 'Mgeo' not supported by the VOUnit standard.  [astropy.units.format.vounit]\n",
      "WARNING: UnitsWarning: The unit 'au' has been deprecated in the VOUnit standard. Suggested: 1.4959787e+11m. [astropy.units.format.utils]\n",
      "WARNING: UnitsWarning: Unit 'Mjup' not supported by the VOUnit standard.  [astropy.units.format.vounit]\n",
      "WARNING: UnitsWarning: Unit 'ppm' not supported by the VOUnit standard. Did you mean Pm or pm? [astropy.units.format.vounit]\n",
      "WARNING: UnitsWarning: Unit 'al' not supported by the VOUnit standard. Did you mean alm or alx? [astropy.units.format.vounit]\n",
      "WARNING: UnitsWarning: The unit 'G' has been deprecated in the VOUnit standard. Suggested: 0.0001T. [astropy.units.format.utils]\n",
      "/tmp/ipykernel_15370/3471364870.py:19: RuntimeWarning: Mean of empty slice\n",
      "  v = np.nanmean(list(p.values()))\n",
      "/tmp/ipykernel_15370/3471364870.py:21: FutureWarning: The frame.append method is deprecated and will be removed from pandas in a future version. Use pandas.concat instead.\n",
      "  data = data.append(d, ignore_index=True)\n",
      "89it [01:39,  1.57s/it]"
     ]
    },
    {
     "name": "stdout",
     "output_type": "stream",
     "text": [
      "Found 31 references in Vizier with `B-V`.\n",
      "Found 2 references in Vizier with `log_R_HK_`.\n",
      "Found 0 references in Vizier with `EWLi`.\n"
     ]
    },
    {
     "name": "stderr",
     "output_type": "stream",
     "text": [
      "WARNING: UnitsWarning: The unit 'a' has been deprecated in the VOUnit standard. Suggested: 365.25d. [astropy.units.format.utils]\n",
      "WARNING: UnitsWarning: The unit 'pix' has been deprecated in the VOUnit standard. [astropy.units.format.utils]\n",
      "WARNING: UnitsWarning: Unit 'Sun' not supported by the VOUnit standard. Did you mean uN? [astropy.units.format.vounit]\n",
      "WARNING: UnitsWarning: Unit 'JD' not supported by the VOUnit standard.  [astropy.units.format.vounit]\n",
      "WARNING: UnitsWarning: Unit 'Mgeo' not supported by the VOUnit standard.  [astropy.units.format.vounit]\n",
      "WARNING: UnitsWarning: The unit 'au' has been deprecated in the VOUnit standard. Suggested: 1.4959787e+11m. [astropy.units.format.utils]\n",
      "WARNING: UnitsWarning: Unit 'Mjup' not supported by the VOUnit standard.  [astropy.units.format.vounit]\n",
      "WARNING: UnitsWarning: Unit 'al' not supported by the VOUnit standard. Did you mean alm or alx? [astropy.units.format.vounit]\n",
      "WARNING: UnitsWarning: The unit 'G' has been deprecated in the VOUnit standard. Suggested: 0.0001T. [astropy.units.format.utils]\n",
      "/tmp/ipykernel_15370/3471364870.py:19: RuntimeWarning: Mean of empty slice\n",
      "  v = np.nanmean(list(p.values()))\n",
      "/tmp/ipykernel_15370/3471364870.py:21: FutureWarning: The frame.append method is deprecated and will be removed from pandas in a future version. Use pandas.concat instead.\n",
      "  data = data.append(d, ignore_index=True)\n",
      "90it [01:40,  1.50s/it]"
     ]
    },
    {
     "name": "stdout",
     "output_type": "stream",
     "text": [
      "Found 33 references in Vizier with `B-V`.\n",
      "Found 2 references in Vizier with `log_R_HK_`.\n",
      "Found 0 references in Vizier with `EWLi`.\n"
     ]
    },
    {
     "name": "stderr",
     "output_type": "stream",
     "text": [
      "WARNING: UnitsWarning: The unit 'a' has been deprecated in the VOUnit standard. Suggested: 365.25d. [astropy.units.format.utils]\n",
      "WARNING: UnitsWarning: The unit 'pix' has been deprecated in the VOUnit standard. [astropy.units.format.utils]\n",
      "WARNING: UnitsWarning: Unit 'Sun' not supported by the VOUnit standard. Did you mean uN? [astropy.units.format.vounit]\n",
      "WARNING: UnitsWarning: Unit 'al' not supported by the VOUnit standard. Did you mean alm or alx? [astropy.units.format.vounit]\n",
      "WARNING: UnitsWarning: Unit 'Mgeo' not supported by the VOUnit standard.  [astropy.units.format.vounit]\n",
      "WARNING: UnitsWarning: The unit 'au' has been deprecated in the VOUnit standard. Suggested: 1.4959787e+11m. [astropy.units.format.utils]\n",
      "WARNING: UnitsWarning: Unit 'Mjup' not supported by the VOUnit standard.  [astropy.units.format.vounit]\n",
      "WARNING: UnitsWarning: Unit 'ppm' not supported by the VOUnit standard. Did you mean Pm or pm? [astropy.units.format.vounit]\n",
      "WARNING: UnitsWarning: The unit 'G' has been deprecated in the VOUnit standard. Suggested: 0.0001T. [astropy.units.format.utils]\n",
      "/tmp/ipykernel_15370/3471364870.py:19: RuntimeWarning: Mean of empty slice\n",
      "  v = np.nanmean(list(p.values()))\n",
      "/tmp/ipykernel_15370/3471364870.py:21: FutureWarning: The frame.append method is deprecated and will be removed from pandas in a future version. Use pandas.concat instead.\n",
      "  data = data.append(d, ignore_index=True)\n",
      "91it [01:41,  1.45s/it]"
     ]
    },
    {
     "name": "stdout",
     "output_type": "stream",
     "text": [
      "Found 34 references in Vizier with `B-V`.\n",
      "Found 0 references in Vizier with `log_R_HK_`.\n",
      "Found 0 references in Vizier with `EWLi`.\n"
     ]
    },
    {
     "name": "stderr",
     "output_type": "stream",
     "text": [
      "WARNING: UnitsWarning: The unit 'a' has been deprecated in the VOUnit standard. Suggested: 365.25d. [astropy.units.format.utils]\n",
      "WARNING: UnitsWarning: The unit 'pix' has been deprecated in the VOUnit standard. [astropy.units.format.utils]\n",
      "WARNING: UnitsWarning: The unit 'ct' has been deprecated in the VOUnit standard. [astropy.units.format.utils]\n",
      "WARNING: UnitsWarning: Unit 'Sun' not supported by the VOUnit standard. Did you mean uN? [astropy.units.format.vounit]\n",
      "WARNING: UnitsWarning: Unit 'Mgeo' not supported by the VOUnit standard.  [astropy.units.format.vounit]\n",
      "WARNING: UnitsWarning: Unit 'MJup' not supported by the VOUnit standard.  [astropy.units.format.vounit]\n",
      "WARNING: UnitsWarning: The unit 'au' has been deprecated in the VOUnit standard. Suggested: 1.4959787e+11m. [astropy.units.format.utils]\n",
      "WARNING: UnitsWarning: Unit 'Mjup' not supported by the VOUnit standard.  [astropy.units.format.vounit]\n",
      "WARNING: UnitsWarning: Unit 'al' not supported by the VOUnit standard. Did you mean alm or alx? [astropy.units.format.vounit]\n",
      "WARNING: UnitsWarning: The unit 'G' has been deprecated in the VOUnit standard. Suggested: 0.0001T. [astropy.units.format.utils]\n",
      "/tmp/ipykernel_15370/3471364870.py:21: FutureWarning: The frame.append method is deprecated and will be removed from pandas in a future version. Use pandas.concat instead.\n",
      "  data = data.append(d, ignore_index=True)\n",
      "92it [01:43,  1.41s/it]"
     ]
    },
    {
     "name": "stdout",
     "output_type": "stream",
     "text": [
      "Found 21 references in Vizier with `B-V`.\n",
      "Found 1 references in Vizier with `log_R_HK_`.\n",
      "Found 1 references in Vizier with `EWLi`.\n"
     ]
    },
    {
     "name": "stderr",
     "output_type": "stream",
     "text": [
      "WARNING: UnitsWarning: The unit 'a' has been deprecated in the VOUnit standard. Suggested: 365.25d. [astropy.units.format.utils]\n",
      "WARNING: UnitsWarning: The unit 'pix' has been deprecated in the VOUnit standard. [astropy.units.format.utils]\n",
      "WARNING: UnitsWarning: Unit 'Sun' not supported by the VOUnit standard. Did you mean uN? [astropy.units.format.vounit]\n",
      "WARNING: UnitsWarning: Unit 'JD' not supported by the VOUnit standard.  [astropy.units.format.vounit]\n",
      "WARNING: UnitsWarning: The unit 'ct' has been deprecated in the VOUnit standard. [astropy.units.format.utils]\n",
      "WARNING: UnitsWarning: The unit 'au' has been deprecated in the VOUnit standard. Suggested: 1.4959787e+11m. [astropy.units.format.utils]\n",
      "WARNING: UnitsWarning: Unit 'Mjup' not supported by the VOUnit standard.  [astropy.units.format.vounit]\n",
      "WARNING: UnitsWarning: Unit 'al' not supported by the VOUnit standard. Did you mean alm or alx? [astropy.units.format.vounit]\n",
      "/tmp/ipykernel_15370/3471364870.py:19: RuntimeWarning: Mean of empty slice\n",
      "  v = np.nanmean(list(p.values()))\n",
      "/tmp/ipykernel_15370/3471364870.py:21: FutureWarning: The frame.append method is deprecated and will be removed from pandas in a future version. Use pandas.concat instead.\n",
      "  data = data.append(d, ignore_index=True)\n",
      "93it [01:44,  1.34s/it]"
     ]
    },
    {
     "name": "stdout",
     "output_type": "stream",
     "text": [
      "Found 30 references in Vizier with `B-V`.\n",
      "Found 1 references in Vizier with `log_R_HK_`.\n",
      "Found 0 references in Vizier with `EWLi`.\n"
     ]
    },
    {
     "name": "stderr",
     "output_type": "stream",
     "text": [
      "WARNING: UnitsWarning: The unit 'a' has been deprecated in the VOUnit standard. Suggested: 365.25d. [astropy.units.format.utils]\n",
      "WARNING: UnitsWarning: The unit 'pix' has been deprecated in the VOUnit standard. [astropy.units.format.utils]\n",
      "WARNING: UnitsWarning: The unit 'ct' has been deprecated in the VOUnit standard. [astropy.units.format.utils]\n",
      "WARNING: UnitsWarning: Unit 'Sun' not supported by the VOUnit standard. Did you mean uN? [astropy.units.format.vounit]\n",
      "WARNING: UnitsWarning: The unit 'au' has been deprecated in the VOUnit standard. Suggested: 1.4959787e+11m. [astropy.units.format.utils]\n",
      "WARNING: UnitsWarning: Unit 'Mjup' not supported by the VOUnit standard.  [astropy.units.format.vounit]\n",
      "WARNING: UnitsWarning: Unit 'al' not supported by the VOUnit standard. Did you mean alm or alx? [astropy.units.format.vounit]\n",
      "/tmp/ipykernel_15370/3471364870.py:19: RuntimeWarning: Mean of empty slice\n",
      "  v = np.nanmean(list(p.values()))\n",
      "/tmp/ipykernel_15370/3471364870.py:21: FutureWarning: The frame.append method is deprecated and will be removed from pandas in a future version. Use pandas.concat instead.\n",
      "  data = data.append(d, ignore_index=True)\n",
      "94it [01:45,  1.22s/it]"
     ]
    },
    {
     "name": "stdout",
     "output_type": "stream",
     "text": [
      "Found 13 references in Vizier with `B-V`.\n",
      "Found 0 references in Vizier with `log_R_HK_`.\n",
      "Found 0 references in Vizier with `EWLi`.\n"
     ]
    },
    {
     "name": "stderr",
     "output_type": "stream",
     "text": [
      "WARNING: UnitsWarning: The unit 'a' has been deprecated in the VOUnit standard. Suggested: 365.25d. [astropy.units.format.utils]\n",
      "WARNING: UnitsWarning: The unit 'ha' has been deprecated in the VOUnit standard. Suggested: 100a. [astropy.units.format.utils]\n",
      "WARNING: UnitsWarning: The unit 'pix' has been deprecated in the VOUnit standard. [astropy.units.format.utils]\n",
      "WARNING: UnitsWarning: The unit 'ct' has been deprecated in the VOUnit standard. [astropy.units.format.utils]\n",
      "WARNING: UnitsWarning: Unit 'Sun' not supported by the VOUnit standard. Did you mean uN? [astropy.units.format.vounit]\n",
      "WARNING: UnitsWarning: Unit 'al' not supported by the VOUnit standard. Did you mean alm or alx? [astropy.units.format.vounit]\n",
      "WARNING: UnitsWarning: Unit 'geoMass' not supported by the VOUnit standard. Did you mean EsolMass or GsolMass? [astropy.units.format.vounit]\n",
      "WARNING: UnitsWarning: The unit 'au' has been deprecated in the VOUnit standard. Suggested: 1.4959787e+11m. [astropy.units.format.utils]\n",
      "/tmp/ipykernel_15370/3471364870.py:19: RuntimeWarning: Mean of empty slice\n",
      "  v = np.nanmean(list(p.values()))\n",
      "/tmp/ipykernel_15370/3471364870.py:21: FutureWarning: The frame.append method is deprecated and will be removed from pandas in a future version. Use pandas.concat instead.\n",
      "  data = data.append(d, ignore_index=True)\n",
      "95it [01:46,  1.18s/it]"
     ]
    },
    {
     "name": "stdout",
     "output_type": "stream",
     "text": [
      "Found 17 references in Vizier with `B-V`.\n",
      "Found 0 references in Vizier with `log_R_HK_`.\n",
      "Found 0 references in Vizier with `EWLi`.\n"
     ]
    },
    {
     "name": "stderr",
     "output_type": "stream",
     "text": [
      "WARNING: UnitsWarning: The unit 'a' has been deprecated in the VOUnit standard. Suggested: 365.25d. [astropy.units.format.utils]\n",
      "WARNING: UnitsWarning: The unit 'pix' has been deprecated in the VOUnit standard. [astropy.units.format.utils]\n",
      "WARNING: UnitsWarning: Unit 'Sun' not supported by the VOUnit standard. Did you mean uN? [astropy.units.format.vounit]\n",
      "WARNING: UnitsWarning: The unit 'ct' has been deprecated in the VOUnit standard. [astropy.units.format.utils]\n",
      "WARNING: UnitsWarning: The unit 'au' has been deprecated in the VOUnit standard. Suggested: 1.4959787e+11m. [astropy.units.format.utils]\n",
      "WARNING: UnitsWarning: Unit 'Mjup' not supported by the VOUnit standard.  [astropy.units.format.vounit]\n",
      "WARNING: UnitsWarning: Unit 'al' not supported by the VOUnit standard. Did you mean alm or alx? [astropy.units.format.vounit]\n",
      "WARNING: UnitsWarning: Unit 'kAU' not supported by the VOUnit standard. Did you mean 1000a, kA, ka (deprecated), kadu or ku? [astropy.units.format.vounit]\n",
      "/tmp/ipykernel_15370/3471364870.py:19: RuntimeWarning: Mean of empty slice\n",
      "  v = np.nanmean(list(p.values()))\n",
      "/tmp/ipykernel_15370/3471364870.py:21: FutureWarning: The frame.append method is deprecated and will be removed from pandas in a future version. Use pandas.concat instead.\n",
      "  data = data.append(d, ignore_index=True)\n",
      "96it [01:46,  1.01s/it]"
     ]
    },
    {
     "name": "stdout",
     "output_type": "stream",
     "text": [
      "Found 16 references in Vizier with `B-V`.\n",
      "Found 0 references in Vizier with `log_R_HK_`.\n",
      "Found 0 references in Vizier with `EWLi`.\n"
     ]
    },
    {
     "name": "stderr",
     "output_type": "stream",
     "text": [
      "WARNING: UnitsWarning: The unit 'a' has been deprecated in the VOUnit standard. Suggested: 365.25d. [astropy.units.format.utils]\n",
      "WARNING: UnitsWarning: The unit 'pix' has been deprecated in the VOUnit standard. [astropy.units.format.utils]\n",
      "WARNING: UnitsWarning: Unit 'Sun' not supported by the VOUnit standard. Did you mean uN? [astropy.units.format.vounit]\n",
      "WARNING: UnitsWarning: The unit 'ct' has been deprecated in the VOUnit standard. [astropy.units.format.utils]\n",
      "WARNING: UnitsWarning: Unit 'geoMass' not supported by the VOUnit standard. Did you mean EsolMass or GsolMass? [astropy.units.format.vounit]\n",
      "WARNING: UnitsWarning: Unit 'Mgeo' not supported by the VOUnit standard.  [astropy.units.format.vounit]\n",
      "WARNING: UnitsWarning: The unit 'au' has been deprecated in the VOUnit standard. Suggested: 1.4959787e+11m. [astropy.units.format.utils]\n",
      "WARNING: UnitsWarning: Unit 'Mjup' not supported by the VOUnit standard.  [astropy.units.format.vounit]\n",
      "WARNING: UnitsWarning: Unit 'ppm' not supported by the VOUnit standard. Did you mean Pm or pm? [astropy.units.format.vounit]\n",
      "WARNING: UnitsWarning: Unit 'al' not supported by the VOUnit standard. Did you mean alm or alx? [astropy.units.format.vounit]\n",
      "WARNING: UnitsWarning: The unit 'G' has been deprecated in the VOUnit standard. Suggested: 0.0001T. [astropy.units.format.utils]\n",
      "/tmp/ipykernel_15370/3471364870.py:21: FutureWarning: The frame.append method is deprecated and will be removed from pandas in a future version. Use pandas.concat instead.\n",
      "  data = data.append(d, ignore_index=True)\n",
      "97it [01:48,  1.05s/it]"
     ]
    },
    {
     "name": "stdout",
     "output_type": "stream",
     "text": [
      "Found 20 references in Vizier with `B-V`.\n",
      "Found 1 references in Vizier with `log_R_HK_`.\n",
      "Found 1 references in Vizier with `EWLi`.\n"
     ]
    },
    {
     "name": "stderr",
     "output_type": "stream",
     "text": [
      "WARNING: UnitsWarning: The unit 'a' has been deprecated in the VOUnit standard. Suggested: 365.25d. [astropy.units.format.utils]\n",
      "WARNING: UnitsWarning: The unit 'pix' has been deprecated in the VOUnit standard. [astropy.units.format.utils]\n",
      "WARNING: UnitsWarning: The unit 'ct' has been deprecated in the VOUnit standard. [astropy.units.format.utils]\n",
      "WARNING: UnitsWarning: Unit 'Sun' not supported by the VOUnit standard. Did you mean uN? [astropy.units.format.vounit]\n",
      "WARNING: UnitsWarning: Unit 'Mgeo' not supported by the VOUnit standard.  [astropy.units.format.vounit]\n",
      "WARNING: UnitsWarning: The unit 'au' has been deprecated in the VOUnit standard. Suggested: 1.4959787e+11m. [astropy.units.format.utils]\n",
      "WARNING: UnitsWarning: Unit 'Mjup' not supported by the VOUnit standard.  [astropy.units.format.vounit]\n",
      "WARNING: UnitsWarning: Unit 'al' not supported by the VOUnit standard. Did you mean alm or alx? [astropy.units.format.vounit]\n",
      "/tmp/ipykernel_15370/3471364870.py:19: RuntimeWarning: Mean of empty slice\n",
      "  v = np.nanmean(list(p.values()))\n",
      "/tmp/ipykernel_15370/3471364870.py:21: FutureWarning: The frame.append method is deprecated and will be removed from pandas in a future version. Use pandas.concat instead.\n",
      "  data = data.append(d, ignore_index=True)\n",
      "98it [01:49,  1.09s/it]"
     ]
    },
    {
     "name": "stdout",
     "output_type": "stream",
     "text": [
      "Found 13 references in Vizier with `B-V`.\n",
      "Found 0 references in Vizier with `log_R_HK_`.\n",
      "Found 0 references in Vizier with `EWLi`.\n"
     ]
    },
    {
     "name": "stderr",
     "output_type": "stream",
     "text": [
      "WARNING: UnitsWarning: The unit 'a' has been deprecated in the VOUnit standard. Suggested: 365.25d. [astropy.units.format.utils]\n",
      "WARNING: UnitsWarning: The unit 'pix' has been deprecated in the VOUnit standard. [astropy.units.format.utils]\n",
      "WARNING: UnitsWarning: The unit 'ct' has been deprecated in the VOUnit standard. [astropy.units.format.utils]\n",
      "WARNING: UnitsWarning: Unit 'Sun' not supported by the VOUnit standard. Did you mean uN? [astropy.units.format.vounit]\n",
      "WARNING: UnitsWarning: Unit 'Mgeo' not supported by the VOUnit standard.  [astropy.units.format.vounit]\n",
      "WARNING: UnitsWarning: The unit 'au' has been deprecated in the VOUnit standard. Suggested: 1.4959787e+11m. [astropy.units.format.utils]\n",
      "WARNING: UnitsWarning: Unit 'Mjup' not supported by the VOUnit standard.  [astropy.units.format.vounit]\n",
      "WARNING: UnitsWarning: Unit 'al' not supported by the VOUnit standard. Did you mean alm or alx? [astropy.units.format.vounit]\n",
      "/tmp/ipykernel_15370/3471364870.py:19: RuntimeWarning: Mean of empty slice\n",
      "  v = np.nanmean(list(p.values()))\n",
      "/tmp/ipykernel_15370/3471364870.py:21: FutureWarning: The frame.append method is deprecated and will be removed from pandas in a future version. Use pandas.concat instead.\n",
      "  data = data.append(d, ignore_index=True)\n",
      "99it [01:50,  1.20s/it]"
     ]
    },
    {
     "name": "stdout",
     "output_type": "stream",
     "text": [
      "Found 21 references in Vizier with `B-V`.\n",
      "Found 0 references in Vizier with `log_R_HK_`.\n",
      "Found 0 references in Vizier with `EWLi`.\n"
     ]
    },
    {
     "name": "stderr",
     "output_type": "stream",
     "text": [
      "WARNING: UnitsWarning: The unit 'a' has been deprecated in the VOUnit standard. Suggested: 365.25d. [astropy.units.format.utils]\n",
      "WARNING: UnitsWarning: The unit 'ha' has been deprecated in the VOUnit standard. Suggested: 100a. [astropy.units.format.utils]\n",
      "WARNING: UnitsWarning: The unit 'pix' has been deprecated in the VOUnit standard. [astropy.units.format.utils]\n",
      "WARNING: UnitsWarning: The unit 'ct' has been deprecated in the VOUnit standard. [astropy.units.format.utils]\n",
      "WARNING: UnitsWarning: Unit 'Sun' not supported by the VOUnit standard. Did you mean uN? [astropy.units.format.vounit]\n",
      "WARNING: UnitsWarning: Unit 'Mgeo' not supported by the VOUnit standard.  [astropy.units.format.vounit]\n",
      "WARNING: UnitsWarning: The unit 'au' has been deprecated in the VOUnit standard. Suggested: 1.4959787e+11m. [astropy.units.format.utils]\n",
      "WARNING: UnitsWarning: Unit 'Mjup' not supported by the VOUnit standard.  [astropy.units.format.vounit]\n",
      "WARNING: UnitsWarning: Unit 'al' not supported by the VOUnit standard. Did you mean alm or alx? [astropy.units.format.vounit]\n",
      "/tmp/ipykernel_15370/3471364870.py:19: RuntimeWarning: Mean of empty slice\n",
      "  v = np.nanmean(list(p.values()))\n",
      "/tmp/ipykernel_15370/3471364870.py:21: FutureWarning: The frame.append method is deprecated and will be removed from pandas in a future version. Use pandas.concat instead.\n",
      "  data = data.append(d, ignore_index=True)\n",
      "100it [01:51,  1.17s/it]"
     ]
    },
    {
     "name": "stdout",
     "output_type": "stream",
     "text": [
      "Found 22 references in Vizier with `B-V`.\n",
      "Found 0 references in Vizier with `log_R_HK_`.\n",
      "Found 0 references in Vizier with `EWLi`.\n"
     ]
    },
    {
     "name": "stderr",
     "output_type": "stream",
     "text": [
      "WARNING: UnitsWarning: The unit 'a' has been deprecated in the VOUnit standard. Suggested: 365.25d. [astropy.units.format.utils]\n",
      "WARNING: UnitsWarning: The unit 'pix' has been deprecated in the VOUnit standard. [astropy.units.format.utils]\n",
      "WARNING: UnitsWarning: Unit 'Sun' not supported by the VOUnit standard. Did you mean uN? [astropy.units.format.vounit]\n",
      "WARNING: UnitsWarning: The unit 'ct' has been deprecated in the VOUnit standard. [astropy.units.format.utils]\n",
      "WARNING: UnitsWarning: Unit 'geoMass' not supported by the VOUnit standard. Did you mean EsolMass or GsolMass? [astropy.units.format.vounit]\n",
      "WARNING: UnitsWarning: Unit 'Mjup' not supported by the VOUnit standard.  [astropy.units.format.vounit]\n",
      "WARNING: UnitsWarning: Unit 'Earth' not supported by the VOUnit standard.  [astropy.units.format.vounit]\n",
      "WARNING: UnitsWarning: Unit 'Mgeo' not supported by the VOUnit standard.  [astropy.units.format.vounit]\n",
      "WARNING: UnitsWarning: The unit 'au' has been deprecated in the VOUnit standard. Suggested: 1.4959787e+11m. [astropy.units.format.utils]\n",
      "WARNING: UnitsWarning: Unit 'MJup' not supported by the VOUnit standard.  [astropy.units.format.vounit]\n",
      "WARNING: UnitsWarning: Unit 'Rgeo' not supported by the VOUnit standard.  [astropy.units.format.vounit]\n",
      "WARNING: UnitsWarning: Unit 'Rjup' not supported by the VOUnit standard.  [astropy.units.format.vounit]\n",
      "WARNING: UnitsWarning: Unit 'al' not supported by the VOUnit standard. Did you mean alm or alx? [astropy.units.format.vounit]\n",
      "WARNING: UnitsWarning: Unit 'ppm' not supported by the VOUnit standard. Did you mean Pm or pm? [astropy.units.format.vounit]\n",
      "/tmp/ipykernel_15370/3471364870.py:19: RuntimeWarning: Mean of empty slice\n",
      "  v = np.nanmean(list(p.values()))\n",
      "/tmp/ipykernel_15370/3471364870.py:21: FutureWarning: The frame.append method is deprecated and will be removed from pandas in a future version. Use pandas.concat instead.\n",
      "  data = data.append(d, ignore_index=True)\n",
      "101it [01:53,  1.22s/it]"
     ]
    },
    {
     "name": "stdout",
     "output_type": "stream",
     "text": [
      "Found 14 references in Vizier with `B-V`.\n",
      "Found 0 references in Vizier with `log_R_HK_`.\n",
      "Found 0 references in Vizier with `EWLi`.\n"
     ]
    },
    {
     "name": "stderr",
     "output_type": "stream",
     "text": [
      "WARNING: UnitsWarning: The unit 'a' has been deprecated in the VOUnit standard. Suggested: 365.25d. [astropy.units.format.utils]\n",
      "WARNING: UnitsWarning: The unit 'pix' has been deprecated in the VOUnit standard. [astropy.units.format.utils]\n",
      "WARNING: UnitsWarning: Unit 'Sun' not supported by the VOUnit standard. Did you mean uN? [astropy.units.format.vounit]\n",
      "WARNING: UnitsWarning: The unit 'ct' has been deprecated in the VOUnit standard. [astropy.units.format.utils]\n",
      "WARNING: UnitsWarning: Unit 'Earth' not supported by the VOUnit standard.  [astropy.units.format.vounit]\n",
      "WARNING: UnitsWarning: Unit 'JD' not supported by the VOUnit standard.  [astropy.units.format.vounit]\n",
      "WARNING: UnitsWarning: Unit 'Mgeo' not supported by the VOUnit standard.  [astropy.units.format.vounit]\n",
      "WARNING: UnitsWarning: The unit 'Ga' has been deprecated in the VOUnit standard. Suggested: 1e+09a. [astropy.units.format.utils]\n",
      "WARNING: UnitsWarning: The unit 'au' has been deprecated in the VOUnit standard. Suggested: 1.4959787e+11m. [astropy.units.format.utils]\n",
      "WARNING: UnitsWarning: Unit 'Mjup' not supported by the VOUnit standard.  [astropy.units.format.vounit]\n",
      "WARNING: UnitsWarning: Unit 'ppm' not supported by the VOUnit standard. Did you mean Pm or pm? [astropy.units.format.vounit]\n",
      "WARNING: UnitsWarning: Unit 'Rgeo' not supported by the VOUnit standard.  [astropy.units.format.vounit]\n",
      "WARNING: UnitsWarning: Unit 'al' not supported by the VOUnit standard. Did you mean alm or alx? [astropy.units.format.vounit]\n",
      "/tmp/ipykernel_15370/3471364870.py:19: RuntimeWarning: Mean of empty slice\n",
      "  v = np.nanmean(list(p.values()))\n",
      "/tmp/ipykernel_15370/3471364870.py:21: FutureWarning: The frame.append method is deprecated and will be removed from pandas in a future version. Use pandas.concat instead.\n",
      "  data = data.append(d, ignore_index=True)\n",
      "102it [01:55,  1.44s/it]"
     ]
    },
    {
     "name": "stdout",
     "output_type": "stream",
     "text": [
      "Found 50 references in Vizier with `B-V`.\n",
      "Found 3 references in Vizier with `log_R_HK_`.\n",
      "Found 0 references in Vizier with `EWLi`.\n"
     ]
    },
    {
     "name": "stderr",
     "output_type": "stream",
     "text": [
      "WARNING: UnitsWarning: The unit 'a' has been deprecated in the VOUnit standard. Suggested: 365.25d. [astropy.units.format.utils]\n",
      "WARNING: UnitsWarning: The unit 'pix' has been deprecated in the VOUnit standard. [astropy.units.format.utils]\n",
      "WARNING: UnitsWarning: Unit 'Sun' not supported by the VOUnit standard. Did you mean uN? [astropy.units.format.vounit]\n",
      "WARNING: UnitsWarning: Unit 'jovMass' not supported by the VOUnit standard.  [astropy.units.format.vounit]\n",
      "WARNING: UnitsWarning: Unit 'Mgeo' not supported by the VOUnit standard.  [astropy.units.format.vounit]\n",
      "WARNING: UnitsWarning: Unit 'Mjup' not supported by the VOUnit standard.  [astropy.units.format.vounit]\n",
      "WARNING: UnitsWarning: Unit 'Earth' not supported by the VOUnit standard.  [astropy.units.format.vounit]\n",
      "WARNING: UnitsWarning: Unit 'JD' not supported by the VOUnit standard.  [astropy.units.format.vounit]\n",
      "WARNING: UnitsWarning: The unit 'au' has been deprecated in the VOUnit standard. Suggested: 1.4959787e+11m. [astropy.units.format.utils]\n",
      "WARNING: UnitsWarning: Unit 'Rgeo' not supported by the VOUnit standard.  [astropy.units.format.vounit]\n",
      "WARNING: UnitsWarning: Unit 'Rjup' not supported by the VOUnit standard.  [astropy.units.format.vounit]\n",
      "WARNING: UnitsWarning: Unit 'al' not supported by the VOUnit standard. Did you mean alm or alx? [astropy.units.format.vounit]\n",
      "WARNING: UnitsWarning: Unit 'MJup' not supported by the VOUnit standard.  [astropy.units.format.vounit]\n",
      "WARNING: UnitsWarning: Unit 'ppm' not supported by the VOUnit standard. Did you mean Pm or pm? [astropy.units.format.vounit]\n",
      "/tmp/ipykernel_15370/3471364870.py:19: RuntimeWarning: Mean of empty slice\n",
      "  v = np.nanmean(list(p.values()))\n",
      "/tmp/ipykernel_15370/3471364870.py:21: FutureWarning: The frame.append method is deprecated and will be removed from pandas in a future version. Use pandas.concat instead.\n",
      "  data = data.append(d, ignore_index=True)\n",
      "103it [01:56,  1.54s/it]"
     ]
    },
    {
     "name": "stdout",
     "output_type": "stream",
     "text": [
      "Found 34 references in Vizier with `B-V`.\n",
      "Found 1 references in Vizier with `log_R_HK_`.\n",
      "Found 0 references in Vizier with `EWLi`.\n"
     ]
    },
    {
     "name": "stderr",
     "output_type": "stream",
     "text": [
      "WARNING: UnitsWarning: The unit 'a' has been deprecated in the VOUnit standard. Suggested: 365.25d. [astropy.units.format.utils]\n",
      "WARNING: UnitsWarning: The unit 'pix' has been deprecated in the VOUnit standard. [astropy.units.format.utils]\n",
      "WARNING: UnitsWarning: Unit 'Sun' not supported by the VOUnit standard. Did you mean uN? [astropy.units.format.vounit]\n",
      "WARNING: UnitsWarning: The unit 'ct' has been deprecated in the VOUnit standard. [astropy.units.format.utils]\n",
      "WARNING: UnitsWarning: Unit 'Mgeo' not supported by the VOUnit standard.  [astropy.units.format.vounit]\n",
      "WARNING: UnitsWarning: The unit 'au' has been deprecated in the VOUnit standard. Suggested: 1.4959787e+11m. [astropy.units.format.utils]\n",
      "WARNING: UnitsWarning: Unit 'Mjup' not supported by the VOUnit standard.  [astropy.units.format.vounit]\n",
      "WARNING: UnitsWarning: The unit 'G' has been deprecated in the VOUnit standard. Suggested: 0.0001T. [astropy.units.format.utils]\n",
      "WARNING: UnitsWarning: Unit 'al' not supported by the VOUnit standard. Did you mean alm or alx? [astropy.units.format.vounit]\n",
      "WARNING: UnitsWarning: Unit 'kAU' not supported by the VOUnit standard. Did you mean 1000a, kA, ka (deprecated), kadu or ku? [astropy.units.format.vounit]\n",
      "/tmp/ipykernel_15370/3471364870.py:19: RuntimeWarning: Mean of empty slice\n",
      "  v = np.nanmean(list(p.values()))\n",
      "/tmp/ipykernel_15370/3471364870.py:21: FutureWarning: The frame.append method is deprecated and will be removed from pandas in a future version. Use pandas.concat instead.\n",
      "  data = data.append(d, ignore_index=True)\n",
      "104it [01:58,  1.67s/it]"
     ]
    },
    {
     "name": "stdout",
     "output_type": "stream",
     "text": [
      "Found 46 references in Vizier with `B-V`.\n",
      "Found 3 references in Vizier with `log_R_HK_`.\n",
      "Found 0 references in Vizier with `EWLi`.\n"
     ]
    },
    {
     "name": "stderr",
     "output_type": "stream",
     "text": [
      "WARNING: UnitsWarning: The unit 'a' has been deprecated in the VOUnit standard. Suggested: 365.25d. [astropy.units.format.utils]\n",
      "WARNING: UnitsWarning: The unit 'pix' has been deprecated in the VOUnit standard. [astropy.units.format.utils]\n",
      "WARNING: UnitsWarning: The unit 'ct' has been deprecated in the VOUnit standard. [astropy.units.format.utils]\n",
      "WARNING: UnitsWarning: Unit 'Sun' not supported by the VOUnit standard. Did you mean uN? [astropy.units.format.vounit]\n",
      "WARNING: UnitsWarning: The unit 'au' has been deprecated in the VOUnit standard. Suggested: 1.4959787e+11m. [astropy.units.format.utils]\n",
      "WARNING: UnitsWarning: Unit 'Mjup' not supported by the VOUnit standard.  [astropy.units.format.vounit]\n",
      "WARNING: UnitsWarning: Unit 'al' not supported by the VOUnit standard. Did you mean alm or alx? [astropy.units.format.vounit]\n",
      "/tmp/ipykernel_15370/3471364870.py:19: RuntimeWarning: Mean of empty slice\n",
      "  v = np.nanmean(list(p.values()))\n",
      "/tmp/ipykernel_15370/3471364870.py:21: FutureWarning: The frame.append method is deprecated and will be removed from pandas in a future version. Use pandas.concat instead.\n",
      "  data = data.append(d, ignore_index=True)\n",
      "105it [01:59,  1.47s/it]"
     ]
    },
    {
     "name": "stdout",
     "output_type": "stream",
     "text": [
      "Found 17 references in Vizier with `B-V`.\n",
      "Found 0 references in Vizier with `log_R_HK_`.\n",
      "Found 0 references in Vizier with `EWLi`.\n"
     ]
    },
    {
     "name": "stderr",
     "output_type": "stream",
     "text": [
      "WARNING: UnitsWarning: The unit 'a' has been deprecated in the VOUnit standard. Suggested: 365.25d. [astropy.units.format.utils]\n",
      "WARNING: UnitsWarning: The unit 'pix' has been deprecated in the VOUnit standard. [astropy.units.format.utils]\n",
      "WARNING: UnitsWarning: The unit 'ct' has been deprecated in the VOUnit standard. [astropy.units.format.utils]\n",
      "WARNING: UnitsWarning: Unit 'Sun' not supported by the VOUnit standard. Did you mean uN? [astropy.units.format.vounit]\n",
      "WARNING: UnitsWarning: Unit 'Mgeo' not supported by the VOUnit standard.  [astropy.units.format.vounit]\n",
      "WARNING: UnitsWarning: The unit 'au' has been deprecated in the VOUnit standard. Suggested: 1.4959787e+11m. [astropy.units.format.utils]\n",
      "WARNING: UnitsWarning: Unit 'Mjup' not supported by the VOUnit standard.  [astropy.units.format.vounit]\n",
      "WARNING: UnitsWarning: Unit 'al' not supported by the VOUnit standard. Did you mean alm or alx? [astropy.units.format.vounit]\n",
      "WARNING: UnitsWarning: Unit 'MJup' not supported by the VOUnit standard.  [astropy.units.format.vounit]\n",
      "/tmp/ipykernel_15370/3471364870.py:19: RuntimeWarning: Mean of empty slice\n",
      "  v = np.nanmean(list(p.values()))\n",
      "/tmp/ipykernel_15370/3471364870.py:21: FutureWarning: The frame.append method is deprecated and will be removed from pandas in a future version. Use pandas.concat instead.\n",
      "  data = data.append(d, ignore_index=True)\n",
      "106it [02:01,  1.44s/it]"
     ]
    },
    {
     "name": "stdout",
     "output_type": "stream",
     "text": [
      "Found 18 references in Vizier with `B-V`.\n",
      "Found 1 references in Vizier with `log_R_HK_`.\n",
      "Found 0 references in Vizier with `EWLi`.\n"
     ]
    },
    {
     "name": "stderr",
     "output_type": "stream",
     "text": [
      "WARNING: UnitsWarning: The unit 'a' has been deprecated in the VOUnit standard. Suggested: 365.25d. [astropy.units.format.utils]\n",
      "WARNING: UnitsWarning: The unit 'pix' has been deprecated in the VOUnit standard. [astropy.units.format.utils]\n",
      "WARNING: UnitsWarning: Unit 'Sun' not supported by the VOUnit standard. Did you mean uN? [astropy.units.format.vounit]\n",
      "WARNING: UnitsWarning: Unit 'al' not supported by the VOUnit standard. Did you mean alm or alx? [astropy.units.format.vounit]\n",
      "WARNING: UnitsWarning: The unit 'au' has been deprecated in the VOUnit standard. Suggested: 1.4959787e+11m. [astropy.units.format.utils]\n",
      "WARNING: UnitsWarning: Unit 'Mjup' not supported by the VOUnit standard.  [astropy.units.format.vounit]\n",
      "/tmp/ipykernel_15370/3471364870.py:19: RuntimeWarning: Mean of empty slice\n",
      "  v = np.nanmean(list(p.values()))\n",
      "/tmp/ipykernel_15370/3471364870.py:21: FutureWarning: The frame.append method is deprecated and will be removed from pandas in a future version. Use pandas.concat instead.\n",
      "  data = data.append(d, ignore_index=True)\n",
      "107it [02:02,  1.39s/it]"
     ]
    },
    {
     "name": "stdout",
     "output_type": "stream",
     "text": [
      "Found 33 references in Vizier with `B-V`.\n",
      "Found 0 references in Vizier with `log_R_HK_`.\n",
      "Found 0 references in Vizier with `EWLi`.\n"
     ]
    },
    {
     "name": "stderr",
     "output_type": "stream",
     "text": [
      "WARNING: UnitsWarning: The unit 'a' has been deprecated in the VOUnit standard. Suggested: 365.25d. [astropy.units.format.utils]\n",
      "WARNING: UnitsWarning: The unit 'pix' has been deprecated in the VOUnit standard. [astropy.units.format.utils]\n",
      "WARNING: UnitsWarning: The unit 'ct' has been deprecated in the VOUnit standard. [astropy.units.format.utils]\n",
      "WARNING: UnitsWarning: Unit 'Sun' not supported by the VOUnit standard. Did you mean uN? [astropy.units.format.vounit]\n",
      "WARNING: UnitsWarning: Unit 'Mgeo' not supported by the VOUnit standard.  [astropy.units.format.vounit]\n",
      "WARNING: UnitsWarning: The unit 'au' has been deprecated in the VOUnit standard. Suggested: 1.4959787e+11m. [astropy.units.format.utils]\n",
      "WARNING: UnitsWarning: Unit 'Mjup' not supported by the VOUnit standard.  [astropy.units.format.vounit]\n",
      "WARNING: UnitsWarning: Unit 'al' not supported by the VOUnit standard. Did you mean alm or alx? [astropy.units.format.vounit]\n",
      "WARNING: UnitsWarning: The unit 'G' has been deprecated in the VOUnit standard. Suggested: 0.0001T. [astropy.units.format.utils]\n",
      "/tmp/ipykernel_15370/3471364870.py:19: RuntimeWarning: Mean of empty slice\n",
      "  v = np.nanmean(list(p.values()))\n",
      "/tmp/ipykernel_15370/3471364870.py:21: FutureWarning: The frame.append method is deprecated and will be removed from pandas in a future version. Use pandas.concat instead.\n",
      "  data = data.append(d, ignore_index=True)\n",
      "108it [02:03,  1.35s/it]"
     ]
    },
    {
     "name": "stdout",
     "output_type": "stream",
     "text": [
      "Found 18 references in Vizier with `B-V`.\n",
      "Found 0 references in Vizier with `log_R_HK_`.\n",
      "Found 0 references in Vizier with `EWLi`.\n"
     ]
    },
    {
     "name": "stderr",
     "output_type": "stream",
     "text": [
      "WARNING: UnitsWarning: The unit 'a' has been deprecated in the VOUnit standard. Suggested: 365.25d. [astropy.units.format.utils]\n",
      "WARNING: UnitsWarning: The unit 'pix' has been deprecated in the VOUnit standard. [astropy.units.format.utils]\n",
      "WARNING: UnitsWarning: The unit 'ct' has been deprecated in the VOUnit standard. [astropy.units.format.utils]\n",
      "WARNING: UnitsWarning: Unit 'Sun' not supported by the VOUnit standard. Did you mean uN? [astropy.units.format.vounit]\n",
      "WARNING: UnitsWarning: Unit 'Mgeo' not supported by the VOUnit standard.  [astropy.units.format.vounit]\n",
      "WARNING: UnitsWarning: Unit 'MJup' not supported by the VOUnit standard.  [astropy.units.format.vounit]\n",
      "WARNING: UnitsWarning: The unit 'au' has been deprecated in the VOUnit standard. Suggested: 1.4959787e+11m. [astropy.units.format.utils]\n",
      "WARNING: UnitsWarning: Unit 'Mjup' not supported by the VOUnit standard.  [astropy.units.format.vounit]\n",
      "WARNING: UnitsWarning: The unit 'G' has been deprecated in the VOUnit standard. Suggested: 0.0001T. [astropy.units.format.utils]\n",
      "WARNING: UnitsWarning: Unit 'al' not supported by the VOUnit standard. Did you mean alm or alx? [astropy.units.format.vounit]\n",
      "/tmp/ipykernel_15370/3471364870.py:21: FutureWarning: The frame.append method is deprecated and will be removed from pandas in a future version. Use pandas.concat instead.\n",
      "  data = data.append(d, ignore_index=True)\n",
      "109it [02:05,  1.47s/it]"
     ]
    },
    {
     "name": "stdout",
     "output_type": "stream",
     "text": [
      "Found 24 references in Vizier with `B-V`.\n",
      "Found 2 references in Vizier with `log_R_HK_`.\n",
      "Found 2 references in Vizier with `EWLi`.\n"
     ]
    },
    {
     "name": "stderr",
     "output_type": "stream",
     "text": [
      "WARNING: UnitsWarning: The unit 'a' has been deprecated in the VOUnit standard. Suggested: 365.25d. [astropy.units.format.utils]\n",
      "WARNING: UnitsWarning: The unit 'pix' has been deprecated in the VOUnit standard. [astropy.units.format.utils]\n",
      "WARNING: UnitsWarning: The unit 'ct' has been deprecated in the VOUnit standard. [astropy.units.format.utils]\n",
      "WARNING: UnitsWarning: Unit 'Sun' not supported by the VOUnit standard. Did you mean uN? [astropy.units.format.vounit]\n",
      "WARNING: UnitsWarning: Unit 'Mgeo' not supported by the VOUnit standard.  [astropy.units.format.vounit]\n",
      "WARNING: UnitsWarning: Unit 'MJup' not supported by the VOUnit standard.  [astropy.units.format.vounit]\n",
      "WARNING: UnitsWarning: The unit 'au' has been deprecated in the VOUnit standard. Suggested: 1.4959787e+11m. [astropy.units.format.utils]\n",
      "WARNING: UnitsWarning: Unit 'Mjup' not supported by the VOUnit standard.  [astropy.units.format.vounit]\n",
      "WARNING: UnitsWarning: Unit 'al' not supported by the VOUnit standard. Did you mean alm or alx? [astropy.units.format.vounit]\n",
      "WARNING: UnitsWarning: The unit 'G' has been deprecated in the VOUnit standard. Suggested: 0.0001T. [astropy.units.format.utils]\n",
      "/tmp/ipykernel_15370/3471364870.py:19: RuntimeWarning: Mean of empty slice\n",
      "  v = np.nanmean(list(p.values()))\n",
      "/tmp/ipykernel_15370/3471364870.py:21: FutureWarning: The frame.append method is deprecated and will be removed from pandas in a future version. Use pandas.concat instead.\n",
      "  data = data.append(d, ignore_index=True)\n",
      "110it [02:06,  1.44s/it]"
     ]
    },
    {
     "name": "stdout",
     "output_type": "stream",
     "text": [
      "Found 18 references in Vizier with `B-V`.\n",
      "Found 0 references in Vizier with `log_R_HK_`.\n",
      "Found 1 references in Vizier with `EWLi`.\n"
     ]
    },
    {
     "name": "stderr",
     "output_type": "stream",
     "text": [
      "WARNING: UnitsWarning: The unit 'a' has been deprecated in the VOUnit standard. Suggested: 365.25d. [astropy.units.format.utils]\n",
      "WARNING: UnitsWarning: The unit 'pix' has been deprecated in the VOUnit standard. [astropy.units.format.utils]\n",
      "WARNING: UnitsWarning: The unit 'ct' has been deprecated in the VOUnit standard. [astropy.units.format.utils]\n",
      "WARNING: UnitsWarning: Unit 'Sun' not supported by the VOUnit standard. Did you mean uN? [astropy.units.format.vounit]\n",
      "WARNING: UnitsWarning: Unit 'JD' not supported by the VOUnit standard.  [astropy.units.format.vounit]\n",
      "WARNING: UnitsWarning: Unit 'Mgeo' not supported by the VOUnit standard.  [astropy.units.format.vounit]\n",
      "WARNING: UnitsWarning: The unit 'au' has been deprecated in the VOUnit standard. Suggested: 1.4959787e+11m. [astropy.units.format.utils]\n",
      "WARNING: UnitsWarning: Unit 'Mjup' not supported by the VOUnit standard.  [astropy.units.format.vounit]\n",
      "WARNING: UnitsWarning: The unit 'G' has been deprecated in the VOUnit standard. Suggested: 0.0001T. [astropy.units.format.utils]\n",
      "WARNING: UnitsWarning: Unit 'al' not supported by the VOUnit standard. Did you mean alm or alx? [astropy.units.format.vounit]\n",
      "/tmp/ipykernel_15370/3471364870.py:19: RuntimeWarning: Mean of empty slice\n",
      "  v = np.nanmean(list(p.values()))\n",
      "/tmp/ipykernel_15370/3471364870.py:21: FutureWarning: The frame.append method is deprecated and will be removed from pandas in a future version. Use pandas.concat instead.\n",
      "  data = data.append(d, ignore_index=True)\n",
      "111it [02:08,  1.48s/it]"
     ]
    },
    {
     "name": "stdout",
     "output_type": "stream",
     "text": [
      "Found 19 references in Vizier with `B-V`.\n",
      "Found 1 references in Vizier with `log_R_HK_`.\n",
      "Found 0 references in Vizier with `EWLi`.\n"
     ]
    },
    {
     "name": "stderr",
     "output_type": "stream",
     "text": [
      "WARNING: UnitsWarning: The unit 'a' has been deprecated in the VOUnit standard. Suggested: 365.25d. [astropy.units.format.utils]\n",
      "WARNING: UnitsWarning: The unit 'pix' has been deprecated in the VOUnit standard. [astropy.units.format.utils]\n",
      "WARNING: UnitsWarning: The unit 'ct' has been deprecated in the VOUnit standard. [astropy.units.format.utils]\n",
      "WARNING: UnitsWarning: Unit 'Sun' not supported by the VOUnit standard. Did you mean uN? [astropy.units.format.vounit]\n",
      "WARNING: UnitsWarning: Unit 'MJup' not supported by the VOUnit standard.  [astropy.units.format.vounit]\n",
      "WARNING: UnitsWarning: The unit 'au' has been deprecated in the VOUnit standard. Suggested: 1.4959787e+11m. [astropy.units.format.utils]\n",
      "WARNING: UnitsWarning: Unit 'Mjup' not supported by the VOUnit standard.  [astropy.units.format.vounit]\n",
      "WARNING: UnitsWarning: Unit 'al' not supported by the VOUnit standard. Did you mean alm or alx? [astropy.units.format.vounit]\n",
      "/tmp/ipykernel_15370/3471364870.py:19: RuntimeWarning: Mean of empty slice\n",
      "  v = np.nanmean(list(p.values()))\n",
      "/tmp/ipykernel_15370/3471364870.py:21: FutureWarning: The frame.append method is deprecated and will be removed from pandas in a future version. Use pandas.concat instead.\n",
      "  data = data.append(d, ignore_index=True)\n",
      "112it [02:09,  1.31s/it]"
     ]
    },
    {
     "name": "stdout",
     "output_type": "stream",
     "text": [
      "Found 17 references in Vizier with `B-V`.\n",
      "Found 0 references in Vizier with `log_R_HK_`.\n",
      "Found 0 references in Vizier with `EWLi`.\n"
     ]
    },
    {
     "name": "stderr",
     "output_type": "stream",
     "text": [
      "WARNING: UnitsWarning: The unit 'a' has been deprecated in the VOUnit standard. Suggested: 365.25d. [astropy.units.format.utils]\n",
      "WARNING: UnitsWarning: The unit 'pix' has been deprecated in the VOUnit standard. [astropy.units.format.utils]\n",
      "WARNING: UnitsWarning: The unit 'ct' has been deprecated in the VOUnit standard. [astropy.units.format.utils]\n",
      "WARNING: UnitsWarning: Unit 'Sun' not supported by the VOUnit standard. Did you mean uN? [astropy.units.format.vounit]\n",
      "WARNING: UnitsWarning: Unit 'Mgeo' not supported by the VOUnit standard.  [astropy.units.format.vounit]\n",
      "WARNING: UnitsWarning: The unit 'au' has been deprecated in the VOUnit standard. Suggested: 1.4959787e+11m. [astropy.units.format.utils]\n",
      "WARNING: UnitsWarning: Unit 'Mjup' not supported by the VOUnit standard.  [astropy.units.format.vounit]\n",
      "WARNING: UnitsWarning: Unit 'al' not supported by the VOUnit standard. Did you mean alm or alx? [astropy.units.format.vounit]\n",
      "/tmp/ipykernel_15370/3471364870.py:19: RuntimeWarning: Mean of empty slice\n",
      "  v = np.nanmean(list(p.values()))\n",
      "/tmp/ipykernel_15370/3471364870.py:21: FutureWarning: The frame.append method is deprecated and will be removed from pandas in a future version. Use pandas.concat instead.\n",
      "  data = data.append(d, ignore_index=True)\n",
      "113it [02:10,  1.33s/it]"
     ]
    },
    {
     "name": "stdout",
     "output_type": "stream",
     "text": [
      "Found 14 references in Vizier with `B-V`.\n",
      "Found 1 references in Vizier with `log_R_HK_`.\n",
      "Found 0 references in Vizier with `EWLi`.\n"
     ]
    },
    {
     "name": "stderr",
     "output_type": "stream",
     "text": [
      "WARNING: UnitsWarning: The unit 'a' has been deprecated in the VOUnit standard. Suggested: 365.25d. [astropy.units.format.utils]\n",
      "WARNING: UnitsWarning: The unit 'pix' has been deprecated in the VOUnit standard. [astropy.units.format.utils]\n",
      "WARNING: UnitsWarning: The unit 'ct' has been deprecated in the VOUnit standard. [astropy.units.format.utils]\n",
      "WARNING: UnitsWarning: Unit 'Sun' not supported by the VOUnit standard. Did you mean uN? [astropy.units.format.vounit]\n",
      "WARNING: UnitsWarning: The unit 'au' has been deprecated in the VOUnit standard. Suggested: 1.4959787e+11m. [astropy.units.format.utils]\n",
      "WARNING: UnitsWarning: Unit 'Mjup' not supported by the VOUnit standard.  [astropy.units.format.vounit]\n",
      "WARNING: UnitsWarning: Unit 'al' not supported by the VOUnit standard. Did you mean alm or alx? [astropy.units.format.vounit]\n",
      "/tmp/ipykernel_15370/3471364870.py:19: RuntimeWarning: Mean of empty slice\n",
      "  v = np.nanmean(list(p.values()))\n",
      "/tmp/ipykernel_15370/3471364870.py:21: FutureWarning: The frame.append method is deprecated and will be removed from pandas in a future version. Use pandas.concat instead.\n",
      "  data = data.append(d, ignore_index=True)\n",
      "114it [02:11,  1.19s/it]"
     ]
    },
    {
     "name": "stdout",
     "output_type": "stream",
     "text": [
      "Found 18 references in Vizier with `B-V`.\n",
      "Found 0 references in Vizier with `log_R_HK_`.\n",
      "Found 0 references in Vizier with `EWLi`.\n"
     ]
    },
    {
     "name": "stderr",
     "output_type": "stream",
     "text": [
      "WARNING: UnitsWarning: The unit 'a' has been deprecated in the VOUnit standard. Suggested: 365.25d. [astropy.units.format.utils]\n",
      "WARNING: UnitsWarning: The unit 'pix' has been deprecated in the VOUnit standard. [astropy.units.format.utils]\n",
      "WARNING: UnitsWarning: Unit 'Sun' not supported by the VOUnit standard. Did you mean uN? [astropy.units.format.vounit]\n",
      "WARNING: UnitsWarning: Unit 'Rjup' not supported by the VOUnit standard.  [astropy.units.format.vounit]\n",
      "WARNING: UnitsWarning: Unit 'Mjup' not supported by the VOUnit standard.  [astropy.units.format.vounit]\n",
      "WARNING: UnitsWarning: Unit 'Earth' not supported by the VOUnit standard.  [astropy.units.format.vounit]\n",
      "WARNING: UnitsWarning: Unit 'Mgeo' not supported by the VOUnit standard.  [astropy.units.format.vounit]\n",
      "WARNING: UnitsWarning: Unit 'MJup' not supported by the VOUnit standard.  [astropy.units.format.vounit]\n",
      "WARNING: UnitsWarning: The unit 'au' has been deprecated in the VOUnit standard. Suggested: 1.4959787e+11m. [astropy.units.format.utils]\n",
      "WARNING: UnitsWarning: Unit 'Rgeo' not supported by the VOUnit standard.  [astropy.units.format.vounit]\n",
      "WARNING: UnitsWarning: The unit 'G' has been deprecated in the VOUnit standard. Suggested: 0.0001T. [astropy.units.format.utils]\n",
      "WARNING: UnitsWarning: Unit 'al' not supported by the VOUnit standard. Did you mean alm or alx? [astropy.units.format.vounit]\n",
      "114it [02:13,  1.17s/it]"
     ]
    },
    {
     "name": "stdout",
     "output_type": "stream",
     "text": [
      "Found 40 references in Vizier with `B-V`.\n",
      "Found 3 references in Vizier with `log_R_HK_`.\n",
      "Found 1 references in Vizier with `EWLi`.\n"
     ]
    },
    {
     "name": "stderr",
     "output_type": "stream",
     "text": [
      "\n"
     ]
    },
    {
     "ename": "UFuncTypeError",
     "evalue": "ufunc 'add' did not contain a loop with signature matching types (dtype('<U3'), dtype('<U3')) -> None",
     "output_type": "error",
     "traceback": [
      "\u001b[0;31m---------------------------------------------------------------------------\u001b[0m",
      "\u001b[0;31mUFuncTypeError\u001b[0m                            Traceback (most recent call last)",
      "Cell \u001b[0;32mIn[8], line 19\u001b[0m\n\u001b[1;32m     17\u001b[0m \u001b[38;5;28;01mfor\u001b[39;00m param \u001b[38;5;129;01min\u001b[39;00m params:\n\u001b[1;32m     18\u001b[0m     p \u001b[38;5;241m=\u001b[39m t\u001b[38;5;241m.\u001b[39mquery_vizier_param(param)\n\u001b[0;32m---> 19\u001b[0m     v \u001b[38;5;241m=\u001b[39m \u001b[43mnp\u001b[49m\u001b[38;5;241;43m.\u001b[39;49m\u001b[43mnanmean\u001b[49m\u001b[43m(\u001b[49m\u001b[38;5;28;43mlist\u001b[39;49m\u001b[43m(\u001b[49m\u001b[43mp\u001b[49m\u001b[38;5;241;43m.\u001b[39;49m\u001b[43mvalues\u001b[49m\u001b[43m(\u001b[49m\u001b[43m)\u001b[49m\u001b[43m)\u001b[49m\u001b[43m)\u001b[49m\n\u001b[1;32m     20\u001b[0m     d[param] \u001b[38;5;241m=\u001b[39m v\n\u001b[1;32m     21\u001b[0m data \u001b[38;5;241m=\u001b[39m data\u001b[38;5;241m.\u001b[39mappend(d, ignore_index\u001b[38;5;241m=\u001b[39m\u001b[38;5;28;01mTrue\u001b[39;00m)\n",
      "File \u001b[0;32m<__array_function__ internals>:180\u001b[0m, in \u001b[0;36mnanmean\u001b[0;34m(*args, **kwargs)\u001b[0m\n",
      "File \u001b[0;32m~/miniconda3/envs/wakai/lib/python3.8/site-packages/numpy/lib/nanfunctions.py:1034\u001b[0m, in \u001b[0;36mnanmean\u001b[0;34m(a, axis, dtype, out, keepdims, where)\u001b[0m\n\u001b[1;32m   1032\u001b[0m arr, mask \u001b[38;5;241m=\u001b[39m _replace_nan(a, \u001b[38;5;241m0\u001b[39m)\n\u001b[1;32m   1033\u001b[0m \u001b[38;5;28;01mif\u001b[39;00m mask \u001b[38;5;129;01mis\u001b[39;00m \u001b[38;5;28;01mNone\u001b[39;00m:\n\u001b[0;32m-> 1034\u001b[0m     \u001b[38;5;28;01mreturn\u001b[39;00m \u001b[43mnp\u001b[49m\u001b[38;5;241;43m.\u001b[39;49m\u001b[43mmean\u001b[49m\u001b[43m(\u001b[49m\u001b[43marr\u001b[49m\u001b[43m,\u001b[49m\u001b[43m \u001b[49m\u001b[43maxis\u001b[49m\u001b[38;5;241;43m=\u001b[39;49m\u001b[43maxis\u001b[49m\u001b[43m,\u001b[49m\u001b[43m \u001b[49m\u001b[43mdtype\u001b[49m\u001b[38;5;241;43m=\u001b[39;49m\u001b[43mdtype\u001b[49m\u001b[43m,\u001b[49m\u001b[43m \u001b[49m\u001b[43mout\u001b[49m\u001b[38;5;241;43m=\u001b[39;49m\u001b[43mout\u001b[49m\u001b[43m,\u001b[49m\u001b[43m \u001b[49m\u001b[43mkeepdims\u001b[49m\u001b[38;5;241;43m=\u001b[39;49m\u001b[43mkeepdims\u001b[49m\u001b[43m,\u001b[49m\n\u001b[1;32m   1035\u001b[0m \u001b[43m                   \u001b[49m\u001b[43mwhere\u001b[49m\u001b[38;5;241;43m=\u001b[39;49m\u001b[43mwhere\u001b[49m\u001b[43m)\u001b[49m\n\u001b[1;32m   1037\u001b[0m \u001b[38;5;28;01mif\u001b[39;00m dtype \u001b[38;5;129;01mis\u001b[39;00m \u001b[38;5;129;01mnot\u001b[39;00m \u001b[38;5;28;01mNone\u001b[39;00m:\n\u001b[1;32m   1038\u001b[0m     dtype \u001b[38;5;241m=\u001b[39m np\u001b[38;5;241m.\u001b[39mdtype(dtype)\n",
      "File \u001b[0;32m<__array_function__ internals>:180\u001b[0m, in \u001b[0;36mmean\u001b[0;34m(*args, **kwargs)\u001b[0m\n",
      "File \u001b[0;32m~/miniconda3/envs/wakai/lib/python3.8/site-packages/numpy/core/fromnumeric.py:3432\u001b[0m, in \u001b[0;36mmean\u001b[0;34m(a, axis, dtype, out, keepdims, where)\u001b[0m\n\u001b[1;32m   3429\u001b[0m     \u001b[38;5;28;01melse\u001b[39;00m:\n\u001b[1;32m   3430\u001b[0m         \u001b[38;5;28;01mreturn\u001b[39;00m mean(axis\u001b[38;5;241m=\u001b[39maxis, dtype\u001b[38;5;241m=\u001b[39mdtype, out\u001b[38;5;241m=\u001b[39mout, \u001b[38;5;241m*\u001b[39m\u001b[38;5;241m*\u001b[39mkwargs)\n\u001b[0;32m-> 3432\u001b[0m \u001b[38;5;28;01mreturn\u001b[39;00m \u001b[43m_methods\u001b[49m\u001b[38;5;241;43m.\u001b[39;49m\u001b[43m_mean\u001b[49m\u001b[43m(\u001b[49m\u001b[43ma\u001b[49m\u001b[43m,\u001b[49m\u001b[43m \u001b[49m\u001b[43maxis\u001b[49m\u001b[38;5;241;43m=\u001b[39;49m\u001b[43maxis\u001b[49m\u001b[43m,\u001b[49m\u001b[43m \u001b[49m\u001b[43mdtype\u001b[49m\u001b[38;5;241;43m=\u001b[39;49m\u001b[43mdtype\u001b[49m\u001b[43m,\u001b[49m\n\u001b[1;32m   3433\u001b[0m \u001b[43m                      \u001b[49m\u001b[43mout\u001b[49m\u001b[38;5;241;43m=\u001b[39;49m\u001b[43mout\u001b[49m\u001b[43m,\u001b[49m\u001b[43m \u001b[49m\u001b[38;5;241;43m*\u001b[39;49m\u001b[38;5;241;43m*\u001b[39;49m\u001b[43mkwargs\u001b[49m\u001b[43m)\u001b[49m\n",
      "File \u001b[0;32m~/miniconda3/envs/wakai/lib/python3.8/site-packages/numpy/core/_methods.py:180\u001b[0m, in \u001b[0;36m_mean\u001b[0;34m(a, axis, dtype, out, keepdims, where)\u001b[0m\n\u001b[1;32m    177\u001b[0m         dtype \u001b[38;5;241m=\u001b[39m mu\u001b[38;5;241m.\u001b[39mdtype(\u001b[38;5;124m'\u001b[39m\u001b[38;5;124mf4\u001b[39m\u001b[38;5;124m'\u001b[39m)\n\u001b[1;32m    178\u001b[0m         is_float16_result \u001b[38;5;241m=\u001b[39m \u001b[38;5;28;01mTrue\u001b[39;00m\n\u001b[0;32m--> 180\u001b[0m ret \u001b[38;5;241m=\u001b[39m \u001b[43mumr_sum\u001b[49m\u001b[43m(\u001b[49m\u001b[43marr\u001b[49m\u001b[43m,\u001b[49m\u001b[43m \u001b[49m\u001b[43maxis\u001b[49m\u001b[43m,\u001b[49m\u001b[43m \u001b[49m\u001b[43mdtype\u001b[49m\u001b[43m,\u001b[49m\u001b[43m \u001b[49m\u001b[43mout\u001b[49m\u001b[43m,\u001b[49m\u001b[43m \u001b[49m\u001b[43mkeepdims\u001b[49m\u001b[43m,\u001b[49m\u001b[43m \u001b[49m\u001b[43mwhere\u001b[49m\u001b[38;5;241;43m=\u001b[39;49m\u001b[43mwhere\u001b[49m\u001b[43m)\u001b[49m\n\u001b[1;32m    181\u001b[0m \u001b[38;5;28;01mif\u001b[39;00m \u001b[38;5;28misinstance\u001b[39m(ret, mu\u001b[38;5;241m.\u001b[39mndarray):\n\u001b[1;32m    182\u001b[0m     ret \u001b[38;5;241m=\u001b[39m um\u001b[38;5;241m.\u001b[39mtrue_divide(\n\u001b[1;32m    183\u001b[0m             ret, rcount, out\u001b[38;5;241m=\u001b[39mret, casting\u001b[38;5;241m=\u001b[39m\u001b[38;5;124m'\u001b[39m\u001b[38;5;124munsafe\u001b[39m\u001b[38;5;124m'\u001b[39m, subok\u001b[38;5;241m=\u001b[39m\u001b[38;5;28;01mFalse\u001b[39;00m)\n",
      "\u001b[0;31mUFuncTypeError\u001b[0m: ufunc 'add' did not contain a loop with signature matching types (dtype('<U3'), dtype('<U3')) -> None"
     ]
    }
   ],
   "source": [
    "from astropy.coordinates import Angle\n",
    "from tqdm import tqdm\n",
    "from catalog import Target\n",
    "import numpy as np\n",
    "\n",
    "params = [\"B-V\", \"log_R_HK_\", \"EWLi\"]\n",
    "\n",
    "data = pd.DataFrame()\n",
    "for i,row in tqdm(df.iterrows()):\n",
    "\n",
    "    ra = Angle(row.RAJ2000 , unit='hourangle')\n",
    "    dec = Angle(row.DEJ2000 , unit='degree')\n",
    "    t = Target(ra.deg, dec.deg)\n",
    "    \n",
    "    d = {}\n",
    "    d['Name'] = row.Name\n",
    "    for param in params:\n",
    "        p = t.query_vizier_param(param)\n",
    "        v = np.nanmean(list(p.values()))\n",
    "        d[param] = v\n",
    "    data = data.append(d, ignore_index=True)"
   ]
  },
  {
   "cell_type": "code",
   "execution_count": 10,
   "metadata": {
    "ExecuteTime": {
     "end_time": "2023-04-05T11:59:45.598751Z",
     "start_time": "2023-04-05T11:59:45.585572Z"
    }
   },
   "outputs": [
    {
     "data": {
      "text/html": [
       "<div>\n",
       "<style scoped>\n",
       "    .dataframe tbody tr th:only-of-type {\n",
       "        vertical-align: middle;\n",
       "    }\n",
       "\n",
       "    .dataframe tbody tr th {\n",
       "        vertical-align: top;\n",
       "    }\n",
       "\n",
       "    .dataframe thead th {\n",
       "        text-align: right;\n",
       "    }\n",
       "</style>\n",
       "<table border=\"1\" class=\"dataframe\">\n",
       "  <thead>\n",
       "    <tr style=\"text-align: right;\">\n",
       "      <th></th>\n",
       "      <th>Name</th>\n",
       "      <th>B-V</th>\n",
       "      <th>log_R_HK_</th>\n",
       "      <th>EWLi</th>\n",
       "    </tr>\n",
       "  </thead>\n",
       "  <tbody>\n",
       "    <tr>\n",
       "      <th>69</th>\n",
       "      <td>HD377</td>\n",
       "      <td>0.622859</td>\n",
       "      <td>-4.36</td>\n",
       "      <td>75.0610</td>\n",
       "    </tr>\n",
       "    <tr>\n",
       "      <th>72</th>\n",
       "      <td>HD13507</td>\n",
       "      <td>0.663304</td>\n",
       "      <td>-4.49</td>\n",
       "      <td>0.0690</td>\n",
       "    </tr>\n",
       "    <tr>\n",
       "      <th>73</th>\n",
       "      <td>HD13531</td>\n",
       "      <td>0.698459</td>\n",
       "      <td>-4.40</td>\n",
       "      <td>0.0520</td>\n",
       "    </tr>\n",
       "    <tr>\n",
       "      <th>76</th>\n",
       "      <td>HD25457</td>\n",
       "      <td>0.511179</td>\n",
       "      <td>-4.39</td>\n",
       "      <td>0.1055</td>\n",
       "    </tr>\n",
       "    <tr>\n",
       "      <th>91</th>\n",
       "      <td>HD90905</td>\n",
       "      <td>0.542033</td>\n",
       "      <td>-4.43</td>\n",
       "      <td>0.1300</td>\n",
       "    </tr>\n",
       "    <tr>\n",
       "      <th>96</th>\n",
       "      <td>HD107146</td>\n",
       "      <td>0.605399</td>\n",
       "      <td>-4.34</td>\n",
       "      <td>0.1230</td>\n",
       "    </tr>\n",
       "    <tr>\n",
       "      <th>108</th>\n",
       "      <td>HD166435</td>\n",
       "      <td>0.593482</td>\n",
       "      <td>-4.27</td>\n",
       "      <td>30.5050</td>\n",
       "    </tr>\n",
       "  </tbody>\n",
       "</table>\n",
       "</div>"
      ],
      "text/plain": [
       "         Name       B-V  log_R_HK_     EWLi\n",
       "69      HD377  0.622859      -4.36  75.0610\n",
       "72    HD13507  0.663304      -4.49   0.0690\n",
       "73    HD13531  0.698459      -4.40   0.0520\n",
       "76    HD25457  0.511179      -4.39   0.1055\n",
       "91    HD90905  0.542033      -4.43   0.1300\n",
       "96   HD107146  0.605399      -4.34   0.1230\n",
       "108  HD166435  0.593482      -4.27  30.5050"
      ]
     },
     "execution_count": 10,
     "metadata": {},
     "output_type": "execute_result"
    }
   ],
   "source": [
    "data.dropna()"
   ]
  },
  {
   "cell_type": "code",
   "execution_count": null,
   "metadata": {},
   "outputs": [],
   "source": []
  },
  {
   "cell_type": "markdown",
   "metadata": {},
   "source": [
    "## Gutierrez+2020 (cluster)"
   ]
  },
  {
   "cell_type": "code",
   "execution_count": 239,
   "metadata": {
    "ExecuteTime": {
     "end_time": "2023-04-05T02:37:54.869715Z",
     "start_time": "2023-04-05T02:37:53.760023Z"
    }
   },
   "outputs": [
    {
     "name": "stdout",
     "output_type": "stream",
     "text": [
      "Data url: https://vizier.u-strasbg.fr/viz-bin/VizieR?-source=J/A+A/643/A71\n",
      "Downloading all tables in J/A+A/643/A71 from vizier.\n",
      "{'J/A+A/643/A71/br44': 'Membership analysis and selection for Berkeley 44',\n",
      " 'J/A+A/643/A71/br81': 'Membership analysis and selection for Berkeley 81',\n",
      " 'J/A+A/643/A71/cha': 'Membership analysis and selection for Cha I',\n",
      " 'J/A+A/643/A71/gamma': 'Membership analysis and selection for Gamma Vel',\n",
      " 'J/A+A/643/A71/ic2391': 'Membership analysis and selection for IC 2391',\n",
      " 'J/A+A/643/A71/ic2602': 'Membership analysis and selection for IC 2602',\n",
      " 'J/A+A/643/A71/ic4665': 'Membership analysis and selection for IC 4665',\n",
      " 'J/A+A/643/A71/m67': 'Membership analysis and selection for M 67',\n",
      " 'J/A+A/643/A71/ngc2243': 'Membership analysis and selection for NGC 2243',\n",
      " 'J/A+A/643/A71/ngc2516': 'Membership analysis and selection for NGC 2516',\n",
      " 'J/A+A/643/A71/ngc2547': 'Membership analysis and selection for NGC 2547',\n",
      " 'J/A+A/643/A71/ngc4815': 'Membership analysis and selection for NGC 4815',\n",
      " 'J/A+A/643/A71/ngc6005': 'Membership analysis and selection for NGC 6005',\n",
      " 'J/A+A/643/A71/ngc6633': 'Membership analysis and selection for NGC 6633',\n",
      " 'J/A+A/643/A71/ngc6705': 'Membership analysis and selection for NGC 6705',\n",
      " 'J/A+A/643/A71/ngc6802': 'Membership analysis and selection for NGC 6802',\n",
      " 'J/A+A/643/A71/pismis18': 'Membership analysis and selection for Pismis 18',\n",
      " 'J/A+A/643/A71/rho': 'Membership analysis and selection for rho Oph',\n",
      " 'J/A+A/643/A71/tr20': 'Membership analysis and selection for Trumpler 20',\n",
      " 'J/A+A/643/A71/tr23': 'Membership analysis and selection for Trumpler 23'}\n"
     ]
    }
   ],
   "source": [
    "from catalog import CatalogDownloader\n",
    "\n",
    "cd = CatalogDownloader(catalog_name=\"Gutierrez2020\", catalog_type=\"LiEW\")\n",
    "tabs = cd.get_tables_from_vizier(row_limit=-1)"
   ]
  },
  {
   "cell_type": "markdown",
   "metadata": {},
   "source": [
    "See Fig 4.7 from [Guttierez's thesis](https://ui.adsabs.harvard.edu/abs/2022PhDT.........6G/abstract)\n",
    "![img](../figures/LiTeff_GuttierezLuthien2022.png)"
   ]
  },
  {
   "cell_type": "code",
   "execution_count": 251,
   "metadata": {
    "ExecuteTime": {
     "end_time": "2023-04-05T02:46:35.098565Z",
     "start_time": "2023-04-05T02:46:32.705317Z"
    }
   },
   "outputs": [
    {
     "name": "stderr",
     "output_type": "stream",
     "text": [
      "/tmp/ipykernel_3859/893757674.py:10: SettingWithCopyWarning: \n",
      "A value is trying to be set on a copy of a slice from a DataFrame.\n",
      "Try using .loc[row_indexer,col_indexer] = value instead\n",
      "\n",
      "See the caveats in the documentation: https://pandas.pydata.org/pandas-docs/stable/user_guide/indexing.html#returning-a-view-versus-a-copy\n",
      "  df['Age'] = df.Age.replace(' \\\\(b\\\\)','', regex=True)\n",
      "/tmp/ipykernel_3859/893757674.py:11: SettingWithCopyWarning: \n",
      "A value is trying to be set on a copy of a slice from a DataFrame.\n",
      "Try using .loc[row_indexer,col_indexer] = value instead\n",
      "\n",
      "See the caveats in the documentation: https://pandas.pydata.org/pandas-docs/stable/user_guide/indexing.html#returning-a-view-versus-a-copy\n",
      "  df['Name'] = \"\"\"rhoOph cha gammaVel ngc2457 ic2391 ic2602 ic4665 ngc2516 ngc6705 ngc4815\n"
     ]
    },
    {
     "data": {
      "text/html": [
       "<div>\n",
       "<style scoped>\n",
       "    .dataframe tbody tr th:only-of-type {\n",
       "        vertical-align: middle;\n",
       "    }\n",
       "\n",
       "    .dataframe tbody tr th {\n",
       "        vertical-align: top;\n",
       "    }\n",
       "\n",
       "    .dataframe thead tr th {\n",
       "        text-align: left;\n",
       "    }\n",
       "</style>\n",
       "<table border=\"1\" class=\"dataframe\">\n",
       "  <thead>\n",
       "    <tr>\n",
       "      <th></th>\n",
       "      <th>Cluster</th>\n",
       "      <th>Age</th>\n",
       "      <th>[Fe/H]</th>\n",
       "      <th>Distance</th>\n",
       "      <th colspan=\"3\" halign=\"left\">References</th>\n",
       "      <th>GES membership</th>\n",
       "      <th>Name</th>\n",
       "    </tr>\n",
       "    <tr>\n",
       "      <th></th>\n",
       "      <th>Unnamed: 0_level_1</th>\n",
       "      <th>(Myr)</th>\n",
       "      <th>(dex)</th>\n",
       "      <th>(kpc)</th>\n",
       "      <th>ages</th>\n",
       "      <th>[Fe/H]</th>\n",
       "      <th>distance</th>\n",
       "      <th>studies</th>\n",
       "      <th></th>\n",
       "    </tr>\n",
       "  </thead>\n",
       "  <tbody>\n",
       "    <tr>\n",
       "      <th>0</th>\n",
       "      <td>ρ Oph</td>\n",
       "      <td>1–3</td>\n",
       "      <td>−0.08 ± 0.02</td>\n",
       "      <td>0.13 ± 0.01</td>\n",
       "      <td>1, 2</td>\n",
       "      <td>2</td>\n",
       "      <td>2</td>\n",
       "      <td>1, 2 (a), 3</td>\n",
       "      <td>rhoOph</td>\n",
       "    </tr>\n",
       "    <tr>\n",
       "      <th>1</th>\n",
       "      <td>Cha I</td>\n",
       "      <td>2</td>\n",
       "      <td>−0.07 ± 0.04</td>\n",
       "      <td>0.16 ± 0.02</td>\n",
       "      <td>4, 5, 6</td>\n",
       "      <td>2, 5</td>\n",
       "      <td>4, 5, 7, 8</td>\n",
       "      <td>2, 4, 5, 7, 8</td>\n",
       "      <td>cha</td>\n",
       "    </tr>\n",
       "    <tr>\n",
       "      <th>2</th>\n",
       "      <td>γ Vel</td>\n",
       "      <td>10–20</td>\n",
       "      <td>−0.06 ± 0.02</td>\n",
       "      <td>0.35–0.40</td>\n",
       "      <td>2, 5, 7, 9, 11, 12, 26</td>\n",
       "      <td>2, 11</td>\n",
       "      <td>5, 7, 9, 12, 26</td>\n",
       "      <td>2, 5, 7, 9, 10, 11, 12, 13, 26</td>\n",
       "      <td>gammaVel</td>\n",
       "    </tr>\n",
       "    <tr>\n",
       "      <th>3</th>\n",
       "      <td>NGC 2547</td>\n",
       "      <td>35–45</td>\n",
       "      <td>−0.03 ± 0.06</td>\n",
       "      <td>0.36 ± 0.02</td>\n",
       "      <td>2, 5, 15, 16, 17, 26, 39</td>\n",
       "      <td>2</td>\n",
       "      <td>2, 5, 26</td>\n",
       "      <td>2, 5, 14, 15, 17, 22</td>\n",
       "      <td>ngc2457</td>\n",
       "    </tr>\n",
       "    <tr>\n",
       "      <th>4</th>\n",
       "      <td>IC 2391</td>\n",
       "      <td>36 ± 2</td>\n",
       "      <td>−0.03 ± 0.02</td>\n",
       "      <td>0.16 ± 0.01</td>\n",
       "      <td>2, 15, 18, 19, 21, 23</td>\n",
       "      <td>2, 20, 21, 23</td>\n",
       "      <td>2, 19, 20, 21, 39</td>\n",
       "      <td>2, 14, 15, 22</td>\n",
       "      <td>ic2391</td>\n",
       "    </tr>\n",
       "  </tbody>\n",
       "</table>\n",
       "</div>"
      ],
      "text/plain": [
       "             Cluster     Age        [Fe/H]     Distance  \\\n",
       "  Unnamed: 0_level_1   (Myr)         (dex)        (kpc)   \n",
       "0              ρ Oph     1–3  −0.08 ± 0.02  0.13 ± 0.01   \n",
       "1              Cha I       2  −0.07 ± 0.04  0.16 ± 0.02   \n",
       "2              γ Vel   10–20  −0.06 ± 0.02    0.35–0.40   \n",
       "3           NGC 2547   35–45  −0.03 ± 0.06  0.36 ± 0.02   \n",
       "4            IC 2391  36 ± 2  −0.03 ± 0.02  0.16 ± 0.01   \n",
       "\n",
       "                 References                                    \\\n",
       "                       ages         [Fe/H]           distance   \n",
       "0                      1, 2              2                  2   \n",
       "1                   4, 5, 6           2, 5         4, 5, 7, 8   \n",
       "2    2, 5, 7, 9, 11, 12, 26          2, 11    5, 7, 9, 12, 26   \n",
       "3  2, 5, 15, 16, 17, 26, 39              2           2, 5, 26   \n",
       "4     2, 15, 18, 19, 21, 23  2, 20, 21, 23  2, 19, 20, 21, 39   \n",
       "\n",
       "                   GES membership      Name  \n",
       "                          studies            \n",
       "0                     1, 2 (a), 3    rhoOph  \n",
       "1                   2, 4, 5, 7, 8       cha  \n",
       "2  2, 5, 7, 9, 10, 11, 12, 13, 26  gammaVel  \n",
       "3            2, 5, 14, 15, 17, 22   ngc2457  \n",
       "4                   2, 14, 15, 22    ic2391  "
      ]
     },
     "execution_count": 251,
     "metadata": {},
     "output_type": "execute_result"
    }
   ],
   "source": [
    "import pandas as pd\n",
    "from pathlib import Path\n",
    "\n",
    "fp = Path('../data/Gutierrez2020_orig.csv')\n",
    "if not fp.exists():\n",
    "    url = \"https://www.aanda.org/articles/aa/full_html/2020/11/aa37620-20/T1.html\"\n",
    "    html = pd.read_html(url, #encoding ='us-ascii'\n",
    "                       )\n",
    "    df = html[0].dropna()\n",
    "    df['Age'] = df.Age.replace(' \\\\(b\\\\)','', regex=True)\n",
    "    df['Name'] = \"\"\"rhoOph cha gammaVel ngc2457 ic2391 ic2602 ic4665 ngc2516 ngc6705 ngc4815 \n",
    "                    ngc6633 tr23 br81 ngc6005 ngc6802 pismis18 tr20 br44 m67 ngc2243\"\"\".split()\n",
    "    df.to_csv(fp)\n",
    "else:\n",
    "    df = pd.read_csv(fp, delimiter='\\t')\n",
    "    df['Name'] = \"\"\"0 rhoOph cha gammaVel ngc2457 ic2391 ic2602 ic4665 ngc2516 ngc6705 ngc4815 \n",
    "                    ngc6633 tr23 br81 ngc6005 ngc6802 pismis18 tr20 br44 m67 ngc2243\"\"\".split()\n",
    "df.head()"
   ]
  },
  {
   "cell_type": "code",
   "execution_count": 252,
   "metadata": {
    "ExecuteTime": {
     "end_time": "2023-04-05T02:46:36.299669Z",
     "start_time": "2023-04-05T02:46:35.100740Z"
    }
   },
   "outputs": [
    {
     "name": "stdout",
     "output_type": "stream",
     "text": [
      "ngc2243 'DataFrame' object has no attribute 'Final'\n"
     ]
    },
    {
     "data": {
      "image/png": "[encoded data removed]",
      "text/plain": [
       "<Figure size 800x800 with 4 Axes>"
      ]
     },
     "metadata": {},
     "output_type": "display_data"
    }
   ],
   "source": [
    "fig, axs = pl.subplots(2,2, figsize=(8,8), tight_layout=True, sharex='row', sharey='col')\n",
    "\n",
    "dfs = {}\n",
    "for i,key in enumerate(df.Name.values):\n",
    "    ax = axs.flatten()[i//5]\n",
    "    \n",
    "    name = key.split('/')[-1]\n",
    "    age = df.iloc[i]['Age'].values[0]\n",
    "    d = tabs[i].to_pandas()\n",
    "    #remove non-members\n",
    "    try:\n",
    "        d = d[d.Final=='Y']\n",
    "    except Exception as e:\n",
    "        print(name,e)\n",
    "    _ = d.plot(x='Teff', y='EW_Li_', kind='scatter', ax=ax, c=f\"C{i}\", label=f\"{name} ({age})\")\n",
    "    ax.legend(fontsize=12)\n",
    "    ax.invert_xaxis()\n",
    "    dfs[name] = d"
   ]
  },
  {
   "cell_type": "code",
   "execution_count": 266,
   "metadata": {
    "ExecuteTime": {
     "end_time": "2023-04-05T02:57:02.055427Z",
     "start_time": "2023-04-05T02:57:02.000284Z"
    }
   },
   "outputs": [
    {
     "data": {
      "text/plain": [
       "rhoOph                1–3\n",
       "Cha                     2\n",
       "gammaVel            10–20\n",
       "NGC 2547            35–45\n",
       "IC 2391            36 ± 2\n",
       "IC 2602            35 ± 1\n",
       "IC 4665            38 ± 3\n",
       "NGC 2516          251 ± 3\n",
       "NGC 6705         300 ± 50\n",
       "NGC 4815         570 ± 70\n",
       "NGC 6633         773 ± 10\n",
       "Trumpler 23     800 ± 100\n",
       "Berkeley 81     860 ± 100\n",
       "NGC 6005          973 ± 4\n",
       "NGC 6802       1000 ± 100\n",
       "Pismis 18      1200 ± 400\n",
       "Trumpler 20    1500 ± 150\n",
       "Berkeley 44    1600 ± 300\n",
       "M67             4000-4500\n",
       "NGC 2243       4000 ± 120\n",
       "Name: Age, dtype: object"
      ]
     },
     "execution_count": 266,
     "metadata": {},
     "output_type": "execute_result"
    }
   ],
   "source": [
    "cols = ['Name', 'CNAME', 'RV', 'e_RV', 'Teff', 'e_Teff', 'logg', 'e_logg', \n",
    "        '__Fe_H_', 'e__Fe_H_', \n",
    "        #'l_EW_Li_', \n",
    "        'EW_Li_', 'e_EW_Li_', \n",
    "        #'f_e_EW_Li_'\n",
    "       ]\n",
    "left = pd.concat(dfs).reset_index().drop(['level_1', 'ID'], axis=1)\n",
    "left = left.rename({'level_0': 'Name'}, axis=1)[cols]\n",
    "\n",
    "right = pd.Series({'rhoOph': '1–3',\n",
    "                      'Cha': '2',\n",
    "                      'gammaVel': '10–20',\n",
    "                      'NGC 2547':  '35–45',\n",
    "                      'IC 2391': '36 ± 2',\n",
    "                      'IC 2602': '35 ± 1',\n",
    "                      'IC 4665': '38 ± 3',\n",
    "                      'NGC 2516': '251 ± 3',\n",
    "                      'NGC 6705': '300 ± 50',\n",
    "                      'NGC 4815': '570 ± 70',\n",
    "                      'NGC 6633': '773 ± 10',\n",
    "                      'Trumpler 23': '800 ± 100',\n",
    "                      'Berkeley 81' : '860 ± 100',\n",
    "                      'NGC 6005': '973 ± 4',\n",
    "                      'NGC 6802': '1000 ± 100',\n",
    "                      'Pismis 18': '1200 ± 400',\n",
    "                      'Trumpler 20': '1500 ± 150',\n",
    "                      'Berkeley 44': '1600 ± 300',\n",
    "                      'M67': '4000-4500',\n",
    "                      'NGC 2243': '4000 ± 120'}, name='Age'\n",
    "                   )\n",
    "right"
   ]
  },
  {
   "cell_type": "code",
   "execution_count": 267,
   "metadata": {
    "ExecuteTime": {
     "end_time": "2023-04-05T02:57:06.600982Z",
     "start_time": "2023-04-05T02:57:06.498241Z"
    }
   },
   "outputs": [
    {
     "ename": "KeyError",
     "evalue": "'Name'",
     "output_type": "error",
     "traceback": [
      "\u001b[0;31m---------------------------------------------------------------------------\u001b[0m",
      "\u001b[0;31mKeyError\u001b[0m                                  Traceback (most recent call last)",
      "Cell \u001b[0;32mIn[267], line 1\u001b[0m\n\u001b[0;32m----> 1\u001b[0m df_final \u001b[38;5;241m=\u001b[39m \u001b[43mpd\u001b[49m\u001b[38;5;241;43m.\u001b[39;49m\u001b[43mmerge\u001b[49m\u001b[43m(\u001b[49m\u001b[43mleft\u001b[49m\u001b[43m,\u001b[49m\u001b[43m \u001b[49m\u001b[43mright\u001b[49m\u001b[43m,\u001b[49m\u001b[43m \u001b[49m\u001b[43mon\u001b[49m\u001b[38;5;241;43m=\u001b[39;49m\u001b[38;5;124;43m'\u001b[39;49m\u001b[38;5;124;43mName\u001b[39;49m\u001b[38;5;124;43m'\u001b[39;49m\u001b[43m)\u001b[49m\n\u001b[1;32m      2\u001b[0m \u001b[38;5;66;03m# df_final = df_final.apply(pd.to_numeric)\u001b[39;00m\n\u001b[1;32m      3\u001b[0m \u001b[38;5;66;03m# df_final = df_final.applymap(lambda x: x.decode(\"ascii\") if isinstance(x, bytes) else str(x))\u001b[39;00m\n\u001b[1;32m      4\u001b[0m \u001b[38;5;66;03m# df_final.Age = df_final.Age.str.replace('\\W', '-', regex=True)\u001b[39;00m\n\u001b[1;32m      5\u001b[0m \u001b[38;5;66;03m# df_final.Distance = df_final.Distance.str.replace('\\W', '.', regex=True)\u001b[39;00m\n\u001b[1;32m      6\u001b[0m df_final\u001b[38;5;241m.\u001b[39mtail()\n",
      "File \u001b[0;32m~/miniconda3/envs/wakai/lib/python3.8/site-packages/pandas/core/reshape/merge.py:110\u001b[0m, in \u001b[0;36mmerge\u001b[0;34m(left, right, how, on, left_on, right_on, left_index, right_index, sort, suffixes, copy, indicator, validate)\u001b[0m\n\u001b[1;32m     93\u001b[0m \u001b[38;5;129m@Substitution\u001b[39m(\u001b[38;5;124m\"\u001b[39m\u001b[38;5;130;01m\\n\u001b[39;00m\u001b[38;5;124mleft : DataFrame or named Series\u001b[39m\u001b[38;5;124m\"\u001b[39m)\n\u001b[1;32m     94\u001b[0m \u001b[38;5;129m@Appender\u001b[39m(_merge_doc, indents\u001b[38;5;241m=\u001b[39m\u001b[38;5;241m0\u001b[39m)\n\u001b[1;32m     95\u001b[0m \u001b[38;5;28;01mdef\u001b[39;00m \u001b[38;5;21mmerge\u001b[39m(\n\u001b[0;32m   (...)\u001b[0m\n\u001b[1;32m    108\u001b[0m     validate: \u001b[38;5;28mstr\u001b[39m \u001b[38;5;241m|\u001b[39m \u001b[38;5;28;01mNone\u001b[39;00m \u001b[38;5;241m=\u001b[39m \u001b[38;5;28;01mNone\u001b[39;00m,\n\u001b[1;32m    109\u001b[0m ) \u001b[38;5;241m-\u001b[39m\u001b[38;5;241m>\u001b[39m DataFrame:\n\u001b[0;32m--> 110\u001b[0m     op \u001b[38;5;241m=\u001b[39m \u001b[43m_MergeOperation\u001b[49m\u001b[43m(\u001b[49m\n\u001b[1;32m    111\u001b[0m \u001b[43m        \u001b[49m\u001b[43mleft\u001b[49m\u001b[43m,\u001b[49m\n\u001b[1;32m    112\u001b[0m \u001b[43m        \u001b[49m\u001b[43mright\u001b[49m\u001b[43m,\u001b[49m\n\u001b[1;32m    113\u001b[0m \u001b[43m        \u001b[49m\u001b[43mhow\u001b[49m\u001b[38;5;241;43m=\u001b[39;49m\u001b[43mhow\u001b[49m\u001b[43m,\u001b[49m\n\u001b[1;32m    114\u001b[0m \u001b[43m        \u001b[49m\u001b[43mon\u001b[49m\u001b[38;5;241;43m=\u001b[39;49m\u001b[43mon\u001b[49m\u001b[43m,\u001b[49m\n\u001b[1;32m    115\u001b[0m \u001b[43m        \u001b[49m\u001b[43mleft_on\u001b[49m\u001b[38;5;241;43m=\u001b[39;49m\u001b[43mleft_on\u001b[49m\u001b[43m,\u001b[49m\n\u001b[1;32m    116\u001b[0m \u001b[43m        \u001b[49m\u001b[43mright_on\u001b[49m\u001b[38;5;241;43m=\u001b[39;49m\u001b[43mright_on\u001b[49m\u001b[43m,\u001b[49m\n\u001b[1;32m    117\u001b[0m \u001b[43m        \u001b[49m\u001b[43mleft_index\u001b[49m\u001b[38;5;241;43m=\u001b[39;49m\u001b[43mleft_index\u001b[49m\u001b[43m,\u001b[49m\n\u001b[1;32m    118\u001b[0m \u001b[43m        \u001b[49m\u001b[43mright_index\u001b[49m\u001b[38;5;241;43m=\u001b[39;49m\u001b[43mright_index\u001b[49m\u001b[43m,\u001b[49m\n\u001b[1;32m    119\u001b[0m \u001b[43m        \u001b[49m\u001b[43msort\u001b[49m\u001b[38;5;241;43m=\u001b[39;49m\u001b[43msort\u001b[49m\u001b[43m,\u001b[49m\n\u001b[1;32m    120\u001b[0m \u001b[43m        \u001b[49m\u001b[43msuffixes\u001b[49m\u001b[38;5;241;43m=\u001b[39;49m\u001b[43msuffixes\u001b[49m\u001b[43m,\u001b[49m\n\u001b[1;32m    121\u001b[0m \u001b[43m        \u001b[49m\u001b[43mindicator\u001b[49m\u001b[38;5;241;43m=\u001b[39;49m\u001b[43mindicator\u001b[49m\u001b[43m,\u001b[49m\n\u001b[1;32m    122\u001b[0m \u001b[43m        \u001b[49m\u001b[43mvalidate\u001b[49m\u001b[38;5;241;43m=\u001b[39;49m\u001b[43mvalidate\u001b[49m\u001b[43m,\u001b[49m\n\u001b[1;32m    123\u001b[0m \u001b[43m    \u001b[49m\u001b[43m)\u001b[49m\n\u001b[1;32m    124\u001b[0m     \u001b[38;5;28;01mreturn\u001b[39;00m op\u001b[38;5;241m.\u001b[39mget_result(copy\u001b[38;5;241m=\u001b[39mcopy)\n",
      "File \u001b[0;32m~/miniconda3/envs/wakai/lib/python3.8/site-packages/pandas/core/reshape/merge.py:703\u001b[0m, in \u001b[0;36m_MergeOperation.__init__\u001b[0;34m(self, left, right, how, on, left_on, right_on, axis, left_index, right_index, sort, suffixes, indicator, validate)\u001b[0m\n\u001b[1;32m    696\u001b[0m \u001b[38;5;28mself\u001b[39m\u001b[38;5;241m.\u001b[39m_cross \u001b[38;5;241m=\u001b[39m cross_col\n\u001b[1;32m    698\u001b[0m \u001b[38;5;66;03m# note this function has side effects\u001b[39;00m\n\u001b[1;32m    699\u001b[0m (\n\u001b[1;32m    700\u001b[0m     \u001b[38;5;28mself\u001b[39m\u001b[38;5;241m.\u001b[39mleft_join_keys,\n\u001b[1;32m    701\u001b[0m     \u001b[38;5;28mself\u001b[39m\u001b[38;5;241m.\u001b[39mright_join_keys,\n\u001b[1;32m    702\u001b[0m     \u001b[38;5;28mself\u001b[39m\u001b[38;5;241m.\u001b[39mjoin_names,\n\u001b[0;32m--> 703\u001b[0m ) \u001b[38;5;241m=\u001b[39m \u001b[38;5;28;43mself\u001b[39;49m\u001b[38;5;241;43m.\u001b[39;49m\u001b[43m_get_merge_keys\u001b[49m\u001b[43m(\u001b[49m\u001b[43m)\u001b[49m\n\u001b[1;32m    705\u001b[0m \u001b[38;5;66;03m# validate the merge keys dtypes. We may need to coerce\u001b[39;00m\n\u001b[1;32m    706\u001b[0m \u001b[38;5;66;03m# to avoid incompatible dtypes\u001b[39;00m\n\u001b[1;32m    707\u001b[0m \u001b[38;5;28mself\u001b[39m\u001b[38;5;241m.\u001b[39m_maybe_coerce_merge_keys()\n",
      "File \u001b[0;32m~/miniconda3/envs/wakai/lib/python3.8/site-packages/pandas/core/reshape/merge.py:1162\u001b[0m, in \u001b[0;36m_MergeOperation._get_merge_keys\u001b[0;34m(self)\u001b[0m\n\u001b[1;32m   1160\u001b[0m rk \u001b[38;5;241m=\u001b[39m cast(Hashable, rk)\n\u001b[1;32m   1161\u001b[0m \u001b[38;5;28;01mif\u001b[39;00m rk \u001b[38;5;129;01mis\u001b[39;00m \u001b[38;5;129;01mnot\u001b[39;00m \u001b[38;5;28;01mNone\u001b[39;00m:\n\u001b[0;32m-> 1162\u001b[0m     right_keys\u001b[38;5;241m.\u001b[39mappend(\u001b[43mright\u001b[49m\u001b[38;5;241;43m.\u001b[39;49m\u001b[43m_get_label_or_level_values\u001b[49m\u001b[43m(\u001b[49m\u001b[43mrk\u001b[49m\u001b[43m)\u001b[49m)\n\u001b[1;32m   1163\u001b[0m \u001b[38;5;28;01melse\u001b[39;00m:\n\u001b[1;32m   1164\u001b[0m     \u001b[38;5;66;03m# work-around for merge_asof(right_index=True)\u001b[39;00m\n\u001b[1;32m   1165\u001b[0m     right_keys\u001b[38;5;241m.\u001b[39mappend(right\u001b[38;5;241m.\u001b[39mindex)\n",
      "File \u001b[0;32m~/miniconda3/envs/wakai/lib/python3.8/site-packages/pandas/core/generic.py:1850\u001b[0m, in \u001b[0;36mNDFrame._get_label_or_level_values\u001b[0;34m(self, key, axis)\u001b[0m\n\u001b[1;32m   1844\u001b[0m     values \u001b[38;5;241m=\u001b[39m (\n\u001b[1;32m   1845\u001b[0m         \u001b[38;5;28mself\u001b[39m\u001b[38;5;241m.\u001b[39maxes[axis]\n\u001b[1;32m   1846\u001b[0m         \u001b[38;5;241m.\u001b[39mget_level_values(key)  \u001b[38;5;66;03m# type: ignore[assignment]\u001b[39;00m\n\u001b[1;32m   1847\u001b[0m         \u001b[38;5;241m.\u001b[39m_values\n\u001b[1;32m   1848\u001b[0m     )\n\u001b[1;32m   1849\u001b[0m \u001b[38;5;28;01melse\u001b[39;00m:\n\u001b[0;32m-> 1850\u001b[0m     \u001b[38;5;28;01mraise\u001b[39;00m \u001b[38;5;167;01mKeyError\u001b[39;00m(key)\n\u001b[1;32m   1852\u001b[0m \u001b[38;5;66;03m# Check for duplicates\u001b[39;00m\n\u001b[1;32m   1853\u001b[0m \u001b[38;5;28;01mif\u001b[39;00m values\u001b[38;5;241m.\u001b[39mndim \u001b[38;5;241m>\u001b[39m \u001b[38;5;241m1\u001b[39m:\n",
      "\u001b[0;31mKeyError\u001b[0m: 'Name'"
     ]
    }
   ],
   "source": [
    "df_final = pd.merge(left, right, on='Name')\n",
    "# df_final = df_final.apply(pd.to_numeric)\n",
    "# df_final = df_final.applymap(lambda x: x.decode(\"ascii\") if isinstance(x, bytes) else str(x))\n",
    "# df_final.Age = df_final.Age.str.replace('\\W', '-', regex=True)\n",
    "# df_final.Distance = df_final.Distance.str.replace('\\W', '.', regex=True)\n",
    "df_final.tail()"
   ]
  },
  {
   "cell_type": "code",
   "execution_count": null,
   "metadata": {},
   "outputs": [],
   "source": []
  },
  {
   "cell_type": "code",
   "execution_count": null,
   "metadata": {
    "ExecuteTime": {
     "end_time": "2023-04-05T02:48:33.531077Z",
     "start_time": "2023-04-05T02:48:33.415108Z"
    }
   },
   "outputs": [],
   "source": [
    "df_final.to_csv(\"../data/Li_catalog_Gutierrez2020.csv\", encoding=\"us-ascii\")"
   ]
  },
  {
   "cell_type": "markdown",
   "metadata": {},
   "source": [
    "# Li abundances"
   ]
  },
  {
   "cell_type": "markdown",
   "metadata": {},
   "source": [
    "## Franciosini+2022"
   ]
  },
  {
   "cell_type": "code",
   "execution_count": 26,
   "metadata": {
    "ExecuteTime": {
     "end_time": "2023-04-05T00:25:30.288175Z",
     "start_time": "2023-04-05T00:25:30.076589Z"
    }
   },
   "outputs": [
    {
     "name": "stdout",
     "output_type": "stream",
     "text": [
      "Data url: https://vizier.u-strasbg.fr/viz-bin/VizieR?-source=J/A%2bA/659/A85\n",
      "Downloading all tables in J/A%2bA/659/A85 from vizier.\n",
      "{'J/A+A/659/A85/tableb1': 'High-probability members of 25 Ori',\n",
      " 'J/A+A/659/A85/tableb2': 'High-probability members of Gamma Vel A',\n",
      " 'J/A+A/659/A85/tableb3': 'High-probability members of Gamma Vel B',\n",
      " 'J/A+A/659/A85/tableb4': 'High-probability members of NGC2451B',\n",
      " 'J/A+A/659/A85/tableb5': 'High-probability members of NGC2547',\n",
      " 'J/A+A/659/A85/tableb6': 'High-probability members of NGC2516'}\n"
     ]
    }
   ],
   "source": [
    "from catalog import CatalogDownloader\n",
    "\n",
    "cd = CatalogDownloader(catalog_name=\"Franciosini2022\", catalog_type=\"LiEW\")\n",
    "tabs = cd.get_tables_from_vizier(row_limit=-1)"
   ]
  },
  {
   "cell_type": "code",
   "execution_count": 27,
   "metadata": {
    "ExecuteTime": {
     "end_time": "2023-04-05T00:25:31.319916Z",
     "start_time": "2023-04-05T00:25:30.982712Z"
    }
   },
   "outputs": [
    {
     "data": {
      "image/png": "[encoded data removed]",
      "text/plain": [
       "<Figure size 640x480 with 1 Axes>"
      ]
     },
     "metadata": {},
     "output_type": "display_data"
    }
   ],
   "source": [
    "cnames = \"25Ori GammaVelA GammaVelB NGC2451B NGC2547 NGC2516\".split()\n",
    "dfs = {}\n",
    "for i,tab in enumerate(tabs):\n",
    "    name = cnames[i]    \n",
    "    df = tab.to_pandas()\n",
    "    \n",
    "    if i==0:\n",
    "        ax=None\n",
    "    ax = df.plot(x='Teff', y='ALi', kind='scatter', ax=ax, c=f\"C{i}\", label=name)\n",
    "    ax.legend()\n",
    "    ax.invert_xaxis()\n",
    "    \n",
    "    dfs[name] = df"
   ]
  },
  {
   "cell_type": "markdown",
   "metadata": {},
   "source": [
    "merge A Li from Deliyannis+2019"
   ]
  },
  {
   "cell_type": "code",
   "execution_count": 28,
   "metadata": {
    "ExecuteTime": {
     "end_time": "2023-04-05T00:25:34.333602Z",
     "start_time": "2023-04-05T00:25:34.294769Z"
    }
   },
   "outputs": [
    {
     "name": "stdout",
     "output_type": "stream",
     "text": [
      "Data url: https://vizier.u-strasbg.fr/viz-bin/VizieR?-source=J/AJ/158/163\n",
      "Downloading all tables in J/AJ/158/163 from vizier.\n",
      "{'J/AJ/158/163/table1': 'Li abundance values for stars in NGC 6819'}\n"
     ]
    }
   ],
   "source": [
    "cd = CatalogDownloader(catalog_name=\"Deliyannis2019\", catalog_type=\"LiEW\")\n",
    "tabs = cd.get_tables_from_vizier(row_limit=-1)"
   ]
  },
  {
   "cell_type": "code",
   "execution_count": 29,
   "metadata": {
    "ExecuteTime": {
     "end_time": "2023-04-05T00:25:51.888270Z",
     "start_time": "2023-04-05T00:25:51.859714Z"
    }
   },
   "outputs": [
    {
     "data": {
      "text/html": [
       "<div>\n",
       "<style scoped>\n",
       "    .dataframe tbody tr th:only-of-type {\n",
       "        vertical-align: middle;\n",
       "    }\n",
       "\n",
       "    .dataframe tbody tr th {\n",
       "        vertical-align: top;\n",
       "    }\n",
       "\n",
       "    .dataframe thead th {\n",
       "        text-align: right;\n",
       "    }\n",
       "</style>\n",
       "<table border=\"1\" class=\"dataframe\">\n",
       "  <thead>\n",
       "    <tr style=\"text-align: right;\">\n",
       "      <th></th>\n",
       "      <th>WOCS</th>\n",
       "      <th>PMga</th>\n",
       "      <th>PARga</th>\n",
       "      <th>Bin</th>\n",
       "      <th>Mem</th>\n",
       "      <th>S_N</th>\n",
       "      <th>Teff</th>\n",
       "      <th>__Fe_H_</th>\n",
       "      <th>l_A_Li_</th>\n",
       "      <th>A_Li_</th>\n",
       "      <th>e_A_Li_</th>\n",
       "      <th>Simbad</th>\n",
       "      <th>_RA</th>\n",
       "      <th>_DE</th>\n",
       "    </tr>\n",
       "  </thead>\n",
       "  <tbody>\n",
       "    <tr>\n",
       "      <th>0</th>\n",
       "      <td>1002</td>\n",
       "      <td>Y</td>\n",
       "      <td>Y</td>\n",
       "      <td>N</td>\n",
       "      <td>Y</td>\n",
       "      <td>57</td>\n",
       "      <td>3967</td>\n",
       "      <td>-0.28</td>\n",
       "      <td></td>\n",
       "      <td>0.3</td>\n",
       "      <td>0.08</td>\n",
       "      <td>Simbad</td>\n",
       "      <td>295.32105</td>\n",
       "      <td>40.18107</td>\n",
       "    </tr>\n",
       "    <tr>\n",
       "      <th>1</th>\n",
       "      <td>1004</td>\n",
       "      <td>Y</td>\n",
       "      <td>Y</td>\n",
       "      <td>N</td>\n",
       "      <td>Y</td>\n",
       "      <td>66</td>\n",
       "      <td>4242</td>\n",
       "      <td>-0.06</td>\n",
       "      <td>&lt;</td>\n",
       "      <td>-1.2</td>\n",
       "      <td>NaN</td>\n",
       "      <td>Simbad</td>\n",
       "      <td>295.36078</td>\n",
       "      <td>40.19494</td>\n",
       "    </tr>\n",
       "    <tr>\n",
       "      <th>2</th>\n",
       "      <td>1007</td>\n",
       "      <td>Y</td>\n",
       "      <td>Y</td>\n",
       "      <td>N</td>\n",
       "      <td>Y</td>\n",
       "      <td>53</td>\n",
       "      <td>4231</td>\n",
       "      <td>-0.13</td>\n",
       "      <td>&lt;</td>\n",
       "      <td>-1.5</td>\n",
       "      <td>NaN</td>\n",
       "      <td>Simbad</td>\n",
       "      <td>295.30504</td>\n",
       "      <td>40.24907</td>\n",
       "    </tr>\n",
       "    <tr>\n",
       "      <th>3</th>\n",
       "      <td>1014</td>\n",
       "      <td>Y</td>\n",
       "      <td>Y</td>\n",
       "      <td>N</td>\n",
       "      <td>Y</td>\n",
       "      <td>57</td>\n",
       "      <td>4270</td>\n",
       "      <td>-0.02</td>\n",
       "      <td>&lt;</td>\n",
       "      <td>-1.5</td>\n",
       "      <td>NaN</td>\n",
       "      <td>Simbad</td>\n",
       "      <td>295.39331</td>\n",
       "      <td>40.29672</td>\n",
       "    </tr>\n",
       "    <tr>\n",
       "      <th>4</th>\n",
       "      <td>1016</td>\n",
       "      <td>Y</td>\n",
       "      <td>Y</td>\n",
       "      <td>N</td>\n",
       "      <td>Y</td>\n",
       "      <td>19</td>\n",
       "      <td>4119</td>\n",
       "      <td>0.06</td>\n",
       "      <td></td>\n",
       "      <td>NaN</td>\n",
       "      <td>NaN</td>\n",
       "      <td>Simbad</td>\n",
       "      <td>295.28428</td>\n",
       "      <td>40.32552</td>\n",
       "    </tr>\n",
       "  </tbody>\n",
       "</table>\n",
       "</div>"
      ],
      "text/plain": [
       "   WOCS PMga PARga Bin Mem  S_N  Teff  __Fe_H_ l_A_Li_  A_Li_  e_A_Li_  \\\n",
       "0  1002    Y     Y   N   Y   57  3967    -0.28            0.3     0.08   \n",
       "1  1004    Y     Y   N   Y   66  4242    -0.06       <   -1.2      NaN   \n",
       "2  1007    Y     Y   N   Y   53  4231    -0.13       <   -1.5      NaN   \n",
       "3  1014    Y     Y   N   Y   57  4270    -0.02       <   -1.5      NaN   \n",
       "4  1016    Y     Y   N   Y   19  4119     0.06            NaN      NaN   \n",
       "\n",
       "   Simbad        _RA       _DE  \n",
       "0  Simbad  295.32105  40.18107  \n",
       "1  Simbad  295.36078  40.19494  \n",
       "2  Simbad  295.30504  40.24907  \n",
       "3  Simbad  295.39331  40.29672  \n",
       "4  Simbad  295.28428  40.32552  "
      ]
     },
     "execution_count": 29,
     "metadata": {},
     "output_type": "execute_result"
    }
   ],
   "source": [
    "d = tabs[0].to_pandas()\n",
    "d.head()"
   ]
  },
  {
   "cell_type": "code",
   "execution_count": 34,
   "metadata": {
    "ExecuteTime": {
     "end_time": "2023-04-05T00:32:50.444384Z",
     "start_time": "2023-04-05T00:32:50.432561Z"
    }
   },
   "outputs": [
    {
     "data": {
      "text/plain": [
       "Index(['Cname', 'GaiaEDR3', 'RA_ICRS', 'DE_ICRS', 'RV', 'e_RV', 'Teff',\n",
       "       'e_Teff', 'l_ALi', 'ALi', 'e_ALi', 'n_ALi', 'plx', 'e_plx', 'pmRA',\n",
       "       'e_pmRA', 'pmDE', 'e_pmDE', 'RUWE', 'astrflg', 'Gmag', 'BPmag', 'RPmag',\n",
       "       'photflg', 'Prob', '_RA.icrs', '_DE.icrs'],\n",
       "      dtype='object')"
      ]
     },
     "execution_count": 34,
     "metadata": {},
     "output_type": "execute_result"
    }
   ],
   "source": [
    "dfs['25Ori'].columns"
   ]
  },
  {
   "cell_type": "code",
   "execution_count": 33,
   "metadata": {
    "ExecuteTime": {
     "end_time": "2023-04-05T00:31:49.826592Z",
     "start_time": "2023-04-05T00:31:49.813680Z"
    }
   },
   "outputs": [
    {
     "data": {
      "text/plain": [
       "Index(['WOCS', 'PMga', 'PARga', 'Bin', 'Mem', 'S_N', 'Teff', '__Fe_H_',\n",
       "       'l_A_Li_', 'A_Li_', 'e_A_Li_', 'Simbad', '_RA', '_DE'],\n",
       "      dtype='object')"
      ]
     },
     "execution_count": 33,
     "metadata": {},
     "output_type": "execute_result"
    }
   ],
   "source": [
    "d.columns"
   ]
  },
  {
   "cell_type": "code",
   "execution_count": 40,
   "metadata": {
    "ExecuteTime": {
     "end_time": "2023-04-05T00:34:05.581021Z",
     "start_time": "2023-04-05T00:34:05.574205Z"
    }
   },
   "outputs": [],
   "source": [
    "d = d.rename({'l_A_Li_': 'l_ALi', \n",
    "          'A_Li_': 'ALi',\n",
    "          'e_A_Li_': 'e_ALi'\n",
    "         }, axis=1)"
   ]
  },
  {
   "cell_type": "code",
   "execution_count": 41,
   "metadata": {
    "ExecuteTime": {
     "end_time": "2023-04-05T00:34:06.058584Z",
     "start_time": "2023-04-05T00:34:06.053386Z"
    }
   },
   "outputs": [],
   "source": [
    "dfs['NGC6819'] = d"
   ]
  },
  {
   "cell_type": "code",
   "execution_count": 43,
   "metadata": {
    "ExecuteTime": {
     "end_time": "2023-04-05T00:34:09.679756Z",
     "start_time": "2023-04-05T00:34:09.627335Z"
    }
   },
   "outputs": [
    {
     "data": {
      "text/html": [
       "<div>\n",
       "<style scoped>\n",
       "    .dataframe tbody tr th:only-of-type {\n",
       "        vertical-align: middle;\n",
       "    }\n",
       "\n",
       "    .dataframe tbody tr th {\n",
       "        vertical-align: top;\n",
       "    }\n",
       "\n",
       "    .dataframe thead th {\n",
       "        text-align: right;\n",
       "    }\n",
       "</style>\n",
       "<table border=\"1\" class=\"dataframe\">\n",
       "  <thead>\n",
       "    <tr style=\"text-align: right;\">\n",
       "      <th></th>\n",
       "      <th></th>\n",
       "      <th>Cname</th>\n",
       "      <th>GaiaEDR3</th>\n",
       "      <th>RA_ICRS</th>\n",
       "      <th>DE_ICRS</th>\n",
       "      <th>RV</th>\n",
       "      <th>e_RV</th>\n",
       "      <th>Teff</th>\n",
       "      <th>e_Teff</th>\n",
       "      <th>l_ALi</th>\n",
       "      <th>ALi</th>\n",
       "      <th>...</th>\n",
       "      <th>WOCS</th>\n",
       "      <th>PMga</th>\n",
       "      <th>PARga</th>\n",
       "      <th>Bin</th>\n",
       "      <th>Mem</th>\n",
       "      <th>S_N</th>\n",
       "      <th>__Fe_H_</th>\n",
       "      <th>Simbad</th>\n",
       "      <th>_RA</th>\n",
       "      <th>_DE</th>\n",
       "    </tr>\n",
       "  </thead>\n",
       "  <tbody>\n",
       "    <tr>\n",
       "      <th rowspan=\"5\" valign=\"top\">25Ori</th>\n",
       "      <th>0</th>\n",
       "      <td>05225186+0145132</td>\n",
       "      <td>3.234193e+18</td>\n",
       "      <td>80.716105</td>\n",
       "      <td>1.753682</td>\n",
       "      <td>21.090000</td>\n",
       "      <td>0.56</td>\n",
       "      <td>3202.600098</td>\n",
       "      <td>50.500000</td>\n",
       "      <td></td>\n",
       "      <td>3.39</td>\n",
       "      <td>...</td>\n",
       "      <td>NaN</td>\n",
       "      <td>NaN</td>\n",
       "      <td>NaN</td>\n",
       "      <td>NaN</td>\n",
       "      <td>NaN</td>\n",
       "      <td>&lt;NA&gt;</td>\n",
       "      <td>NaN</td>\n",
       "      <td>NaN</td>\n",
       "      <td>NaN</td>\n",
       "      <td>NaN</td>\n",
       "    </tr>\n",
       "    <tr>\n",
       "      <th>1</th>\n",
       "      <td>05225609+0136252</td>\n",
       "      <td>3.222181e+18</td>\n",
       "      <td>80.733684</td>\n",
       "      <td>1.607000</td>\n",
       "      <td>19.940001</td>\n",
       "      <td>0.35</td>\n",
       "      <td>3333.399902</td>\n",
       "      <td>48.900002</td>\n",
       "      <td>&lt;</td>\n",
       "      <td>-1.00</td>\n",
       "      <td>...</td>\n",
       "      <td>NaN</td>\n",
       "      <td>NaN</td>\n",
       "      <td>NaN</td>\n",
       "      <td>NaN</td>\n",
       "      <td>NaN</td>\n",
       "      <td>&lt;NA&gt;</td>\n",
       "      <td>NaN</td>\n",
       "      <td>NaN</td>\n",
       "      <td>NaN</td>\n",
       "      <td>NaN</td>\n",
       "    </tr>\n",
       "    <tr>\n",
       "      <th>2</th>\n",
       "      <td>05225889+0145437</td>\n",
       "      <td>3.234194e+18</td>\n",
       "      <td>80.745381</td>\n",
       "      <td>1.762147</td>\n",
       "      <td>20.820000</td>\n",
       "      <td>0.27</td>\n",
       "      <td>3320.0</td>\n",
       "      <td>48.500000</td>\n",
       "      <td></td>\n",
       "      <td>2.73</td>\n",
       "      <td>...</td>\n",
       "      <td>NaN</td>\n",
       "      <td>NaN</td>\n",
       "      <td>NaN</td>\n",
       "      <td>NaN</td>\n",
       "      <td>NaN</td>\n",
       "      <td>&lt;NA&gt;</td>\n",
       "      <td>NaN</td>\n",
       "      <td>NaN</td>\n",
       "      <td>NaN</td>\n",
       "      <td>NaN</td>\n",
       "    </tr>\n",
       "    <tr>\n",
       "      <th>3</th>\n",
       "      <td>05230387+0134335</td>\n",
       "      <td>3.222180e+18</td>\n",
       "      <td>80.766089</td>\n",
       "      <td>1.576025</td>\n",
       "      <td>21.240000</td>\n",
       "      <td>0.24</td>\n",
       "      <td>4157.5</td>\n",
       "      <td>66.000000</td>\n",
       "      <td></td>\n",
       "      <td>3.04</td>\n",
       "      <td>...</td>\n",
       "      <td>NaN</td>\n",
       "      <td>NaN</td>\n",
       "      <td>NaN</td>\n",
       "      <td>NaN</td>\n",
       "      <td>NaN</td>\n",
       "      <td>&lt;NA&gt;</td>\n",
       "      <td>NaN</td>\n",
       "      <td>NaN</td>\n",
       "      <td>NaN</td>\n",
       "      <td>NaN</td>\n",
       "    </tr>\n",
       "    <tr>\n",
       "      <th>4</th>\n",
       "      <td>05230596+0138511</td>\n",
       "      <td>3.222182e+18</td>\n",
       "      <td>80.774851</td>\n",
       "      <td>1.647538</td>\n",
       "      <td>21.000000</td>\n",
       "      <td>0.37</td>\n",
       "      <td>3453.800049</td>\n",
       "      <td>49.799999</td>\n",
       "      <td></td>\n",
       "      <td>2.40</td>\n",
       "      <td>...</td>\n",
       "      <td>NaN</td>\n",
       "      <td>NaN</td>\n",
       "      <td>NaN</td>\n",
       "      <td>NaN</td>\n",
       "      <td>NaN</td>\n",
       "      <td>&lt;NA&gt;</td>\n",
       "      <td>NaN</td>\n",
       "      <td>NaN</td>\n",
       "      <td>NaN</td>\n",
       "      <td>NaN</td>\n",
       "    </tr>\n",
       "    <tr>\n",
       "      <th>...</th>\n",
       "      <th>...</th>\n",
       "      <td>...</td>\n",
       "      <td>...</td>\n",
       "      <td>...</td>\n",
       "      <td>...</td>\n",
       "      <td>...</td>\n",
       "      <td>...</td>\n",
       "      <td>...</td>\n",
       "      <td>...</td>\n",
       "      <td>...</td>\n",
       "      <td>...</td>\n",
       "      <td>...</td>\n",
       "      <td>...</td>\n",
       "      <td>...</td>\n",
       "      <td>...</td>\n",
       "      <td>...</td>\n",
       "      <td>...</td>\n",
       "      <td>...</td>\n",
       "      <td>...</td>\n",
       "      <td>...</td>\n",
       "      <td>...</td>\n",
       "      <td>...</td>\n",
       "    </tr>\n",
       "    <tr>\n",
       "      <th rowspan=\"5\" valign=\"top\">NGC6819</th>\n",
       "      <th>328</th>\n",
       "      <td>NaN</td>\n",
       "      <td>NaN</td>\n",
       "      <td>NaN</td>\n",
       "      <td>NaN</td>\n",
       "      <td>NaN</td>\n",
       "      <td>NaN</td>\n",
       "      <td>6364.0</td>\n",
       "      <td>NaN</td>\n",
       "      <td></td>\n",
       "      <td>2.55</td>\n",
       "      <td>...</td>\n",
       "      <td>72024.0</td>\n",
       "      <td>Y</td>\n",
       "      <td>Y</td>\n",
       "      <td>N</td>\n",
       "      <td>Y</td>\n",
       "      <td>106</td>\n",
       "      <td>-0.04</td>\n",
       "      <td>Simbad</td>\n",
       "      <td>295.53505</td>\n",
       "      <td>40.30124</td>\n",
       "    </tr>\n",
       "    <tr>\n",
       "      <th>329</th>\n",
       "      <td>NaN</td>\n",
       "      <td>NaN</td>\n",
       "      <td>NaN</td>\n",
       "      <td>NaN</td>\n",
       "      <td>NaN</td>\n",
       "      <td>NaN</td>\n",
       "      <td>&lt;NA&gt;</td>\n",
       "      <td>NaN</td>\n",
       "      <td></td>\n",
       "      <td>NaN</td>\n",
       "      <td>...</td>\n",
       "      <td>73017.0</td>\n",
       "      <td>N</td>\n",
       "      <td>Y</td>\n",
       "      <td>N</td>\n",
       "      <td>N</td>\n",
       "      <td>&lt;NA&gt;</td>\n",
       "      <td>NaN</td>\n",
       "      <td>Simbad</td>\n",
       "      <td>295.20397</td>\n",
       "      <td>40.09811</td>\n",
       "    </tr>\n",
       "    <tr>\n",
       "      <th>330</th>\n",
       "      <td>NaN</td>\n",
       "      <td>NaN</td>\n",
       "      <td>NaN</td>\n",
       "      <td>NaN</td>\n",
       "      <td>NaN</td>\n",
       "      <td>NaN</td>\n",
       "      <td>6326.0</td>\n",
       "      <td>NaN</td>\n",
       "      <td></td>\n",
       "      <td>2.59</td>\n",
       "      <td>...</td>\n",
       "      <td>75017.0</td>\n",
       "      <td>Y</td>\n",
       "      <td>Y</td>\n",
       "      <td>N</td>\n",
       "      <td>Y</td>\n",
       "      <td>87</td>\n",
       "      <td>0.07</td>\n",
       "      <td>Simbad</td>\n",
       "      <td>295.29178</td>\n",
       "      <td>40.33404</td>\n",
       "    </tr>\n",
       "    <tr>\n",
       "      <th>331</th>\n",
       "      <td>NaN</td>\n",
       "      <td>NaN</td>\n",
       "      <td>NaN</td>\n",
       "      <td>NaN</td>\n",
       "      <td>NaN</td>\n",
       "      <td>NaN</td>\n",
       "      <td>6225.0</td>\n",
       "      <td>NaN</td>\n",
       "      <td></td>\n",
       "      <td>2.88</td>\n",
       "      <td>...</td>\n",
       "      <td>80024.0</td>\n",
       "      <td>Y</td>\n",
       "      <td>Y</td>\n",
       "      <td>N</td>\n",
       "      <td>Y</td>\n",
       "      <td>124</td>\n",
       "      <td>-0.03</td>\n",
       "      <td>Simbad</td>\n",
       "      <td>295.52003</td>\n",
       "      <td>40.32079</td>\n",
       "    </tr>\n",
       "    <tr>\n",
       "      <th>332</th>\n",
       "      <td>NaN</td>\n",
       "      <td>NaN</td>\n",
       "      <td>NaN</td>\n",
       "      <td>NaN</td>\n",
       "      <td>NaN</td>\n",
       "      <td>NaN</td>\n",
       "      <td>5879.0</td>\n",
       "      <td>NaN</td>\n",
       "      <td></td>\n",
       "      <td>2.96</td>\n",
       "      <td>...</td>\n",
       "      <td>80025.0</td>\n",
       "      <td>Y</td>\n",
       "      <td>Y</td>\n",
       "      <td>N</td>\n",
       "      <td>Y</td>\n",
       "      <td>91</td>\n",
       "      <td>-0.25</td>\n",
       "      <td>Simbad</td>\n",
       "      <td>295.44547</td>\n",
       "      <td>40.37393</td>\n",
       "    </tr>\n",
       "  </tbody>\n",
       "</table>\n",
       "<p>2144 rows × 37 columns</p>\n",
       "</div>"
      ],
      "text/plain": [
       "                        Cname      GaiaEDR3    RA_ICRS   DE_ICRS         RV  \\\n",
       "25Ori   0    05225186+0145132  3.234193e+18  80.716105  1.753682  21.090000   \n",
       "        1    05225609+0136252  3.222181e+18  80.733684  1.607000  19.940001   \n",
       "        2    05225889+0145437  3.234194e+18  80.745381  1.762147  20.820000   \n",
       "        3    05230387+0134335  3.222180e+18  80.766089  1.576025  21.240000   \n",
       "        4    05230596+0138511  3.222182e+18  80.774851  1.647538  21.000000   \n",
       "...                       ...           ...        ...       ...        ...   \n",
       "NGC6819 328               NaN           NaN        NaN       NaN        NaN   \n",
       "        329               NaN           NaN        NaN       NaN        NaN   \n",
       "        330               NaN           NaN        NaN       NaN        NaN   \n",
       "        331               NaN           NaN        NaN       NaN        NaN   \n",
       "        332               NaN           NaN        NaN       NaN        NaN   \n",
       "\n",
       "             e_RV         Teff     e_Teff l_ALi   ALi  ...     WOCS PMga  \\\n",
       "25Ori   0    0.56  3202.600098  50.500000        3.39  ...      NaN  NaN   \n",
       "        1    0.35  3333.399902  48.900002     < -1.00  ...      NaN  NaN   \n",
       "        2    0.27       3320.0  48.500000        2.73  ...      NaN  NaN   \n",
       "        3    0.24       4157.5  66.000000        3.04  ...      NaN  NaN   \n",
       "        4    0.37  3453.800049  49.799999        2.40  ...      NaN  NaN   \n",
       "...           ...          ...        ...   ...   ...  ...      ...  ...   \n",
       "NGC6819 328   NaN       6364.0        NaN        2.55  ...  72024.0    Y   \n",
       "        329   NaN         <NA>        NaN         NaN  ...  73017.0    N   \n",
       "        330   NaN       6326.0        NaN        2.59  ...  75017.0    Y   \n",
       "        331   NaN       6225.0        NaN        2.88  ...  80024.0    Y   \n",
       "        332   NaN       5879.0        NaN        2.96  ...  80025.0    Y   \n",
       "\n",
       "             PARga  Bin  Mem   S_N  __Fe_H_  Simbad        _RA       _DE  \n",
       "25Ori   0      NaN  NaN  NaN  <NA>      NaN     NaN        NaN       NaN  \n",
       "        1      NaN  NaN  NaN  <NA>      NaN     NaN        NaN       NaN  \n",
       "        2      NaN  NaN  NaN  <NA>      NaN     NaN        NaN       NaN  \n",
       "        3      NaN  NaN  NaN  <NA>      NaN     NaN        NaN       NaN  \n",
       "        4      NaN  NaN  NaN  <NA>      NaN     NaN        NaN       NaN  \n",
       "...            ...  ...  ...   ...      ...     ...        ...       ...  \n",
       "NGC6819 328      Y    N    Y   106    -0.04  Simbad  295.53505  40.30124  \n",
       "        329      Y    N    N  <NA>      NaN  Simbad  295.20397  40.09811  \n",
       "        330      Y    N    Y    87     0.07  Simbad  295.29178  40.33404  \n",
       "        331      Y    N    Y   124    -0.03  Simbad  295.52003  40.32079  \n",
       "        332      Y    N    Y    91    -0.25  Simbad  295.44547  40.37393  \n",
       "\n",
       "[2144 rows x 37 columns]"
      ]
     },
     "execution_count": 43,
     "metadata": {},
     "output_type": "execute_result"
    }
   ],
   "source": [
    "pd.concat(dfs)"
   ]
  },
  {
   "cell_type": "markdown",
   "metadata": {},
   "source": [
    "## Magrini+2021"
   ]
  },
  {
   "cell_type": "code",
   "execution_count": 4,
   "metadata": {
    "ExecuteTime": {
     "end_time": "2023-03-06T07:46:24.953695Z",
     "start_time": "2023-03-06T07:46:21.977554Z"
    }
   },
   "outputs": [
    {
     "name": "stdout",
     "output_type": "stream",
     "text": [
      "Downloading all tables in J/A%2bA/651/A84 from vizier.\n"
     ]
    },
    {
     "name": "stderr",
     "output_type": "stream",
     "text": [
      "WARNING: UnitsWarning: Unit 'Sun' not supported by the VOUnit standard. Did you mean uN? [astropy.units.format.vounit]\n"
     ]
    },
    {
     "name": "stdout",
     "output_type": "stream",
     "text": [
      "{'J/A+A/651/A84/table2': 'Parameters of the Li-rich giant stars in the field',\n",
      " 'J/A+A/651/A84/tablea1': 'Parameters of our open clusters from Gaia-ESO IDR6',\n",
      " 'J/A+A/651/A84/tablea2': 'Cluster member stars',\n",
      " 'J/A+A/651/A84/tablea3': 'Field stars'}\n"
     ]
    }
   ],
   "source": [
    "from catalog import CatalogDownloader\n",
    "import numpy as np\n",
    "\n",
    "cd = CatalogDownloader(catalog_name=\"Magrini2021\", catalog_type=\"LiEW\")\n",
    "tabs = cd.get_tables_from_vizier(row_limit=-1)"
   ]
  },
  {
   "cell_type": "code",
   "execution_count": 7,
   "metadata": {
    "ExecuteTime": {
     "end_time": "2023-03-06T07:46:54.437706Z",
     "start_time": "2023-03-06T07:46:54.408738Z"
    }
   },
   "outputs": [
    {
     "data": {
      "text/html": [
       "<div>\n",
       "<style scoped>\n",
       "    .dataframe tbody tr th:only-of-type {\n",
       "        vertical-align: middle;\n",
       "    }\n",
       "\n",
       "    .dataframe tbody tr th {\n",
       "        vertical-align: top;\n",
       "    }\n",
       "\n",
       "    .dataframe thead th {\n",
       "        text-align: right;\n",
       "    }\n",
       "</style>\n",
       "<table border=\"1\" class=\"dataframe\">\n",
       "  <thead>\n",
       "    <tr style=\"text-align: right;\">\n",
       "      <th></th>\n",
       "      <th>GESField</th>\n",
       "      <th>CName</th>\n",
       "      <th>Setup</th>\n",
       "      <th>Teff</th>\n",
       "      <th>e_Teff</th>\n",
       "      <th>logg</th>\n",
       "      <th>e_logg</th>\n",
       "      <th>__Fe_H_</th>\n",
       "      <th>e__Fe_H_</th>\n",
       "      <th>vsini</th>\n",
       "      <th>e_vsini</th>\n",
       "      <th>Li1</th>\n",
       "      <th>e_Li1</th>\n",
       "      <th>Other</th>\n",
       "      <th>Simbad</th>\n",
       "      <th>_RA</th>\n",
       "      <th>_DE</th>\n",
       "    </tr>\n",
       "  </thead>\n",
       "  <tbody>\n",
       "    <tr>\n",
       "      <th>0</th>\n",
       "      <td>NGC2232</td>\n",
       "      <td>06273069-0440141</td>\n",
       "      <td>HR15N</td>\n",
       "      <td>4473</td>\n",
       "      <td>93</td>\n",
       "      <td>NaN</td>\n",
       "      <td>NaN</td>\n",
       "      <td>-0.47</td>\n",
       "      <td>0.10</td>\n",
       "      <td>7.0</td>\n",
       "      <td>0.0</td>\n",
       "      <td>2.92</td>\n",
       "      <td>0.16</td>\n",
       "      <td></td>\n",
       "      <td>Simbad</td>\n",
       "      <td>96.87787</td>\n",
       "      <td>-4.67058</td>\n",
       "    </tr>\n",
       "    <tr>\n",
       "      <th>1</th>\n",
       "      <td>NGC2232</td>\n",
       "      <td>06300202-0435151</td>\n",
       "      <td>HR15N</td>\n",
       "      <td>4642</td>\n",
       "      <td>84</td>\n",
       "      <td>2.61</td>\n",
       "      <td>0.11</td>\n",
       "      <td>-0.01</td>\n",
       "      <td>0.06</td>\n",
       "      <td>7.0</td>\n",
       "      <td>0.0</td>\n",
       "      <td>2.53</td>\n",
       "      <td>0.14</td>\n",
       "      <td></td>\n",
       "      <td>Simbad</td>\n",
       "      <td>97.50842</td>\n",
       "      <td>-4.58753</td>\n",
       "    </tr>\n",
       "    <tr>\n",
       "      <th>2</th>\n",
       "      <td>NGC2264</td>\n",
       "      <td>06410098+0932444</td>\n",
       "      <td>HR15N</td>\n",
       "      <td>4993</td>\n",
       "      <td>94</td>\n",
       "      <td>NaN</td>\n",
       "      <td>NaN</td>\n",
       "      <td>-0.06</td>\n",
       "      <td>0.08</td>\n",
       "      <td>12.0</td>\n",
       "      <td>0.9</td>\n",
       "      <td>3.86</td>\n",
       "      <td>0.15</td>\n",
       "      <td></td>\n",
       "      <td>Simbad</td>\n",
       "      <td>100.25408</td>\n",
       "      <td>9.54567</td>\n",
       "    </tr>\n",
       "    <tr>\n",
       "      <th>3</th>\n",
       "      <td>Br75</td>\n",
       "      <td>06490710-2359450</td>\n",
       "      <td>HR15N</td>\n",
       "      <td>4993</td>\n",
       "      <td>64</td>\n",
       "      <td>2.87</td>\n",
       "      <td>0.17</td>\n",
       "      <td>-0.29</td>\n",
       "      <td>0.05</td>\n",
       "      <td>7.0</td>\n",
       "      <td>0.0</td>\n",
       "      <td>2.19</td>\n",
       "      <td>0.08</td>\n",
       "      <td></td>\n",
       "      <td>Simbad</td>\n",
       "      <td>102.27958</td>\n",
       "      <td>-23.99583</td>\n",
       "    </tr>\n",
       "    <tr>\n",
       "      <th>4</th>\n",
       "      <td>NGC2425</td>\n",
       "      <td>07383630-1458067</td>\n",
       "      <td>HR15N</td>\n",
       "      <td>4844</td>\n",
       "      <td>64</td>\n",
       "      <td>2.55</td>\n",
       "      <td>0.17</td>\n",
       "      <td>-0.14</td>\n",
       "      <td>0.05</td>\n",
       "      <td>7.0</td>\n",
       "      <td>0.0</td>\n",
       "      <td>2.00</td>\n",
       "      <td>0.09</td>\n",
       "      <td></td>\n",
       "      <td>Simbad</td>\n",
       "      <td>114.65125</td>\n",
       "      <td>-14.96853</td>\n",
       "    </tr>\n",
       "  </tbody>\n",
       "</table>\n",
       "</div>"
      ],
      "text/plain": [
       "  GESField             CName  Setup  Teff  e_Teff  logg  e_logg  __Fe_H_  \\\n",
       "0  NGC2232  06273069-0440141  HR15N  4473      93   NaN     NaN    -0.47   \n",
       "1  NGC2232  06300202-0435151  HR15N  4642      84  2.61    0.11    -0.01   \n",
       "2  NGC2264  06410098+0932444  HR15N  4993      94   NaN     NaN    -0.06   \n",
       "3     Br75  06490710-2359450  HR15N  4993      64  2.87    0.17    -0.29   \n",
       "4  NGC2425  07383630-1458067  HR15N  4844      64  2.55    0.17    -0.14   \n",
       "\n",
       "   e__Fe_H_  vsini  e_vsini   Li1  e_Li1 Other  Simbad        _RA       _DE  \n",
       "0      0.10    7.0      0.0  2.92   0.16        Simbad   96.87787  -4.67058  \n",
       "1      0.06    7.0      0.0  2.53   0.14        Simbad   97.50842  -4.58753  \n",
       "2      0.08   12.0      0.9  3.86   0.15        Simbad  100.25408   9.54567  \n",
       "3      0.05    7.0      0.0  2.19   0.08        Simbad  102.27958 -23.99583  \n",
       "4      0.05    7.0      0.0  2.00   0.09        Simbad  114.65125 -14.96853  "
      ]
     },
     "execution_count": 7,
     "metadata": {},
     "output_type": "execute_result"
    }
   ],
   "source": [
    "df = tabs[0].to_pandas()\n",
    "df.head()"
   ]
  },
  {
   "cell_type": "code",
   "execution_count": 11,
   "metadata": {
    "ExecuteTime": {
     "end_time": "2023-03-06T07:47:23.616167Z",
     "start_time": "2023-03-06T07:47:23.456902Z"
    }
   },
   "outputs": [
    {
     "data": {
      "text/plain": [
       "<AxesSubplot:xlabel='Teff', ylabel='Li1'>"
      ]
     },
     "execution_count": 11,
     "metadata": {},
     "output_type": "execute_result"
    },
    {
     "data": {
      "image/png": "[encoded data removed]",
      "text/plain": [
       "<Figure size 640x480 with 1 Axes>"
      ]
     },
     "metadata": {},
     "output_type": "display_data"
    }
   ],
   "source": [
    "df.plot(x='Teff', y='Li1', kind='scatter')"
   ]
  },
  {
   "cell_type": "code",
   "execution_count": null,
   "metadata": {},
   "outputs": [],
   "source": []
  },
  {
   "cell_type": "code",
   "execution_count": null,
   "metadata": {},
   "outputs": [],
   "source": []
  },
  {
   "cell_type": "code",
   "execution_count": null,
   "metadata": {},
   "outputs": [],
   "source": []
  },
  {
   "cell_type": "code",
   "execution_count": 4,
   "metadata": {
    "ExecuteTime": {
     "end_time": "2022-11-01T05:23:13.601888Z",
     "start_time": "2022-11-01T05:23:11.549518Z"
    }
   },
   "outputs": [
    {
     "name": "stdout",
     "output_type": "stream",
     "text": [
      "Column definitions:  https://exoplanetarchive.ipac.caltech.edu/docs/API_PS_columns.html\n",
      "Loaded:  ../data/nexsci_ps.csv\n"
     ]
    },
    {
     "name": "stderr",
     "output_type": "stream",
     "text": [
      "/home/jp/github/research/project/wakai/notebooks/../code/utils.py:39: DtypeWarning: Columns (3,4,50,65,148,153,183,206,211,237,242) have mixed types. Specify dtype option on import or set low_memory=False.\n",
      "  df_nexsci = pd.read_csv(fp)\n"
     ]
    }
   ],
   "source": [
    "from utils import get_nexsci_data\n",
    "\n",
    "df_nexsci = get_nexsci_data(table_name=\"ps\", clobber=False)\n",
    "# df_nexsci.columns.tolist()"
   ]
  },
  {
   "cell_type": "code",
   "execution_count": 5,
   "metadata": {
    "ExecuteTime": {
     "end_time": "2022-11-01T05:23:15.419501Z",
     "start_time": "2022-11-01T05:23:13.605293Z"
    }
   },
   "outputs": [
    {
     "name": "stdout",
     "output_type": "stream",
     "text": [
      "Downloading all tables in J/A+A/613/A63 from vizier.\n",
      "{'J/A+A/613/A63/tableb1': 'Stellar parameters and lithium content for our 148 '\n",
      "                          'stars'}\n"
     ]
    },
    {
     "data": {
      "text/html": [
       "<div>\n",
       "<style scoped>\n",
       "    .dataframe tbody tr th:only-of-type {\n",
       "        vertical-align: middle;\n",
       "    }\n",
       "\n",
       "    .dataframe tbody tr th {\n",
       "        vertical-align: top;\n",
       "    }\n",
       "\n",
       "    .dataframe thead th {\n",
       "        text-align: right;\n",
       "    }\n",
       "</style>\n",
       "<table border=\"1\" class=\"dataframe\">\n",
       "  <thead>\n",
       "    <tr style=\"text-align: right;\">\n",
       "      <th></th>\n",
       "      <th>Name</th>\n",
       "      <th>EPIC</th>\n",
       "      <th>RAJ2000</th>\n",
       "      <th>DEJ2000</th>\n",
       "      <th>Vmag</th>\n",
       "      <th>J-K</th>\n",
       "      <th>Per</th>\n",
       "      <th>Amp</th>\n",
       "      <th>l_WLi</th>\n",
       "      <th>WLi</th>\n",
       "      <th>e_WLi</th>\n",
       "      <th>Teff</th>\n",
       "      <th>ALi</th>\n",
       "      <th>e_ALi</th>\n",
       "      <th>Bin</th>\n",
       "      <th>SimbadName</th>\n",
       "      <th>logTeff</th>\n",
       "      <th>EW_Li_</th>\n",
       "    </tr>\n",
       "  </thead>\n",
       "  <tbody>\n",
       "    <tr>\n",
       "      <th>0</th>\n",
       "      <td>PELS123</td>\n",
       "      <td>211002011</td>\n",
       "      <td>53.30793</td>\n",
       "      <td>23.00647</td>\n",
       "      <td>11.98</td>\n",
       "      <td>0.591</td>\n",
       "      <td>7.575758</td>\n",
       "      <td>0.028</td>\n",
       "      <td></td>\n",
       "      <td>132.0</td>\n",
       "      <td>4.0</td>\n",
       "      <td>4945.0</td>\n",
       "      <td>1.946</td>\n",
       "      <td>0.085</td>\n",
       "      <td></td>\n",
       "      <td>Cl* Melotte 22 PELS 123</td>\n",
       "      <td>3.694166</td>\n",
       "      <td>132.0</td>\n",
       "    </tr>\n",
       "    <tr>\n",
       "      <th>1</th>\n",
       "      <td>PELS124</td>\n",
       "      <td>210990525</td>\n",
       "      <td>53.88203</td>\n",
       "      <td>22.82362</td>\n",
       "      <td>9.86</td>\n",
       "      <td>0.289</td>\n",
       "      <td>2.795300</td>\n",
       "      <td>0.005</td>\n",
       "      <td></td>\n",
       "      <td>98.0</td>\n",
       "      <td>10.0</td>\n",
       "      <td>6307.0</td>\n",
       "      <td>3.120</td>\n",
       "      <td>0.059</td>\n",
       "      <td></td>\n",
       "      <td>Cl* Melotte 22 PELS 124</td>\n",
       "      <td>3.799823</td>\n",
       "      <td>98.0</td>\n",
       "    </tr>\n",
       "    <tr>\n",
       "      <th>2</th>\n",
       "      <td>PELS189</td>\n",
       "      <td>211065162</td>\n",
       "      <td>54.12626</td>\n",
       "      <td>24.01222</td>\n",
       "      <td>12.26</td>\n",
       "      <td>0.567</td>\n",
       "      <td>7.575758</td>\n",
       "      <td>0.035</td>\n",
       "      <td></td>\n",
       "      <td>118.0</td>\n",
       "      <td>6.0</td>\n",
       "      <td>5011.0</td>\n",
       "      <td>1.948</td>\n",
       "      <td>0.083</td>\n",
       "      <td></td>\n",
       "      <td>Cl* Melotte 22 PELS 189</td>\n",
       "      <td>3.699924</td>\n",
       "      <td>118.0</td>\n",
       "    </tr>\n",
       "    <tr>\n",
       "      <th>3</th>\n",
       "      <td>PELS019</td>\n",
       "      <td>211095259</td>\n",
       "      <td>55.12802</td>\n",
       "      <td>24.48730</td>\n",
       "      <td>11.72</td>\n",
       "      <td>0.524</td>\n",
       "      <td>6.849315</td>\n",
       "      <td>0.022</td>\n",
       "      <td></td>\n",
       "      <td>49.0</td>\n",
       "      <td>5.0</td>\n",
       "      <td>5168.0</td>\n",
       "      <td>1.622</td>\n",
       "      <td>0.079</td>\n",
       "      <td></td>\n",
       "      <td>Cl* Melotte 22 PELS 019</td>\n",
       "      <td>3.713323</td>\n",
       "      <td>49.0</td>\n",
       "    </tr>\n",
       "    <tr>\n",
       "      <th>4</th>\n",
       "      <td>DH156</td>\n",
       "      <td>211039307</td>\n",
       "      <td>55.21359</td>\n",
       "      <td>23.59843</td>\n",
       "      <td>12.79</td>\n",
       "      <td>0.650</td>\n",
       "      <td>8.333334</td>\n",
       "      <td>0.085</td>\n",
       "      <td>&lt;</td>\n",
       "      <td>15.0</td>\n",
       "      <td>NaN</td>\n",
       "      <td>4708.0</td>\n",
       "      <td>0.498</td>\n",
       "      <td>0.092</td>\n",
       "      <td></td>\n",
       "      <td>Cl* Melotte 22 DH 156</td>\n",
       "      <td>3.672836</td>\n",
       "      <td>15.0</td>\n",
       "    </tr>\n",
       "    <tr>\n",
       "      <th>...</th>\n",
       "      <td>...</td>\n",
       "      <td>...</td>\n",
       "      <td>...</td>\n",
       "      <td>...</td>\n",
       "      <td>...</td>\n",
       "      <td>...</td>\n",
       "      <td>...</td>\n",
       "      <td>...</td>\n",
       "      <td>...</td>\n",
       "      <td>...</td>\n",
       "      <td>...</td>\n",
       "      <td>...</td>\n",
       "      <td>...</td>\n",
       "      <td>...</td>\n",
       "      <td>...</td>\n",
       "      <td>...</td>\n",
       "      <td>...</td>\n",
       "      <td>...</td>\n",
       "    </tr>\n",
       "    <tr>\n",
       "      <th>143</th>\n",
       "      <td>V1289Tau</td>\n",
       "      <td>211087059</td>\n",
       "      <td>58.60518</td>\n",
       "      <td>24.36008</td>\n",
       "      <td>11.05</td>\n",
       "      <td>0.509</td>\n",
       "      <td>0.689700</td>\n",
       "      <td>0.110</td>\n",
       "      <td></td>\n",
       "      <td>227.0</td>\n",
       "      <td>20.0</td>\n",
       "      <td>5215.0</td>\n",
       "      <td>2.850</td>\n",
       "      <td>0.095</td>\n",
       "      <td></td>\n",
       "      <td>V1289Tau</td>\n",
       "      <td>3.717254</td>\n",
       "      <td>227.0</td>\n",
       "    </tr>\n",
       "    <tr>\n",
       "      <th>144</th>\n",
       "      <td>DH803</td>\n",
       "      <td>211084620</td>\n",
       "      <td>58.61852</td>\n",
       "      <td>24.32115</td>\n",
       "      <td>14.20</td>\n",
       "      <td>0.829</td>\n",
       "      <td>4.620300</td>\n",
       "      <td>0.035</td>\n",
       "      <td></td>\n",
       "      <td>70.0</td>\n",
       "      <td>10.0</td>\n",
       "      <td>4100.0</td>\n",
       "      <td>0.455</td>\n",
       "      <td>0.072</td>\n",
       "      <td></td>\n",
       "      <td>Cl* Melotte 22 DH 803</td>\n",
       "      <td>3.612784</td>\n",
       "      <td>70.0</td>\n",
       "    </tr>\n",
       "    <tr>\n",
       "      <th>145</th>\n",
       "      <td>PELS192</td>\n",
       "      <td>211049922</td>\n",
       "      <td>58.87085</td>\n",
       "      <td>23.77245</td>\n",
       "      <td>14.12</td>\n",
       "      <td>0.829</td>\n",
       "      <td>3.018400</td>\n",
       "      <td>0.075</td>\n",
       "      <td></td>\n",
       "      <td>80.0</td>\n",
       "      <td>10.0</td>\n",
       "      <td>4100.0</td>\n",
       "      <td>0.532</td>\n",
       "      <td>0.071</td>\n",
       "      <td></td>\n",
       "      <td>Cl* Melotte 22 PELS 192</td>\n",
       "      <td>3.612784</td>\n",
       "      <td>80.0</td>\n",
       "    </tr>\n",
       "    <tr>\n",
       "      <th>146</th>\n",
       "      <td>PELS162</td>\n",
       "      <td>211067702</td>\n",
       "      <td>59.38879</td>\n",
       "      <td>24.05319</td>\n",
       "      <td>12.11</td>\n",
       "      <td>0.589</td>\n",
       "      <td>7.692308</td>\n",
       "      <td>0.021</td>\n",
       "      <td></td>\n",
       "      <td>44.0</td>\n",
       "      <td>4.0</td>\n",
       "      <td>4950.0</td>\n",
       "      <td>1.309</td>\n",
       "      <td>0.085</td>\n",
       "      <td></td>\n",
       "      <td>Cl* Melotte 22 PELS 162</td>\n",
       "      <td>3.694605</td>\n",
       "      <td>44.0</td>\n",
       "    </tr>\n",
       "    <tr>\n",
       "      <th>147</th>\n",
       "      <td>PELS173</td>\n",
       "      <td>211013743</td>\n",
       "      <td>60.22132</td>\n",
       "      <td>23.19391</td>\n",
       "      <td>9.60</td>\n",
       "      <td>0.187</td>\n",
       "      <td>1.394400</td>\n",
       "      <td>0.001</td>\n",
       "      <td></td>\n",
       "      <td>57.0</td>\n",
       "      <td>10.0</td>\n",
       "      <td>7150.0</td>\n",
       "      <td>2.946</td>\n",
       "      <td>0.031</td>\n",
       "      <td></td>\n",
       "      <td>Cl* Melotte 22 PELS 173</td>\n",
       "      <td>3.854306</td>\n",
       "      <td>57.0</td>\n",
       "    </tr>\n",
       "  </tbody>\n",
       "</table>\n",
       "<p>148 rows × 18 columns</p>\n",
       "</div>"
      ],
      "text/plain": [
       "         Name       EPIC   RAJ2000   DEJ2000   Vmag    J-K       Per    Amp  \\\n",
       "0     PELS123  211002011  53.30793  23.00647  11.98  0.591  7.575758  0.028   \n",
       "1     PELS124  210990525  53.88203  22.82362   9.86  0.289  2.795300  0.005   \n",
       "2     PELS189  211065162  54.12626  24.01222  12.26  0.567  7.575758  0.035   \n",
       "3     PELS019  211095259  55.12802  24.48730  11.72  0.524  6.849315  0.022   \n",
       "4       DH156  211039307  55.21359  23.59843  12.79  0.650  8.333334  0.085   \n",
       "..        ...        ...       ...       ...    ...    ...       ...    ...   \n",
       "143  V1289Tau  211087059  58.60518  24.36008  11.05  0.509  0.689700  0.110   \n",
       "144     DH803  211084620  58.61852  24.32115  14.20  0.829  4.620300  0.035   \n",
       "145   PELS192  211049922  58.87085  23.77245  14.12  0.829  3.018400  0.075   \n",
       "146   PELS162  211067702  59.38879  24.05319  12.11  0.589  7.692308  0.021   \n",
       "147   PELS173  211013743  60.22132  23.19391   9.60  0.187  1.394400  0.001   \n",
       "\n",
       "    l_WLi    WLi  e_WLi    Teff    ALi  e_ALi Bin               SimbadName  \\\n",
       "0          132.0    4.0  4945.0  1.946  0.085      Cl* Melotte 22 PELS 123   \n",
       "1           98.0   10.0  6307.0  3.120  0.059      Cl* Melotte 22 PELS 124   \n",
       "2          118.0    6.0  5011.0  1.948  0.083      Cl* Melotte 22 PELS 189   \n",
       "3           49.0    5.0  5168.0  1.622  0.079      Cl* Melotte 22 PELS 019   \n",
       "4       <   15.0    NaN  4708.0  0.498  0.092        Cl* Melotte 22 DH 156   \n",
       "..    ...    ...    ...     ...    ...    ...  ..                      ...   \n",
       "143        227.0   20.0  5215.0  2.850  0.095                     V1289Tau   \n",
       "144         70.0   10.0  4100.0  0.455  0.072        Cl* Melotte 22 DH 803   \n",
       "145         80.0   10.0  4100.0  0.532  0.071      Cl* Melotte 22 PELS 192   \n",
       "146         44.0    4.0  4950.0  1.309  0.085      Cl* Melotte 22 PELS 162   \n",
       "147         57.0   10.0  7150.0  2.946  0.031      Cl* Melotte 22 PELS 173   \n",
       "\n",
       "      logTeff  EW_Li_  \n",
       "0    3.694166   132.0  \n",
       "1    3.799823    98.0  \n",
       "2    3.699924   118.0  \n",
       "3    3.713323    49.0  \n",
       "4    3.672836    15.0  \n",
       "..        ...     ...  \n",
       "143  3.717254   227.0  \n",
       "144  3.612784    70.0  \n",
       "145  3.612784    80.0  \n",
       "146  3.694605    44.0  \n",
       "147  3.854306    57.0  \n",
       "\n",
       "[148 rows x 18 columns]"
      ]
     },
     "execution_count": 5,
     "metadata": {},
     "output_type": "execute_result"
    }
   ],
   "source": [
    "from catalog import CatalogDownloader\n",
    "import numpy as np\n",
    "\n",
    "cd = CatalogDownloader(catalog_name=\"Bouvier2018_Pleiades\", catalog_type=\"LiEW\")\n",
    "tabs = cd.get_tables_from_vizier(row_limit=-1)\n",
    "df_Pleiades = tabs[0].to_pandas()\n",
    "df_Pleiades['logTeff'] = df_Pleiades.Teff.apply(lambda x: np.log10(x))\n",
    "df_Pleiades['EW_Li_'] = df_Pleiades['WLi'].copy()\n",
    "# df_PisEri.head()\n",
    "df_Pleiades"
   ]
  },
  {
   "cell_type": "code",
   "execution_count": 6,
   "metadata": {
    "ExecuteTime": {
     "end_time": "2022-11-01T05:23:16.042582Z",
     "start_time": "2022-11-01T05:23:15.421989Z"
    }
   },
   "outputs": [
    {
     "name": "stdout",
     "output_type": "stream",
     "text": [
      "Downloading all tables in J/AJ/153/128 from vizier.\n",
      "{'J/AJ/153/128/table6': 'Stellar Lithium Data for The Hyades',\n",
      " 'J/AJ/153/128/table7': 'Stellar Lithium Data for Praesepe'}\n"
     ]
    },
    {
     "data": {
      "text/html": [
       "<div>\n",
       "<style scoped>\n",
       "    .dataframe tbody tr th:only-of-type {\n",
       "        vertical-align: middle;\n",
       "    }\n",
       "\n",
       "    .dataframe tbody tr th {\n",
       "        vertical-align: top;\n",
       "    }\n",
       "\n",
       "    .dataframe thead th {\n",
       "        text-align: right;\n",
       "    }\n",
       "</style>\n",
       "<table border=\"1\" class=\"dataframe\">\n",
       "  <thead>\n",
       "    <tr style=\"text-align: right;\">\n",
       "      <th></th>\n",
       "      <th>Group</th>\n",
       "      <th>ID</th>\n",
       "      <th>n_ID</th>\n",
       "      <th>__B-V_mean</th>\n",
       "      <th>Teff</th>\n",
       "      <th>e_Teff</th>\n",
       "      <th>n_Teff</th>\n",
       "      <th>EW_Li_</th>\n",
       "      <th>e_EW_Li_</th>\n",
       "      <th>A_Li_</th>\n",
       "      <th>...</th>\n",
       "      <th>l_vsini</th>\n",
       "      <th>vsini</th>\n",
       "      <th>RV</th>\n",
       "      <th>e_RV</th>\n",
       "      <th>Ref</th>\n",
       "      <th>Prime</th>\n",
       "      <th>SimbadName</th>\n",
       "      <th>_RA</th>\n",
       "      <th>_DE</th>\n",
       "      <th>logTeff</th>\n",
       "    </tr>\n",
       "  </thead>\n",
       "  <tbody>\n",
       "    <tr>\n",
       "      <th>0</th>\n",
       "      <td>A</td>\n",
       "      <td>1</td>\n",
       "      <td></td>\n",
       "      <td>0.567</td>\n",
       "      <td>6048.100098</td>\n",
       "      <td>55.900002</td>\n",
       "      <td></td>\n",
       "      <td>102.230003</td>\n",
       "      <td>1.16</td>\n",
       "      <td>2.945</td>\n",
       "      <td>...</td>\n",
       "      <td></td>\n",
       "      <td>7.0</td>\n",
       "      <td>32.439999</td>\n",
       "      <td>0.21</td>\n",
       "      <td>2</td>\n",
       "      <td>yes</td>\n",
       "      <td>Cl Melotte 25  1</td>\n",
       "      <td>49.35994</td>\n",
       "      <td>7.65581</td>\n",
       "      <td>3.781619</td>\n",
       "    </tr>\n",
       "    <tr>\n",
       "      <th>1</th>\n",
       "      <td>A</td>\n",
       "      <td>2</td>\n",
       "      <td></td>\n",
       "      <td>0.619</td>\n",
       "      <td>5872.600098</td>\n",
       "      <td>20.299999</td>\n",
       "      <td></td>\n",
       "      <td>93.709999</td>\n",
       "      <td>1.35</td>\n",
       "      <td>2.720</td>\n",
       "      <td>...</td>\n",
       "      <td></td>\n",
       "      <td>11.0</td>\n",
       "      <td>32.779999</td>\n",
       "      <td>0.42</td>\n",
       "      <td>1</td>\n",
       "      <td>yes</td>\n",
       "      <td>Cl Melotte 25  2</td>\n",
       "      <td>49.38658</td>\n",
       "      <td>7.69015</td>\n",
       "      <td>3.768830</td>\n",
       "    </tr>\n",
       "    <tr>\n",
       "      <th>2</th>\n",
       "      <td>A</td>\n",
       "      <td>6</td>\n",
       "      <td></td>\n",
       "      <td>0.327</td>\n",
       "      <td>7013.700195</td>\n",
       "      <td>65.599998</td>\n",
       "      <td></td>\n",
       "      <td>52.299999</td>\n",
       "      <td>1.85</td>\n",
       "      <td>3.280</td>\n",
       "      <td>...</td>\n",
       "      <td></td>\n",
       "      <td>62.0</td>\n",
       "      <td>35.000000</td>\n",
       "      <td>2.50</td>\n",
       "      <td>3</td>\n",
       "      <td>yes</td>\n",
       "      <td>Cl Melotte 25  6</td>\n",
       "      <td>58.29186</td>\n",
       "      <td>17.32709</td>\n",
       "      <td>3.845947</td>\n",
       "    </tr>\n",
       "    <tr>\n",
       "      <th>3</th>\n",
       "      <td>A</td>\n",
       "      <td>10</td>\n",
       "      <td></td>\n",
       "      <td>0.576</td>\n",
       "      <td>6025.500000</td>\n",
       "      <td>68.500000</td>\n",
       "      <td></td>\n",
       "      <td>80.940002</td>\n",
       "      <td>1.83</td>\n",
       "      <td>2.770</td>\n",
       "      <td>...</td>\n",
       "      <td></td>\n",
       "      <td>10.0</td>\n",
       "      <td>37.799999</td>\n",
       "      <td>0.28</td>\n",
       "      <td>1</td>\n",
       "      <td>yes</td>\n",
       "      <td>Cl Melotte 25 10</td>\n",
       "      <td>61.56720</td>\n",
       "      <td>15.69812</td>\n",
       "      <td>3.779993</td>\n",
       "    </tr>\n",
       "    <tr>\n",
       "      <th>4</th>\n",
       "      <td>A</td>\n",
       "      <td>11</td>\n",
       "      <td></td>\n",
       "      <td>0.394</td>\n",
       "      <td>6730.100098</td>\n",
       "      <td>92.300003</td>\n",
       "      <td></td>\n",
       "      <td>13.620000</td>\n",
       "      <td>1.15</td>\n",
       "      <td>2.390</td>\n",
       "      <td>...</td>\n",
       "      <td></td>\n",
       "      <td>30.0</td>\n",
       "      <td>36.520000</td>\n",
       "      <td>1.09</td>\n",
       "      <td>1</td>\n",
       "      <td>---</td>\n",
       "      <td>Cl Melotte 25 11</td>\n",
       "      <td>61.92493</td>\n",
       "      <td>15.16279</td>\n",
       "      <td>3.828022</td>\n",
       "    </tr>\n",
       "    <tr>\n",
       "      <th>...</th>\n",
       "      <td>...</td>\n",
       "      <td>...</td>\n",
       "      <td>...</td>\n",
       "      <td>...</td>\n",
       "      <td>...</td>\n",
       "      <td>...</td>\n",
       "      <td>...</td>\n",
       "      <td>...</td>\n",
       "      <td>...</td>\n",
       "      <td>...</td>\n",
       "      <td>...</td>\n",
       "      <td>...</td>\n",
       "      <td>...</td>\n",
       "      <td>...</td>\n",
       "      <td>...</td>\n",
       "      <td>...</td>\n",
       "      <td>...</td>\n",
       "      <td>...</td>\n",
       "      <td>...</td>\n",
       "      <td>...</td>\n",
       "      <td>...</td>\n",
       "    </tr>\n",
       "    <tr>\n",
       "      <th>85</th>\n",
       "      <td>D</td>\n",
       "      <td>96</td>\n",
       "      <td></td>\n",
       "      <td>0.841</td>\n",
       "      <td>5159.799805</td>\n",
       "      <td>NaN</td>\n",
       "      <td>*</td>\n",
       "      <td>6.000000</td>\n",
       "      <td>NaN</td>\n",
       "      <td>0.550</td>\n",
       "      <td>...</td>\n",
       "      <td></td>\n",
       "      <td>9.0</td>\n",
       "      <td>37.599998</td>\n",
       "      <td>1.20</td>\n",
       "      <td>2</td>\n",
       "      <td>---</td>\n",
       "      <td>Cl Melotte 25 96</td>\n",
       "      <td>68.49389</td>\n",
       "      <td>15.16369</td>\n",
       "      <td>3.712633</td>\n",
       "    </tr>\n",
       "    <tr>\n",
       "      <th>86</th>\n",
       "      <td>D</td>\n",
       "      <td>101</td>\n",
       "      <td></td>\n",
       "      <td>0.433</td>\n",
       "      <td>6573.500000</td>\n",
       "      <td>86.599998</td>\n",
       "      <td></td>\n",
       "      <td>5.920000</td>\n",
       "      <td>NaN</td>\n",
       "      <td>1.850</td>\n",
       "      <td>...</td>\n",
       "      <td></td>\n",
       "      <td>51.0</td>\n",
       "      <td>33.700001</td>\n",
       "      <td>1.20</td>\n",
       "      <td>3</td>\n",
       "      <td>---</td>\n",
       "      <td>Cl Melotte 25 101</td>\n",
       "      <td>69.16966</td>\n",
       "      <td>15.86935</td>\n",
       "      <td>3.817797</td>\n",
       "    </tr>\n",
       "    <tr>\n",
       "      <th>87</th>\n",
       "      <td>D</td>\n",
       "      <td>115</td>\n",
       "      <td></td>\n",
       "      <td>0.843</td>\n",
       "      <td>5154.000000</td>\n",
       "      <td>NaN</td>\n",
       "      <td>*</td>\n",
       "      <td>3.000000</td>\n",
       "      <td>NaN</td>\n",
       "      <td>0.550</td>\n",
       "      <td>...</td>\n",
       "      <td></td>\n",
       "      <td>5.0</td>\n",
       "      <td>41.840000</td>\n",
       "      <td>0.44</td>\n",
       "      <td>2</td>\n",
       "      <td>---</td>\n",
       "      <td>Cl Melotte 25 115</td>\n",
       "      <td>72.17553</td>\n",
       "      <td>21.10105</td>\n",
       "      <td>3.712144</td>\n",
       "    </tr>\n",
       "    <tr>\n",
       "      <th>88</th>\n",
       "      <td>D</td>\n",
       "      <td>124</td>\n",
       "      <td></td>\n",
       "      <td>0.497</td>\n",
       "      <td>6320.600098</td>\n",
       "      <td>NaN</td>\n",
       "      <td>*</td>\n",
       "      <td>8.690000</td>\n",
       "      <td>NaN</td>\n",
       "      <td>1.750</td>\n",
       "      <td>...</td>\n",
       "      <td></td>\n",
       "      <td>34.0</td>\n",
       "      <td>39.830002</td>\n",
       "      <td>0.24</td>\n",
       "      <td>3</td>\n",
       "      <td>---</td>\n",
       "      <td>Cl Melotte 25 124</td>\n",
       "      <td>72.95828</td>\n",
       "      <td>13.65515</td>\n",
       "      <td>3.800758</td>\n",
       "    </tr>\n",
       "    <tr>\n",
       "      <th>89</th>\n",
       "      <td>D</td>\n",
       "      <td>130</td>\n",
       "      <td></td>\n",
       "      <td>0.242</td>\n",
       "      <td>7392.100098</td>\n",
       "      <td>NaN</td>\n",
       "      <td>*</td>\n",
       "      <td>4.100000</td>\n",
       "      <td>NaN</td>\n",
       "      <td>2.240</td>\n",
       "      <td>...</td>\n",
       "      <td></td>\n",
       "      <td>13.0</td>\n",
       "      <td>44.160000</td>\n",
       "      <td>0.14</td>\n",
       "      <td>5</td>\n",
       "      <td>---</td>\n",
       "      <td>Cl Melotte 25 130</td>\n",
       "      <td>77.33186</td>\n",
       "      <td>9.82958</td>\n",
       "      <td>3.868768</td>\n",
       "    </tr>\n",
       "  </tbody>\n",
       "</table>\n",
       "<p>90 rows × 24 columns</p>\n",
       "</div>"
      ],
      "text/plain": [
       "   Group   ID n_ID  __B-V_mean         Teff     e_Teff n_Teff      EW_Li_  \\\n",
       "0      A    1            0.567  6048.100098  55.900002         102.230003   \n",
       "1      A    2            0.619  5872.600098  20.299999          93.709999   \n",
       "2      A    6            0.327  7013.700195  65.599998          52.299999   \n",
       "3      A   10            0.576  6025.500000  68.500000          80.940002   \n",
       "4      A   11            0.394  6730.100098  92.300003          13.620000   \n",
       "..   ...  ...  ...         ...          ...        ...    ...         ...   \n",
       "85     D   96            0.841  5159.799805        NaN      *    6.000000   \n",
       "86     D  101            0.433  6573.500000  86.599998           5.920000   \n",
       "87     D  115            0.843  5154.000000        NaN      *    3.000000   \n",
       "88     D  124            0.497  6320.600098        NaN      *    8.690000   \n",
       "89     D  130            0.242  7392.100098        NaN      *    4.100000   \n",
       "\n",
       "    e_EW_Li_  A_Li_  ...  l_vsini  vsini         RV  e_RV Ref  Prime  \\\n",
       "0       1.16  2.945  ...             7.0  32.439999  0.21   2    yes   \n",
       "1       1.35  2.720  ...            11.0  32.779999  0.42   1    yes   \n",
       "2       1.85  3.280  ...            62.0  35.000000  2.50   3    yes   \n",
       "3       1.83  2.770  ...            10.0  37.799999  0.28   1    yes   \n",
       "4       1.15  2.390  ...            30.0  36.520000  1.09   1    ---   \n",
       "..       ...    ...  ...      ...    ...        ...   ...  ..    ...   \n",
       "85       NaN  0.550  ...             9.0  37.599998  1.20   2    ---   \n",
       "86       NaN  1.850  ...            51.0  33.700001  1.20   3    ---   \n",
       "87       NaN  0.550  ...             5.0  41.840000  0.44   2    ---   \n",
       "88       NaN  1.750  ...            34.0  39.830002  0.24   3    ---   \n",
       "89       NaN  2.240  ...            13.0  44.160000  0.14   5    ---   \n",
       "\n",
       "           SimbadName       _RA       _DE   logTeff  \n",
       "0    Cl Melotte 25  1  49.35994   7.65581  3.781619  \n",
       "1    Cl Melotte 25  2  49.38658   7.69015  3.768830  \n",
       "2    Cl Melotte 25  6  58.29186  17.32709  3.845947  \n",
       "3    Cl Melotte 25 10  61.56720  15.69812  3.779993  \n",
       "4    Cl Melotte 25 11  61.92493  15.16279  3.828022  \n",
       "..                ...       ...       ...       ...  \n",
       "85   Cl Melotte 25 96  68.49389  15.16369  3.712633  \n",
       "86  Cl Melotte 25 101  69.16966  15.86935  3.817797  \n",
       "87  Cl Melotte 25 115  72.17553  21.10105  3.712144  \n",
       "88  Cl Melotte 25 124  72.95828  13.65515  3.800758  \n",
       "89  Cl Melotte 25 130  77.33186   9.82958  3.868768  \n",
       "\n",
       "[90 rows x 24 columns]"
      ]
     },
     "execution_count": 6,
     "metadata": {},
     "output_type": "execute_result"
    }
   ],
   "source": [
    "cd = CatalogDownloader(catalog_name=\"Cummings2017_HyadesPraesepe\", catalog_type=\"LiEW\")\n",
    "tabs = cd.get_tables_from_vizier(row_limit=-1)\n",
    "df_Hyades = tabs[0].to_pandas()\n",
    "df_Praesepe = tabs[1].to_pandas()\n",
    "df_Hyades['logTeff'] = df_Hyades.Teff.apply(lambda x: np.log10(x))\n",
    "df_Praesepe['logTeff'] = df_Praesepe.Teff.apply(lambda x: np.log10(x))\n",
    "# df_PisEri['st_rotp'] = df_PisEri['Prot'].copy()\n",
    "# df_PisEri.head()\n",
    "df_Hyades"
   ]
  },
  {
   "cell_type": "code",
   "execution_count": 7,
   "metadata": {
    "ExecuteTime": {
     "end_time": "2022-11-01T05:23:20.407336Z",
     "start_time": "2022-11-01T05:23:20.376827Z"
    }
   },
   "outputs": [
    {
     "data": {
      "text/html": [
       "<div>\n",
       "<style scoped>\n",
       "    .dataframe tbody tr th:only-of-type {\n",
       "        vertical-align: middle;\n",
       "    }\n",
       "\n",
       "    .dataframe tbody tr th {\n",
       "        vertical-align: top;\n",
       "    }\n",
       "\n",
       "    .dataframe thead th {\n",
       "        text-align: right;\n",
       "    }\n",
       "</style>\n",
       "<table border=\"1\" class=\"dataframe\">\n",
       "  <thead>\n",
       "    <tr style=\"text-align: right;\">\n",
       "      <th></th>\n",
       "      <th>Group</th>\n",
       "      <th>ID</th>\n",
       "      <th>n_ID</th>\n",
       "      <th>__B-V_mean</th>\n",
       "      <th>Teff</th>\n",
       "      <th>e_Teff</th>\n",
       "      <th>EW_Li_</th>\n",
       "      <th>e_EW_Li_</th>\n",
       "      <th>A_Li_</th>\n",
       "      <th>e_A_Li_S_N</th>\n",
       "      <th>...</th>\n",
       "      <th>l_vsini</th>\n",
       "      <th>vsini</th>\n",
       "      <th>RV</th>\n",
       "      <th>e_RV</th>\n",
       "      <th>Ref</th>\n",
       "      <th>Prime</th>\n",
       "      <th>SimbadName</th>\n",
       "      <th>_RA</th>\n",
       "      <th>_DE</th>\n",
       "      <th>logTeff</th>\n",
       "    </tr>\n",
       "  </thead>\n",
       "  <tbody>\n",
       "    <tr>\n",
       "      <th>0</th>\n",
       "      <td>A</td>\n",
       "      <td>23</td>\n",
       "      <td></td>\n",
       "      <td>0.699</td>\n",
       "      <td>5627.899902</td>\n",
       "      <td>53.799999</td>\n",
       "      <td>32.240002</td>\n",
       "      <td>NaN</td>\n",
       "      <td>1.773</td>\n",
       "      <td>NaN</td>\n",
       "      <td>...</td>\n",
       "      <td></td>\n",
       "      <td>5.1</td>\n",
       "      <td>35.209999</td>\n",
       "      <td>0.23</td>\n",
       "      <td>7</td>\n",
       "      <td>yes</td>\n",
       "      <td>Cl* NGC 2632 KW  23</td>\n",
       "      <td>129.29787</td>\n",
       "      <td>19.80368</td>\n",
       "      <td>3.750346</td>\n",
       "    </tr>\n",
       "    <tr>\n",
       "      <th>1</th>\n",
       "      <td>A</td>\n",
       "      <td>27</td>\n",
       "      <td></td>\n",
       "      <td>0.731</td>\n",
       "      <td>5526.399902</td>\n",
       "      <td>62.900002</td>\n",
       "      <td>28.150000</td>\n",
       "      <td>1.23</td>\n",
       "      <td>1.520</td>\n",
       "      <td>0.035</td>\n",
       "      <td>...</td>\n",
       "      <td>&lt;</td>\n",
       "      <td>6.0</td>\n",
       "      <td>34.110001</td>\n",
       "      <td>0.38</td>\n",
       "      <td>1</td>\n",
       "      <td>yes</td>\n",
       "      <td>Cl* NGC 2632 KW  27</td>\n",
       "      <td>129.32622</td>\n",
       "      <td>19.69900</td>\n",
       "      <td>3.742442</td>\n",
       "    </tr>\n",
       "    <tr>\n",
       "      <th>2</th>\n",
       "      <td>A</td>\n",
       "      <td>30</td>\n",
       "      <td></td>\n",
       "      <td>0.681</td>\n",
       "      <td>5686.799805</td>\n",
       "      <td>111.300003</td>\n",
       "      <td>46.049999</td>\n",
       "      <td>1.82</td>\n",
       "      <td>2.085</td>\n",
       "      <td>0.024</td>\n",
       "      <td>...</td>\n",
       "      <td></td>\n",
       "      <td>8.0</td>\n",
       "      <td>34.610001</td>\n",
       "      <td>0.34</td>\n",
       "      <td>1</td>\n",
       "      <td>---</td>\n",
       "      <td>Cl* NGC 2632 KW  30</td>\n",
       "      <td>129.34261</td>\n",
       "      <td>20.17701</td>\n",
       "      <td>3.754868</td>\n",
       "    </tr>\n",
       "    <tr>\n",
       "      <th>3</th>\n",
       "      <td>A</td>\n",
       "      <td>31</td>\n",
       "      <td>b</td>\n",
       "      <td>0.559</td>\n",
       "      <td>6111.200195</td>\n",
       "      <td>39.700001</td>\n",
       "      <td>46.169998</td>\n",
       "      <td>NaN</td>\n",
       "      <td>2.529</td>\n",
       "      <td>NaN</td>\n",
       "      <td>...</td>\n",
       "      <td></td>\n",
       "      <td>10.5</td>\n",
       "      <td>35.110001</td>\n",
       "      <td>0.23</td>\n",
       "      <td>8</td>\n",
       "      <td>---</td>\n",
       "      <td>Cl* NGC 2632 KW  31</td>\n",
       "      <td>129.36643</td>\n",
       "      <td>19.56255</td>\n",
       "      <td>3.786127</td>\n",
       "    </tr>\n",
       "    <tr>\n",
       "      <th>4</th>\n",
       "      <td>A</td>\n",
       "      <td>32</td>\n",
       "      <td></td>\n",
       "      <td>0.796</td>\n",
       "      <td>5325.100098</td>\n",
       "      <td>21.700001</td>\n",
       "      <td>NaN</td>\n",
       "      <td>2.18</td>\n",
       "      <td>0.910</td>\n",
       "      <td>NaN</td>\n",
       "      <td>...</td>\n",
       "      <td></td>\n",
       "      <td>9.0</td>\n",
       "      <td>35.029999</td>\n",
       "      <td>0.35</td>\n",
       "      <td>1</td>\n",
       "      <td>yes</td>\n",
       "      <td>Cl* NGC 2632 KW  32</td>\n",
       "      <td>129.36480</td>\n",
       "      <td>19.61757</td>\n",
       "      <td>3.726328</td>\n",
       "    </tr>\n",
       "    <tr>\n",
       "      <th>...</th>\n",
       "      <td>...</td>\n",
       "      <td>...</td>\n",
       "      <td>...</td>\n",
       "      <td>...</td>\n",
       "      <td>...</td>\n",
       "      <td>...</td>\n",
       "      <td>...</td>\n",
       "      <td>...</td>\n",
       "      <td>...</td>\n",
       "      <td>...</td>\n",
       "      <td>...</td>\n",
       "      <td>...</td>\n",
       "      <td>...</td>\n",
       "      <td>...</td>\n",
       "      <td>...</td>\n",
       "      <td>...</td>\n",
       "      <td>...</td>\n",
       "      <td>...</td>\n",
       "      <td>...</td>\n",
       "      <td>...</td>\n",
       "      <td>...</td>\n",
       "    </tr>\n",
       "    <tr>\n",
       "      <th>105</th>\n",
       "      <td>C</td>\n",
       "      <td>792W</td>\n",
       "      <td></td>\n",
       "      <td>1.130</td>\n",
       "      <td>4484.399902</td>\n",
       "      <td>NaN</td>\n",
       "      <td>6.990000</td>\n",
       "      <td>NaN</td>\n",
       "      <td>0.000</td>\n",
       "      <td>NaN</td>\n",
       "      <td>...</td>\n",
       "      <td></td>\n",
       "      <td>8.0</td>\n",
       "      <td>34.759998</td>\n",
       "      <td>0.57</td>\n",
       "      <td>1</td>\n",
       "      <td>---</td>\n",
       "      <td></td>\n",
       "      <td>NaN</td>\n",
       "      <td>NaN</td>\n",
       "      <td>3.651704</td>\n",
       "    </tr>\n",
       "    <tr>\n",
       "      <th>106</th>\n",
       "      <td>C</td>\n",
       "      <td>899W</td>\n",
       "      <td></td>\n",
       "      <td>0.995</td>\n",
       "      <td>4787.500000</td>\n",
       "      <td>NaN</td>\n",
       "      <td>8.760000</td>\n",
       "      <td>NaN</td>\n",
       "      <td>0.210</td>\n",
       "      <td>NaN</td>\n",
       "      <td>...</td>\n",
       "      <td></td>\n",
       "      <td>10.0</td>\n",
       "      <td>35.090000</td>\n",
       "      <td>0.56</td>\n",
       "      <td>1</td>\n",
       "      <td>---</td>\n",
       "      <td></td>\n",
       "      <td>NaN</td>\n",
       "      <td>NaN</td>\n",
       "      <td>3.680109</td>\n",
       "    </tr>\n",
       "    <tr>\n",
       "      <th>107</th>\n",
       "      <td>D</td>\n",
       "      <td>47</td>\n",
       "      <td></td>\n",
       "      <td>0.498</td>\n",
       "      <td>6338.000000</td>\n",
       "      <td>56.299999</td>\n",
       "      <td>8.670000</td>\n",
       "      <td>NaN</td>\n",
       "      <td>1.750</td>\n",
       "      <td>NaN</td>\n",
       "      <td>...</td>\n",
       "      <td></td>\n",
       "      <td>12.4</td>\n",
       "      <td>34.990002</td>\n",
       "      <td>0.13</td>\n",
       "      <td>8</td>\n",
       "      <td>yes</td>\n",
       "      <td>Cl* NGC 2632 KW  47</td>\n",
       "      <td>129.42651</td>\n",
       "      <td>19.13377</td>\n",
       "      <td>3.801952</td>\n",
       "    </tr>\n",
       "    <tr>\n",
       "      <th>108</th>\n",
       "      <td>D</td>\n",
       "      <td>250</td>\n",
       "      <td></td>\n",
       "      <td>0.476</td>\n",
       "      <td>6423.100098</td>\n",
       "      <td>35.599998</td>\n",
       "      <td>4.590000</td>\n",
       "      <td>NaN</td>\n",
       "      <td>1.700</td>\n",
       "      <td>NaN</td>\n",
       "      <td>...</td>\n",
       "      <td></td>\n",
       "      <td>36.0</td>\n",
       "      <td>34.099998</td>\n",
       "      <td>0.96</td>\n",
       "      <td>1</td>\n",
       "      <td>yes</td>\n",
       "      <td>Cl* NGC 2632 KW 250</td>\n",
       "      <td>130.02043</td>\n",
       "      <td>19.72926</td>\n",
       "      <td>3.807745</td>\n",
       "    </tr>\n",
       "    <tr>\n",
       "      <th>109</th>\n",
       "      <td>D</td>\n",
       "      <td>536</td>\n",
       "      <td>b</td>\n",
       "      <td>0.490</td>\n",
       "      <td>6369.000000</td>\n",
       "      <td>61.599998</td>\n",
       "      <td>8.340000</td>\n",
       "      <td>NaN</td>\n",
       "      <td>1.750</td>\n",
       "      <td>NaN</td>\n",
       "      <td>...</td>\n",
       "      <td></td>\n",
       "      <td>13.2</td>\n",
       "      <td>36.900002</td>\n",
       "      <td>0.19</td>\n",
       "      <td>8</td>\n",
       "      <td>---</td>\n",
       "      <td>Cl* NGC 2632 KW 536</td>\n",
       "      <td>129.12439</td>\n",
       "      <td>18.96583</td>\n",
       "      <td>3.804071</td>\n",
       "    </tr>\n",
       "  </tbody>\n",
       "</table>\n",
       "<p>110 rows × 23 columns</p>\n",
       "</div>"
      ],
      "text/plain": [
       "    Group    ID n_ID  __B-V_mean         Teff      e_Teff     EW_Li_  \\\n",
       "0       A    23            0.699  5627.899902   53.799999  32.240002   \n",
       "1       A    27            0.731  5526.399902   62.900002  28.150000   \n",
       "2       A    30            0.681  5686.799805  111.300003  46.049999   \n",
       "3       A    31    b       0.559  6111.200195   39.700001  46.169998   \n",
       "4       A    32            0.796  5325.100098   21.700001        NaN   \n",
       "..    ...   ...  ...         ...          ...         ...        ...   \n",
       "105     C  792W            1.130  4484.399902         NaN   6.990000   \n",
       "106     C  899W            0.995  4787.500000         NaN   8.760000   \n",
       "107     D    47            0.498  6338.000000   56.299999   8.670000   \n",
       "108     D   250            0.476  6423.100098   35.599998   4.590000   \n",
       "109     D   536    b       0.490  6369.000000   61.599998   8.340000   \n",
       "\n",
       "     e_EW_Li_  A_Li_  e_A_Li_S_N  ...  l_vsini  vsini         RV  e_RV  Ref  \\\n",
       "0         NaN  1.773         NaN  ...             5.1  35.209999  0.23    7   \n",
       "1        1.23  1.520       0.035  ...        <    6.0  34.110001  0.38    1   \n",
       "2        1.82  2.085       0.024  ...             8.0  34.610001  0.34    1   \n",
       "3         NaN  2.529         NaN  ...            10.5  35.110001  0.23    8   \n",
       "4        2.18  0.910         NaN  ...             9.0  35.029999  0.35    1   \n",
       "..        ...    ...         ...  ...      ...    ...        ...   ...  ...   \n",
       "105       NaN  0.000         NaN  ...             8.0  34.759998  0.57    1   \n",
       "106       NaN  0.210         NaN  ...            10.0  35.090000  0.56    1   \n",
       "107       NaN  1.750         NaN  ...            12.4  34.990002  0.13    8   \n",
       "108       NaN  1.700         NaN  ...            36.0  34.099998  0.96    1   \n",
       "109       NaN  1.750         NaN  ...            13.2  36.900002  0.19    8   \n",
       "\n",
       "     Prime           SimbadName        _RA       _DE   logTeff  \n",
       "0      yes  Cl* NGC 2632 KW  23  129.29787  19.80368  3.750346  \n",
       "1      yes  Cl* NGC 2632 KW  27  129.32622  19.69900  3.742442  \n",
       "2      ---  Cl* NGC 2632 KW  30  129.34261  20.17701  3.754868  \n",
       "3      ---  Cl* NGC 2632 KW  31  129.36643  19.56255  3.786127  \n",
       "4      yes  Cl* NGC 2632 KW  32  129.36480  19.61757  3.726328  \n",
       "..     ...                  ...        ...       ...       ...  \n",
       "105    ---                             NaN       NaN  3.651704  \n",
       "106    ---                             NaN       NaN  3.680109  \n",
       "107    yes  Cl* NGC 2632 KW  47  129.42651  19.13377  3.801952  \n",
       "108    yes  Cl* NGC 2632 KW 250  130.02043  19.72926  3.807745  \n",
       "109    ---  Cl* NGC 2632 KW 536  129.12439  18.96583  3.804071  \n",
       "\n",
       "[110 rows x 23 columns]"
      ]
     },
     "execution_count": 7,
     "metadata": {},
     "output_type": "execute_result"
    }
   ],
   "source": [
    "df_Praesepe"
   ]
  },
  {
   "cell_type": "code",
   "execution_count": 8,
   "metadata": {
    "ExecuteTime": {
     "end_time": "2022-11-01T05:23:27.011885Z",
     "start_time": "2022-11-01T05:23:26.738543Z"
    }
   },
   "outputs": [
    {
     "data": {
      "image/png": "[encoded data removed]",
      "text/plain": [
       "<Figure size 960x720 with 1 Axes>"
      ]
     },
     "metadata": {},
     "output_type": "display_data"
    }
   ],
   "source": [
    "from utils import plot_planets\n",
    "\n",
    "x, y ='logTeff', 'EW_Li_'\n",
    "ax = plot_planets(df_Pleiades, x, y, \n",
    "                plot_kwds={'marker': '.', 'c':'C1', 'label': 'Pleiades (0.12 Gyr)'}\n",
    "                                            )\n",
    "                                            \n",
    "_ =  plot_planets(df_Praesepe, x, y, ax=ax,\n",
    "                plot_kwds={'marker': '.', 'c':'C2', 'label': 'Praepe (0.67 Gyr)'}\n",
    "                                            )\n",
    "\n",
    "_ =  plot_planets(df_Hyades, x, y, ax=ax,\n",
    "                plot_kwds={'marker': '.', 'c':'C3', 'label': 'Hyades (0.73 Gyr)'}\n",
    "                                             )"
   ]
  },
  {
   "cell_type": "code",
   "execution_count": 10,
   "metadata": {
    "ExecuteTime": {
     "end_time": "2022-11-01T05:24:19.018070Z",
     "start_time": "2022-11-01T05:24:18.850451Z"
    }
   },
   "outputs": [],
   "source": [
    "fp = \"../figures/EW_Teff.png\"\n",
    "ax.figure.savefig(fp, bbox_inches=\"tight\")"
   ]
  },
  {
   "cell_type": "code",
   "execution_count": null,
   "metadata": {},
   "outputs": [],
   "source": []
  }
 ],
 "metadata": {
  "interpreter": {
   "hash": "cf437c9fdc7e33afad30806c8ba898b1ed7208af2531506eaaa1d2480c4ad7ab"
  },
  "kernelspec": {
   "display_name": "Python 3 (ipykernel)",
   "language": "python",
   "name": "python3"
  },
  "language_info": {
   "codemirror_mode": {
    "name": "ipython",
    "version": 3
   },
   "file_extension": ".py",
   "mimetype": "text/x-python",
   "name": "python",
   "nbconvert_exporter": "python",
   "pygments_lexer": "ipython3",
   "version": "3.9.19"
  },
  "toc": {
   "base_numbering": 1,
   "nav_menu": {},
   "number_sections": true,
   "sideBar": true,
   "skip_h1_title": false,
   "title_cell": "Table of Contents",
   "title_sidebar": "Contents",
   "toc_cell": false,
   "toc_position": {},
   "toc_section_display": true,
   "toc_window_display": false
  }
 },
 "nbformat": 4,
 "nbformat_minor": 4
}
