{
 "cells": [
  {
   "cell_type": "markdown",
   "metadata": {},
   "source": [
    "# Gyro relations\n"
   ]
  },
  {
   "cell_type": "markdown",
   "metadata": {},
   "source": [
    "## Skumanich 1972\n",
    "* https://ui.adsabs.harvard.edu/abs/1972ApJ...171..565S/abstract"
   ]
  },
  {
   "cell_type": "markdown",
   "metadata": {
    "tags": []
   },
   "source": [
    "## Barnes+2007\n",
    "* https://ui.adsabs.harvard.edu/abs/2007ApJ...669.1167B/abstract\n",
    "* Equation (1)\n",
    "$$\n",
    "P_{rot}=[a(B-V_0)-c)]^b t^n\n",
    "$$\n",
    "\n",
    "a= 0.7725+/-0.011, b= 0.601+/-0.024, c= 0.40 mag, n= 0.5189+/-0.0070\n",
    "\n",
    "c.f. Mamajek & Hillenbrand 2008 revision:\n",
    "\n",
    "a= 0.407+/-0.021, b= 0.325+/-0.024m c= 0.495+/-0.010 mag, n= 0.566+/-0.008"
   ]
  },
  {
   "cell_type": "markdown",
   "metadata": {},
   "source": [
    "## Mamajek & Hillenbrand 2008\n",
    "* https://ui.adsabs.harvard.edu/abs/2008ApJ...687.1264M/abstract\n",
    "* activity-age calibration for F7-K2 dwarfs (0.5 mag < B - V < 0.9 mag)\n",
    "* Equation (3):\n",
    "$$\n",
    "\\log \\tau = -38.053 - 17.912 \\log R'_{HK} - 1.6675 \\log (R'_{HK})^2\n",
    "$$"
   ]
  },
  {
   "cell_type": "markdown",
   "metadata": {},
   "source": [
    "## Barnes 2010"
   ]
  },
  {
   "cell_type": "markdown",
   "metadata": {},
   "source": [
    "## Angus+2015"
   ]
  },
  {
   "cell_type": "markdown",
   "metadata": {},
   "source": [
    "## van Sanders+2016\n",
    "* physically derived model"
   ]
  },
  {
   "cell_type": "markdown",
   "metadata": {},
   "source": [
    "## Angus+2019\n",
    "* empirical model: broken power law derived from Praesepe cluster\n",
    "* See Eq. 1 & 2 in [Angus+2019](https://iopscience.iop.org/article/10.3847/1538-3881/ab3c53/pdf)\n",
    "\n",
    "Notes\n",
    "*  Stars more massive than around 1.25 Msun, with temperature > 6250 K and GBP – GRP < 0.56, do not spin down appreciably over their mainsequence lifetimes because they do not have the deep convective envelope needed to generate strong magnetic fields\n",
    "* Late M dwarfs with masses <0.3 Me, temperatures <3500 K, and GBP – GRP > 2.7 exhibit weak magnetic braking until at least after the age of Praesepe (∼650 million years)\n",
    "* rotation periods of subgiants or giants are influenced by their expanding radii, changing winds, and core-to-surface differential rotation (e.g., van Saders & Pinsonneault 2013; Tayar & Pinsonneault 2018)\n",
    "* dynamically or magnetically interacting binaries, which often rotate more rapidly than isolated stars at the same age and color (Douglas et al. 2016)"
   ]
  },
  {
   "cell_type": "code",
   "execution_count": null,
   "metadata": {},
   "outputs": [],
   "source": []
  },
  {
   "cell_type": "markdown",
   "metadata": {
    "tags": []
   },
   "source": [
    "## Bouma+2023"
   ]
  },
  {
   "cell_type": "code",
   "execution_count": null,
   "metadata": {},
   "outputs": [],
   "source": []
  },
  {
   "cell_type": "markdown",
   "metadata": {},
   "source": [
    "## Terms\n",
    "* Skumanich relation: rotation periods of solar-type stars decay with the square root of time\n",
    "*  `Rossby numbers`, $R_o$, is the ratio of rotation period to the convective overturn timescale\n",
    "* $R_o$ > 2 do not show `Skumanich-like` magnetic braking"
   ]
  },
  {
   "cell_type": "code",
   "execution_count": 1,
   "metadata": {
    "ExecuteTime": {
     "end_time": "2022-11-01T05:13:31.251209Z",
     "start_time": "2022-11-01T05:13:30.847903Z"
    }
   },
   "outputs": [],
   "source": [
    "# %load init_ipynb\n",
    "import os\n",
    "import sys\n",
    "import matplotlib.pyplot as pl\n",
    "\n",
    "sys.path.insert(0, '../code')\n",
    "assert os.environ[\"CONDA_DEFAULT_ENV\"] == 'wakai'\n",
    "\n",
    "plotpar = {'axes.labelsize': 16,\n",
    "           'font.size': 16,\n",
    "           'legend.fontsize': 16,\n",
    "           'xtick.labelsize': 16,\n",
    "           'ytick.labelsize': 16,\n",
    "#            'text.usetex': False,\n",
    "           'xtick.direction': 'in',\n",
    "           'ytick.direction': 'in'\n",
    "           }\n",
    "pl.rcParams.update(plotpar)"
   ]
  },
  {
   "cell_type": "markdown",
   "metadata": {},
   "source": [
    "# known young host stars"
   ]
  },
  {
   "cell_type": "code",
   "execution_count": 2,
   "metadata": {
    "ExecuteTime": {
     "end_time": "2022-11-01T05:13:33.615392Z",
     "start_time": "2022-11-01T05:13:31.252943Z"
    }
   },
   "outputs": [
    {
     "name": "stdout",
     "output_type": "stream",
     "text": [
      "Column definitions:  https://exoplanetarchive.ipac.caltech.edu/docs/API_PS_columns.html\n"
     ]
    },
    {
     "name": "stderr",
     "output_type": "stream",
     "text": [
      "/home/jp/github/research/project/wakai/notebooks/../code/utils.py:39: DtypeWarning: Columns (3,4,50,65,148,153,183,206,211,237,242) have mixed types. Specify dtype option on import or set low_memory=False.\n",
      "  df_nexsci = pd.read_csv(fp)\n"
     ]
    },
    {
     "name": "stdout",
     "output_type": "stream",
     "text": [
      "Loaded:  ../data/nexsci_ps.csv\n"
     ]
    }
   ],
   "source": [
    "from utils import get_nexsci_data\n",
    "\n",
    "df_nexsci = get_nexsci_data(table_name=\"ps\", clobber=False)"
   ]
  },
  {
   "cell_type": "code",
   "execution_count": 3,
   "metadata": {
    "ExecuteTime": {
     "end_time": "2022-11-01T05:13:34.560232Z",
     "start_time": "2022-11-01T05:13:34.514893Z"
    }
   },
   "outputs": [
    {
     "data": {
      "text/plain": [
       "(21,\n",
       " array(['WASP-189', 'Qatar-4', 'Qatar-5', 'Qatar-3', 'HIP 94235',\n",
       "        'DS Tuc A', 'HD 110082', 'HD 63433', 'K2-100', 'Kepler-1643',\n",
       "        'Kepler-1928', 'Kepler-411', 'K2-102', 'TOI-2048', 'TOI-1860',\n",
       "        'K2-25', 'TOI-1227', 'Kepler-970', 'K2-33', 'V1298 Tau',\n",
       "        'HIP 67522'], dtype=object))"
      ]
     },
     "execution_count": 3,
     "metadata": {},
     "output_type": "execute_result"
    }
   ],
   "source": [
    "from utils import get_relative_err_index\n",
    "\n",
    "idx = (df_nexsci.st_age<1) & (df_nexsci.default_flag==1) #& (df_nexsci.disc_facility=='Kepler') \n",
    "idx2 = get_relative_err_index(df_nexsci[idx], par='st_age', rel_err=0.2)\n",
    "\n",
    "df_young = df_nexsci[idx][idx2]\n",
    "young_hoststar_names = df_young.hostname.unique()\n",
    "len(young_hoststar_names), young_hoststar_names"
   ]
  }
 ],
 "metadata": {
  "kernelspec": {
   "display_name": "Python 3",
   "language": "python",
   "name": "python3"
  },
  "language_info": {
   "codemirror_mode": {
    "name": "ipython",
    "version": 3
   },
   "file_extension": ".py",
   "mimetype": "text/x-python",
   "name": "python",
   "nbconvert_exporter": "python",
   "pygments_lexer": "ipython3",
   "version": "3.6.13"
  },
  "toc": {
   "base_numbering": 1,
   "nav_menu": {},
   "number_sections": true,
   "sideBar": true,
   "skip_h1_title": false,
   "title_cell": "Table of Contents",
   "title_sidebar": "Contents",
   "toc_cell": false,
   "toc_position": {},
   "toc_section_display": true,
   "toc_window_display": true
  },
  "vscode": {
   "interpreter": {
    "hash": "31f2aee4e71d21fbe5cf8b01ff0e069b9275f58929596ceb00d14d90e3e16cd6"
   }
  }
 },
 "nbformat": 4,
 "nbformat_minor": 4
}
