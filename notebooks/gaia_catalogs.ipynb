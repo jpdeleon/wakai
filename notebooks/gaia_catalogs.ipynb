{
 "cells": [
  {
   "cell_type": "code",
   "execution_count": 22,
   "id": "5ad66291",
   "metadata": {
    "ExecuteTime": {
     "end_time": "2023-02-06T08:47:22.915306Z",
     "start_time": "2023-02-06T08:47:21.038805Z"
    }
   },
   "outputs": [],
   "source": [
    "from astropy.coordinates import SkyCoord\n",
    "from astroquery.mast import Observations, Catalogs\n",
    "import astropy.units as u\n",
    "\n",
    "ra, dec = 124.606758, -19.662792\n",
    "target_coord = SkyCoord(ra=ra, dec=dec, unit='deg')\n",
    "\n",
    "gdr1 = Catalogs.query_region(\n",
    "            target_coord, radius=60*u.arcsec, catalog=\"Gaia\", version=1\n",
    "        ).to_pandas()\n",
    "gdr2 = Catalogs.query_region(\n",
    "            target_coord, radius=60*u.arcsec, catalog=\"Gaia\", version=2\n",
    "        ).to_pandas()\n",
    "gdr3 = Catalogs.query_region(\n",
    "            target_coord, radius=60*u.arcsec, catalog=\"Gaia\", version=3\n",
    "        ).to_pandas()"
   ]
  },
  {
   "cell_type": "code",
   "execution_count": 23,
   "id": "58e5bc4d",
   "metadata": {
    "ExecuteTime": {
     "end_time": "2023-02-06T08:47:22.920261Z",
     "start_time": "2023-02-06T08:47:22.916806Z"
    }
   },
   "outputs": [
    {
     "data": {
      "text/plain": [
       "(24, 33, 33)"
      ]
     },
     "execution_count": 23,
     "metadata": {},
     "output_type": "execute_result"
    }
   ],
   "source": [
    "len(gdr1), len(gdr2), len(gdr3)"
   ]
  },
  {
   "cell_type": "code",
   "execution_count": 31,
   "id": "75ba3b86",
   "metadata": {
    "ExecuteTime": {
     "end_time": "2023-02-06T08:55:22.114619Z",
     "start_time": "2023-02-06T08:55:22.098436Z"
    }
   },
   "outputs": [
    {
     "data": {
      "text/plain": [
       "0     0.0\n",
       "1     0.0\n",
       "2     0.0\n",
       "3     0.0\n",
       "4     0.0\n",
       "5     0.0\n",
       "6     0.0\n",
       "7     0.0\n",
       "8     0.0\n",
       "9     0.0\n",
       "10    0.0\n",
       "11    0.0\n",
       "12    0.0\n",
       "13    0.0\n",
       "14    0.0\n",
       "15    0.0\n",
       "16    0.0\n",
       "17    0.0\n",
       "18    0.0\n",
       "19    0.0\n",
       "20    0.0\n",
       "21    0.0\n",
       "22    0.0\n",
       "23    0.0\n",
       "24    0.0\n",
       "25    0.0\n",
       "26    0.0\n",
       "27    0.0\n",
       "28    0.0\n",
       "29    0.0\n",
       "30    0.0\n",
       "31    0.0\n",
       "32    0.0\n",
       "Name: phot_g_mean_mag, dtype: float64"
      ]
     },
     "execution_count": 31,
     "metadata": {},
     "output_type": "execute_result"
    }
   ],
   "source": [
    "gdr2['phot_g_mean_mag']-gdr3['phot_g_mean_mag']"
   ]
  },
  {
   "cell_type": "code",
   "execution_count": 26,
   "id": "59a5a294",
   "metadata": {
    "ExecuteTime": {
     "end_time": "2023-02-06T08:48:08.939312Z",
     "start_time": "2023-02-06T08:48:08.736378Z"
    }
   },
   "outputs": [
    {
     "data": {
      "text/plain": [
       "[<matplotlib.lines.Line2D at 0x7fc20402aeb8>]"
      ]
     },
     "execution_count": 26,
     "metadata": {},
     "output_type": "execute_result"
    },
    {
     "data": {
      "image/png": "[encoded data removed]",
      "text/plain": [
       "<Figure size 432x288 with 1 Axes>"
      ]
     },
     "metadata": {
      "needs_background": "light"
     },
     "output_type": "display_data"
    }
   ],
   "source": [
    "ax=gdr2.plot.scatter(x=\"ra\",y=\"dec\")\n",
    "_=gdr3.plot.scatter(x=\"ra\",y=\"dec\", marker='.', ax=ax, c='r')\n",
    "ax.plot(ra, dec, 'k*', ms=20)"
   ]
  },
  {
   "cell_type": "code",
   "execution_count": null,
   "id": "d48f9799",
   "metadata": {},
   "outputs": [],
   "source": []
  },
  {
   "cell_type": "code",
   "execution_count": null,
   "id": "b9c8d0dc",
   "metadata": {},
   "outputs": [],
   "source": []
  },
  {
   "cell_type": "code",
   "execution_count": null,
   "id": "593ccc2d",
   "metadata": {},
   "outputs": [],
   "source": []
  },
  {
   "cell_type": "markdown",
   "id": "c7607ba0",
   "metadata": {},
   "source": [
    "## GALAH\n",
    "* https://ui.adsabs.harvard.edu/abs/2022MNRAS.517.5325H/abstract\n",
    "* ages for 214 577 stars in GALAH DR3 using only overall metallicities and chemical abundances\n",
    "* estimated via the machine learning algorithm XGBoost for stars belonging to the Milky Way disc with metallicities in the range -1 < [Fe/H] < 0.5"
   ]
  },
  {
   "cell_type": "markdown",
   "id": "a5dd6763",
   "metadata": {},
   "source": [
    "### The GALAH+ Survey DR3\n",
    "* https://ui.adsabs.harvard.edu/abs/2021MNRAS.506..150B/abstract\n",
    "* https://vizier.unistra.fr/viz-bin/VizieR?-source=J/MNRAS/506/150&-to=3"
   ]
  },
  {
   "cell_type": "code",
   "execution_count": null,
   "id": "49887d64",
   "metadata": {},
   "outputs": [],
   "source": []
  }
 ],
 "metadata": {
  "kernelspec": {
   "display_name": "Python 3 (ipykernel)",
   "language": "python",
   "name": "python3"
  },
  "language_info": {
   "codemirror_mode": {
    "name": "ipython",
    "version": 3
   },
   "file_extension": ".py",
   "mimetype": "text/x-python",
   "name": "python",
   "nbconvert_exporter": "python",
   "pygments_lexer": "ipython3",
   "version": "3.8.13"
  },
  "toc": {
   "base_numbering": 1,
   "nav_menu": {},
   "number_sections": true,
   "sideBar": true,
   "skip_h1_title": false,
   "title_cell": "Table of Contents",
   "title_sidebar": "Contents",
   "toc_cell": false,
   "toc_position": {},
   "toc_section_display": true,
   "toc_window_display": false
  }
 },
 "nbformat": 4,
 "nbformat_minor": 5
}
