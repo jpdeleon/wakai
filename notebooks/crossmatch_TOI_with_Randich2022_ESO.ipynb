{
 "cells": [
  {
   "cell_type": "markdown",
   "id": "cd544b1c-7b4a-439b-8cfa-86098c20a20b",
   "metadata": {},
   "source": [
    "https://ui.adsabs.harvard.edu/abs/2022A%26A...666A.121R/abstract"
   ]
  },
  {
   "cell_type": "code",
   "execution_count": 1,
   "id": "f7a75e69-0dde-44eb-aec1-5d87029c56a8",
   "metadata": {},
   "outputs": [
    {
     "name": "stdout",
     "output_type": "stream",
     "text": [
      "/ut3/jerome/miniconda3/envs/wakai/bin/python\n"
     ]
    }
   ],
   "source": [
    "import sys\n",
    "\n",
    "!which {sys.executable}"
   ]
  },
  {
   "cell_type": "raw",
   "id": "5bf615f9-86e2-402b-a0f5-1a83576734d2",
   "metadata": {
    "ExecuteTime": {
     "end_time": "2023-08-02T09:20:20.655647Z",
     "start_time": "2023-08-02T09:20:20.206769Z"
    }
   },
   "source": [
    "%load init_ipynb"
   ]
  },
  {
   "cell_type": "code",
   "execution_count": 2,
   "id": "87cd30ff-033f-48a4-8e8a-226b71d4fe7d",
   "metadata": {},
   "outputs": [],
   "source": [
    "import sys\n",
    "sys.path.insert(0, '../code')"
   ]
  },
  {
   "cell_type": "code",
   "execution_count": 5,
   "id": "c2057190-26d7-4798-80ba-dbdbb8b24f54",
   "metadata": {},
   "outputs": [],
   "source": [
    "from catalog import VIZIER_KEYS_LiEW_CATALOG\n",
    "\n",
    "#add custom catalog for Lithium\n",
    "VIZIER_KEYS_LiEW_CATALOG['Randich2022'] = \"J/A+A/666/A121\""
   ]
  },
  {
   "cell_type": "code",
   "execution_count": 6,
   "id": "f4600b3b-9453-49bc-92fd-75521d2300e0",
   "metadata": {},
   "outputs": [
    {
     "name": "stdout",
     "output_type": "stream",
     "text": [
      "Data url: https://vizier.u-strasbg.fr/viz-bin/VizieR?-source=J/A+A/666/A121\n",
      "Downloading all tables in J/A+A/666/A121 from vizier.\n",
      "{'J/A+A/666/A121/tableb5': 'Radial velocity precision'}\n"
     ]
    }
   ],
   "source": [
    "from catalog import CatalogDownloader\n",
    "\n",
    "cd = CatalogDownloader(catalog_name=\"Randich2022\", catalog_type=\"liew\")\n",
    "tabs = cd.get_tables_from_vizier(row_limit=-1)"
   ]
  },
  {
   "cell_type": "code",
   "execution_count": 7,
   "id": "ab27ee93-15d8-4b5f-a683-cbc53c35a34f",
   "metadata": {},
   "outputs": [
    {
     "data": {
      "text/html": [
       "<div>\n",
       "<style scoped>\n",
       "    .dataframe tbody tr th:only-of-type {\n",
       "        vertical-align: middle;\n",
       "    }\n",
       "\n",
       "    .dataframe tbody tr th {\n",
       "        vertical-align: top;\n",
       "    }\n",
       "\n",
       "    .dataframe thead th {\n",
       "        text-align: right;\n",
       "    }\n",
       "</style>\n",
       "<table border=\"1\" class=\"dataframe\">\n",
       "  <thead>\n",
       "    <tr style=\"text-align: right;\">\n",
       "      <th></th>\n",
       "      <th>CName</th>\n",
       "      <th>Cluster</th>\n",
       "      <th>Tprec</th>\n",
       "      <th>Res</th>\n",
       "      <th>SNR</th>\n",
       "      <th>RV</th>\n",
       "      <th>Vsini</th>\n",
       "      <th>Nstack</th>\n",
       "      <th>A</th>\n",
       "      <th>B</th>\n",
       "      <th>C</th>\n",
       "      <th>RVprec</th>\n",
       "      <th>Simbad</th>\n",
       "      <th>_RA</th>\n",
       "      <th>_DE</th>\n",
       "    </tr>\n",
       "  </thead>\n",
       "  <tbody>\n",
       "    <tr>\n",
       "      <th>0</th>\n",
       "      <td>05224842+0140439</td>\n",
       "      <td>25_Ori</td>\n",
       "      <td>3497.4272</td>\n",
       "      <td>17005.3</td>\n",
       "      <td>21.5143</td>\n",
       "      <td>20.80712</td>\n",
       "      <td>16.700001</td>\n",
       "      <td>2</td>\n",
       "      <td>0.679322</td>\n",
       "      <td>3.780133</td>\n",
       "      <td>15.789194</td>\n",
       "      <td>0.74611</td>\n",
       "      <td>Simbad</td>\n",
       "      <td>80.70175</td>\n",
       "      <td>1.67886</td>\n",
       "    </tr>\n",
       "    <tr>\n",
       "      <th>1</th>\n",
       "      <td>05225186+0145132</td>\n",
       "      <td>25_Ori</td>\n",
       "      <td>3524.4020</td>\n",
       "      <td>17005.3</td>\n",
       "      <td>14.0075</td>\n",
       "      <td>21.18330</td>\n",
       "      <td>21.000000</td>\n",
       "      <td>2</td>\n",
       "      <td>1.038021</td>\n",
       "      <td>3.781283</td>\n",
       "      <td>15.789194</td>\n",
       "      <td>1.18880</td>\n",
       "      <td>Simbad</td>\n",
       "      <td>80.71608</td>\n",
       "      <td>1.75367</td>\n",
       "    </tr>\n",
       "    <tr>\n",
       "      <th>2</th>\n",
       "      <td>05225609+0136252</td>\n",
       "      <td>25_Ori</td>\n",
       "      <td>3648.4617</td>\n",
       "      <td>17005.3</td>\n",
       "      <td>30.0683</td>\n",
       "      <td>20.03120</td>\n",
       "      <td>21.500000</td>\n",
       "      <td>2</td>\n",
       "      <td>0.488910</td>\n",
       "      <td>3.788501</td>\n",
       "      <td>15.789194</td>\n",
       "      <td>0.56177</td>\n",
       "      <td>Simbad</td>\n",
       "      <td>80.73371</td>\n",
       "      <td>1.60700</td>\n",
       "    </tr>\n",
       "    <tr>\n",
       "      <th>3</th>\n",
       "      <td>05225678+0147404</td>\n",
       "      <td>25_Ori</td>\n",
       "      <td>3647.5513</td>\n",
       "      <td>17005.3</td>\n",
       "      <td>40.8886</td>\n",
       "      <td>15.39795</td>\n",
       "      <td>14.100000</td>\n",
       "      <td>2</td>\n",
       "      <td>0.362176</td>\n",
       "      <td>3.788434</td>\n",
       "      <td>15.789194</td>\n",
       "      <td>0.38969</td>\n",
       "      <td>Simbad</td>\n",
       "      <td>80.73658</td>\n",
       "      <td>1.79456</td>\n",
       "    </tr>\n",
       "    <tr>\n",
       "      <th>4</th>\n",
       "      <td>05225889+0145437</td>\n",
       "      <td>25_Ori</td>\n",
       "      <td>3595.8733</td>\n",
       "      <td>17005.3</td>\n",
       "      <td>31.2032</td>\n",
       "      <td>20.90656</td>\n",
       "      <td>12.100000</td>\n",
       "      <td>2</td>\n",
       "      <td>0.471491</td>\n",
       "      <td>3.785004</td>\n",
       "      <td>15.789194</td>\n",
       "      <td>0.50173</td>\n",
       "      <td>Simbad</td>\n",
       "      <td>80.74537</td>\n",
       "      <td>1.76214</td>\n",
       "    </tr>\n",
       "  </tbody>\n",
       "</table>\n",
       "</div>"
      ],
      "text/plain": [
       "              CName Cluster      Tprec      Res      SNR        RV      Vsini  \\\n",
       "0  05224842+0140439  25_Ori  3497.4272  17005.3  21.5143  20.80712  16.700001   \n",
       "1  05225186+0145132  25_Ori  3524.4020  17005.3  14.0075  21.18330  21.000000   \n",
       "2  05225609+0136252  25_Ori  3648.4617  17005.3  30.0683  20.03120  21.500000   \n",
       "3  05225678+0147404  25_Ori  3647.5513  17005.3  40.8886  15.39795  14.100000   \n",
       "4  05225889+0145437  25_Ori  3595.8733  17005.3  31.2032  20.90656  12.100000   \n",
       "\n",
       "   Nstack         A         B          C   RVprec  Simbad       _RA      _DE  \n",
       "0       2  0.679322  3.780133  15.789194  0.74611  Simbad  80.70175  1.67886  \n",
       "1       2  1.038021  3.781283  15.789194  1.18880  Simbad  80.71608  1.75367  \n",
       "2       2  0.488910  3.788501  15.789194  0.56177  Simbad  80.73371  1.60700  \n",
       "3       2  0.362176  3.788434  15.789194  0.38969  Simbad  80.73658  1.79456  \n",
       "4       2  0.471491  3.785004  15.789194  0.50173  Simbad  80.74537  1.76214  "
      ]
     },
     "execution_count": 7,
     "metadata": {},
     "output_type": "execute_result"
    }
   ],
   "source": [
    "import pandas as pd\n",
    "\n",
    "df = tabs[0].to_pandas()\n",
    "df.head()"
   ]
  },
  {
   "cell_type": "code",
   "execution_count": 17,
   "id": "ebc3e61b-3698-4d91-98fc-585cd5e8c610",
   "metadata": {},
   "outputs": [
    {
     "data": {
      "text/plain": [
       "(123169, 7)"
      ]
     },
     "execution_count": 17,
     "metadata": {},
     "output_type": "execute_result"
    }
   ],
   "source": [
    "ax = df.plot.scatter(x='')"
   ]
  }
 ],
 "metadata": {
  "kernelspec": {
   "display_name": "wakai",
   "language": "python",
   "name": "wakai"
  },
  "language_info": {
   "codemirror_mode": {
    "name": "ipython",
    "version": 3
   },
   "file_extension": ".py",
   "mimetype": "text/x-python",
   "name": "python",
   "nbconvert_exporter": "python",
   "pygments_lexer": "ipython3",
   "version": "3.12.4"
  },
  "toc": {
   "base_numbering": 1,
   "nav_menu": {},
   "number_sections": true,
   "sideBar": true,
   "skip_h1_title": false,
   "title_cell": "Table of Contents",
   "title_sidebar": "Contents",
   "toc_cell": false,
   "toc_position": {},
   "toc_section_display": true,
   "toc_window_display": false
  }
 },
 "nbformat": 4,
 "nbformat_minor": 5
}
