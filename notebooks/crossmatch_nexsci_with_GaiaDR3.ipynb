{
 "cells": [
  {
   "cell_type": "code",
   "execution_count": 1,
   "id": "f7a75e69-0dde-44eb-aec1-5d87029c56a8",
   "metadata": {},
   "outputs": [
    {
     "name": "stdout",
     "output_type": "stream",
     "text": [
      "/ut3/jerome/miniconda3/envs/wakai/bin/python\n"
     ]
    }
   ],
   "source": [
    "import sys\n",
    "\n",
    "!which {sys.executable}"
   ]
  },
  {
   "cell_type": "code",
   "execution_count": 2,
   "id": "2a1c4fb8-c666-4d90-b602-4fe48f919025",
   "metadata": {},
   "outputs": [],
   "source": [
    "import sys\n",
    "sys.path.insert(0, '../code')"
   ]
  },
  {
   "cell_type": "markdown",
   "id": "d11d26d4-cebc-47df-b8f4-0e4803757712",
   "metadata": {},
   "source": [
    "# NExSci catalog"
   ]
  },
  {
   "cell_type": "code",
   "execution_count": 4,
   "id": "232fbfc3-f2bb-401c-9621-2214743f9633",
   "metadata": {},
   "outputs": [
    {
     "name": "stdout",
     "output_type": "stream",
     "text": [
      "Column definitions:  https://exoplanetarchive.ipac.caltech.edu/docs/API_PS_columns.html\n",
      "Downloading NExSci ps table...\n"
     ]
    },
    {
     "name": "stderr",
     "output_type": "stream",
     "text": [
      "WARNING: column st_lum has a unit but is kept as a MaskedColumn as an attempt to convert it to Quantity failed with:\n",
      "UnitTypeError(\"MaskedQuantity instances require normal units, not <class 'astropy.units.function.logarithmic.DexUnit'> instances.\") [astropy.table.table]\n",
      "WARNING: column st_lumerr1 has a unit but is kept as a MaskedColumn as an attempt to convert it to Quantity failed with:\n",
      "UnitTypeError(\"MaskedQuantity instances require normal units, not <class 'astropy.units.function.logarithmic.DexUnit'> instances.\") [astropy.table.table]\n",
      "WARNING: column st_lumerr2 has a unit but is kept as a MaskedColumn as an attempt to convert it to Quantity failed with:\n",
      "UnitTypeError(\"MaskedQuantity instances require normal units, not <class 'astropy.units.function.logarithmic.DexUnit'> instances.\") [astropy.table.table]\n",
      "WARNING: column st_logg has a unit but is kept as a MaskedColumn as an attempt to convert it to Quantity failed with:\n",
      "UnitTypeError(\"MaskedQuantity instances require normal units, not <class 'astropy.units.function.logarithmic.DexUnit'> instances.\") [astropy.table.table]\n",
      "WARNING: column st_loggerr1 has a unit but is kept as a MaskedColumn as an attempt to convert it to Quantity failed with:\n",
      "UnitTypeError(\"MaskedQuantity instances require normal units, not <class 'astropy.units.function.logarithmic.DexUnit'> instances.\") [astropy.table.table]\n",
      "WARNING: column st_loggerr2 has a unit but is kept as a MaskedColumn as an attempt to convert it to Quantity failed with:\n",
      "UnitTypeError(\"MaskedQuantity instances require normal units, not <class 'astropy.units.function.logarithmic.DexUnit'> instances.\") [astropy.table.table]\n"
     ]
    },
    {
     "name": "stdout",
     "output_type": "stream",
     "text": [
      "Saved:  ../data/nexsci_ps.csv\n"
     ]
    },
    {
     "data": {
      "text/html": [
       "<div>\n",
       "<style scoped>\n",
       "    .dataframe tbody tr th:only-of-type {\n",
       "        vertical-align: middle;\n",
       "    }\n",
       "\n",
       "    .dataframe tbody tr th {\n",
       "        vertical-align: top;\n",
       "    }\n",
       "\n",
       "    .dataframe thead th {\n",
       "        text-align: right;\n",
       "    }\n",
       "</style>\n",
       "<table border=\"1\" class=\"dataframe\">\n",
       "  <thead>\n",
       "    <tr style=\"text-align: right;\">\n",
       "      <th></th>\n",
       "      <th>pl_name</th>\n",
       "      <th>pl_letter</th>\n",
       "      <th>hostname</th>\n",
       "      <th>hd_name</th>\n",
       "      <th>hip_name</th>\n",
       "      <th>tic_id</th>\n",
       "      <th>gaia_id</th>\n",
       "      <th>default_flag</th>\n",
       "      <th>pl_refname</th>\n",
       "      <th>sy_refname</th>\n",
       "      <th>...</th>\n",
       "      <th>sy_jmagstr</th>\n",
       "      <th>sy_hmag</th>\n",
       "      <th>sy_hmagerr1</th>\n",
       "      <th>sy_hmagerr2</th>\n",
       "      <th>sy_hmagstr</th>\n",
       "      <th>sy_kmag</th>\n",
       "      <th>sy_kmagerr1</th>\n",
       "      <th>sy_kmagerr2</th>\n",
       "      <th>sky_coord.ra</th>\n",
       "      <th>sky_coord.dec</th>\n",
       "    </tr>\n",
       "  </thead>\n",
       "  <tbody>\n",
       "    <tr>\n",
       "      <th>32872</th>\n",
       "      <td>TOI-237 b</td>\n",
       "      <td>b</td>\n",
       "      <td>TOI-237</td>\n",
       "      <td></td>\n",
       "      <td></td>\n",
       "      <td>TIC 305048087</td>\n",
       "      <td>Gaia DR2 2329387852426700800</td>\n",
       "      <td>0</td>\n",
       "      <td>&lt;a refstr=EXOFOP_TESS_TOI href=https://exofop....</td>\n",
       "      <td>&lt;a refstr=STASSUN_ET_AL__2019 href=https://ui....</td>\n",
       "      <td>...</td>\n",
       "      <td>11.740&amp;plusmn;0.021</td>\n",
       "      <td>11.190</td>\n",
       "      <td>0.022</td>\n",
       "      <td>-0.022</td>\n",
       "      <td>11.190&amp;plusmn;0.022</td>\n",
       "      <td>10.896</td>\n",
       "      <td>0.025</td>\n",
       "      <td>-0.025</td>\n",
       "      <td>353.243538</td>\n",
       "      <td>-29.416487</td>\n",
       "    </tr>\n",
       "    <tr>\n",
       "      <th>32873</th>\n",
       "      <td>HD 1397 b</td>\n",
       "      <td>b</td>\n",
       "      <td>HD 1397</td>\n",
       "      <td>HD 1397</td>\n",
       "      <td>HIP 1419</td>\n",
       "      <td>TIC 394137592</td>\n",
       "      <td>Gaia DR2 4707634458245031552</td>\n",
       "      <td>0</td>\n",
       "      <td>&lt;a refstr=EXOFOP_TESS_TOI href=https://exofop....</td>\n",
       "      <td>&lt;a refstr=STASSUN_ET_AL__2019 href=https://ui....</td>\n",
       "      <td>...</td>\n",
       "      <td>6.442&amp;plusmn;0.020</td>\n",
       "      <td>6.090</td>\n",
       "      <td>0.049</td>\n",
       "      <td>-0.049</td>\n",
       "      <td>6.090&amp;plusmn;0.049</td>\n",
       "      <td>5.988</td>\n",
       "      <td>0.018</td>\n",
       "      <td>-0.018</td>\n",
       "      <td>4.447163</td>\n",
       "      <td>-66.358929</td>\n",
       "    </tr>\n",
       "    <tr>\n",
       "      <th>32874</th>\n",
       "      <td>OGLE2-TR-L9 b</td>\n",
       "      <td>b</td>\n",
       "      <td>OGLE2-TR-L9</td>\n",
       "      <td></td>\n",
       "      <td></td>\n",
       "      <td>TIC 466840711</td>\n",
       "      <td>Gaia DR2 5337273743301313536</td>\n",
       "      <td>1</td>\n",
       "      <td>&lt;a refstr=SNELLEN_ET_AL__2009 href=https://ui....</td>\n",
       "      <td>&lt;a refstr=STASSUN_ET_AL__2019 href=https://ui....</td>\n",
       "      <td>...</td>\n",
       "      <td>13.508&amp;plusmn;0.032</td>\n",
       "      <td>13.246</td>\n",
       "      <td>0.035</td>\n",
       "      <td>-0.035</td>\n",
       "      <td>13.246&amp;plusmn;0.035</td>\n",
       "      <td>13.117</td>\n",
       "      <td>0.037</td>\n",
       "      <td>-0.037</td>\n",
       "      <td>166.979879</td>\n",
       "      <td>-61.146250</td>\n",
       "    </tr>\n",
       "    <tr>\n",
       "      <th>32875</th>\n",
       "      <td>CoRoT-12 b</td>\n",
       "      <td>b</td>\n",
       "      <td>CoRoT-12</td>\n",
       "      <td></td>\n",
       "      <td></td>\n",
       "      <td>TIC 280210963</td>\n",
       "      <td>Gaia DR2 3107255598526406912</td>\n",
       "      <td>0</td>\n",
       "      <td>&lt;a refstr=BONOMO_ET_AL__2017 href=https://ui.a...</td>\n",
       "      <td>&lt;a refstr=STASSUN_ET_AL__2019 href=https://ui....</td>\n",
       "      <td>...</td>\n",
       "      <td>14.024&amp;plusmn;0.032</td>\n",
       "      <td>13.630</td>\n",
       "      <td>0.031</td>\n",
       "      <td>-0.031</td>\n",
       "      <td>13.630&amp;plusmn;0.031</td>\n",
       "      <td>13.557</td>\n",
       "      <td>0.042</td>\n",
       "      <td>-0.042</td>\n",
       "      <td>100.765687</td>\n",
       "      <td>-1.296444</td>\n",
       "    </tr>\n",
       "    <tr>\n",
       "      <th>32876</th>\n",
       "      <td>CoRoT-20 b</td>\n",
       "      <td>b</td>\n",
       "      <td>CoRoT-20</td>\n",
       "      <td></td>\n",
       "      <td></td>\n",
       "      <td>TIC 234825296</td>\n",
       "      <td>Gaia DR2 3120122805143587328</td>\n",
       "      <td>0</td>\n",
       "      <td>&lt;a refstr=BONOMO_ET_AL__2017 href=https://ui.a...</td>\n",
       "      <td>&lt;a refstr=STASSUN_ET_AL__2019 href=https://ui....</td>\n",
       "      <td>...</td>\n",
       "      <td>12.991&amp;plusmn;0.026</td>\n",
       "      <td>12.652</td>\n",
       "      <td>0.027</td>\n",
       "      <td>-0.027</td>\n",
       "      <td>12.652&amp;plusmn;0.027</td>\n",
       "      <td>12.513</td>\n",
       "      <td>0.029</td>\n",
       "      <td>-0.029</td>\n",
       "      <td>97.720425</td>\n",
       "      <td>0.226893</td>\n",
       "    </tr>\n",
       "  </tbody>\n",
       "</table>\n",
       "<p>5 rows × 356 columns</p>\n",
       "</div>"
      ],
      "text/plain": [
       "             pl_name pl_letter     hostname  hd_name  hip_name         tic_id  \\\n",
       "32872      TOI-237 b         b      TOI-237                     TIC 305048087   \n",
       "32873      HD 1397 b         b      HD 1397  HD 1397  HIP 1419  TIC 394137592   \n",
       "32874  OGLE2-TR-L9 b         b  OGLE2-TR-L9                     TIC 466840711   \n",
       "32875     CoRoT-12 b         b     CoRoT-12                     TIC 280210963   \n",
       "32876     CoRoT-20 b         b     CoRoT-20                     TIC 234825296   \n",
       "\n",
       "                            gaia_id  default_flag  \\\n",
       "32872  Gaia DR2 2329387852426700800             0   \n",
       "32873  Gaia DR2 4707634458245031552             0   \n",
       "32874  Gaia DR2 5337273743301313536             1   \n",
       "32875  Gaia DR2 3107255598526406912             0   \n",
       "32876  Gaia DR2 3120122805143587328             0   \n",
       "\n",
       "                                              pl_refname  \\\n",
       "32872  <a refstr=EXOFOP_TESS_TOI href=https://exofop....   \n",
       "32873  <a refstr=EXOFOP_TESS_TOI href=https://exofop....   \n",
       "32874  <a refstr=SNELLEN_ET_AL__2009 href=https://ui....   \n",
       "32875  <a refstr=BONOMO_ET_AL__2017 href=https://ui.a...   \n",
       "32876  <a refstr=BONOMO_ET_AL__2017 href=https://ui.a...   \n",
       "\n",
       "                                              sy_refname  ...  \\\n",
       "32872  <a refstr=STASSUN_ET_AL__2019 href=https://ui....  ...   \n",
       "32873  <a refstr=STASSUN_ET_AL__2019 href=https://ui....  ...   \n",
       "32874  <a refstr=STASSUN_ET_AL__2019 href=https://ui....  ...   \n",
       "32875  <a refstr=STASSUN_ET_AL__2019 href=https://ui....  ...   \n",
       "32876  <a refstr=STASSUN_ET_AL__2019 href=https://ui....  ...   \n",
       "\n",
       "                sy_jmagstr  sy_hmag sy_hmagerr1 sy_hmagerr2  \\\n",
       "32872  11.740&plusmn;0.021   11.190       0.022      -0.022   \n",
       "32873   6.442&plusmn;0.020    6.090       0.049      -0.049   \n",
       "32874  13.508&plusmn;0.032   13.246       0.035      -0.035   \n",
       "32875  14.024&plusmn;0.032   13.630       0.031      -0.031   \n",
       "32876  12.991&plusmn;0.026   12.652       0.027      -0.027   \n",
       "\n",
       "                sy_hmagstr sy_kmag sy_kmagerr1 sy_kmagerr2  sky_coord.ra  \\\n",
       "32872  11.190&plusmn;0.022  10.896       0.025      -0.025    353.243538   \n",
       "32873   6.090&plusmn;0.049   5.988       0.018      -0.018      4.447163   \n",
       "32874  13.246&plusmn;0.035  13.117       0.037      -0.037    166.979879   \n",
       "32875  13.630&plusmn;0.031  13.557       0.042      -0.042    100.765687   \n",
       "32876  12.652&plusmn;0.027  12.513       0.029      -0.029     97.720425   \n",
       "\n",
       "      sky_coord.dec  \n",
       "32872    -29.416487  \n",
       "32873    -66.358929  \n",
       "32874    -61.146250  \n",
       "32875     -1.296444  \n",
       "32876      0.226893  \n",
       "\n",
       "[5 rows x 356 columns]"
      ]
     },
     "execution_count": 4,
     "metadata": {},
     "output_type": "execute_result"
    }
   ],
   "source": [
    "from catalog import get_nexsci_data\n",
    "\n",
    "nexsci = get_nexsci_data(clobber=False)\n",
    "nexsci.tail()"
   ]
  },
  {
   "cell_type": "raw",
   "id": "bd683307-0088-4a8c-8793-60fbd68b29f4",
   "metadata": {},
   "source": [
    "nexsci.columns.tolist()"
   ]
  },
  {
   "cell_type": "code",
   "execution_count": 5,
   "id": "3c4f3856-c1ad-47f1-ace9-eb7f1d51e5df",
   "metadata": {},
   "outputs": [
    {
     "data": {
      "text/plain": [
       "(32811, 356)"
      ]
     },
     "execution_count": 5,
     "metadata": {},
     "output_type": "execute_result"
    }
   ],
   "source": [
    "nexsci.shape"
   ]
  },
  {
   "cell_type": "code",
   "execution_count": 6,
   "id": "af1b7e16-0c2c-4511-b3f9-6e2503b0dc98",
   "metadata": {},
   "outputs": [
    {
     "data": {
      "text/plain": [
       "(3244,)"
      ]
     },
     "execution_count": 6,
     "metadata": {},
     "output_type": "execute_result"
    }
   ],
   "source": [
    "nexsci.hostname.unique().shape"
   ]
  },
  {
   "cell_type": "markdown",
   "id": "0c3123a7-1aaa-4df4-abc4-46b9f7021df4",
   "metadata": {},
   "source": [
    "# cross-match nexsci with Gaia DR3 using `astroquery.xmatch`"
   ]
  },
  {
   "cell_type": "code",
   "execution_count": 19,
   "id": "5e349cfc-49c2-4f27-a9b8-f8dff646aff7",
   "metadata": {},
   "outputs": [
    {
     "name": "stdout",
     "output_type": "stream",
     "text": [
      "Could not import regions, which is required for some of the functionalities of this module.\n"
     ]
    },
    {
     "data": {
      "text/html": [
       "<div>\n",
       "<style scoped>\n",
       "    .dataframe tbody tr th:only-of-type {\n",
       "        vertical-align: middle;\n",
       "    }\n",
       "\n",
       "    .dataframe tbody tr th {\n",
       "        vertical-align: top;\n",
       "    }\n",
       "\n",
       "    .dataframe thead th {\n",
       "        text-align: right;\n",
       "    }\n",
       "</style>\n",
       "<table border=\"1\" class=\"dataframe\">\n",
       "  <thead>\n",
       "    <tr style=\"text-align: right;\">\n",
       "      <th></th>\n",
       "      <th>angDist</th>\n",
       "      <th>pl_name</th>\n",
       "      <th>pl_letter</th>\n",
       "      <th>hostname</th>\n",
       "      <th>hd_name</th>\n",
       "      <th>hip_name</th>\n",
       "      <th>tic_id</th>\n",
       "      <th>gaia_id</th>\n",
       "      <th>default_flag</th>\n",
       "      <th>pl_refname</th>\n",
       "      <th>...</th>\n",
       "      <th>B_AG</th>\n",
       "      <th>E(BP-RP)</th>\n",
       "      <th>b_E(BP-RP)</th>\n",
       "      <th>B_E(BP-RP)</th>\n",
       "      <th>Lib</th>\n",
       "      <th>RAJ2000</th>\n",
       "      <th>DEJ2000</th>\n",
       "      <th>e_RAJ2000</th>\n",
       "      <th>e_DEJ2000</th>\n",
       "      <th>RADEcorJ2000</th>\n",
       "    </tr>\n",
       "  </thead>\n",
       "  <tbody>\n",
       "    <tr>\n",
       "      <th>0</th>\n",
       "      <td>0.002697</td>\n",
       "      <td>OGLE-TR-10 b</td>\n",
       "      <td>b</td>\n",
       "      <td>OGLE-TR-10</td>\n",
       "      <td>NaN</td>\n",
       "      <td>NaN</td>\n",
       "      <td>TIC 130150682</td>\n",
       "      <td>Gaia DR2 4056443366649948160</td>\n",
       "      <td>1</td>\n",
       "      <td>&lt;a refstr=TORRES_ET_AL__2008 href=https://ui.a...</td>\n",
       "      <td>...</td>\n",
       "      <td>1.0106</td>\n",
       "      <td>0.5408</td>\n",
       "      <td>0.5354</td>\n",
       "      <td>0.5464</td>\n",
       "      <td>MARCS</td>\n",
       "      <td>267.867747</td>\n",
       "      <td>-29.876453</td>\n",
       "      <td>1.044436</td>\n",
       "      <td>0.677822</td>\n",
       "      <td>0.6647</td>\n",
       "    </tr>\n",
       "    <tr>\n",
       "      <th>1</th>\n",
       "      <td>0.008326</td>\n",
       "      <td>KOI-13 b</td>\n",
       "      <td>b</td>\n",
       "      <td>KOI-13</td>\n",
       "      <td>NaN</td>\n",
       "      <td>NaN</td>\n",
       "      <td>TIC 158324245</td>\n",
       "      <td>Gaia DR2 2130632159134827392</td>\n",
       "      <td>0</td>\n",
       "      <td>&lt;a refstr=BORUCKI_ET_AL__2011 href=https://ui....</td>\n",
       "      <td>...</td>\n",
       "      <td>NaN</td>\n",
       "      <td>NaN</td>\n",
       "      <td>NaN</td>\n",
       "      <td>NaN</td>\n",
       "      <td>NaN</td>\n",
       "      <td>286.971415</td>\n",
       "      <td>46.868312</td>\n",
       "      <td>0.684921</td>\n",
       "      <td>0.797563</td>\n",
       "      <td>0.0435</td>\n",
       "    </tr>\n",
       "    <tr>\n",
       "      <th>2</th>\n",
       "      <td>0.004001</td>\n",
       "      <td>Kepler-44 b</td>\n",
       "      <td>b</td>\n",
       "      <td>Kepler-44</td>\n",
       "      <td>NaN</td>\n",
       "      <td>NaN</td>\n",
       "      <td>TIC 239277658</td>\n",
       "      <td>Gaia DR2 2085222191474854656</td>\n",
       "      <td>0</td>\n",
       "      <td>&lt;a refstr=BONOMO_ET_AL__2011 href=https://ui.a...</td>\n",
       "      <td>...</td>\n",
       "      <td>0.3457</td>\n",
       "      <td>0.1774</td>\n",
       "      <td>0.1709</td>\n",
       "      <td>0.1831</td>\n",
       "      <td>PHOENIX</td>\n",
       "      <td>300.102357</td>\n",
       "      <td>45.762156</td>\n",
       "      <td>0.287152</td>\n",
       "      <td>0.306157</td>\n",
       "      <td>0.0530</td>\n",
       "    </tr>\n",
       "    <tr>\n",
       "      <th>3</th>\n",
       "      <td>0.008326</td>\n",
       "      <td>KOI-13 b</td>\n",
       "      <td>b</td>\n",
       "      <td>KOI-13</td>\n",
       "      <td>NaN</td>\n",
       "      <td>NaN</td>\n",
       "      <td>TIC 158324245</td>\n",
       "      <td>Gaia DR2 2130632159134827392</td>\n",
       "      <td>0</td>\n",
       "      <td>&lt;a refstr=BATALHA_ET_AL__2013 href=https://ui....</td>\n",
       "      <td>...</td>\n",
       "      <td>NaN</td>\n",
       "      <td>NaN</td>\n",
       "      <td>NaN</td>\n",
       "      <td>NaN</td>\n",
       "      <td>NaN</td>\n",
       "      <td>286.971415</td>\n",
       "      <td>46.868312</td>\n",
       "      <td>0.684921</td>\n",
       "      <td>0.797563</td>\n",
       "      <td>0.0435</td>\n",
       "    </tr>\n",
       "    <tr>\n",
       "      <th>4</th>\n",
       "      <td>0.015032</td>\n",
       "      <td>WASP-62 b</td>\n",
       "      <td>b</td>\n",
       "      <td>WASP-62</td>\n",
       "      <td>NaN</td>\n",
       "      <td>NaN</td>\n",
       "      <td>TIC 149603524</td>\n",
       "      <td>Gaia DR2 4756649415309914240</td>\n",
       "      <td>0</td>\n",
       "      <td>&lt;a refstr=HELLIER_ET_AL__2012 href=https://ui....</td>\n",
       "      <td>...</td>\n",
       "      <td>0.0023</td>\n",
       "      <td>0.0005</td>\n",
       "      <td>0.0001</td>\n",
       "      <td>0.0013</td>\n",
       "      <td>MARCS</td>\n",
       "      <td>87.139972</td>\n",
       "      <td>-63.988441</td>\n",
       "      <td>0.270854</td>\n",
       "      <td>0.243980</td>\n",
       "      <td>-0.2165</td>\n",
       "    </tr>\n",
       "  </tbody>\n",
       "</table>\n",
       "<p>5 rows × 494 columns</p>\n",
       "</div>"
      ],
      "text/plain": [
       "    angDist       pl_name pl_letter    hostname hd_name hip_name  \\\n",
       "0  0.002697  OGLE-TR-10 b         b  OGLE-TR-10     NaN      NaN   \n",
       "1  0.008326      KOI-13 b         b      KOI-13     NaN      NaN   \n",
       "2  0.004001   Kepler-44 b         b   Kepler-44     NaN      NaN   \n",
       "3  0.008326      KOI-13 b         b      KOI-13     NaN      NaN   \n",
       "4  0.015032     WASP-62 b         b     WASP-62     NaN      NaN   \n",
       "\n",
       "          tic_id                       gaia_id  default_flag  \\\n",
       "0  TIC 130150682  Gaia DR2 4056443366649948160             1   \n",
       "1  TIC 158324245  Gaia DR2 2130632159134827392             0   \n",
       "2  TIC 239277658  Gaia DR2 2085222191474854656             0   \n",
       "3  TIC 158324245  Gaia DR2 2130632159134827392             0   \n",
       "4  TIC 149603524  Gaia DR2 4756649415309914240             0   \n",
       "\n",
       "                                          pl_refname  ...    B_AG E(BP-RP)  \\\n",
       "0  <a refstr=TORRES_ET_AL__2008 href=https://ui.a...  ...  1.0106   0.5408   \n",
       "1  <a refstr=BORUCKI_ET_AL__2011 href=https://ui....  ...     NaN      NaN   \n",
       "2  <a refstr=BONOMO_ET_AL__2011 href=https://ui.a...  ...  0.3457   0.1774   \n",
       "3  <a refstr=BATALHA_ET_AL__2013 href=https://ui....  ...     NaN      NaN   \n",
       "4  <a refstr=HELLIER_ET_AL__2012 href=https://ui....  ...  0.0023   0.0005   \n",
       "\n",
       "   b_E(BP-RP) B_E(BP-RP)      Lib     RAJ2000    DEJ2000 e_RAJ2000 e_DEJ2000  \\\n",
       "0      0.5354     0.5464    MARCS  267.867747 -29.876453  1.044436  0.677822   \n",
       "1         NaN        NaN      NaN  286.971415  46.868312  0.684921  0.797563   \n",
       "2      0.1709     0.1831  PHOENIX  300.102357  45.762156  0.287152  0.306157   \n",
       "3         NaN        NaN      NaN  286.971415  46.868312  0.684921  0.797563   \n",
       "4      0.0001     0.0013    MARCS   87.139972 -63.988441  0.270854  0.243980   \n",
       "\n",
       "   RADEcorJ2000  \n",
       "0        0.6647  \n",
       "1        0.0435  \n",
       "2        0.0530  \n",
       "3        0.0435  \n",
       "4       -0.2165  \n",
       "\n",
       "[5 rows x 494 columns]"
      ]
     },
     "execution_count": 19,
     "metadata": {},
     "output_type": "execute_result"
    }
   ],
   "source": [
    "import astropy.units as u\n",
    "from astroquery.xmatch import XMatch\n",
    "import pandas as pd\n",
    "\n",
    "gaia_table = XMatch.query(\n",
    "    cat1=open('../data/nexsci_ps.csv'),\n",
    "    cat2=\"vizier:I/355/gaiadr3\",  # The Vizier identifier for Gaia DR3\n",
    "    max_distance=1 * u.arcsec,    # Set the maximum matching radius\n",
    "    colRA1=\"ra\",  # Column name for Right Ascension in TIC results\n",
    "    colDec1=\"dec\" # Column name for Declination in TIC results\n",
    ")\n",
    "gaia_df = gaia_table.to_pandas()\n",
    "\n",
    "# results to 6237 matches\n",
    "matches = gaia_df.copy()\n",
    "\n",
    "# Apply magnitude filtering criteria\n",
    "# For main-sequence stars, the difference between TESS T and Gaia G is around 0–0.5 magnitudes\n",
    "# Redder stars might have T - G values closer to 1–2 magnitudes.\n",
    "# For giants or highly reddened stars, the difference could be larger.\n",
    "if False:\n",
    "    # results to 5971 matches\n",
    "    matches = []\n",
    "    for i, row in gaia_df.iterrows():\n",
    "        teff=row['st_teff']\n",
    "        if teff<3500:\n",
    "            magnitude_threshold = 2\n",
    "        elif (teff>3500) and (teff<6000):\n",
    "            magnitude_threshold = 1\n",
    "        else:\n",
    "            magnitude_threshold = 1.5\n",
    "        if abs(row['Gmag'] - row['TESS Mag']) < magnitude_threshold:\n",
    "            matches.append(row)\n",
    "    matches = pd.concat(matches, axis=1).T\n",
    "if False:\n",
    "    # results to 5700 matches\n",
    "    magnitude_threshold = 1\n",
    "    matches = gaia_df[abs(gaia_df['Gmag'] - gaia_df['sy_tmag']) < magnitude_threshold]\n",
    "if False:\n",
    "    # results to 4878 matches\n",
    "    teff_threshold = 1000\n",
    "    matches = gaia_df[abs(gaia_df['Teff'] - gaia_df['st_teff']) < teff_threshold]\n",
    "matches.head()"
   ]
  },
  {
   "cell_type": "code",
   "execution_count": 22,
   "id": "da97ddc8-b185-4297-9004-b511c2a76c6c",
   "metadata": {},
   "outputs": [
    {
     "data": {
      "text/plain": [
       "(33088, 494)"
      ]
     },
     "execution_count": 22,
     "metadata": {},
     "output_type": "execute_result"
    }
   ],
   "source": [
    "matches.shape"
   ]
  },
  {
   "cell_type": "code",
   "execution_count": 23,
   "id": "8dbe40e7-7112-41a7-8533-ce90ad2d8c52",
   "metadata": {},
   "outputs": [
    {
     "data": {
      "text/plain": [
       "(3242,)"
      ]
     },
     "execution_count": 23,
     "metadata": {},
     "output_type": "execute_result"
    }
   ],
   "source": [
    "matches.hostname.unique().shape"
   ]
  },
  {
   "cell_type": "code",
   "execution_count": 24,
   "id": "761ae181-5d77-4e3e-be55-c1fd9b2f6e56",
   "metadata": {},
   "outputs": [],
   "source": [
    "matches['GaiaDR3'] = matches['DR3Name'].apply(lambda x: int(x.split()[-1]))\n",
    "matches.to_csv('../data/nexsci_GaiaDR3_xmatch.csv', index=False)"
   ]
  },
  {
   "cell_type": "code",
   "execution_count": 25,
   "id": "cb1281f7-6954-4339-bc2f-aa9dac77458e",
   "metadata": {},
   "outputs": [
    {
     "data": {
      "text/plain": [
       "(10, 356)"
      ]
     },
     "execution_count": 25,
     "metadata": {},
     "output_type": "execute_result"
    }
   ],
   "source": [
    "idx = nexsci.hostname.isin(matches.hostname.unique())\n",
    "nexsci[~idx].shape"
   ]
  },
  {
   "cell_type": "code",
   "execution_count": 26,
   "id": "921a166c-915a-4d77-996a-8fa609296fc8",
   "metadata": {},
   "outputs": [],
   "source": [
    "nexsci[~idx].to_csv('../data/nexsci_GaiaDR3_xmatch_missing.csv', index=False)"
   ]
  },
  {
   "cell_type": "raw",
   "id": "9cada348-79ce-4e81-99f0-6a35daf25ec3",
   "metadata": {},
   "source": [
    "import pandas as pd\n",
    "\n",
    "matches = pd.read_csv('../data/nexsci_GaiaDR3_xmatch.csv')\n",
    "matches.head()"
   ]
  }
 ],
 "metadata": {
  "kernelspec": {
   "display_name": "wakai",
   "language": "python",
   "name": "wakai"
  },
  "language_info": {
   "codemirror_mode": {
    "name": "ipython",
    "version": 3
   },
   "file_extension": ".py",
   "mimetype": "text/x-python",
   "name": "python",
   "nbconvert_exporter": "python",
   "pygments_lexer": "ipython3",
   "version": "3.12.4"
  },
  "toc": {
   "base_numbering": 1,
   "nav_menu": {},
   "number_sections": true,
   "sideBar": true,
   "skip_h1_title": false,
   "title_cell": "Table of Contents",
   "title_sidebar": "Contents",
   "toc_cell": false,
   "toc_position": {},
   "toc_section_display": true,
   "toc_window_display": false
  }
 },
 "nbformat": 4,
 "nbformat_minor": 5
}
