{
 "cells": [
  {
   "cell_type": "markdown",
   "metadata": {},
   "source": [
    "https://www.astroexplorer.org/details/ajac8154f13"
   ]
  },
  {
   "cell_type": "raw",
   "metadata": {
    "ExecuteTime": {
     "end_time": "2023-05-16T23:22:01.003470Z",
     "start_time": "2023-05-16T23:21:59.190990Z"
    }
   },
   "source": [
    "from collections import OrderedDict"
   ]
  },
  {
   "cell_type": "code",
   "execution_count": 1,
   "metadata": {
    "ExecuteTime": {
     "end_time": "2023-06-14T03:24:29.472867Z",
     "start_time": "2023-06-14T03:24:28.079710Z"
    }
   },
   "outputs": [
    {
     "data": {
      "text/html": [
       "<div>\n",
       "<style scoped>\n",
       "    .dataframe tbody tr th:only-of-type {\n",
       "        vertical-align: middle;\n",
       "    }\n",
       "\n",
       "    .dataframe tbody tr th {\n",
       "        vertical-align: top;\n",
       "    }\n",
       "\n",
       "    .dataframe thead th {\n",
       "        text-align: right;\n",
       "    }\n",
       "</style>\n",
       "<table border=\"1\" class=\"dataframe\">\n",
       "  <thead>\n",
       "    <tr style=\"text-align: right;\">\n",
       "      <th></th>\n",
       "      <th>pl_name</th>\n",
       "      <th>pl_letter</th>\n",
       "      <th>hostname</th>\n",
       "      <th>hd_name</th>\n",
       "      <th>hip_name</th>\n",
       "      <th>tic_id</th>\n",
       "      <th>disc_pubdate</th>\n",
       "      <th>disc_year</th>\n",
       "      <th>discoverymethod</th>\n",
       "      <th>disc_locale</th>\n",
       "      <th>...</th>\n",
       "      <th>sy_pmra</th>\n",
       "      <th>sy_pmraerr1</th>\n",
       "      <th>sy_pmraerr2</th>\n",
       "      <th>sy_pmrastr</th>\n",
       "      <th>x</th>\n",
       "      <th>y</th>\n",
       "      <th>z</th>\n",
       "      <th>htm20</th>\n",
       "      <th>sky_coord.ra</th>\n",
       "      <th>sky_coord.dec</th>\n",
       "    </tr>\n",
       "    <tr>\n",
       "      <th>index</th>\n",
       "      <th></th>\n",
       "      <th></th>\n",
       "      <th></th>\n",
       "      <th></th>\n",
       "      <th></th>\n",
       "      <th></th>\n",
       "      <th></th>\n",
       "      <th></th>\n",
       "      <th></th>\n",
       "      <th></th>\n",
       "      <th></th>\n",
       "      <th></th>\n",
       "      <th></th>\n",
       "      <th></th>\n",
       "      <th></th>\n",
       "      <th></th>\n",
       "      <th></th>\n",
       "      <th></th>\n",
       "      <th></th>\n",
       "      <th></th>\n",
       "      <th></th>\n",
       "    </tr>\n",
       "  </thead>\n",
       "  <tbody>\n",
       "    <tr>\n",
       "      <th>0</th>\n",
       "      <td>Kepler-276 c</td>\n",
       "      <td>c</td>\n",
       "      <td>Kepler-276</td>\n",
       "      <td>NaN</td>\n",
       "      <td>NaN</td>\n",
       "      <td>TIC 138213510</td>\n",
       "      <td>2014-02</td>\n",
       "      <td>2013</td>\n",
       "      <td>Transit</td>\n",
       "      <td>Space</td>\n",
       "      <td>...</td>\n",
       "      <td>7.99553</td>\n",
       "      <td>0.051581</td>\n",
       "      <td>-0.051581</td>\n",
       "      <td>7.9955300&amp;plusmn;0.0515805</td>\n",
       "      <td>0.310575</td>\n",
       "      <td>-0.711954</td>\n",
       "      <td>0.629813</td>\n",
       "      <td>1302657699</td>\n",
       "      <td>293.568197</td>\n",
       "      <td>39.036312</td>\n",
       "    </tr>\n",
       "    <tr>\n",
       "      <th>1</th>\n",
       "      <td>Kepler-829 b</td>\n",
       "      <td>b</td>\n",
       "      <td>Kepler-829</td>\n",
       "      <td>NaN</td>\n",
       "      <td>NaN</td>\n",
       "      <td>TIC 123451768</td>\n",
       "      <td>2016-05</td>\n",
       "      <td>2016</td>\n",
       "      <td>Transit</td>\n",
       "      <td>Space</td>\n",
       "      <td>...</td>\n",
       "      <td>7.93777</td>\n",
       "      <td>0.040833</td>\n",
       "      <td>-0.040833</td>\n",
       "      <td>7.9377700&amp;plusmn;0.0408326</td>\n",
       "      <td>0.157566</td>\n",
       "      <td>-0.720680</td>\n",
       "      <td>0.675124</td>\n",
       "      <td>-792260935</td>\n",
       "      <td>282.332831</td>\n",
       "      <td>42.463813</td>\n",
       "    </tr>\n",
       "    <tr>\n",
       "      <th>2</th>\n",
       "      <td>K2-283 b</td>\n",
       "      <td>b</td>\n",
       "      <td>K2-283</td>\n",
       "      <td>NaN</td>\n",
       "      <td>NaN</td>\n",
       "      <td>TIC 266017624</td>\n",
       "      <td>2018-12</td>\n",
       "      <td>2018</td>\n",
       "      <td>Transit</td>\n",
       "      <td>Space</td>\n",
       "      <td>...</td>\n",
       "      <td>-10.97340</td>\n",
       "      <td>0.053624</td>\n",
       "      <td>-0.053624</td>\n",
       "      <td>-10.9734000&amp;plusmn;0.0536244</td>\n",
       "      <td>0.959702</td>\n",
       "      <td>0.224997</td>\n",
       "      <td>0.168368</td>\n",
       "      <td>609813555</td>\n",
       "      <td>13.194368</td>\n",
       "      <td>9.692918</td>\n",
       "    </tr>\n",
       "    <tr>\n",
       "      <th>3</th>\n",
       "      <td>Kepler-477 b</td>\n",
       "      <td>b</td>\n",
       "      <td>Kepler-477</td>\n",
       "      <td>NaN</td>\n",
       "      <td>NaN</td>\n",
       "      <td>TIC 158633329</td>\n",
       "      <td>2016-05</td>\n",
       "      <td>2016</td>\n",
       "      <td>Transit</td>\n",
       "      <td>Space</td>\n",
       "      <td>...</td>\n",
       "      <td>-26.00000</td>\n",
       "      <td>NaN</td>\n",
       "      <td>NaN</td>\n",
       "      <td>-26.0</td>\n",
       "      <td>0.229185</td>\n",
       "      <td>-0.702544</td>\n",
       "      <td>0.673726</td>\n",
       "      <td>-1968935374</td>\n",
       "      <td>288.067445</td>\n",
       "      <td>42.355305</td>\n",
       "    </tr>\n",
       "    <tr>\n",
       "      <th>4</th>\n",
       "      <td>TOI-1260 c</td>\n",
       "      <td>c</td>\n",
       "      <td>TOI-1260</td>\n",
       "      <td>NaN</td>\n",
       "      <td>NaN</td>\n",
       "      <td>TIC 355867695</td>\n",
       "      <td>2021-08</td>\n",
       "      <td>2021</td>\n",
       "      <td>Transit</td>\n",
       "      <td>Space</td>\n",
       "      <td>...</td>\n",
       "      <td>-177.23600</td>\n",
       "      <td>0.036921</td>\n",
       "      <td>-0.036921</td>\n",
       "      <td>-177.2360000&amp;plusmn;0.0369214</td>\n",
       "      <td>-0.376942</td>\n",
       "      <td>0.158885</td>\n",
       "      <td>0.912507</td>\n",
       "      <td>-454174731</td>\n",
       "      <td>157.144071</td>\n",
       "      <td>65.854199</td>\n",
       "    </tr>\n",
       "  </tbody>\n",
       "</table>\n",
       "<p>5 rows × 375 columns</p>\n",
       "</div>"
      ],
      "text/plain": [
       "            pl_name pl_letter    hostname hd_name hip_name         tic_id  \\\n",
       "index                                                                       \n",
       "0      Kepler-276 c         c  Kepler-276     NaN      NaN  TIC 138213510   \n",
       "1      Kepler-829 b         b  Kepler-829     NaN      NaN  TIC 123451768   \n",
       "2          K2-283 b         b      K2-283     NaN      NaN  TIC 266017624   \n",
       "3      Kepler-477 b         b  Kepler-477     NaN      NaN  TIC 158633329   \n",
       "4        TOI-1260 c         c    TOI-1260     NaN      NaN  TIC 355867695   \n",
       "\n",
       "      disc_pubdate  disc_year discoverymethod disc_locale  ...    sy_pmra  \\\n",
       "index                                                      ...              \n",
       "0          2014-02       2013         Transit       Space  ...    7.99553   \n",
       "1          2016-05       2016         Transit       Space  ...    7.93777   \n",
       "2          2018-12       2018         Transit       Space  ...  -10.97340   \n",
       "3          2016-05       2016         Transit       Space  ...  -26.00000   \n",
       "4          2021-08       2021         Transit       Space  ... -177.23600   \n",
       "\n",
       "      sy_pmraerr1 sy_pmraerr2                     sy_pmrastr         x  \\\n",
       "index                                                                    \n",
       "0        0.051581   -0.051581     7.9955300&plusmn;0.0515805  0.310575   \n",
       "1        0.040833   -0.040833     7.9377700&plusmn;0.0408326  0.157566   \n",
       "2        0.053624   -0.053624   -10.9734000&plusmn;0.0536244  0.959702   \n",
       "3             NaN         NaN                          -26.0  0.229185   \n",
       "4        0.036921   -0.036921  -177.2360000&plusmn;0.0369214 -0.376942   \n",
       "\n",
       "              y         z       htm20  sky_coord.ra  sky_coord.dec  \n",
       "index                                                               \n",
       "0     -0.711954  0.629813  1302657699    293.568197      39.036312  \n",
       "1     -0.720680  0.675124  -792260935    282.332831      42.463813  \n",
       "2      0.224997  0.168368   609813555     13.194368       9.692918  \n",
       "3     -0.702544  0.673726 -1968935374    288.067445      42.355305  \n",
       "4      0.158885  0.912507  -454174731    157.144071      65.854199  \n",
       "\n",
       "[5 rows x 375 columns]"
      ]
     },
     "execution_count": 1,
     "metadata": {},
     "output_type": "execute_result"
    }
   ],
   "source": [
    "from astroquery.ipac.nexsci.nasa_exoplanet_archive import NasaExoplanetArchive\n",
    "import pandas as pd\n",
    "\n",
    "redownload = False\n",
    "\n",
    "fp = '../data/nexsci_data.csv'\n",
    "if redownload:\n",
    "    #pstable combines data from the Confirmed Planets and Extended Planet Parameters tables\n",
    "    tab = NasaExoplanetArchive.query_criteria(table=\"pscomppars\", \n",
    "                                             where=\"discoverymethod like 'Transit'\"\n",
    "                                            ) \n",
    "    df = tab.to_pandas()    \n",
    "    df.to_csv(fp, index=True)\n",
    "else:\n",
    "    df = pd.read_csv(fp, index_col=0)\n",
    "    df.index.name = 'index'\n",
    "df.head()"
   ]
  },
  {
   "cell_type": "code",
   "execution_count": 2,
   "metadata": {
    "ExecuteTime": {
     "end_time": "2023-06-14T03:24:30.153273Z",
     "start_time": "2023-06-14T03:24:30.088803Z"
    }
   },
   "outputs": [],
   "source": [
    "import astropy.units as u\n",
    "\n",
    "df['pl_rade'] = df['pl_radj']*u.Rjup.to(u.Rearth)\n",
    "transit = df.query(\"discoverymethod=='Transit'\")\n",
    "\n",
    "idx = (transit.pl_orbper>0) & (transit.pl_rade>0) & (transit.st_mass>0)\n",
    "transit = transit[idx]"
   ]
  },
  {
   "cell_type": "markdown",
   "metadata": {},
   "source": [
    "## age"
   ]
  },
  {
   "cell_type": "code",
   "execution_count": 11,
   "metadata": {
    "ExecuteTime": {
     "end_time": "2023-06-14T03:28:23.302234Z",
     "start_time": "2023-06-14T03:28:22.424509Z"
    }
   },
   "outputs": [],
   "source": [
    "import pandas as pd\n",
    "\n",
    "distance = 500\n",
    "\n",
    "fp = \"../data/young_validated_planets_TOIs2.xlsx\"\n",
    "hosts = pd.read_excel(fp, sheet_name='validated_hosts', skiprows=[1]).dropna(axis=0, how='all')\n",
    "hosts = hosts[hosts.distance<distance]\n",
    "planets = pd.read_excel(fp, sheet_name='validated_planets', skiprows=[1]).dropna(axis=0, how='all')"
   ]
  },
  {
   "cell_type": "code",
   "execution_count": 12,
   "metadata": {
    "ExecuteTime": {
     "end_time": "2023-06-14T03:28:24.158405Z",
     "start_time": "2023-06-14T03:28:24.147601Z"
    }
   },
   "outputs": [
    {
     "name": "stderr",
     "output_type": "stream",
     "text": [
      "/tmp/ipykernel_2850/1037459184.py:1: FutureWarning: Columnar iteration over characters will be deprecated in future releases.\n",
      "  hosts['Age_lower'], hosts['Age_upper'] = hosts['Age'].apply(lambda x: str(x).split('-')).str\n"
     ]
    }
   ],
   "source": [
    "hosts['Age_lower'], hosts['Age_upper'] = hosts['Age'].apply(lambda x: str(x).split('-')).str\n",
    "hosts['Age_lower'] = hosts['Age_lower'].astype(float)\n",
    "hosts['Age_upper'] = hosts['Age_upper'].astype(float)"
   ]
  },
  {
   "cell_type": "code",
   "execution_count": 13,
   "metadata": {
    "ExecuteTime": {
     "end_time": "2023-06-14T03:28:24.590943Z",
     "start_time": "2023-06-14T03:28:24.579293Z"
    }
   },
   "outputs": [
    {
     "data": {
      "text/plain": [
       "['Solarize_Light2', '_classic_test_patch', 'bmh', 'classic', 'dark_background']"
      ]
     },
     "execution_count": 13,
     "metadata": {},
     "output_type": "execute_result"
    }
   ],
   "source": [
    "import matplotlib.pyplot as pl\n",
    "pl.style.available[:5]"
   ]
  },
  {
   "cell_type": "code",
   "execution_count": 14,
   "metadata": {
    "ExecuteTime": {
     "end_time": "2023-06-14T03:28:34.551045Z",
     "start_time": "2023-06-14T03:28:31.684740Z"
    }
   },
   "outputs": [
    {
     "data": {
      "image/png": "[encoded data removed]",
      "text/plain": [
       "<Figure size 500x500 with 1 Axes>"
      ]
     },
     "metadata": {},
     "output_type": "display_data"
    }
   ],
   "source": [
    "import seaborn as sb\n",
    "import numpy as np\n",
    "import matplotlib.pyplot as pl\n",
    "import matplotlib.ticker as mticker\n",
    "from matplotlib.ticker import FormatStrFormatter\n",
    "from collections import OrderedDict\n",
    "pl.rcParams['font.size'] = 18\n",
    "\n",
    "x = 'pl_orbper'\n",
    "y = 'pl_rade'\n",
    "idx = np.ones_like(df[x])\n",
    "\n",
    "porb_lims = (0.5,100)\n",
    "rp_lims = (0.7,30)\n",
    "\n",
    "# figsize=None\n",
    "figsize=(5,5)\n",
    "fig, ax = pl.subplots(figsize=figsize)\n",
    "\n",
    "###NExSci\n",
    "_ = sb.kdeplot(data=df, \n",
    "               x=x, \n",
    "               y=y,  \n",
    "               cmap='gray_r', \n",
    "               #n_levels=8, \n",
    "               log_scale=True, \n",
    "               fill=True, \n",
    "               ax=ax, \n",
    "               zorder=-1\n",
    "              )\n",
    "###planets\n",
    "periods = planets['Planet period'].str.split('±|\\+|-', expand=True)[0].astype(float)\n",
    "radii = planets['Planet radius'].str.split('±|\\+|-', expand=True)[0].astype(float)\n",
    "names = planets.Host.tolist()\n",
    "\n",
    "for xx,yy,n in zip(periods, radii, names):\n",
    "    d = hosts[hosts.Host==n].squeeze()\n",
    "    if len(d)>0:\n",
    "        age = float(d.Age.split('-')[1])\n",
    "        if age<100:\n",
    "            color = 'C1'\n",
    "            lbl = 'age<100 Myr'\n",
    "        else:\n",
    "            color = 'C0'\n",
    "            lbl = '100<age<1000 Myr'\n",
    "        ax.plot(xx, yy, 'o', label=lbl, c=color, zorder=11)\n",
    "    #     #white outline\n",
    "        ax.plot(xx, yy, 'o', c='w', label='_nolegend_', ms=10, zorder=10)\n",
    "    \n",
    "###axes\n",
    "ax.set_xlim(*porb_lims)\n",
    "ax.set_ylim(*rp_lims)\n",
    "ax.set_ylabel('Planet Radius ('+r'R$_{\\oplus}$)')\n",
    "ax.set_xlabel('Orbital period (d)')\n",
    "ax.tick_params(direction='in', which='both', width=2, bottom=True, top=True, left=True, right=True)\n",
    "lw=1.5\n",
    "ax.spines['left'].set_linewidth(lw)\n",
    "ax.spines['right'].set_linewidth(lw)\n",
    "ax.spines['top'].set_linewidth(lw)\n",
    "ax.spines['bottom'].set_linewidth(lw)\n",
    "ax.xaxis.set_major_formatter(mticker.ScalarFormatter())\n",
    "ax.yaxis.set_major_formatter(mticker.ScalarFormatter())\n",
    "\n",
    "### labels\n",
    "dx = 1\n",
    "alpha = 1\n",
    "Rearth = 1\n",
    "ax.axhline(Rearth, 0, 1, c='k', ls='--', alpha=alpha, zorder=0)\n",
    "ax.text(dx, Rearth+0.05, 'Earth', alpha=alpha)\n",
    "Rnep = 3.88\n",
    "ax.axhline(Rnep, 0, 1, c='k', ls='--', alpha=alpha, zorder=0)\n",
    "ax.text(dx, Rnep+0.5, 'Neptune', alpha=alpha)\n",
    "Rjup = 11.2\n",
    "ax.axhline(Rjup, 0, 1, c='k', ls='--', alpha=alpha, zorder=0)\n",
    "ax.text(dx, Rjup+1.5, 'Jupiter', alpha=alpha)\n",
    "### legend\n",
    "handles, labels = pl.gca().get_legend_handles_labels()\n",
    "by_label = OrderedDict(zip(labels, handles))\n",
    "pl.legend(by_label.values(), by_label.keys(), fontsize=14)\n",
    "\n",
    "ax.xaxis.set_major_formatter(FormatStrFormatter('%.0f'))\n",
    "ax.yaxis.set_major_formatter(FormatStrFormatter('%.0f'))"
   ]
  },
  {
   "cell_type": "code",
   "execution_count": 16,
   "metadata": {
    "ExecuteTime": {
     "end_time": "2023-05-23T23:42:00.620376Z",
     "start_time": "2023-05-23T23:42:00.177766Z"
    }
   },
   "outputs": [],
   "source": [
    "fig.savefig(f'young_planets_{distance}pc_square.pdf', bbox_inches='tight', dpi=100)"
   ]
  },
  {
   "cell_type": "code",
   "execution_count": null,
   "metadata": {},
   "outputs": [],
   "source": []
  }
 ],
 "metadata": {
  "kernelspec": {
   "display_name": "Python 3 (ipykernel)",
   "language": "python",
   "name": "python3"
  },
  "language_info": {
   "codemirror_mode": {
    "name": "ipython",
    "version": 3
   },
   "file_extension": ".py",
   "mimetype": "text/x-python",
   "name": "python",
   "nbconvert_exporter": "python",
   "pygments_lexer": "ipython3",
   "version": "3.8.13"
  },
  "toc": {
   "base_numbering": 1,
   "nav_menu": {},
   "number_sections": true,
   "sideBar": true,
   "skip_h1_title": false,
   "title_cell": "Table of Contents",
   "title_sidebar": "Contents",
   "toc_cell": false,
   "toc_position": {
    "height": "calc(100% - 180px)",
    "left": "10px",
    "top": "150px",
    "width": "266px"
   },
   "toc_section_display": true,
   "toc_window_display": true
  }
 },
 "nbformat": 4,
 "nbformat_minor": 4
}
