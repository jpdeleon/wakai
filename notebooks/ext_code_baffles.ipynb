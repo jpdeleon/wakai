{
 "cells": [
  {
   "cell_type": "code",
   "execution_count": null,
   "id": "4bf270ed",
   "metadata": {
    "ExecuteTime": {
     "end_time": "2023-03-27T04:29:26.329673Z",
     "start_time": "2023-03-27T04:29:26.230647Z"
    }
   },
   "outputs": [],
   "source": [
    "import os\n",
    "\n",
    "assert os.environ[\"CONDA_DEFAULT_ENV\"]=='chronos'"
   ]
  },
  {
   "cell_type": "code",
   "execution_count": 2,
   "id": "91204907",
   "metadata": {
    "ExecuteTime": {
     "end_time": "2023-03-25T00:09:51.533332Z",
     "start_time": "2023-03-25T00:09:47.847549Z"
    }
   },
   "outputs": [
    {
     "name": "stdout",
     "output_type": "stream",
     "text": [
      "Created TAP+ (v1.2.1) - Connection:\n",
      "\tHost: gea.esac.esa.int\n",
      "\tUse HTTPS: True\n",
      "\tPort: 443\n",
      "\tSSL Port: 443\n",
      "Created TAP+ (v1.2.1) - Connection:\n",
      "\tHost: geadata.esac.esa.int\n",
      "\tUse HTTPS: True\n",
      "\tPort: 443\n",
      "\tSSL Port: 443\n"
     ]
    }
   ],
   "source": [
    "import chronos as cr"
   ]
  },
  {
   "cell_type": "markdown",
   "id": "ca5a5e45",
   "metadata": {},
   "source": [
    "## TODO\n",
    "* get (B-V)_0, R'_HK, LiEW  from vizier\n",
    "* estimate from Mamajek table?"
   ]
  },
  {
   "cell_type": "code",
   "execution_count": 7,
   "id": "8cbe1d68",
   "metadata": {
    "ExecuteTime": {
     "end_time": "2023-03-24T07:53:21.189434Z",
     "start_time": "2023-03-24T07:53:20.962233Z"
    }
   },
   "outputs": [
    {
     "name": "stdout",
     "output_type": "stream",
     "text": [
      "Target: TOI 179\n"
     ]
    }
   ],
   "source": [
    "t = cr.Target(toiid=179)"
   ]
  },
  {
   "cell_type": "raw",
   "id": "992edc71",
   "metadata": {
    "ExecuteTime": {
     "end_time": "2023-03-24T08:21:15.590842Z",
     "start_time": "2023-03-24T08:21:15.172152Z"
    }
   },
   "source": [
    "t.query_vizier_param()"
   ]
  },
  {
   "cell_type": "code",
   "execution_count": 10,
   "id": "cf693b55",
   "metadata": {
    "ExecuteTime": {
     "end_time": "2023-03-24T08:06:26.163828Z",
     "start_time": "2023-03-24T08:06:26.147489Z"
    }
   },
   "outputs": [
    {
     "name": "stdout",
     "output_type": "stream",
     "text": [
      "Found 9 references in Vizier with `B-V`.\n"
     ]
    },
    {
     "data": {
      "text/plain": [
       "{'I/239/hip_main': 0.876,\n",
       " 'I/239/tyc_main': 0.908,\n",
       " 'I/311/hip2': 0.876,\n",
       " 'II/336/apass9': masked,\n",
       " 'V/145/sky2kv5': 0.908,\n",
       " 'J/A+A/531/A8/table4': 0.876,\n",
       " 'J/A+A/537/A147/table4': 0.876,\n",
       " 'J/A+A/616/A108/catalog': 0.876,\n",
       " 'J/MNRAS/336/879/table3': 0.88}"
      ]
     },
     "execution_count": 10,
     "metadata": {},
     "output_type": "execute_result"
    }
   ],
   "source": [
    "bv = t.query_vizier_param(\"B-V\")\n",
    "bv"
   ]
  },
  {
   "cell_type": "code",
   "execution_count": 26,
   "id": "3e55b9b6",
   "metadata": {
    "ExecuteTime": {
     "end_time": "2023-03-24T08:20:35.977330Z",
     "start_time": "2023-03-24T08:20:35.965921Z"
    }
   },
   "outputs": [
    {
     "name": "stdout",
     "output_type": "stream",
     "text": [
      "0.8845, 0.0136\n"
     ]
    }
   ],
   "source": [
    "import numpy as np\n",
    "\n",
    "bv_mean, bv_sig = np.nanmean(list(bv.values())), np.nanstd(list(bv.values()))\n",
    "print(f\"{bv_mean:.4f}, {bv_sig:.4f}\")"
   ]
  },
  {
   "cell_type": "code",
   "execution_count": 11,
   "id": "1cc114b4",
   "metadata": {
    "ExecuteTime": {
     "end_time": "2023-03-24T08:06:52.626429Z",
     "start_time": "2023-03-24T08:06:52.609232Z"
    }
   },
   "outputs": [
    {
     "name": "stdout",
     "output_type": "stream",
     "text": [
      "Found 2 references in Vizier with `log_R_HK_`.\n"
     ]
    },
    {
     "data": {
      "text/plain": [
       "{'J/A+A/531/A8/table4': -4.39, 'J/A+A/537/A147/table4': -4.398}"
      ]
     },
     "execution_count": 11,
     "metadata": {},
     "output_type": "execute_result"
    }
   ],
   "source": [
    "r_hk = t.query_vizier_param(\"log_R_HK_\")\n",
    "r_hk"
   ]
  },
  {
   "cell_type": "code",
   "execution_count": 28,
   "id": "9a8aea4d",
   "metadata": {
    "ExecuteTime": {
     "end_time": "2023-03-24T08:20:59.143040Z",
     "start_time": "2023-03-24T08:20:59.131922Z"
    }
   },
   "outputs": [
    {
     "name": "stdout",
     "output_type": "stream",
     "text": [
      "-4.3940\n"
     ]
    }
   ],
   "source": [
    "r_hk_mean = np.nanmean(list(r_hk.values()))\n",
    "print(f\"{r_hk_mean:.4f}\")"
   ]
  },
  {
   "cell_type": "markdown",
   "id": "6f5b6c29",
   "metadata": {},
   "source": [
    "## get BAFFLES posteriors"
   ]
  },
  {
   "cell_type": "raw",
   "id": "b6f3c864",
   "metadata": {
    "ExecuteTime": {
     "end_time": "2023-03-25T05:46:40.361199Z",
     "start_time": "2023-03-25T05:46:38.977962Z"
    }
   },
   "source": [
    "import sys\n",
    "sys.path.insert(0, \"/home/jp/github/research/transit/BAFFLES/\")\n",
    "from baffles import *"
   ]
  },
  {
   "cell_type": "code",
   "execution_count": 1,
   "id": "793ce6be",
   "metadata": {
    "ExecuteTime": {
     "end_time": "2023-03-27T01:31:13.432442Z",
     "start_time": "2023-03-27T01:31:12.151252Z"
    }
   },
   "outputs": [],
   "source": [
    "import os\n",
    "os.chdir(\"/home/jp/github/research/transit/BAFFLES/\")\n",
    "from baffles import *"
   ]
  },
  {
   "cell_type": "code",
   "execution_count": 2,
   "id": "3928940e",
   "metadata": {
    "ExecuteTime": {
     "end_time": "2023-03-27T01:31:14.930267Z",
     "start_time": "2023-03-27T01:31:14.922425Z"
    }
   },
   "outputs": [],
   "source": [
    "bv, bv_err = 0.8845, 0.0136 \n",
    "rhk = -4.3940\n",
    "li, li_err = 41, 7"
   ]
  },
  {
   "cell_type": "code",
   "execution_count": 3,
   "id": "9eb6a7d7",
   "metadata": {
    "ExecuteTime": {
     "end_time": "2023-03-27T01:31:22.295312Z",
     "start_time": "2023-03-27T01:31:21.746263Z"
    }
   },
   "outputs": [
    {
     "name": "stdout",
     "output_type": "stream",
     "text": [
      "Ca Median Age: 601 Myr, 68% CI: 253 - 2.03e+03 Myr, 95% CI: 87.6 - 7.34e+03 Myr\n",
      "Li Median Age: 367 Myr, 68% CI: 273 - 437 Myr, 95% CI:         98.9 - 596 Myr\n",
      "Final Median Age: 366 Myr, 68% CI: 286 - 430, 95% CI: 145 - 556\n"
     ]
    },
    {
     "data": {
      "image/png": "[encoded data removed]",
      "text/plain": [
       "<Figure size 432x288 with 1 Axes>"
      ]
     },
     "metadata": {
      "needs_background": "light"
     },
     "output_type": "display_data"
    }
   ],
   "source": [
    "res = baffles_age(bv,rhk,li,bv_err,li_err,\n",
    "            upperLim=False,\n",
    "            maxAge=None,\n",
    "            fileName='baffles',\n",
    "            showPlots=False,\n",
    "            savePlots=False, \n",
    "            savePostAsText=False\n",
    "           )"
   ]
  },
  {
   "cell_type": "code",
   "execution_count": null,
   "id": "bddcd347",
   "metadata": {},
   "outputs": [],
   "source": []
  },
  {
   "cell_type": "raw",
   "id": "0b14e390",
   "metadata": {
    "ExecuteTime": {
     "end_time": "2023-03-25T00:28:27.598479Z",
     "start_time": "2023-03-25T00:28:27.441136Z"
    }
   },
   "source": [
    "import matplotlib.pyplot as plt\n",
    "baffles_ca = age_estimator('calcium')\n",
    "posterior = baffles_ca.get_posterior(bv=bv,metallicity=-4.5)\n",
    "\n",
    "ca_const = utils.init_constants('calcium')\n",
    "plt.plot(ca_const.AGE, posterior.array)"
   ]
  },
  {
   "cell_type": "raw",
   "id": "5202ec43",
   "metadata": {
    "ExecuteTime": {
     "end_time": "2023-03-25T00:28:28.209694Z",
     "start_time": "2023-03-25T00:28:27.873613Z"
    }
   },
   "source": [
    "my_plot.posterior(ca_const.AGE, posterior.array, posterior.stats, showPlot=False)"
   ]
  },
  {
   "cell_type": "raw",
   "id": "768b8577",
   "metadata": {
    "ExecuteTime": {
     "end_time": "2023-03-27T01:32:13.705586Z",
     "start_time": "2023-03-27T01:32:13.245612Z"
    }
   },
   "source": [
    "baffles_li = age_estimator('lithium')\n",
    "posterior = baffles_li.get_posterior(bv, li)\n",
    "\n",
    "li_const = utils.init_constants('lithium')\n",
    "plt.plot(li_const.AGE, posterior.array)"
   ]
  },
  {
   "cell_type": "raw",
   "id": "002d822d",
   "metadata": {
    "ExecuteTime": {
     "end_time": "2023-03-27T01:32:17.184134Z",
     "start_time": "2023-03-27T01:32:16.855429Z"
    }
   },
   "source": [
    "my_plot.posterior(li_const.AGE, posterior.array, posterior.stats, showPlot=False)"
   ]
  },
  {
   "cell_type": "code",
   "execution_count": 29,
   "id": "d340c71a",
   "metadata": {
    "ExecuteTime": {
     "end_time": "2023-03-25T00:28:49.153799Z",
     "start_time": "2023-03-25T00:28:45.001312Z"
    }
   },
   "outputs": [
    {
     "name": "stdout",
     "output_type": "stream",
     "text": [
      "[========================>] 100% ETA: 0:00:00\n",
      "Finished 23 stars. Average time per star: 0.16 seconds.\n",
      "Isochronal age exists within 61.298148 % CI\n"
     ]
    },
    {
     "data": {
      "image/png": "[encoded data removed]",
      "text/plain": [
       "<Figure size 432x288 with 2 Axes>"
      ]
     },
     "metadata": {
      "needs_background": "light"
     },
     "output_type": "display_data"
    }
   ],
   "source": [
    "import readData\n",
    "# Exmple 4: Lets compute a posterior product and save it as a pdf\n",
    "tuchor_bmv, tuchor_li,tuchor_li_err = readData.tuchor()\n",
    "baffles_li = age_estimator('lithium')\n",
    "# pp = PdfPages(\"tuchor_example_product.pdf\")\n",
    "product = baffles_li.posterior_product(tuchor_bmv,\n",
    "                                       tuchor_li,\n",
    "                                       bv_errs=None,\n",
    "                                       measure_err_arr=tuchor_li_err,\n",
    "                                       showPlot=True,\n",
    "                                       #showStars=True, \n",
    "                                       title='Tuc/Hor', \n",
    "                                       givenAge=45,\n",
    "                                       givenErr=4)"
   ]
  },
  {
   "cell_type": "markdown",
   "id": "bb7c2a5e",
   "metadata": {},
   "source": [
    "## stardate?"
   ]
  },
  {
   "cell_type": "code",
   "execution_count": 30,
   "id": "7e727482",
   "metadata": {
    "ExecuteTime": {
     "end_time": "2023-03-24T08:23:52.018332Z",
     "start_time": "2023-03-24T08:23:52.002847Z"
    }
   },
   "outputs": [
    {
     "name": "stdout",
     "output_type": "stream",
     "text": [
      "Found 1 references in Vizier with `Prot`.\n"
     ]
    },
    {
     "data": {
      "text/plain": [
       "{'J/AJ/155/39/table6': 8.69263}"
      ]
     },
     "execution_count": 30,
     "metadata": {},
     "output_type": "execute_result"
    }
   ],
   "source": [
    "t.query_vizier_param(\"Prot\")"
   ]
  },
  {
   "cell_type": "code",
   "execution_count": 6,
   "id": "ec7934d5",
   "metadata": {
    "ExecuteTime": {
     "end_time": "2023-03-24T07:19:22.672836Z",
     "start_time": "2023-03-24T07:19:22.596541Z"
    }
   },
   "outputs": [
    {
     "name": "stdout",
     "output_type": "stream",
     "text": [
      "Loaded: /home/jp/github/research/project/chronos/chronos/data/mamajek_table.csv\n"
     ]
    },
    {
     "data": {
      "text/html": [
       "<div>\n",
       "<style scoped>\n",
       "    .dataframe tbody tr th:only-of-type {\n",
       "        vertical-align: middle;\n",
       "    }\n",
       "\n",
       "    .dataframe tbody tr th {\n",
       "        vertical-align: top;\n",
       "    }\n",
       "\n",
       "    .dataframe thead th {\n",
       "        text-align: right;\n",
       "    }\n",
       "</style>\n",
       "<table border=\"1\" class=\"dataframe\">\n",
       "  <thead>\n",
       "    <tr style=\"text-align: right;\">\n",
       "      <th></th>\n",
       "      <th>#SpT</th>\n",
       "      <th>Teff</th>\n",
       "      <th>logT</th>\n",
       "      <th>logL</th>\n",
       "      <th>Mbol</th>\n",
       "      <th>BCv</th>\n",
       "      <th>Mv</th>\n",
       "      <th>B-V</th>\n",
       "      <th>Bt-Vt</th>\n",
       "      <th>G-V</th>\n",
       "      <th>...</th>\n",
       "      <th>Ks-W1</th>\n",
       "      <th>W1-W2</th>\n",
       "      <th>W1-W3</th>\n",
       "      <th>W1-W4</th>\n",
       "      <th>M_J</th>\n",
       "      <th>M_Ks</th>\n",
       "      <th>i-z</th>\n",
       "      <th>z-Y</th>\n",
       "      <th>R_Rsun</th>\n",
       "      <th>Msun</th>\n",
       "    </tr>\n",
       "  </thead>\n",
       "  <tbody>\n",
       "    <tr>\n",
       "      <th>0</th>\n",
       "      <td>O3V</td>\n",
       "      <td>46000.0</td>\n",
       "      <td>4.663</td>\n",
       "      <td>5.80</td>\n",
       "      <td>-9.75</td>\n",
       "      <td>-4.05</td>\n",
       "      <td>-5.7</td>\n",
       "      <td>-0.32</td>\n",
       "      <td>NaN</td>\n",
       "      <td>NaN</td>\n",
       "      <td>...</td>\n",
       "      <td>NaN</td>\n",
       "      <td>NaN</td>\n",
       "      <td>NaN</td>\n",
       "      <td>NaN</td>\n",
       "      <td>NaN</td>\n",
       "      <td>NaN</td>\n",
       "      <td>NaN</td>\n",
       "      <td>NaN</td>\n",
       "      <td>12.500</td>\n",
       "      <td>NaN</td>\n",
       "    </tr>\n",
       "    <tr>\n",
       "      <th>1</th>\n",
       "      <td>O4V</td>\n",
       "      <td>43000.0</td>\n",
       "      <td>4.633</td>\n",
       "      <td>5.67</td>\n",
       "      <td>-9.42</td>\n",
       "      <td>-3.92</td>\n",
       "      <td>-5.5</td>\n",
       "      <td>-0.32</td>\n",
       "      <td>NaN</td>\n",
       "      <td>NaN</td>\n",
       "      <td>...</td>\n",
       "      <td>NaN</td>\n",
       "      <td>NaN</td>\n",
       "      <td>NaN</td>\n",
       "      <td>NaN</td>\n",
       "      <td>NaN</td>\n",
       "      <td>NaN</td>\n",
       "      <td>NaN</td>\n",
       "      <td>NaN</td>\n",
       "      <td>12.300</td>\n",
       "      <td>NaN</td>\n",
       "    </tr>\n",
       "    <tr>\n",
       "      <th>2</th>\n",
       "      <td>O5V</td>\n",
       "      <td>41500.0</td>\n",
       "      <td>4.618</td>\n",
       "      <td>5.58</td>\n",
       "      <td>-9.20</td>\n",
       "      <td>-3.77</td>\n",
       "      <td>-5.4</td>\n",
       "      <td>-0.32</td>\n",
       "      <td>NaN</td>\n",
       "      <td>NaN</td>\n",
       "      <td>...</td>\n",
       "      <td>NaN</td>\n",
       "      <td>NaN</td>\n",
       "      <td>NaN</td>\n",
       "      <td>NaN</td>\n",
       "      <td>NaN</td>\n",
       "      <td>NaN</td>\n",
       "      <td>NaN</td>\n",
       "      <td>NaN</td>\n",
       "      <td>11.900</td>\n",
       "      <td>NaN</td>\n",
       "    </tr>\n",
       "    <tr>\n",
       "      <th>3</th>\n",
       "      <td>O5.5V</td>\n",
       "      <td>40000.0</td>\n",
       "      <td>4.602</td>\n",
       "      <td>5.46</td>\n",
       "      <td>-8.90</td>\n",
       "      <td>-3.65</td>\n",
       "      <td>-5.2</td>\n",
       "      <td>-0.32</td>\n",
       "      <td>NaN</td>\n",
       "      <td>NaN</td>\n",
       "      <td>...</td>\n",
       "      <td>NaN</td>\n",
       "      <td>NaN</td>\n",
       "      <td>NaN</td>\n",
       "      <td>NaN</td>\n",
       "      <td>NaN</td>\n",
       "      <td>NaN</td>\n",
       "      <td>NaN</td>\n",
       "      <td>NaN</td>\n",
       "      <td>11.200</td>\n",
       "      <td>NaN</td>\n",
       "    </tr>\n",
       "    <tr>\n",
       "      <th>4</th>\n",
       "      <td>O6V</td>\n",
       "      <td>39000.0</td>\n",
       "      <td>4.591</td>\n",
       "      <td>5.37</td>\n",
       "      <td>-8.67</td>\n",
       "      <td>-3.57</td>\n",
       "      <td>-5.1</td>\n",
       "      <td>-0.32</td>\n",
       "      <td>NaN</td>\n",
       "      <td>NaN</td>\n",
       "      <td>...</td>\n",
       "      <td>NaN</td>\n",
       "      <td>NaN</td>\n",
       "      <td>NaN</td>\n",
       "      <td>NaN</td>\n",
       "      <td>NaN</td>\n",
       "      <td>NaN</td>\n",
       "      <td>NaN</td>\n",
       "      <td>NaN</td>\n",
       "      <td>10.600</td>\n",
       "      <td>NaN</td>\n",
       "    </tr>\n",
       "    <tr>\n",
       "      <th>...</th>\n",
       "      <td>...</td>\n",
       "      <td>...</td>\n",
       "      <td>...</td>\n",
       "      <td>...</td>\n",
       "      <td>...</td>\n",
       "      <td>...</td>\n",
       "      <td>...</td>\n",
       "      <td>...</td>\n",
       "      <td>...</td>\n",
       "      <td>...</td>\n",
       "      <td>...</td>\n",
       "      <td>...</td>\n",
       "      <td>...</td>\n",
       "      <td>...</td>\n",
       "      <td>...</td>\n",
       "      <td>...</td>\n",
       "      <td>...</td>\n",
       "      <td>...</td>\n",
       "      <td>...</td>\n",
       "      <td>...</td>\n",
       "      <td>...</td>\n",
       "    </tr>\n",
       "    <tr>\n",
       "      <th>119</th>\n",
       "      <td>Y0V</td>\n",
       "      <td>420.0</td>\n",
       "      <td>2.623</td>\n",
       "      <td>-6.52</td>\n",
       "      <td>NaN</td>\n",
       "      <td>NaN</td>\n",
       "      <td>NaN</td>\n",
       "      <td>NaN</td>\n",
       "      <td>NaN</td>\n",
       "      <td>NaN</td>\n",
       "      <td>...</td>\n",
       "      <td>NaN</td>\n",
       "      <td>2.4</td>\n",
       "      <td>NaN</td>\n",
       "      <td>NaN</td>\n",
       "      <td>21.0</td>\n",
       "      <td>NaN</td>\n",
       "      <td>NaN</td>\n",
       "      <td>NaN</td>\n",
       "      <td>0.104</td>\n",
       "      <td>NaN</td>\n",
       "    </tr>\n",
       "    <tr>\n",
       "      <th>120</th>\n",
       "      <td>Y0.5V</td>\n",
       "      <td>390.0</td>\n",
       "      <td>2.591</td>\n",
       "      <td>NaN</td>\n",
       "      <td>NaN</td>\n",
       "      <td>NaN</td>\n",
       "      <td>NaN</td>\n",
       "      <td>NaN</td>\n",
       "      <td>NaN</td>\n",
       "      <td>NaN</td>\n",
       "      <td>...</td>\n",
       "      <td>NaN</td>\n",
       "      <td>2.5</td>\n",
       "      <td>NaN</td>\n",
       "      <td>NaN</td>\n",
       "      <td>22.0</td>\n",
       "      <td>21.5</td>\n",
       "      <td>NaN</td>\n",
       "      <td>NaN</td>\n",
       "      <td>NaN</td>\n",
       "      <td>NaN</td>\n",
       "    </tr>\n",
       "    <tr>\n",
       "      <th>121</th>\n",
       "      <td>Y1V</td>\n",
       "      <td>350.0</td>\n",
       "      <td>2.544</td>\n",
       "      <td>NaN</td>\n",
       "      <td>NaN</td>\n",
       "      <td>NaN</td>\n",
       "      <td>NaN</td>\n",
       "      <td>NaN</td>\n",
       "      <td>NaN</td>\n",
       "      <td>NaN</td>\n",
       "      <td>...</td>\n",
       "      <td>NaN</td>\n",
       "      <td>2.6</td>\n",
       "      <td>NaN</td>\n",
       "      <td>NaN</td>\n",
       "      <td>23.0</td>\n",
       "      <td>23.0</td>\n",
       "      <td>NaN</td>\n",
       "      <td>NaN</td>\n",
       "      <td>NaN</td>\n",
       "      <td>NaN</td>\n",
       "    </tr>\n",
       "    <tr>\n",
       "      <th>122</th>\n",
       "      <td>Y1.5V</td>\n",
       "      <td>325.0</td>\n",
       "      <td>2.512</td>\n",
       "      <td>NaN</td>\n",
       "      <td>NaN</td>\n",
       "      <td>NaN</td>\n",
       "      <td>NaN</td>\n",
       "      <td>NaN</td>\n",
       "      <td>NaN</td>\n",
       "      <td>NaN</td>\n",
       "      <td>...</td>\n",
       "      <td>NaN</td>\n",
       "      <td>NaN</td>\n",
       "      <td>NaN</td>\n",
       "      <td>NaN</td>\n",
       "      <td>25.0</td>\n",
       "      <td>23.5</td>\n",
       "      <td>NaN</td>\n",
       "      <td>NaN</td>\n",
       "      <td>NaN</td>\n",
       "      <td>NaN</td>\n",
       "    </tr>\n",
       "    <tr>\n",
       "      <th>123</th>\n",
       "      <td>Y2V</td>\n",
       "      <td>250.0</td>\n",
       "      <td>2.398</td>\n",
       "      <td>NaN</td>\n",
       "      <td>26.20</td>\n",
       "      <td>NaN</td>\n",
       "      <td>NaN</td>\n",
       "      <td>NaN</td>\n",
       "      <td>NaN</td>\n",
       "      <td>NaN</td>\n",
       "      <td>...</td>\n",
       "      <td>NaN</td>\n",
       "      <td>3.4</td>\n",
       "      <td>NaN</td>\n",
       "      <td>NaN</td>\n",
       "      <td>28.3</td>\n",
       "      <td>24.0</td>\n",
       "      <td>NaN</td>\n",
       "      <td>NaN</td>\n",
       "      <td>NaN</td>\n",
       "      <td>NaN</td>\n",
       "    </tr>\n",
       "  </tbody>\n",
       "</table>\n",
       "<p>124 rows × 30 columns</p>\n",
       "</div>"
      ],
      "text/plain": [
       "      #SpT     Teff   logT  logL   Mbol   BCv   Mv   B-V  Bt-Vt  G-V  ...  \\\n",
       "0      O3V  46000.0  4.663  5.80  -9.75 -4.05 -5.7 -0.32    NaN  NaN  ...   \n",
       "1      O4V  43000.0  4.633  5.67  -9.42 -3.92 -5.5 -0.32    NaN  NaN  ...   \n",
       "2      O5V  41500.0  4.618  5.58  -9.20 -3.77 -5.4 -0.32    NaN  NaN  ...   \n",
       "3    O5.5V  40000.0  4.602  5.46  -8.90 -3.65 -5.2 -0.32    NaN  NaN  ...   \n",
       "4      O6V  39000.0  4.591  5.37  -8.67 -3.57 -5.1 -0.32    NaN  NaN  ...   \n",
       "..     ...      ...    ...   ...    ...   ...  ...   ...    ...  ...  ...   \n",
       "119    Y0V    420.0  2.623 -6.52    NaN   NaN  NaN   NaN    NaN  NaN  ...   \n",
       "120  Y0.5V    390.0  2.591   NaN    NaN   NaN  NaN   NaN    NaN  NaN  ...   \n",
       "121    Y1V    350.0  2.544   NaN    NaN   NaN  NaN   NaN    NaN  NaN  ...   \n",
       "122  Y1.5V    325.0  2.512   NaN    NaN   NaN  NaN   NaN    NaN  NaN  ...   \n",
       "123    Y2V    250.0  2.398   NaN  26.20   NaN  NaN   NaN    NaN  NaN  ...   \n",
       "\n",
       "     Ks-W1  W1-W2  W1-W3  W1-W4   M_J  M_Ks  i-z  z-Y  R_Rsun  Msun  \n",
       "0      NaN    NaN    NaN    NaN   NaN   NaN  NaN  NaN  12.500   NaN  \n",
       "1      NaN    NaN    NaN    NaN   NaN   NaN  NaN  NaN  12.300   NaN  \n",
       "2      NaN    NaN    NaN    NaN   NaN   NaN  NaN  NaN  11.900   NaN  \n",
       "3      NaN    NaN    NaN    NaN   NaN   NaN  NaN  NaN  11.200   NaN  \n",
       "4      NaN    NaN    NaN    NaN   NaN   NaN  NaN  NaN  10.600   NaN  \n",
       "..     ...    ...    ...    ...   ...   ...  ...  ...     ...   ...  \n",
       "119    NaN    2.4    NaN    NaN  21.0   NaN  NaN  NaN   0.104   NaN  \n",
       "120    NaN    2.5    NaN    NaN  22.0  21.5  NaN  NaN     NaN   NaN  \n",
       "121    NaN    2.6    NaN    NaN  23.0  23.0  NaN  NaN     NaN   NaN  \n",
       "122    NaN    NaN    NaN    NaN  25.0  23.5  NaN  NaN     NaN   NaN  \n",
       "123    NaN    3.4    NaN    NaN  28.3  24.0  NaN  NaN     NaN   NaN  \n",
       "\n",
       "[124 rows x 30 columns]"
      ]
     },
     "execution_count": 6,
     "metadata": {},
     "output_type": "execute_result"
    }
   ],
   "source": [
    "df = cr.utils.get_mamajek_table()\n",
    "df"
   ]
  },
  {
   "cell_type": "code",
   "execution_count": null,
   "id": "589f1d35",
   "metadata": {},
   "outputs": [],
   "source": []
  },
  {
   "cell_type": "code",
   "execution_count": null,
   "id": "ee327836",
   "metadata": {},
   "outputs": [],
   "source": []
  }
 ],
 "metadata": {
  "kernelspec": {
   "display_name": "Python 3 (ipykernel)",
   "language": "python",
   "name": "python3"
  },
  "language_info": {
   "codemirror_mode": {
    "name": "ipython",
    "version": 3
   },
   "file_extension": ".py",
   "mimetype": "text/x-python",
   "name": "python",
   "nbconvert_exporter": "python",
   "pygments_lexer": "ipython3",
   "version": "3.9.19"
  },
  "toc": {
   "base_numbering": 1,
   "nav_menu": {},
   "number_sections": true,
   "sideBar": true,
   "skip_h1_title": false,
   "title_cell": "Table of Contents",
   "title_sidebar": "Contents",
   "toc_cell": false,
   "toc_position": {},
   "toc_section_display": true,
   "toc_window_display": false
  }
 },
 "nbformat": 4,
 "nbformat_minor": 5
}
