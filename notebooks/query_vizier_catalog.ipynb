{
 "cells": [
  {
   "cell_type": "code",
   "execution_count": 2,
   "metadata": {
    "ExecuteTime": {
     "end_time": "2022-11-01T05:19:41.544468Z",
     "start_time": "2022-11-01T05:19:41.155758Z"
    }
   },
   "outputs": [],
   "source": [
    "# %load init_ipynb\n",
    "import os\n",
    "import sys\n",
    "import matplotlib.pyplot as pl\n",
    "\n",
    "sys.path.insert(0, '../code')\n",
    "assert os.environ[\"CONDA_DEFAULT_ENV\"] == 'wakai'\n",
    "\n",
    "plotpar = {'axes.labelsize': 16,\n",
    "           'font.size': 16,\n",
    "           'legend.fontsize': 16,\n",
    "           'xtick.labelsize': 16,\n",
    "           'ytick.labelsize': 16,\n",
    "           #'text.usetex': False,\n",
    "           'xtick.direction': 'in',\n",
    "           'ytick.direction': 'in'\n",
    "           }\n",
    "pl.rcParams.update(plotpar)\n"
   ]
  },
  {
   "cell_type": "markdown",
   "metadata": {},
   "source": [
    "# Query vizier and append to catalog"
   ]
  },
  {
   "cell_type": "markdown",
   "metadata": {},
   "source": [
    "## NGC 3532"
   ]
  },
  {
   "cell_type": "code",
   "execution_count": 4,
   "metadata": {
    "ExecuteTime": {
     "end_time": "2022-11-01T05:20:00.436698Z",
     "start_time": "2022-11-01T05:19:59.643394Z"
    }
   },
   "outputs": [
    {
     "name": "stdout",
     "output_type": "stream",
     "text": [
      "Downloading all tables in J/A+A/652/A60 from vizier.\n",
      "{'J/A+A/652/A60/table2': 'Rotation periods and photometric colours for 279 '\n",
      "                         'solar-like members of the open cluster NGC 3532'}\n"
     ]
    },
    {
     "data": {
      "text/html": [
       "<div>\n",
       "<style scoped>\n",
       "    .dataframe tbody tr th:only-of-type {\n",
       "        vertical-align: middle;\n",
       "    }\n",
       "\n",
       "    .dataframe tbody tr th {\n",
       "        vertical-align: top;\n",
       "    }\n",
       "\n",
       "    .dataframe thead th {\n",
       "        text-align: right;\n",
       "    }\n",
       "</style>\n",
       "<table border=\"1\" class=\"dataframe\">\n",
       "  <thead>\n",
       "    <tr style=\"text-align: right;\">\n",
       "      <th></th>\n",
       "      <th>ID</th>\n",
       "      <th>GaiaDR2</th>\n",
       "      <th>CLHW</th>\n",
       "      <th>RA_ICRS</th>\n",
       "      <th>DE_ICRS</th>\n",
       "      <th>__B-V_0</th>\n",
       "      <th>Vmag</th>\n",
       "      <th>__V-Ks_0</th>\n",
       "      <th>Prot</th>\n",
       "      <th>e_Prot</th>\n",
       "      <th>P90</th>\n",
       "      <th>Class</th>\n",
       "      <th>Binary</th>\n",
       "      <th>_RA.icrs</th>\n",
       "      <th>_DE.icrs</th>\n",
       "    </tr>\n",
       "  </thead>\n",
       "  <tbody>\n",
       "    <tr>\n",
       "      <th>0</th>\n",
       "      <td>618539</td>\n",
       "      <td>5339401641913283072</td>\n",
       "      <td>13824</td>\n",
       "      <td>167.35092</td>\n",
       "      <td>-58.72761</td>\n",
       "      <td>0.821</td>\n",
       "      <td>14.324000</td>\n",
       "      <td>1.876</td>\n",
       "      <td>6.3962</td>\n",
       "      <td>0.9555</td>\n",
       "      <td>0.0284</td>\n",
       "      <td>3</td>\n",
       "      <td>0</td>\n",
       "      <td>167.35092</td>\n",
       "      <td>-58.72761</td>\n",
       "    </tr>\n",
       "    <tr>\n",
       "      <th>1</th>\n",
       "      <td>618394</td>\n",
       "      <td>5339394323288436608</td>\n",
       "      <td>16353</td>\n",
       "      <td>167.33904</td>\n",
       "      <td>-58.81681</td>\n",
       "      <td>1.379</td>\n",
       "      <td>16.855000</td>\n",
       "      <td>3.374</td>\n",
       "      <td>10.0044</td>\n",
       "      <td>0.2949</td>\n",
       "      <td>0.0190</td>\n",
       "      <td>3</td>\n",
       "      <td>0</td>\n",
       "      <td>167.33904</td>\n",
       "      <td>-58.81681</td>\n",
       "    </tr>\n",
       "    <tr>\n",
       "      <th>2</th>\n",
       "      <td>618247</td>\n",
       "      <td>5339401126517113472</td>\n",
       "      <td>17842</td>\n",
       "      <td>167.32929</td>\n",
       "      <td>-58.76006</td>\n",
       "      <td>1.284</td>\n",
       "      <td>16.197001</td>\n",
       "      <td>3.098</td>\n",
       "      <td>12.9536</td>\n",
       "      <td>0.1203</td>\n",
       "      <td>0.0158</td>\n",
       "      <td>3</td>\n",
       "      <td>0</td>\n",
       "      <td>167.32929</td>\n",
       "      <td>-58.76006</td>\n",
       "    </tr>\n",
       "    <tr>\n",
       "      <th>3</th>\n",
       "      <td>615275</td>\n",
       "      <td>5340152230387020288</td>\n",
       "      <td>36499</td>\n",
       "      <td>167.22421</td>\n",
       "      <td>-58.68867</td>\n",
       "      <td>1.274</td>\n",
       "      <td>16.283001</td>\n",
       "      <td>3.045</td>\n",
       "      <td>10.7061</td>\n",
       "      <td>2.7941</td>\n",
       "      <td>0.0200</td>\n",
       "      <td>3</td>\n",
       "      <td>0</td>\n",
       "      <td>167.22421</td>\n",
       "      <td>-58.68867</td>\n",
       "    </tr>\n",
       "    <tr>\n",
       "      <th>4</th>\n",
       "      <td>614931</td>\n",
       "      <td>5340152848862460928</td>\n",
       "      <td>37931</td>\n",
       "      <td>167.21496</td>\n",
       "      <td>-58.62111</td>\n",
       "      <td>0.650</td>\n",
       "      <td>13.378000</td>\n",
       "      <td>1.456</td>\n",
       "      <td>5.8337</td>\n",
       "      <td>0.4992</td>\n",
       "      <td>0.0340</td>\n",
       "      <td>3</td>\n",
       "      <td>0</td>\n",
       "      <td>167.21496</td>\n",
       "      <td>-58.62111</td>\n",
       "    </tr>\n",
       "  </tbody>\n",
       "</table>\n",
       "</div>"
      ],
      "text/plain": [
       "       ID              GaiaDR2   CLHW    RA_ICRS   DE_ICRS  __B-V_0  \\\n",
       "0  618539  5339401641913283072  13824  167.35092 -58.72761    0.821   \n",
       "1  618394  5339394323288436608  16353  167.33904 -58.81681    1.379   \n",
       "2  618247  5339401126517113472  17842  167.32929 -58.76006    1.284   \n",
       "3  615275  5340152230387020288  36499  167.22421 -58.68867    1.274   \n",
       "4  614931  5340152848862460928  37931  167.21496 -58.62111    0.650   \n",
       "\n",
       "        Vmag  __V-Ks_0     Prot  e_Prot     P90  Class  Binary   _RA.icrs  \\\n",
       "0  14.324000     1.876   6.3962  0.9555  0.0284      3       0  167.35092   \n",
       "1  16.855000     3.374  10.0044  0.2949  0.0190      3       0  167.33904   \n",
       "2  16.197001     3.098  12.9536  0.1203  0.0158      3       0  167.32929   \n",
       "3  16.283001     3.045  10.7061  2.7941  0.0200      3       0  167.22421   \n",
       "4  13.378000     1.456   5.8337  0.4992  0.0340      3       0  167.21496   \n",
       "\n",
       "   _DE.icrs  \n",
       "0 -58.72761  \n",
       "1 -58.81681  \n",
       "2 -58.76006  \n",
       "3 -58.68867  \n",
       "4 -58.62111  "
      ]
     },
     "execution_count": 4,
     "metadata": {},
     "output_type": "execute_result"
    }
   ],
   "source": [
    "from catalog import CatalogDownloader\n",
    "\n",
    "cd = CatalogDownloader(catalog_name=\"Fritzewski2021_NGC3532\")\n",
    "tabs = cd.get_tables_from_vizier(row_limit=-1)\n",
    "df_ngc3532 = tabs[0].to_pandas()\n",
    "# df_ngc3532['logTeff'] = df_ngc3532.Teff.apply(lambda x: np.log10(x))\n",
    "# df_ngc3532['st_rotp'] = df_ngc3532['Prot'].copy()\n",
    "df_ngc3532.head()"
   ]
  },
  {
   "cell_type": "code",
   "execution_count": 5,
   "metadata": {
    "ExecuteTime": {
     "end_time": "2022-11-01T05:20:04.526271Z",
     "start_time": "2022-11-01T05:20:04.220512Z"
    }
   },
   "outputs": [
    {
     "name": "stdout",
     "output_type": "stream",
     "text": [
      "Found 10 references in Vizier with `Teff`.\n"
     ]
    },
    {
     "data": {
      "text/plain": [
       "3844.6"
      ]
     },
     "execution_count": 5,
     "metadata": {},
     "output_type": "execute_result"
    }
   ],
   "source": [
    "#query Teff\n",
    "import warnings\n",
    "warnings.simplefilter(\"ignore\", category=\"UnitsWarning\")\n",
    "from catalog import Target\n",
    "\n",
    "t = Target(ra_deg=166.95421, dec_deg=-58.65578)\n",
    "t.query_vizier_param('Teff').get('I/355/gaiadr3')"
   ]
  },
  {
   "cell_type": "code",
   "execution_count": 9,
   "metadata": {
    "ExecuteTime": {
     "end_time": "2022-11-01T05:13:38.190152Z",
     "start_time": "2022-11-01T05:13:37.716993Z"
    }
   },
   "outputs": [],
   "source": [
    "try:\n",
    "    import swifter\n",
    "except:\n",
    "    !{sys.executable} -m pip install swifter==1.3.4\n",
    "    import swifter\n",
    "assert swifter.__version__ == \"1.3.4\""
   ]
  },
  {
   "cell_type": "code",
   "execution_count": 10,
   "metadata": {
    "ExecuteTime": {
     "end_time": "2022-11-01T05:13:38.196784Z",
     "start_time": "2022-11-01T05:13:38.192232Z"
    }
   },
   "outputs": [],
   "source": [
    "def get_vizier_param(df_coords, param='Teff', key='I/355/gaiadr3'):\n",
    "    \"\"\"try key='I/345/gaia2'\n",
    "    \"\"\"\n",
    "    return df_coords.swifter.apply(lambda coord: Target(*coord, verbose=False)\\\n",
    "            .query_vizier_param(param)\\\n",
    "            .get(key), axis=1)"
   ]
  },
  {
   "cell_type": "code",
   "execution_count": null,
   "metadata": {
    "ExecuteTime": {
     "end_time": "2022-11-01T05:14:56.219141Z",
     "start_time": "2022-11-01T05:13:39.571904Z"
    }
   },
   "outputs": [],
   "source": [
    "#this cell may take more than 5 minutes for the 1st run\n",
    "import warnings\n",
    "warnings.simplefilter(\"ignore\", category=\"UnitsWarning\")\n",
    "\n",
    "coords = ['RA_ICRS','DE_ICRS']\n",
    "df_ngc3532['Teff'] = get_vizier_param(df_ngc3532[coords])\n",
    "df_ngc3532.head()"
   ]
  },
  {
   "cell_type": "code",
   "execution_count": null,
   "metadata": {},
   "outputs": [],
   "source": []
  }
 ],
 "metadata": {
  "interpreter": {
   "hash": "cf437c9fdc7e33afad30806c8ba898b1ed7208af2531506eaaa1d2480c4ad7ab"
  },
  "kernelspec": {
   "display_name": "Python 3",
   "language": "python",
   "name": "python3"
  },
  "language_info": {
   "codemirror_mode": {
    "name": "ipython",
    "version": 3
   },
   "file_extension": ".py",
   "mimetype": "text/x-python",
   "name": "python",
   "nbconvert_exporter": "python",
   "pygments_lexer": "ipython3",
   "version": "3.6.13"
  },
  "toc": {
   "base_numbering": 1,
   "nav_menu": {},
   "number_sections": true,
   "sideBar": true,
   "skip_h1_title": false,
   "title_cell": "Table of Contents",
   "title_sidebar": "Contents",
   "toc_cell": false,
   "toc_position": {},
   "toc_section_display": true,
   "toc_window_display": true
  }
 },
 "nbformat": 4,
 "nbformat_minor": 4
}
