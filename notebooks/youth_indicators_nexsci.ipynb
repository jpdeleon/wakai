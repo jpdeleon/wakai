{
 "cells": [
  {
   "cell_type": "code",
   "execution_count": 1,
   "id": "ca75e87e",
   "metadata": {
    "ExecuteTime": {
     "end_time": "2023-04-07T04:36:21.926239Z",
     "start_time": "2023-04-07T04:34:02.876963Z"
    },
    "scrolled": true
   },
   "outputs": [
    {
     "name": "stdout",
     "output_type": "stream",
     "text": [
      "Column definitions:  https://exoplanetarchive.ipac.caltech.edu/docs/API_PS_columns.html\n"
     ]
    },
    {
     "name": "stderr",
     "output_type": "stream",
     "text": [
      "/mnt_ut3/raid_ut3/home/jerome/github/research/project/wakai/notebooks/../code/catalog.py:273: DtypeWarning: Columns (3,4,35,40,45,50,55,60,65,75,123,139,148,153,162,167,183,206,211,216,221,226,231,232,237,242,257,262,267) have mixed types. Specify dtype option on import or set low_memory=False.\n",
      "  df = pd.read_csv(fp)\n"
     ]
    },
    {
     "name": "stdout",
     "output_type": "stream",
     "text": [
      "Loaded:  ../data/nexsci_ps.csv\n"
     ]
    },
    {
     "data": {
      "text/html": [
       "<div>\n",
       "<style scoped>\n",
       "    .dataframe tbody tr th:only-of-type {\n",
       "        vertical-align: middle;\n",
       "    }\n",
       "\n",
       "    .dataframe tbody tr th {\n",
       "        vertical-align: top;\n",
       "    }\n",
       "\n",
       "    .dataframe thead th {\n",
       "        text-align: right;\n",
       "    }\n",
       "</style>\n",
       "<table border=\"1\" class=\"dataframe\">\n",
       "  <thead>\n",
       "    <tr style=\"text-align: right;\">\n",
       "      <th></th>\n",
       "      <th>pl_name</th>\n",
       "      <th>pl_letter</th>\n",
       "      <th>hostname</th>\n",
       "      <th>hd_name</th>\n",
       "      <th>hip_name</th>\n",
       "      <th>tic_id</th>\n",
       "      <th>gaia_id</th>\n",
       "      <th>default_flag</th>\n",
       "      <th>pl_refname</th>\n",
       "      <th>sy_refname</th>\n",
       "      <th>...</th>\n",
       "      <th>sy_jmagstr</th>\n",
       "      <th>sy_hmag</th>\n",
       "      <th>sy_hmagerr1</th>\n",
       "      <th>sy_hmagerr2</th>\n",
       "      <th>sy_hmagstr</th>\n",
       "      <th>sy_kmag</th>\n",
       "      <th>sy_kmagerr1</th>\n",
       "      <th>sy_kmagerr2</th>\n",
       "      <th>sky_coord.ra</th>\n",
       "      <th>sky_coord.dec</th>\n",
       "    </tr>\n",
       "  </thead>\n",
       "  <tbody>\n",
       "    <tr>\n",
       "      <th>0</th>\n",
       "      <td>OGLE-TR-10 b</td>\n",
       "      <td>b</td>\n",
       "      <td>OGLE-TR-10</td>\n",
       "      <td>NaN</td>\n",
       "      <td>NaN</td>\n",
       "      <td>TIC 130150682</td>\n",
       "      <td>Gaia DR2 4056443366649948160</td>\n",
       "      <td>1</td>\n",
       "      <td>&lt;a refstr=TORRES_ET_AL__2008 href=https://ui.a...</td>\n",
       "      <td>&lt;a refstr=STASSUN_ET_AL__2019 href=https://ui....</td>\n",
       "      <td>...</td>\n",
       "      <td>13.692</td>\n",
       "      <td>13.314</td>\n",
       "      <td>0.121</td>\n",
       "      <td>-0.121</td>\n",
       "      <td>13.314&amp;plusmn;0.121</td>\n",
       "      <td>12.856</td>\n",
       "      <td>NaN</td>\n",
       "      <td>NaN</td>\n",
       "      <td>267.867748</td>\n",
       "      <td>-29.876476</td>\n",
       "    </tr>\n",
       "    <tr>\n",
       "      <th>1</th>\n",
       "      <td>TOI-4145 A b</td>\n",
       "      <td>b</td>\n",
       "      <td>TOI-4145 A</td>\n",
       "      <td>NaN</td>\n",
       "      <td>NaN</td>\n",
       "      <td>TIC 279947414</td>\n",
       "      <td>Gaia DR2 568619413331898240</td>\n",
       "      <td>0</td>\n",
       "      <td>&lt;a refstr=EXOFOP_TESS_TOI href=https://exofop....</td>\n",
       "      <td>&lt;a refstr=STASSUN_ET_AL__2019 href=https://ui....</td>\n",
       "      <td>...</td>\n",
       "      <td>10.775&amp;plusmn;0.023</td>\n",
       "      <td>10.380</td>\n",
       "      <td>0.028</td>\n",
       "      <td>-0.028</td>\n",
       "      <td>10.380&amp;plusmn;0.028</td>\n",
       "      <td>10.286</td>\n",
       "      <td>0.021</td>\n",
       "      <td>-0.021</td>\n",
       "      <td>39.429744</td>\n",
       "      <td>80.267384</td>\n",
       "    </tr>\n",
       "    <tr>\n",
       "      <th>2</th>\n",
       "      <td>KOI-13 b</td>\n",
       "      <td>b</td>\n",
       "      <td>KOI-13</td>\n",
       "      <td>NaN</td>\n",
       "      <td>NaN</td>\n",
       "      <td>TIC 158324245</td>\n",
       "      <td>Gaia DR2 2130632159134827392</td>\n",
       "      <td>0</td>\n",
       "      <td>&lt;a refstr=BORUCKI_ET_AL__2011 href=https://ui....</td>\n",
       "      <td>&lt;a refstr=STASSUN_ET_AL__2019 href=https://ui....</td>\n",
       "      <td>...</td>\n",
       "      <td>9.466&amp;plusmn;0.022</td>\n",
       "      <td>9.455</td>\n",
       "      <td>0.019</td>\n",
       "      <td>-0.019</td>\n",
       "      <td>9.455&amp;plusmn;0.019</td>\n",
       "      <td>9.425</td>\n",
       "      <td>0.014</td>\n",
       "      <td>-0.014</td>\n",
       "      <td>286.971388</td>\n",
       "      <td>46.868246</td>\n",
       "    </tr>\n",
       "    <tr>\n",
       "      <th>3</th>\n",
       "      <td>Kepler-44 b</td>\n",
       "      <td>b</td>\n",
       "      <td>Kepler-44</td>\n",
       "      <td>NaN</td>\n",
       "      <td>NaN</td>\n",
       "      <td>TIC 239277658</td>\n",
       "      <td>Gaia DR2 2085222191474854656</td>\n",
       "      <td>0</td>\n",
       "      <td>&lt;a refstr=BONOMO_ET_AL__2011 href=https://ui.a...</td>\n",
       "      <td>&lt;a refstr=STASSUN_ET_AL__2019 href=https://ui....</td>\n",
       "      <td>...</td>\n",
       "      <td>13.340&amp;plusmn;0.026</td>\n",
       "      <td>12.969</td>\n",
       "      <td>0.025</td>\n",
       "      <td>-0.025</td>\n",
       "      <td>12.969&amp;plusmn;0.025</td>\n",
       "      <td>12.878</td>\n",
       "      <td>0.034</td>\n",
       "      <td>-0.034</td>\n",
       "      <td>300.102351</td>\n",
       "      <td>45.762192</td>\n",
       "    </tr>\n",
       "    <tr>\n",
       "      <th>4</th>\n",
       "      <td>KOI-13 b</td>\n",
       "      <td>b</td>\n",
       "      <td>KOI-13</td>\n",
       "      <td>NaN</td>\n",
       "      <td>NaN</td>\n",
       "      <td>TIC 158324245</td>\n",
       "      <td>Gaia DR2 2130632159134827392</td>\n",
       "      <td>0</td>\n",
       "      <td>&lt;a refstr=BATALHA_ET_AL__2013 href=https://ui....</td>\n",
       "      <td>&lt;a refstr=STASSUN_ET_AL__2019 href=https://ui....</td>\n",
       "      <td>...</td>\n",
       "      <td>9.466&amp;plusmn;0.022</td>\n",
       "      <td>9.455</td>\n",
       "      <td>0.019</td>\n",
       "      <td>-0.019</td>\n",
       "      <td>9.455&amp;plusmn;0.019</td>\n",
       "      <td>9.425</td>\n",
       "      <td>0.014</td>\n",
       "      <td>-0.014</td>\n",
       "      <td>286.971388</td>\n",
       "      <td>46.868246</td>\n",
       "    </tr>\n",
       "  </tbody>\n",
       "</table>\n",
       "<p>5 rows × 356 columns</p>\n",
       "</div>"
      ],
      "text/plain": [
       "        pl_name pl_letter    hostname hd_name hip_name         tic_id  \\\n",
       "0  OGLE-TR-10 b         b  OGLE-TR-10     NaN      NaN  TIC 130150682   \n",
       "1  TOI-4145 A b         b  TOI-4145 A     NaN      NaN  TIC 279947414   \n",
       "2      KOI-13 b         b      KOI-13     NaN      NaN  TIC 158324245   \n",
       "3   Kepler-44 b         b   Kepler-44     NaN      NaN  TIC 239277658   \n",
       "4      KOI-13 b         b      KOI-13     NaN      NaN  TIC 158324245   \n",
       "\n",
       "                        gaia_id  default_flag  \\\n",
       "0  Gaia DR2 4056443366649948160             1   \n",
       "1   Gaia DR2 568619413331898240             0   \n",
       "2  Gaia DR2 2130632159134827392             0   \n",
       "3  Gaia DR2 2085222191474854656             0   \n",
       "4  Gaia DR2 2130632159134827392             0   \n",
       "\n",
       "                                          pl_refname  \\\n",
       "0  <a refstr=TORRES_ET_AL__2008 href=https://ui.a...   \n",
       "1  <a refstr=EXOFOP_TESS_TOI href=https://exofop....   \n",
       "2  <a refstr=BORUCKI_ET_AL__2011 href=https://ui....   \n",
       "3  <a refstr=BONOMO_ET_AL__2011 href=https://ui.a...   \n",
       "4  <a refstr=BATALHA_ET_AL__2013 href=https://ui....   \n",
       "\n",
       "                                          sy_refname  ...  \\\n",
       "0  <a refstr=STASSUN_ET_AL__2019 href=https://ui....  ...   \n",
       "1  <a refstr=STASSUN_ET_AL__2019 href=https://ui....  ...   \n",
       "2  <a refstr=STASSUN_ET_AL__2019 href=https://ui....  ...   \n",
       "3  <a refstr=STASSUN_ET_AL__2019 href=https://ui....  ...   \n",
       "4  <a refstr=STASSUN_ET_AL__2019 href=https://ui....  ...   \n",
       "\n",
       "            sy_jmagstr  sy_hmag sy_hmagerr1 sy_hmagerr2           sy_hmagstr  \\\n",
       "0               13.692   13.314       0.121      -0.121  13.314&plusmn;0.121   \n",
       "1  10.775&plusmn;0.023   10.380       0.028      -0.028  10.380&plusmn;0.028   \n",
       "2   9.466&plusmn;0.022    9.455       0.019      -0.019   9.455&plusmn;0.019   \n",
       "3  13.340&plusmn;0.026   12.969       0.025      -0.025  12.969&plusmn;0.025   \n",
       "4   9.466&plusmn;0.022    9.455       0.019      -0.019   9.455&plusmn;0.019   \n",
       "\n",
       "  sy_kmag sy_kmagerr1 sy_kmagerr2  sky_coord.ra sky_coord.dec  \n",
       "0  12.856         NaN         NaN    267.867748    -29.876476  \n",
       "1  10.286       0.021      -0.021     39.429744     80.267384  \n",
       "2   9.425       0.014      -0.014    286.971388     46.868246  \n",
       "3  12.878       0.034      -0.034    300.102351     45.762192  \n",
       "4   9.425       0.014      -0.014    286.971388     46.868246  \n",
       "\n",
       "[5 rows x 356 columns]"
      ]
     },
     "execution_count": 1,
     "metadata": {},
     "output_type": "execute_result"
    }
   ],
   "source": [
    "import sys\n",
    "sys.path.insert(0, '../code/')\n",
    "from catalog import get_nexsci_data\n",
    "\n",
    "df = get_nexsci_data(table_name=\"ps\", clobber=False)\n",
    "df.head()"
   ]
  },
  {
   "cell_type": "code",
   "execution_count": 2,
   "id": "2b4228cb",
   "metadata": {
    "ExecuteTime": {
     "end_time": "2023-04-07T04:38:29.079740Z",
     "start_time": "2023-04-07T04:38:29.038247Z"
    }
   },
   "outputs": [
    {
     "data": {
      "text/plain": [
       "3237"
      ]
     },
     "execution_count": 2,
     "metadata": {},
     "output_type": "execute_result"
    }
   ],
   "source": [
    "idx = df['default_flag'] == 1\n",
    "hostnames = df[idx].hostname.unique()\n",
    "len(hostnames)"
   ]
  },
  {
   "cell_type": "code",
   "execution_count": 3,
   "id": "44312db0-3cb7-454f-b787-bf4a852f0713",
   "metadata": {},
   "outputs": [
    {
     "data": {
      "text/html": [
       "<div>\n",
       "<style scoped>\n",
       "    .dataframe tbody tr th:only-of-type {\n",
       "        vertical-align: middle;\n",
       "    }\n",
       "\n",
       "    .dataframe tbody tr th {\n",
       "        vertical-align: top;\n",
       "    }\n",
       "\n",
       "    .dataframe thead th {\n",
       "        text-align: right;\n",
       "    }\n",
       "</style>\n",
       "<table border=\"1\" class=\"dataframe\">\n",
       "  <thead>\n",
       "    <tr style=\"text-align: right;\">\n",
       "      <th></th>\n",
       "      <th>st_age</th>\n",
       "      <th>pl_name</th>\n",
       "      <th>pl_refname</th>\n",
       "    </tr>\n",
       "  </thead>\n",
       "  <tbody>\n",
       "    <tr>\n",
       "      <th>609</th>\n",
       "      <td>NaN</td>\n",
       "      <td>HD 235088 b</td>\n",
       "      <td>&lt;a refstr=EXOFOP_TESS_TOI href=https://exofop....</td>\n",
       "    </tr>\n",
       "    <tr>\n",
       "      <th>1098</th>\n",
       "      <td>3.4</td>\n",
       "      <td>HD 235088 b</td>\n",
       "      <td>&lt;a refstr=POLANSKI_ET_AL__2024 href=https://ui...</td>\n",
       "    </tr>\n",
       "    <tr>\n",
       "      <th>5678</th>\n",
       "      <td>0.7</td>\n",
       "      <td>HD 235088 b</td>\n",
       "      <td>&lt;a refstr=ORELL_MIQUEL_ET_AL__2023 href=https:...</td>\n",
       "    </tr>\n",
       "  </tbody>\n",
       "</table>\n",
       "</div>"
      ],
      "text/plain": [
       "      st_age      pl_name                                         pl_refname\n",
       "609      NaN  HD 235088 b  <a refstr=EXOFOP_TESS_TOI href=https://exofop....\n",
       "1098     3.4  HD 235088 b  <a refstr=POLANSKI_ET_AL__2024 href=https://ui...\n",
       "5678     0.7  HD 235088 b  <a refstr=ORELL_MIQUEL_ET_AL__2023 href=https:..."
      ]
     },
     "execution_count": 3,
     "metadata": {},
     "output_type": "execute_result"
    }
   ],
   "source": [
    "#TOI-1430: Orell-Miquel estimated a much older age than Zhang\n",
    "df.query(\"hostname=='HD 235088'\")[[\"st_age\",\"pl_name\",\"pl_refname\"]]"
   ]
  },
  {
   "cell_type": "code",
   "execution_count": 4,
   "id": "c05fcc8d-879a-4e51-8447-aa08211c279f",
   "metadata": {},
   "outputs": [
    {
     "data": {
      "text/html": [
       "<div>\n",
       "<style scoped>\n",
       "    .dataframe tbody tr th:only-of-type {\n",
       "        vertical-align: middle;\n",
       "    }\n",
       "\n",
       "    .dataframe tbody tr th {\n",
       "        vertical-align: top;\n",
       "    }\n",
       "\n",
       "    .dataframe thead th {\n",
       "        text-align: right;\n",
       "    }\n",
       "</style>\n",
       "<table border=\"1\" class=\"dataframe\">\n",
       "  <thead>\n",
       "    <tr style=\"text-align: right;\">\n",
       "      <th></th>\n",
       "      <th>st_age</th>\n",
       "      <th>pl_name</th>\n",
       "      <th>pl_refname</th>\n",
       "    </tr>\n",
       "  </thead>\n",
       "  <tbody>\n",
       "    <tr>\n",
       "      <th>582</th>\n",
       "      <td>0.340</td>\n",
       "      <td>TOI-2076 d</td>\n",
       "      <td>&lt;a refstr=OSBORN_ET_AL__2022 href=https://ui.a...</td>\n",
       "    </tr>\n",
       "    <tr>\n",
       "      <th>793</th>\n",
       "      <td>0.204</td>\n",
       "      <td>TOI-2076 c</td>\n",
       "      <td>&lt;a refstr=HEDGES_ET_AL__2021 href=https://ui.a...</td>\n",
       "    </tr>\n",
       "    <tr>\n",
       "      <th>794</th>\n",
       "      <td>0.204</td>\n",
       "      <td>TOI-2076 d</td>\n",
       "      <td>&lt;a refstr=HEDGES_ET_AL__2021 href=https://ui.a...</td>\n",
       "    </tr>\n",
       "    <tr>\n",
       "      <th>966</th>\n",
       "      <td>NaN</td>\n",
       "      <td>TOI-2076 d</td>\n",
       "      <td>&lt;a refstr=EXOFOP_TESS_TOI href=https://exofop....</td>\n",
       "    </tr>\n",
       "    <tr>\n",
       "      <th>977</th>\n",
       "      <td>NaN</td>\n",
       "      <td>TOI-2076 c</td>\n",
       "      <td>&lt;a refstr=EXOFOP_TESS_TOI href=https://exofop....</td>\n",
       "    </tr>\n",
       "    <tr>\n",
       "      <th>1047</th>\n",
       "      <td>2.700</td>\n",
       "      <td>TOI-2076 c</td>\n",
       "      <td>&lt;a refstr=POLANSKI_ET_AL__2024 href=https://ui...</td>\n",
       "    </tr>\n",
       "    <tr>\n",
       "      <th>5289</th>\n",
       "      <td>0.204</td>\n",
       "      <td>TOI-2076 b</td>\n",
       "      <td>&lt;a refstr=HEDGES_ET_AL__2021 href=https://ui.a...</td>\n",
       "    </tr>\n",
       "    <tr>\n",
       "      <th>5290</th>\n",
       "      <td>0.340</td>\n",
       "      <td>TOI-2076 c</td>\n",
       "      <td>&lt;a refstr=OSBORN_ET_AL__2022 href=https://ui.a...</td>\n",
       "    </tr>\n",
       "    <tr>\n",
       "      <th>5505</th>\n",
       "      <td>2.700</td>\n",
       "      <td>TOI-2076 d</td>\n",
       "      <td>&lt;a refstr=POLANSKI_ET_AL__2024 href=https://ui...</td>\n",
       "    </tr>\n",
       "    <tr>\n",
       "      <th>5656</th>\n",
       "      <td>0.340</td>\n",
       "      <td>TOI-2076 b</td>\n",
       "      <td>&lt;a refstr=OSBORN_ET_AL__2022 href=https://ui.a...</td>\n",
       "    </tr>\n",
       "    <tr>\n",
       "      <th>5657</th>\n",
       "      <td>NaN</td>\n",
       "      <td>TOI-2076 b</td>\n",
       "      <td>&lt;a refstr=EXOFOP_TESS_TOI href=https://exofop....</td>\n",
       "    </tr>\n",
       "    <tr>\n",
       "      <th>5658</th>\n",
       "      <td>2.700</td>\n",
       "      <td>TOI-2076 b</td>\n",
       "      <td>&lt;a refstr=POLANSKI_ET_AL__2024 href=https://ui...</td>\n",
       "    </tr>\n",
       "    <tr>\n",
       "      <th>5823</th>\n",
       "      <td>0.204</td>\n",
       "      <td>TOI-2076 b</td>\n",
       "      <td>&lt;a refstr=KOKORI_ET_AL__2023 href=https://ui.a...</td>\n",
       "    </tr>\n",
       "  </tbody>\n",
       "</table>\n",
       "</div>"
      ],
      "text/plain": [
       "      st_age     pl_name                                         pl_refname\n",
       "582    0.340  TOI-2076 d  <a refstr=OSBORN_ET_AL__2022 href=https://ui.a...\n",
       "793    0.204  TOI-2076 c  <a refstr=HEDGES_ET_AL__2021 href=https://ui.a...\n",
       "794    0.204  TOI-2076 d  <a refstr=HEDGES_ET_AL__2021 href=https://ui.a...\n",
       "966      NaN  TOI-2076 d  <a refstr=EXOFOP_TESS_TOI href=https://exofop....\n",
       "977      NaN  TOI-2076 c  <a refstr=EXOFOP_TESS_TOI href=https://exofop....\n",
       "1047   2.700  TOI-2076 c  <a refstr=POLANSKI_ET_AL__2024 href=https://ui...\n",
       "5289   0.204  TOI-2076 b  <a refstr=HEDGES_ET_AL__2021 href=https://ui.a...\n",
       "5290   0.340  TOI-2076 c  <a refstr=OSBORN_ET_AL__2022 href=https://ui.a...\n",
       "5505   2.700  TOI-2076 d  <a refstr=POLANSKI_ET_AL__2024 href=https://ui...\n",
       "5656   0.340  TOI-2076 b  <a refstr=OSBORN_ET_AL__2022 href=https://ui.a...\n",
       "5657     NaN  TOI-2076 b  <a refstr=EXOFOP_TESS_TOI href=https://exofop....\n",
       "5658   2.700  TOI-2076 b  <a refstr=POLANSKI_ET_AL__2024 href=https://ui...\n",
       "5823   0.204  TOI-2076 b  <a refstr=KOKORI_ET_AL__2023 href=https://ui.a..."
      ]
     },
     "execution_count": 4,
     "metadata": {},
     "output_type": "execute_result"
    }
   ],
   "source": [
    "#TOI-2076: Hedges+ 154-204; Osborn+ 260-420 Myr\n",
    "df.query(\"hostname=='TOI-2076'\")[[\"st_age\",\"pl_name\",\"pl_refname\"]]"
   ]
  },
  {
   "cell_type": "code",
   "execution_count": 5,
   "id": "02163f52-670c-41fb-9ade-1c163fab7d38",
   "metadata": {},
   "outputs": [],
   "source": [
    "df = df[idx]"
   ]
  },
  {
   "cell_type": "code",
   "execution_count": 66,
   "id": "92b29205-0188-4b3c-bb03-44482563a4db",
   "metadata": {},
   "outputs": [
    {
     "data": {
      "text/plain": [
       "(np.float64(354.9154673), np.float64(-69.196043))"
      ]
     },
     "execution_count": 66,
     "metadata": {},
     "output_type": "execute_result"
    }
   ],
   "source": [
    "d = df.query(\"pl_name=='DS Tuc A b'\")\n",
    "ra, dec = d[['ra','dec']].squeeze().values\n",
    "ra, dec"
   ]
  },
  {
   "cell_type": "code",
   "execution_count": 67,
   "id": "42535850-4718-441d-85a6-dff4c763fa42",
   "metadata": {},
   "outputs": [],
   "source": [
    "from catalog import Target\n",
    "t = Target(ra, dec)"
   ]
  },
  {
   "cell_type": "raw",
   "id": "ea1da2f3-da6c-4c04-80e0-44b9ad529ae0",
   "metadata": {},
   "source": [
    "t.query_vizier_param()"
   ]
  },
  {
   "cell_type": "code",
   "execution_count": 21,
   "id": "6ac3fa55-d41e-44d4-9ed9-d05665cebca0",
   "metadata": {},
   "outputs": [
    {
     "name": "stderr",
     "output_type": "stream",
     "text": [
      "WARNING: UnitsWarning: Unit 'x' not supported by the VOUnit standard.  [astropy.units.format.vounit]\n",
      "WARNING: UnitsWarning: Unit 'Earth' not supported by the VOUnit standard.  [astropy.units.format.vounit]\n"
     ]
    },
    {
     "name": "stdout",
     "output_type": "stream",
     "text": [
      "Found 2 references in Vizier with `B-V`.\n",
      "{'I/239/tyc_main': np.float32(0.835), 'V/145/sky2kv5': np.float32(0.835)} 0.835\n",
      "Found 0 references in Vizier with `log_R_HK_`.\n",
      "{} nan\n",
      "Found 1 references in Vizier with `EWLi`.\n",
      "{'J/A+A/664/A163/tableb1': np.float32(89.4)} 89.4\n"
     ]
    },
    {
     "name": "stderr",
     "output_type": "stream",
     "text": [
      "/tmp/ipykernel_984251/2162159534.py:7: RuntimeWarning: Mean of empty slice\n",
      "  v = np.nanmean(list(p.values()))\n"
     ]
    }
   ],
   "source": [
    "import numpy as np\n",
    "\n",
    "params = [\"B-V\", \"log_R_HK_\", \"EWLi\", \"Teff\", \"Prot\"]\n",
    "\n",
    "for param in params:\n",
    "    p = t.query_vizier_param(param)\n",
    "    v = np.nanmean(list(p.values()))\n",
    "    print(p, v)"
   ]
  },
  {
   "cell_type": "raw",
   "id": "9adb303d-b954-4ab0-9af7-a274356607a0",
   "metadata": {},
   "source": [
    "import pandas as pd\n",
    "\n",
    "data = pd.DataFrame([], columns=['hostname'])\n",
    "data"
   ]
  },
  {
   "cell_type": "code",
   "execution_count": 51,
   "id": "6fd78879-43f2-410a-9729-9e07b8a3289c",
   "metadata": {},
   "outputs": [
    {
     "data": {
      "text/html": [
       "<div>\n",
       "<style scoped>\n",
       "    .dataframe tbody tr th:only-of-type {\n",
       "        vertical-align: middle;\n",
       "    }\n",
       "\n",
       "    .dataframe tbody tr th {\n",
       "        vertical-align: top;\n",
       "    }\n",
       "\n",
       "    .dataframe thead th {\n",
       "        text-align: right;\n",
       "    }\n",
       "</style>\n",
       "<table border=\"1\" class=\"dataframe\">\n",
       "  <thead>\n",
       "    <tr style=\"text-align: right;\">\n",
       "      <th></th>\n",
       "      <th>hostname</th>\n",
       "      <th>bv</th>\n",
       "      <th>rhk</th>\n",
       "      <th>li</th>\n",
       "      <th>teff</th>\n",
       "      <th>prot</th>\n",
       "    </tr>\n",
       "  </thead>\n",
       "  <tbody>\n",
       "    <tr>\n",
       "      <th>0</th>\n",
       "      <td>OGLE-TR-10</td>\n",
       "      <td>0.606000</td>\n",
       "      <td>NaN</td>\n",
       "      <td>NaN</td>\n",
       "      <td>5702.290032</td>\n",
       "      <td>NaN</td>\n",
       "    </tr>\n",
       "    <tr>\n",
       "      <th>1</th>\n",
       "      <td>KOI-13</td>\n",
       "      <td>0.114667</td>\n",
       "      <td>NaN</td>\n",
       "      <td>NaN</td>\n",
       "      <td>7847.512429</td>\n",
       "      <td>NaN</td>\n",
       "    </tr>\n",
       "    <tr>\n",
       "      <th>2</th>\n",
       "      <td>GJ 1132</td>\n",
       "      <td>NaN</td>\n",
       "      <td>NaN</td>\n",
       "      <td>NaN</td>\n",
       "      <td>3359.359888</td>\n",
       "      <td>NaN</td>\n",
       "    </tr>\n",
       "    <tr>\n",
       "      <th>3</th>\n",
       "      <td>KELT-7</td>\n",
       "      <td>0.425826</td>\n",
       "      <td>NaN</td>\n",
       "      <td>NaN</td>\n",
       "      <td>6717.155085</td>\n",
       "      <td>NaN</td>\n",
       "    </tr>\n",
       "    <tr>\n",
       "      <th>4</th>\n",
       "      <td>HATS-61</td>\n",
       "      <td>0.787000</td>\n",
       "      <td>NaN</td>\n",
       "      <td>NaN</td>\n",
       "      <td>5479.358262</td>\n",
       "      <td>24.000000</td>\n",
       "    </tr>\n",
       "    <tr>\n",
       "      <th>...</th>\n",
       "      <td>...</td>\n",
       "      <td>...</td>\n",
       "      <td>...</td>\n",
       "      <td>...</td>\n",
       "      <td>...</td>\n",
       "      <td>...</td>\n",
       "    </tr>\n",
       "    <tr>\n",
       "      <th>78</th>\n",
       "      <td>TOI-1853</td>\n",
       "      <td>0.824000</td>\n",
       "      <td>NaN</td>\n",
       "      <td>NaN</td>\n",
       "      <td>4997.199256</td>\n",
       "      <td>NaN</td>\n",
       "    </tr>\n",
       "    <tr>\n",
       "      <th>79</th>\n",
       "      <td>HATS-35</td>\n",
       "      <td>0.644000</td>\n",
       "      <td>NaN</td>\n",
       "      <td>NaN</td>\n",
       "      <td>6106.953087</td>\n",
       "      <td>NaN</td>\n",
       "    </tr>\n",
       "    <tr>\n",
       "      <th>80</th>\n",
       "      <td>TOI-150</td>\n",
       "      <td>0.665000</td>\n",
       "      <td>NaN</td>\n",
       "      <td>NaN</td>\n",
       "      <td>5788.523313</td>\n",
       "      <td>NaN</td>\n",
       "    </tr>\n",
       "    <tr>\n",
       "      <th>81</th>\n",
       "      <td>HD 213885</td>\n",
       "      <td>0.606222</td>\n",
       "      <td>NaN</td>\n",
       "      <td>NaN</td>\n",
       "      <td>5810.933325</td>\n",
       "      <td>1.066915</td>\n",
       "    </tr>\n",
       "    <tr>\n",
       "      <th>82</th>\n",
       "      <td>Wolf 327</td>\n",
       "      <td>1.567000</td>\n",
       "      <td>NaN</td>\n",
       "      <td>NaN</td>\n",
       "      <td>3579.701462</td>\n",
       "      <td>NaN</td>\n",
       "    </tr>\n",
       "  </tbody>\n",
       "</table>\n",
       "<p>83 rows × 6 columns</p>\n",
       "</div>"
      ],
      "text/plain": [
       "      hostname        bv  rhk  li         teff       prot\n",
       "0   OGLE-TR-10  0.606000  NaN NaN  5702.290032        NaN\n",
       "1       KOI-13  0.114667  NaN NaN  7847.512429        NaN\n",
       "2      GJ 1132       NaN  NaN NaN  3359.359888        NaN\n",
       "3       KELT-7  0.425826  NaN NaN  6717.155085        NaN\n",
       "4      HATS-61  0.787000  NaN NaN  5479.358262  24.000000\n",
       "..         ...       ...  ...  ..          ...        ...\n",
       "78    TOI-1853  0.824000  NaN NaN  4997.199256        NaN\n",
       "79     HATS-35  0.644000  NaN NaN  6106.953087        NaN\n",
       "80     TOI-150  0.665000  NaN NaN  5788.523313        NaN\n",
       "81   HD 213885  0.606222  NaN NaN  5810.933325   1.066915\n",
       "82    Wolf 327  1.567000  NaN NaN  3579.701462        NaN\n",
       "\n",
       "[83 rows x 6 columns]"
      ]
     },
     "execution_count": 51,
     "metadata": {},
     "output_type": "execute_result"
    }
   ],
   "source": [
    "import pandas as pd\n",
    "\n",
    "data = pd.read_csv('../data/youth_indicators_nexsci.csv')\n",
    "data"
   ]
  },
  {
   "cell_type": "code",
   "execution_count": 62,
   "id": "60722f79-0899-4e6c-bda9-d044755ace5d",
   "metadata": {},
   "outputs": [
    {
     "data": {
      "text/plain": [
       "0"
      ]
     },
     "execution_count": 62,
     "metadata": {},
     "output_type": "execute_result"
    }
   ],
   "source": [
    "len(data.li.dropna())"
   ]
  },
  {
   "cell_type": "code",
   "execution_count": 63,
   "id": "6e0a4cc0-306a-4348-9da1-e4dcd2fd5e1a",
   "metadata": {},
   "outputs": [
    {
     "data": {
      "text/plain": [
       "0"
      ]
     },
     "execution_count": 63,
     "metadata": {},
     "output_type": "execute_result"
    }
   ],
   "source": [
    "len(data.rhk.dropna())"
   ]
  },
  {
   "cell_type": "code",
   "execution_count": 61,
   "id": "65e8e1bb-f898-4907-994a-d795585fd983",
   "metadata": {},
   "outputs": [
    {
     "data": {
      "text/plain": [
       "35"
      ]
     },
     "execution_count": 61,
     "metadata": {},
     "output_type": "execute_result"
    }
   ],
   "source": [
    "len(data.prot.dropna())"
   ]
  },
  {
   "cell_type": "code",
   "execution_count": 47,
   "id": "155344cd",
   "metadata": {
    "ExecuteTime": {
     "end_time": "2023-04-07T10:36:09.049271Z",
     "start_time": "2023-04-07T10:15:10.881818Z"
    }
   },
   "outputs": [
    {
     "data": {
      "application/vnd.jupyter.widget-view+json": {
       "model_id": "0b5895b6a72a481bb0d71f8deb21bd2a",
       "version_major": 2,
       "version_minor": 0
      },
      "text/plain": [
       "0it [00:00, ?it/s]"
      ]
     },
     "metadata": {},
     "output_type": "display_data"
    },
    {
     "name": "stderr",
     "output_type": "stream",
     "text": [
      "WARNING: UnitsWarning: Unit 'x' not supported by the VOUnit standard.  [astropy.units.format.vounit]\n",
      "WARNING: UnitsWarning: Unit 'Earth' not supported by the VOUnit standard.  [astropy.units.format.vounit]\n"
     ]
    },
    {
     "name": "stdout",
     "output_type": "stream",
     "text": [
      "Found 1 references in Vizier with `B-V`.\n",
      "Found 0 references in Vizier with `log_R_HK_`.\n",
      "Found 0 references in Vizier with `EWLi`.\n",
      "Found 15 references in Vizier with `Teff`.\n",
      "Found 0 references in Vizier with `Prot`.\n"
     ]
    },
    {
     "name": "stderr",
     "output_type": "stream",
     "text": [
      "/tmp/ipykernel_984251/948069822.py:18: RuntimeWarning: Mean of empty slice\n",
      "  v = np.nanmean(list(p.values()))\n",
      "WARNING: UnitsWarning: Unit 'x' not supported by the VOUnit standard.  [astropy.units.format.vounit]\n",
      "WARNING: UnitsWarning: Unit 'Earth' not supported by the VOUnit standard.  [astropy.units.format.vounit]\n"
     ]
    },
    {
     "name": "stdout",
     "output_type": "stream",
     "text": [
      "Found 2 references in Vizier with `B-V`.\n",
      "Found 0 references in Vizier with `log_R_HK_`.\n",
      "Found 0 references in Vizier with `EWLi`.\n",
      "Found 21 references in Vizier with `Teff`.\n",
      "Found 0 references in Vizier with `Prot`.\n"
     ]
    },
    {
     "name": "stderr",
     "output_type": "stream",
     "text": [
      "/tmp/ipykernel_984251/948069822.py:18: RuntimeWarning: Mean of empty slice\n",
      "  v = np.nanmean(list(p.values()))\n",
      "WARNING: UnitsWarning: Unit 'x' not supported by the VOUnit standard.  [astropy.units.format.vounit]\n",
      "WARNING: UnitsWarning: Unit 'Earth' not supported by the VOUnit standard.  [astropy.units.format.vounit]\n"
     ]
    },
    {
     "name": "stdout",
     "output_type": "stream",
     "text": [
      "Found 3 references in Vizier with `B-V`.\n",
      "Found 0 references in Vizier with `log_R_HK_`.\n",
      "Found 0 references in Vizier with `EWLi`.\n",
      "Found 19 references in Vizier with `Teff`.\n",
      "Found 0 references in Vizier with `Prot`.\n"
     ]
    },
    {
     "name": "stderr",
     "output_type": "stream",
     "text": [
      "/tmp/ipykernel_984251/948069822.py:18: RuntimeWarning: Mean of empty slice\n",
      "  v = np.nanmean(list(p.values()))\n",
      "WARNING: UnitsWarning: Unit 'Earth' not supported by the VOUnit standard.  [astropy.units.format.vounit]\n"
     ]
    },
    {
     "name": "stdout",
     "output_type": "stream",
     "text": [
      "Found 1 references in Vizier with `B-V`.\n",
      "Found 0 references in Vizier with `log_R_HK_`.\n",
      "Found 0 references in Vizier with `EWLi`.\n",
      "Found 11 references in Vizier with `Teff`.\n",
      "Found 0 references in Vizier with `Prot`.\n"
     ]
    },
    {
     "name": "stderr",
     "output_type": "stream",
     "text": [
      "/tmp/ipykernel_984251/948069822.py:18: RuntimeWarning: Mean of empty slice\n",
      "  v = np.nanmean(list(p.values()))\n",
      "WARNING: UnitsWarning: Unit 'x' not supported by the VOUnit standard.  [astropy.units.format.vounit]\n",
      "WARNING: UnitsWarning: Unit 'Earth' not supported by the VOUnit standard.  [astropy.units.format.vounit]\n"
     ]
    },
    {
     "name": "stdout",
     "output_type": "stream",
     "text": [
      "Found 2 references in Vizier with `B-V`.\n",
      "Found 0 references in Vizier with `log_R_HK_`.\n",
      "Found 0 references in Vizier with `EWLi`.\n",
      "Found 15 references in Vizier with `Teff`.\n",
      "Found 0 references in Vizier with `Prot`.\n"
     ]
    },
    {
     "name": "stderr",
     "output_type": "stream",
     "text": [
      "/tmp/ipykernel_984251/948069822.py:18: RuntimeWarning: Mean of empty slice\n",
      "  v = np.nanmean(list(p.values()))\n",
      "WARNING: UnitsWarning: Unit 'x' not supported by the VOUnit standard.  [astropy.units.format.vounit]\n",
      "WARNING: UnitsWarning: Unit 'Earth' not supported by the VOUnit standard.  [astropy.units.format.vounit]\n"
     ]
    },
    {
     "name": "stdout",
     "output_type": "stream",
     "text": [
      "Found 2 references in Vizier with `B-V`.\n",
      "Found 0 references in Vizier with `log_R_HK_`.\n",
      "Found 0 references in Vizier with `EWLi`.\n",
      "Found 22 references in Vizier with `Teff`.\n",
      "Found 1 references in Vizier with `Prot`.\n"
     ]
    },
    {
     "name": "stderr",
     "output_type": "stream",
     "text": [
      "/tmp/ipykernel_984251/948069822.py:18: RuntimeWarning: Mean of empty slice\n",
      "  v = np.nanmean(list(p.values()))\n",
      "WARNING: UnitsWarning: Unit 'x' not supported by the VOUnit standard.  [astropy.units.format.vounit]\n",
      "WARNING: UnitsWarning: Unit 'Earth' not supported by the VOUnit standard.  [astropy.units.format.vounit]\n"
     ]
    },
    {
     "name": "stdout",
     "output_type": "stream",
     "text": [
      "Found 3 references in Vizier with `B-V`.\n",
      "Found 0 references in Vizier with `log_R_HK_`.\n",
      "Found 0 references in Vizier with `EWLi`.\n",
      "Found 29 references in Vizier with `Teff`.\n",
      "Found 0 references in Vizier with `Prot`.\n"
     ]
    },
    {
     "name": "stderr",
     "output_type": "stream",
     "text": [
      "/tmp/ipykernel_984251/948069822.py:18: RuntimeWarning: Mean of empty slice\n",
      "  v = np.nanmean(list(p.values()))\n",
      "WARNING: UnitsWarning: Unit 'x' not supported by the VOUnit standard.  [astropy.units.format.vounit]\n",
      "WARNING: UnitsWarning: Unit 'Earth' not supported by the VOUnit standard.  [astropy.units.format.vounit]\n"
     ]
    },
    {
     "name": "stdout",
     "output_type": "stream",
     "text": [
      "Found 4 references in Vizier with `B-V`.\n",
      "Found 0 references in Vizier with `log_R_HK_`.\n",
      "Found 0 references in Vizier with `EWLi`.\n",
      "Found 46 references in Vizier with `Teff`.\n",
      "Found 1 references in Vizier with `Prot`.\n"
     ]
    },
    {
     "name": "stderr",
     "output_type": "stream",
     "text": [
      "/tmp/ipykernel_984251/948069822.py:18: RuntimeWarning: Mean of empty slice\n",
      "  v = np.nanmean(list(p.values()))\n"
     ]
    },
    {
     "name": "stdout",
     "output_type": "stream",
     "text": [
      "Found 1 references in Vizier with `B-V`.\n",
      "Found 0 references in Vizier with `log_R_HK_`.\n",
      "Found 0 references in Vizier with `EWLi`.\n",
      "Found 10 references in Vizier with `Teff`.\n",
      "Found 0 references in Vizier with `Prot`.\n"
     ]
    },
    {
     "name": "stderr",
     "output_type": "stream",
     "text": [
      "/tmp/ipykernel_984251/948069822.py:18: RuntimeWarning: Mean of empty slice\n",
      "  v = np.nanmean(list(p.values()))\n",
      "WARNING: UnitsWarning: Unit 'x' not supported by the VOUnit standard.  [astropy.units.format.vounit]\n",
      "WARNING: UnitsWarning: Unit 'Earth' not supported by the VOUnit standard.  [astropy.units.format.vounit]\n"
     ]
    },
    {
     "name": "stdout",
     "output_type": "stream",
     "text": [
      "Found 1 references in Vizier with `B-V`.\n",
      "Found 0 references in Vizier with `log_R_HK_`.\n",
      "Found 0 references in Vizier with `EWLi`.\n",
      "Found 23 references in Vizier with `Teff`.\n",
      "Found 0 references in Vizier with `Prot`.\n"
     ]
    },
    {
     "name": "stderr",
     "output_type": "stream",
     "text": [
      "/tmp/ipykernel_984251/948069822.py:18: RuntimeWarning: Mean of empty slice\n",
      "  v = np.nanmean(list(p.values()))\n",
      "WARNING: UnitsWarning: Unit 'x' not supported by the VOUnit standard.  [astropy.units.format.vounit]\n",
      "WARNING: UnitsWarning: Unit 'Earth' not supported by the VOUnit standard.  [astropy.units.format.vounit]\n"
     ]
    },
    {
     "name": "stdout",
     "output_type": "stream",
     "text": [
      "Found 5 references in Vizier with `B-V`.\n",
      "Found 0 references in Vizier with `log_R_HK_`.\n",
      "Found 0 references in Vizier with `EWLi`.\n",
      "Found 57 references in Vizier with `Teff`.\n",
      "Found 1 references in Vizier with `Prot`.\n"
     ]
    },
    {
     "name": "stderr",
     "output_type": "stream",
     "text": [
      "/tmp/ipykernel_984251/948069822.py:18: RuntimeWarning: Mean of empty slice\n",
      "  v = np.nanmean(list(p.values()))\n",
      "WARNING: UnitsWarning: Unit 'Earth' not supported by the VOUnit standard.  [astropy.units.format.vounit]\n"
     ]
    },
    {
     "name": "stdout",
     "output_type": "stream",
     "text": [
      "Found 1 references in Vizier with `B-V`.\n",
      "Found 0 references in Vizier with `log_R_HK_`.\n",
      "Found 0 references in Vizier with `EWLi`.\n",
      "Found 16 references in Vizier with `Teff`.\n",
      "Found 0 references in Vizier with `Prot`.\n"
     ]
    },
    {
     "name": "stderr",
     "output_type": "stream",
     "text": [
      "/tmp/ipykernel_984251/948069822.py:18: RuntimeWarning: Mean of empty slice\n",
      "  v = np.nanmean(list(p.values()))\n",
      "WARNING: UnitsWarning: Unit 'Earth' not supported by the VOUnit standard.  [astropy.units.format.vounit]\n"
     ]
    },
    {
     "name": "stdout",
     "output_type": "stream",
     "text": [
      "Found 3 references in Vizier with `B-V`.\n",
      "Found 0 references in Vizier with `log_R_HK_`.\n",
      "Found 0 references in Vizier with `EWLi`.\n",
      "Found 18 references in Vizier with `Teff`.\n",
      "Found 0 references in Vizier with `Prot`.\n"
     ]
    },
    {
     "name": "stderr",
     "output_type": "stream",
     "text": [
      "/tmp/ipykernel_984251/948069822.py:18: RuntimeWarning: Mean of empty slice\n",
      "  v = np.nanmean(list(p.values()))\n",
      "WARNING: UnitsWarning: Unit 'Earth' not supported by the VOUnit standard.  [astropy.units.format.vounit]\n"
     ]
    },
    {
     "name": "stdout",
     "output_type": "stream",
     "text": [
      "Found 1 references in Vizier with `B-V`.\n",
      "Found 0 references in Vizier with `log_R_HK_`.\n",
      "Found 0 references in Vizier with `EWLi`.\n",
      "Found 18 references in Vizier with `Teff`.\n",
      "Found 0 references in Vizier with `Prot`.\n"
     ]
    },
    {
     "name": "stderr",
     "output_type": "stream",
     "text": [
      "/tmp/ipykernel_984251/948069822.py:18: RuntimeWarning: Mean of empty slice\n",
      "  v = np.nanmean(list(p.values()))\n",
      "WARNING: UnitsWarning: Unit 'x' not supported by the VOUnit standard.  [astropy.units.format.vounit]\n",
      "WARNING: UnitsWarning: Unit 'Earth' not supported by the VOUnit standard.  [astropy.units.format.vounit]\n"
     ]
    },
    {
     "name": "stdout",
     "output_type": "stream",
     "text": [
      "Found 5 references in Vizier with `B-V`.\n",
      "Found 0 references in Vizier with `log_R_HK_`.\n",
      "Found 0 references in Vizier with `EWLi`.\n",
      "Found 45 references in Vizier with `Teff`.\n",
      "Found 0 references in Vizier with `Prot`.\n"
     ]
    },
    {
     "name": "stderr",
     "output_type": "stream",
     "text": [
      "/tmp/ipykernel_984251/948069822.py:18: RuntimeWarning: Mean of empty slice\n",
      "  v = np.nanmean(list(p.values()))\n",
      "WARNING: UnitsWarning: Unit 'x' not supported by the VOUnit standard.  [astropy.units.format.vounit]\n",
      "WARNING: UnitsWarning: Unit 'Earth' not supported by the VOUnit standard.  [astropy.units.format.vounit]\n"
     ]
    },
    {
     "name": "stdout",
     "output_type": "stream",
     "text": [
      "Found 2 references in Vizier with `B-V`.\n",
      "Found 0 references in Vizier with `log_R_HK_`.\n",
      "Found 0 references in Vizier with `EWLi`.\n",
      "Found 16 references in Vizier with `Teff`.\n",
      "Found 0 references in Vizier with `Prot`.\n"
     ]
    },
    {
     "name": "stderr",
     "output_type": "stream",
     "text": [
      "/tmp/ipykernel_984251/948069822.py:18: RuntimeWarning: Mean of empty slice\n",
      "  v = np.nanmean(list(p.values()))\n",
      "WARNING: UnitsWarning: Unit 'e' not supported by the VOUnit standard.  [astropy.units.format.vounit]\n",
      "WARNING: UnitsWarning: Unit 'Earth' not supported by the VOUnit standard.  [astropy.units.format.vounit]\n"
     ]
    },
    {
     "name": "stdout",
     "output_type": "stream",
     "text": [
      "Found 1 references in Vizier with `B-V`.\n",
      "Found 0 references in Vizier with `log_R_HK_`.\n",
      "Found 0 references in Vizier with `EWLi`.\n",
      "Found 28 references in Vizier with `Teff`.\n",
      "Found 0 references in Vizier with `Prot`.\n"
     ]
    },
    {
     "name": "stderr",
     "output_type": "stream",
     "text": [
      "/tmp/ipykernel_984251/948069822.py:18: RuntimeWarning: Mean of empty slice\n",
      "  v = np.nanmean(list(p.values()))\n",
      "WARNING: UnitsWarning: Unit 'Earth' not supported by the VOUnit standard.  [astropy.units.format.vounit]\n"
     ]
    },
    {
     "name": "stdout",
     "output_type": "stream",
     "text": [
      "Found 3 references in Vizier with `B-V`.\n",
      "Found 0 references in Vizier with `log_R_HK_`.\n",
      "Found 0 references in Vizier with `EWLi`.\n",
      "Found 14 references in Vizier with `Teff`.\n",
      "Found 0 references in Vizier with `Prot`.\n"
     ]
    },
    {
     "name": "stderr",
     "output_type": "stream",
     "text": [
      "/tmp/ipykernel_984251/948069822.py:18: RuntimeWarning: Mean of empty slice\n",
      "  v = np.nanmean(list(p.values()))\n",
      "WARNING: UnitsWarning: Unit 'Earth' not supported by the VOUnit standard.  [astropy.units.format.vounit]\n"
     ]
    },
    {
     "name": "stdout",
     "output_type": "stream",
     "text": [
      "Found 1 references in Vizier with `B-V`.\n",
      "Found 0 references in Vizier with `log_R_HK_`.\n",
      "Found 0 references in Vizier with `EWLi`.\n",
      "Found 22 references in Vizier with `Teff`.\n",
      "Found 0 references in Vizier with `Prot`.\n"
     ]
    },
    {
     "name": "stderr",
     "output_type": "stream",
     "text": [
      "/tmp/ipykernel_984251/948069822.py:18: RuntimeWarning: Mean of empty slice\n",
      "  v = np.nanmean(list(p.values()))\n",
      "WARNING: UnitsWarning: Unit 'e' not supported by the VOUnit standard.  [astropy.units.format.vounit]\n",
      "WARNING: UnitsWarning: Unit 'Earth' not supported by the VOUnit standard.  [astropy.units.format.vounit]\n"
     ]
    },
    {
     "name": "stdout",
     "output_type": "stream",
     "text": [
      "Found 1 references in Vizier with `B-V`.\n",
      "Found 0 references in Vizier with `log_R_HK_`.\n",
      "Found 0 references in Vizier with `EWLi`.\n",
      "Found 20 references in Vizier with `Teff`.\n",
      "Found 0 references in Vizier with `Prot`.\n"
     ]
    },
    {
     "name": "stderr",
     "output_type": "stream",
     "text": [
      "/tmp/ipykernel_984251/948069822.py:18: RuntimeWarning: Mean of empty slice\n",
      "  v = np.nanmean(list(p.values()))\n"
     ]
    },
    {
     "name": "stdout",
     "output_type": "stream",
     "text": [
      "Found 1 references in Vizier with `B-V`.\n",
      "Found 0 references in Vizier with `log_R_HK_`.\n",
      "Found 0 references in Vizier with `EWLi`.\n",
      "Found 15 references in Vizier with `Teff`.\n",
      "Found 0 references in Vizier with `Prot`.\n"
     ]
    },
    {
     "name": "stderr",
     "output_type": "stream",
     "text": [
      "/tmp/ipykernel_984251/948069822.py:18: RuntimeWarning: Mean of empty slice\n",
      "  v = np.nanmean(list(p.values()))\n",
      "WARNING: UnitsWarning: Unit 'Earth' not supported by the VOUnit standard.  [astropy.units.format.vounit]\n"
     ]
    },
    {
     "name": "stdout",
     "output_type": "stream",
     "text": [
      "Found 1 references in Vizier with `B-V`.\n",
      "Found 0 references in Vizier with `log_R_HK_`.\n",
      "Found 0 references in Vizier with `EWLi`.\n",
      "Found 27 references in Vizier with `Teff`.\n",
      "Found 0 references in Vizier with `Prot`.\n"
     ]
    },
    {
     "name": "stderr",
     "output_type": "stream",
     "text": [
      "/tmp/ipykernel_984251/948069822.py:18: RuntimeWarning: Mean of empty slice\n",
      "  v = np.nanmean(list(p.values()))\n",
      "WARNING: UnitsWarning: Unit 'x' not supported by the VOUnit standard.  [astropy.units.format.vounit]\n",
      "WARNING: UnitsWarning: Unit 'Earth' not supported by the VOUnit standard.  [astropy.units.format.vounit]\n"
     ]
    },
    {
     "name": "stdout",
     "output_type": "stream",
     "text": [
      "Found 2 references in Vizier with `B-V`.\n",
      "Found 0 references in Vizier with `log_R_HK_`.\n",
      "Found 0 references in Vizier with `EWLi`.\n",
      "Found 19 references in Vizier with `Teff`.\n",
      "Found 0 references in Vizier with `Prot`.\n"
     ]
    },
    {
     "name": "stderr",
     "output_type": "stream",
     "text": [
      "/tmp/ipykernel_984251/948069822.py:18: RuntimeWarning: Mean of empty slice\n",
      "  v = np.nanmean(list(p.values()))\n",
      "WARNING: UnitsWarning: Unit 'x' not supported by the VOUnit standard.  [astropy.units.format.vounit]\n",
      "WARNING: UnitsWarning: Unit 'Earth' not supported by the VOUnit standard.  [astropy.units.format.vounit]\n"
     ]
    },
    {
     "name": "stdout",
     "output_type": "stream",
     "text": [
      "Found 1 references in Vizier with `B-V`.\n",
      "Found 0 references in Vizier with `log_R_HK_`.\n",
      "Found 0 references in Vizier with `EWLi`.\n",
      "Found 31 references in Vizier with `Teff`.\n",
      "Found 0 references in Vizier with `Prot`.\n"
     ]
    },
    {
     "name": "stderr",
     "output_type": "stream",
     "text": [
      "/tmp/ipykernel_984251/948069822.py:18: RuntimeWarning: Mean of empty slice\n",
      "  v = np.nanmean(list(p.values()))\n",
      "WARNING: UnitsWarning: Unit 'x' not supported by the VOUnit standard.  [astropy.units.format.vounit]\n",
      "WARNING: UnitsWarning: Unit 'Earth' not supported by the VOUnit standard.  [astropy.units.format.vounit]\n",
      "WARNING: UnitsWarning: Unit 'al' not supported by the VOUnit standard. Did you mean alm or alx? [astropy.units.format.vounit]\n",
      "WARNING: UnitsWarning: Unit 'as' not supported by the VOUnit standard. Did you mean A or a? [astropy.units.format.vounit]\n"
     ]
    },
    {
     "name": "stdout",
     "output_type": "stream",
     "text": [
      "Found 9 references in Vizier with `B-V`.\n",
      "Found 0 references in Vizier with `log_R_HK_`.\n",
      "Found 0 references in Vizier with `EWLi`.\n",
      "Found 34 references in Vizier with `Teff`.\n",
      "Found 2 references in Vizier with `Prot`.\n"
     ]
    },
    {
     "name": "stderr",
     "output_type": "stream",
     "text": [
      "/tmp/ipykernel_984251/948069822.py:18: RuntimeWarning: Mean of empty slice\n",
      "  v = np.nanmean(list(p.values()))\n",
      "WARNING: UnitsWarning: Unit 'x' not supported by the VOUnit standard.  [astropy.units.format.vounit]\n",
      "WARNING: UnitsWarning: Unit 'Earth' not supported by the VOUnit standard.  [astropy.units.format.vounit]\n"
     ]
    },
    {
     "name": "stdout",
     "output_type": "stream",
     "text": [
      "Found 2 references in Vizier with `B-V`.\n",
      "Found 0 references in Vizier with `log_R_HK_`.\n",
      "Found 0 references in Vizier with `EWLi`.\n",
      "Found 15 references in Vizier with `Teff`.\n",
      "Found 0 references in Vizier with `Prot`.\n"
     ]
    },
    {
     "name": "stderr",
     "output_type": "stream",
     "text": [
      "/tmp/ipykernel_984251/948069822.py:18: RuntimeWarning: Mean of empty slice\n",
      "  v = np.nanmean(list(p.values()))\n",
      "WARNING: UnitsWarning: Unit 'x' not supported by the VOUnit standard.  [astropy.units.format.vounit]\n",
      "WARNING: UnitsWarning: Unit 'Earth' not supported by the VOUnit standard.  [astropy.units.format.vounit]\n"
     ]
    },
    {
     "name": "stdout",
     "output_type": "stream",
     "text": [
      "Found 4 references in Vizier with `B-V`.\n",
      "Found 0 references in Vizier with `log_R_HK_`.\n",
      "Found 0 references in Vizier with `EWLi`.\n",
      "Found 58 references in Vizier with `Teff`.\n"
     ]
    },
    {
     "name": "stderr",
     "output_type": "stream",
     "text": [
      "/tmp/ipykernel_984251/948069822.py:18: RuntimeWarning: Mean of empty slice\n",
      "  v = np.nanmean(list(p.values()))\n"
     ]
    },
    {
     "ename": "TypeError",
     "evalue": "the resolved dtypes are not compatible with add.reduce. Resolved (dtype('<U32'), dtype('<U32'), dtype('<U64'))",
     "output_type": "error",
     "traceback": [
      "\u001b[0;31m---------------------------------------------------------------------------\u001b[0m",
      "\u001b[0;31mTypeError\u001b[0m                                 Traceback (most recent call last)",
      "Cell \u001b[0;32mIn[47], line 18\u001b[0m\n\u001b[1;32m     17\u001b[0m \u001b[38;5;28;01mtry\u001b[39;00m:\n\u001b[0;32m---> 18\u001b[0m     v \u001b[38;5;241m=\u001b[39m \u001b[43mnp\u001b[49m\u001b[38;5;241;43m.\u001b[39;49m\u001b[43mnanmean\u001b[49m\u001b[43m(\u001b[49m\u001b[38;5;28;43mlist\u001b[39;49m\u001b[43m(\u001b[49m\u001b[43mp\u001b[49m\u001b[38;5;241;43m.\u001b[39;49m\u001b[43mvalues\u001b[49m\u001b[43m(\u001b[49m\u001b[43m)\u001b[49m\u001b[43m)\u001b[49m\u001b[43m)\u001b[49m\n\u001b[1;32m     19\u001b[0m \u001b[38;5;28;01mexcept\u001b[39;00m:\n",
      "File \u001b[0;32m~/miniconda3/envs/wakai/lib/python3.12/site-packages/numpy/lib/_nanfunctions_impl.py:1050\u001b[0m, in \u001b[0;36mnanmean\u001b[0;34m(a, axis, dtype, out, keepdims, where)\u001b[0m\n\u001b[1;32m   1049\u001b[0m \u001b[38;5;28;01mif\u001b[39;00m mask \u001b[38;5;129;01mis\u001b[39;00m \u001b[38;5;28;01mNone\u001b[39;00m:\n\u001b[0;32m-> 1050\u001b[0m     \u001b[38;5;28;01mreturn\u001b[39;00m \u001b[43mnp\u001b[49m\u001b[38;5;241;43m.\u001b[39;49m\u001b[43mmean\u001b[49m\u001b[43m(\u001b[49m\u001b[43marr\u001b[49m\u001b[43m,\u001b[49m\u001b[43m \u001b[49m\u001b[43maxis\u001b[49m\u001b[38;5;241;43m=\u001b[39;49m\u001b[43maxis\u001b[49m\u001b[43m,\u001b[49m\u001b[43m \u001b[49m\u001b[43mdtype\u001b[49m\u001b[38;5;241;43m=\u001b[39;49m\u001b[43mdtype\u001b[49m\u001b[43m,\u001b[49m\u001b[43m \u001b[49m\u001b[43mout\u001b[49m\u001b[38;5;241;43m=\u001b[39;49m\u001b[43mout\u001b[49m\u001b[43m,\u001b[49m\u001b[43m \u001b[49m\u001b[43mkeepdims\u001b[49m\u001b[38;5;241;43m=\u001b[39;49m\u001b[43mkeepdims\u001b[49m\u001b[43m,\u001b[49m\n\u001b[1;32m   1051\u001b[0m \u001b[43m                   \u001b[49m\u001b[43mwhere\u001b[49m\u001b[38;5;241;43m=\u001b[39;49m\u001b[43mwhere\u001b[49m\u001b[43m)\u001b[49m\n\u001b[1;32m   1053\u001b[0m \u001b[38;5;28;01mif\u001b[39;00m dtype \u001b[38;5;129;01mis\u001b[39;00m \u001b[38;5;129;01mnot\u001b[39;00m \u001b[38;5;28;01mNone\u001b[39;00m:\n",
      "File \u001b[0;32m~/miniconda3/envs/wakai/lib/python3.12/site-packages/numpy/_core/fromnumeric.py:3596\u001b[0m, in \u001b[0;36mmean\u001b[0;34m(a, axis, dtype, out, keepdims, where)\u001b[0m\n\u001b[1;32m   3594\u001b[0m         \u001b[38;5;28;01mreturn\u001b[39;00m mean(axis\u001b[38;5;241m=\u001b[39maxis, dtype\u001b[38;5;241m=\u001b[39mdtype, out\u001b[38;5;241m=\u001b[39mout, \u001b[38;5;241m*\u001b[39m\u001b[38;5;241m*\u001b[39mkwargs)\n\u001b[0;32m-> 3596\u001b[0m \u001b[38;5;28;01mreturn\u001b[39;00m \u001b[43m_methods\u001b[49m\u001b[38;5;241;43m.\u001b[39;49m\u001b[43m_mean\u001b[49m\u001b[43m(\u001b[49m\u001b[43ma\u001b[49m\u001b[43m,\u001b[49m\u001b[43m \u001b[49m\u001b[43maxis\u001b[49m\u001b[38;5;241;43m=\u001b[39;49m\u001b[43maxis\u001b[49m\u001b[43m,\u001b[49m\u001b[43m \u001b[49m\u001b[43mdtype\u001b[49m\u001b[38;5;241;43m=\u001b[39;49m\u001b[43mdtype\u001b[49m\u001b[43m,\u001b[49m\n\u001b[1;32m   3597\u001b[0m \u001b[43m                      \u001b[49m\u001b[43mout\u001b[49m\u001b[38;5;241;43m=\u001b[39;49m\u001b[43mout\u001b[49m\u001b[43m,\u001b[49m\u001b[43m \u001b[49m\u001b[38;5;241;43m*\u001b[39;49m\u001b[38;5;241;43m*\u001b[39;49m\u001b[43mkwargs\u001b[49m\u001b[43m)\u001b[49m\n",
      "File \u001b[0;32m~/miniconda3/envs/wakai/lib/python3.12/site-packages/numpy/_core/_methods.py:127\u001b[0m, in \u001b[0;36m_mean\u001b[0;34m(a, axis, dtype, out, keepdims, where)\u001b[0m\n\u001b[1;32m    125\u001b[0m         is_float16_result \u001b[38;5;241m=\u001b[39m \u001b[38;5;28;01mTrue\u001b[39;00m\n\u001b[0;32m--> 127\u001b[0m ret \u001b[38;5;241m=\u001b[39m \u001b[43mumr_sum\u001b[49m\u001b[43m(\u001b[49m\u001b[43marr\u001b[49m\u001b[43m,\u001b[49m\u001b[43m \u001b[49m\u001b[43maxis\u001b[49m\u001b[43m,\u001b[49m\u001b[43m \u001b[49m\u001b[43mdtype\u001b[49m\u001b[43m,\u001b[49m\u001b[43m \u001b[49m\u001b[43mout\u001b[49m\u001b[43m,\u001b[49m\u001b[43m \u001b[49m\u001b[43mkeepdims\u001b[49m\u001b[43m,\u001b[49m\u001b[43m \u001b[49m\u001b[43mwhere\u001b[49m\u001b[38;5;241;43m=\u001b[39;49m\u001b[43mwhere\u001b[49m\u001b[43m)\u001b[49m\n\u001b[1;32m    128\u001b[0m \u001b[38;5;28;01mif\u001b[39;00m \u001b[38;5;28misinstance\u001b[39m(ret, mu\u001b[38;5;241m.\u001b[39mndarray):\n",
      "\u001b[0;31mTypeError\u001b[0m: the resolved dtypes are not compatible with add.reduce. Resolved (dtype('<U32'), dtype('<U32'), dtype('<U64'))",
      "\nDuring handling of the above exception, another exception occurred:\n",
      "\u001b[0;31mTypeError\u001b[0m                                 Traceback (most recent call last)",
      "Cell \u001b[0;32mIn[47], line 24\u001b[0m\n\u001b[1;32m     22\u001b[0m             \u001b[38;5;28;01mif\u001b[39;00m \u001b[38;5;28misinstance\u001b[39m(x, (\u001b[38;5;28mint\u001b[39m, \u001b[38;5;28mfloat\u001b[39m, \u001b[38;5;28mstr\u001b[39m)) \u001b[38;5;129;01mand\u001b[39;00m \u001b[38;5;28mstr\u001b[39m(x)\u001b[38;5;241m.\u001b[39mreplace(\u001b[38;5;124m'\u001b[39m\u001b[38;5;124m.\u001b[39m\u001b[38;5;124m'\u001b[39m, \u001b[38;5;124m'\u001b[39m\u001b[38;5;124m'\u001b[39m, \u001b[38;5;241m1\u001b[39m)\u001b[38;5;241m.\u001b[39misdigit():\n\u001b[1;32m     23\u001b[0m                 vals\u001b[38;5;241m.\u001b[39mappend(x)\n\u001b[0;32m---> 24\u001b[0m         v \u001b[38;5;241m=\u001b[39m \u001b[43mnp\u001b[49m\u001b[38;5;241;43m.\u001b[39;49m\u001b[43mnanmean\u001b[49m\u001b[43m(\u001b[49m\u001b[43mvals\u001b[49m\u001b[43m)\u001b[49m\n\u001b[1;32m     25\u001b[0m     d[param] \u001b[38;5;241m=\u001b[39m v\n\u001b[1;32m     26\u001b[0m s \u001b[38;5;241m=\u001b[39m pd\u001b[38;5;241m.\u001b[39mSeries(d)\u001b[38;5;241m.\u001b[39mrename({\u001b[38;5;124m\"\u001b[39m\u001b[38;5;124mB-V\u001b[39m\u001b[38;5;124m\"\u001b[39m: \u001b[38;5;124m\"\u001b[39m\u001b[38;5;124mbv\u001b[39m\u001b[38;5;124m\"\u001b[39m, \n\u001b[1;32m     27\u001b[0m          \u001b[38;5;124m\"\u001b[39m\u001b[38;5;124mlog_R_HK_\u001b[39m\u001b[38;5;124m\"\u001b[39m: \u001b[38;5;124m\"\u001b[39m\u001b[38;5;124mrhk\u001b[39m\u001b[38;5;124m\"\u001b[39m, \n\u001b[1;32m     28\u001b[0m          \u001b[38;5;124m\"\u001b[39m\u001b[38;5;124mEWLi\u001b[39m\u001b[38;5;124m\"\u001b[39m: \u001b[38;5;124m\"\u001b[39m\u001b[38;5;124mli\u001b[39m\u001b[38;5;124m\"\u001b[39m, \n\u001b[1;32m     29\u001b[0m          \u001b[38;5;124m\"\u001b[39m\u001b[38;5;124mTeff\u001b[39m\u001b[38;5;124m\"\u001b[39m: \u001b[38;5;124m\"\u001b[39m\u001b[38;5;124mteff\u001b[39m\u001b[38;5;124m\"\u001b[39m, \n\u001b[1;32m     30\u001b[0m          \u001b[38;5;124m\"\u001b[39m\u001b[38;5;124mProt\u001b[39m\u001b[38;5;124m\"\u001b[39m: \u001b[38;5;124m\"\u001b[39m\u001b[38;5;124mprot\u001b[39m\u001b[38;5;124m\"\u001b[39m})\u001b[38;5;241m.\u001b[39mto_frame()\u001b[38;5;241m.\u001b[39mT\n",
      "File \u001b[0;32m~/miniconda3/envs/wakai/lib/python3.12/site-packages/numpy/lib/_nanfunctions_impl.py:1050\u001b[0m, in \u001b[0;36mnanmean\u001b[0;34m(a, axis, dtype, out, keepdims, where)\u001b[0m\n\u001b[1;32m   1048\u001b[0m arr, mask \u001b[38;5;241m=\u001b[39m _replace_nan(a, \u001b[38;5;241m0\u001b[39m)\n\u001b[1;32m   1049\u001b[0m \u001b[38;5;28;01mif\u001b[39;00m mask \u001b[38;5;129;01mis\u001b[39;00m \u001b[38;5;28;01mNone\u001b[39;00m:\n\u001b[0;32m-> 1050\u001b[0m     \u001b[38;5;28;01mreturn\u001b[39;00m \u001b[43mnp\u001b[49m\u001b[38;5;241;43m.\u001b[39;49m\u001b[43mmean\u001b[49m\u001b[43m(\u001b[49m\u001b[43marr\u001b[49m\u001b[43m,\u001b[49m\u001b[43m \u001b[49m\u001b[43maxis\u001b[49m\u001b[38;5;241;43m=\u001b[39;49m\u001b[43maxis\u001b[49m\u001b[43m,\u001b[49m\u001b[43m \u001b[49m\u001b[43mdtype\u001b[49m\u001b[38;5;241;43m=\u001b[39;49m\u001b[43mdtype\u001b[49m\u001b[43m,\u001b[49m\u001b[43m \u001b[49m\u001b[43mout\u001b[49m\u001b[38;5;241;43m=\u001b[39;49m\u001b[43mout\u001b[49m\u001b[43m,\u001b[49m\u001b[43m \u001b[49m\u001b[43mkeepdims\u001b[49m\u001b[38;5;241;43m=\u001b[39;49m\u001b[43mkeepdims\u001b[49m\u001b[43m,\u001b[49m\n\u001b[1;32m   1051\u001b[0m \u001b[43m                   \u001b[49m\u001b[43mwhere\u001b[49m\u001b[38;5;241;43m=\u001b[39;49m\u001b[43mwhere\u001b[49m\u001b[43m)\u001b[49m\n\u001b[1;32m   1053\u001b[0m \u001b[38;5;28;01mif\u001b[39;00m dtype \u001b[38;5;129;01mis\u001b[39;00m \u001b[38;5;129;01mnot\u001b[39;00m \u001b[38;5;28;01mNone\u001b[39;00m:\n\u001b[1;32m   1054\u001b[0m     dtype \u001b[38;5;241m=\u001b[39m np\u001b[38;5;241m.\u001b[39mdtype(dtype)\n",
      "File \u001b[0;32m~/miniconda3/envs/wakai/lib/python3.12/site-packages/numpy/_core/fromnumeric.py:3596\u001b[0m, in \u001b[0;36mmean\u001b[0;34m(a, axis, dtype, out, keepdims, where)\u001b[0m\n\u001b[1;32m   3593\u001b[0m     \u001b[38;5;28;01melse\u001b[39;00m:\n\u001b[1;32m   3594\u001b[0m         \u001b[38;5;28;01mreturn\u001b[39;00m mean(axis\u001b[38;5;241m=\u001b[39maxis, dtype\u001b[38;5;241m=\u001b[39mdtype, out\u001b[38;5;241m=\u001b[39mout, \u001b[38;5;241m*\u001b[39m\u001b[38;5;241m*\u001b[39mkwargs)\n\u001b[0;32m-> 3596\u001b[0m \u001b[38;5;28;01mreturn\u001b[39;00m \u001b[43m_methods\u001b[49m\u001b[38;5;241;43m.\u001b[39;49m\u001b[43m_mean\u001b[49m\u001b[43m(\u001b[49m\u001b[43ma\u001b[49m\u001b[43m,\u001b[49m\u001b[43m \u001b[49m\u001b[43maxis\u001b[49m\u001b[38;5;241;43m=\u001b[39;49m\u001b[43maxis\u001b[49m\u001b[43m,\u001b[49m\u001b[43m \u001b[49m\u001b[43mdtype\u001b[49m\u001b[38;5;241;43m=\u001b[39;49m\u001b[43mdtype\u001b[49m\u001b[43m,\u001b[49m\n\u001b[1;32m   3597\u001b[0m \u001b[43m                      \u001b[49m\u001b[43mout\u001b[49m\u001b[38;5;241;43m=\u001b[39;49m\u001b[43mout\u001b[49m\u001b[43m,\u001b[49m\u001b[43m \u001b[49m\u001b[38;5;241;43m*\u001b[39;49m\u001b[38;5;241;43m*\u001b[39;49m\u001b[43mkwargs\u001b[49m\u001b[43m)\u001b[49m\n",
      "File \u001b[0;32m~/miniconda3/envs/wakai/lib/python3.12/site-packages/numpy/_core/_methods.py:127\u001b[0m, in \u001b[0;36m_mean\u001b[0;34m(a, axis, dtype, out, keepdims, where)\u001b[0m\n\u001b[1;32m    124\u001b[0m         dtype \u001b[38;5;241m=\u001b[39m mu\u001b[38;5;241m.\u001b[39mdtype(\u001b[38;5;124m'\u001b[39m\u001b[38;5;124mf4\u001b[39m\u001b[38;5;124m'\u001b[39m)\n\u001b[1;32m    125\u001b[0m         is_float16_result \u001b[38;5;241m=\u001b[39m \u001b[38;5;28;01mTrue\u001b[39;00m\n\u001b[0;32m--> 127\u001b[0m ret \u001b[38;5;241m=\u001b[39m \u001b[43mumr_sum\u001b[49m\u001b[43m(\u001b[49m\u001b[43marr\u001b[49m\u001b[43m,\u001b[49m\u001b[43m \u001b[49m\u001b[43maxis\u001b[49m\u001b[43m,\u001b[49m\u001b[43m \u001b[49m\u001b[43mdtype\u001b[49m\u001b[43m,\u001b[49m\u001b[43m \u001b[49m\u001b[43mout\u001b[49m\u001b[43m,\u001b[49m\u001b[43m \u001b[49m\u001b[43mkeepdims\u001b[49m\u001b[43m,\u001b[49m\u001b[43m \u001b[49m\u001b[43mwhere\u001b[49m\u001b[38;5;241;43m=\u001b[39;49m\u001b[43mwhere\u001b[49m\u001b[43m)\u001b[49m\n\u001b[1;32m    128\u001b[0m \u001b[38;5;28;01mif\u001b[39;00m \u001b[38;5;28misinstance\u001b[39m(ret, mu\u001b[38;5;241m.\u001b[39mndarray):\n\u001b[1;32m    129\u001b[0m     \u001b[38;5;28;01mwith\u001b[39;00m _no_nep50_warning():\n",
      "\u001b[0;31mTypeError\u001b[0m: the resolved dtypes are not compatible with add.reduce. Resolved (dtype('<U32'), dtype('<U32'), dtype('<U64'))"
     ]
    }
   ],
   "source": [
    "from tqdm.notebook import tqdm\n",
    "from catalog import Target\n",
    "import pandas as pd\n",
    "import numpy as np\n",
    "\n",
    "params = [\"B-V\", \"log_R_HK_\", \"EWLi\", \"Teff\", \"Prot\"]\n",
    "\n",
    "for i,row in tqdm(df.iterrows()):\n",
    "    if data.hostname.isin([row.hostname]).sum()==0:\n",
    "        d = {}\n",
    "        d['hostname'] = row.hostname\n",
    "\n",
    "        t = Target(row.ra, row.dec)\n",
    "\n",
    "        for param in params:\n",
    "            p = t.query_vizier_param(param)\n",
    "            try:\n",
    "                v = np.nanmean(list(p.values()))\n",
    "            except:\n",
    "                vals = []\n",
    "                for x in p.values(): \n",
    "                    if isinstance(x, (int, float, str)) and str(x).replace('.', '', 1).isdigit():\n",
    "                        vals.append(x)\n",
    "                v = np.nanmean(vals)\n",
    "            d[param] = v\n",
    "        s = pd.Series(d).rename({\"B-V\": \"bv\", \n",
    "                 \"log_R_HK_\": \"rhk\", \n",
    "                 \"EWLi\": \"li\", \n",
    "                 \"Teff\": \"teff\", \n",
    "                 \"Prot\": \"prot\"}).to_frame().T\n",
    "        data = pd.concat([data,s], ignore_index=True)"
   ]
  },
  {
   "cell_type": "code",
   "execution_count": 49,
   "id": "a95d936d",
   "metadata": {
    "ExecuteTime": {
     "end_time": "2023-04-07T10:36:43.554482Z",
     "start_time": "2023-04-07T10:36:43.535786Z"
    }
   },
   "outputs": [],
   "source": [
    "data.to_csv('../data/youth_indicators_nexsci.csv', index=False)"
   ]
  }
 ],
 "metadata": {
  "kernelspec": {
   "display_name": "wakai",
   "language": "python",
   "name": "wakai"
  },
  "language_info": {
   "codemirror_mode": {
    "name": "ipython",
    "version": 3
   },
   "file_extension": ".py",
   "mimetype": "text/x-python",
   "name": "python",
   "nbconvert_exporter": "python",
   "pygments_lexer": "ipython3",
   "version": "3.12.4"
  },
  "toc": {
   "base_numbering": 1,
   "nav_menu": {},
   "number_sections": true,
   "sideBar": true,
   "skip_h1_title": false,
   "title_cell": "Table of Contents",
   "title_sidebar": "Contents",
   "toc_cell": false,
   "toc_position": {},
   "toc_section_display": true,
   "toc_window_display": false
  }
 },
 "nbformat": 4,
 "nbformat_minor": 5
}
