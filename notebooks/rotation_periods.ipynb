{
 "cells": [
  {
   "cell_type": "code",
   "execution_count": 1,
   "metadata": {
    "ExecuteTime": {
     "end_time": "2022-11-01T05:22:24.520729Z",
     "start_time": "2022-11-01T05:22:24.082884Z"
    }
   },
   "outputs": [],
   "source": [
    "# %load init_ipynb.py\n",
    "import os\n",
    "import sys\n",
    "import matplotlib.pyplot as pl\n",
    "\n",
    "sys.path.insert(0, '../code')\n",
    "assert os.environ[\"CONDA_DEFAULT_ENV\"] == 'wakai'\n",
    "\n",
    "plotpar = {'axes.labelsize': 16,\n",
    "           'font.size': 16,\n",
    "           'legend.fontsize': 16,\n",
    "           'xtick.labelsize': 16,\n",
    "           'ytick.labelsize': 16,\n",
    "           #'text.usetex': False,\n",
    "           'xtick.direction': 'in',\n",
    "           'ytick.direction': 'in'\n",
    "           }\n",
    "pl.rcParams.update(plotpar)\n"
   ]
  },
  {
   "cell_type": "markdown",
   "metadata": {},
   "source": [
    "# known young host stars"
   ]
  },
  {
   "cell_type": "code",
   "execution_count": 2,
   "metadata": {
    "ExecuteTime": {
     "end_time": "2022-11-01T05:22:26.684317Z",
     "start_time": "2022-11-01T05:22:24.522340Z"
    }
   },
   "outputs": [
    {
     "name": "stdout",
     "output_type": "stream",
     "text": [
      "Column definitions:  https://exoplanetarchive.ipac.caltech.edu/docs/API_PS_columns.html\n"
     ]
    },
    {
     "name": "stderr",
     "output_type": "stream",
     "text": [
      "/home/jp/github/research/project/wakai/notebooks/../code/utils.py:39: DtypeWarning: Columns (3,4,50,65,148,153,183,206,211,237,242) have mixed types. Specify dtype option on import or set low_memory=False.\n",
      "  df_nexsci = pd.read_csv(fp)\n"
     ]
    },
    {
     "name": "stdout",
     "output_type": "stream",
     "text": [
      "Loaded:  ../data/nexsci_ps.csv\n"
     ]
    }
   ],
   "source": [
    "from utils import get_nexsci_data\n",
    "\n",
    "df_nexsci = get_nexsci_data(table_name=\"ps\", clobber=False)"
   ]
  },
  {
   "cell_type": "code",
   "execution_count": 3,
   "metadata": {
    "ExecuteTime": {
     "end_time": "2022-11-01T05:22:26.718710Z",
     "start_time": "2022-11-01T05:22:26.687735Z"
    }
   },
   "outputs": [
    {
     "data": {
      "text/plain": [
       "(21,\n",
       " array(['WASP-189', 'Qatar-4', 'Qatar-5', 'Qatar-3', 'HIP 94235',\n",
       "        'DS Tuc A', 'HD 110082', 'HD 63433', 'K2-100', 'Kepler-1643',\n",
       "        'Kepler-1928', 'Kepler-411', 'K2-102', 'TOI-2048', 'TOI-1860',\n",
       "        'K2-25', 'TOI-1227', 'Kepler-970', 'K2-33', 'V1298 Tau',\n",
       "        'HIP 67522'], dtype=object))"
      ]
     },
     "execution_count": 3,
     "metadata": {},
     "output_type": "execute_result"
    }
   ],
   "source": [
    "from utils import get_relative_err_index\n",
    "\n",
    "idx = (df_nexsci.st_age<1) & (df_nexsci.default_flag==1) #& (df_nexsci.disc_facility=='Kepler') \n",
    "idx2 = get_relative_err_index(df_nexsci[idx], par='st_age', rel_err=0.2)\n",
    "\n",
    "df_young = df_nexsci[idx][idx2]\n",
    "young_hoststar_names = df_young.hostname.unique()\n",
    "len(young_hoststar_names), young_hoststar_names"
   ]
  },
  {
   "cell_type": "markdown",
   "metadata": {},
   "source": [
    "# Prot catalogs"
   ]
  },
  {
   "cell_type": "code",
   "execution_count": 4,
   "metadata": {
    "ExecuteTime": {
     "end_time": "2022-11-01T05:22:26.725756Z",
     "start_time": "2022-11-01T05:22:26.721380Z"
    }
   },
   "outputs": [],
   "source": [
    "# cd = CatalogDownloader(catalog_name=\"Rebull2016_Pleiades\")\n",
    "# tabs = cd.get_tables_from_vizier(row_limit=-1)\n",
    "# df_rebull2016 = tabs[0].to_pandas()\n",
    "# df_rebull2016 = df_rebull2016.rename({'__V-K_0': 'V-K_0'}, axis=1)\n",
    "# df_rebull2016.columns\n",
    "\n",
    "# cd = CatalogDownloader(catalog_name=\"Douglas2017_Praesepe\")\n",
    "# tabs = cd.get_tables_from_vizier(row_limit=-1)\n",
    "# df_Douglas2017_Praesepe = tabs[2].to_pandas()\n",
    "# df_Douglas2017_Praesepe.columns"
   ]
  },
  {
   "cell_type": "markdown",
   "metadata": {},
   "source": [
    "## Ruprecht 147 and 5 other well-known clusters"
   ]
  },
  {
   "cell_type": "code",
   "execution_count": 5,
   "metadata": {
    "ExecuteTime": {
     "end_time": "2022-11-01T05:22:26.930217Z",
     "start_time": "2022-11-01T05:22:26.730812Z"
    }
   },
   "outputs": [
    {
     "name": "stdout",
     "output_type": "stream",
     "text": [
      "Downloading all tables in J/ApJ/904/140 from vizier.\n",
      "{'J/ApJ/904/140/table1': 'Ruprecht 147 catalog',\n",
      " 'J/ApJ/904/140/table5': 'Data for the Pleiades, Praesepe, NGC 6811, NGC 752, '\n",
      "                         'NGC 6819, and Ruprecht 147 clusters'}\n"
     ]
    },
    {
     "data": {
      "text/html": [
       "<div>\n",
       "<style scoped>\n",
       "    .dataframe tbody tr th:only-of-type {\n",
       "        vertical-align: middle;\n",
       "    }\n",
       "\n",
       "    .dataframe tbody tr th {\n",
       "        vertical-align: top;\n",
       "    }\n",
       "\n",
       "    .dataframe thead th {\n",
       "        text-align: right;\n",
       "    }\n",
       "</style>\n",
       "<table border=\"1\" class=\"dataframe\">\n",
       "  <thead>\n",
       "    <tr style=\"text-align: right;\">\n",
       "      <th></th>\n",
       "      <th>Cluster</th>\n",
       "      <th>Age</th>\n",
       "      <th>Av</th>\n",
       "      <th>GaiaDR2</th>\n",
       "      <th>OName</th>\n",
       "      <th>RA_ICRS</th>\n",
       "      <th>DE_ICRS</th>\n",
       "      <th>BP-RP</th>\n",
       "      <th>__BP-RP_0</th>\n",
       "      <th>Gmag</th>\n",
       "      <th>GMag</th>\n",
       "      <th>Teff</th>\n",
       "      <th>Prot</th>\n",
       "      <th>R147</th>\n",
       "      <th>Simbad</th>\n",
       "      <th>_RA.icrs</th>\n",
       "      <th>_DE.icrs</th>\n",
       "      <th>logTeff</th>\n",
       "      <th>st_rotp</th>\n",
       "    </tr>\n",
       "  </thead>\n",
       "  <tbody>\n",
       "    <tr>\n",
       "      <th>0</th>\n",
       "      <td>Pleiades</td>\n",
       "      <td>0.12</td>\n",
       "      <td>0.12</td>\n",
       "      <td>67618285777617664</td>\n",
       "      <td>EPIC 210990525</td>\n",
       "      <td>53.882158</td>\n",
       "      <td>22.823390</td>\n",
       "      <td>0.7103</td>\n",
       "      <td>0.660386</td>\n",
       "      <td>9.7295</td>\n",
       "      <td>3.95639</td>\n",
       "      <td>6291.700195</td>\n",
       "      <td>2.7953</td>\n",
       "      <td>0</td>\n",
       "      <td>Simbad</td>\n",
       "      <td>53.882158</td>\n",
       "      <td>22.823390</td>\n",
       "      <td>3.798768</td>\n",
       "      <td>2.7953</td>\n",
       "    </tr>\n",
       "    <tr>\n",
       "      <th>1</th>\n",
       "      <td>Pleiades</td>\n",
       "      <td>0.12</td>\n",
       "      <td>0.12</td>\n",
       "      <td>67832346947351424</td>\n",
       "      <td>EPIC 211051975</td>\n",
       "      <td>54.046203</td>\n",
       "      <td>23.806264</td>\n",
       "      <td>3.1460</td>\n",
       "      <td>3.096090</td>\n",
       "      <td>17.2698</td>\n",
       "      <td>11.49670</td>\n",
       "      <td>3122.600098</td>\n",
       "      <td>0.5490</td>\n",
       "      <td>0</td>\n",
       "      <td>Simbad</td>\n",
       "      <td>54.046203</td>\n",
       "      <td>23.806264</td>\n",
       "      <td>3.494516</td>\n",
       "      <td>0.5490</td>\n",
       "    </tr>\n",
       "    <tr>\n",
       "      <th>2</th>\n",
       "      <td>Pleiades</td>\n",
       "      <td>0.12</td>\n",
       "      <td>0.12</td>\n",
       "      <td>64597927335800064</td>\n",
       "      <td>EPIC 210977505</td>\n",
       "      <td>54.101510</td>\n",
       "      <td>22.623601</td>\n",
       "      <td>1.7721</td>\n",
       "      <td>1.722190</td>\n",
       "      <td>13.5183</td>\n",
       "      <td>7.74519</td>\n",
       "      <td>4036.810059</td>\n",
       "      <td>11.1805</td>\n",
       "      <td>0</td>\n",
       "      <td>Simbad</td>\n",
       "      <td>54.101510</td>\n",
       "      <td>22.623601</td>\n",
       "      <td>3.606038</td>\n",
       "      <td>11.1805</td>\n",
       "    </tr>\n",
       "    <tr>\n",
       "      <th>3</th>\n",
       "      <td>Pleiades</td>\n",
       "      <td>0.12</td>\n",
       "      <td>0.12</td>\n",
       "      <td>67724697887107200</td>\n",
       "      <td>EPIC 211010818</td>\n",
       "      <td>54.160077</td>\n",
       "      <td>23.145484</td>\n",
       "      <td>3.1703</td>\n",
       "      <td>3.120390</td>\n",
       "      <td>17.5594</td>\n",
       "      <td>11.78630</td>\n",
       "      <td>3110.939941</td>\n",
       "      <td>0.3040</td>\n",
       "      <td>0</td>\n",
       "      <td>Simbad</td>\n",
       "      <td>54.160077</td>\n",
       "      <td>23.145484</td>\n",
       "      <td>3.492892</td>\n",
       "      <td>0.3040</td>\n",
       "    </tr>\n",
       "    <tr>\n",
       "      <th>4</th>\n",
       "      <td>Pleiades</td>\n",
       "      <td>0.12</td>\n",
       "      <td>0.12</td>\n",
       "      <td>67756789882795008</td>\n",
       "      <td>EPIC 211025925</td>\n",
       "      <td>54.485193</td>\n",
       "      <td>23.382239</td>\n",
       "      <td>2.7972</td>\n",
       "      <td>2.747290</td>\n",
       "      <td>15.8874</td>\n",
       "      <td>10.11430</td>\n",
       "      <td>3304.179932</td>\n",
       "      <td>0.8969</td>\n",
       "      <td>0</td>\n",
       "      <td>Simbad</td>\n",
       "      <td>54.485193</td>\n",
       "      <td>23.382239</td>\n",
       "      <td>3.519064</td>\n",
       "      <td>0.8969</td>\n",
       "    </tr>\n",
       "    <tr>\n",
       "      <th>...</th>\n",
       "      <td>...</td>\n",
       "      <td>...</td>\n",
       "      <td>...</td>\n",
       "      <td>...</td>\n",
       "      <td>...</td>\n",
       "      <td>...</td>\n",
       "      <td>...</td>\n",
       "      <td>...</td>\n",
       "      <td>...</td>\n",
       "      <td>...</td>\n",
       "      <td>...</td>\n",
       "      <td>...</td>\n",
       "      <td>...</td>\n",
       "      <td>...</td>\n",
       "      <td>...</td>\n",
       "      <td>...</td>\n",
       "      <td>...</td>\n",
       "      <td>...</td>\n",
       "      <td>...</td>\n",
       "    </tr>\n",
       "    <tr>\n",
       "      <th>918</th>\n",
       "      <td>Ruprecht 147</td>\n",
       "      <td>2.70</td>\n",
       "      <td>0.30</td>\n",
       "      <td>4183867079159884672</td>\n",
       "      <td>EPIC 219489683</td>\n",
       "      <td>289.460250</td>\n",
       "      <td>-16.624023</td>\n",
       "      <td>1.8770</td>\n",
       "      <td>1.752500</td>\n",
       "      <td>15.3750</td>\n",
       "      <td>7.71700</td>\n",
       "      <td>4007.669922</td>\n",
       "      <td>19.1114</td>\n",
       "      <td>1</td>\n",
       "      <td>Simbad</td>\n",
       "      <td>289.460250</td>\n",
       "      <td>-16.624023</td>\n",
       "      <td>3.602892</td>\n",
       "      <td>19.1114</td>\n",
       "    </tr>\n",
       "    <tr>\n",
       "      <th>919</th>\n",
       "      <td>Ruprecht 147</td>\n",
       "      <td>2.70</td>\n",
       "      <td>0.30</td>\n",
       "      <td>4087824807196545664</td>\n",
       "      <td>EPIC 219439085</td>\n",
       "      <td>288.586900</td>\n",
       "      <td>-16.749012</td>\n",
       "      <td>2.0406</td>\n",
       "      <td>1.916100</td>\n",
       "      <td>15.5517</td>\n",
       "      <td>7.89370</td>\n",
       "      <td>3867.110107</td>\n",
       "      <td>19.7648</td>\n",
       "      <td>1</td>\n",
       "      <td>Simbad</td>\n",
       "      <td>288.586900</td>\n",
       "      <td>-16.749012</td>\n",
       "      <td>3.587387</td>\n",
       "      <td>19.7648</td>\n",
       "    </tr>\n",
       "    <tr>\n",
       "      <th>920</th>\n",
       "      <td>Ruprecht 147</td>\n",
       "      <td>2.70</td>\n",
       "      <td>0.30</td>\n",
       "      <td>4084617394338908672</td>\n",
       "      <td>EPIC 218986703</td>\n",
       "      <td>288.978840</td>\n",
       "      <td>-17.770926</td>\n",
       "      <td>2.1041</td>\n",
       "      <td>1.979600</td>\n",
       "      <td>15.8266</td>\n",
       "      <td>8.16860</td>\n",
       "      <td>3818.260010</td>\n",
       "      <td>22.5664</td>\n",
       "      <td>1</td>\n",
       "      <td>Simbad</td>\n",
       "      <td>288.978840</td>\n",
       "      <td>-17.770926</td>\n",
       "      <td>3.581865</td>\n",
       "      <td>22.5664</td>\n",
       "    </tr>\n",
       "    <tr>\n",
       "      <th>921</th>\n",
       "      <td>Ruprecht 147</td>\n",
       "      <td>2.70</td>\n",
       "      <td>0.30</td>\n",
       "      <td>4088060892960421248</td>\n",
       "      <td>EPIC 219619241</td>\n",
       "      <td>288.383960</td>\n",
       "      <td>-16.286807</td>\n",
       "      <td>2.2064</td>\n",
       "      <td>2.081900</td>\n",
       "      <td>16.2221</td>\n",
       "      <td>8.56410</td>\n",
       "      <td>3743.760010</td>\n",
       "      <td>21.6887</td>\n",
       "      <td>1</td>\n",
       "      <td>Simbad</td>\n",
       "      <td>288.383960</td>\n",
       "      <td>-16.286807</td>\n",
       "      <td>3.573308</td>\n",
       "      <td>21.6887</td>\n",
       "    </tr>\n",
       "    <tr>\n",
       "      <th>922</th>\n",
       "      <td>Ruprecht 147</td>\n",
       "      <td>2.70</td>\n",
       "      <td>0.30</td>\n",
       "      <td>4087770239621640704</td>\n",
       "      <td>EPIC 219353203</td>\n",
       "      <td>289.379180</td>\n",
       "      <td>-16.954553</td>\n",
       "      <td>2.2030</td>\n",
       "      <td>2.078500</td>\n",
       "      <td>16.2387</td>\n",
       "      <td>8.58070</td>\n",
       "      <td>3746.169922</td>\n",
       "      <td>21.8097</td>\n",
       "      <td>1</td>\n",
       "      <td>Simbad</td>\n",
       "      <td>289.379180</td>\n",
       "      <td>-16.954553</td>\n",
       "      <td>3.573587</td>\n",
       "      <td>21.8097</td>\n",
       "    </tr>\n",
       "  </tbody>\n",
       "</table>\n",
       "<p>923 rows × 19 columns</p>\n",
       "</div>"
      ],
      "text/plain": [
       "          Cluster   Age    Av              GaiaDR2           OName  \\\n",
       "0        Pleiades  0.12  0.12    67618285777617664  EPIC 210990525   \n",
       "1        Pleiades  0.12  0.12    67832346947351424  EPIC 211051975   \n",
       "2        Pleiades  0.12  0.12    64597927335800064  EPIC 210977505   \n",
       "3        Pleiades  0.12  0.12    67724697887107200  EPIC 211010818   \n",
       "4        Pleiades  0.12  0.12    67756789882795008  EPIC 211025925   \n",
       "..            ...   ...   ...                  ...             ...   \n",
       "918  Ruprecht 147  2.70  0.30  4183867079159884672  EPIC 219489683   \n",
       "919  Ruprecht 147  2.70  0.30  4087824807196545664  EPIC 219439085   \n",
       "920  Ruprecht 147  2.70  0.30  4084617394338908672  EPIC 218986703   \n",
       "921  Ruprecht 147  2.70  0.30  4088060892960421248  EPIC 219619241   \n",
       "922  Ruprecht 147  2.70  0.30  4087770239621640704  EPIC 219353203   \n",
       "\n",
       "        RA_ICRS    DE_ICRS   BP-RP  __BP-RP_0     Gmag      GMag         Teff  \\\n",
       "0     53.882158  22.823390  0.7103   0.660386   9.7295   3.95639  6291.700195   \n",
       "1     54.046203  23.806264  3.1460   3.096090  17.2698  11.49670  3122.600098   \n",
       "2     54.101510  22.623601  1.7721   1.722190  13.5183   7.74519  4036.810059   \n",
       "3     54.160077  23.145484  3.1703   3.120390  17.5594  11.78630  3110.939941   \n",
       "4     54.485193  23.382239  2.7972   2.747290  15.8874  10.11430  3304.179932   \n",
       "..          ...        ...     ...        ...      ...       ...          ...   \n",
       "918  289.460250 -16.624023  1.8770   1.752500  15.3750   7.71700  4007.669922   \n",
       "919  288.586900 -16.749012  2.0406   1.916100  15.5517   7.89370  3867.110107   \n",
       "920  288.978840 -17.770926  2.1041   1.979600  15.8266   8.16860  3818.260010   \n",
       "921  288.383960 -16.286807  2.2064   2.081900  16.2221   8.56410  3743.760010   \n",
       "922  289.379180 -16.954553  2.2030   2.078500  16.2387   8.58070  3746.169922   \n",
       "\n",
       "        Prot  R147  Simbad    _RA.icrs   _DE.icrs   logTeff  st_rotp  \n",
       "0     2.7953     0  Simbad   53.882158  22.823390  3.798768   2.7953  \n",
       "1     0.5490     0  Simbad   54.046203  23.806264  3.494516   0.5490  \n",
       "2    11.1805     0  Simbad   54.101510  22.623601  3.606038  11.1805  \n",
       "3     0.3040     0  Simbad   54.160077  23.145484  3.492892   0.3040  \n",
       "4     0.8969     0  Simbad   54.485193  23.382239  3.519064   0.8969  \n",
       "..       ...   ...     ...         ...        ...       ...      ...  \n",
       "918  19.1114     1  Simbad  289.460250 -16.624023  3.602892  19.1114  \n",
       "919  19.7648     1  Simbad  288.586900 -16.749012  3.587387  19.7648  \n",
       "920  22.5664     1  Simbad  288.978840 -17.770926  3.581865  22.5664  \n",
       "921  21.6887     1  Simbad  288.383960 -16.286807  3.573308  21.6887  \n",
       "922  21.8097     1  Simbad  289.379180 -16.954553  3.573587  21.8097  \n",
       "\n",
       "[923 rows x 19 columns]"
      ]
     },
     "execution_count": 5,
     "metadata": {},
     "output_type": "execute_result"
    }
   ],
   "source": [
    "import numpy as np\n",
    "from catalog import CatalogDownloader\n",
    "\n",
    "cd = CatalogDownloader(catalog_name=\"Curtis2019_Rup147\")\n",
    "tabs = cd.get_tables_from_vizier(row_limit=-1)\n",
    "df = tabs[1].to_pandas()\n",
    "df['logTeff'] = df.Teff.apply(lambda x: np.log10(x))\n",
    "df['st_rotp'] = df['Prot'].copy()\n",
    "df = df.rename({\"__BP-RP_0\": \"BP-RP_0\"})\n",
    "df"
   ]
  },
  {
   "cell_type": "code",
   "execution_count": 6,
   "metadata": {
    "ExecuteTime": {
     "end_time": "2022-11-01T05:22:26.936582Z",
     "start_time": "2022-11-01T05:22:26.931870Z"
    }
   },
   "outputs": [
    {
     "data": {
      "text/plain": [
       "dict_keys(['NGC 6811', 'NGC 6819', 'NGC 752', 'Pleiades', 'Praesepe', 'Ruprecht 147'])"
      ]
     },
     "execution_count": 6,
     "metadata": {},
     "output_type": "execute_result"
    }
   ],
   "source": [
    "df.groupby(\"Cluster\").groups.keys()"
   ]
  },
  {
   "cell_type": "markdown",
   "metadata": {},
   "source": [
    "## NGC 3532"
   ]
  },
  {
   "cell_type": "code",
   "execution_count": 7,
   "metadata": {
    "ExecuteTime": {
     "end_time": "2022-11-01T05:22:26.981819Z",
     "start_time": "2022-11-01T05:22:26.938134Z"
    }
   },
   "outputs": [
    {
     "name": "stdout",
     "output_type": "stream",
     "text": [
      "Downloading all tables in J/A+A/652/A60 from vizier.\n",
      "{'J/A+A/652/A60/table2': 'Rotation periods and photometric colours for 279 '\n",
      "                         'solar-like members of the open cluster NGC 3532'}\n"
     ]
    },
    {
     "data": {
      "text/html": [
       "<div>\n",
       "<style scoped>\n",
       "    .dataframe tbody tr th:only-of-type {\n",
       "        vertical-align: middle;\n",
       "    }\n",
       "\n",
       "    .dataframe tbody tr th {\n",
       "        vertical-align: top;\n",
       "    }\n",
       "\n",
       "    .dataframe thead th {\n",
       "        text-align: right;\n",
       "    }\n",
       "</style>\n",
       "<table border=\"1\" class=\"dataframe\">\n",
       "  <thead>\n",
       "    <tr style=\"text-align: right;\">\n",
       "      <th></th>\n",
       "      <th>ID</th>\n",
       "      <th>GaiaDR2</th>\n",
       "      <th>CLHW</th>\n",
       "      <th>RA_ICRS</th>\n",
       "      <th>DE_ICRS</th>\n",
       "      <th>__B-V_0</th>\n",
       "      <th>Vmag</th>\n",
       "      <th>__V-Ks_0</th>\n",
       "      <th>Prot</th>\n",
       "      <th>e_Prot</th>\n",
       "      <th>P90</th>\n",
       "      <th>Class</th>\n",
       "      <th>Binary</th>\n",
       "      <th>_RA.icrs</th>\n",
       "      <th>_DE.icrs</th>\n",
       "    </tr>\n",
       "  </thead>\n",
       "  <tbody>\n",
       "    <tr>\n",
       "      <th>0</th>\n",
       "      <td>618539</td>\n",
       "      <td>5339401641913283072</td>\n",
       "      <td>13824</td>\n",
       "      <td>167.35092</td>\n",
       "      <td>-58.72761</td>\n",
       "      <td>0.821</td>\n",
       "      <td>14.324000</td>\n",
       "      <td>1.876</td>\n",
       "      <td>6.3962</td>\n",
       "      <td>0.9555</td>\n",
       "      <td>0.0284</td>\n",
       "      <td>3</td>\n",
       "      <td>0</td>\n",
       "      <td>167.35092</td>\n",
       "      <td>-58.72761</td>\n",
       "    </tr>\n",
       "    <tr>\n",
       "      <th>1</th>\n",
       "      <td>618394</td>\n",
       "      <td>5339394323288436608</td>\n",
       "      <td>16353</td>\n",
       "      <td>167.33904</td>\n",
       "      <td>-58.81681</td>\n",
       "      <td>1.379</td>\n",
       "      <td>16.855000</td>\n",
       "      <td>3.374</td>\n",
       "      <td>10.0044</td>\n",
       "      <td>0.2949</td>\n",
       "      <td>0.0190</td>\n",
       "      <td>3</td>\n",
       "      <td>0</td>\n",
       "      <td>167.33904</td>\n",
       "      <td>-58.81681</td>\n",
       "    </tr>\n",
       "    <tr>\n",
       "      <th>2</th>\n",
       "      <td>618247</td>\n",
       "      <td>5339401126517113472</td>\n",
       "      <td>17842</td>\n",
       "      <td>167.32929</td>\n",
       "      <td>-58.76006</td>\n",
       "      <td>1.284</td>\n",
       "      <td>16.197001</td>\n",
       "      <td>3.098</td>\n",
       "      <td>12.9536</td>\n",
       "      <td>0.1203</td>\n",
       "      <td>0.0158</td>\n",
       "      <td>3</td>\n",
       "      <td>0</td>\n",
       "      <td>167.32929</td>\n",
       "      <td>-58.76006</td>\n",
       "    </tr>\n",
       "    <tr>\n",
       "      <th>3</th>\n",
       "      <td>615275</td>\n",
       "      <td>5340152230387020288</td>\n",
       "      <td>36499</td>\n",
       "      <td>167.22421</td>\n",
       "      <td>-58.68867</td>\n",
       "      <td>1.274</td>\n",
       "      <td>16.283001</td>\n",
       "      <td>3.045</td>\n",
       "      <td>10.7061</td>\n",
       "      <td>2.7941</td>\n",
       "      <td>0.0200</td>\n",
       "      <td>3</td>\n",
       "      <td>0</td>\n",
       "      <td>167.22421</td>\n",
       "      <td>-58.68867</td>\n",
       "    </tr>\n",
       "    <tr>\n",
       "      <th>4</th>\n",
       "      <td>614931</td>\n",
       "      <td>5340152848862460928</td>\n",
       "      <td>37931</td>\n",
       "      <td>167.21496</td>\n",
       "      <td>-58.62111</td>\n",
       "      <td>0.650</td>\n",
       "      <td>13.378000</td>\n",
       "      <td>1.456</td>\n",
       "      <td>5.8337</td>\n",
       "      <td>0.4992</td>\n",
       "      <td>0.0340</td>\n",
       "      <td>3</td>\n",
       "      <td>0</td>\n",
       "      <td>167.21496</td>\n",
       "      <td>-58.62111</td>\n",
       "    </tr>\n",
       "  </tbody>\n",
       "</table>\n",
       "</div>"
      ],
      "text/plain": [
       "       ID              GaiaDR2   CLHW    RA_ICRS   DE_ICRS  __B-V_0  \\\n",
       "0  618539  5339401641913283072  13824  167.35092 -58.72761    0.821   \n",
       "1  618394  5339394323288436608  16353  167.33904 -58.81681    1.379   \n",
       "2  618247  5339401126517113472  17842  167.32929 -58.76006    1.284   \n",
       "3  615275  5340152230387020288  36499  167.22421 -58.68867    1.274   \n",
       "4  614931  5340152848862460928  37931  167.21496 -58.62111    0.650   \n",
       "\n",
       "        Vmag  __V-Ks_0     Prot  e_Prot     P90  Class  Binary   _RA.icrs  \\\n",
       "0  14.324000     1.876   6.3962  0.9555  0.0284      3       0  167.35092   \n",
       "1  16.855000     3.374  10.0044  0.2949  0.0190      3       0  167.33904   \n",
       "2  16.197001     3.098  12.9536  0.1203  0.0158      3       0  167.32929   \n",
       "3  16.283001     3.045  10.7061  2.7941  0.0200      3       0  167.22421   \n",
       "4  13.378000     1.456   5.8337  0.4992  0.0340      3       0  167.21496   \n",
       "\n",
       "   _DE.icrs  \n",
       "0 -58.72761  \n",
       "1 -58.81681  \n",
       "2 -58.76006  \n",
       "3 -58.68867  \n",
       "4 -58.62111  "
      ]
     },
     "execution_count": 7,
     "metadata": {},
     "output_type": "execute_result"
    }
   ],
   "source": [
    "cd = CatalogDownloader(catalog_name=\"Fritzewski2021_NGC3532\")\n",
    "tabs = cd.get_tables_from_vizier(row_limit=-1)\n",
    "df_ngc3532 = tabs[0].to_pandas()\n",
    "# df_ngc3532['logTeff'] = df_ngc3532.Teff.apply(lambda x: np.log10(x))\n",
    "# df_ngc3532['st_rotp'] = df_ngc3532['Prot'].copy()\n",
    "df_ngc3532.head()"
   ]
  },
  {
   "cell_type": "code",
   "execution_count": 8,
   "metadata": {
    "ExecuteTime": {
     "end_time": "2022-11-01T05:22:27.459676Z",
     "start_time": "2022-11-01T05:22:26.984126Z"
    }
   },
   "outputs": [
    {
     "name": "stdout",
     "output_type": "stream",
     "text": [
      "Found 10 references in Vizier with `Teff`.\n"
     ]
    },
    {
     "data": {
      "text/plain": [
       "3844.6"
      ]
     },
     "execution_count": 8,
     "metadata": {},
     "output_type": "execute_result"
    }
   ],
   "source": [
    "#query Teff\n",
    "import warnings\n",
    "warnings.simplefilter(\"ignore\", category=\"UnitsWarning\")\n",
    "from catalog import Target\n",
    "\n",
    "t = Target(ra_deg=166.95421, dec_deg=-58.65578)\n",
    "t.query_vizier_param('Teff').get('I/355/gaiadr3')#.get('I/345/gaia2')"
   ]
  },
  {
   "cell_type": "code",
   "execution_count": 9,
   "metadata": {
    "ExecuteTime": {
     "end_time": "2022-11-01T05:22:27.887904Z",
     "start_time": "2022-11-01T05:22:27.463921Z"
    }
   },
   "outputs": [],
   "source": [
    "try:\n",
    "    import swifter\n",
    "except:\n",
    "    !{sys.executable} -m pip install swifter==1.3.4\n",
    "    import swifter\n",
    "assert swifter.__version__ == \"1.3.4\""
   ]
  },
  {
   "cell_type": "code",
   "execution_count": 10,
   "metadata": {
    "ExecuteTime": {
     "end_time": "2022-11-01T05:22:27.895393Z",
     "start_time": "2022-11-01T05:22:27.889780Z"
    }
   },
   "outputs": [],
   "source": [
    "def get_vizier_param(df_coords, param='Teff', key='I/355/gaiadr3'):\n",
    "    \"\"\"try key='I/345/gaia2'\n",
    "    \"\"\"\n",
    "    return df_coords.swifter.apply(lambda coord: Target(*coord, verbose=False)\\\n",
    "            .query_vizier_param(param)\\\n",
    "            .get(key), axis=1)"
   ]
  },
  {
   "cell_type": "code",
   "execution_count": null,
   "metadata": {
    "ExecuteTime": {
     "start_time": "2022-11-01T05:22:24.087Z"
    }
   },
   "outputs": [
    {
     "name": "stderr",
     "output_type": "stream",
     "text": [
      "WARNING: UnitsWarning: The unit 'pix' has been deprecated in the VOUnit standard. [astropy.units.format.utils]\n",
      "WARNING: UnitsWarning: The unit 'ct' has been deprecated in the VOUnit standard. [astropy.units.format.utils]\n",
      "WARNING: UnitsWarning: Unit 'Sun' not supported by the VOUnit standard. Did you mean uN? [astropy.units.format.vounit]\n",
      "WARNING: UnitsWarning: The unit 'pix' has been deprecated in the VOUnit standard. [astropy.units.format.utils]\n",
      "WARNING: UnitsWarning: The unit 'ct' has been deprecated in the VOUnit standard. [astropy.units.format.utils]\n",
      "WARNING: UnitsWarning: Unit 'Sun' not supported by the VOUnit standard. Did you mean uN? [astropy.units.format.vounit]\n",
      "WARNING: UnitsWarning: The unit 'pix' has been deprecated in the VOUnit standard. [astropy.units.format.utils]\n",
      "WARNING: UnitsWarning: Unit 'Sun' not supported by the VOUnit standard. Did you mean uN? [astropy.units.format.vounit]\n",
      "WARNING: UnitsWarning: The unit 'a' has been deprecated in the VOUnit standard. Suggested: 365.25d. [astropy.units.format.utils]\n",
      "WARNING: UnitsWarning: The unit 'au' has been deprecated in the VOUnit standard. Suggested: 1.4959787e+11m. [astropy.units.format.utils]\n",
      "WARNING: UnitsWarning: The unit 'pix' has been deprecated in the VOUnit standard. [astropy.units.format.utils]\n",
      "WARNING: UnitsWarning: Unit 'Sun' not supported by the VOUnit standard. Did you mean uN? [astropy.units.format.vounit]\n",
      "WARNING: UnitsWarning: The unit 'a' has been deprecated in the VOUnit standard. Suggested: 365.25d. [astropy.units.format.utils]\n",
      "WARNING: UnitsWarning: The unit 'au' has been deprecated in the VOUnit standard. Suggested: 1.4959787e+11m. [astropy.units.format.utils]\n",
      "WARNING: UnitsWarning: The unit 'pix' has been deprecated in the VOUnit standard. [astropy.units.format.utils]\n",
      "WARNING: UnitsWarning: The unit 'ct' has been deprecated in the VOUnit standard. [astropy.units.format.utils]\n",
      "WARNING: UnitsWarning: Unit 'Sun' not supported by the VOUnit standard. Did you mean uN? [astropy.units.format.vounit]\n",
      "WARNING: UnitsWarning: The unit 'pix' has been deprecated in the VOUnit standard. [astropy.units.format.utils]\n",
      "WARNING: UnitsWarning: The unit 'ct' has been deprecated in the VOUnit standard. [astropy.units.format.utils]\n",
      "WARNING: UnitsWarning: Unit 'Sun' not supported by the VOUnit standard. Did you mean uN? [astropy.units.format.vounit]\n",
      "WARNING: UnitsWarning: The unit 'a' has been deprecated in the VOUnit standard. Suggested: 365.25d. [astropy.units.format.utils]\n",
      "WARNING: UnitsWarning: The unit 'au' has been deprecated in the VOUnit standard. Suggested: 1.4959787e+11m. [astropy.units.format.utils]\n",
      "WARNING: UnitsWarning: The unit 'pix' has been deprecated in the VOUnit standard. [astropy.units.format.utils]\n",
      "WARNING: UnitsWarning: The unit 'ct' has been deprecated in the VOUnit standard. [astropy.units.format.utils]\n",
      "WARNING: UnitsWarning: Unit 'Sun' not supported by the VOUnit standard. Did you mean uN? [astropy.units.format.vounit]\n",
      "WARNING: UnitsWarning: The unit 'pix' has been deprecated in the VOUnit standard. [astropy.units.format.utils]\n",
      "WARNING: UnitsWarning: The unit 'ct' has been deprecated in the VOUnit standard. [astropy.units.format.utils]\n",
      "WARNING: UnitsWarning: Unit 'Sun' not supported by the VOUnit standard. Did you mean uN? [astropy.units.format.vounit]\n",
      "WARNING: UnitsWarning: The unit 'pix' has been deprecated in the VOUnit standard. [astropy.units.format.utils]\n",
      "WARNING: UnitsWarning: The unit 'ct' has been deprecated in the VOUnit standard. [astropy.units.format.utils]\n",
      "WARNING: UnitsWarning: Unit 'Sun' not supported by the VOUnit standard. Did you mean uN? [astropy.units.format.vounit]\n",
      "WARNING: UnitsWarning: The unit 'a' has been deprecated in the VOUnit standard. Suggested: 365.25d. [astropy.units.format.utils]\n",
      "WARNING: UnitsWarning: The unit 'au' has been deprecated in the VOUnit standard. Suggested: 1.4959787e+11m. [astropy.units.format.utils]\n",
      "WARNING: UnitsWarning: The unit 'pix' has been deprecated in the VOUnit standard. [astropy.units.format.utils]\n",
      "WARNING: UnitsWarning: The unit 'ct' has been deprecated in the VOUnit standard. [astropy.units.format.utils]\n",
      "WARNING: UnitsWarning: Unit 'Sun' not supported by the VOUnit standard. Did you mean uN? [astropy.units.format.vounit]\n",
      "WARNING: UnitsWarning: The unit 'a' has been deprecated in the VOUnit standard. Suggested: 365.25d. [astropy.units.format.utils]\n",
      "WARNING: UnitsWarning: The unit 'au' has been deprecated in the VOUnit standard. Suggested: 1.4959787e+11m. [astropy.units.format.utils]\n",
      "WARNING: UnitsWarning: The unit 'pix' has been deprecated in the VOUnit standard. [astropy.units.format.utils]\n",
      "WARNING: UnitsWarning: The unit 'ct' has been deprecated in the VOUnit standard. [astropy.units.format.utils]\n",
      "WARNING: UnitsWarning: Unit 'Sun' not supported by the VOUnit standard. Did you mean uN? [astropy.units.format.vounit]\n",
      "WARNING: UnitsWarning: The unit 'pix' has been deprecated in the VOUnit standard. [astropy.units.format.utils]\n",
      "WARNING: UnitsWarning: The unit 'ct' has been deprecated in the VOUnit standard. [astropy.units.format.utils]\n",
      "WARNING: UnitsWarning: Unit 'Sun' not supported by the VOUnit standard. Did you mean uN? [astropy.units.format.vounit]\n"
     ]
    }
   ],
   "source": [
    "#this cell may take more than 5 minutes for the 1st run\n",
    "import warnings\n",
    "warnings.simplefilter(\"ignore\", category=\"UnitsWarning\")\n",
    "\n",
    "coords = ['RA_ICRS','DE_ICRS']\n",
    "df_ngc3532['Teff'] = get_vizier_param(df_ngc3532[coords])\n",
    "df_ngc3532.head()"
   ]
  },
  {
   "cell_type": "code",
   "execution_count": null,
   "metadata": {
    "ExecuteTime": {
     "start_time": "2022-11-01T05:22:24.089Z"
    }
   },
   "outputs": [],
   "source": [
    "df_ngc3532['logTeff'] = df_ngc3532.Teff.apply(lambda x: np.log10(x))\n",
    "df_ngc3532['st_rotp'] = df_ngc3532['Prot'].copy()"
   ]
  },
  {
   "cell_type": "markdown",
   "metadata": {},
   "source": [
    "## Pisces Eridani"
   ]
  },
  {
   "cell_type": "code",
   "execution_count": null,
   "metadata": {
    "ExecuteTime": {
     "start_time": "2022-11-01T05:22:24.092Z"
    }
   },
   "outputs": [],
   "source": [
    "cd = CatalogDownloader(catalog_name=\"Curtis2019_PisEri\")\n",
    "tabs = cd.get_tables_from_vizier(row_limit=-1)\n",
    "df_PisEri = tabs[0].to_pandas()\n",
    "df_PisEri['logTeff'] = df_PisEri.Teff.apply(lambda x: np.log10(x))\n",
    "df_PisEri['st_rotp'] = df_PisEri['Prot'].copy()\n",
    "df_PisEri.head()"
   ]
  },
  {
   "cell_type": "code",
   "execution_count": null,
   "metadata": {
    "ExecuteTime": {
     "start_time": "2022-11-01T05:22:24.095Z"
    }
   },
   "outputs": [],
   "source": [
    "import numpy as np\n",
    "from utils import plot_planets\n",
    "\n",
    "x, y = 'logTeff', 'st_rotp'\n",
    "df_young['Teff'] = df_young['st_teff'].copy()\n",
    "df_young['logTeff'] = df_young['st_teff'].apply(lambda x: np.log10(x))\n",
    "\n",
    "n=1\n",
    "ax = plot_planets(df_young, x=x, y=y,\n",
    "                  plot_kwds={'label':'young hosts', \n",
    "                            'color': 'k',\n",
    "                            'zorder': 10, \n",
    "                            'marker': '*',\n",
    "                            'size': 100\n",
    "                            })\n",
    "n=2\n",
    "_ = plot_planets(df_PisEri, x=x, y=y, \n",
    "                 ax=ax, \n",
    "                 plot_kwds={'marker': '.',\n",
    "                            'c':'C1', \n",
    "                            'label': 'Pis-Eri (0.12 Gyr)'}\n",
    "                            )\n",
    "n=3\n",
    "_ = plot_planets(df_ngc3532, x=x, y=y, \n",
    "                 ax=ax, \n",
    "                 plot_kwds={'marker': '.',\n",
    "                            'c':'C2', \n",
    "                            'label': 'NGC 3532 (0.30 Gyr)'}\n",
    "                            )\n",
    "\n",
    "group_dict = df.groupby('Age', sort=True).groups\n",
    "for i,age in enumerate(group_dict.keys()):\n",
    "    idx = group_dict[age]\n",
    "    d = df.loc[idx]\n",
    "    name = d.Cluster.iloc[0]\n",
    "    _ = plot_planets(d, ax=ax, \n",
    "                     plot_kwds={'marker': '.', \n",
    "                                'c':f'C{i+n}', \n",
    "                                'label': f'{name} ({age:.2f} Gyr)'}\n",
    "                                )\n",
    "    ax.legend(fontsize=12, bbox_to_anchor=(1, 0.8))\n",
    "#     ax.set_xscale(\"log\")\n",
    "    ax.set_xlabel(\"log($T_{eff}$) (K)\")\n",
    "    ax.set_yscale(\"log\")\n",
    "    ax.set_ylabel(\"log($P_{rot}$) (d)\")"
   ]
  },
  {
   "cell_type": "code",
   "execution_count": null,
   "metadata": {
    "ExecuteTime": {
     "start_time": "2022-11-01T05:22:24.118Z"
    }
   },
   "outputs": [],
   "source": [
    "fp = \"../figures/Prot_Teff.png\"\n",
    "ax.figure.savefig(fp, bbox_inches=\"tight\")"
   ]
  },
  {
   "cell_type": "code",
   "execution_count": null,
   "metadata": {},
   "outputs": [],
   "source": []
  }
 ],
 "metadata": {
  "interpreter": {
   "hash": "cf437c9fdc7e33afad30806c8ba898b1ed7208af2531506eaaa1d2480c4ad7ab"
  },
  "kernelspec": {
   "display_name": "Python 3 (ipykernel)",
   "language": "python",
   "name": "python3"
  },
  "language_info": {
   "codemirror_mode": {
    "name": "ipython",
    "version": 3
   },
   "file_extension": ".py",
   "mimetype": "text/x-python",
   "name": "python",
   "nbconvert_exporter": "python",
   "pygments_lexer": "ipython3",
   "version": "3.8.13"
  },
  "toc": {
   "base_numbering": 1,
   "nav_menu": {},
   "number_sections": true,
   "sideBar": true,
   "skip_h1_title": false,
   "title_cell": "Table of Contents",
   "title_sidebar": "Contents",
   "toc_cell": false,
   "toc_position": {},
   "toc_section_display": true,
   "toc_window_display": true
  }
 },
 "nbformat": 4,
 "nbformat_minor": 2
}
