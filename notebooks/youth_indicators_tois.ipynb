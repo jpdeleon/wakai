{
 "cells": [
  {
   "cell_type": "code",
   "execution_count": 1,
   "id": "ca75e87e",
   "metadata": {
    "ExecuteTime": {
     "end_time": "2023-04-07T04:36:21.926239Z",
     "start_time": "2023-04-07T04:34:02.876963Z"
    }
   },
   "outputs": [
    {
     "name": "stdout",
     "output_type": "stream",
     "text": [
      "Saved:  ../data/TOIs.csv\n"
     ]
    }
   ],
   "source": [
    "import sys\n",
    "sys.path.insert(0, '../code/')\n",
    "from catalog import get_tois\n",
    "df = get_tois()"
   ]
  },
  {
   "cell_type": "code",
   "execution_count": 2,
   "id": "7c1df2a1",
   "metadata": {
    "ExecuteTime": {
     "end_time": "2023-04-07T04:40:38.292433Z",
     "start_time": "2023-04-07T04:40:38.259439Z"
    }
   },
   "outputs": [
    {
     "data": {
      "text/plain": [
       "(6160, 62)"
      ]
     },
     "execution_count": 2,
     "metadata": {},
     "output_type": "execute_result"
    }
   ],
   "source": [
    "df.shape"
   ]
  },
  {
   "cell_type": "code",
   "execution_count": 84,
   "id": "76113413-f181-4d59-94ba-35ef79011ec1",
   "metadata": {},
   "outputs": [
    {
     "data": {
      "text/html": [
       "<div>\n",
       "<style scoped>\n",
       "    .dataframe tbody tr th:only-of-type {\n",
       "        vertical-align: middle;\n",
       "    }\n",
       "\n",
       "    .dataframe tbody tr th {\n",
       "        vertical-align: top;\n",
       "    }\n",
       "\n",
       "    .dataframe thead th {\n",
       "        text-align: right;\n",
       "    }\n",
       "</style>\n",
       "<table border=\"1\" class=\"dataframe\">\n",
       "  <thead>\n",
       "    <tr style=\"text-align: right;\">\n",
       "      <th></th>\n",
       "      <th>TOI</th>\n",
       "      <th>bv</th>\n",
       "      <th>bv_err</th>\n",
       "      <th>li</th>\n",
       "      <th>prot</th>\n",
       "      <th>rhk</th>\n",
       "      <th>teff</th>\n",
       "    </tr>\n",
       "  </thead>\n",
       "  <tbody>\n",
       "    <tr>\n",
       "      <th>0</th>\n",
       "      <td>101.01</td>\n",
       "      <td>0.656000</td>\n",
       "      <td>0.1</td>\n",
       "      <td>NaN</td>\n",
       "      <td>1.430321</td>\n",
       "      <td>NaN</td>\n",
       "      <td>5648.642857</td>\n",
       "    </tr>\n",
       "    <tr>\n",
       "      <th>1</th>\n",
       "      <td>102.01</td>\n",
       "      <td>0.507667</td>\n",
       "      <td>0.1</td>\n",
       "      <td>NaN</td>\n",
       "      <td>4.410011</td>\n",
       "      <td>NaN</td>\n",
       "      <td>6257.270417</td>\n",
       "    </tr>\n",
       "    <tr>\n",
       "      <th>2</th>\n",
       "      <td>103.01</td>\n",
       "      <td>0.291000</td>\n",
       "      <td>0.1</td>\n",
       "      <td>NaN</td>\n",
       "      <td>3.554638</td>\n",
       "      <td>NaN</td>\n",
       "      <td>6086.159167</td>\n",
       "    </tr>\n",
       "    <tr>\n",
       "      <th>3</th>\n",
       "      <td>104.01</td>\n",
       "      <td>0.545667</td>\n",
       "      <td>0.1</td>\n",
       "      <td>NaN</td>\n",
       "      <td>4.090360</td>\n",
       "      <td>NaN</td>\n",
       "      <td>6046.516250</td>\n",
       "    </tr>\n",
       "    <tr>\n",
       "      <th>4</th>\n",
       "      <td>105.01</td>\n",
       "      <td>0.687667</td>\n",
       "      <td>0.1</td>\n",
       "      <td>NaN</td>\n",
       "      <td>2.187803</td>\n",
       "      <td>NaN</td>\n",
       "      <td>5741.285333</td>\n",
       "    </tr>\n",
       "    <tr>\n",
       "      <th>...</th>\n",
       "      <td>...</td>\n",
       "      <td>...</td>\n",
       "      <td>...</td>\n",
       "      <td>...</td>\n",
       "      <td>...</td>\n",
       "      <td>...</td>\n",
       "      <td>...</td>\n",
       "    </tr>\n",
       "    <tr>\n",
       "      <th>4312</th>\n",
       "      <td>5023.01</td>\n",
       "      <td>NaN</td>\n",
       "      <td>NaN</td>\n",
       "      <td>NaN</td>\n",
       "      <td>NaN</td>\n",
       "      <td>NaN</td>\n",
       "      <td>3720.494840</td>\n",
       "    </tr>\n",
       "    <tr>\n",
       "      <th>4313</th>\n",
       "      <td>5024.01</td>\n",
       "      <td>0.612000</td>\n",
       "      <td>NaN</td>\n",
       "      <td>NaN</td>\n",
       "      <td>NaN</td>\n",
       "      <td>NaN</td>\n",
       "      <td>5985.393333</td>\n",
       "    </tr>\n",
       "    <tr>\n",
       "      <th>4314</th>\n",
       "      <td>5025.01</td>\n",
       "      <td>0.313000</td>\n",
       "      <td>NaN</td>\n",
       "      <td>NaN</td>\n",
       "      <td>NaN</td>\n",
       "      <td>NaN</td>\n",
       "      <td>8132.166667</td>\n",
       "    </tr>\n",
       "    <tr>\n",
       "      <th>4315</th>\n",
       "      <td>5026.01</td>\n",
       "      <td>0.700000</td>\n",
       "      <td>NaN</td>\n",
       "      <td>NaN</td>\n",
       "      <td>NaN</td>\n",
       "      <td>NaN</td>\n",
       "      <td>6444.962144</td>\n",
       "    </tr>\n",
       "    <tr>\n",
       "      <th>4316</th>\n",
       "      <td>5027.01</td>\n",
       "      <td>0.582000</td>\n",
       "      <td>NaN</td>\n",
       "      <td>NaN</td>\n",
       "      <td>NaN</td>\n",
       "      <td>NaN</td>\n",
       "      <td>5805.528337</td>\n",
       "    </tr>\n",
       "  </tbody>\n",
       "</table>\n",
       "<p>4317 rows × 7 columns</p>\n",
       "</div>"
      ],
      "text/plain": [
       "          TOI        bv  bv_err  li      prot  rhk         teff\n",
       "0      101.01  0.656000     0.1 NaN  1.430321  NaN  5648.642857\n",
       "1      102.01  0.507667     0.1 NaN  4.410011  NaN  6257.270417\n",
       "2      103.01  0.291000     0.1 NaN  3.554638  NaN  6086.159167\n",
       "3      104.01  0.545667     0.1 NaN  4.090360  NaN  6046.516250\n",
       "4      105.01  0.687667     0.1 NaN  2.187803  NaN  5741.285333\n",
       "...       ...       ...     ...  ..       ...  ...          ...\n",
       "4312  5023.01       NaN     NaN NaN       NaN  NaN  3720.494840\n",
       "4313  5024.01  0.612000     NaN NaN       NaN  NaN  5985.393333\n",
       "4314  5025.01  0.313000     NaN NaN       NaN  NaN  8132.166667\n",
       "4315  5026.01  0.700000     NaN NaN       NaN  NaN  6444.962144\n",
       "4316  5027.01  0.582000     NaN NaN       NaN  NaN  5805.528337\n",
       "\n",
       "[4317 rows x 7 columns]"
      ]
     },
     "execution_count": 84,
     "metadata": {},
     "output_type": "execute_result"
    }
   ],
   "source": [
    "import pandas as pd\n",
    "\n",
    "data = pd.read_csv('../data/youth_indicators_tois.csv')\n",
    "data"
   ]
  },
  {
   "cell_type": "code",
   "execution_count": 89,
   "id": "c2d282e1-01d5-413c-9bf0-bc349f56cf28",
   "metadata": {},
   "outputs": [
    {
     "data": {
      "text/html": [
       "<div>\n",
       "<style scoped>\n",
       "    .dataframe tbody tr th:only-of-type {\n",
       "        vertical-align: middle;\n",
       "    }\n",
       "\n",
       "    .dataframe tbody tr th {\n",
       "        vertical-align: top;\n",
       "    }\n",
       "\n",
       "    .dataframe thead th {\n",
       "        text-align: right;\n",
       "    }\n",
       "</style>\n",
       "<table border=\"1\" class=\"dataframe\">\n",
       "  <thead>\n",
       "    <tr style=\"text-align: right;\">\n",
       "      <th></th>\n",
       "      <th>TOI</th>\n",
       "      <th>bv</th>\n",
       "      <th>bv_err</th>\n",
       "      <th>li</th>\n",
       "      <th>prot</th>\n",
       "      <th>rhk</th>\n",
       "      <th>teff</th>\n",
       "    </tr>\n",
       "  </thead>\n",
       "  <tbody>\n",
       "    <tr>\n",
       "      <th>98</th>\n",
       "      <td>200.01</td>\n",
       "      <td>0.735647</td>\n",
       "      <td>0.048146</td>\n",
       "      <td>108.107498</td>\n",
       "      <td>5.475</td>\n",
       "      <td>-4.09</td>\n",
       "      <td>5482.444615</td>\n",
       "    </tr>\n",
       "  </tbody>\n",
       "</table>\n",
       "</div>"
      ],
      "text/plain": [
       "       TOI        bv    bv_err          li   prot   rhk         teff\n",
       "98  200.01  0.735647  0.048146  108.107498  5.475 -4.09  5482.444615"
      ]
     },
     "execution_count": 89,
     "metadata": {},
     "output_type": "execute_result"
    }
   ],
   "source": [
    "data.dropna(how='any')"
   ]
  },
  {
   "cell_type": "code",
   "execution_count": 88,
   "id": "b48ff5c4-ed83-4f3b-9fd3-e1f7e394b1fc",
   "metadata": {},
   "outputs": [
    {
     "name": "stdout",
     "output_type": "stream",
     "text": [
      "TOI 4429\n",
      "bv 4102\n",
      "bv_err 4000\n",
      "li 10\n",
      "prot 595\n",
      "rhk 17\n",
      "teff 4421\n"
     ]
    }
   ],
   "source": [
    "for c in data.columns:\n",
    "    print(c,len(data[c].dropna()))"
   ]
  },
  {
   "cell_type": "code",
   "execution_count": null,
   "id": "a566aa33-d102-46b6-b24b-812d508821e2",
   "metadata": {
    "ExecuteTime": {
     "end_time": "2023-04-07T10:36:09.049271Z",
     "start_time": "2023-04-07T10:15:10.881818Z"
    }
   },
   "outputs": [],
   "source": [
    "import pandas as pd\n",
    "import numpy as np\n",
    "from astropy.coordinates import SkyCoord\n",
    "from tqdm.notebook import tqdm\n",
    "from catalog import Target\n",
    "\n",
    "params = [\"B-V\", \"log_R_HK_\", \"EWLi\", \"Teff\", \"Prot\"]\n",
    "\n",
    "for i,row in tqdm(df.iterrows()):\n",
    "    if data.TOI.isin([row.TOI]).sum()==0:\n",
    "        d = {}\n",
    "        d['TOI'] = row.TOI\n",
    "\n",
    "        coords = SkyCoord(row.RA, row.Dec, unit=('hourangle','deg'))\n",
    "        t = Target(coords.ra.deg, coords.dec.deg)\n",
    "\n",
    "        for param in params:\n",
    "            p = t.query_vizier_param(param)\n",
    "            v = np.nanmean(list(p.values()))\n",
    "            d[param] = v\n",
    "        s = pd.Series(d).rename({\"B-V\": \"bv\", \n",
    "                 \"log_R_HK_\": \"rhk\", \n",
    "                 \"EWLi\": \"li\", \n",
    "                 \"Teff\": \"teff\", \n",
    "                 \"Prot\": \"prot\"}).to_frame().T\n",
    "        data = pd.concat([data,s], ignore_index=True) "
   ]
  },
  {
   "cell_type": "code",
   "execution_count": null,
   "id": "0949462c-780d-4802-a386-222d6e7603ee",
   "metadata": {
    "ExecuteTime": {
     "end_time": "2023-04-07T10:36:43.554482Z",
     "start_time": "2023-04-07T10:36:43.535786Z"
    }
   },
   "outputs": [],
   "source": [
    "data.to_csv('../data/youth_indicators_tois.csv', index=False)"
   ]
  },
  {
   "cell_type": "code",
   "execution_count": null,
   "id": "e55500f4-90b1-4306-87b8-81e45f631aae",
   "metadata": {},
   "outputs": [],
   "source": []
  }
 ],
 "metadata": {
  "kernelspec": {
   "display_name": "wakai",
   "language": "python",
   "name": "wakai"
  },
  "language_info": {
   "codemirror_mode": {
    "name": "ipython",
    "version": 3
   },
   "file_extension": ".py",
   "mimetype": "text/x-python",
   "name": "python",
   "nbconvert_exporter": "python",
   "pygments_lexer": "ipython3",
   "version": "3.12.4"
  },
  "toc": {
   "base_numbering": 1,
   "nav_menu": {},
   "number_sections": true,
   "sideBar": true,
   "skip_h1_title": false,
   "title_cell": "Table of Contents",
   "title_sidebar": "Contents",
   "toc_cell": false,
   "toc_position": {},
   "toc_section_display": true,
   "toc_window_display": false
  }
 },
 "nbformat": 4,
 "nbformat_minor": 5
}
