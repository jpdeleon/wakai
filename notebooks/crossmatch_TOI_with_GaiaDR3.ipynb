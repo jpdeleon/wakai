{
 "cells": [
  {
   "cell_type": "code",
   "execution_count": 1,
   "id": "f7a75e69-0dde-44eb-aec1-5d87029c56a8",
   "metadata": {},
   "outputs": [
    {
     "name": "stdout",
     "output_type": "stream",
     "text": [
      "/ut3/jerome/miniconda3/envs/wakai/bin/python\n"
     ]
    }
   ],
   "source": [
    "import sys\n",
    "\n",
    "!which {sys.executable}"
   ]
  },
  {
   "cell_type": "code",
   "execution_count": 2,
   "id": "2a1c4fb8-c666-4d90-b602-4fe48f919025",
   "metadata": {},
   "outputs": [],
   "source": [
    "import sys\n",
    "sys.path.insert(0, '../code')"
   ]
  },
  {
   "cell_type": "markdown",
   "id": "d11d26d4-cebc-47df-b8f4-0e4803757712",
   "metadata": {},
   "source": [
    "# TOI catalog"
   ]
  },
  {
   "cell_type": "code",
   "execution_count": 3,
   "id": "f20862dd-31a3-4729-a31f-91d87de2f280",
   "metadata": {},
   "outputs": [
    {
     "name": "stderr",
     "output_type": "stream",
     "text": [
      "\u001b[32m2025-05-15 13:08:34.159\u001b[0m | \u001b[1mINFO    \u001b[0m | \u001b[36mcatalog\u001b[0m:\u001b[36mget_tois\u001b[0m:\u001b[36m1393\u001b[0m - \u001b[1mSaved: \u001b[0m\n"
     ]
    }
   ],
   "source": [
    "from catalog import get_tois\n",
    "\n",
    "tois = get_tois(clobber=True)\n",
    "# tois.columns.tolist()"
   ]
  },
  {
   "cell_type": "code",
   "execution_count": 4,
   "id": "ecb2f1ef-49ed-4b58-888b-b50c58d2ba5e",
   "metadata": {},
   "outputs": [
    {
     "data": {
      "text/html": [
       "<div>\n",
       "<style scoped>\n",
       "    .dataframe tbody tr th:only-of-type {\n",
       "        vertical-align: middle;\n",
       "    }\n",
       "\n",
       "    .dataframe tbody tr th {\n",
       "        vertical-align: top;\n",
       "    }\n",
       "\n",
       "    .dataframe thead th {\n",
       "        text-align: right;\n",
       "    }\n",
       "</style>\n",
       "<table border=\"1\" class=\"dataframe\">\n",
       "  <thead>\n",
       "    <tr style=\"text-align: right;\">\n",
       "      <th></th>\n",
       "      <th>TIC ID</th>\n",
       "      <th>TOI</th>\n",
       "      <th>Previous CTOI</th>\n",
       "      <th>Master</th>\n",
       "      <th>SG1A</th>\n",
       "      <th>SG1B</th>\n",
       "      <th>SG2</th>\n",
       "      <th>SG3</th>\n",
       "      <th>SG4</th>\n",
       "      <th>SG5</th>\n",
       "      <th>...</th>\n",
       "      <th>Stellar Mass (M_Sun) err</th>\n",
       "      <th>Sectors</th>\n",
       "      <th>Date TOI Alerted (UTC)</th>\n",
       "      <th>Date TOI Updated (UTC)</th>\n",
       "      <th>Date Modified</th>\n",
       "      <th>Comments</th>\n",
       "      <th>ra_deg</th>\n",
       "      <th>dec_deg</th>\n",
       "      <th>GaiaDR3_exofop</th>\n",
       "      <th>GaiaDR3_vizier</th>\n",
       "    </tr>\n",
       "  </thead>\n",
       "  <tbody>\n",
       "    <tr>\n",
       "      <th>6475</th>\n",
       "      <td>259381479</td>\n",
       "      <td>7451.01</td>\n",
       "      <td>NaN</td>\n",
       "      <td>3</td>\n",
       "      <td>4</td>\n",
       "      <td>3</td>\n",
       "      <td>3</td>\n",
       "      <td>1</td>\n",
       "      <td>4</td>\n",
       "      <td>4</td>\n",
       "      <td>...</td>\n",
       "      <td>NaN</td>\n",
       "      <td>18,58,85</td>\n",
       "      <td>2025-05-01</td>\n",
       "      <td>2025-05-01</td>\n",
       "      <td>2025-05-03 12:20:30</td>\n",
       "      <td>found in faint-star QLP search</td>\n",
       "      <td>43.399500</td>\n",
       "      <td>46.174561</td>\n",
       "      <td>NaN</td>\n",
       "      <td>NaN</td>\n",
       "    </tr>\n",
       "    <tr>\n",
       "      <th>6476</th>\n",
       "      <td>327249454</td>\n",
       "      <td>7452.01</td>\n",
       "      <td>NaN</td>\n",
       "      <td>3</td>\n",
       "      <td>4</td>\n",
       "      <td>3</td>\n",
       "      <td>3</td>\n",
       "      <td>1</td>\n",
       "      <td>4</td>\n",
       "      <td>4</td>\n",
       "      <td>...</td>\n",
       "      <td>NaN</td>\n",
       "      <td>17,18,24,57,58,77,78,84,85</td>\n",
       "      <td>2025-05-01</td>\n",
       "      <td>2025-05-01</td>\n",
       "      <td>2025-05-03 12:20:30</td>\n",
       "      <td>found in faint-star QLP search</td>\n",
       "      <td>3.511750</td>\n",
       "      <td>58.167081</td>\n",
       "      <td>NaN</td>\n",
       "      <td>NaN</td>\n",
       "    </tr>\n",
       "    <tr>\n",
       "      <th>6477</th>\n",
       "      <td>347944406</td>\n",
       "      <td>7453.01</td>\n",
       "      <td>NaN</td>\n",
       "      <td>3</td>\n",
       "      <td>4</td>\n",
       "      <td>3</td>\n",
       "      <td>3</td>\n",
       "      <td>1</td>\n",
       "      <td>4</td>\n",
       "      <td>4</td>\n",
       "      <td>...</td>\n",
       "      <td>0.222863</td>\n",
       "      <td>18,58,85</td>\n",
       "      <td>2025-05-01</td>\n",
       "      <td>2025-05-01</td>\n",
       "      <td>2025-05-03 12:20:30</td>\n",
       "      <td>found in faint-star QLP search</td>\n",
       "      <td>34.003542</td>\n",
       "      <td>57.346072</td>\n",
       "      <td>NaN</td>\n",
       "      <td>NaN</td>\n",
       "    </tr>\n",
       "    <tr>\n",
       "      <th>6478</th>\n",
       "      <td>130087198</td>\n",
       "      <td>7454.01</td>\n",
       "      <td>NaN</td>\n",
       "      <td>3</td>\n",
       "      <td>4</td>\n",
       "      <td>3</td>\n",
       "      <td>3</td>\n",
       "      <td>1</td>\n",
       "      <td>4</td>\n",
       "      <td>4</td>\n",
       "      <td>...</td>\n",
       "      <td>NaN</td>\n",
       "      <td>18,58,85</td>\n",
       "      <td>2025-05-01</td>\n",
       "      <td>2025-05-01</td>\n",
       "      <td>2025-05-03 12:20:30</td>\n",
       "      <td>found in faint-star QLP search</td>\n",
       "      <td>37.777375</td>\n",
       "      <td>40.724964</td>\n",
       "      <td>NaN</td>\n",
       "      <td>NaN</td>\n",
       "    </tr>\n",
       "    <tr>\n",
       "      <th>6479</th>\n",
       "      <td>196351790</td>\n",
       "      <td>7455.01</td>\n",
       "      <td>NaN</td>\n",
       "      <td>3</td>\n",
       "      <td>4</td>\n",
       "      <td>3</td>\n",
       "      <td>3</td>\n",
       "      <td>1</td>\n",
       "      <td>4</td>\n",
       "      <td>4</td>\n",
       "      <td>...</td>\n",
       "      <td>NaN</td>\n",
       "      <td>17,57,58,84,85</td>\n",
       "      <td>2025-05-01</td>\n",
       "      <td>2025-05-01</td>\n",
       "      <td>2025-05-03 12:20:30</td>\n",
       "      <td>found in faint-star QLP search; weak even tran...</td>\n",
       "      <td>14.410875</td>\n",
       "      <td>47.522036</td>\n",
       "      <td>NaN</td>\n",
       "      <td>NaN</td>\n",
       "    </tr>\n",
       "  </tbody>\n",
       "</table>\n",
       "<p>5 rows × 66 columns</p>\n",
       "</div>"
      ],
      "text/plain": [
       "         TIC ID      TOI Previous CTOI  Master  SG1A  SG1B  SG2  SG3  SG4  \\\n",
       "6475  259381479  7451.01           NaN       3     4     3    3    1    4   \n",
       "6476  327249454  7452.01           NaN       3     4     3    3    1    4   \n",
       "6477  347944406  7453.01           NaN       3     4     3    3    1    4   \n",
       "6478  130087198  7454.01           NaN       3     4     3    3    1    4   \n",
       "6479  196351790  7455.01           NaN       3     4     3    3    1    4   \n",
       "\n",
       "      SG5  ...  Stellar Mass (M_Sun) err                     Sectors  \\\n",
       "6475    4  ...                       NaN                    18,58,85   \n",
       "6476    4  ...                       NaN  17,18,24,57,58,77,78,84,85   \n",
       "6477    4  ...                  0.222863                    18,58,85   \n",
       "6478    4  ...                       NaN                    18,58,85   \n",
       "6479    4  ...                       NaN              17,57,58,84,85   \n",
       "\n",
       "      Date TOI Alerted (UTC)  Date TOI Updated (UTC)        Date Modified  \\\n",
       "6475              2025-05-01              2025-05-01  2025-05-03 12:20:30   \n",
       "6476              2025-05-01              2025-05-01  2025-05-03 12:20:30   \n",
       "6477              2025-05-01              2025-05-01  2025-05-03 12:20:30   \n",
       "6478              2025-05-01              2025-05-01  2025-05-03 12:20:30   \n",
       "6479              2025-05-01              2025-05-01  2025-05-03 12:20:30   \n",
       "\n",
       "                                               Comments     ra_deg    dec_deg  \\\n",
       "6475                     found in faint-star QLP search  43.399500  46.174561   \n",
       "6476                     found in faint-star QLP search   3.511750  58.167081   \n",
       "6477                     found in faint-star QLP search  34.003542  57.346072   \n",
       "6478                     found in faint-star QLP search  37.777375  40.724964   \n",
       "6479  found in faint-star QLP search; weak even tran...  14.410875  47.522036   \n",
       "\n",
       "      GaiaDR3_exofop  GaiaDR3_vizier  \n",
       "6475             NaN             NaN  \n",
       "6476             NaN             NaN  \n",
       "6477             NaN             NaN  \n",
       "6478             NaN             NaN  \n",
       "6479             NaN             NaN  \n",
       "\n",
       "[5 rows x 66 columns]"
      ]
     },
     "execution_count": 4,
     "metadata": {},
     "output_type": "execute_result"
    }
   ],
   "source": [
    "tois.tail()"
   ]
  },
  {
   "cell_type": "code",
   "execution_count": 7,
   "id": "818d26ec-01a3-48c3-abfe-c470079d11a4",
   "metadata": {},
   "outputs": [
    {
     "data": {
      "text/plain": [
       "array([[942.01,\n",
       "        'Probable young K dwarf. Transit is believable enough. Maybe also a signal at 10.15 days with Tc=1447?'],\n",
       "       [3604.01,\n",
       "        'V-shaped; found in faint-star QLP search; no stellar radius; possible young or evolved K star'],\n",
       "       [5743.01,\n",
       "        'radius possibly underestimated; potentially young host star'],\n",
       "       [5956.01,\n",
       "        'V-shaped; large; young host star; ~5 sigma odd-even in SPOC s57'],\n",
       "       [6258.01,\n",
       "        'low SNR; asymmetric transit shape; flaring possibly young host'],\n",
       "       [6678.01,\n",
       "        'rotational modulation at 7-8 days may indicate young host star']],\n",
       "      dtype=object)"
      ]
     },
     "execution_count": 7,
     "metadata": {},
     "output_type": "execute_result"
    }
   ],
   "source": [
    "tois[tois.Comments.apply(lambda x: 'young' in str(x))][['TOI','Comments']].values"
   ]
  },
  {
   "cell_type": "code",
   "execution_count": 8,
   "id": "3c4f3856-c1ad-47f1-ace9-eb7f1d51e5df",
   "metadata": {},
   "outputs": [
    {
     "data": {
      "text/plain": [
       "(6480, 66)"
      ]
     },
     "execution_count": 8,
     "metadata": {},
     "output_type": "execute_result"
    }
   ],
   "source": [
    "tois.shape"
   ]
  },
  {
   "cell_type": "markdown",
   "id": "0c3123a7-1aaa-4df4-abc4-46b9f7021df4",
   "metadata": {},
   "source": [
    "# cross-match TOI with Gaia DR3 using `astroquery.xmatch`"
   ]
  },
  {
   "cell_type": "raw",
   "id": "3598b317-16f2-44d5-bf10-62402824c617",
   "metadata": {},
   "source": [
    "!{sys.executable} -m pip show astroquery"
   ]
  },
  {
   "cell_type": "raw",
   "id": "f387253d-64cc-4e0a-b43b-af651ec87c60",
   "metadata": {},
   "source": [
    "!{sys.executable} -m pip install mocpy -U"
   ]
  },
  {
   "cell_type": "raw",
   "id": "c7e30d6a-5e6c-4150-8d2b-cffba6283a25",
   "metadata": {},
   "source": [
    "tois.to_csv('../data/TOIs.csv', index=False)"
   ]
  },
  {
   "cell_type": "code",
   "execution_count": 9,
   "id": "5e349cfc-49c2-4f27-a9b8-f8dff646aff7",
   "metadata": {},
   "outputs": [
    {
     "name": "stdout",
     "output_type": "stream",
     "text": [
      "Could not import regions, which is required for some of the functionalities of this module.\n"
     ]
    },
    {
     "data": {
      "text/html": [
       "<div>\n",
       "<style scoped>\n",
       "    .dataframe tbody tr th:only-of-type {\n",
       "        vertical-align: middle;\n",
       "    }\n",
       "\n",
       "    .dataframe tbody tr th {\n",
       "        vertical-align: top;\n",
       "    }\n",
       "\n",
       "    .dataframe thead th {\n",
       "        text-align: right;\n",
       "    }\n",
       "</style>\n",
       "<table border=\"1\" class=\"dataframe\">\n",
       "  <thead>\n",
       "    <tr style=\"text-align: right;\">\n",
       "      <th></th>\n",
       "      <th>angDist</th>\n",
       "      <th>TIC ID</th>\n",
       "      <th>TOI</th>\n",
       "      <th>Previous CTOI</th>\n",
       "      <th>Master</th>\n",
       "      <th>SG1A</th>\n",
       "      <th>SG1B</th>\n",
       "      <th>SG2</th>\n",
       "      <th>SG3</th>\n",
       "      <th>SG4</th>\n",
       "      <th>...</th>\n",
       "      <th>B_AG</th>\n",
       "      <th>E(BP-RP)</th>\n",
       "      <th>b_E(BP-RP)</th>\n",
       "      <th>B_E(BP-RP)</th>\n",
       "      <th>Lib</th>\n",
       "      <th>RAJ2000</th>\n",
       "      <th>DEJ2000</th>\n",
       "      <th>e_RAJ2000</th>\n",
       "      <th>e_DEJ2000</th>\n",
       "      <th>RADEcorJ2000</th>\n",
       "    </tr>\n",
       "  </thead>\n",
       "  <tbody>\n",
       "    <tr>\n",
       "      <th>7740</th>\n",
       "      <td>0.079164</td>\n",
       "      <td>259381479</td>\n",
       "      <td>7451.01</td>\n",
       "      <td>NaN</td>\n",
       "      <td>3</td>\n",
       "      <td>4</td>\n",
       "      <td>3</td>\n",
       "      <td>3</td>\n",
       "      <td>1</td>\n",
       "      <td>4</td>\n",
       "      <td>...</td>\n",
       "      <td>NaN</td>\n",
       "      <td>NaN</td>\n",
       "      <td>NaN</td>\n",
       "      <td>NaN</td>\n",
       "      <td>NaN</td>\n",
       "      <td>43.399531</td>\n",
       "      <td>46.174566</td>\n",
       "      <td>0.595016</td>\n",
       "      <td>0.648654</td>\n",
       "      <td>0.2903</td>\n",
       "    </tr>\n",
       "    <tr>\n",
       "      <th>7741</th>\n",
       "      <td>0.006298</td>\n",
       "      <td>327249454</td>\n",
       "      <td>7452.01</td>\n",
       "      <td>NaN</td>\n",
       "      <td>3</td>\n",
       "      <td>4</td>\n",
       "      <td>3</td>\n",
       "      <td>3</td>\n",
       "      <td>1</td>\n",
       "      <td>4</td>\n",
       "      <td>...</td>\n",
       "      <td>0.9097</td>\n",
       "      <td>0.4886</td>\n",
       "      <td>0.4849</td>\n",
       "      <td>0.4927</td>\n",
       "      <td>A</td>\n",
       "      <td>3.511682</td>\n",
       "      <td>58.167092</td>\n",
       "      <td>0.227478</td>\n",
       "      <td>0.218697</td>\n",
       "      <td>-0.4282</td>\n",
       "    </tr>\n",
       "    <tr>\n",
       "      <th>7742</th>\n",
       "      <td>0.012678</td>\n",
       "      <td>347944406</td>\n",
       "      <td>7453.01</td>\n",
       "      <td>NaN</td>\n",
       "      <td>3</td>\n",
       "      <td>4</td>\n",
       "      <td>3</td>\n",
       "      <td>3</td>\n",
       "      <td>1</td>\n",
       "      <td>4</td>\n",
       "      <td>...</td>\n",
       "      <td>NaN</td>\n",
       "      <td>NaN</td>\n",
       "      <td>NaN</td>\n",
       "      <td>NaN</td>\n",
       "      <td>NaN</td>\n",
       "      <td>34.003481</td>\n",
       "      <td>57.346115</td>\n",
       "      <td>0.171583</td>\n",
       "      <td>0.213738</td>\n",
       "      <td>0.1890</td>\n",
       "    </tr>\n",
       "    <tr>\n",
       "      <th>7743</th>\n",
       "      <td>0.025960</td>\n",
       "      <td>130087198</td>\n",
       "      <td>7454.01</td>\n",
       "      <td>NaN</td>\n",
       "      <td>3</td>\n",
       "      <td>4</td>\n",
       "      <td>3</td>\n",
       "      <td>3</td>\n",
       "      <td>1</td>\n",
       "      <td>4</td>\n",
       "      <td>...</td>\n",
       "      <td>0.1028</td>\n",
       "      <td>0.0495</td>\n",
       "      <td>0.0444</td>\n",
       "      <td>0.0553</td>\n",
       "      <td>MARCS</td>\n",
       "      <td>37.777380</td>\n",
       "      <td>40.724970</td>\n",
       "      <td>0.336897</td>\n",
       "      <td>0.297551</td>\n",
       "      <td>0.0898</td>\n",
       "    </tr>\n",
       "    <tr>\n",
       "      <th>7744</th>\n",
       "      <td>0.045442</td>\n",
       "      <td>196351790</td>\n",
       "      <td>7455.01</td>\n",
       "      <td>NaN</td>\n",
       "      <td>3</td>\n",
       "      <td>4</td>\n",
       "      <td>3</td>\n",
       "      <td>3</td>\n",
       "      <td>1</td>\n",
       "      <td>4</td>\n",
       "      <td>...</td>\n",
       "      <td>0.0362</td>\n",
       "      <td>0.0049</td>\n",
       "      <td>0.0015</td>\n",
       "      <td>0.0192</td>\n",
       "      <td>PHOENIX</td>\n",
       "      <td>14.410832</td>\n",
       "      <td>47.522054</td>\n",
       "      <td>0.251246</td>\n",
       "      <td>0.213116</td>\n",
       "      <td>-0.0815</td>\n",
       "    </tr>\n",
       "  </tbody>\n",
       "</table>\n",
       "<p>5 rows × 204 columns</p>\n",
       "</div>"
      ],
      "text/plain": [
       "       angDist     TIC ID      TOI Previous CTOI  Master  SG1A  SG1B  SG2  \\\n",
       "7740  0.079164  259381479  7451.01           NaN       3     4     3    3   \n",
       "7741  0.006298  327249454  7452.01           NaN       3     4     3    3   \n",
       "7742  0.012678  347944406  7453.01           NaN       3     4     3    3   \n",
       "7743  0.025960  130087198  7454.01           NaN       3     4     3    3   \n",
       "7744  0.045442  196351790  7455.01           NaN       3     4     3    3   \n",
       "\n",
       "      SG3  SG4  ...    B_AG  E(BP-RP)  b_E(BP-RP)  B_E(BP-RP)      Lib  \\\n",
       "7740    1    4  ...     NaN       NaN         NaN         NaN      NaN   \n",
       "7741    1    4  ...  0.9097    0.4886      0.4849      0.4927        A   \n",
       "7742    1    4  ...     NaN       NaN         NaN         NaN      NaN   \n",
       "7743    1    4  ...  0.1028    0.0495      0.0444      0.0553    MARCS   \n",
       "7744    1    4  ...  0.0362    0.0049      0.0015      0.0192  PHOENIX   \n",
       "\n",
       "        RAJ2000    DEJ2000 e_RAJ2000 e_DEJ2000  RADEcorJ2000  \n",
       "7740  43.399531  46.174566  0.595016  0.648654        0.2903  \n",
       "7741   3.511682  58.167092  0.227478  0.218697       -0.4282  \n",
       "7742  34.003481  57.346115  0.171583  0.213738        0.1890  \n",
       "7743  37.777380  40.724970  0.336897  0.297551        0.0898  \n",
       "7744  14.410832  47.522054  0.251246  0.213116       -0.0815  \n",
       "\n",
       "[5 rows x 204 columns]"
      ]
     },
     "execution_count": 9,
     "metadata": {},
     "output_type": "execute_result"
    }
   ],
   "source": [
    "import astropy.units as u\n",
    "from astroquery.xmatch import XMatch\n",
    "import pandas as pd\n",
    "\n",
    "gaia_table = XMatch.query(\n",
    "    cat1=open('../data/TOIs.csv'),\n",
    "    cat2=\"vizier:I/355/gaiadr3\",  # The Vizier identifier for Gaia DR3\n",
    "    max_distance=1 * u.arcsec,    # Set the maximum matching radius\n",
    "    colRA1=\"ra_deg\",  # Column name for Right Ascension in TIC results\n",
    "    colDec1=\"dec_deg\" # Column name for Declination in TIC results\n",
    ")\n",
    "gaia_df = gaia_table.to_pandas()\n",
    "\n",
    "# results to 6237 matches\n",
    "matches = gaia_df.copy()\n",
    "\n",
    "# Apply magnitude filtering criteria\n",
    "# For main-sequence stars, the difference between TESS T and Gaia G is around 0–0.5 magnitudes\n",
    "# Redder stars might have T - G values closer to 1–2 magnitudes.\n",
    "# For giants or highly reddened stars, the difference could be larger.\n",
    "if False:\n",
    "    # results to 5971 matches\n",
    "    matches = []\n",
    "    for i, row in gaia_df.iterrows():\n",
    "        teff=row['Stellar Eff Temp (K)']\n",
    "        if teff<3500:\n",
    "            magnitude_threshold = 2\n",
    "        elif (teff>3500) and (teff<6000):\n",
    "            magnitude_threshold = 1\n",
    "        else:\n",
    "            magnitude_threshold = 1.5\n",
    "        if abs(row['Gmag'] - row['TESS Mag']) < magnitude_threshold:\n",
    "            matches.append(row)\n",
    "    matches = pd.concat(matches, axis=1).T\n",
    "if False:\n",
    "    # results to 5700 matches\n",
    "    magnitude_threshold = 1\n",
    "    matches = gaia_df[abs(gaia_df['Gmag'] - gaia_df['TESS Mag']) < magnitude_threshold]\n",
    "if False:\n",
    "    # results to 4878 matches\n",
    "    teff_threshold = 1000\n",
    "    matches = gaia_df[abs(gaia_df['Teff'] - gaia_df['Stellar Eff Temp (K)']) < teff_threshold]\n",
    "matches.tail()"
   ]
  },
  {
   "cell_type": "code",
   "execution_count": 10,
   "id": "da97ddc8-b185-4297-9004-b511c2a76c6c",
   "metadata": {},
   "outputs": [
    {
     "data": {
      "text/plain": [
       "(7745, 204)"
      ]
     },
     "execution_count": 10,
     "metadata": {},
     "output_type": "execute_result"
    }
   ],
   "source": [
    "matches.shape"
   ]
  },
  {
   "cell_type": "raw",
   "id": "5c931181-ecdc-4ec3-bf6a-125934610fbb",
   "metadata": {},
   "source": [
    "d = gaia_table.to_pandas().query(\"TOI==4364.01\")\n",
    "d['Gmag'], d['TESS Mag']"
   ]
  },
  {
   "cell_type": "raw",
   "id": "107f2223-f739-45f6-8d4d-6406ec46994b",
   "metadata": {},
   "source": [
    "d = gaia_table.to_pandas().query(\"TOI==4364.01\")\n",
    "d['Teff'], d['TESS Mag']"
   ]
  },
  {
   "cell_type": "code",
   "execution_count": 11,
   "id": "761ae181-5d77-4e3e-be55-c1fd9b2f6e56",
   "metadata": {},
   "outputs": [],
   "source": [
    "matches['GaiaDR3'] = matches['DR3Name'].apply(lambda x: int(x.split()[-1]))\n",
    "matches.to_csv('../data/TOIs_GaiaDR3_xmatch.csv', index=False)"
   ]
  },
  {
   "cell_type": "code",
   "execution_count": 12,
   "id": "cb1281f7-6954-4339-bc2f-aa9dac77458e",
   "metadata": {},
   "outputs": [
    {
     "data": {
      "text/plain": [
       "(15, 66)"
      ]
     },
     "execution_count": 12,
     "metadata": {},
     "output_type": "execute_result"
    }
   ],
   "source": [
    "idx = tois.TOI.isin(matches.TOI.unique())\n",
    "tois[~idx].shape"
   ]
  },
  {
   "cell_type": "code",
   "execution_count": 13,
   "id": "57f54fc5-5d3f-4515-be1f-cac42b5f5a08",
   "metadata": {},
   "outputs": [],
   "source": [
    "tois[~idx].to_csv('../data/TOIs_GaiaDR3_xmatch_missing.csv', index=False)"
   ]
  },
  {
   "cell_type": "raw",
   "id": "9cada348-79ce-4e81-99f0-6a35daf25ec3",
   "metadata": {},
   "source": [
    "import pandas as pd\n",
    "\n",
    "matches = pd.read_csv('../data/TOIs_GaiaDR3_xmatch.csv')\n",
    "matches.head()"
   ]
  }
 ],
 "metadata": {
  "kernelspec": {
   "display_name": "wakai",
   "language": "python",
   "name": "wakai"
  },
  "language_info": {
   "codemirror_mode": {
    "name": "ipython",
    "version": 3
   },
   "file_extension": ".py",
   "mimetype": "text/x-python",
   "name": "python",
   "nbconvert_exporter": "python",
   "pygments_lexer": "ipython3",
   "version": "3.12.4"
  },
  "toc": {
   "base_numbering": 1,
   "nav_menu": {},
   "number_sections": true,
   "sideBar": true,
   "skip_h1_title": false,
   "title_cell": "Table of Contents",
   "title_sidebar": "Contents",
   "toc_cell": false,
   "toc_position": {},
   "toc_section_display": true,
   "toc_window_display": false
  }
 },
 "nbformat": 4,
 "nbformat_minor": 5
}
