{
 "cells": [
  {
   "cell_type": "code",
   "execution_count": 1,
   "id": "f7a75e69-0dde-44eb-aec1-5d87029c56a8",
   "metadata": {},
   "outputs": [
    {
     "name": "stdout",
     "output_type": "stream",
     "text": [
      "/ut3/jerome/miniconda3/envs/wakai/bin/python\n"
     ]
    }
   ],
   "source": [
    "import sys\n",
    "\n",
    "!which {sys.executable}"
   ]
  },
  {
   "cell_type": "code",
   "execution_count": 2,
   "id": "2a1c4fb8-c666-4d90-b602-4fe48f919025",
   "metadata": {},
   "outputs": [],
   "source": [
    "import sys\n",
    "sys.path.insert(0, '../code')"
   ]
  },
  {
   "cell_type": "markdown",
   "id": "d11d26d4-cebc-47df-b8f4-0e4803757712",
   "metadata": {},
   "source": [
    "# TOI catalog"
   ]
  },
  {
   "cell_type": "code",
   "execution_count": 4,
   "id": "f20862dd-31a3-4729-a31f-91d87de2f280",
   "metadata": {},
   "outputs": [],
   "source": [
    "from catalog import get_tois\n",
    "\n",
    "tois = get_tois(clobber=False)\n",
    "# tois.columns.tolist()"
   ]
  },
  {
   "cell_type": "code",
   "execution_count": 5,
   "id": "ecb2f1ef-49ed-4b58-888b-b50c58d2ba5e",
   "metadata": {},
   "outputs": [
    {
     "data": {
      "text/html": [
       "<div>\n",
       "<style scoped>\n",
       "    .dataframe tbody tr th:only-of-type {\n",
       "        vertical-align: middle;\n",
       "    }\n",
       "\n",
       "    .dataframe tbody tr th {\n",
       "        vertical-align: top;\n",
       "    }\n",
       "\n",
       "    .dataframe thead th {\n",
       "        text-align: right;\n",
       "    }\n",
       "</style>\n",
       "<table border=\"1\" class=\"dataframe\">\n",
       "  <thead>\n",
       "    <tr style=\"text-align: right;\">\n",
       "      <th></th>\n",
       "      <th>TIC ID</th>\n",
       "      <th>TOI</th>\n",
       "      <th>Previous CTOI</th>\n",
       "      <th>Master</th>\n",
       "      <th>SG1A</th>\n",
       "      <th>SG1B</th>\n",
       "      <th>SG2</th>\n",
       "      <th>SG3</th>\n",
       "      <th>SG4</th>\n",
       "      <th>SG5</th>\n",
       "      <th>...</th>\n",
       "      <th>Stellar Mass (M_Sun) err</th>\n",
       "      <th>Sectors</th>\n",
       "      <th>Date TOI Alerted (UTC)</th>\n",
       "      <th>Date TOI Updated (UTC)</th>\n",
       "      <th>Date Modified</th>\n",
       "      <th>Comments</th>\n",
       "      <th>ra_deg</th>\n",
       "      <th>dec_deg</th>\n",
       "      <th>GaiaDR3_exofop</th>\n",
       "      <th>GaiaDR3_vizier</th>\n",
       "    </tr>\n",
       "  </thead>\n",
       "  <tbody>\n",
       "    <tr>\n",
       "      <th>6471</th>\n",
       "      <td>271052158</td>\n",
       "      <td>7461.01</td>\n",
       "      <td>NaN</td>\n",
       "      <td>5</td>\n",
       "      <td>5</td>\n",
       "      <td>5</td>\n",
       "      <td>5</td>\n",
       "      <td>5</td>\n",
       "      <td>5</td>\n",
       "      <td>5</td>\n",
       "      <td>...</td>\n",
       "      <td>0.111650</td>\n",
       "      <td>15,40,41,54,55,74,75</td>\n",
       "      <td>2025-06-05</td>\n",
       "      <td>2025-06-05</td>\n",
       "      <td>2025-07-22 14:39:41</td>\n",
       "      <td>Kepler-314 c</td>\n",
       "      <td>294.674167</td>\n",
       "      <td>42.075603</td>\n",
       "      <td>NaN</td>\n",
       "      <td>NaN</td>\n",
       "    </tr>\n",
       "    <tr>\n",
       "      <th>6472</th>\n",
       "      <td>298897095</td>\n",
       "      <td>7462.01</td>\n",
       "      <td>NaN</td>\n",
       "      <td>3</td>\n",
       "      <td>4</td>\n",
       "      <td>3</td>\n",
       "      <td>3</td>\n",
       "      <td>4</td>\n",
       "      <td>4</td>\n",
       "      <td>4</td>\n",
       "      <td>...</td>\n",
       "      <td>NaN</td>\n",
       "      <td>74,75</td>\n",
       "      <td>2025-06-05</td>\n",
       "      <td>2025-06-05</td>\n",
       "      <td>2025-07-22 14:39:41</td>\n",
       "      <td>KOI 141.01; SPOC is assuming solar radius</td>\n",
       "      <td>288.038208</td>\n",
       "      <td>50.651475</td>\n",
       "      <td>NaN</td>\n",
       "      <td>NaN</td>\n",
       "    </tr>\n",
       "    <tr>\n",
       "      <th>6473</th>\n",
       "      <td>274198407</td>\n",
       "      <td>7463.01</td>\n",
       "      <td>NaN</td>\n",
       "      <td>5</td>\n",
       "      <td>5</td>\n",
       "      <td>5</td>\n",
       "      <td>5</td>\n",
       "      <td>5</td>\n",
       "      <td>5</td>\n",
       "      <td>5</td>\n",
       "      <td>...</td>\n",
       "      <td>0.143742</td>\n",
       "      <td>41,54,55,74,75</td>\n",
       "      <td>2025-06-05</td>\n",
       "      <td>2025-06-05</td>\n",
       "      <td>2025-07-22 14:39:41</td>\n",
       "      <td>Kepler-318 b</td>\n",
       "      <td>298.482833</td>\n",
       "      <td>46.793636</td>\n",
       "      <td>NaN</td>\n",
       "      <td>NaN</td>\n",
       "    </tr>\n",
       "    <tr>\n",
       "      <th>6474</th>\n",
       "      <td>251090642</td>\n",
       "      <td>7464.01</td>\n",
       "      <td>TIC 251090642.01</td>\n",
       "      <td>3</td>\n",
       "      <td>4</td>\n",
       "      <td>3</td>\n",
       "      <td>3</td>\n",
       "      <td>1</td>\n",
       "      <td>4</td>\n",
       "      <td>4</td>\n",
       "      <td>...</td>\n",
       "      <td>0.020273</td>\n",
       "      <td>47,74</td>\n",
       "      <td>2025-06-05</td>\n",
       "      <td>2025-06-05</td>\n",
       "      <td>2025-07-22 14:39:41</td>\n",
       "      <td>also a CTOI from Daniel Vogl</td>\n",
       "      <td>139.793750</td>\n",
       "      <td>53.594558</td>\n",
       "      <td>NaN</td>\n",
       "      <td>NaN</td>\n",
       "    </tr>\n",
       "    <tr>\n",
       "      <th>6475</th>\n",
       "      <td>167804011</td>\n",
       "      <td>7465.01</td>\n",
       "      <td>TIC 167804011.01</td>\n",
       "      <td>3</td>\n",
       "      <td>4</td>\n",
       "      <td>3</td>\n",
       "      <td>3</td>\n",
       "      <td>1</td>\n",
       "      <td>4</td>\n",
       "      <td>4</td>\n",
       "      <td>...</td>\n",
       "      <td>0.116703</td>\n",
       "      <td>90</td>\n",
       "      <td>2025-07-17</td>\n",
       "      <td>2025-07-17</td>\n",
       "      <td>2025-07-22 12:04:06</td>\n",
       "      <td>egress of one transit right after downlink gap</td>\n",
       "      <td>162.431083</td>\n",
       "      <td>-23.349503</td>\n",
       "      <td>NaN</td>\n",
       "      <td>NaN</td>\n",
       "    </tr>\n",
       "  </tbody>\n",
       "</table>\n",
       "<p>5 rows × 66 columns</p>\n",
       "</div>"
      ],
      "text/plain": [
       "         TIC ID      TOI     Previous CTOI  Master  SG1A  SG1B  SG2  SG3  SG4  \\\n",
       "6471  271052158  7461.01               NaN       5     5     5    5    5    5   \n",
       "6472  298897095  7462.01               NaN       3     4     3    3    4    4   \n",
       "6473  274198407  7463.01               NaN       5     5     5    5    5    5   \n",
       "6474  251090642  7464.01  TIC 251090642.01       3     4     3    3    1    4   \n",
       "6475  167804011  7465.01  TIC 167804011.01       3     4     3    3    1    4   \n",
       "\n",
       "      SG5  ...  Stellar Mass (M_Sun) err               Sectors  \\\n",
       "6471    5  ...                  0.111650  15,40,41,54,55,74,75   \n",
       "6472    4  ...                       NaN                 74,75   \n",
       "6473    5  ...                  0.143742        41,54,55,74,75   \n",
       "6474    4  ...                  0.020273                 47,74   \n",
       "6475    4  ...                  0.116703                    90   \n",
       "\n",
       "      Date TOI Alerted (UTC)  Date TOI Updated (UTC)        Date Modified  \\\n",
       "6471              2025-06-05              2025-06-05  2025-07-22 14:39:41   \n",
       "6472              2025-06-05              2025-06-05  2025-07-22 14:39:41   \n",
       "6473              2025-06-05              2025-06-05  2025-07-22 14:39:41   \n",
       "6474              2025-06-05              2025-06-05  2025-07-22 14:39:41   \n",
       "6475              2025-07-17              2025-07-17  2025-07-22 12:04:06   \n",
       "\n",
       "                                            Comments      ra_deg    dec_deg  \\\n",
       "6471                                    Kepler-314 c  294.674167  42.075603   \n",
       "6472       KOI 141.01; SPOC is assuming solar radius  288.038208  50.651475   \n",
       "6473                                    Kepler-318 b  298.482833  46.793636   \n",
       "6474                    also a CTOI from Daniel Vogl  139.793750  53.594558   \n",
       "6475  egress of one transit right after downlink gap  162.431083 -23.349503   \n",
       "\n",
       "      GaiaDR3_exofop  GaiaDR3_vizier  \n",
       "6471             NaN             NaN  \n",
       "6472             NaN             NaN  \n",
       "6473             NaN             NaN  \n",
       "6474             NaN             NaN  \n",
       "6475             NaN             NaN  \n",
       "\n",
       "[5 rows x 66 columns]"
      ]
     },
     "execution_count": 5,
     "metadata": {},
     "output_type": "execute_result"
    }
   ],
   "source": [
    "tois.tail()"
   ]
  },
  {
   "cell_type": "code",
   "execution_count": 6,
   "id": "818d26ec-01a3-48c3-abfe-c470079d11a4",
   "metadata": {},
   "outputs": [
    {
     "data": {
      "text/plain": [
       "array([[942.01,\n",
       "        'Probable young K dwarf. Transit is believable enough. Maybe also a signal at 10.15 days with Tc=1447?'],\n",
       "       [3604.01,\n",
       "        'V-shaped; found in faint-star QLP search; no stellar radius; possible young or evolved K star'],\n",
       "       [5743.01,\n",
       "        'radius possibly underestimated; potentially young host star'],\n",
       "       [5956.01,\n",
       "        'V-shaped; large; young host star; ~5 sigma odd-even in SPOC s57'],\n",
       "       [6258.01,\n",
       "        'low SNR; asymmetric transit shape; flaring possibly young host'],\n",
       "       [6678.01,\n",
       "        'rotational modulation at 7-8 days may indicate young host star']],\n",
       "      dtype=object)"
      ]
     },
     "execution_count": 6,
     "metadata": {},
     "output_type": "execute_result"
    }
   ],
   "source": [
    "tois[tois.Comments.apply(lambda x: 'young' in str(x))][['TOI','Comments']].values"
   ]
  },
  {
   "cell_type": "code",
   "execution_count": 7,
   "id": "3c4f3856-c1ad-47f1-ace9-eb7f1d51e5df",
   "metadata": {},
   "outputs": [
    {
     "data": {
      "text/plain": [
       "(6476, 66)"
      ]
     },
     "execution_count": 7,
     "metadata": {},
     "output_type": "execute_result"
    }
   ],
   "source": [
    "tois.shape"
   ]
  },
  {
   "cell_type": "markdown",
   "id": "0c3123a7-1aaa-4df4-abc4-46b9f7021df4",
   "metadata": {},
   "source": [
    "# cross-match TOI with Gaia DR3 using `astroquery.xmatch`"
   ]
  },
  {
   "cell_type": "raw",
   "id": "3598b317-16f2-44d5-bf10-62402824c617",
   "metadata": {},
   "source": [
    "!{sys.executable} -m pip show astroquery"
   ]
  },
  {
   "cell_type": "raw",
   "id": "f387253d-64cc-4e0a-b43b-af651ec87c60",
   "metadata": {},
   "source": [
    "!{sys.executable} -m pip install mocpy -U"
   ]
  },
  {
   "cell_type": "raw",
   "id": "c7e30d6a-5e6c-4150-8d2b-cffba6283a25",
   "metadata": {},
   "source": [
    "tois.to_csv('../data/TOIs.csv', index=False)"
   ]
  },
  {
   "cell_type": "code",
   "execution_count": 8,
   "id": "5e349cfc-49c2-4f27-a9b8-f8dff646aff7",
   "metadata": {},
   "outputs": [
    {
     "name": "stdout",
     "output_type": "stream",
     "text": [
      "Could not import regions, which is required for some of the functionalities of this module.\n"
     ]
    },
    {
     "data": {
      "text/html": [
       "<div>\n",
       "<style scoped>\n",
       "    .dataframe tbody tr th:only-of-type {\n",
       "        vertical-align: middle;\n",
       "    }\n",
       "\n",
       "    .dataframe tbody tr th {\n",
       "        vertical-align: top;\n",
       "    }\n",
       "\n",
       "    .dataframe thead th {\n",
       "        text-align: right;\n",
       "    }\n",
       "</style>\n",
       "<table border=\"1\" class=\"dataframe\">\n",
       "  <thead>\n",
       "    <tr style=\"text-align: right;\">\n",
       "      <th></th>\n",
       "      <th>angDist</th>\n",
       "      <th>TIC ID</th>\n",
       "      <th>TOI</th>\n",
       "      <th>Previous CTOI</th>\n",
       "      <th>Master</th>\n",
       "      <th>SG1A</th>\n",
       "      <th>SG1B</th>\n",
       "      <th>SG2</th>\n",
       "      <th>SG3</th>\n",
       "      <th>SG4</th>\n",
       "      <th>...</th>\n",
       "      <th>B_AG</th>\n",
       "      <th>E(BP-RP)</th>\n",
       "      <th>b_E(BP-RP)</th>\n",
       "      <th>B_E(BP-RP)</th>\n",
       "      <th>Lib</th>\n",
       "      <th>RAJ2000</th>\n",
       "      <th>DEJ2000</th>\n",
       "      <th>e_RAJ2000</th>\n",
       "      <th>e_DEJ2000</th>\n",
       "      <th>RADEcorJ2000</th>\n",
       "    </tr>\n",
       "  </thead>\n",
       "  <tbody>\n",
       "    <tr>\n",
       "      <th>7755</th>\n",
       "      <td>0.039712</td>\n",
       "      <td>271052158</td>\n",
       "      <td>7461.01</td>\n",
       "      <td>NaN</td>\n",
       "      <td>5</td>\n",
       "      <td>5</td>\n",
       "      <td>5</td>\n",
       "      <td>5</td>\n",
       "      <td>5</td>\n",
       "      <td>5</td>\n",
       "      <td>...</td>\n",
       "      <td>0.1218</td>\n",
       "      <td>0.0602</td>\n",
       "      <td>0.0558</td>\n",
       "      <td>0.0640</td>\n",
       "      <td>MARCS</td>\n",
       "      <td>294.674111</td>\n",
       "      <td>42.075579</td>\n",
       "      <td>0.159579</td>\n",
       "      <td>0.191329</td>\n",
       "      <td>0.1048</td>\n",
       "    </tr>\n",
       "    <tr>\n",
       "      <th>7756</th>\n",
       "      <td>0.027989</td>\n",
       "      <td>298897095</td>\n",
       "      <td>7462.01</td>\n",
       "      <td>NaN</td>\n",
       "      <td>3</td>\n",
       "      <td>4</td>\n",
       "      <td>3</td>\n",
       "      <td>3</td>\n",
       "      <td>4</td>\n",
       "      <td>4</td>\n",
       "      <td>...</td>\n",
       "      <td>0.0036</td>\n",
       "      <td>0.0007</td>\n",
       "      <td>0.0001</td>\n",
       "      <td>0.0020</td>\n",
       "      <td>PHOENIX</td>\n",
       "      <td>288.038299</td>\n",
       "      <td>50.651556</td>\n",
       "      <td>0.612471</td>\n",
       "      <td>0.419156</td>\n",
       "      <td>0.0106</td>\n",
       "    </tr>\n",
       "    <tr>\n",
       "      <th>7757</th>\n",
       "      <td>0.001909</td>\n",
       "      <td>274198407</td>\n",
       "      <td>7463.01</td>\n",
       "      <td>NaN</td>\n",
       "      <td>5</td>\n",
       "      <td>5</td>\n",
       "      <td>5</td>\n",
       "      <td>5</td>\n",
       "      <td>5</td>\n",
       "      <td>5</td>\n",
       "      <td>...</td>\n",
       "      <td>0.1827</td>\n",
       "      <td>0.0924</td>\n",
       "      <td>0.0885</td>\n",
       "      <td>0.0973</td>\n",
       "      <td>MARCS</td>\n",
       "      <td>298.482822</td>\n",
       "      <td>46.793623</td>\n",
       "      <td>0.187789</td>\n",
       "      <td>0.209036</td>\n",
       "      <td>0.1047</td>\n",
       "    </tr>\n",
       "    <tr>\n",
       "      <th>7758</th>\n",
       "      <td>0.032425</td>\n",
       "      <td>251090642</td>\n",
       "      <td>7464.01</td>\n",
       "      <td>TIC 251090642.01</td>\n",
       "      <td>3</td>\n",
       "      <td>4</td>\n",
       "      <td>3</td>\n",
       "      <td>3</td>\n",
       "      <td>1</td>\n",
       "      <td>4</td>\n",
       "      <td>...</td>\n",
       "      <td>0.4923</td>\n",
       "      <td>0.2877</td>\n",
       "      <td>0.2828</td>\n",
       "      <td>0.2931</td>\n",
       "      <td>MARCS</td>\n",
       "      <td>139.793957</td>\n",
       "      <td>53.594645</td>\n",
       "      <td>0.260186</td>\n",
       "      <td>0.244903</td>\n",
       "      <td>0.0733</td>\n",
       "    </tr>\n",
       "    <tr>\n",
       "      <th>7759</th>\n",
       "      <td>0.042709</td>\n",
       "      <td>167804011</td>\n",
       "      <td>7465.01</td>\n",
       "      <td>TIC 167804011.01</td>\n",
       "      <td>3</td>\n",
       "      <td>4</td>\n",
       "      <td>3</td>\n",
       "      <td>3</td>\n",
       "      <td>1</td>\n",
       "      <td>4</td>\n",
       "      <td>...</td>\n",
       "      <td>NaN</td>\n",
       "      <td>NaN</td>\n",
       "      <td>NaN</td>\n",
       "      <td>NaN</td>\n",
       "      <td>NaN</td>\n",
       "      <td>162.431299</td>\n",
       "      <td>-23.349510</td>\n",
       "      <td>0.575813</td>\n",
       "      <td>0.539205</td>\n",
       "      <td>-0.2146</td>\n",
       "    </tr>\n",
       "  </tbody>\n",
       "</table>\n",
       "<p>5 rows × 204 columns</p>\n",
       "</div>"
      ],
      "text/plain": [
       "       angDist     TIC ID      TOI     Previous CTOI  Master  SG1A  SG1B  SG2  \\\n",
       "7755  0.039712  271052158  7461.01               NaN       5     5     5    5   \n",
       "7756  0.027989  298897095  7462.01               NaN       3     4     3    3   \n",
       "7757  0.001909  274198407  7463.01               NaN       5     5     5    5   \n",
       "7758  0.032425  251090642  7464.01  TIC 251090642.01       3     4     3    3   \n",
       "7759  0.042709  167804011  7465.01  TIC 167804011.01       3     4     3    3   \n",
       "\n",
       "      SG3  SG4  ...    B_AG  E(BP-RP)  b_E(BP-RP)  B_E(BP-RP)      Lib  \\\n",
       "7755    5    5  ...  0.1218    0.0602      0.0558      0.0640    MARCS   \n",
       "7756    4    4  ...  0.0036    0.0007      0.0001      0.0020  PHOENIX   \n",
       "7757    5    5  ...  0.1827    0.0924      0.0885      0.0973    MARCS   \n",
       "7758    1    4  ...  0.4923    0.2877      0.2828      0.2931    MARCS   \n",
       "7759    1    4  ...     NaN       NaN         NaN         NaN      NaN   \n",
       "\n",
       "         RAJ2000    DEJ2000 e_RAJ2000 e_DEJ2000  RADEcorJ2000  \n",
       "7755  294.674111  42.075579  0.159579  0.191329        0.1048  \n",
       "7756  288.038299  50.651556  0.612471  0.419156        0.0106  \n",
       "7757  298.482822  46.793623  0.187789  0.209036        0.1047  \n",
       "7758  139.793957  53.594645  0.260186  0.244903        0.0733  \n",
       "7759  162.431299 -23.349510  0.575813  0.539205       -0.2146  \n",
       "\n",
       "[5 rows x 204 columns]"
      ]
     },
     "execution_count": 8,
     "metadata": {},
     "output_type": "execute_result"
    }
   ],
   "source": [
    "import astropy.units as u\n",
    "from astroquery.xmatch import XMatch\n",
    "import pandas as pd\n",
    "\n",
    "gaia_table = XMatch.query(\n",
    "    cat1=open('../data/TOIs.csv'),\n",
    "    cat2=\"vizier:I/355/gaiadr3\",  # The Vizier identifier for Gaia DR3\n",
    "    max_distance=1 * u.arcsec,    # Set the maximum matching radius\n",
    "    colRA1=\"ra_deg\",  # Column name for Right Ascension in TIC results\n",
    "    colDec1=\"dec_deg\" # Column name for Declination in TIC results\n",
    ")\n",
    "gaia_df = gaia_table.to_pandas()\n",
    "\n",
    "# results to 6237 matches\n",
    "matches = gaia_df.copy()\n",
    "\n",
    "# Apply magnitude filtering criteria\n",
    "# For main-sequence stars, the difference between TESS T and Gaia G is around 0–0.5 magnitudes\n",
    "# Redder stars might have T - G values closer to 1–2 magnitudes.\n",
    "# For giants or highly reddened stars, the difference could be larger.\n",
    "if False:\n",
    "    # results to 5971 matches\n",
    "    matches = []\n",
    "    for i, row in gaia_df.iterrows():\n",
    "        teff=row['Stellar Eff Temp (K)']\n",
    "        if teff<3500:\n",
    "            magnitude_threshold = 2\n",
    "        elif (teff>3500) and (teff<6000):\n",
    "            magnitude_threshold = 1\n",
    "        else:\n",
    "            magnitude_threshold = 1.5\n",
    "        if abs(row['Gmag'] - row['TESS Mag']) < magnitude_threshold:\n",
    "            matches.append(row)\n",
    "    matches = pd.concat(matches, axis=1).T\n",
    "if False:\n",
    "    # results to 5700 matches\n",
    "    magnitude_threshold = 1\n",
    "    matches = gaia_df[abs(gaia_df['Gmag'] - gaia_df['TESS Mag']) < magnitude_threshold]\n",
    "if False:\n",
    "    # results to 4878 matches\n",
    "    teff_threshold = 1000\n",
    "    matches = gaia_df[abs(gaia_df['Teff'] - gaia_df['Stellar Eff Temp (K)']) < teff_threshold]\n",
    "matches.tail()"
   ]
  },
  {
   "cell_type": "code",
   "execution_count": 9,
   "id": "da97ddc8-b185-4297-9004-b511c2a76c6c",
   "metadata": {},
   "outputs": [
    {
     "data": {
      "text/plain": [
       "(7760, 204)"
      ]
     },
     "execution_count": 9,
     "metadata": {},
     "output_type": "execute_result"
    }
   ],
   "source": [
    "matches.shape"
   ]
  },
  {
   "cell_type": "raw",
   "id": "5c931181-ecdc-4ec3-bf6a-125934610fbb",
   "metadata": {},
   "source": [
    "d = gaia_table.to_pandas().query(\"TOI==4364.01\")\n",
    "d['Gmag'], d['TESS Mag']"
   ]
  },
  {
   "cell_type": "raw",
   "id": "107f2223-f739-45f6-8d4d-6406ec46994b",
   "metadata": {},
   "source": [
    "d = gaia_table.to_pandas().query(\"TOI==4364.01\")\n",
    "d['Teff'], d['TESS Mag']"
   ]
  },
  {
   "cell_type": "code",
   "execution_count": 10,
   "id": "761ae181-5d77-4e3e-be55-c1fd9b2f6e56",
   "metadata": {},
   "outputs": [],
   "source": [
    "matches['GaiaDR3'] = matches['DR3Name'].apply(lambda x: int(x.split()[-1]))\n",
    "matches.to_csv('../data/TOIs_GaiaDR3_xmatch.csv', index=False)"
   ]
  },
  {
   "cell_type": "code",
   "execution_count": 11,
   "id": "cb1281f7-6954-4339-bc2f-aa9dac77458e",
   "metadata": {},
   "outputs": [
    {
     "data": {
      "text/plain": [
       "(15, 66)"
      ]
     },
     "execution_count": 11,
     "metadata": {},
     "output_type": "execute_result"
    }
   ],
   "source": [
    "idx = tois.TOI.isin(matches.TOI.unique())\n",
    "tois[~idx].shape"
   ]
  },
  {
   "cell_type": "code",
   "execution_count": 12,
   "id": "57f54fc5-5d3f-4515-be1f-cac42b5f5a08",
   "metadata": {},
   "outputs": [],
   "source": [
    "tois[~idx].to_csv('../data/TOIs_GaiaDR3_xmatch_missing.csv', index=False)"
   ]
  },
  {
   "cell_type": "raw",
   "id": "9cada348-79ce-4e81-99f0-6a35daf25ec3",
   "metadata": {},
   "source": [
    "import pandas as pd\n",
    "\n",
    "matches = pd.read_csv('../data/TOIs_GaiaDR3_xmatch.csv')\n",
    "matches.head()"
   ]
  }
 ],
 "metadata": {
  "kernelspec": {
   "display_name": "wakai",
   "language": "python",
   "name": "wakai"
  },
  "language_info": {
   "codemirror_mode": {
    "name": "ipython",
    "version": 3
   },
   "file_extension": ".py",
   "mimetype": "text/x-python",
   "name": "python",
   "nbconvert_exporter": "python",
   "pygments_lexer": "ipython3",
   "version": "3.12.4"
  },
  "toc": {
   "base_numbering": 1,
   "nav_menu": {},
   "number_sections": true,
   "sideBar": true,
   "skip_h1_title": false,
   "title_cell": "Table of Contents",
   "title_sidebar": "Contents",
   "toc_cell": false,
   "toc_position": {},
   "toc_section_display": true,
   "toc_window_display": false
  }
 },
 "nbformat": 4,
 "nbformat_minor": 5
}
