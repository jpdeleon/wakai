{
 "cells": [
  {
   "cell_type": "code",
   "execution_count": 1,
   "id": "5d124704",
   "metadata": {
    "ExecuteTime": {
     "end_time": "2023-03-06T04:55:55.247589Z",
     "start_time": "2023-03-06T04:55:55.244697Z"
    }
   },
   "outputs": [],
   "source": [
    "import os\n",
    "\n",
    "assert os.environ[\"CONDA_DEFAULT_ENV\"]=='lk2'"
   ]
  },
  {
   "cell_type": "code",
   "execution_count": 2,
   "id": "7d4984ab",
   "metadata": {
    "ExecuteTime": {
     "end_time": "2023-03-06T04:55:55.672157Z",
     "start_time": "2023-03-06T04:55:55.250454Z"
    }
   },
   "outputs": [],
   "source": [
    "# %load init_ipynb\n",
    "import os\n",
    "import sys\n",
    "import matplotlib.pyplot as pl\n",
    "\n",
    "sys.path.insert(0, '../code')\n",
    "# assert os.environ[\"CONDA_DEFAULT_ENV\"] == 'wakai'\n",
    "\n",
    "plotpar = {'axes.labelsize': 16,\n",
    "           'font.size': 16,\n",
    "           'legend.fontsize': 16,\n",
    "           'xtick.labelsize': 16,\n",
    "           'ytick.labelsize': 16,\n",
    "           #'text.usetex': False,\n",
    "           'xtick.direction': 'in',\n",
    "           'ytick.direction': 'in'\n",
    "           }\n",
    "pl.rcParams.update(plotpar)\n"
   ]
  },
  {
   "cell_type": "code",
   "execution_count": 3,
   "id": "d23bf6a0",
   "metadata": {
    "ExecuteTime": {
     "end_time": "2023-03-06T04:55:57.173651Z",
     "start_time": "2023-03-06T04:55:55.674233Z"
    }
   },
   "outputs": [
    {
     "name": "stdout",
     "output_type": "stream",
     "text": [
      "Downloading all tables in J/A+A/661/A118 from vizier.\n",
      "{'J/A+A/661/A118/table1': 'Mean parameters for the reported UBC clusters',\n",
      " 'J/A+A/661/A118/table2': 'Members for the reported UBC clusters'}\n"
     ]
    },
    {
     "data": {
      "text/html": [
       "<div>\n",
       "<style scoped>\n",
       "    .dataframe tbody tr th:only-of-type {\n",
       "        vertical-align: middle;\n",
       "    }\n",
       "\n",
       "    .dataframe tbody tr th {\n",
       "        vertical-align: top;\n",
       "    }\n",
       "\n",
       "    .dataframe thead th {\n",
       "        text-align: right;\n",
       "    }\n",
       "</style>\n",
       "<table border=\"1\" class=\"dataframe\">\n",
       "  <thead>\n",
       "    <tr style=\"text-align: right;\">\n",
       "      <th></th>\n",
       "      <th>Seq</th>\n",
       "      <th>Cluster</th>\n",
       "      <th>GaiaEDR3</th>\n",
       "      <th>RA_ICRS</th>\n",
       "      <th>DE_ICRS</th>\n",
       "      <th>GLON</th>\n",
       "      <th>GLAT</th>\n",
       "      <th>plx</th>\n",
       "      <th>pmRA</th>\n",
       "      <th>pmDE</th>\n",
       "      <th>RV</th>\n",
       "      <th>Gmag</th>\n",
       "      <th>BP-RP</th>\n",
       "      <th>_RA.icrs</th>\n",
       "      <th>_DE.icrs</th>\n",
       "    </tr>\n",
       "  </thead>\n",
       "  <tbody>\n",
       "    <tr>\n",
       "      <th>0</th>\n",
       "      <td>0</td>\n",
       "      <td>UBC1001</td>\n",
       "      <td>4057224024226708992</td>\n",
       "      <td>267.525044</td>\n",
       "      <td>-29.364191</td>\n",
       "      <td>0.139327</td>\n",
       "      <td>-1.058598</td>\n",
       "      <td>0.367668</td>\n",
       "      <td>0.429</td>\n",
       "      <td>-1.939</td>\n",
       "      <td>NaN</td>\n",
       "      <td>14.143807</td>\n",
       "      <td>1.114144</td>\n",
       "      <td>267.525042</td>\n",
       "      <td>-29.364182</td>\n",
       "    </tr>\n",
       "    <tr>\n",
       "      <th>1</th>\n",
       "      <td>1</td>\n",
       "      <td>UBC1001</td>\n",
       "      <td>4057230174598255232</td>\n",
       "      <td>267.567029</td>\n",
       "      <td>-29.305336</td>\n",
       "      <td>0.208635</td>\n",
       "      <td>-1.059843</td>\n",
       "      <td>0.363644</td>\n",
       "      <td>0.453</td>\n",
       "      <td>-1.929</td>\n",
       "      <td>NaN</td>\n",
       "      <td>16.556490</td>\n",
       "      <td>1.466582</td>\n",
       "      <td>267.567027</td>\n",
       "      <td>-29.305328</td>\n",
       "    </tr>\n",
       "    <tr>\n",
       "      <th>2</th>\n",
       "      <td>2</td>\n",
       "      <td>UBC1001</td>\n",
       "      <td>4057237115289677184</td>\n",
       "      <td>267.488406</td>\n",
       "      <td>-29.267053</td>\n",
       "      <td>0.206327</td>\n",
       "      <td>-0.981341</td>\n",
       "      <td>0.382895</td>\n",
       "      <td>0.479</td>\n",
       "      <td>-1.878</td>\n",
       "      <td>NaN</td>\n",
       "      <td>16.589193</td>\n",
       "      <td>1.633885</td>\n",
       "      <td>267.488404</td>\n",
       "      <td>-29.267045</td>\n",
       "    </tr>\n",
       "    <tr>\n",
       "      <th>3</th>\n",
       "      <td>3</td>\n",
       "      <td>UBC1001</td>\n",
       "      <td>4057239344344064256</td>\n",
       "      <td>267.284129</td>\n",
       "      <td>-29.270346</td>\n",
       "      <td>0.111911</td>\n",
       "      <td>-0.830168</td>\n",
       "      <td>0.353141</td>\n",
       "      <td>0.405</td>\n",
       "      <td>-1.848</td>\n",
       "      <td>NaN</td>\n",
       "      <td>13.447580</td>\n",
       "      <td>0.924681</td>\n",
       "      <td>267.284127</td>\n",
       "      <td>-29.270338</td>\n",
       "    </tr>\n",
       "    <tr>\n",
       "      <th>4</th>\n",
       "      <td>4</td>\n",
       "      <td>UBC1001</td>\n",
       "      <td>4057239657910636672</td>\n",
       "      <td>267.275512</td>\n",
       "      <td>-29.228923</td>\n",
       "      <td>0.143560</td>\n",
       "      <td>-0.802402</td>\n",
       "      <td>0.352058</td>\n",
       "      <td>0.308</td>\n",
       "      <td>-1.801</td>\n",
       "      <td>NaN</td>\n",
       "      <td>13.205015</td>\n",
       "      <td>0.924160</td>\n",
       "      <td>267.275510</td>\n",
       "      <td>-29.228915</td>\n",
       "    </tr>\n",
       "  </tbody>\n",
       "</table>\n",
       "</div>"
      ],
      "text/plain": [
       "   Seq  Cluster             GaiaEDR3     RA_ICRS    DE_ICRS      GLON  \\\n",
       "0    0  UBC1001  4057224024226708992  267.525044 -29.364191  0.139327   \n",
       "1    1  UBC1001  4057230174598255232  267.567029 -29.305336  0.208635   \n",
       "2    2  UBC1001  4057237115289677184  267.488406 -29.267053  0.206327   \n",
       "3    3  UBC1001  4057239344344064256  267.284129 -29.270346  0.111911   \n",
       "4    4  UBC1001  4057239657910636672  267.275512 -29.228923  0.143560   \n",
       "\n",
       "       GLAT       plx   pmRA   pmDE  RV       Gmag     BP-RP    _RA.icrs  \\\n",
       "0 -1.058598  0.367668  0.429 -1.939 NaN  14.143807  1.114144  267.525042   \n",
       "1 -1.059843  0.363644  0.453 -1.929 NaN  16.556490  1.466582  267.567027   \n",
       "2 -0.981341  0.382895  0.479 -1.878 NaN  16.589193  1.633885  267.488404   \n",
       "3 -0.830168  0.353141  0.405 -1.848 NaN  13.447580  0.924681  267.284127   \n",
       "4 -0.802402  0.352058  0.308 -1.801 NaN  13.205015  0.924160  267.275510   \n",
       "\n",
       "    _DE.icrs  \n",
       "0 -29.364182  \n",
       "1 -29.305328  \n",
       "2 -29.267045  \n",
       "3 -29.270338  \n",
       "4 -29.228915  "
      ]
     },
     "execution_count": 3,
     "metadata": {},
     "output_type": "execute_result"
    }
   ],
   "source": [
    "from catalog import CatalogDownloader\n",
    "\n",
    "cd = CatalogDownloader(catalog_name=\"CastroGinard2022\", catalog_type=\"cluster\")\n",
    "tabs = cd.get_tables_from_vizier(row_limit=-1)\n",
    "df = tabs[0].to_pandas()\n",
    "df_mem = tabs[1].to_pandas()\n",
    "df_mem.head()"
   ]
  },
  {
   "cell_type": "code",
   "execution_count": 4,
   "id": "c657da9c",
   "metadata": {
    "ExecuteTime": {
     "end_time": "2023-03-06T04:55:57.178963Z",
     "start_time": "2023-03-06T04:55:57.175241Z"
    }
   },
   "outputs": [],
   "source": [
    "df_young = df[df['logAge']<7.5]"
   ]
  },
  {
   "cell_type": "code",
   "execution_count": null,
   "id": "edc90459",
   "metadata": {
    "ExecuteTime": {
     "start_time": "2023-03-06T04:55:55.235Z"
    }
   },
   "outputs": [
    {
     "name": "stderr",
     "output_type": "stream",
     "text": [
      "/home/jp/miniconda3/envs/lk2/lib/python3.10/site-packages/lightkurve/config/__init__.py:119: UserWarning: The default Lightkurve cache directory, used by download(), etc., has been moved to /home/jp/.lightkurve/cache. Please move all the files in the legacy directory /home/jp/.lightkurve-cache to the new location and remove the legacy directory. Refer to https://docs.lightkurve.org/reference/config.html#default-cache-directory-migration for more information.\n",
      "  warnings.warn(\n"
     ]
    },
    {
     "data": {
      "application/vnd.jupyter.widget-view+json": {
       "model_id": "86c29dcb92f34d4d846352af08c4e43e",
       "version_major": 2,
       "version_minor": 0
      },
      "text/plain": [
       "  0%|          | 0/119 [00:00<?, ?it/s]"
      ]
     },
     "metadata": {},
     "output_type": "display_data"
    },
    {
     "name": "stderr",
     "output_type": "stream",
     "text": [
      "No data found for target \"267.52504422362 -29.36419050755\".\n",
      "No data found for target \"272.12511064781 -21.6162917325\".\n",
      "No data found for target \"273.12724586833 -15.52754499036\".\n",
      "No data found for target \"276.53923125798 -15.2863533793\".\n",
      "No data found for target \"278.07270786061 -7.05010049646\".\n",
      "No data found for target \"279.6723776119 -7.05468120854\".\n",
      "No data found for target \"279.97190696324 -5.5706552555\".\n",
      "No data found for target \"280.08274207003 -4.79048923716\".\n",
      "No data found for target \"280.019952243 -4.68754447316\".\n",
      "No data found for target \"280.27808758491 -4.50678727702\".\n",
      "No data found for target \"281.02444455484 -3.02165426877\".\n",
      "No data found for target \"282.26633015343 -1.24125850822\".\n",
      "No data found for target \"286.6111352939 3.01938811233\".\n",
      "No data found for target \"291.28462983456 13.86622555155\".\n"
     ]
    },
    {
     "data": {
      "application/vnd.jupyter.widget-view+json": {
       "model_id": "4040ceb76bb24ca6bade71c5a72d46ef",
       "version_major": 2,
       "version_minor": 0
      },
      "text/plain": [
       "UBC1066: 0it [00:00, ?it/s]"
      ]
     },
     "metadata": {},
     "output_type": "display_data"
    },
    {
     "name": "stderr",
     "output_type": "stream",
     "text": [
      "No data found for target \"295.86250558779 22.06881409634\".\n",
      "No data found for target \"295.86684977642 22.12497525609\".\n"
     ]
    },
    {
     "name": "stdout",
     "output_type": "stream",
     "text": [
      "Saved:  CastroGinard2022/UBC1066/360187647.png\n"
     ]
    },
    {
     "name": "stderr",
     "output_type": "stream",
     "text": [
      "No data found for target \"295.80909076475 22.07739978096\".\n",
      "No data found for target \"295.78054305496 22.09979226779\".\n",
      "No data found for target \"295.79201608207 22.11316673433\".\n",
      "No data found for target \"295.855635783 22.11935886344\".\n",
      "No data found for target \"295.85662952717 22.12555395557\".\n",
      "/home/jp/miniconda3/envs/lk2/lib/python3.10/site-packages/astropy/timeseries/periodograms/bls/core.py:759: RuntimeWarning: invalid value encountered in add\n",
      "  transit_time += t_ref\n"
     ]
    },
    {
     "name": "stdout",
     "output_type": "stream",
     "text": [
      "Saved:  CastroGinard2022/UBC1066/359962724.png\n",
      "Saved:  CastroGinard2022/UBC1066/360187580.png\n"
     ]
    },
    {
     "name": "stderr",
     "output_type": "stream",
     "text": [
      "No data found for target \"295.84765578405 22.15040892927\".\n",
      "No data found for target \"295.84346934481 22.14212274169\".\n",
      "No data found for target \"295.82109690117 22.13923565043\".\n",
      "No data found for target \"295.83346623205 22.14200264506\".\n",
      "No data found for target \"295.82217041389 22.14208766948\".\n",
      "No data found for target \"295.82958088058 22.14626422028\".\n",
      "No data found for target \"295.81216713672 22.14066610207\".\n"
     ]
    },
    {
     "name": "stdout",
     "output_type": "stream",
     "text": [
      "Saved:  CastroGinard2022/UBC1066/359962921.png\n"
     ]
    },
    {
     "name": "stderr",
     "output_type": "stream",
     "text": [
      "No data found for target \"295.84325599265 22.15899468805\".\n",
      "No data found for target \"295.73088148323 22.0997281401\".\n",
      "No data found for target \"295.78587629729 22.15288327815\".\n",
      "No data found for target \"295.79073329085 22.14805494624\".\n",
      "No data found for target \"295.7854248323 22.14872108525\".\n",
      "No data found for target \"295.77309163276 22.14482648757\".\n",
      "No data found for target \"295.80647423796 22.16134304918\".\n"
     ]
    },
    {
     "name": "stdout",
     "output_type": "stream",
     "text": [
      "Saved:  CastroGinard2022/UBC1066/359963210.png\n"
     ]
    },
    {
     "name": "stderr",
     "output_type": "stream",
     "text": [
      "No data found for target \"295.9635774571 22.11243786988\".\n",
      "No data found for target \"295.91429348127 22.12322620812\".\n",
      "No data found for target \"295.91748869107 22.17118865877\".\n",
      "No data found for target \"295.99605261286 22.19673671835\".\n",
      "No data found for target \"295.95201027384 22.19263151649\".\n",
      "No data found for target \"295.88842368429 22.15564201058\".\n",
      "No data found for target \"295.8970540117 22.15767836914\".\n",
      "No data found for target \"295.94825315773 22.22205394314\".\n",
      "No data found for target \"295.82450468254 22.21173596287\".\n",
      "No data found for target \"295.83032119967 22.23325893061\".\n",
      "No data found for target \"295.85989264009 22.26008372609\".\n"
     ]
    },
    {
     "data": {
      "application/vnd.jupyter.widget-view+json": {
       "model_id": "e2c7def6eb814c788f3c7b01d3f9c14f",
       "version_major": 2,
       "version_minor": 0
      },
      "text/plain": [
       "UBC1069: 0it [00:00, ?it/s]"
      ]
     },
     "metadata": {},
     "output_type": "display_data"
    },
    {
     "name": "stderr",
     "output_type": "stream",
     "text": [
      "No data found for target \"294.88489311499 24.67488038723\".\n",
      "No data found for target \"294.96785489256 24.6879555491\".\n",
      "No data found for target \"294.95969094603 24.72704195868\".\n"
     ]
    },
    {
     "name": "stdout",
     "output_type": "stream",
     "text": [
      "Saved:  CastroGinard2022/UBC1069/215242769.png\n"
     ]
    },
    {
     "name": "stderr",
     "output_type": "stream",
     "text": [
      "No data found for target \"294.93327198176 24.75970001708\".\n",
      "No data found for target \"294.9733247575 24.77450441318\".\n",
      "No data found for target \"294.96908554084 24.76367152533\".\n",
      "No data found for target \"294.94899857627 24.77281946008\".\n"
     ]
    },
    {
     "name": "stdout",
     "output_type": "stream",
     "text": [
      "Saved:  CastroGinard2022/UBC1069/215367151.png\n"
     ]
    },
    {
     "name": "stderr",
     "output_type": "stream",
     "text": [
      "No data found for target \"294.96086212069 24.78740804532\".\n",
      "No data found for target \"294.9833135509 24.7694359717\".\n",
      "No data found for target \"294.98329971565 24.77611336593\".\n",
      "No data found for target \"294.99153824144 24.78679043438\".\n"
     ]
    },
    {
     "name": "stdout",
     "output_type": "stream",
     "text": [
      "Saved:  CastroGinard2022/UBC1069/215367161.png\n"
     ]
    },
    {
     "name": "stderr",
     "output_type": "stream",
     "text": [
      "No data found for target \"294.99048238233 24.78906885499\".\n",
      "No data found for target \"294.98145461135 24.78721934483\".\n",
      "No data found for target \"294.96908751364 24.79189064374\".\n",
      "No data found for target \"294.98890285067 24.80098263009\".\n",
      "No data found for target \"294.93986927566 24.77945534697\".\n",
      "No data found for target \"294.94912722962 24.79602098392\".\n",
      "No data found for target \"294.92753754974 24.78384212274\".\n",
      "No data found for target \"294.93959296848 24.80226792566\".\n",
      "No data found for target \"294.91401076271 24.81536947268\".\n"
     ]
    },
    {
     "name": "stdout",
     "output_type": "stream",
     "text": [
      "Saved:  CastroGinard2022/UBC1069/215367156.png\n"
     ]
    },
    {
     "name": "stderr",
     "output_type": "stream",
     "text": [
      "No data found for target \"294.95659052383 24.79504166953\".\n",
      "No data found for target \"294.95465649068 24.80792446932\".\n",
      "No data found for target \"294.99857636006 24.83326927614\".\n",
      "No data found for target \"294.94087825458 24.83649736946\".\n"
     ]
    },
    {
     "data": {
      "application/vnd.jupyter.widget-view+json": {
       "model_id": "89017185657442c0bd280b70878efd08",
       "version_major": 2,
       "version_minor": 0
      },
      "text/plain": [
       "UBC1072: 0it [00:00, ?it/s]"
      ]
     },
     "metadata": {},
     "output_type": "display_data"
    },
    {
     "name": "stderr",
     "output_type": "stream",
     "text": [
      "No data found for target \"297.80489942342 29.66624872593\".\n",
      "No data found for target \"297.85784048914 29.67111359446\".\n",
      "No data found for target \"297.88702659972 29.6963411864\".\n",
      "No data found for target \"297.95948996308 29.78122069802\".\n",
      "No data found for target \"297.9886668587 29.79705870456\".\n",
      "No data found for target \"297.97417755076 29.80759669868\".\n",
      "No data found for target \"297.97733249269 29.81120371615\".\n",
      "No data found for target \"297.99073976732 29.82444371737\".\n",
      "No data found for target \"297.98721513503 29.825858562\".\n",
      "No data found for target \"297.98402602334 29.83390557071\".\n",
      "No data found for target \"297.9610670792 29.83736640996\".\n",
      "No data found for target \"298.03146859126 29.87671502942\".\n",
      "No data found for target \"297.78847105521 29.70275761793\".\n",
      "No data found for target \"297.84126207031 29.73452654204\".\n",
      "No data found for target \"297.81999699784 29.77967721354\".\n",
      "No data found for target \"297.76517778414 29.74348354426\".\n",
      "No data found for target \"297.71586465724 29.72906942712\".\n",
      "No data found for target \"297.76699018297 29.75223752878\".\n",
      "No data found for target \"297.79414913179 29.79628757953\".\n",
      "No data found for target \"297.8761445665 29.77040720253\".\n",
      "No data found for target \"297.83581251115 29.78037952801\".\n",
      "No data found for target \"297.85832264812 29.78638339548\".\n",
      "No data found for target \"297.87333515869 29.81478317168\".\n",
      "No data found for target \"297.91609509597 29.80856767561\".\n",
      "No data found for target \"297.89863278144 29.81487478528\".\n",
      "No data found for target \"297.91021808143 29.82901066764\".\n",
      "No data found for target \"297.92872865358 29.83376766191\".\n",
      "No data found for target \"297.92492153605 29.84520589846\".\n",
      "No data found for target \"297.92015135101 29.83904371224\".\n",
      "No data found for target \"297.88947677766 29.84276491906\".\n",
      "No data found for target \"297.88016866803 29.8424421445\".\n",
      "No data found for target \"297.91228666189 29.84676035898\".\n",
      "No data found for target \"297.90457488294 29.86062010751\".\n",
      "No data found for target \"297.80702538162 29.80297221847\".\n",
      "No data found for target \"297.83981819554 29.80994671505\".\n",
      "No data found for target \"297.84236021253 29.8271036888\".\n",
      "No data found for target \"297.84971855192 29.83158130486\".\n",
      "No data found for target \"297.82957064097 29.83062698348\".\n",
      "No data found for target \"297.79903865508 29.81252966081\".\n",
      "No data found for target \"297.85913706626 29.84326691235\".\n",
      "No data found for target \"297.84568159402 29.85013201894\".\n",
      "No data found for target \"297.88645190062 29.86223372798\".\n",
      "No data found for target \"297.87684506708 29.86067047937\".\n",
      "No data found for target \"297.87456020715 29.87080283742\".\n",
      "No data found for target \"297.86345240935 29.87785013977\".\n",
      "No data found for target \"297.8691735786 29.88502343068\".\n",
      "No data found for target \"297.8621860497 29.89324560789\".\n",
      "No data found for target \"297.72729804591 29.7955663101\".\n",
      "No data found for target \"297.7945921168 29.8675118717\".\n",
      "No data found for target \"297.81122938767 29.86924164189\".\n",
      "No data found for target \"297.77919141885 29.88458351418\".\n",
      "No data found for target \"297.7747621678 29.89068722734\".\n",
      "No data found for target \"297.81288724474 29.91015785644\".\n",
      "No data found for target \"297.72581958489 29.88190365133\".\n",
      "No data found for target \"297.76931829569 29.93525004839\".\n",
      "No data found for target \"297.94579470271 29.83699578699\".\n",
      "No data found for target \"297.94478323199 29.84608235945\".\n",
      "No data found for target \"297.96926507561 29.86772895194\".\n",
      "No data found for target \"297.98957242462 29.86763583162\".\n",
      "No data found for target \"297.91799703387 29.882942678\".\n",
      "No data found for target \"297.93509698055 29.88689171867\".\n",
      "No data found for target \"297.89372120275 29.88937562481\".\n",
      "No data found for target \"297.93653147194 29.91066112493\".\n",
      "No data found for target \"297.9038692601 29.94569935526\".\n",
      "/home/jp/miniconda3/envs/lk2/lib/python3.10/site-packages/lightkurve/lightcurve.py:1128: LightkurveWarning: The light curve appears to be zero-centered (median=1.00e+00 +/- 1.02e+01); `normalize()` will divide the light curve by a value close to zero, which is probably not what you want.\n",
      "  warnings.warn(\n"
     ]
    },
    {
     "name": "stdout",
     "output_type": "stream",
     "text": [
      "Saved:  CastroGinard2022/UBC1072/11366257.png\n"
     ]
    },
    {
     "name": "stderr",
     "output_type": "stream",
     "text": [
      "No data found for target \"297.85340329991 29.93721245413\".\n",
      "No data found for target \"297.84492270152 29.9309746044\".\n"
     ]
    },
    {
     "data": {
      "application/vnd.jupyter.widget-view+json": {
       "model_id": "f05552859b65411e915b4b3211d90a8f",
       "version_major": 2,
       "version_minor": 0
      },
      "text/plain": [
       "UBC1075: 0it [00:00, ?it/s]"
      ]
     },
     "metadata": {},
     "output_type": "display_data"
    },
    {
     "name": "stderr",
     "output_type": "stream",
     "text": [
      "No data found for target \"298.68956541903 30.5087520079\".\n",
      "No data found for target \"298.72022624975 30.51727173877\".\n",
      "No data found for target \"298.74294243239 30.56513752814\".\n",
      "No data found for target \"298.75274066169 30.58883178937\".\n",
      "No data found for target \"298.74018217038 30.59359136985\".\n",
      "No data found for target \"298.86514930093 30.60680855453\".\n",
      "No data found for target \"298.81038622962 30.61987900484\".\n",
      "No data found for target \"298.80127447162 30.61623176323\".\n",
      "No data found for target \"298.77250515954 30.60937291624\".\n",
      "No data found for target \"298.77254247807 30.60015230495\".\n",
      "No data found for target \"298.76134651191 30.61172737949\".\n",
      "No data found for target \"298.76258019818 30.61802243836\".\n",
      "No data found for target \"298.78324989384 30.6221394763\".\n",
      "No data found for target \"298.77248892846 30.63065396343\".\n",
      "No data found for target \"298.7896152653 30.64128065159\".\n",
      "No data found for target \"298.82136585176 30.61713617062\".\n",
      "No data found for target \"298.80733636951 30.65575881062\".\n",
      "No data found for target \"298.85648458685 30.67434057925\".\n",
      "No data found for target \"298.91519239831 30.7373109093\".\n",
      "No data found for target \"298.57279379604 30.48700945462\".\n",
      "No data found for target \"298.70798018695 30.60073781847\".\n",
      "No data found for target \"298.72683054223 30.61395585531\".\n",
      "No data found for target \"298.7390316159 30.61692124196\".\n",
      "No data found for target \"298.74321034962 30.6173403389\".\n",
      "No data found for target \"298.74420276156 30.61989150466\".\n",
      "No data found for target \"298.73579773139 30.62277584846\".\n",
      "No data found for target \"298.73736371313 30.63630712801\".\n",
      "No data found for target \"298.76667547476 30.63653123689\".\n",
      "No data found for target \"298.77091701341 30.6428397753\".\n",
      "No data found for target \"298.76454402227 30.64723084899\".\n",
      "No data found for target \"298.76124613687 30.65209507904\".\n",
      "No data found for target \"298.78741170279 30.65797350185\".\n",
      "No data found for target \"298.8057075807 30.71209934287\".\n",
      "No data found for target \"298.7971176223 30.70177024553\".\n",
      "No data found for target \"298.74865859954 30.74373044245\".\n",
      "No data found for target \"298.74321318862 30.76849210135\".\n",
      "No data found for target \"298.63851436922 30.75440646765\".\n",
      "No data found for target \"298.65780699283 30.78824216698\".\n",
      "No data found for target \"298.83664311817 30.79596591165\".\n"
     ]
    },
    {
     "data": {
      "application/vnd.jupyter.widget-view+json": {
       "model_id": "b393e1e131ad45dba6e73bb06275bc21",
       "version_major": 2,
       "version_minor": 0
      },
      "text/plain": [
       "UBC1078: 0it [00:00, ?it/s]"
      ]
     },
     "metadata": {},
     "output_type": "display_data"
    },
    {
     "name": "stderr",
     "output_type": "stream",
     "text": [
      "No data found for target \"299.71105810604 31.0839414407\".\n"
     ]
    },
    {
     "name": "stdout",
     "output_type": "stream",
     "text": [
      "Saved:  CastroGinard2022/UBC1078/102996769.png\n"
     ]
    },
    {
     "name": "stderr",
     "output_type": "stream",
     "text": [
      "No data found for target \"299.70069261607 31.10551575538\".\n",
      "No data found for target \"299.73971483451 31.16605908172\".\n",
      "No data found for target \"299.6898961419 31.18263559348\".\n",
      "No data found for target \"300.02076480896 31.05537321626\".\n",
      "No data found for target \"299.97236658863 31.09532315794\".\n",
      "No data found for target \"299.98569838303 31.11854178635\".\n",
      "No data found for target \"299.90995225535 31.09049503838\".\n",
      "No data found for target \"299.88510312219 31.09431377522\".\n",
      "No data found for target \"299.93794557594 31.10637237828\".\n",
      "No data found for target \"299.92301574936 31.14079010574\".\n",
      "No data found for target \"299.9272100105 31.13234088537\".\n",
      "No data found for target \"299.92712650791 31.13527383208\".\n",
      "No data found for target \"299.93928659052 31.14967820681\".\n",
      "No data found for target \"299.82334297395 31.10588332296\".\n",
      "No data found for target \"299.85965122787 31.13318473365\".\n",
      "No data found for target \"299.88311032794 31.12740561365\".\n",
      "No data found for target \"299.87826418569 31.16215031763\".\n"
     ]
    },
    {
     "name": "stdout",
     "output_type": "stream",
     "text": [
      "Saved:  CastroGinard2022/UBC1078/328363306.png\n"
     ]
    },
    {
     "name": "stderr",
     "output_type": "stream",
     "text": [
      "No data found for target \"299.84387109716 31.17371511244\".\n"
     ]
    },
    {
     "name": "stdout",
     "output_type": "stream",
     "text": [
      "Saved:  CastroGinard2022/UBC1078/328363320.png\n"
     ]
    },
    {
     "name": "stderr",
     "output_type": "stream",
     "text": [
      "No data found for target \"299.88490754558 31.21047845685\".\n",
      "No data found for target \"299.99960833332 31.1980102609\".\n",
      "No data found for target \"299.92508389866 31.18519571937\".\n",
      "No data found for target \"299.9718422988 31.2174969191\".\n",
      "No data found for target \"299.94597479545 31.23815039665\".\n"
     ]
    },
    {
     "name": "stdout",
     "output_type": "stream",
     "text": [
      "Saved:  CastroGinard2022/UBC1078/328363171.png\n"
     ]
    },
    {
     "name": "stderr",
     "output_type": "stream",
     "text": [
      "No data found for target \"299.81552472658 31.16219900606\".\n"
     ]
    },
    {
     "name": "stdout",
     "output_type": "stream",
     "text": [
      "Saved:  CastroGinard2022/UBC1078/328363264.png\n"
     ]
    },
    {
     "name": "stderr",
     "output_type": "stream",
     "text": [
      "No data found for target \"299.81215251148 31.18410142883\".\n",
      "No data found for target \"299.80761541206 31.18202972583\".\n",
      "No data found for target \"299.84961416025 31.18543489028\".\n",
      "No data found for target \"299.86382328674 31.19599187134\".\n"
     ]
    },
    {
     "name": "stdout",
     "output_type": "stream",
     "text": [
      "Saved:  CastroGinard2022/UBC1078/328363565.png\n",
      "Saved:  CastroGinard2022/UBC1078/328363639.png\n"
     ]
    },
    {
     "name": "stderr",
     "output_type": "stream",
     "text": [
      "No data found for target \"299.82368433718 31.23790248035\".\n",
      "No data found for target \"299.82914846347 31.2295982283\".\n",
      "No data found for target \"299.83827601948 31.24919748767\".\n"
     ]
    },
    {
     "name": "stdout",
     "output_type": "stream",
     "text": [
      "Saved:  CastroGinard2022/UBC1078/328363698.png\n",
      "Saved:  CastroGinard2022/UBC1078/328363819.png\n"
     ]
    },
    {
     "name": "stderr",
     "output_type": "stream",
     "text": [
      "No data found for target \"299.73461623354 31.236637794\".\n",
      "No data found for target \"299.86315184851 31.23694806222\".\n",
      "No data found for target \"299.88010098397 31.2337857211\".\n",
      "No data found for target \"299.86385140352 31.23907628181\".\n",
      "No data found for target \"299.77267643678 31.33721006935\".\n",
      "No data found for target \"299.75011207545 31.38909814965\".\n"
     ]
    },
    {
     "data": {
      "application/vnd.jupyter.widget-view+json": {
       "model_id": "154e9cf2ebef4a588e964d3492218704",
       "version_major": 2,
       "version_minor": 0
      },
      "text/plain": [
       "UBC1092: 0it [00:00, ?it/s]"
      ]
     },
     "metadata": {},
     "output_type": "display_data"
    },
    {
     "name": "stderr",
     "output_type": "stream",
     "text": [
      "No data found for target \"301.4714664668 36.20242706939\".\n",
      "No data found for target \"301.6859905763 36.22635764624\".\n",
      "No data found for target \"301.58664365274 36.24135373833\".\n"
     ]
    },
    {
     "name": "stdout",
     "output_type": "stream",
     "text": [
      "Saved:  CastroGinard2022/UBC1092/41193153.png\n",
      "Saved:  CastroGinard2022/UBC1092/41193010.png\n"
     ]
    },
    {
     "name": "stderr",
     "output_type": "stream",
     "text": [
      "No data found for target \"301.64810892636 36.28069357869\".\n",
      "No data found for target \"301.66749520224 36.3015120231\".\n"
     ]
    },
    {
     "name": "stdout",
     "output_type": "stream",
     "text": [
      "Saved:  CastroGinard2022/UBC1092/41192966.png\n"
     ]
    },
    {
     "name": "stderr",
     "output_type": "stream",
     "text": [
      "No data found for target \"301.62989306028 36.34143867204\".\n",
      "No data found for target \"301.60717422615 36.32055970542\".\n"
     ]
    },
    {
     "name": "stdout",
     "output_type": "stream",
     "text": [
      "Saved:  CastroGinard2022/UBC1092/41192759.png\n",
      "Saved:  CastroGinard2022/UBC1092/41192678.png\n"
     ]
    },
    {
     "name": "stderr",
     "output_type": "stream",
     "text": [
      "No data found for target \"301.57851326328 36.35608883203\".\n",
      "No data found for target \"301.63200290557 36.35402792942\".\n",
      "No data found for target \"301.62720595197 36.35289622922\".\n",
      "No data found for target \"301.62470587524 36.35625150064\".\n",
      "No data found for target \"301.64625001598 36.36864195789\".\n",
      "No data found for target \"301.67161349759 36.36555242035\".\n",
      "No data found for target \"301.62222644702 36.36482557797\".\n",
      "No data found for target \"301.63105209773 36.3671812007\".\n",
      "No data found for target \"301.62246880186 36.3789150628\".\n",
      "No data found for target \"301.67601236488 36.4163532752\".\n",
      "No data found for target \"301.68453022404 36.43324215\".\n",
      "No data found for target \"301.80823193856 36.46253445279\".\n",
      "No data found for target \"301.48658078505 36.30724748638\".\n",
      "No data found for target \"301.50271490515 36.31181052081\".\n",
      "No data found for target \"301.52728558171 36.3926951149\".\n",
      "No data found for target \"301.62703572293 36.53180623888\".\n"
     ]
    },
    {
     "data": {
      "application/vnd.jupyter.widget-view+json": {
       "model_id": "b7ccc1cab000411f860176a86cb21019",
       "version_major": 2,
       "version_minor": 0
      },
      "text/plain": [
       "UBC1093: 0it [00:00, ?it/s]"
      ]
     },
     "metadata": {},
     "output_type": "display_data"
    },
    {
     "name": "stderr",
     "output_type": "stream",
     "text": [
      "No data found for target \"303.13927267503 35.57075123299\".\n",
      "No data found for target \"302.92571397783 35.54375017709\".\n",
      "No data found for target \"303.06354516631 35.5295126824\".\n",
      "No data found for target \"303.07200610821 35.5744383785\".\n",
      "No data found for target \"303.04239914618 35.61852440376\".\n",
      "No data found for target \"303.02823778343 35.64829919968\".\n",
      "No data found for target \"303.03149090921 35.66381277026\".\n",
      "No data found for target \"303.20884007058 35.61223744237\".\n",
      "No data found for target \"303.13950707458 35.65348594811\".\n",
      "No data found for target \"303.14556122738 35.6547215645\".\n",
      "No data found for target \"303.16599991494 35.71339103886\".\n",
      "No data found for target \"303.10564436258 35.66951765879\".\n"
     ]
    },
    {
     "name": "stdout",
     "output_type": "stream",
     "text": [
      "Saved:  CastroGinard2022/UBC1093/92785271.png\n"
     ]
    },
    {
     "name": "stderr",
     "output_type": "stream",
     "text": [
      "No data found for target \"303.05532860122 35.69206333456\".\n",
      "No data found for target \"303.08023641852 35.70587824316\".\n",
      "No data found for target \"303.10931588186 35.72898826877\".\n",
      "No data found for target \"303.10014602456 35.73031386739\".\n"
     ]
    },
    {
     "name": "stdout",
     "output_type": "stream",
     "text": [
      "Saved:  CastroGinard2022/UBC1093/92842374.png\n"
     ]
    },
    {
     "name": "stderr",
     "output_type": "stream",
     "text": [
      "No data found for target \"303.12026653576 35.75301853729\".\n",
      "No data found for target \"303.24338346777 35.86769466172\".\n",
      "No data found for target \"302.7963007582 35.52409288356\".\n",
      "No data found for target \"302.77044455176 35.54379134807\".\n",
      "No data found for target \"302.92196030333 35.62173514387\".\n",
      "No data found for target \"302.92028024324 35.62319217401\".\n",
      "No data found for target \"302.80953822283 35.58921014023\".\n"
     ]
    },
    {
     "name": "stdout",
     "output_type": "stream",
     "text": [
      "Saved:  CastroGinard2022/UBC1093/92311944.png\n"
     ]
    },
    {
     "name": "stderr",
     "output_type": "stream",
     "text": [
      "No data found for target \"302.97605139289 35.63756607514\".\n",
      "No data found for target \"302.97445754838 35.64373808076\".\n",
      "No data found for target \"302.98345604035 35.65516594092\".\n",
      "No data found for target \"302.93623629056 35.64807026716\".\n",
      "No data found for target \"302.95789293694 35.65242467468\".\n",
      "No data found for target \"302.96259577874 35.67539960374\".\n",
      "No data found for target \"302.98696710602 35.66503244999\".\n",
      "No data found for target \"303.00282946219 35.68261467045\".\n",
      "No data found for target \"303.0210004086 35.69460803926\".\n",
      "No data found for target \"302.99348237769 35.69002128024\".\n",
      "No data found for target \"302.97705910753 35.69714882745\".\n",
      "No data found for target \"302.99997354522 35.69457482074\".\n",
      "No data found for target \"303.01013456826 35.70455279951\".\n",
      "No data found for target \"303.00952832301 35.70252855429\".\n",
      "No data found for target \"303.00963161757 35.70427053715\".\n",
      "No data found for target \"302.99689788358 35.71133909934\".\n",
      "No data found for target \"302.9461152596 35.68686444599\".\n",
      "No data found for target \"302.93329031956 35.68338121306\".\n",
      "No data found for target \"302.92255893961 35.68803886976\".\n",
      "No data found for target \"302.92758165493 35.70150142251\".\n"
     ]
    },
    {
     "name": "stdout",
     "output_type": "stream",
     "text": [
      "Saved:  CastroGinard2022/UBC1093/92311070.png\n"
     ]
    },
    {
     "name": "stderr",
     "output_type": "stream",
     "text": [
      "No data found for target \"302.97402894089 35.71765084067\".\n",
      "No data found for target \"302.97985356893 35.72761491096\".\n",
      "No data found for target \"302.97686904792 35.72660388127\".\n",
      "No data found for target \"302.99494208466 35.72556854159\".\n",
      "No data found for target \"302.99638330221 35.73340877515\".\n",
      "No data found for target \"302.99296231915 35.73435823992\".\n"
     ]
    },
    {
     "name": "stdout",
     "output_type": "stream",
     "text": [
      "Saved:  CastroGinard2022/UBC1093/92310822.png\n"
     ]
    },
    {
     "name": "stderr",
     "output_type": "stream",
     "text": [
      "No data found for target \"302.97814496206 35.73885475366\".\n",
      "No data found for target \"302.97471109598 35.73828865435\".\n",
      "No data found for target \"302.98115471229 35.74858765102\".\n",
      "No data found for target \"302.95625138391 35.74766840534\".\n",
      "No data found for target \"302.96718728537 35.75948542312\".\n",
      "No data found for target \"302.85764047487 35.68966433965\".\n",
      "No data found for target \"302.82706895092 35.70381773275\".\n",
      "No data found for target \"302.81548309457 35.73904267063\".\n",
      "No data found for target \"302.79193646946 35.74632856662\".\n",
      "No data found for target \"302.89583589279 35.72390568913\".\n",
      "No data found for target \"302.90539083826 35.73767845948\".\n",
      "No data found for target \"302.93589072432 35.78148957623\".\n",
      "No data found for target \"302.82829130511 35.74705901954\".\n",
      "No data found for target \"302.85088166567 35.75644757621\".\n",
      "No data found for target \"302.75038868192 35.79056318509\".\n",
      "No data found for target \"302.66214025902 35.81419350516\".\n",
      "No data found for target \"303.04706491609 35.6863807639\".\n",
      "No data found for target \"303.04796638433 35.70055883338\".\n",
      "No data found for target \"303.04490839794 35.70713128695\".\n",
      "No data found for target \"303.04130628303 35.71175392093\".\n",
      "No data found for target \"303.05077450356 35.71686198177\".\n",
      "No data found for target \"303.05945450423 35.74160615632\".\n",
      "No data found for target \"303.02172027388 35.71415448326\".\n",
      "No data found for target \"303.02421951732 35.72144691296\".\n",
      "No data found for target \"303.0220101209 35.72622744463\".\n",
      "No data found for target \"303.01501905167 35.71977789044\".\n",
      "No data found for target \"303.00719815565 35.730010477\".\n",
      "No data found for target \"303.00594493773 35.73003000493\".\n",
      "No data found for target \"303.04572227781 35.73361292416\".\n",
      "No data found for target \"303.09180570859 35.78898970471\".\n",
      "No data found for target \"303.10189607881 35.79361439909\".\n",
      "No data found for target \"302.98460741261 35.75326485092\".\n",
      "No data found for target \"302.98600694095 35.76473386607\".\n",
      "No data found for target \"302.97123330966 35.76856921489\".\n",
      "No data found for target \"303.00386249216 35.78626783302\".\n",
      "No data found for target \"303.05194300732 35.80646020695\".\n",
      "No data found for target \"303.05816389333 35.83235996804\".\n",
      "No data found for target \"303.05131147779 35.83166595762\".\n",
      "No data found for target \"303.11537989713 35.79950081865\".\n",
      "No data found for target \"303.03256631317 35.86527445718\".\n",
      "No data found for target \"303.03231917152 35.93017643531\".\n",
      "No data found for target \"302.99411741873 35.94272709514\".\n",
      "No data found for target \"303.16125958053 35.95301213221\".\n"
     ]
    },
    {
     "data": {
      "application/vnd.jupyter.widget-view+json": {
       "model_id": "0f112d09e9494a52b5faf9179e5608ac",
       "version_major": 2,
       "version_minor": 0
      },
      "text/plain": [
       "UBC1094: 0it [00:00, ?it/s]"
      ]
     },
     "metadata": {},
     "output_type": "display_data"
    },
    {
     "name": "stderr",
     "output_type": "stream",
     "text": [
      "No data found for target \"303.00513770173 35.62942679564\".\n",
      "No data found for target \"303.05141903988 35.64378681675\".\n",
      "No data found for target \"303.04733310608 35.65315330279\".\n",
      "No data found for target \"303.30890957413 35.73672720084\".\n",
      "No data found for target \"303.1215713803 35.65832287405\".\n",
      "No data found for target \"303.07892977381 35.66263811949\".\n",
      "No data found for target \"303.12326779741 35.71068553518\".\n",
      "No data found for target \"302.92292869243 35.60108621288\".\n",
      "No data found for target \"302.89977137039 35.59691468474\".\n",
      "No data found for target \"302.82459336022 35.59116938112\".\n",
      "No data found for target \"302.87375294723 35.66013369268\".\n",
      "No data found for target \"302.93139348697 35.65213520246\".\n",
      "No data found for target \"302.96759570336 35.65945198392\".\n",
      "No data found for target \"303.01014570097 35.70792251696\".\n",
      "No data found for target \"302.90596400754 35.65877678456\".\n",
      "No data found for target \"302.87547563528 35.68091074486\".\n",
      "No data found for target \"302.96827263965 35.72476987646\".\n",
      "No data found for target \"302.94030979387 35.73485042713\".\n",
      "No data found for target \"302.8032762198 35.65883411734\".\n",
      "No data found for target \"302.82482713339 35.66162867841\".\n",
      "No data found for target \"302.81320920062 35.65777068137\".\n",
      "No data found for target \"302.8454688744 35.68572444877\".\n",
      "No data found for target \"302.8533186463 35.69657790648\".\n",
      "No data found for target \"302.75568455822 35.67218340705\".\n",
      "No data found for target \"302.7389710476 35.68720753543\".\n",
      "No data found for target \"302.74470505782 35.71013538875\".\n"
     ]
    },
    {
     "name": "stdout",
     "output_type": "stream",
     "text": [
      "Saved:  CastroGinard2022/UBC1094/92311092.png\n"
     ]
    },
    {
     "name": "stderr",
     "output_type": "stream",
     "text": [
      "No data found for target \"302.85288161481 35.72670181769\".\n",
      "No data found for target \"302.91856494921 35.74724370755\".\n",
      "No data found for target \"302.9304860214 35.75005452388\".\n",
      "No data found for target \"302.86138281494 35.77424758407\".\n",
      "No data found for target \"302.81082080964 35.79308568475\".\n",
      "No data found for target \"302.80649620503 35.79707827545\".\n",
      "No data found for target \"302.83120984226 35.79658835133\".\n",
      "No data found for target \"302.81670936711 35.79319744152\".\n",
      "No data found for target \"302.58900272074 35.59031352815\".\n",
      "No data found for target \"302.67917333336 35.69711019669\".\n",
      "No data found for target \"302.72964009984 35.74576233306\".\n",
      "No data found for target \"302.74061389964 35.79743220225\".\n"
     ]
    },
    {
     "name": "stdout",
     "output_type": "stream",
     "text": [
      "Saved:  CastroGinard2022/UBC1094/378823546.png\n"
     ]
    },
    {
     "name": "stderr",
     "output_type": "stream",
     "text": [
      "No data found for target \"302.76703314286 35.83466454157\".\n"
     ]
    },
    {
     "name": "stdout",
     "output_type": "stream",
     "text": [
      "Saved:  CastroGinard2022/UBC1094/378823926.png\n"
     ]
    },
    {
     "name": "stderr",
     "output_type": "stream",
     "text": [
      "No data found for target \"302.85439060726 35.86816872259\".\n",
      "No data found for target \"302.7215377127 35.92517938899\".\n",
      "No data found for target \"302.66712265458 35.91911075168\".\n"
     ]
    },
    {
     "name": "stdout",
     "output_type": "stream",
     "text": [
      "Saved:  CastroGinard2022/UBC1094/92842548.png\n"
     ]
    },
    {
     "name": "stderr",
     "output_type": "stream",
     "text": [
      "No data found for target \"303.08383653498 35.7718880616\".\n",
      "No data found for target \"302.96545691153 35.78384783713\".\n",
      "No data found for target \"303.00046259005 35.80094336048\".\n",
      "No data found for target \"303.0556514681 35.82616197352\".\n",
      "No data found for target \"303.06259843421 35.83460699707\".\n",
      "No data found for target \"303.02829857205 35.82102147384\".\n",
      "No data found for target \"303.02967712314 35.84540266723\".\n",
      "No data found for target \"303.05480448573 35.85557687352\".\n",
      "No data found for target \"303.18107182958 35.82610904551\".\n"
     ]
    },
    {
     "name": "stdout",
     "output_type": "stream",
     "text": [
      "Saved:  CastroGinard2022/UBC1094/43899420.png\n"
     ]
    },
    {
     "name": "stderr",
     "output_type": "stream",
     "text": [
      "No data found for target \"302.95764449636 35.79070053829\".\n",
      "No data found for target \"302.98512652125 35.81056114547\".\n",
      "No data found for target \"302.94883377442 35.85766113041\".\n",
      "No data found for target \"302.99998024525 35.84980575768\".\n",
      "No data found for target \"302.98666095925 35.85768771882\".\n",
      "No data found for target \"302.98491112051 35.87277206944\".\n",
      "No data found for target \"303.0121415207 35.88501142986\".\n",
      "No data found for target \"302.99386593911 35.89712234319\".\n",
      "No data found for target \"302.90104281875 35.85933130964\".\n"
     ]
    },
    {
     "name": "stdout",
     "output_type": "stream",
     "text": [
      "Saved:  CastroGinard2022/UBC1094/43412404.png\n"
     ]
    },
    {
     "name": "stderr",
     "output_type": "stream",
     "text": [
      "No data found for target \"303.03286008551 35.88761420993\".\n",
      "No data found for target \"303.03331588659 35.88664856869\".\n",
      "No data found for target \"303.05142820688 35.91328902627\".\n"
     ]
    },
    {
     "name": "stdout",
     "output_type": "stream",
     "text": [
      "Saved:  CastroGinard2022/UBC1094/92843855.png\n"
     ]
    },
    {
     "name": "stderr",
     "output_type": "stream",
     "text": [
      "No data found for target \"303.09178137939 35.95207586305\".\n",
      "No data found for target \"303.00154196488 35.94764700243\".\n",
      "No data found for target \"303.11959450816 35.97870013607\".\n",
      "No data found for target \"303.11324713169 35.99451997337\".\n",
      "No data found for target \"302.86639619298 35.9014904966\".\n",
      "No data found for target \"302.8365966117 35.90856851672\".\n",
      "No data found for target \"302.83296210442 35.94800587142\".\n",
      "No data found for target \"302.93619308497 35.99474789935\".\n",
      "No data found for target \"302.92456332313 36.03789294094\".\n"
     ]
    },
    {
     "data": {
      "application/vnd.jupyter.widget-view+json": {
       "model_id": "c1b9abb328ed4afdb83f9e4a3777fc42",
       "version_major": 2,
       "version_minor": 0
      },
      "text/plain": [
       "UBC1098: 0it [00:00, ?it/s]"
      ]
     },
     "metadata": {},
     "output_type": "display_data"
    },
    {
     "name": "stderr",
     "output_type": "stream",
     "text": [
      "No data found for target \"305.25948057465 36.86589509775\".\n"
     ]
    },
    {
     "name": "stdout",
     "output_type": "stream",
     "text": [
      "Saved:  CastroGinard2022/UBC1098/13248858.png\n"
     ]
    },
    {
     "name": "stderr",
     "output_type": "stream",
     "text": [
      "No data found for target \"305.34948229127 36.89041420838\".\n",
      "No data found for target \"305.37610398642 36.91098918346\".\n",
      "No data found for target \"305.38566461792 36.92106382211\".\n"
     ]
    },
    {
     "name": "stdout",
     "output_type": "stream",
     "text": [
      "Saved:  CastroGinard2022/UBC1098/13249293.png\n"
     ]
    },
    {
     "name": "stderr",
     "output_type": "stream",
     "text": [
      "No data found for target \"305.37352195992 36.92508358647\".\n",
      "No data found for target \"305.33677174496 36.89542129264\".\n"
     ]
    },
    {
     "name": "stdout",
     "output_type": "stream",
     "text": [
      "Saved:  CastroGinard2022/UBC1098/13679139.png\n"
     ]
    },
    {
     "name": "stderr",
     "output_type": "stream",
     "text": [
      "No data found for target \"305.41025180922 36.93630132243\".\n",
      "No data found for target \"305.39258795292 36.9464668251\".\n"
     ]
    },
    {
     "name": "stdout",
     "output_type": "stream",
     "text": [
      "Saved:  CastroGinard2022/UBC1098/13249431.png\n",
      "Saved:  CastroGinard2022/UBC1098/13249434.png\n",
      "Saved:  CastroGinard2022/UBC1098/13678641.png\n"
     ]
    },
    {
     "name": "stderr",
     "output_type": "stream",
     "text": [
      "No data found for target \"305.47872518033 36.95347866966\".\n",
      "No data found for target \"305.44859861825 36.99843215597\".\n"
     ]
    },
    {
     "name": "stdout",
     "output_type": "stream",
     "text": [
      "Saved:  CastroGinard2022/UBC1098/13249448.png\n"
     ]
    },
    {
     "name": "stderr",
     "output_type": "stream",
     "text": [
      "No data found for target \"305.33504838776 36.99812865256\".\n",
      "No data found for target \"305.35536994383 37.05615814014\".\n"
     ]
    },
    {
     "data": {
      "application/vnd.jupyter.widget-view+json": {
       "model_id": "b2d8f68c2f454713a15684e1d2144b89",
       "version_major": 2,
       "version_minor": 0
      },
      "text/plain": [
       "UBC1099: 0it [00:00, ?it/s]"
      ]
     },
     "metadata": {},
     "output_type": "display_data"
    },
    {
     "name": "stderr",
     "output_type": "stream",
     "text": [
      "No data found for target \"304.99581488757 37.14374360424\".\n",
      "No data found for target \"305.07745143198 37.17974943653\".\n",
      "No data found for target \"304.87209261431 37.17741701012\".\n",
      "No data found for target \"304.89994969803 37.19194096236\".\n",
      "No data found for target \"304.87366089997 37.23190525845\".\n",
      "No data found for target \"305.00927359621 37.3163552725\".\n",
      "No data found for target \"304.69393535834 37.16108457617\".\n",
      "No data found for target \"304.75219268325 37.22255769604\".\n",
      "No data found for target \"304.66236713675 37.29682166469\".\n",
      "No data found for target \"304.67259441843 37.30961711091\".\n"
     ]
    },
    {
     "name": "stdout",
     "output_type": "stream",
     "text": [
      "Saved:  CastroGinard2022/UBC1099/273892803.png\n"
     ]
    },
    {
     "name": "stderr",
     "output_type": "stream",
     "text": [
      "No data found for target \"304.74522348902 37.27469716923\".\n"
     ]
    },
    {
     "name": "stdout",
     "output_type": "stream",
     "text": [
      "Saved:  CastroGinard2022/UBC1099/273893436.png\n"
     ]
    },
    {
     "name": "stderr",
     "output_type": "stream",
     "text": [
      "No data found for target \"304.81032267363 37.34483188697\".\n"
     ]
    },
    {
     "name": "stdout",
     "output_type": "stream",
     "text": [
      "Saved:  CastroGinard2022/UBC1099/12683177.png\n"
     ]
    },
    {
     "name": "stderr",
     "output_type": "stream",
     "text": [
      "No data found for target \"304.86978056043 37.3239845296\".\n",
      "No data found for target \"304.88993553336 37.32906484915\".\n",
      "No data found for target \"304.84593329657 37.33600658452\".\n",
      "No data found for target \"304.84589977652 37.34297764755\".\n"
     ]
    },
    {
     "name": "stdout",
     "output_type": "stream",
     "text": [
      "Saved:  CastroGinard2022/UBC1099/12682425.png\n"
     ]
    },
    {
     "name": "stderr",
     "output_type": "stream",
     "text": [
      "No data found for target \"304.71711076857 37.28920796803\".\n",
      "No data found for target \"304.81829656356 37.40736993852\".\n",
      "No data found for target \"304.78644837169 37.38793174706\".\n"
     ]
    },
    {
     "name": "stdout",
     "output_type": "stream",
     "text": [
      "Saved:  CastroGinard2022/UBC1099/273893961.png\n"
     ]
    },
    {
     "name": "stderr",
     "output_type": "stream",
     "text": [
      "No data found for target \"304.80211952425 37.4115259299\".\n",
      "No data found for target \"304.87145801376 37.43000499501\".\n",
      "No data found for target \"304.83270357959 37.4443701571\".\n",
      "No data found for target \"304.81207963096 37.44511081689\".\n",
      "No data found for target \"304.82305710051 37.49665422458\".\n",
      "No data found for target \"304.8002003071 37.51054764395\".\n",
      "No data found for target \"304.49137675728 37.28624151075\".\n",
      "No data found for target \"304.55534675602 37.3399414172\".\n",
      "No data found for target \"304.62632980698 37.42511135115\".\n"
     ]
    },
    {
     "name": "stdout",
     "output_type": "stream",
     "text": [
      "Saved:  CastroGinard2022/UBC1099/12501724.png\n"
     ]
    },
    {
     "name": "stderr",
     "output_type": "stream",
     "text": [
      "No data found for target \"304.68230268577 37.51485891954\".\n"
     ]
    },
    {
     "name": "stdout",
     "output_type": "stream",
     "text": [
      "Saved:  CastroGinard2022/UBC1099/12500527.png\n"
     ]
    },
    {
     "name": "stderr",
     "output_type": "stream",
     "text": [
      "No data found for target \"305.05171349101 37.41008384949\".\n"
     ]
    },
    {
     "name": "stdout",
     "output_type": "stream",
     "text": [
      "Saved:  CastroGinard2022/UBC1099/12682132.png\n"
     ]
    },
    {
     "data": {
      "application/vnd.jupyter.widget-view+json": {
       "model_id": "697a50ad7b694119aae3f213c9d47d05",
       "version_major": 2,
       "version_minor": 0
      },
      "text/plain": [
       "UBC1100: 0it [00:00, ?it/s]"
      ]
     },
     "metadata": {},
     "output_type": "display_data"
    },
    {
     "name": "stderr",
     "output_type": "stream",
     "text": [
      "No data found for target \"304.06845402239 37.81691660841\".\n",
      "No data found for target \"304.02799108863 37.8392663456\".\n",
      "No data found for target \"304.11747513465 37.85731634763\".\n",
      "No data found for target \"304.12013183076 37.87121090775\".\n",
      "No data found for target \"304.11860010541 37.88901856891\".\n",
      "No data found for target \"304.08245957673 37.86892490116\".\n",
      "No data found for target \"304.08899436059 37.90435157882\".\n",
      "No data found for target \"304.19307272905 37.82495038377\".\n",
      "No data found for target \"304.2117688246 37.91908693146\".\n",
      "No data found for target \"304.13695028877 37.90260669766\".\n",
      "No data found for target \"304.12480420467 37.89766210861\".\n",
      "No data found for target \"304.17941558679 37.91148756055\".\n",
      "No data found for target \"304.15301218061 37.92393433725\".\n",
      "No data found for target \"304.12302008101 37.90430312431\".\n",
      "No data found for target \"304.11220843321 37.91821953531\".\n",
      "No data found for target \"303.88532978821 37.78463304162\".\n",
      "No data found for target \"303.92400161183 37.86233260048\".\n",
      "No data found for target \"304.01906580676 37.87035795592\".\n",
      "No data found for target \"304.01574921621 37.87240355798\".\n",
      "No data found for target \"303.98818318424 37.85481705747\".\n",
      "No data found for target \"304.06725769441 37.89562015079\".\n",
      "No data found for target \"304.07129561296 37.90654968865\".\n",
      "No data found for target \"304.06795020646 37.90206337789\".\n"
     ]
    },
    {
     "name": "stdout",
     "output_type": "stream",
     "text": [
      "Saved:  CastroGinard2022/UBC1100/11477120.png\n"
     ]
    },
    {
     "name": "stderr",
     "output_type": "stream",
     "text": [
      "No data found for target \"304.05943220527 37.90193752718\".\n",
      "No data found for target \"304.05759825261 37.92101692093\".\n",
      "No data found for target \"304.08713194466 37.91191789504\".\n",
      "No data found for target \"304.08947788779 37.91035513806\".\n",
      "No data found for target \"304.08453590901 37.92574878798\".\n",
      "No data found for target \"304.08121028811 37.92946858943\".\n"
     ]
    },
    {
     "name": "stdout",
     "output_type": "stream",
     "text": [
      "Saved:  CastroGinard2022/UBC1100/11476825.png\n"
     ]
    },
    {
     "name": "stderr",
     "output_type": "stream",
     "text": [
      "No data found for target \"304.03790863729 37.92588460446\".\n",
      "No data found for target \"304.05078235626 37.93280449523\".\n",
      "No data found for target \"304.06166081604 37.95137100721\".\n",
      "No data found for target \"303.94231091996 37.93082388447\".\n",
      "No data found for target \"304.02367592687 37.94745370581\".\n",
      "No data found for target \"303.88792594937 37.89240868254\".\n",
      "No data found for target \"303.85063893015 37.97505470328\".\n",
      "No data found for target \"303.9429742211 38.04195686598\".\n",
      "No data found for target \"304.11487013811 37.93915242284\".\n",
      "No data found for target \"304.07070953298 37.97069875288\".\n",
      "No data found for target \"304.06073705806 37.97387468787\".\n",
      "No data found for target \"304.05828425825 37.99704528605\".\n",
      "No data found for target \"304.0323990906 38.0205145893\".\n",
      "No data found for target \"304.06385634426 38.06895293671\".\n",
      "No data found for target \"304.14525832154 38.10596314195\".\n",
      "No data found for target \"304.14754139722 38.16286901677\".\n"
     ]
    },
    {
     "data": {
      "application/vnd.jupyter.widget-view+json": {
       "model_id": "a93ddd27e8c04a348af208b834d3eb81",
       "version_major": 2,
       "version_minor": 0
      },
      "text/plain": [
       "UBC1101: 0it [00:00, ?it/s]"
      ]
     },
     "metadata": {},
     "output_type": "display_data"
    },
    {
     "name": "stdout",
     "output_type": "stream",
     "text": [
      "Saved:  CastroGinard2022/UBC1101/14104617.png\n",
      "Saved:  CastroGinard2022/UBC1101/14085895.png\n"
     ]
    },
    {
     "name": "stderr",
     "output_type": "stream",
     "text": [
      "No data found for target \"305.82442196595 37.08321664691\".\n"
     ]
    },
    {
     "name": "stdout",
     "output_type": "stream",
     "text": [
      "Saved:  CastroGinard2022/UBC1101/14085742.png\n"
     ]
    },
    {
     "name": "stderr",
     "output_type": "stream",
     "text": [
      "No data found for target \"306.01036802108 37.01410015045\".\n"
     ]
    },
    {
     "name": "stdout",
     "output_type": "stream",
     "text": [
      "Saved:  CastroGinard2022/UBC1101/14106325.png\n"
     ]
    },
    {
     "name": "stderr",
     "output_type": "stream",
     "text": [
      "No data found for target \"305.64018775879 37.02011724535\".\n",
      "No data found for target \"305.52576630632 37.14885376975\".\n",
      "No data found for target \"305.51694817078 37.15639239738\".\n",
      "No data found for target \"305.73985832296 37.06256262752\".\n"
     ]
    },
    {
     "name": "stdout",
     "output_type": "stream",
     "text": [
      "Saved:  CastroGinard2022/UBC1101/14085632.png\n"
     ]
    },
    {
     "name": "stderr",
     "output_type": "stream",
     "text": [
      "No data found for target \"305.69768215502 37.10249138563\".\n",
      "No data found for target \"305.66658032198 37.10244798066\".\n",
      "No data found for target \"305.6690301753 37.11642824654\".\n"
     ]
    },
    {
     "name": "stdout",
     "output_type": "stream",
     "text": [
      "Saved:  CastroGinard2022/UBC1101/13693244.png\n",
      "Saved:  CastroGinard2022/UBC1101/14085692.png\n",
      "Saved:  CastroGinard2022/UBC1101/14085674.png\n"
     ]
    },
    {
     "name": "stderr",
     "output_type": "stream",
     "text": [
      "No data found for target \"305.7764325176 37.13423838884\".\n"
     ]
    },
    {
     "name": "stdout",
     "output_type": "stream",
     "text": [
      "Saved:  CastroGinard2022/UBC1101/13981256.png\n"
     ]
    },
    {
     "name": "stderr",
     "output_type": "stream",
     "text": [
      "No data found for target \"305.8256370325 37.16112458817\".\n",
      "No data found for target \"305.84342355912 37.17574344261\".\n",
      "No data found for target \"305.73780594174 37.14840376741\".\n",
      "No data found for target \"305.71566552929 37.13887472778\".\n",
      "No data found for target \"305.7957007412 37.20628037451\".\n",
      "No data found for target \"305.6134374312 37.10803073695\".\n"
     ]
    },
    {
     "name": "stdout",
     "output_type": "stream",
     "text": [
      "Saved:  CastroGinard2022/UBC1101/13693161.png\n"
     ]
    },
    {
     "name": "stderr",
     "output_type": "stream",
     "text": [
      "No data found for target \"305.66256595526 37.18676894278\".\n"
     ]
    },
    {
     "name": "stdout",
     "output_type": "stream",
     "text": [
      "Saved:  CastroGinard2022/UBC1101/13693368.png\n"
     ]
    },
    {
     "name": "stderr",
     "output_type": "stream",
     "text": [
      "No data found for target \"305.62647989509 37.20009456513\".\n",
      "No data found for target \"305.57315161676 37.16490145955\".\n",
      "No data found for target \"305.56634845716 37.16631696091\".\n",
      "No data found for target \"305.59377465261 37.17623776197\".\n",
      "No data found for target \"305.67413523584 37.18014798777\".\n"
     ]
    },
    {
     "name": "stdout",
     "output_type": "stream",
     "text": [
      "Saved:  CastroGinard2022/UBC1101/13693501.png\n",
      "Saved:  CastroGinard2022/UBC1101/13693667.png\n"
     ]
    },
    {
     "name": "stderr",
     "output_type": "stream",
     "text": [
      "No data found for target \"305.6924850596 37.22949062603\".\n"
     ]
    },
    {
     "name": "stdout",
     "output_type": "stream",
     "text": [
      "Saved:  CastroGinard2022/UBC1101/13980753.png\n"
     ]
    },
    {
     "name": "stderr",
     "output_type": "stream",
     "text": [
      "No data found for target \"305.72788137671 37.30315976553\".\n"
     ]
    },
    {
     "name": "stdout",
     "output_type": "stream",
     "text": [
      "Saved:  CastroGinard2022/UBC1101/13693755.png\n"
     ]
    },
    {
     "name": "stderr",
     "output_type": "stream",
     "text": [
      "No data found for target \"305.65261122759 37.24075778841\".\n",
      "No data found for target \"305.60117501065 37.2599475595\".\n",
      "No data found for target \"305.70341464791 37.2953489187\".\n"
     ]
    },
    {
     "name": "stdout",
     "output_type": "stream",
     "text": [
      "Saved:  CastroGinard2022/UBC1101/13250726.png\n"
     ]
    },
    {
     "name": "stderr",
     "output_type": "stream",
     "text": [
      "No data found for target \"305.43318027804 37.21699472365\".\n",
      "No data found for target \"305.36016296103 37.20362420948\".\n",
      "No data found for target \"305.52487922325 37.22521591567\".\n",
      "No data found for target \"305.48506072034 37.19561198167\".\n",
      "No data found for target \"305.54145459901 37.27155776447\".\n",
      "No data found for target \"305.49726824903 37.31867623139\".\n",
      "No data found for target \"305.88145918002 37.26737984773\".\n",
      "No data found for target \"305.81869765524 37.24394866595\".\n"
     ]
    },
    {
     "name": "stdout",
     "output_type": "stream",
     "text": [
      "Saved:  CastroGinard2022/UBC1101/13980662.png\n",
      "Saved:  CastroGinard2022/UBC1101/13980428.png\n"
     ]
    },
    {
     "name": "stderr",
     "output_type": "stream",
     "text": [
      "No data found for target \"305.84656010829 37.30382888442\".\n",
      "No data found for target \"305.98765187173 37.32326067872\".\n",
      "No data found for target \"305.88964596182 37.36174171056\".\n",
      "No data found for target \"305.77830029757 37.3000568096\".\n",
      "No data found for target \"305.71789324181 37.39033780249\".\n",
      "No data found for target \"309.11129283632 36.45243298028\".\n"
     ]
    },
    {
     "data": {
      "application/vnd.jupyter.widget-view+json": {
       "model_id": "c098c70f0c6945beaca120a944193c60",
       "version_major": 2,
       "version_minor": 0
      },
      "text/plain": [
       "UBC1103: 0it [00:00, ?it/s]"
      ]
     },
     "metadata": {},
     "output_type": "display_data"
    },
    {
     "name": "stderr",
     "output_type": "stream",
     "text": [
      "No data found for target \"306.72587520944 38.49576083352\".\n",
      "No data found for target \"306.62785026069 38.51589587785\".\n",
      "No data found for target \"306.59018896227 38.53232919892\".\n",
      "No data found for target \"306.58231646472 38.55122622978\".\n"
     ]
    },
    {
     "name": "stdout",
     "output_type": "stream",
     "text": [
      "Saved:  CastroGinard2022/UBC1103/15066136.png\n"
     ]
    },
    {
     "name": "stderr",
     "output_type": "stream",
     "text": [
      "No data found for target \"306.81320155798 38.44947545591\".\n",
      "No data found for target \"306.78990651483 38.45766894729\".\n",
      "No data found for target \"306.91508869095 38.58126322274\".\n",
      "No data found for target \"306.98858005478 38.58532879696\".\n"
     ]
    },
    {
     "name": "stdout",
     "output_type": "stream",
     "text": [
      "Saved:  CastroGinard2022/UBC1103/15674730.png\n"
     ]
    },
    {
     "name": "stderr",
     "output_type": "stream",
     "text": [
      "No data found for target \"306.95306105661 38.63952489369\".\n",
      "No data found for target \"307.14526931823 38.73901216978\".\n"
     ]
    },
    {
     "name": "stdout",
     "output_type": "stream",
     "text": [
      "Saved:  CastroGinard2022/UBC1103/15674244.png\n"
     ]
    },
    {
     "name": "stderr",
     "output_type": "stream",
     "text": [
      "No data found for target \"307.11813524849 38.73445641573\".\n",
      "No data found for target \"307.0733364794 38.7942011258\".\n",
      "No data found for target \"307.08774529631 38.84077202547\".\n",
      "No data found for target \"306.67589477829 38.58457033505\".\n",
      "No data found for target \"306.69921164806 38.61073390166\".\n",
      "No data found for target \"306.68210837746 38.61192859623\".\n",
      "No data found for target \"306.75123612553 38.6258960394\".\n",
      "No data found for target \"306.76148406506 38.65648337858\".\n"
     ]
    },
    {
     "name": "stdout",
     "output_type": "stream",
     "text": [
      "Saved:  CastroGinard2022/UBC1103/15464483.png\n"
     ]
    },
    {
     "name": "stderr",
     "output_type": "stream",
     "text": [
      "No data found for target \"306.82864071595 38.77088470198\".\n",
      "No data found for target \"306.72102601038 38.70044665735\".\n",
      "No data found for target \"306.62158252444 38.68022676239\".\n",
      "No data found for target \"306.79600128158 38.80886701922\".\n"
     ]
    },
    {
     "name": "stdout",
     "output_type": "stream",
     "text": [
      "Saved:  CastroGinard2022/UBC1103/15464717.png\n"
     ]
    },
    {
     "name": "stderr",
     "output_type": "stream",
     "text": [
      "No data found for target \"306.91135885384 38.77543956901\".\n"
     ]
    },
    {
     "name": "stdout",
     "output_type": "stream",
     "text": [
      "Saved:  CastroGinard2022/UBC1103/15673699.png\n"
     ]
    },
    {
     "name": "stderr",
     "output_type": "stream",
     "text": [
      "No data found for target \"306.90709679432 38.80382316942\".\n",
      "No data found for target \"306.89527285308 38.84767007184\".\n",
      "No data found for target \"306.96247046169 38.86746060515\".\n",
      "No data found for target \"306.98540395908 38.8646563193\".\n",
      "No data found for target \"306.99239439909 38.86615673482\".\n",
      "No data found for target \"306.9226690897 38.86543370898\".\n"
     ]
    },
    {
     "name": "stdout",
     "output_type": "stream",
     "text": [
      "Saved:  CastroGinard2022/UBC1103/15672827.png\n"
     ]
    },
    {
     "name": "stderr",
     "output_type": "stream",
     "text": [
      "No data found for target \"306.88945856435 38.85447074002\".\n",
      "No data found for target \"306.86280799489 38.92375653605\".\n"
     ]
    },
    {
     "name": "stdout",
     "output_type": "stream",
     "text": [
      "Saved:  CastroGinard2022/UBC1103/15465651.png\n"
     ]
    },
    {
     "name": "stderr",
     "output_type": "stream",
     "text": [
      "No data found for target \"306.90286421775 38.88828020218\".\n",
      "No data found for target \"306.91190035373 38.90211671545\".\n",
      "No data found for target \"306.96143179981 38.92845567968\".\n",
      "No data found for target \"306.8715911373 38.92366067964\".\n"
     ]
    },
    {
     "name": "stdout",
     "output_type": "stream",
     "text": [
      "Saved:  CastroGinard2022/UBC1103/15466305.png\n"
     ]
    },
    {
     "name": "stderr",
     "output_type": "stream",
     "text": [
      "No data found for target \"307.22450583316 38.85917290314\".\n",
      "No data found for target \"307.09446597789 38.91204988691\".\n"
     ]
    },
    {
     "name": "stdout",
     "output_type": "stream",
     "text": [
      "Saved:  CastroGinard2022/UBC1103/15672637.png\n"
     ]
    },
    {
     "name": "stderr",
     "output_type": "stream",
     "text": [
      "No data found for target \"307.0617088515 39.02557353592\".\n"
     ]
    },
    {
     "name": "stdout",
     "output_type": "stream",
     "text": [
      "Saved:  CastroGinard2022/UBC1103/15247317.png\n",
      "Saved:  CastroGinard2022/UBC1103/15247216.png\n"
     ]
    },
    {
     "data": {
      "application/vnd.jupyter.widget-view+json": {
       "model_id": "124fed7fc6bf41a488d4650717c2bca7",
       "version_major": 2,
       "version_minor": 0
      },
      "text/plain": [
       "UBC1104: 0it [00:00, ?it/s]"
      ]
     },
     "metadata": {},
     "output_type": "display_data"
    },
    {
     "name": "stderr",
     "output_type": "stream",
     "text": [
      "No data found for target \"304.77255856267 39.78075798013\".\n",
      "No data found for target \"305.14945929038 39.68808770936\".\n",
      "No data found for target \"305.15998622643 39.80586765644\".\n"
     ]
    },
    {
     "name": "stdout",
     "output_type": "stream",
     "text": [
      "Saved:  CastroGinard2022/UBC1104/13009672.png\n"
     ]
    },
    {
     "name": "stderr",
     "output_type": "stream",
     "text": [
      "No data found for target \"305.2991660613 39.85857583433\".\n"
     ]
    },
    {
     "name": "stdout",
     "output_type": "stream",
     "text": [
      "Saved:  CastroGinard2022/UBC1104/13009551.png\n",
      "Saved:  CastroGinard2022/UBC1104/13009194.png\n"
     ]
    },
    {
     "name": "stderr",
     "output_type": "stream",
     "text": [
      "No data found for target \"304.96440533705 39.80897541152\".\n",
      "No data found for target \"305.11124728168 39.82948713642\".\n",
      "No data found for target \"305.14101221348 39.83254488728\".\n"
     ]
    },
    {
     "name": "stdout",
     "output_type": "stream",
     "text": [
      "Saved:  CastroGinard2022/UBC1104/13009615.png\n"
     ]
    },
    {
     "name": "stderr",
     "output_type": "stream",
     "text": [
      "No data found for target \"305.12071919466 39.8295321356\".\n"
     ]
    },
    {
     "name": "stdout",
     "output_type": "stream",
     "text": [
      "Saved:  CastroGinard2022/UBC1104/13009633.png\n",
      "Saved:  CastroGinard2022/UBC1104/13009537.png\n"
     ]
    },
    {
     "name": "stderr",
     "output_type": "stream",
     "text": [
      "No data found for target \"305.09919684331 39.8253643036\".\n",
      "No data found for target \"305.07197387722 39.8367886868\".\n",
      "No data found for target \"305.08440940873 39.84615470071\".\n"
     ]
    },
    {
     "name": "stdout",
     "output_type": "stream",
     "text": [
      "Saved:  CastroGinard2022/UBC1104/12928230.png\n"
     ]
    },
    {
     "name": "stderr",
     "output_type": "stream",
     "text": [
      "No data found for target \"305.11979496543 39.84772604778\".\n",
      "No data found for target \"305.11229573469 39.85232588845\".\n",
      "No data found for target \"305.12252129116 39.8699394532\".\n"
     ]
    },
    {
     "name": "stdout",
     "output_type": "stream",
     "text": [
      "Saved:  CastroGinard2022/UBC1104/13009485.png\n"
     ]
    },
    {
     "name": "stderr",
     "output_type": "stream",
     "text": [
      "No data found for target \"305.09591401656 39.86841142538\".\n"
     ]
    },
    {
     "name": "stdout",
     "output_type": "stream",
     "text": [
      "Saved:  CastroGinard2022/UBC1104/12928176.png\n",
      "Saved:  CastroGinard2022/UBC1104/12928383.png\n"
     ]
    },
    {
     "name": "stderr",
     "output_type": "stream",
     "text": [
      "No data found for target \"305.0959623534 39.89748939198\".\n",
      "No data found for target \"305.08542915316 39.89816053558\".\n",
      "No data found for target \"305.04343211572 39.87609112006\".\n"
     ]
    },
    {
     "name": "stdout",
     "output_type": "stream",
     "text": [
      "Saved:  CastroGinard2022/UBC1104/12928405.png\n",
      "Saved:  CastroGinard2022/UBC1104/12928574.png\n"
     ]
    },
    {
     "name": "stderr",
     "output_type": "stream",
     "text": [
      "No data found for target \"305.08671410225 39.9097736216\".\n",
      "No data found for target \"304.95719138253 39.83995843743\".\n",
      "No data found for target \"304.98732838348 39.85813191976\".\n",
      "No data found for target \"304.98932028468 40.00391219637\".\n",
      "No data found for target \"305.13910331298 39.89224526528\".\n",
      "No data found for target \"305.13508162727 39.90284428721\".\n",
      "No data found for target \"305.10831353434 39.89377890067\".\n"
     ]
    },
    {
     "name": "stdout",
     "output_type": "stream",
     "text": [
      "Saved:  CastroGinard2022/UBC1104/13009081.png\n"
     ]
    },
    {
     "name": "stderr",
     "output_type": "stream",
     "text": [
      "No data found for target \"305.08759878838 39.92149996729\".\n"
     ]
    },
    {
     "name": "stdout",
     "output_type": "stream",
     "text": [
      "Saved:  CastroGinard2022/UBC1104/12928903.png\n",
      "Saved:  CastroGinard2022/UBC1104/13008533.png\n",
      "Saved:  CastroGinard2022/UBC1104/12928885.png\n"
     ]
    },
    {
     "name": "stderr",
     "output_type": "stream",
     "text": [
      "No data found for target \"305.11415015177 40.02108216724\".\n"
     ]
    },
    {
     "name": "stdout",
     "output_type": "stream",
     "text": [
      "Saved:  CastroGinard2022/UBC1104/13008607.png\n",
      "Saved:  CastroGinard2022/UBC1104/12929161.png\n"
     ]
    },
    {
     "name": "stderr",
     "output_type": "stream",
     "text": [
      "No data found for target \"305.03560590843 40.00860084479\".\n",
      "No data found for target \"304.99113374929 40.05429335458\".\n"
     ]
    },
    {
     "data": {
      "application/vnd.jupyter.widget-view+json": {
       "model_id": "c21af42ad5414b27a356d8bdc563cab0",
       "version_major": 2,
       "version_minor": 0
      },
      "text/plain": [
       "UBC1105: 0it [00:00, ?it/s]"
      ]
     },
     "metadata": {},
     "output_type": "display_data"
    },
    {
     "name": "stderr",
     "output_type": "stream",
     "text": [
      "No data found for target \"306.71249313621 39.22182290944\".\n",
      "No data found for target \"306.6932929563 39.27318252003\".\n",
      "No data found for target \"306.98519848809 39.2020537969\".\n",
      "No data found for target \"306.97599580248 39.20058324977\".\n"
     ]
    },
    {
     "name": "stdout",
     "output_type": "stream",
     "text": [
      "Saved:  CastroGinard2022/UBC1105/15568903.png\n"
     ]
    },
    {
     "name": "stderr",
     "output_type": "stream",
     "text": [
      "No data found for target \"306.86928625781 39.23637416339\".\n",
      "No data found for target \"306.88906137447 39.2620960878\".\n",
      "No data found for target \"306.85395156661 39.2426184687\".\n",
      "No data found for target \"306.83320625166 39.29725087874\".\n",
      "No data found for target \"306.93294434097 39.2923270006\".\n",
      "No data found for target \"306.93415170978 39.32663532971\".\n",
      "No data found for target \"306.93950140495 39.32562956961\".\n",
      "No data found for target \"306.91564013263 39.31842936695\".\n",
      "No data found for target \"306.91204201922 39.32612729755\".\n",
      "No data found for target \"306.92021655187 39.32714944911\".\n",
      "No data found for target \"306.9187035525 39.32672331925\".\n",
      "No data found for target \"306.90033548211 39.32877144636\".\n",
      "No data found for target \"306.97113818513 39.34130674391\".\n",
      "No data found for target \"306.94115054996 39.35224666965\".\n",
      "No data found for target \"306.93274360271 39.35762838887\".\n",
      "No data found for target \"306.94965886998 39.36713197838\".\n",
      "No data found for target \"306.88686210575 39.34554012387\".\n",
      "No data found for target \"306.88003153189 39.35296347393\".\n",
      "No data found for target \"306.89790502761 39.36648020212\".\n"
     ]
    },
    {
     "name": "stdout",
     "output_type": "stream",
     "text": [
      "Saved:  CastroGinard2022/UBC1105/15468003.png\n"
     ]
    },
    {
     "name": "stderr",
     "output_type": "stream",
     "text": [
      "No data found for target \"306.87473297978 39.37255618106\".\n",
      "No data found for target \"306.89084124655 39.39358754824\".\n",
      "No data found for target \"306.87586690825 39.39973198409\".\n",
      "No data found for target \"306.89064439966 39.41836753017\".\n",
      "No data found for target \"306.91559487814 39.42368123962\".\n",
      "No data found for target \"307.04919904612 39.42007822311\".\n"
     ]
    },
    {
     "name": "stdout",
     "output_type": "stream",
     "text": [
      "Saved:  CastroGinard2022/UBC1105/15567987.png\n"
     ]
    },
    {
     "name": "stderr",
     "output_type": "stream",
     "text": [
      "No data found for target \"306.77154694629 39.41160747602\".\n",
      "No data found for target \"306.71982089407 39.41233357188\".\n",
      "No data found for target \"306.80807216125 39.40786314809\".\n",
      "No data found for target \"306.84285492934 39.43205665686\".\n",
      "No data found for target \"306.81409790813 39.42611551551\".\n",
      "No data found for target \"306.88061143009 39.42906382604\".\n",
      "No data found for target \"306.80115658023 39.42882932217\".\n",
      "No data found for target \"306.77524732876 39.44687338647\".\n",
      "No data found for target \"306.74805465845 39.44995778128\".\n"
     ]
    },
    {
     "name": "stdout",
     "output_type": "stream",
     "text": [
      "Saved:  CastroGinard2022/UBC1105/15468755.png\n"
     ]
    },
    {
     "name": "stderr",
     "output_type": "stream",
     "text": [
      "No data found for target \"306.78298623029 39.46638493489\".\n"
     ]
    },
    {
     "name": "stdout",
     "output_type": "stream",
     "text": [
      "Saved:  CastroGinard2022/UBC1105/15468890.png\n"
     ]
    },
    {
     "name": "stderr",
     "output_type": "stream",
     "text": [
      "No data found for target \"306.6931422595 39.47679762255\".\n",
      "No data found for target \"306.6145103679 39.48373491513\".\n",
      "No data found for target \"306.71880753029 39.53410933664\".\n",
      "No data found for target \"306.77467302062 39.5968077276\".\n",
      "No data found for target \"306.9085970647 39.50049888849\".\n",
      "No data found for target \"306.85884247884 39.56060585814\".\n",
      "No data found for target \"306.8093913005 39.60513076572\".\n"
     ]
    },
    {
     "name": "stdout",
     "output_type": "stream",
     "text": [
      "Saved:  CastroGinard2022/UBC1105/15070991.png\n"
     ]
    },
    {
     "name": "stderr",
     "output_type": "stream",
     "text": [
      "No data found for target \"306.60573042768 39.52247806499\".\n"
     ]
    },
    {
     "data": {
      "application/vnd.jupyter.widget-view+json": {
       "model_id": "f090fea460c347c7b66e9bb7b88f6655",
       "version_major": 2,
       "version_minor": 0
      },
      "text/plain": [
       "UBC1106: 0it [00:00, ?it/s]"
      ]
     },
     "metadata": {},
     "output_type": "display_data"
    },
    {
     "name": "stderr",
     "output_type": "stream",
     "text": [
      "No data found for target \"304.3719564677 40.50691472743\".\n",
      "No data found for target \"304.69361766182 40.51355474909\".\n",
      "No data found for target \"304.60837984421 40.59141372896\".\n",
      "No data found for target \"304.50787842743 40.56847623132\".\n",
      "No data found for target \"304.54684862828 40.65427672358\".\n",
      "No data found for target \"304.5569924886 40.65612113258\".\n",
      "No data found for target \"304.52447727531 40.69853198895\".\n"
     ]
    },
    {
     "name": "stdout",
     "output_type": "stream",
     "text": [
      "Saved:  CastroGinard2022/UBC1106/12366159.png\n"
     ]
    },
    {
     "name": "stderr",
     "output_type": "stream",
     "text": [
      "No data found for target \"304.58972379007 40.70369778276\".\n"
     ]
    },
    {
     "name": "stdout",
     "output_type": "stream",
     "text": [
      "Saved:  CastroGinard2022/UBC1106/12365996.png\n"
     ]
    },
    {
     "name": "stderr",
     "output_type": "stream",
     "text": [
      "No data found for target \"304.55805833839 40.72278783998\".\n"
     ]
    },
    {
     "name": "stdout",
     "output_type": "stream",
     "text": [
      "Saved:  CastroGinard2022/UBC1106/12365911.png\n"
     ]
    },
    {
     "name": "stderr",
     "output_type": "stream",
     "text": [
      "No data found for target \"304.60629165478 40.7656174834\".\n",
      "No data found for target \"304.44504634557 40.61869943674\".\n"
     ]
    },
    {
     "name": "stdout",
     "output_type": "stream",
     "text": [
      "Saved:  CastroGinard2022/UBC1106/12256614.png\n"
     ]
    },
    {
     "name": "stderr",
     "output_type": "stream",
     "text": [
      "No data found for target \"304.25133270144 40.6525659982\".\n",
      "No data found for target \"304.29901958048 40.73901758795\".\n",
      "No data found for target \"304.2831396669 40.72720504293\".\n",
      "No data found for target \"304.26769776374 40.7829757956\".\n",
      "No data found for target \"304.42938426144 40.66057395308\".\n",
      "No data found for target \"304.50680295696 40.70585904624\".\n"
     ]
    },
    {
     "name": "stdout",
     "output_type": "stream",
     "text": [
      "Saved:  CastroGinard2022/UBC1106/12366141.png\n",
      "Saved:  CastroGinard2022/UBC1106/12257110.png\n"
     ]
    },
    {
     "name": "stderr",
     "output_type": "stream",
     "text": [
      "No data found for target \"304.39005687227 40.69544266104\".\n",
      "No data found for target \"304.44647618822 40.71962939735\".\n",
      "No data found for target \"304.37227246521 40.71778897891\".\n",
      "No data found for target \"304.39479070349 40.74408593577\".\n"
     ]
    },
    {
     "name": "stdout",
     "output_type": "stream",
     "text": [
      "Saved:  CastroGinard2022/UBC1106/12365834.png\n"
     ]
    },
    {
     "name": "stderr",
     "output_type": "stream",
     "text": [
      "No data found for target \"304.54736009133 40.74416223264\".\n"
     ]
    },
    {
     "name": "stdout",
     "output_type": "stream",
     "text": [
      "Saved:  CastroGinard2022/UBC1106/12365814.png\n"
     ]
    },
    {
     "name": "stderr",
     "output_type": "stream",
     "text": [
      "No data found for target \"304.57292981535 40.75977201509\".\n",
      "No data found for target \"304.55781292688 40.80931046263\".\n",
      "No data found for target \"304.48306815095 40.81040066715\".\n",
      "No data found for target \"304.30320953671 40.79420147335\".\n",
      "No data found for target \"304.62506372859 40.82476965393\".\n"
     ]
    },
    {
     "data": {
      "application/vnd.jupyter.widget-view+json": {
       "model_id": "9a76c136d86149b09bfe3045a5bbc20d",
       "version_major": 2,
       "version_minor": 0
      },
      "text/plain": [
       "UBC1107: 0it [00:00, ?it/s]"
      ]
     },
     "metadata": {},
     "output_type": "display_data"
    },
    {
     "name": "stderr",
     "output_type": "stream",
     "text": [
      "No data found for target \"310.9079587886 36.83201572396\".\n",
      "No data found for target \"310.96527246413 36.81413499965\".\n",
      "No data found for target \"310.95170580354 36.83583829921\".\n",
      "No data found for target \"311.00926469622 36.92594860943\".\n",
      "No data found for target \"310.86901229943 37.06342412589\".\n",
      "No data found for target \"310.86806368514 37.06782798588\".\n",
      "No data found for target \"311.05204485191 36.88204106226\".\n",
      "No data found for target \"311.15452851194 36.95363413238\".\n",
      "No data found for target \"311.18036243688 36.98705441692\".\n",
      "No data found for target \"311.04353553667 36.97591436797\".\n",
      "No data found for target \"311.00798711062 36.99869716868\".\n",
      "No data found for target \"311.01600335818 37.04369482756\".\n",
      "No data found for target \"311.16621164 37.08775210297\".\n",
      "No data found for target \"311.10200141271 37.06048971994\".\n",
      "No data found for target \"311.14502568117 37.09134080675\".\n",
      "No data found for target \"311.26186847052 37.16285048568\".\n",
      "No data found for target \"311.1861280589 37.13982765079\".\n",
      "No data found for target \"310.96882148091 37.00364434227\".\n",
      "No data found for target \"310.96373595339 37.06221466541\".\n",
      "No data found for target \"311.00782727167 37.03793378657\".\n",
      "No data found for target \"310.98572869123 37.05695269852\".\n",
      "No data found for target \"310.93957607683 37.08499606116\".\n",
      "No data found for target \"310.97738149318 37.09911711248\".\n",
      "No data found for target \"311.04677116982 37.09340827489\".\n",
      "No data found for target \"311.08805758814 37.1224444783\".\n",
      "No data found for target \"311.01130150145 37.11564201566\".\n",
      "No data found for target \"311.01379943299 37.12374684613\".\n",
      "No data found for target \"311.00288496914 37.12606814747\".\n",
      "No data found for target \"311.05733309423 37.28532406857\".\n",
      "No data found for target \"310.98055221244 37.33144241548\".\n"
     ]
    },
    {
     "data": {
      "application/vnd.jupyter.widget-view+json": {
       "model_id": "df0eae0954ed4989bac0f31189bad556",
       "version_major": 2,
       "version_minor": 0
      },
      "text/plain": [
       "UBC1109: 0it [00:00, ?it/s]"
      ]
     },
     "metadata": {},
     "output_type": "display_data"
    },
    {
     "name": "stderr",
     "output_type": "stream",
     "text": [
      "No data found for target \"311.98695686385 38.89972277391\".\n",
      "No data found for target \"311.90251161337 38.91141425458\".\n",
      "No data found for target \"312.12274813647 38.82204673199\".\n",
      "No data found for target \"312.09735259665 38.86258928442\".\n",
      "No data found for target \"312.05256128677 38.87933884015\".\n",
      "No data found for target \"312.21839050694 38.93018435853\".\n",
      "No data found for target \"312.18951854897 38.95530712492\".\n",
      "No data found for target \"312.11401134569 38.97109715696\".\n",
      "No data found for target \"312.06888106425 38.98516846834\".\n",
      "No data found for target \"312.01782733585 39.00237179751\".\n",
      "No data found for target \"312.11176265104 39.00128197141\".\n",
      "No data found for target \"312.09596022292 38.99946574912\".\n",
      "No data found for target \"312.0957587425 39.00229352672\".\n",
      "No data found for target \"312.12232707219 39.00781417721\".\n",
      "No data found for target \"312.10596534923 39.02392969664\".\n",
      "No data found for target \"312.10977008365 39.02803837931\".\n",
      "No data found for target \"312.08496209172 39.01236125022\".\n",
      "No data found for target \"312.06858788807 39.00964413995\".\n"
     ]
    },
    {
     "name": "stdout",
     "output_type": "stream",
     "text": [
      "Saved:  CastroGinard2022/UBC1109/194065950.png\n"
     ]
    },
    {
     "name": "stderr",
     "output_type": "stream",
     "text": [
      "No data found for target \"312.10472285784 39.03033641349\".\n"
     ]
    },
    {
     "name": "stdout",
     "output_type": "stream",
     "text": [
      "Saved:  CastroGinard2022/UBC1109/194065952.png\n"
     ]
    },
    {
     "name": "stderr",
     "output_type": "stream",
     "text": [
      "No data found for target \"312.11033549899 39.04988917687\".\n",
      "No data found for target \"312.10778032956 39.03435531788\".\n",
      "No data found for target \"312.08489616071 39.04778582825\".\n",
      "No data found for target \"312.15499041671 39.03487348806\".\n",
      "No data found for target \"312.13261318469 39.07975125939\".\n",
      "No data found for target \"312.07037671923 39.06273009558\".\n",
      "No data found for target \"312.08347152642 39.08250164431\".\n",
      "No data found for target \"312.13172174883 39.10605621372\".\n",
      "No data found for target \"311.956092474 39.05064988656\".\n",
      "No data found for target \"312.28004761497 39.21310444774\".\n",
      "No data found for target \"312.07664492173 39.19440004225\".\n"
     ]
    },
    {
     "data": {
      "application/vnd.jupyter.widget-view+json": {
       "model_id": "ac9913e850ff44358f326a03f74d3d9a",
       "version_major": 2,
       "version_minor": 0
      },
      "text/plain": [
       "UBC1117: 0it [00:00, ?it/s]"
      ]
     },
     "metadata": {},
     "output_type": "display_data"
    },
    {
     "name": "stderr",
     "output_type": "stream",
     "text": [
      "No data found for target \"311.69874295524 46.64145465961\".\n",
      "No data found for target \"311.67615949261 46.70333478665\".\n",
      "No data found for target \"311.65310914148 46.72474695108\".\n",
      "No data found for target \"311.39002237405 46.58758163939\".\n",
      "No data found for target \"311.31681345869 46.65666747213\".\n",
      "No data found for target \"311.38855140106 46.68045116415\".\n",
      "No data found for target \"311.31896606722 46.70324295778\".\n",
      "No data found for target \"311.32261102447 46.70948432607\".\n",
      "No data found for target \"311.48248072893 46.64651982049\".\n",
      "No data found for target \"311.41679452406 46.68053953907\".\n",
      "No data found for target \"311.48898803761 46.72753965609\".\n"
     ]
    },
    {
     "name": "stdout",
     "output_type": "stream",
     "text": [
      "Saved:  CastroGinard2022/UBC1117/296892094.png\n",
      "Saved:  CastroGinard2022/UBC1117/296892094.png\n"
     ]
    },
    {
     "name": "stderr",
     "output_type": "stream",
     "text": [
      "No data found for target \"311.6018283494 46.76612061083\".\n",
      "No data found for target \"311.53058927098 46.73983486763\".\n",
      "No data found for target \"311.53385717567 46.75568284498\".\n",
      "No data found for target \"311.57982826426 46.7610224389\".\n",
      "No data found for target \"311.57562921897 46.79391966219\".\n",
      "No data found for target \"311.58502521927 46.81656923619\".\n",
      "No data found for target \"311.55235345761 46.81841790043\".\n",
      "No data found for target \"311.40125118184 46.70986498926\".\n",
      "No data found for target \"311.43644011359 46.7261315661\".\n",
      "No data found for target \"311.38486246795 46.73568409486\".\n",
      "No data found for target \"311.45429419547 46.75855268247\".\n"
     ]
    },
    {
     "name": "stdout",
     "output_type": "stream",
     "text": [
      "Saved:  CastroGinard2022/UBC1117/239389915.png\n",
      "Saved:  CastroGinard2022/UBC1117/239389921.png\n"
     ]
    },
    {
     "name": "stderr",
     "output_type": "stream",
     "text": [
      "No data found for target \"311.45780737502 46.76303540565\".\n",
      "No data found for target \"311.45603961588 46.76380216297\".\n",
      "No data found for target \"311.46744528624 46.77651513834\".\n"
     ]
    },
    {
     "name": "stdout",
     "output_type": "stream",
     "text": [
      "Saved:  CastroGinard2022/UBC1117/239389919.png\n",
      "Saved:  CastroGinard2022/UBC1117/239390021.png\n"
     ]
    },
    {
     "name": "stderr",
     "output_type": "stream",
     "text": [
      "No data found for target \"311.42053434538 46.77835766554\".\n",
      "No data found for target \"311.44632538425 46.7800027774\".\n",
      "No data found for target \"311.42491139726 46.78977735303\".\n",
      "No data found for target \"311.36113478167 46.76214641399\".\n",
      "No data found for target \"311.34957524375 46.77009576356\".\n",
      "No data found for target \"311.36249042608 46.77444158656\".\n",
      "No data found for target \"311.34075351851 46.79130151413\".\n",
      "No data found for target \"311.38647447631 46.80395127896\".\n",
      "No data found for target \"311.43278826784 46.81613909935\".\n",
      "No data found for target \"311.50500891473 46.78375037942\".\n",
      "No data found for target \"311.49550404948 46.78986795435\".\n",
      "No data found for target \"311.46852441399 46.8007504973\".\n",
      "No data found for target \"311.54086344713 46.82316345344\".\n",
      "No data found for target \"311.16619840363 46.78937919181\".\n",
      "No data found for target \"311.06027099118 46.80755533295\".\n",
      "No data found for target \"311.29716453797 46.79468818312\".\n",
      "No data found for target \"311.33446907249 46.81901524848\".\n",
      "No data found for target \"311.6946724969 46.81159171209\".\n",
      "No data found for target \"311.62477364935 46.83782569948\".\n",
      "No data found for target \"311.64759819374 46.98957487321\".\n"
     ]
    },
    {
     "data": {
      "application/vnd.jupyter.widget-view+json": {
       "model_id": "fd584103cb2e49d9abdd27017bf88b9f",
       "version_major": 2,
       "version_minor": 0
      },
      "text/plain": [
       "UBC1122: 0it [00:00, ?it/s]"
      ]
     },
     "metadata": {},
     "output_type": "display_data"
    },
    {
     "name": "stderr",
     "output_type": "stream",
     "text": [
      "No data found for target \"312.96423765344 47.63308049499\".\n",
      "No data found for target \"312.9837461097 47.65746764096\".\n",
      "No data found for target \"312.98228912769 47.67524306356\".\n",
      "No data found for target \"312.99115904253 47.6907776097\".\n",
      "No data found for target \"313.03862952471 47.74566326028\".\n",
      "No data found for target \"313.03714302195 47.7684855058\".\n",
      "No data found for target \"313.16055372229 47.81314343442\".\n",
      "No data found for target \"312.78270061851 47.60084881876\".\n",
      "No data found for target \"312.84449280849 47.63165945276\".\n",
      "No data found for target \"312.75890280608 47.68052792381\".\n",
      "No data found for target \"312.79032715807 47.72193802746\".\n",
      "No data found for target \"312.92776833282 47.67722283374\".\n",
      "No data found for target \"312.88464914032 47.71467596584\".\n"
     ]
    },
    {
     "name": "stdout",
     "output_type": "stream",
     "text": [
      "Saved:  CastroGinard2022/UBC1122/276140371.png\n"
     ]
    },
    {
     "name": "stderr",
     "output_type": "stream",
     "text": [
      "No data found for target \"312.94404996215 47.77011989996\".\n",
      "No data found for target \"312.8746037481 47.73472240873\".\n",
      "No data found for target \"312.88929362548 47.76282979483\".\n"
     ]
    },
    {
     "name": "stdout",
     "output_type": "stream",
     "text": [
      "Saved:  CastroGinard2022/UBC1122/276140569.png\n"
     ]
    },
    {
     "name": "stderr",
     "output_type": "stream",
     "text": [
      "No data found for target \"312.85013016266 47.77252613667\".\n",
      "No data found for target \"312.8962307006 47.77593882788\".\n",
      "No data found for target \"312.90945809101 47.79923420398\".\n",
      "No data found for target \"312.90142692779 47.80434393732\".\n",
      "No data found for target \"312.71229652734 47.67951774474\".\n",
      "No data found for target \"312.77617859478 47.7347856796\".\n",
      "No data found for target \"312.7896087347 47.75298674921\".\n",
      "No data found for target \"312.74760779658 47.74260571253\".\n",
      "No data found for target \"312.76565677913 47.76931792095\".\n",
      "No data found for target \"312.65978026586 47.70718602486\".\n",
      "No data found for target \"312.82292993819 47.77047586275\".\n",
      "No data found for target \"312.84067232696 47.80643881569\".\n",
      "No data found for target \"312.83086983312 47.80405785793\".\n"
     ]
    },
    {
     "name": "stdout",
     "output_type": "stream",
     "text": [
      "Saved:  CastroGinard2022/UBC1122/276141015.png\n"
     ]
    },
    {
     "name": "stderr",
     "output_type": "stream",
     "text": [
      "No data found for target \"312.80049691012 47.85524687662\".\n",
      "No data found for target \"312.81588054187 47.86817814682\".\n",
      "No data found for target \"313.03703366071 47.87489442769\".\n",
      "No data found for target \"312.98358501006 47.83316715456\".\n",
      "No data found for target \"312.97459306914 47.83584539404\".\n",
      "No data found for target \"312.99212010405 47.85178773596\".\n"
     ]
    },
    {
     "name": "stdout",
     "output_type": "stream",
     "text": [
      "Saved:  CastroGinard2022/UBC1122/366163641.png\n"
     ]
    },
    {
     "name": "stderr",
     "output_type": "stream",
     "text": [
      "No data found for target \"313.00981947687 47.87389483174\".\n",
      "No data found for target \"312.97045830034 47.89281416957\".\n",
      "No data found for target \"313.06307507726 47.94961550678\".\n"
     ]
    },
    {
     "name": "stdout",
     "output_type": "stream",
     "text": [
      "Saved:  CastroGinard2022/UBC1122/356662229.png\n"
     ]
    },
    {
     "name": "stderr",
     "output_type": "stream",
     "text": [
      "No data found for target \"313.06566869552 47.98312556076\".\n",
      "No data found for target \"313.08983836945 48.01603499437\".\n",
      "No data found for target \"312.88787703183 47.87291603459\".\n",
      "No data found for target \"312.88224959499 47.92642080458\".\n",
      "No data found for target \"312.94368213202 47.90988550369\".\n",
      "No data found for target \"312.97561489824 47.93164065616\".\n",
      "No data found for target \"313.02394172415 48.016266937\".\n",
      "No data found for target \"319.618973053 60.0630853979\".\n"
     ]
    },
    {
     "data": {
      "application/vnd.jupyter.widget-view+json": {
       "model_id": "440394bea47347c980ce3985efd488e7",
       "version_major": 2,
       "version_minor": 0
      },
      "text/plain": [
       "UBC1165: 0it [00:00, ?it/s]"
      ]
     },
     "metadata": {},
     "output_type": "display_data"
    },
    {
     "name": "stderr",
     "output_type": "stream",
     "text": [
      "No data found for target \"336.74773724206 56.12976592795\".\n"
     ]
    },
    {
     "name": "stdout",
     "output_type": "stream",
     "text": [
      "Saved:  CastroGinard2022/UBC1165/414586406.png\n"
     ]
    },
    {
     "name": "stderr",
     "output_type": "stream",
     "text": [
      "No data found for target \"336.8210168435 56.25307359271\".\n"
     ]
    },
    {
     "name": "stdout",
     "output_type": "stream",
     "text": [
      "Saved:  CastroGinard2022/UBC1165/414018497.png\n"
     ]
    },
    {
     "name": "stderr",
     "output_type": "stream",
     "text": [
      "No data found for target \"336.77238781474 56.24358976107\".\n"
     ]
    },
    {
     "name": "stdout",
     "output_type": "stream",
     "text": [
      "Saved:  CastroGinard2022/UBC1165/413446243.png\n"
     ]
    },
    {
     "name": "stderr",
     "output_type": "stream",
     "text": [
      "No data found for target \"336.69213428247 56.23421644322\".\n",
      "No data found for target \"336.57112542407 56.25082759452\".\n",
      "No data found for target \"336.67362467038 56.30676803363\".\n"
     ]
    },
    {
     "name": "stdout",
     "output_type": "stream",
     "text": [
      "Saved:  CastroGinard2022/UBC1165/414018540.png\n"
     ]
    },
    {
     "name": "stderr",
     "output_type": "stream",
     "text": [
      "No data found for target \"336.45620790766 56.26922024065\".\n",
      "No data found for target \"336.5331813713 56.30360487746\".\n",
      "No data found for target \"336.6227298516 56.33662770664\".\n"
     ]
    },
    {
     "name": "stdout",
     "output_type": "stream",
     "text": [
      "Saved:  CastroGinard2022/UBC1165/413454216.png\n",
      "Saved:  CastroGinard2022/UBC1165/413454216.png\n"
     ]
    },
    {
     "name": "stderr",
     "output_type": "stream",
     "text": [
      "No data found for target \"336.64393325196 56.41039635878\".\n"
     ]
    },
    {
     "name": "stdout",
     "output_type": "stream",
     "text": [
      "Saved:  CastroGinard2022/UBC1165/413454265.png\n"
     ]
    },
    {
     "name": "stderr",
     "output_type": "stream",
     "text": [
      "No data found for target \"336.60966541382 56.42658711436\".\n",
      "No data found for target \"336.6295452692 56.43645414904\".\n",
      "No data found for target \"336.7941955049 56.3349772514\".\n",
      "No data found for target \"336.73348968132 56.34407344192\".\n",
      "No data found for target \"336.78052509857 56.37675660559\".\n"
     ]
    },
    {
     "name": "stdout",
     "output_type": "stream",
     "text": [
      "Saved:  CastroGinard2022/UBC1165/414026256.png\n"
     ]
    },
    {
     "name": "stderr",
     "output_type": "stream",
     "text": [
      "No data found for target \"336.72294696224 56.39021217582\".\n"
     ]
    },
    {
     "name": "stdout",
     "output_type": "stream",
     "text": [
      "Saved:  CastroGinard2022/UBC1165/414018589.png\n"
     ]
    },
    {
     "name": "stderr",
     "output_type": "stream",
     "text": [
      "No data found for target \"336.65685035188 56.44601090191\".\n",
      "No data found for target \"336.83784463288 56.5052115396\".\n",
      "No data found for target \"336.31498351886 56.34457795433\".\n"
     ]
    },
    {
     "name": "stdout",
     "output_type": "stream",
     "text": [
      "Saved:  CastroGinard2022/UBC1165/428180254.png\n"
     ]
    },
    {
     "name": "stderr",
     "output_type": "stream",
     "text": [
      "No data found for target \"336.39041399947 56.38495818469\".\n",
      "No data found for target \"336.35007989145 56.40098644531\".\n",
      "No data found for target \"336.47223159826 56.39357043261\".\n",
      "No data found for target \"336.49986412159 56.42320181944\".\n",
      "No data found for target \"336.60183196753 56.43378183889\".\n",
      "No data found for target \"336.61405770109 56.44172179595\".\n",
      "No data found for target \"336.52914306653 56.42672550782\".\n",
      "No data found for target \"336.47221104869 56.45980698317\".\n",
      "No data found for target \"336.39894144563 56.42722886353\".\n",
      "No data found for target \"336.49897257964 56.49316313808\".\n",
      "No data found for target \"336.34792788669 56.45752846897\".\n",
      "No data found for target \"336.46082487898 56.51025554302\".\n",
      "No data found for target \"336.4071084819 56.508022227\".\n",
      "No data found for target \"336.52249653695 56.53138777694\".\n"
     ]
    },
    {
     "name": "stdout",
     "output_type": "stream",
     "text": [
      "Saved:  CastroGinard2022/UBC1165/413454343.png\n"
     ]
    },
    {
     "name": "stderr",
     "output_type": "stream",
     "text": [
      "No data found for target \"336.43720821207 56.54258716339\".\n",
      "No data found for target \"336.43218462767 56.54657450158\".\n",
      "No data found for target \"336.40571000722 56.57735162593\".\n",
      "No data found for target \"336.70315296331 56.50928913385\".\n",
      "No data found for target \"336.67753856021 56.51342621959\".\n",
      "No data found for target \"336.66324891897 56.51467727153\".\n",
      "No data found for target \"336.74317808222 56.51279624342\".\n",
      "No data found for target \"336.59703388933 56.51510151535\".\n",
      "No data found for target \"336.56941294828 56.53589820424\".\n",
      "No data found for target \"336.78324769551 56.63618332866\".\n",
      "No data found for target \"336.64169584742 56.59777841116\".\n",
      "No data found for target \"336.55139790007 56.65847291515\".\n",
      "No data found for target \"336.64522899708 56.7103345632\".\n",
      "No data found for target \"336.67171518386 56.71132227551\".\n",
      "No data found for target \"336.73869545492 56.67454222551\".\n",
      "No data found for target \"336.21887973202 56.5171553927\".\n",
      "No data found for target \"336.20421970317 56.54125250019\".\n",
      "No data found for target \"336.24799738509 56.58503448801\".\n",
      "No data found for target \"336.44963403371 56.62245663373\".\n",
      "No data found for target \"336.46944896329 56.6715288052\".\n",
      "No data found for target \"336.31783034596 56.64850809634\".\n",
      "No data found for target \"336.40278942404 56.66198399292\".\n",
      "No data found for target \"336.41458790715 56.67553213988\".\n",
      "No data found for target \"336.18567404372 56.63594606959\".\n",
      "No data found for target \"336.24953881446 56.68810941996\".\n",
      "No data found for target \"336.36776568436 56.71161225466\".\n",
      "No data found for target \"336.36387154799 56.71602299123\".\n",
      "No data found for target \"336.39959315711 56.71714892859\".\n",
      "No data found for target \"336.38793149811 56.73649924955\".\n",
      "No data found for target \"336.32891566108 56.7262860393\".\n",
      "No data found for target \"336.34422088662 56.73797873542\".\n",
      "No data found for target \"336.32454656452 56.76273032181\".\n",
      "No data found for target \"336.50500098433 56.6613707196\".\n",
      "No data found for target \"336.53692083765 56.69262321749\".\n",
      "No data found for target \"336.57863503191 56.70565907596\".\n",
      "No data found for target \"336.4453818193 56.74546417361\".\n",
      "No data found for target \"336.38968446638 56.80974581782\".\n",
      "No data found for target \"336.41304101912 56.83566785834\".\n",
      "No data found for target \"336.38087924374 56.85500309419\".\n"
     ]
    },
    {
     "data": {
      "application/vnd.jupyter.widget-view+json": {
       "model_id": "9e70adb66f104f27b709d4e1ea14812a",
       "version_major": 2,
       "version_minor": 0
      },
      "text/plain": [
       "UBC1166: 0it [00:00, ?it/s]"
      ]
     },
     "metadata": {},
     "output_type": "display_data"
    },
    {
     "name": "stderr",
     "output_type": "stream",
     "text": [
      "No data found for target \"339.0230312735 56.09883858785\".\n",
      "No data found for target \"339.14773585909 56.13038919387\".\n",
      "No data found for target \"338.80295437687 56.04196891119\".\n",
      "No data found for target \"338.92302993572 56.12452662625\".\n",
      "No data found for target \"338.89388783615 56.14332560006\".\n",
      "No data found for target \"338.92115243736 56.1870761841\".\n",
      "No data found for target \"338.91680738886 56.20463062857\".\n",
      "No data found for target \"338.90500587958 56.19106852151\".\n",
      "No data found for target \"338.9258897507 56.19621594318\".\n",
      "No data found for target \"338.92610064162 56.2045940459\".\n"
     ]
    },
    {
     "name": "stdout",
     "output_type": "stream",
     "text": [
      "Saved:  CastroGinard2022/UBC1166/64947535.png\n",
      "Saved:  CastroGinard2022/UBC1166/64947535.png\n"
     ]
    },
    {
     "name": "stderr",
     "output_type": "stream",
     "text": [
      "No data found for target \"338.90454253974 56.20769266951\".\n",
      "No data found for target \"338.90820197785 56.20346490856\".\n",
      "No data found for target \"339.04622447611 56.18438862706\".\n",
      "No data found for target \"338.87456393726 56.2136036859\".\n"
     ]
    },
    {
     "name": "stdout",
     "output_type": "stream",
     "text": [
      "Saved:  CastroGinard2022/UBC1166/64832327.png\n"
     ]
    },
    {
     "name": "stderr",
     "output_type": "stream",
     "text": [
      "No data found for target \"338.79905880532 56.25366184191\".\n",
      "No data found for target \"338.82468903059 56.25837264028\".\n",
      "No data found for target \"339.07587967913 56.30736857186\".\n"
     ]
    },
    {
     "name": "stdout",
     "output_type": "stream",
     "text": [
      "Saved:  CastroGinard2022/UBC1166/64655357.png\n"
     ]
    },
    {
     "name": "stderr",
     "output_type": "stream",
     "text": [
      "No data found for target \"338.45253484804 56.24133726058\".\n",
      "No data found for target \"338.73586610115 56.27378980549\".\n"
     ]
    },
    {
     "name": "stdout",
     "output_type": "stream",
     "text": [
      "Saved:  CastroGinard2022/UBC1166/64831836.png\n"
     ]
    },
    {
     "name": "stderr",
     "output_type": "stream",
     "text": [
      "No data found for target \"339.54204540556 57.15966239968\".\n",
      "No data found for target \"340.65896753732 58.13055674738\".\n"
     ]
    },
    {
     "data": {
      "application/vnd.jupyter.widget-view+json": {
       "model_id": "6c9904bd88054ceead78bd49d2e2cc84",
       "version_major": 2,
       "version_minor": 0
      },
      "text/plain": [
       "UBC1177: 0it [00:00, ?it/s]"
      ]
     },
     "metadata": {},
     "output_type": "display_data"
    },
    {
     "name": "stdout",
     "output_type": "stream",
     "text": [
      "Saved:  CastroGinard2022/UBC1177/268939223.png\n"
     ]
    },
    {
     "name": "stderr",
     "output_type": "stream",
     "text": [
      "No data found for target \"349.3532663642 60.38690110906\".\n",
      "No data found for target \"349.41716495656 60.44344954527\".\n",
      "No data found for target \"349.33760574544 60.42876997074\".\n",
      "No data found for target \"349.5119735485 60.48495238396\".\n",
      "No data found for target \"349.50932417809 60.50670677616\".\n",
      "No data found for target \"348.96608879325 60.33733095309\".\n",
      "No data found for target \"348.87390222402 60.35175326944\".\n",
      "No data found for target \"348.98052842095 60.3975228474\".\n",
      "No data found for target \"349.11672320152 60.36028791398\".\n",
      "No data found for target \"349.16141492441 60.3994986095\".\n",
      "No data found for target \"349.17632336597 60.42248714092\".\n",
      "No data found for target \"349.27715578086 60.45422919477\".\n",
      "No data found for target \"349.16473260398 60.43991108604\".\n",
      "No data found for target \"349.0943787621 60.45416322233\".\n"
     ]
    },
    {
     "name": "stdout",
     "output_type": "stream",
     "text": [
      "Saved:  CastroGinard2022/UBC1177/268939671.png\n",
      "Saved:  CastroGinard2022/UBC1177/268939690.png\n",
      "Saved:  CastroGinard2022/UBC1177/268939975.png\n"
     ]
    },
    {
     "name": "stderr",
     "output_type": "stream",
     "text": [
      "No data found for target \"348.86597510653 60.47104986795\".\n",
      "No data found for target \"348.97422360384 60.48966759487\".\n",
      "No data found for target \"348.99743116894 60.49284055782\".\n"
     ]
    },
    {
     "name": "stdout",
     "output_type": "stream",
     "text": [
      "Saved:  CastroGinard2022/UBC1177/268939734.png\n"
     ]
    },
    {
     "name": "stderr",
     "output_type": "stream",
     "text": [
      "No data found for target \"349.09134062166 60.46756748447\".\n",
      "No data found for target \"349.06905028517 60.49692865507\".\n",
      "No data found for target \"349.05434553534 60.51012755018\".\n",
      "No data found for target \"349.01108842946 60.51606976989\".\n",
      "No data found for target \"349.38992130196 60.46674300435\".\n",
      "No data found for target \"349.38217632145 60.48906075023\".\n",
      "No data found for target \"349.33951769334 60.51821759223\".\n"
     ]
    },
    {
     "name": "stdout",
     "output_type": "stream",
     "text": [
      "Saved:  CastroGinard2022/UBC1177/269113629.png\n"
     ]
    },
    {
     "name": "stderr",
     "output_type": "stream",
     "text": [
      "No data found for target \"348.91543892316 60.57768752126\".\n",
      "No data found for target \"348.92752972964 60.58624688409\".\n",
      "No data found for target \"349.14425210018 60.585928617\".\n",
      "No data found for target \"349.18155438704 60.62563513757\".\n",
      "No data found for target \"349.01136300079 60.68595819175\".\n",
      "No data found for target \"348.9871133983 60.6947935248\".\n",
      "No data found for target \"353.01331313918 61.16288444882\".\n",
      "No data found for target \"352.75833133097 61.77352761315\".\n"
     ]
    },
    {
     "data": {
      "application/vnd.jupyter.widget-view+json": {
       "model_id": "498a1d4d1cdf4186ba21773f7d7d092e",
       "version_major": 2,
       "version_minor": 0
      },
      "text/plain": [
       "UBC1201: 0it [00:00, ?it/s]"
      ]
     },
     "metadata": {},
     "output_type": "display_data"
    },
    {
     "name": "stderr",
     "output_type": "stream",
     "text": [
      "No data found for target \"4.31703990232 63.36211720938\".\n",
      "No data found for target \"4.07665263546 63.37604947769\".\n",
      "No data found for target \"4.19446955095 63.47665662037\".\n",
      "No data found for target \"3.85963748997 63.42248359693\".\n",
      "No data found for target \"3.82970595725 63.45240652904\".\n",
      "No data found for target \"3.85764052004 63.48112434091\".\n",
      "No data found for target \"3.77196546397 63.5020463753\".\n",
      "No data found for target \"3.79652420217 63.51465213331\".\n",
      "No data found for target \"4.00675444432 63.49817860424\".\n",
      "No data found for target \"3.99576315315 63.51756812609\".\n",
      "No data found for target \"4.03341226544 63.52846982976\".\n",
      "No data found for target \"4.04692487467 63.5294552241\".\n",
      "No data found for target \"3.84396568525 63.5564391393\".\n",
      "No data found for target \"3.80472140314 63.54682067315\".\n"
     ]
    },
    {
     "name": "stdout",
     "output_type": "stream",
     "text": [
      "Saved:  CastroGinard2022/UBC1201/83807611.png\n"
     ]
    },
    {
     "name": "stderr",
     "output_type": "stream",
     "text": [
      "No data found for target \"3.76948407922 63.54137183778\".\n",
      "No data found for target \"3.79146891227 63.53463020728\".\n"
     ]
    },
    {
     "name": "stdout",
     "output_type": "stream",
     "text": [
      "Saved:  CastroGinard2022/UBC1201/83807518.png\n"
     ]
    },
    {
     "name": "stderr",
     "output_type": "stream",
     "text": [
      "No data found for target \"3.81080012075 63.57085674282\".\n",
      "No data found for target \"3.76803288865 63.56722143837\".\n",
      "No data found for target \"3.88447243281 63.57007972865\".\n",
      "No data found for target \"3.88728578817 63.59831763811\".\n",
      "No data found for target \"3.83547319336 63.58320234835\".\n",
      "No data found for target \"3.7910655489 63.59744538024\".\n",
      "No data found for target \"4.35263252587 63.49675487113\".\n",
      "No data found for target \"4.21103648662 63.56293717293\".\n",
      "No data found for target \"4.22334959911 63.56114500459\".\n",
      "No data found for target \"4.23684548873 63.57117868749\".\n",
      "No data found for target \"4.09135865585 63.59498951385\".\n",
      "No data found for target \"4.12237865167 63.66736006421\".\n",
      "No data found for target \"3.84563165459 63.65194328183\".\n",
      "No data found for target \"4.06530185156 63.67604445524\".\n"
     ]
    },
    {
     "name": "stdout",
     "output_type": "stream",
     "text": [
      "Saved:  CastroGinard2022/UBC1201/83806896.png\n",
      "Saved:  CastroGinard2022/UBC1201/83806802.png\n"
     ]
    },
    {
     "name": "stderr",
     "output_type": "stream",
     "text": [
      "No data found for target \"3.90972231035 63.75688484041\".\n",
      "No data found for target \"3.67801859281 63.45557939815\".\n",
      "No data found for target \"3.71032106643 63.46115697783\".\n"
     ]
    },
    {
     "name": "stdout",
     "output_type": "stream",
     "text": [
      "Saved:  CastroGinard2022/UBC1201/83807542.png\n",
      "Saved:  CastroGinard2022/UBC1201/83807598.png\n"
     ]
    },
    {
     "name": "stderr",
     "output_type": "stream",
     "text": [
      "No data found for target \"3.75685252769 63.55407330566\".\n",
      "No data found for target \"3.76054981194 63.56630871325\".\n",
      "No data found for target \"3.55306163338 63.66890697586\".\n",
      "No data found for target \"3.73455381158 63.76247345555\".\n",
      "No data found for target \"4.21749347935 63.71698841974\".\n",
      "No data found for target \"3.99033076901 63.86057593788\".\n",
      "No data found for target \"5.03112176455 63.58226225022\".\n",
      "No data found for target \"12.68685872541 63.51569718343\".\n"
     ]
    },
    {
     "data": {
      "application/vnd.jupyter.widget-view+json": {
       "model_id": "afec9facb9c34956b19859dda96b85ac",
       "version_major": 2,
       "version_minor": 0
      },
      "text/plain": [
       "UBC1209: 0it [00:00, ?it/s]"
      ]
     },
     "metadata": {},
     "output_type": "display_data"
    },
    {
     "name": "stderr",
     "output_type": "stream",
     "text": [
      "No data found for target \"12.8790878994 64.18081470427\".\n",
      "No data found for target \"13.60498010746 64.32044054467\".\n",
      "No data found for target \"13.37104353907 64.22900403205\".\n",
      "No data found for target \"13.1199308678 64.1996301555\".\n",
      "No data found for target \"13.11487906905 64.23118867748\".\n",
      "No data found for target \"13.10573204718 64.26069205328\".\n",
      "No data found for target \"13.15736853612 64.27641062956\".\n",
      "No data found for target \"13.21248080463 64.28785200025\".\n",
      "No data found for target \"13.01311506252 64.29172708846\".\n",
      "No data found for target \"12.95828251844 64.36346699496\".\n",
      "No data found for target \"13.42149780186 64.29845048184\".\n",
      "No data found for target \"13.30870355236 64.27478798766\".\n"
     ]
    },
    {
     "name": "stdout",
     "output_type": "stream",
     "text": [
      "Saved:  CastroGinard2022/UBC1209/283241956.png\n"
     ]
    },
    {
     "name": "stderr",
     "output_type": "stream",
     "text": [
      "No data found for target \"13.51647604179 64.34262233315\".\n",
      "No data found for target \"13.30360641494 64.38139079447\".\n",
      "No data found for target \"13.1587266365 64.32739177596\".\n",
      "No data found for target \"13.25234797325 64.36202342685\".\n",
      "No data found for target \"13.18679676401 64.38809472933\".\n",
      "No data found for target \"13.14430981435 64.3976719447\".\n",
      "No data found for target \"13.0224085419 64.41109945502\".\n",
      "No data found for target \"13.11111203212 64.41190421189\".\n",
      "No data found for target \"13.06904660188 64.43974475716\".\n",
      "No data found for target \"13.26630987121 64.39618809252\".\n",
      "No data found for target \"13.18745827132 64.44648475546\".\n",
      "No data found for target \"13.21264966943 64.45930775761\".\n",
      "No data found for target \"13.17011730758 64.45646831267\".\n",
      "No data found for target \"13.21076670536 64.5039457996\".\n",
      "No data found for target \"13.08485098396 64.49238327398\".\n",
      "No data found for target \"13.11008783286 64.50123624544\".\n",
      "No data found for target \"13.16999441723 64.51215903473\".\n",
      "No data found for target \"13.08895956836 64.51768323165\".\n",
      "No data found for target \"13.77242283631 64.40316234869\".\n",
      "No data found for target \"13.7793870212 64.53798411781\".\n",
      "No data found for target \"13.88130072153 64.57997165388\".\n",
      "No data found for target \"13.60353959162 64.48931139677\".\n",
      "No data found for target \"13.52377593938 64.47538536507\".\n",
      "No data found for target \"13.52206121018 64.50347654747\".\n",
      "No data found for target \"13.4416859448 64.44151250531\".\n",
      "No data found for target \"13.36710754574 64.50944124044\".\n",
      "No data found for target \"13.48941418686 64.51488269569\".\n",
      "No data found for target \"13.38586175118 64.53818831745\".\n"
     ]
    },
    {
     "name": "stdout",
     "output_type": "stream",
     "text": [
      "Saved:  CastroGinard2022/UBC1209/283250740.png\n"
     ]
    },
    {
     "name": "stderr",
     "output_type": "stream",
     "text": [
      "No data found for target \"13.63031455158 64.58572261814\".\n",
      "No data found for target \"13.40979635658 64.60630949444\".\n"
     ]
    },
    {
     "name": "stdout",
     "output_type": "stream",
     "text": [
      "Saved:  CastroGinard2022/UBC1209/283242701.png\n"
     ]
    },
    {
     "name": "stderr",
     "output_type": "stream",
     "text": [
      "No data found for target \"13.50766736701 64.60386869714\".\n",
      "No data found for target \"13.45457288907 64.64665198462\".\n",
      "No data found for target \"13.47112651866 64.64605352062\".\n",
      "No data found for target \"13.27830199505 64.51263320929\".\n",
      "No data found for target \"13.32469135393 64.52450723067\".\n",
      "No data found for target \"13.18729529437 64.5343065061\".\n",
      "No data found for target \"13.20333642989 64.54238606181\".\n",
      "No data found for target \"13.21728141959 64.59096809836\".\n",
      "No data found for target \"13.24916491878 64.59920885386\".\n",
      "No data found for target \"13.15835328949 64.54654660468\".\n",
      "No data found for target \"13.13917318502 64.54951095157\".\n",
      "No data found for target \"13.06043494308 64.57359178324\".\n",
      "No data found for target \"13.05257488733 64.58723786555\".\n",
      "No data found for target \"13.12665388664 64.59997767254\".\n",
      "No data found for target \"13.20000230497 64.59551166052\".\n",
      "No data found for target \"13.19222441663 64.60355338181\".\n",
      "No data found for target \"13.20578620561 64.59473914354\".\n"
     ]
    },
    {
     "name": "stdout",
     "output_type": "stream",
     "text": [
      "Saved:  CastroGinard2022/UBC1209/285594725.png\n"
     ]
    },
    {
     "name": "stderr",
     "output_type": "stream",
     "text": [
      "No data found for target \"13.16392485294 64.60835279228\".\n",
      "No data found for target \"13.15622415469 64.6089074518\".\n",
      "No data found for target \"13.15956969607 64.63043962056\".\n",
      "No data found for target \"13.17046418578 64.62823191548\".\n",
      "No data found for target \"13.11783048504 64.62778692417\".\n",
      "No data found for target \"13.10622613287 64.63130349522\".\n",
      "No data found for target \"13.12700133309 64.64139130215\".\n",
      "No data found for target \"13.12342035672 64.64077589189\".\n",
      "No data found for target \"13.13806555855 64.64905420173\".\n",
      "No data found for target \"13.32682351638 64.60059743284\".\n",
      "No data found for target \"13.27880355773 64.62773533623\".\n",
      "No data found for target \"13.2903047516 64.61530477539\".\n",
      "No data found for target \"13.25090634906 64.63508475742\".\n",
      "No data found for target \"13.30370187238 64.6318058628\".\n",
      "No data found for target \"13.29730484468 64.64870993063\".\n",
      "No data found for target \"13.38845695963 64.65228972989\".\n",
      "No data found for target \"13.37991423819 64.661141602\".\n",
      "No data found for target \"13.35325580566 64.68800841831\".\n",
      "No data found for target \"13.23271276676 64.63571775176\".\n",
      "No data found for target \"13.19278502905 64.65171033871\".\n",
      "No data found for target \"13.14664912636 64.67025287956\".\n",
      "No data found for target \"13.1547839227 64.66248972509\".\n",
      "No data found for target \"13.12247861988 64.68857207238\".\n"
     ]
    },
    {
     "name": "stdout",
     "output_type": "stream",
     "text": [
      "Saved:  CastroGinard2022/UBC1209/285596006.png\n"
     ]
    },
    {
     "name": "stderr",
     "output_type": "stream",
     "text": [
      "No data found for target \"13.24080284365 64.71959611988\".\n",
      "No data found for target \"13.15396241328 64.74267339951\".\n",
      "No data found for target \"13.64983059357 64.62785957973\".\n",
      "No data found for target \"13.61900843204 64.63387353724\".\n",
      "No data found for target \"13.67478424992 64.66301967422\".\n",
      "No data found for target \"13.65343243595 64.66539647663\".\n",
      "No data found for target \"13.62098915015 64.6662112168\".\n",
      "No data found for target \"13.61037013582 64.73370623747\".\n"
     ]
    },
    {
     "name": "stdout",
     "output_type": "stream",
     "text": [
      "Saved:  CastroGinard2022/UBC1209/283250074.png\n"
     ]
    },
    {
     "name": "stderr",
     "output_type": "stream",
     "text": [
      "No data found for target \"13.42575326862 64.70619687225\".\n"
     ]
    },
    {
     "name": "stdout",
     "output_type": "stream",
     "text": [
      "Saved:  CastroGinard2022/UBC1209/283243200.png\n",
      "Saved:  CastroGinard2022/UBC1209/285596354.png\n"
     ]
    },
    {
     "name": "stderr",
     "output_type": "stream",
     "text": [
      "No data found for target \"13.21079868361 64.77259444582\".\n",
      "No data found for target \"13.50376140986 64.89676288927\".\n",
      "No data found for target \"13.26133476444 64.98840635885\".\n",
      "No data found for target \"12.64774788506 64.28479070488\".\n",
      "No data found for target \"12.7357110414 64.29732279314\".\n",
      "No data found for target \"12.84805340604 64.40100627004\".\n",
      "No data found for target \"12.67860885644 64.4435271291\".\n",
      "No data found for target \"12.52698342671 64.3727700683\".\n",
      "No data found for target \"12.57616710476 64.43321345342\".\n",
      "No data found for target \"12.53823294037 64.45153100284\".\n",
      "No data found for target \"12.66382722786 64.47729270387\".\n",
      "No data found for target \"12.5652286563 64.46560318372\".\n",
      "No data found for target \"12.53497545489 64.51707306044\".\n",
      "No data found for target \"12.85955490276 64.51772981808\".\n",
      "No data found for target \"12.72040828507 64.51299290388\".\n"
     ]
    },
    {
     "name": "stdout",
     "output_type": "stream",
     "text": [
      "Saved:  CastroGinard2022/UBC1209/285339841.png\n",
      "Saved:  CastroGinard2022/UBC1209/285439225.png\n"
     ]
    },
    {
     "name": "stderr",
     "output_type": "stream",
     "text": [
      "No data found for target \"13.00631617246 64.52736659376\".\n",
      "No data found for target \"13.01111284007 64.52135459378\".\n",
      "No data found for target \"12.98122323028 64.53868215415\".\n",
      "No data found for target \"12.88903647003 64.55732781467\".\n",
      "No data found for target \"12.90430827649 64.55512754431\".\n",
      "No data found for target \"12.90722665926 64.56532440304\".\n"
     ]
    },
    {
     "name": "stdout",
     "output_type": "stream",
     "text": [
      "Saved:  CastroGinard2022/UBC1209/285438909.png\n"
     ]
    },
    {
     "name": "stderr",
     "output_type": "stream",
     "text": [
      "No data found for target \"12.66477949068 64.48218446228\".\n",
      "No data found for target \"12.59879901316 64.53258523999\".\n"
     ]
    },
    {
     "name": "stdout",
     "output_type": "stream",
     "text": [
      "Saved:  CastroGinard2022/UBC1209/285340039.png\n"
     ]
    },
    {
     "name": "stderr",
     "output_type": "stream",
     "text": [
      "No data found for target \"12.51875811144 64.53730085066\".\n",
      "No data found for target \"12.49712839318 64.57763139997\".\n",
      "No data found for target \"12.71028219144 64.58341979329\".\n",
      "No data found for target \"12.67086597226 64.61240643653\".\n"
     ]
    },
    {
     "name": "stdout",
     "output_type": "stream",
     "text": [
      "Saved:  CastroGinard2022/UBC1209/285340110.png\n"
     ]
    },
    {
     "name": "stderr",
     "output_type": "stream",
     "text": [
      "No data found for target \"12.59992891275 64.63717022917\".\n",
      "No data found for target \"12.67390901728 64.67768104541\".\n",
      "No data found for target \"12.53323577945 64.64831183103\".\n",
      "No data found for target \"12.57283996598 64.65077827011\".\n",
      "No data found for target \"12.58121595848 64.66508454699\".\n",
      "No data found for target \"12.5579436122 64.66683823017\".\n",
      "No data found for target \"12.51638122057 64.67059447262\".\n",
      "No data found for target \"12.49745107669 64.69328450521\".\n",
      "No data found for target \"12.53585008521 64.69992305571\".\n",
      "No data found for target \"12.13417616145 64.47032877698\".\n",
      "No data found for target \"12.24863871253 64.51661344452\".\n",
      "No data found for target \"12.28819855859 64.53430551969\".\n",
      "No data found for target \"12.20806200843 64.56181542674\".\n",
      "No data found for target \"12.17969510088 64.59710102567\".\n",
      "No data found for target \"12.36844405748 64.65907687542\".\n",
      "No data found for target \"12.35877248291 64.68045867627\".\n",
      "No data found for target \"12.44627340022 64.7293509043\".\n",
      "No data found for target \"12.40637008049 64.75123580328\".\n",
      "No data found for target \"12.23777413327 64.75908284132\".\n",
      "No data found for target \"12.28883463667 64.79458606066\".\n",
      "No data found for target \"13.02283103666 64.59406435904\".\n",
      "No data found for target \"13.03036252753 64.57799853917\".\n",
      "No data found for target \"13.00545713257 64.6008266538\".\n",
      "No data found for target \"13.0515082629 64.60666843258\".\n",
      "No data found for target \"13.04542584611 64.60530723618\".\n",
      "No data found for target \"13.02970837419 64.63071717371\".\n",
      "No data found for target \"12.93548392293 64.62636644988\".\n",
      "No data found for target \"12.96625493679 64.64579982289\".\n",
      "No data found for target \"13.0607930901 64.65831351279\".\n",
      "No data found for target \"13.07252483041 64.67054669364\".\n",
      "No data found for target \"13.03120367997 64.67590234635\".\n"
     ]
    },
    {
     "name": "stdout",
     "output_type": "stream",
     "text": [
      "Saved:  CastroGinard2022/UBC1209/285595803.png\n"
     ]
    },
    {
     "name": "stderr",
     "output_type": "stream",
     "text": [
      "No data found for target \"13.05004838323 64.71799931857\".\n",
      "No data found for target \"12.98586019314 64.72867710942\".\n",
      "No data found for target \"13.03755124329 64.76367488015\".\n",
      "No data found for target \"12.90277003561 64.73450597047\".\n",
      "No data found for target \"12.95810102013 64.75354080188\".\n",
      "No data found for target \"12.92826947367 64.76997496347\".\n",
      "No data found for target \"12.95023765933 64.80636440027\".\n",
      "No data found for target \"12.6772304667 64.7366423708\".\n",
      "No data found for target \"12.6727268631 64.72956224948\".\n",
      "No data found for target \"12.64801944822 64.77871367849\".\n",
      "No data found for target \"12.78556230961 64.77658437531\".\n",
      "No data found for target \"12.7869609194 64.81884733072\".\n",
      "No data found for target \"12.75398830253 64.82006142177\".\n",
      "No data found for target \"12.76671351472 64.88149346606\".\n",
      "No data found for target \"12.76733044312 64.87632608136\".\n",
      "No data found for target \"12.63677657774 64.87848821977\".\n"
     ]
    },
    {
     "name": "stdout",
     "output_type": "stream",
     "text": [
      "Saved:  CastroGinard2022/UBC1209/285432270.png\n"
     ]
    },
    {
     "name": "stderr",
     "output_type": "stream",
     "text": [
      "No data found for target \"13.15730858858 64.84915476953\".\n"
     ]
    },
    {
     "name": "stdout",
     "output_type": "stream",
     "text": [
      "Saved:  CastroGinard2022/UBC1209/285438009.png\n",
      "Saved:  CastroGinard2022/UBC1209/285438034.png\n"
     ]
    },
    {
     "name": "stderr",
     "output_type": "stream",
     "text": [
      "No data found for target \"12.93209445992 64.88235104656\".\n",
      "No data found for target \"12.94678455009 64.9396655152\".\n",
      "No data found for target \"12.67501338606 64.98942799304\".\n"
     ]
    },
    {
     "name": "stdout",
     "output_type": "stream",
     "text": [
      "Saved:  CastroGinard2022/UBC1209/285432485.png\n"
     ]
    },
    {
     "name": "stderr",
     "output_type": "stream",
     "text": [
      "No data found for target \"12.44017490334 64.78316340289\".\n",
      "No data found for target \"12.47705968383 65.0134195352\".\n",
      "No data found for target \"12.53789966069 65.05306091733\".\n"
     ]
    },
    {
     "data": {
      "application/vnd.jupyter.widget-view+json": {
       "model_id": "d710722246b54f9ba6e9a4c250c1953f",
       "version_major": 2,
       "version_minor": 0
      },
      "text/plain": [
       "UBC1214: 0it [00:00, ?it/s]"
      ]
     },
     "metadata": {},
     "output_type": "display_data"
    },
    {
     "name": "stderr",
     "output_type": "stream",
     "text": [
      "No data found for target \"17.46264504295 61.27561259832\".\n",
      "No data found for target \"17.47325973246 61.30532919288\".\n",
      "No data found for target \"17.52297990723 61.49135906732\".\n",
      "No data found for target \"17.32581763615 61.39867021876\".\n",
      "No data found for target \"17.3109797093 61.41297325692\".\n"
     ]
    },
    {
     "name": "stdout",
     "output_type": "stream",
     "text": [
      "Saved:  CastroGinard2022/UBC1214/52855316.png\n"
     ]
    },
    {
     "name": "stderr",
     "output_type": "stream",
     "text": [
      "No data found for target \"17.07995647683 61.4352197022\".\n",
      "No data found for target \"17.16187387293 61.47655632141\".\n",
      "No data found for target \"17.38867674897 61.43470951067\".\n",
      "No data found for target \"17.345629177 61.42220432147\".\n",
      "No data found for target \"17.3307884258 61.42856510608\".\n",
      "No data found for target \"17.35463466825 61.44333764128\".\n",
      "No data found for target \"17.34837442949 61.44632526052\".\n",
      "No data found for target \"17.36735123934 61.48234150853\".\n",
      "No data found for target \"17.32907199646 61.47533131518\".\n",
      "No data found for target \"17.2895614444 61.50900124454\".\n"
     ]
    },
    {
     "name": "stdout",
     "output_type": "stream",
     "text": [
      "Saved:  CastroGinard2022/UBC1214/52855093.png\n"
     ]
    },
    {
     "name": "stderr",
     "output_type": "stream",
     "text": [
      "No data found for target \"17.13700531084 61.49714475129\".\n",
      "No data found for target \"17.2095290581 61.51713754986\".\n",
      "No data found for target \"17.17851267325 61.54494854712\".\n",
      "No data found for target \"17.45310863376 61.64349970373\".\n"
     ]
    },
    {
     "data": {
      "application/vnd.jupyter.widget-view+json": {
       "model_id": "8b86fbb6d5f24ff0a616ca97855f6e79",
       "version_major": 2,
       "version_minor": 0
      },
      "text/plain": [
       "UBC1223: 0it [00:00, ?it/s]"
      ]
     },
     "metadata": {},
     "output_type": "display_data"
    },
    {
     "name": "stderr",
     "output_type": "stream",
     "text": [
      "No data found for target \"27.16067122999 61.83339416538\".\n",
      "No data found for target \"27.2229273832 61.84166137934\".\n",
      "No data found for target \"27.23553562029 61.85902735279\".\n",
      "No data found for target \"27.24297006487 61.88145155694\".\n",
      "No data found for target \"27.23035998675 61.90150368585\".\n"
     ]
    },
    {
     "name": "stdout",
     "output_type": "stream",
     "text": [
      "Saved:  CastroGinard2022/UBC1223/403823581.png\n",
      "Saved:  CastroGinard2022/UBC1223/403823578.png\n"
     ]
    },
    {
     "name": "stderr",
     "output_type": "stream",
     "text": [
      "No data found for target \"27.3091918015 61.94555022285\".\n",
      "No data found for target \"27.31459416178 61.97918852269\".\n",
      "No data found for target \"27.36191902415 62.00169600826\".\n",
      "No data found for target \"27.44132358605 62.00151454017\".\n",
      "No data found for target \"27.39805224463 62.00756621568\".\n",
      "No data found for target \"27.37555082145 62.04247833923\".\n",
      "No data found for target \"27.37170512239 62.08428203141\".\n",
      "No data found for target \"27.42271505373 62.12119380956\".\n"
     ]
    },
    {
     "name": "stdout",
     "output_type": "stream",
     "text": [
      "Saved:  CastroGinard2022/UBC1223/10162141.png\n"
     ]
    },
    {
     "name": "stderr",
     "output_type": "stream",
     "text": [
      "No data found for target \"27.16910529315 61.97159814534\".\n",
      "No data found for target \"27.07285399237 61.99111958998\".\n",
      "No data found for target \"27.07663372616 61.99235789591\".\n",
      "No data found for target \"27.19791404373 62.02072439709\".\n"
     ]
    },
    {
     "name": "stdout",
     "output_type": "stream",
     "text": [
      "Saved:  CastroGinard2022/UBC1223/403823937.png\n",
      "Saved:  CastroGinard2022/UBC1223/403823911.png\n"
     ]
    },
    {
     "name": "stderr",
     "output_type": "stream",
     "text": [
      "No data found for target \"27.25128469231 62.0079507159\".\n",
      "No data found for target \"27.26526385015 62.08004466949\".\n",
      "No data found for target \"27.26373193778 62.10235160229\".\n",
      "No data found for target \"27.29827763075 62.16241160027\".\n",
      "No data found for target \"27.04103579782 62.10114339524\".\n",
      "No data found for target \"29.72894458964 63.18336828294\".\n"
     ]
    },
    {
     "data": {
      "application/vnd.jupyter.widget-view+json": {
       "model_id": "315b2458f5344826a0415c6cc39827ff",
       "version_major": 2,
       "version_minor": 0
      },
      "text/plain": [
       "UBC1229: 0it [00:00, ?it/s]"
      ]
     },
     "metadata": {},
     "output_type": "display_data"
    },
    {
     "name": "stderr",
     "output_type": "stream",
     "text": [
      "No data found for target \"27.49158330996 59.02806211471\".\n",
      "No data found for target \"27.45430709417 59.05242617117\".\n",
      "No data found for target \"27.77534974967 59.05086258314\".\n",
      "No data found for target \"27.92078844464 59.02485223983\".\n",
      "No data found for target \"27.88305370537 59.07543120226\".\n",
      "No data found for target \"27.81900881536 59.15881615032\".\n",
      "No data found for target \"27.67015430692 59.04376708256\".\n",
      "No data found for target \"27.67635151869 59.0715430343\".\n",
      "No data found for target \"27.71657411016 59.10926940257\".\n",
      "No data found for target \"27.64625086072 59.10833904392\".\n",
      "No data found for target \"27.53641743928 59.13832610633\".\n",
      "No data found for target \"27.61626484221 59.13484512102\".\n",
      "No data found for target \"27.62828002279 59.16881662446\".\n",
      "No data found for target \"27.57450239725 59.1618275145\".\n",
      "No data found for target \"27.746834011 59.18215199155\".\n",
      "No data found for target \"27.65939029842 59.15972472373\".\n",
      "No data found for target \"30.52968914641 58.62532202475\".\n",
      "No data found for target \"37.75825844122 61.13255334361\".\n",
      "No data found for target \"38.40868440709 59.95609618984\".\n",
      "No data found for target \"44.95505192488 63.4276258242\".\n"
     ]
    },
    {
     "data": {
      "application/vnd.jupyter.widget-view+json": {
       "model_id": "483c70537c6b474dbff162910dad35d3",
       "version_major": 2,
       "version_minor": 0
      },
      "text/plain": [
       "UBC1244: 0it [00:00, ?it/s]"
      ]
     },
     "metadata": {},
     "output_type": "display_data"
    },
    {
     "name": "stderr",
     "output_type": "stream",
     "text": [
      "No data found for target \"43.02210199143 56.59358769613\".\n",
      "No data found for target \"43.39747026462 56.49929232353\".\n",
      "No data found for target \"43.28128259558 56.56751975954\".\n",
      "No data found for target \"43.40827132009 56.64104786297\".\n",
      "No data found for target \"43.36311052952 56.63008746682\".\n",
      "No data found for target \"43.26838061905 56.64061959401\".\n",
      "No data found for target \"43.16696410694 56.59270986975\".\n",
      "No data found for target \"43.17056610512 56.60505407077\".\n",
      "No data found for target \"43.11238252375 56.70406993243\".\n",
      "No data found for target \"43.2222020078 56.66139162796\".\n",
      "No data found for target \"43.32737164094 56.75476217369\".\n",
      "No data found for target \"43.20664643178 56.77198796443\".\n",
      "No data found for target \"43.43532484048 56.73110767738\".\n",
      "No data found for target \"43.38278242103 56.7483152218\".\n",
      "No data found for target \"43.36753037855 56.82320376662\".\n",
      "No data found for target \"43.3003617572 56.80682304912\".\n",
      "No data found for target \"43.33490172695 56.81658196741\".\n",
      "No data found for target \"43.29195193057 56.83022319163\".\n",
      "No data found for target \"43.48006956836 56.99341381071\".\n",
      "No data found for target \"42.66803944165 56.54641922418\".\n",
      "No data found for target \"42.88650356772 56.56789401605\".\n",
      "No data found for target \"42.85998496512 56.60165073159\".\n",
      "No data found for target \"42.92815720501 56.62409134921\".\n",
      "No data found for target \"42.87718028076 56.70913554928\".\n",
      "No data found for target \"42.79414582448 56.76113914733\".\n",
      "No data found for target \"42.75461043309 56.75933692982\".\n",
      "No data found for target \"42.48204614789 56.70275965731\".\n",
      "No data found for target \"42.5172470724 56.81992575209\".\n",
      "No data found for target \"43.05034501524 56.67853030852\".\n",
      "No data found for target \"43.03038098901 56.68972031745\".\n",
      "No data found for target \"42.98667787677 56.71584166152\".\n",
      "No data found for target \"42.92864409309 56.70078077343\".\n",
      "No data found for target \"42.93091472077 56.73070444648\".\n",
      "No data found for target \"42.97788977153 56.7227420839\".\n",
      "No data found for target \"42.9006603847 56.7195333288\".\n",
      "No data found for target \"43.00750648038 56.76645017179\".\n",
      "No data found for target \"43.14531878002 56.82852052359\".\n",
      "No data found for target \"43.05167826943 56.83281480493\".\n",
      "No data found for target \"43.14973268882 56.89068963373\".\n",
      "No data found for target \"42.85116090747 56.75712859904\".\n",
      "No data found for target \"42.85452511945 56.76786643388\".\n",
      "No data found for target \"42.83653733274 56.75980813714\".\n",
      "No data found for target \"42.8506995428 56.78146344558\".\n",
      "No data found for target \"42.82223559457 56.79183729417\".\n",
      "No data found for target \"42.88544280641 56.83956505636\".\n",
      "No data found for target \"42.80955208016 56.78797181873\".\n",
      "No data found for target \"42.79409623665 56.8401933463\".\n",
      "No data found for target \"42.98918203731 56.8283638622\".\n",
      "No data found for target \"42.95032932007 56.88850696051\".\n",
      "No data found for target \"42.99885434895 56.89398184733\".\n",
      "No data found for target \"42.95504132332 56.95919347847\".\n",
      "No data found for target \"43.23196441791 56.8665687181\".\n",
      "No data found for target \"43.30359878498 56.9485219795\".\n",
      "No data found for target \"43.19262986132 56.90621239336\".\n",
      "No data found for target \"43.32491617849 56.99527876265\".\n",
      "No data found for target \"43.18282094688 57.01330173259\".\n",
      "No data found for target \"43.03046013165 57.01478542182\".\n",
      "No data found for target \"42.74392186968 56.93326123579\".\n",
      "No data found for target \"42.68031210431 56.88705844306\".\n",
      "No data found for target \"42.76675789034 56.96785459132\".\n",
      "No data found for target \"42.73967125 56.97749340802\".\n",
      "No data found for target \"42.91012522243 57.0389183067\".\n",
      "No data found for target \"42.78984531027 56.97975107527\".\n",
      "No data found for target \"42.53061423459 57.04722105617\".\n",
      "No data found for target \"42.57618303817 57.05190850891\".\n",
      "No data found for target \"42.56937050159 57.07385748291\".\n",
      "No data found for target \"42.80063567034 57.11311796872\".\n",
      "No data found for target \"42.75016090173 57.1059443549\".\n",
      "No data found for target \"42.70070017093 57.1484338028\".\n",
      "No data found for target \"42.92020540155 57.07688386768\".\n",
      "No data found for target \"42.89734123256 57.11638885603\".\n",
      "No data found for target \"42.9569729396 57.12502610231\".\n",
      "No data found for target \"42.9448465007 57.14582361192\".\n",
      "No data found for target \"42.86407906337 57.14161658051\".\n",
      "No data found for target \"42.94296568048 57.22523554068\".\n",
      "No data found for target \"43.54767959532 56.99615778539\".\n",
      "No data found for target \"43.41962459072 57.14294523897\".\n",
      "No data found for target \"43.43658582736 57.16678016983\".\n",
      "No data found for target \"43.57668528551 57.20665490311\".\n",
      "No data found for target \"43.53370340115 57.23405772632\".\n",
      "No data found for target \"43.5889997457 57.23092240948\".\n",
      "No data found for target \"43.51468259961 57.27334380088\".\n",
      "No data found for target \"43.57492425349 57.33526621813\".\n",
      "No data found for target \"43.22542936734 57.23111445444\".\n",
      "No data found for target \"42.38817222229 57.06539838269\".\n",
      "No data found for target \"42.26620586267 57.14690788441\".\n",
      "No data found for target \"42.60157519952 57.16514186455\".\n",
      "No data found for target \"42.67004221912 57.21149782369\".\n",
      "No data found for target \"42.66583715569 57.23156684717\".\n"
     ]
    },
    {
     "data": {
      "application/vnd.jupyter.widget-view+json": {
       "model_id": "a7c5f4132cc84fe2ae42bfc2a57a1759",
       "version_major": 2,
       "version_minor": 0
      },
      "text/plain": [
       "UBC1249: 0it [00:00, ?it/s]"
      ]
     },
     "metadata": {},
     "output_type": "display_data"
    },
    {
     "name": "stderr",
     "output_type": "stream",
     "text": [
      "No data found for target \"59.49099935305 56.91860259257\".\n",
      "No data found for target \"59.29612512407 56.86051909016\".\n",
      "No data found for target \"59.12368563307 56.92081209136\".\n",
      "No data found for target \"59.0524065897 56.93333316842\".\n",
      "No data found for target \"59.36708746607 56.99284915681\".\n",
      "No data found for target \"59.55529790498 56.9882985609\".\n",
      "No data found for target \"59.57596431797 57.06264982506\".\n",
      "No data found for target \"59.34124378443 57.00677926016\".\n",
      "No data found for target \"59.36411600788 57.00732772916\".\n",
      "No data found for target \"59.32532216655 57.00944381851\".\n",
      "No data found for target \"59.28489925042 57.01849372075\".\n",
      "No data found for target \"59.28639940242 57.08954533169\".\n",
      "No data found for target \"59.3222006339 57.10534308486\".\n",
      "No data found for target \"59.52030285605 57.0841365859\".\n",
      "No data found for target \"59.55497567737 57.13506740155\".\n",
      "No data found for target \"59.37145487066 57.13016768835\".\n",
      "No data found for target \"59.51618417337 57.16644191376\".\n",
      "No data found for target \"59.43405708931 57.16080887515\".\n",
      "No data found for target \"59.49288758405 57.17505109405\".\n",
      "No data found for target \"59.1468341612 57.02641611668\".\n",
      "No data found for target \"58.99685179566 57.03950179321\".\n",
      "No data found for target \"59.07155116955 57.09680137045\".\n",
      "No data found for target \"59.19892803171 57.11143263312\".\n",
      "No data found for target \"59.19390397225 57.10943906956\".\n",
      "No data found for target \"59.26931592433 57.09139230513\".\n",
      "No data found for target \"59.29024995411 57.12415371591\".\n",
      "No data found for target \"59.4189653032 57.21896370439\".\n",
      "No data found for target \"59.38078172736 57.21361902857\".\n",
      "No data found for target \"59.44120803684 57.24335979111\".\n",
      "No data found for target \"59.32111643868 57.22176642452\".\n",
      "No data found for target \"59.35779822408 57.28545283034\".\n",
      "No data found for target \"59.84664876943 57.08337920558\".\n",
      "No data found for target \"60.01708257977 57.12888829638\".\n",
      "No data found for target \"60.01226709763 57.15390013081\".\n",
      "No data found for target \"59.99847193649 57.15181516848\".\n",
      "No data found for target \"59.97460973821 57.17364986917\".\n",
      "No data found for target \"59.6307900702 57.0666068909\".\n",
      "No data found for target \"59.78511206357 57.10662634121\".\n",
      "No data found for target \"59.80875970369 57.1270768347\".\n",
      "No data found for target \"59.78803134907 57.14117647951\".\n",
      "No data found for target \"59.77257195101 57.15135474721\".\n",
      "No data found for target \"59.66047703133 57.10264395343\".\n",
      "No data found for target \"59.65374740307 57.11075408083\".\n",
      "No data found for target \"59.71798095453 57.14506464515\".\n",
      "No data found for target \"59.73902956424 57.1646477522\".\n",
      "No data found for target \"59.707143578 57.16786458722\".\n",
      "No data found for target \"59.72334212505 57.18867620239\".\n",
      "No data found for target \"59.81652981251 57.13845239778\".\n",
      "No data found for target \"59.81850821332 57.16826078493\".\n",
      "No data found for target \"59.92697865586 57.1702387443\".\n",
      "No data found for target \"59.89069549067 57.19417555525\".\n",
      "No data found for target \"59.82776834598 57.20702358768\".\n",
      "No data found for target \"59.83925645734 57.22078583007\".\n",
      "No data found for target \"59.81355459122 57.22834794792\".\n",
      "No data found for target \"59.81867917776 57.22667536003\".\n",
      "No data found for target \"59.82332271842 57.23483977185\".\n",
      "No data found for target \"59.82605435434 57.23046786188\".\n",
      "No data found for target \"59.82941608859 57.22807603102\".\n",
      "No data found for target \"59.80408628917 57.23549558044\".\n",
      "No data found for target \"59.79916661484 57.23390640083\".\n",
      "No data found for target \"59.7991880491 57.22767895137\".\n",
      "No data found for target \"59.81211378271 57.24270161737\".\n",
      "No data found for target \"59.89337061926 57.23013809166\".\n",
      "No data found for target \"59.9195154017 57.24777383628\".\n",
      "No data found for target \"59.84977540867 57.24238581163\".\n",
      "No data found for target \"59.61282871327 57.16167821387\".\n",
      "No data found for target \"59.63020780987 57.18950937764\".\n",
      "No data found for target \"59.68737671549 57.19154053333\".\n",
      "No data found for target \"59.71434946937 57.20736519411\".\n",
      "No data found for target \"59.66881807169 57.21528500626\".\n",
      "No data found for target \"59.66842070564 57.20979513315\".\n",
      "No data found for target \"59.70577090635 57.23809964703\".\n",
      "No data found for target \"59.75781518534 57.22547326943\".\n",
      "No data found for target \"59.76253348563 57.23448242642\".\n",
      "No data found for target \"59.78850968795 57.24955984755\".\n",
      "No data found for target \"59.79004827595 57.24060079373\".\n",
      "No data found for target \"59.79080027572 57.23676174442\".\n",
      "No data found for target \"59.80955455835 57.24836958577\".\n",
      "No data found for target \"59.74054135615 57.28140012508\".\n",
      "No data found for target \"59.73053733221 57.28377389162\".\n",
      "No data found for target \"60.02521054898 57.36650469733\".\n",
      "No data found for target \"59.45682451091 57.25868083845\".\n",
      "No data found for target \"59.52285621826 57.26602582275\".\n",
      "No data found for target \"59.53223771719 57.27827349934\".\n",
      "No data found for target \"59.44002949341 57.28041183617\".\n",
      "No data found for target \"59.6268936766 57.34197980943\".\n",
      "No data found for target \"59.73202026514 57.36709450506\".\n",
      "No data found for target \"59.5191176126 57.37846880982\".\n",
      "No data found for target \"59.51411114607 57.37526041058\".\n"
     ]
    },
    {
     "data": {
      "application/vnd.jupyter.widget-view+json": {
       "model_id": "7c9304bc69c6489486606b521acddcc0",
       "version_major": 2,
       "version_minor": 0
      },
      "text/plain": [
       "UBC1250: 0it [00:00, ?it/s]"
      ]
     },
     "metadata": {},
     "output_type": "display_data"
    },
    {
     "name": "stderr",
     "output_type": "stream",
     "text": [
      "No data found for target \"53.17233795805 51.05257867045\".\n",
      "No data found for target \"53.2455998139 51.01574126229\".\n",
      "No data found for target \"53.30381073845 51.16001140296\".\n",
      "No data found for target \"53.2539078082 51.17928196702\".\n",
      "No data found for target \"53.18292594351 51.15181252327\".\n",
      "No data found for target \"53.17157226294 51.17863759611\".\n",
      "No data found for target \"53.14318298074 51.18567994252\".\n",
      "No data found for target \"53.14032672942 51.17933063914\".\n",
      "No data found for target \"53.48233472381 51.17968628868\".\n",
      "No data found for target \"53.32242990715 51.24292917961\".\n",
      "No data found for target \"53.3456087553 51.26389206542\".\n",
      "No data found for target \"53.34724113029 51.26801945367\".\n",
      "No data found for target \"53.26986179505 51.22680402253\".\n",
      "No data found for target \"53.3190712614 51.25114874761\".\n",
      "No data found for target \"53.3052331865 51.25879835421\".\n",
      "No data found for target \"53.33330420621 51.27212337871\".\n",
      "No data found for target \"53.36097296084 51.28977171029\".\n",
      "No data found for target \"53.36723028443 51.32880745916\".\n",
      "No data found for target \"53.07469050565 51.159417138\".\n",
      "No data found for target \"53.14721819974 51.32714676663\".\n",
      "No data found for target \"53.2193136793 51.26220885047\".\n",
      "No data found for target \"53.24822872828 51.27716284242\".\n",
      "No data found for target \"53.3401353216 51.3723747032\".\n",
      "No data found for target \"53.27116275415 51.44086681497\".\n",
      "No data found for target \"53.13744757752 51.36863016797\".\n",
      "No data found for target \"63.93383262439 56.01796040052\".\n",
      "No data found for target \"63.07205201262 52.82292641416\".\n"
     ]
    },
    {
     "data": {
      "application/vnd.jupyter.widget-view+json": {
       "model_id": "c0e2eb03d67c4cd79d8aebca07530ad6",
       "version_major": 2,
       "version_minor": 0
      },
      "text/plain": [
       "UBC1256: 0it [00:00, ?it/s]"
      ]
     },
     "metadata": {},
     "output_type": "display_data"
    },
    {
     "name": "stderr",
     "output_type": "stream",
     "text": [
      "No data found for target \"61.32532401901 51.41526033485\".\n",
      "No data found for target \"61.0982976681 51.37462637445\".\n",
      "No data found for target \"61.11065165523 51.38798062504\".\n",
      "No data found for target \"61.19836880117 51.4390304316\".\n",
      "No data found for target \"61.28963113562 51.46532516629\".\n",
      "No data found for target \"61.20676610529 51.44920407714\".\n",
      "No data found for target \"61.2486883612 51.48338340018\".\n",
      "No data found for target \"61.13135409233 51.41671950619\".\n",
      "No data found for target \"61.21917228248 51.52389849792\".\n",
      "No data found for target \"61.4290337376 51.36664660274\".\n",
      "No data found for target \"61.48812705213 51.4244706506\".\n",
      "No data found for target \"61.50100679095 51.4183954645\".\n",
      "No data found for target \"61.68351041977 51.43692049218\".\n",
      "No data found for target \"61.66047253666 51.46164504828\".\n",
      "No data found for target \"61.41464439332 51.4176038658\".\n"
     ]
    },
    {
     "name": "stdout",
     "output_type": "stream",
     "text": [
      "Saved:  CastroGinard2022/UBC1256/266773127.png\n"
     ]
    },
    {
     "name": "stderr",
     "output_type": "stream",
     "text": [
      "No data found for target \"61.44852738944 51.45348823048\".\n",
      "No data found for target \"61.40087592156 51.45827224294\".\n",
      "No data found for target \"61.33830651052 51.44249640286\".\n",
      "No data found for target \"61.41715958365 51.47535282847\".\n",
      "No data found for target \"61.44512944295 51.50425554767\".\n",
      "No data found for target \"61.38850692039 51.48504993254\".\n",
      "No data found for target \"61.56836975735 51.49431361109\".\n",
      "No data found for target \"61.33425249808 51.5030782133\".\n",
      "No data found for target \"61.28981437133 51.48432293805\".\n",
      "No data found for target \"61.30955226696 51.49739814552\".\n",
      "No data found for target \"61.36010113513 51.52340813754\".\n",
      "No data found for target \"61.33186529987 51.52221772529\".\n",
      "No data found for target \"61.32436050927 51.51744039545\".\n",
      "No data found for target \"61.38294951645 51.51465167567\".\n",
      "No data found for target \"61.35166870512 51.5492826144\".\n",
      "No data found for target \"61.27564957161 51.51508267184\".\n",
      "No data found for target \"61.26909214838 51.51118166544\".\n",
      "No data found for target \"61.28459170438 51.52472667977\".\n",
      "No data found for target \"61.28771946792 51.53114251085\".\n",
      "No data found for target \"61.3011247134 51.54999944825\".\n",
      "No data found for target \"61.26980785559 51.54351417486\".\n",
      "No data found for target \"61.34992862109 51.56801594831\".\n",
      "No data found for target \"61.39793118279 51.61423060336\".\n",
      "No data found for target \"61.50540530753 51.58870491367\".\n",
      "No data found for target \"61.42787820179 51.65372151404\".\n",
      "No data found for target \"61.55375220217 51.69459664699\".\n",
      "No data found for target \"61.54403959631 51.70898866677\".\n",
      "No data found for target \"61.17626773757 51.63692219809\".\n",
      "No data found for target \"61.31854143918 51.71222618868\".\n",
      "No data found for target \"61.48239310652 51.71025493986\".\n",
      "No data found for target \"61.34982716395 51.73506488083\".\n"
     ]
    },
    {
     "data": {
      "application/vnd.jupyter.widget-view+json": {
       "model_id": "f0142c0ec2794f53a0f35bb18b313cee",
       "version_major": 2,
       "version_minor": 0
      },
      "text/plain": [
       "UBC1264: 0it [00:00, ?it/s]"
      ]
     },
     "metadata": {},
     "output_type": "display_data"
    },
    {
     "name": "stderr",
     "output_type": "stream",
     "text": [
      "No data found for target \"68.09516740678 44.30722893658\".\n",
      "No data found for target \"68.16630630867 44.40794031642\".\n",
      "No data found for target \"67.6917386227 44.2678789104\".\n",
      "No data found for target \"67.70284788619 44.28044710067\".\n",
      "No data found for target \"67.58336043598 44.39184732728\".\n",
      "No data found for target \"67.75775908108 44.43324517515\".\n",
      "No data found for target \"67.66302075312 44.41088524356\".\n",
      "No data found for target \"67.73931477009 44.45244876159\".\n",
      "No data found for target \"67.72407446801 44.44524561849\".\n",
      "No data found for target \"67.6630277367 44.4571091564\".\n",
      "No data found for target \"67.65437796215 44.4974536412\".\n",
      "No data found for target \"67.65806966884 44.61761703223\".\n",
      "No data found for target \"68.04841254439 44.37708559033\".\n",
      "No data found for target \"68.06756597867 44.38693352708\".\n",
      "No data found for target \"68.09074020924 44.39941835413\".\n",
      "No data found for target \"68.00956689839 44.38709194308\".\n",
      "No data found for target \"67.80640762599 44.33884142879\".\n",
      "No data found for target \"67.86576786201 44.3698669423\".\n",
      "No data found for target \"67.84736331657 44.37477457118\".\n",
      "No data found for target \"67.90283401561 44.38874965496\".\n",
      "No data found for target \"67.84971417143 44.38681391064\".\n",
      "No data found for target \"67.86059643247 44.39560493748\".\n",
      "No data found for target \"67.85206594091 44.39765013214\".\n",
      "No data found for target \"67.85473428515 44.41204455923\".\n",
      "No data found for target \"67.84479582521 44.40801229093\".\n",
      "No data found for target \"67.82217497266 44.42585201334\".\n",
      "No data found for target \"67.8652406974 44.41449305287\".\n",
      "No data found for target \"67.87226348558 44.43128906409\".\n",
      "No data found for target \"67.87673896958 44.44612566133\".\n",
      "No data found for target \"67.8759208272 44.44387392505\".\n",
      "No data found for target \"67.97501295068 44.41356833569\".\n",
      "No data found for target \"68.16138921139 44.47696086852\".\n",
      "No data found for target \"67.79473701107 44.42423001529\".\n",
      "No data found for target \"67.73330366036 44.5318114097\".\n",
      "No data found for target \"67.78018096279 44.54376583142\".\n"
     ]
    },
    {
     "data": {
      "application/vnd.jupyter.widget-view+json": {
       "model_id": "cd08e199ae29456c84c7078d7d43f363",
       "version_major": 2,
       "version_minor": 0
      },
      "text/plain": [
       "UBC1292: 0it [00:00, ?it/s]"
      ]
     },
     "metadata": {},
     "output_type": "display_data"
    },
    {
     "name": "stderr",
     "output_type": "stream",
     "text": [
      "No data found for target \"90.81071921965 30.83793663698\".\n",
      "No data found for target \"90.57862003479 30.83795790614\".\n",
      "No data found for target \"90.63524580533 30.91627365378\".\n",
      "No data found for target \"90.77087210198 30.96325075098\".\n",
      "No data found for target \"90.68484518904 30.94368145039\".\n",
      "No data found for target \"90.65726804944 30.98041173309\".\n",
      "No data found for target \"90.69906167812 30.99921424285\".\n",
      "No data found for target \"90.66119806171 30.99708636842\".\n",
      "No data found for target \"90.66688199253 30.99073181807\".\n",
      "No data found for target \"90.66608408304 30.98912302949\".\n",
      "No data found for target \"90.7086119869 31.00406893081\".\n",
      "No data found for target \"90.68493815291 31.01376980737\".\n",
      "No data found for target \"91.01682397151 31.02040831377\".\n",
      "No data found for target \"90.91166710597 31.06634019765\".\n"
     ]
    },
    {
     "name": "stdout",
     "output_type": "stream",
     "text": [
      "Saved:  CastroGinard2022/UBC1292/400168295.png\n"
     ]
    },
    {
     "name": "stderr",
     "output_type": "stream",
     "text": [
      "No data found for target \"90.77285956326 31.01954200024\".\n",
      "No data found for target \"90.79361099811 31.02958267203\".\n",
      "No data found for target \"90.79251061306 31.0394834612\".\n"
     ]
    },
    {
     "name": "stdout",
     "output_type": "stream",
     "text": [
      "Saved:  CastroGinard2022/UBC1292/164873979.png\n"
     ]
    },
    {
     "name": "stderr",
     "output_type": "stream",
     "text": [
      "No data found for target \"90.77021199675 31.02168318599\".\n",
      "No data found for target \"90.7808300085 31.04420271753\".\n",
      "No data found for target \"90.77892325672 31.03244803489\".\n",
      "No data found for target \"90.75752211412 31.03864690598\".\n"
     ]
    },
    {
     "name": "stdout",
     "output_type": "stream",
     "text": [
      "Saved:  CastroGinard2022/UBC1292/353716685.png\n",
      "Saved:  CastroGinard2022/UBC1292/353716687.png\n"
     ]
    },
    {
     "name": "stderr",
     "output_type": "stream",
     "text": [
      "No data found for target \"90.74551981026 31.05479167059\".\n",
      "No data found for target \"90.78319428808 31.04910116382\".\n",
      "No data found for target \"90.81498694254 31.07823578761\".\n",
      "No data found for target \"90.82372882078 31.08090808919\".\n",
      "No data found for target \"90.89719472338 31.09458819833\".\n",
      "No data found for target \"90.91674504478 31.09644151542\".\n",
      "No data found for target \"90.89514427338 31.170401119\".\n"
     ]
    },
    {
     "name": "stdout",
     "output_type": "stream",
     "text": [
      "Saved:  CastroGinard2022/UBC1292/353582217.png\n"
     ]
    },
    {
     "name": "stderr",
     "output_type": "stream",
     "text": [
      "No data found for target \"90.48002741968 30.95704106188\".\n",
      "No data found for target \"90.48896658073 30.95794465082\".\n",
      "No data found for target \"90.61889543555 30.98109767876\".\n"
     ]
    },
    {
     "name": "stdout",
     "output_type": "stream",
     "text": [
      "Saved:  CastroGinard2022/UBC1292/353582299.png\n"
     ]
    },
    {
     "name": "stderr",
     "output_type": "stream",
     "text": [
      "No data found for target \"90.66441448499 31.04604090877\".\n",
      "No data found for target \"90.66688459868 31.0491247713\".\n",
      "No data found for target \"90.66702075091 31.05218267443\".\n",
      "No data found for target \"90.59166228262 31.02067863724\".\n",
      "No data found for target \"90.6099309068 31.03590960315\".\n",
      "No data found for target \"90.55054346374 31.05262842228\".\n"
     ]
    },
    {
     "name": "stdout",
     "output_type": "stream",
     "text": [
      "Saved:  CastroGinard2022/UBC1292/353582433.png\n"
     ]
    },
    {
     "name": "stderr",
     "output_type": "stream",
     "text": [
      "No data found for target \"90.63347087292 31.07589742914\".\n",
      "No data found for target \"90.51483061734 31.05674100848\".\n",
      "No data found for target \"90.55323594046 31.14701087831\".\n",
      "No data found for target \"90.52416650551 31.14372032029\".\n",
      "No data found for target \"90.68532737419 31.08705255584\".\n",
      "No data found for target \"90.75904001128 31.10931773952\".\n",
      "No data found for target \"90.73594089095 31.1340446522\".\n",
      "No data found for target \"90.6473202114 31.18131574095\".\n",
      "No data found for target \"90.59521541167 31.1560328707\".\n",
      "No data found for target \"90.62411656887 31.20835228667\".\n",
      "No data found for target \"90.62956863853 31.25168216114\".\n",
      "No data found for target \"90.99701885898 31.16667786666\".\n",
      "No data found for target \"90.91879019429 31.24918645632\".\n"
     ]
    },
    {
     "data": {
      "application/vnd.jupyter.widget-view+json": {
       "model_id": "e9fd0e9079d44af4a40e04321545582e",
       "version_major": 2,
       "version_minor": 0
      },
      "text/plain": [
       "UBC1297: 0it [00:00, ?it/s]"
      ]
     },
     "metadata": {},
     "output_type": "display_data"
    },
    {
     "name": "stdout",
     "output_type": "stream",
     "text": [
      "Saved:  CastroGinard2022/UBC1297/75774575.png\n",
      "Saved:  CastroGinard2022/UBC1297/75774320.png\n"
     ]
    },
    {
     "name": "stderr",
     "output_type": "stream",
     "text": [
      "No data found for target \"85.9119761786 25.6351187161\".\n"
     ]
    },
    {
     "name": "stdout",
     "output_type": "stream",
     "text": [
      "Saved:  CastroGinard2022/UBC1297/75852567.png\n"
     ]
    },
    {
     "name": "stderr",
     "output_type": "stream",
     "text": [
      "No data found for target \"85.94121148887 25.64473009268\".\n"
     ]
    },
    {
     "name": "stdout",
     "output_type": "stream",
     "text": [
      "Saved:  CastroGinard2022/UBC1297/75774196.png\n"
     ]
    },
    {
     "name": "stderr",
     "output_type": "stream",
     "text": [
      "No data found for target \"85.54245319587 25.64439845311\".\n"
     ]
    },
    {
     "name": "stdout",
     "output_type": "stream",
     "text": [
      "Saved:  CastroGinard2022/UBC1297/75691849.png\n"
     ]
    },
    {
     "name": "stderr",
     "output_type": "stream",
     "text": [
      "No data found for target \"85.62162658625 25.68882916898\".\n"
     ]
    },
    {
     "name": "stdout",
     "output_type": "stream",
     "text": [
      "Saved:  CastroGinard2022/UBC1297/75691985.png\n"
     ]
    },
    {
     "name": "stderr",
     "output_type": "stream",
     "text": [
      "No data found for target \"85.6442119953 25.72314751416\".\n",
      "No data found for target \"85.54854177154 25.69258062802\".\n",
      "No data found for target \"85.6014849193 25.73815200227\".\n",
      "No data found for target \"85.71679305251 25.68439106128\".\n",
      "No data found for target \"85.74046390953 25.71265905769\".\n",
      "No data found for target \"85.79914521443 25.74603186508\".\n"
     ]
    },
    {
     "name": "stdout",
     "output_type": "stream",
     "text": [
      "Saved:  CastroGinard2022/UBC1297/75773999.png\n",
      "Saved:  CastroGinard2022/UBC1297/75773934.png\n"
     ]
    },
    {
     "name": "stderr",
     "output_type": "stream",
     "text": [
      "No data found for target \"85.7159422517 25.7732429696\".\n",
      "No data found for target \"85.70271235104 25.83138279259\".\n"
     ]
    },
    {
     "name": "stdout",
     "output_type": "stream",
     "text": [
      "Saved:  CastroGinard2022/UBC1297/75773713.png\n"
     ]
    },
    {
     "name": "stderr",
     "output_type": "stream",
     "text": [
      "No data found for target \"85.30314680627 25.57794036617\".\n",
      "No data found for target \"85.545377206 25.7259926993\".\n"
     ]
    },
    {
     "name": "stdout",
     "output_type": "stream",
     "text": [
      "Saved:  CastroGinard2022/UBC1297/75692141.png\n",
      "Saved:  CastroGinard2022/UBC1297/75692171.png\n"
     ]
    },
    {
     "name": "stderr",
     "output_type": "stream",
     "text": [
      "No data found for target \"85.45741807134 25.76420726629\".\n"
     ]
    },
    {
     "name": "stdout",
     "output_type": "stream",
     "text": [
      "Saved:  CastroGinard2022/UBC1297/75692246.png\n",
      "Saved:  CastroGinard2022/UBC1297/75692256.png\n"
     ]
    },
    {
     "name": "stderr",
     "output_type": "stream",
     "text": [
      "No data found for target \"85.73601783039 25.90214029925\".\n",
      "No data found for target \"85.49794746254 25.92434326721\".\n",
      "No data found for target \"85.52515168827 25.99222973019\".\n"
     ]
    },
    {
     "name": "stdout",
     "output_type": "stream",
     "text": [
      "Saved:  CastroGinard2022/UBC1297/75692726.png\n"
     ]
    },
    {
     "name": "stderr",
     "output_type": "stream",
     "text": [
      "No data found for target \"85.81563270726 26.08969514298\".\n"
     ]
    },
    {
     "data": {
      "application/vnd.jupyter.widget-view+json": {
       "model_id": "42b1d14e9a18421ba73ed19e8cea6711",
       "version_major": 2,
       "version_minor": 0
      },
      "text/plain": [
       "UBC1304: 0it [00:00, ?it/s]"
      ]
     },
     "metadata": {},
     "output_type": "display_data"
    },
    {
     "name": "stderr",
     "output_type": "stream",
     "text": [
      "No data found for target \"88.99570141631 19.98041708598\".\n",
      "No data found for target \"88.96806839225 20.00219200022\".\n"
     ]
    },
    {
     "name": "stdout",
     "output_type": "stream",
     "text": [
      "Saved:  CastroGinard2022/UBC1304/118969781.png\n"
     ]
    },
    {
     "name": "stderr",
     "output_type": "stream",
     "text": [
      "No data found for target \"88.99770340859 20.01802609234\".\n",
      "No data found for target \"88.98877979554 20.01507158173\".\n"
     ]
    },
    {
     "name": "stdout",
     "output_type": "stream",
     "text": [
      "Saved:  CastroGinard2022/UBC1304/119042148.png\n"
     ]
    },
    {
     "name": "stderr",
     "output_type": "stream",
     "text": [
      "No data found for target \"88.9947734455 20.02874469649\".\n"
     ]
    },
    {
     "name": "stdout",
     "output_type": "stream",
     "text": [
      "Saved:  CastroGinard2022/UBC1304/118969977.png\n",
      "Saved:  CastroGinard2022/UBC1304/119126799.png\n"
     ]
    },
    {
     "name": "stderr",
     "output_type": "stream",
     "text": [
      "No data found for target \"89.12982785759 19.9801447642\".\n",
      "No data found for target \"89.11540142894 20.09885478704\".\n",
      "No data found for target \"89.19498188804 20.05338510448\".\n",
      "No data found for target \"89.00034353953 20.05751183156\".\n"
     ]
    },
    {
     "name": "stdout",
     "output_type": "stream",
     "text": [
      "Saved:  CastroGinard2022/UBC1304/119041984.png\n"
     ]
    },
    {
     "name": "stderr",
     "output_type": "stream",
     "text": [
      "No data found for target \"89.03748301862 20.09838516491\".\n",
      "No data found for target \"89.03017437671 20.0991959528\".\n"
     ]
    },
    {
     "name": "stdout",
     "output_type": "stream",
     "text": [
      "Saved:  CastroGinard2022/UBC1304/119127154.png\n",
      "Saved:  CastroGinard2022/UBC1304/119041904.png\n"
     ]
    },
    {
     "name": "stderr",
     "output_type": "stream",
     "text": [
      "No data found for target \"88.96413747286 20.1118569157\".\n"
     ]
    },
    {
     "name": "stdout",
     "output_type": "stream",
     "text": [
      "Saved:  CastroGinard2022/UBC1304/119041856.png\n"
     ]
    },
    {
     "name": "stderr",
     "output_type": "stream",
     "text": [
      "No data found for target \"88.98295756885 20.12564643737\".\n",
      "No data found for target \"89.03055906237 20.11432219963\".\n",
      "No data found for target \"89.04270536969 20.17259394778\".\n",
      "No data found for target \"89.04349416665 20.16499327356\".\n",
      "No data found for target \"89.1433663784 20.16093501477\".\n",
      "No data found for target \"89.09569096491 20.16274000959\".\n",
      "No data found for target \"89.0621889647 20.18715952393\".\n",
      "No data found for target \"89.07237850421 20.19473996752\".\n",
      "No data found for target \"89.08742254032 20.19830598566\".\n",
      "No data found for target \"88.97587944142 20.14994263839\".\n",
      "No data found for target \"88.91809372233 20.14577248943\".\n",
      "No data found for target \"89.00255690962 20.1740455003\".\n"
     ]
    },
    {
     "name": "stdout",
     "output_type": "stream",
     "text": [
      "Saved:  CastroGinard2022/UBC1304/119041755.png\n"
     ]
    },
    {
     "name": "stderr",
     "output_type": "stream",
     "text": [
      "No data found for target \"88.95119945517 20.18805686257\".\n",
      "No data found for target \"88.97769721031 20.20640148525\".\n"
     ]
    },
    {
     "name": "stdout",
     "output_type": "stream",
     "text": [
      "Saved:  CastroGinard2022/UBC1304/119041590.png\n"
     ]
    },
    {
     "name": "stderr",
     "output_type": "stream",
     "text": [
      "No data found for target \"89.02128657436 20.24950349928\".\n",
      "No data found for target \"89.06925001584 20.26292240223\".\n",
      "No data found for target \"88.99300421593 20.24559898237\".\n",
      "No data found for target \"88.98456673951 20.33838250223\".\n",
      "No data found for target \"88.95539532706 20.39424822775\".\n",
      "No data found for target \"89.15971770975 20.25975967687\".\n",
      "No data found for target \"89.13143080229 20.2794404228\".\n"
     ]
    },
    {
     "name": "stdout",
     "output_type": "stream",
     "text": [
      "Saved:  CastroGinard2022/UBC1304/119127770.png\n"
     ]
    },
    {
     "data": {
      "application/vnd.jupyter.widget-view+json": {
       "model_id": "2820ca247686422e8d1f41a94a0f3bc2",
       "version_major": 2,
       "version_minor": 0
      },
      "text/plain": [
       "UBC1306: 0it [00:00, ?it/s]"
      ]
     },
     "metadata": {},
     "output_type": "display_data"
    },
    {
     "name": "stderr",
     "output_type": "stream",
     "text": [
      "No data found for target \"94.38683346085 22.38559961766\".\n",
      "No data found for target \"94.39615586002 22.46105242697\".\n",
      "No data found for target \"94.38954406149 22.45416702193\".\n",
      "No data found for target \"94.42152363574 22.47733511043\".\n"
     ]
    },
    {
     "name": "stdout",
     "output_type": "stream",
     "text": [
      "Saved:  CastroGinard2022/UBC1306/429743754.png\n",
      "Saved:  CastroGinard2022/UBC1306/429749719.png\n"
     ]
    },
    {
     "name": "stderr",
     "output_type": "stream",
     "text": [
      "No data found for target \"94.60758575017 22.60403587792\".\n"
     ]
    },
    {
     "name": "stdout",
     "output_type": "stream",
     "text": [
      "Saved:  CastroGinard2022/UBC1306/429749501.png\n"
     ]
    },
    {
     "name": "stderr",
     "output_type": "stream",
     "text": [
      "No data found for target \"94.54791626417 22.61046651325\".\n"
     ]
    },
    {
     "name": "stdout",
     "output_type": "stream",
     "text": [
      "Saved:  CastroGinard2022/UBC1306/429862673.png\n"
     ]
    },
    {
     "name": "stderr",
     "output_type": "stream",
     "text": [
      "No data found for target \"94.73086059259 22.74895330191\".\n"
     ]
    },
    {
     "name": "stdout",
     "output_type": "stream",
     "text": [
      "Saved:  CastroGinard2022/UBC1306/429868128.png\n"
     ]
    },
    {
     "name": "stderr",
     "output_type": "stream",
     "text": [
      "No data found for target \"94.43511267887 22.55556518728\".\n",
      "No data found for target \"94.43976281679 22.61981321469\".\n",
      "No data found for target \"94.42283731074 22.64086703282\".\n",
      "No data found for target \"94.49288836159 22.61184108167\".\n",
      "No data found for target \"94.46800132899 22.6163986187\".\n",
      "No data found for target \"94.49206124076 22.64401609305\".\n",
      "No data found for target \"94.51585245156 22.66237058458\".\n",
      "No data found for target \"94.49058902649 22.67098268286\".\n",
      "No data found for target \"94.53882060407 22.68266602872\".\n",
      "No data found for target \"94.44768514132 22.65439715426\".\n",
      "No data found for target \"94.44702678088 22.64405309813\".\n",
      "No data found for target \"94.43899426799 22.66520986679\".\n",
      "No data found for target \"94.4630319844 22.74490849517\".\n"
     ]
    },
    {
     "name": "stdout",
     "output_type": "stream",
     "text": [
      "Saved:  CastroGinard2022/UBC1306/429749167.png\n",
      "Saved:  CastroGinard2022/UBC1306/429749123.png\n"
     ]
    },
    {
     "name": "stderr",
     "output_type": "stream",
     "text": [
      "No data found for target \"94.57651737848 22.68701388699\".\n",
      "No data found for target \"94.58695494367 22.69717900515\".\n",
      "No data found for target \"94.57015156697 22.7109706114\".\n",
      "No data found for target \"94.622044271 22.7619761452\".\n"
     ]
    },
    {
     "name": "stdout",
     "output_type": "stream",
     "text": [
      "Saved:  CastroGinard2022/UBC1306/429749173.png\n"
     ]
    },
    {
     "name": "stderr",
     "output_type": "stream",
     "text": [
      "No data found for target \"94.65458945098 22.82849798637\".\n",
      "No data found for target \"94.5425865083 22.86429369473\".\n",
      "No data found for target \"94.62037286701 22.94543562456\".\n",
      "No data found for target \"94.54303190506 22.8934416436\".\n",
      "No data found for target \"94.31371719246 22.84627300826\".\n"
     ]
    },
    {
     "name": "stdout",
     "output_type": "stream",
     "text": [
      "Saved:  CastroGinard2022/UBC1306/429748901.png\n",
      "Saved:  CastroGinard2022/UBC1306/429744511.png\n",
      "Saved:  CastroGinard2022/UBC1306/429867755.png\n"
     ]
    },
    {
     "name": "stderr",
     "output_type": "stream",
     "text": [
      "No data found for target \"94.64666223136 22.9487528725\".\n"
     ]
    },
    {
     "name": "stdout",
     "output_type": "stream",
     "text": [
      "Saved:  CastroGinard2022/UBC1306/429863513.png\n",
      "Saved:  CastroGinard2022/UBC1306/429863508.png\n"
     ]
    },
    {
     "name": "stderr",
     "output_type": "stream",
     "text": [
      "No data found for target \"94.66599021192 23.03266138248\".\n",
      "No data found for target \"94.65825902693 23.06327558195\".\n"
     ]
    },
    {
     "name": "stdout",
     "output_type": "stream",
     "text": [
      "Saved:  CastroGinard2022/UBC1306/429867635.png\n"
     ]
    },
    {
     "name": "stderr",
     "output_type": "stream",
     "text": [
      "No data found for target \"94.71402485691 23.0672708664\".\n"
     ]
    },
    {
     "name": "stdout",
     "output_type": "stream",
     "text": [
      "Saved:  CastroGinard2022/UBC1306/429867390.png\n",
      "Saved:  CastroGinard2022/UBC1306/319572897.png\n"
     ]
    },
    {
     "name": "stderr",
     "output_type": "stream",
     "text": [
      "No data found for target \"94.84726346241 23.08702234313\".\n",
      "No data found for target \"94.87230092699 23.11385577237\".\n",
      "No data found for target \"94.78568649968 23.16640520776\".\n",
      "No data found for target \"94.83270247829 23.20065903876\".\n",
      "No data found for target \"94.92067769498 23.16798581932\".\n",
      "No data found for target \"94.89521562395 23.234450813\".\n",
      "No data found for target \"94.62829481896 23.11275715079\".\n"
     ]
    },
    {
     "name": "stdout",
     "output_type": "stream",
     "text": [
      "Saved:  CastroGinard2022/UBC1306/429867330.png\n"
     ]
    },
    {
     "name": "stderr",
     "output_type": "stream",
     "text": [
      "No data found for target \"94.69621888729 23.15543041065\".\n"
     ]
    },
    {
     "name": "stdout",
     "output_type": "stream",
     "text": [
      "Saved:  CastroGinard2022/UBC1306/429867281.png\n",
      "Saved:  CastroGinard2022/UBC1306/429867223.png\n"
     ]
    },
    {
     "name": "stderr",
     "output_type": "stream",
     "text": [
      "No data found for target \"94.60178496124 23.13038339444\".\n",
      "No data found for target \"94.62592488196 23.14519959736\".\n",
      "No data found for target \"94.69126966163 23.19494100741\".\n",
      "No data found for target \"94.65314886835 23.19893641144\".\n",
      "No data found for target \"94.58171423706 23.19931208977\".\n",
      "No data found for target \"94.63249967257 23.22345196418\".\n",
      "No data found for target \"94.732815203 23.17439511317\".\n"
     ]
    },
    {
     "name": "stdout",
     "output_type": "stream",
     "text": [
      "Saved:  CastroGinard2022/UBC1306/429867157.png\n"
     ]
    },
    {
     "name": "stderr",
     "output_type": "stream",
     "text": [
      "No data found for target \"94.70453529977 23.21615129495\".\n",
      "No data found for target \"94.75287889097 23.30504380213\".\n"
     ]
    },
    {
     "data": {
      "application/vnd.jupyter.widget-view+json": {
       "model_id": "a1c2415e931b4b51aa0cf156ee2a1781",
       "version_major": 2,
       "version_minor": 0
      },
      "text/plain": [
       "UBC1308: 0it [00:00, ?it/s]"
      ]
     },
     "metadata": {},
     "output_type": "display_data"
    },
    {
     "name": "stderr",
     "output_type": "stream",
     "text": [
      "No data found for target \"94.49821757996 20.40297323869\".\n"
     ]
    },
    {
     "name": "stdout",
     "output_type": "stream",
     "text": [
      "Saved:  CastroGinard2022/UBC1308/429803294.png\n"
     ]
    },
    {
     "name": "stderr",
     "output_type": "stream",
     "text": [
      "No data found for target \"94.69414049322 20.47782528065\".\n",
      "No data found for target \"94.5863568381 20.48514459903\".\n",
      "No data found for target \"94.64647922197 20.50980693243\".\n"
     ]
    },
    {
     "name": "stdout",
     "output_type": "stream",
     "text": [
      "Saved:  CastroGinard2022/UBC1308/429857928.png\n",
      "Saved:  CastroGinard2022/UBC1308/429858004.png\n",
      "Saved:  CastroGinard2022/UBC1308/429858024.png\n",
      "Saved:  CastroGinard2022/UBC1308/429858107.png\n"
     ]
    },
    {
     "name": "stderr",
     "output_type": "stream",
     "text": [
      "/home/jp/miniconda3/envs/lk2/lib/python3.10/site-packages/astropy/timeseries/periodograms/bls/core.py:759: RuntimeWarning: invalid value encountered in add\n",
      "  transit_time += t_ref\n"
     ]
    },
    {
     "name": "stdout",
     "output_type": "stream",
     "text": [
      "Saved:  CastroGinard2022/UBC1308/429858040.png\n",
      "Saved:  CastroGinard2022/UBC1308/429858035.png\n",
      "Saved:  CastroGinard2022/UBC1308/429803228.png\n",
      "Saved:  CastroGinard2022/UBC1308/429803131.png\n"
     ]
    },
    {
     "name": "stderr",
     "output_type": "stream",
     "text": [
      "No data found for target \"94.53327196675 20.56530552429\".\n",
      "No data found for target \"94.53359324067 20.55959279609\".\n",
      "No data found for target \"94.4633940986 20.57630699144\".\n",
      "No data found for target \"94.5819592298 20.61062528858\".\n"
     ]
    },
    {
     "name": "stdout",
     "output_type": "stream",
     "text": [
      "Saved:  CastroGinard2022/UBC1308/429858221.png\n"
     ]
    },
    {
     "name": "stderr",
     "output_type": "stream",
     "text": [
      "No data found for target \"98.69928484344 18.28038854078\".\n"
     ]
    },
    {
     "data": {
      "application/vnd.jupyter.widget-view+json": {
       "model_id": "45e1130d7c604bf38664ae8ffaeae91a",
       "version_major": 2,
       "version_minor": 0
      },
      "text/plain": [
       "UBC1319: 0it [00:00, ?it/s]"
      ]
     },
     "metadata": {},
     "output_type": "display_data"
    },
    {
     "name": "stderr",
     "output_type": "stream",
     "text": [
      "No data found for target \"95.71134914036 11.25015473026\".\n",
      "No data found for target \"95.72937081873 11.30283142524\".\n",
      "No data found for target \"95.69705597953 11.30643725154\".\n",
      "No data found for target \"95.70432204351 11.32129191121\".\n",
      "No data found for target \"95.67250622021 11.31921724254\".\n",
      "No data found for target \"95.62952534055 11.38079778146\".\n",
      "No data found for target \"96.10948617217 11.28001820588\".\n",
      "No data found for target \"95.89750207345 11.32615501608\".\n"
     ]
    },
    {
     "name": "stdout",
     "output_type": "stream",
     "text": [
      "Saved:  CastroGinard2022/UBC1319/263935383.png\n"
     ]
    },
    {
     "name": "stderr",
     "output_type": "stream",
     "text": [
      "No data found for target \"95.98522001999 11.42195981289\".\n",
      "No data found for target \"96.02646409 11.44084509631\".\n",
      "No data found for target \"96.0542620108 11.45950146838\".\n",
      "No data found for target \"96.0344934056 11.45921121059\".\n"
     ]
    },
    {
     "name": "stdout",
     "output_type": "stream",
     "text": [
      "Saved:  CastroGinard2022/UBC1319/263596142.png\n"
     ]
    },
    {
     "name": "stderr",
     "output_type": "stream",
     "text": [
      "No data found for target \"95.8669817526 11.37689179568\".\n",
      "No data found for target \"95.91267338013 11.43324629323\".\n",
      "No data found for target \"95.83684434631 11.41269102402\".\n",
      "No data found for target \"95.83098398835 11.43100443427\".\n",
      "No data found for target \"95.88988972037 11.41981860146\".\n",
      "No data found for target \"95.68975832 11.41879739448\".\n",
      "No data found for target \"95.71729621367 11.46793876927\".\n",
      "No data found for target \"95.83175501815 11.44537557521\".\n",
      "No data found for target \"95.83134599771 11.5089122074\".\n"
     ]
    },
    {
     "name": "stdout",
     "output_type": "stream",
     "text": [
      "Saved:  CastroGinard2022/UBC1319/263590328.png\n"
     ]
    },
    {
     "name": "stderr",
     "output_type": "stream",
     "text": [
      "No data found for target \"95.82343623659 11.52709597043\".\n",
      "No data found for target \"95.81482097899 11.55076552285\".\n"
     ]
    },
    {
     "name": "stdout",
     "output_type": "stream",
     "text": [
      "Saved:  CastroGinard2022/UBC1319/263594972.png\n"
     ]
    },
    {
     "name": "stderr",
     "output_type": "stream",
     "text": [
      "No data found for target \"95.96827248173 11.43951015751\".\n",
      "No data found for target \"95.95128505802 11.4563750588\".\n",
      "No data found for target \"95.98668629722 11.48445218862\".\n",
      "No data found for target \"95.9360561175 11.47837197703\".\n"
     ]
    },
    {
     "name": "stdout",
     "output_type": "stream",
     "text": [
      "Saved:  CastroGinard2022/UBC1319/263813734.png\n"
     ]
    },
    {
     "name": "stderr",
     "output_type": "stream",
     "text": [
      "No data found for target \"95.9573666386 11.52693175375\".\n",
      "No data found for target \"95.9797055579 11.53215396078\".\n",
      "No data found for target \"96.02502327335 11.60790031723\".\n",
      "No data found for target \"95.90406071774 11.51979029536\".\n"
     ]
    },
    {
     "name": "stdout",
     "output_type": "stream",
     "text": [
      "Saved:  CastroGinard2022/UBC1319/263813815.png\n"
     ]
    },
    {
     "name": "stderr",
     "output_type": "stream",
     "text": [
      "No data found for target \"95.90310638494 11.5336228178\".\n",
      "No data found for target \"95.87345464333 11.52543605246\".\n",
      "No data found for target \"95.87492572686 11.54847686039\".\n",
      "No data found for target \"95.93433964166 11.54153139943\".\n"
     ]
    },
    {
     "name": "stdout",
     "output_type": "stream",
     "text": [
      "Saved:  CastroGinard2022/UBC1319/263813855.png\n",
      "Saved:  CastroGinard2022/UBC1319/263813851.png\n"
     ]
    },
    {
     "name": "stderr",
     "output_type": "stream",
     "text": [
      "No data found for target \"95.92804006632 11.55276482666\".\n",
      "No data found for target \"95.92029212712 11.57066685338\".\n",
      "No data found for target \"95.90458520707 11.57329982023\".\n",
      "No data found for target \"95.93806985579 11.59198757019\".\n",
      "No data found for target \"95.84916553926 11.56436418203\".\n",
      "No data found for target \"95.99204875975 11.59666004278\".\n",
      "No data found for target \"95.98348574613 11.62277582019\".\n",
      "No data found for target \"95.99671526174 11.65001773038\".\n",
      "No data found for target \"95.91561664633 11.62816130544\".\n",
      "No data found for target \"95.98104047012 11.69486116237\".\n"
     ]
    },
    {
     "name": "stdout",
     "output_type": "stream",
     "text": [
      "Saved:  CastroGinard2022/UBC1319/263814291.png\n"
     ]
    },
    {
     "name": "stderr",
     "output_type": "stream",
     "text": [
      "No data found for target \"95.56511938894 11.46024037566\".\n",
      "No data found for target \"95.61535675227 11.53378635035\".\n",
      "No data found for target \"95.74832928866 11.59389585437\".\n",
      "No data found for target \"95.68289583702 11.66894995334\".\n",
      "No data found for target \"95.81090799932 11.5866382385\".\n",
      "No data found for target \"95.83885720595 11.6053037059\".\n",
      "No data found for target \"95.84724422429 11.63965200855\".\n"
     ]
    },
    {
     "name": "stdout",
     "output_type": "stream",
     "text": [
      "Saved:  CastroGinard2022/UBC1319/263594410.png\n"
     ]
    },
    {
     "name": "stderr",
     "output_type": "stream",
     "text": [
      "No data found for target \"95.82406597895 11.6653905827\".\n"
     ]
    },
    {
     "name": "stdout",
     "output_type": "stream",
     "text": [
      "Saved:  CastroGinard2022/UBC1319/263594377.png\n"
     ]
    },
    {
     "name": "stderr",
     "output_type": "stream",
     "text": [
      "No data found for target \"95.82544030749 11.73879772252\".\n",
      "No data found for target \"96.0917131512 11.62496290556\".\n"
     ]
    },
    {
     "data": {
      "application/vnd.jupyter.widget-view+json": {
       "model_id": "89da56bb84054c02a29a3d1882d7ad5b",
       "version_major": 2,
       "version_minor": 0
      },
      "text/plain": [
       "UBC1330: 0it [00:00, ?it/s]"
      ]
     },
     "metadata": {},
     "output_type": "display_data"
    },
    {
     "name": "stderr",
     "output_type": "stream",
     "text": [
      "No data found for target \"98.15209499885 2.32718413942\".\n",
      "No data found for target \"98.32229842877 2.34016121014\".\n"
     ]
    },
    {
     "name": "stdout",
     "output_type": "stream",
     "text": [
      "Saved:  CastroGinard2022/UBC1330/234922723.png\n",
      "Saved:  CastroGinard2022/UBC1330/234922855.png\n"
     ]
    },
    {
     "name": "stderr",
     "output_type": "stream",
     "text": [
      "No data found for target \"98.29912883954 2.39507753833\".\n",
      "No data found for target \"98.3062416322 2.42275808728\".\n",
      "No data found for target \"98.33267291413 2.4199419179\".\n"
     ]
    },
    {
     "name": "stdout",
     "output_type": "stream",
     "text": [
      "Saved:  CastroGinard2022/UBC1330/234922958.png\n"
     ]
    },
    {
     "name": "stderr",
     "output_type": "stream",
     "text": [
      "No data found for target \"98.14493989748 2.39900008487\".\n",
      "No data found for target \"98.11957511149 2.39575723835\".\n",
      "No data found for target \"98.26538920648 2.39438964155\".\n",
      "No data found for target \"98.27685151311 2.40976270157\".\n",
      "No data found for target \"98.24795749553 2.4058937941\".\n"
     ]
    },
    {
     "name": "stdout",
     "output_type": "stream",
     "text": [
      "Saved:  CastroGinard2022/UBC1330/234922920.png\n"
     ]
    },
    {
     "name": "stderr",
     "output_type": "stream",
     "text": [
      "No data found for target \"98.27391590736 2.42019845636\".\n",
      "No data found for target \"98.2649570023 2.42755685897\".\n",
      "No data found for target \"98.25656709686 2.42207882054\".\n"
     ]
    },
    {
     "name": "stdout",
     "output_type": "stream",
     "text": [
      "Saved:  CastroGinard2022/UBC1330/234922986.png\n"
     ]
    },
    {
     "name": "stderr",
     "output_type": "stream",
     "text": [
      "No data found for target \"98.26617198745 2.43327779456\".\n"
     ]
    },
    {
     "name": "stdout",
     "output_type": "stream",
     "text": [
      "Saved:  CastroGinard2022/UBC1330/234923026.png\n"
     ]
    },
    {
     "name": "stderr",
     "output_type": "stream",
     "text": [
      "No data found for target \"98.26446516016 2.45234766775\".\n",
      "No data found for target \"98.25940344277 2.45833606673\".\n",
      "No data found for target \"98.31773122334 2.43680852289\".\n",
      "No data found for target \"98.33212744613 2.47470674173\".\n",
      "No data found for target \"98.27819409222 2.46194870823\".\n"
     ]
    },
    {
     "name": "stdout",
     "output_type": "stream",
     "text": [
      "Saved:  CastroGinard2022/UBC1330/234923110.png\n"
     ]
    },
    {
     "name": "stderr",
     "output_type": "stream",
     "text": [
      "No data found for target \"98.31631203362 2.47731300476\".\n"
     ]
    },
    {
     "name": "stdout",
     "output_type": "stream",
     "text": [
      "Saved:  CastroGinard2022/UBC1330/234923161.png\n"
     ]
    },
    {
     "name": "stderr",
     "output_type": "stream",
     "text": [
      "No data found for target \"98.22069076642 2.42879722963\".\n"
     ]
    },
    {
     "name": "stdout",
     "output_type": "stream",
     "text": [
      "Saved:  CastroGinard2022/UBC1330/234923085.png\n"
     ]
    },
    {
     "name": "stderr",
     "output_type": "stream",
     "text": [
      "No data found for target \"98.20059231593 2.47663708524\".\n",
      "No data found for target \"98.22876662494 2.47693731786\".\n"
     ]
    },
    {
     "name": "stdout",
     "output_type": "stream",
     "text": [
      "Saved:  CastroGinard2022/UBC1330/234923138.png\n"
     ]
    },
    {
     "name": "stderr",
     "output_type": "stream",
     "text": [
      "No data found for target \"98.24596835215 2.48067070237\".\n",
      "No data found for target \"98.23574817694 2.50430875963\".\n"
     ]
    },
    {
     "name": "stdout",
     "output_type": "stream",
     "text": [
      "Saved:  CastroGinard2022/UBC1330/234923240.png\n"
     ]
    },
    {
     "name": "stderr",
     "output_type": "stream",
     "text": [
      "No data found for target \"98.10588346752 2.42945863502\".\n",
      "No data found for target \"98.04943394194 2.42917531878\".\n",
      "No data found for target \"98.15738282467 2.47446442726\".\n",
      "No data found for target \"98.16731921828 2.48404928838\".\n",
      "No data found for target \"98.15745885804 2.51938411974\".\n"
     ]
    },
    {
     "name": "stdout",
     "output_type": "stream",
     "text": [
      "Saved:  CastroGinard2022/UBC1330/234923191.png\n"
     ]
    },
    {
     "name": "stderr",
     "output_type": "stream",
     "text": [
      "No data found for target \"98.31638134704 2.49272434657\".\n",
      "No data found for target \"98.41617156377 2.52746051753\".\n"
     ]
    },
    {
     "name": "stdout",
     "output_type": "stream",
     "text": [
      "Saved:  CastroGinard2022/UBC1330/234923228.png\n",
      "Saved:  CastroGinard2022/UBC1330/234923278.png\n",
      "Saved:  CastroGinard2022/UBC1330/234923284.png\n"
     ]
    },
    {
     "name": "stderr",
     "output_type": "stream",
     "text": [
      "No data found for target \"98.2693442568 2.53398731064\".\n",
      "No data found for target \"98.43216435027 2.59596257097\".\n",
      "No data found for target \"98.3578570745 2.61630681069\".\n",
      "No data found for target \"98.28264539716 2.57693130435\".\n"
     ]
    },
    {
     "name": "stdout",
     "output_type": "stream",
     "text": [
      "Saved:  CastroGinard2022/UBC1330/234937277.png\n"
     ]
    },
    {
     "name": "stderr",
     "output_type": "stream",
     "text": [
      "No data found for target \"102.1675522285 3.94626871257\".\n"
     ]
    },
    {
     "data": {
      "application/vnd.jupyter.widget-view+json": {
       "model_id": "4b6e1ff670bc4cd5b88e9d755feee312",
       "version_major": 2,
       "version_minor": 0
      },
      "text/plain": [
       "UBC1370: 0it [00:00, ?it/s]"
      ]
     },
     "metadata": {},
     "output_type": "display_data"
    },
    {
     "name": "stderr",
     "output_type": "stream",
     "text": [
      "No data found for target \"111.14026569979 -16.41381443279\".\n",
      "No data found for target \"111.12104362603 -16.40741916521\".\n",
      "No data found for target \"111.14972392567 -16.38659118727\".\n",
      "No data found for target \"111.14466266818 -16.38825767327\".\n",
      "No data found for target \"111.1266296698 -16.39178941755\".\n",
      "No data found for target \"111.15252635566 -16.3799920769\".\n",
      "No data found for target \"111.14690745487 -16.30888384168\".\n",
      "No data found for target \"111.12171110326 -16.31177363226\".\n",
      "No data found for target \"111.20089630353 -16.31010792184\".\n",
      "No data found for target \"111.21245973081 -16.28893545007\".\n",
      "No data found for target \"111.16754166344 -16.2732898029\".\n",
      "No data found for target \"111.30217038629 -16.22640415873\".\n",
      "No data found for target \"111.04659508261 -16.3577882258\".\n",
      "No data found for target \"111.0184402552 -16.29215917408\".\n",
      "No data found for target \"111.09389398272 -16.26521126765\".\n",
      "No data found for target \"111.17271128433 -16.25446761227\".\n",
      "No data found for target \"111.16246462967 -16.24735305199\".\n",
      "No data found for target \"111.17453651443 -16.24420582233\".\n",
      "No data found for target \"111.15793318837 -16.23066641117\".\n",
      "No data found for target \"111.13177457474 -16.21275983724\".\n",
      "No data found for target \"111.13158261394 -16.1481310549\".\n",
      "No data found for target \"111.2419106074 -16.14173282517\".\n"
     ]
    },
    {
     "name": "stdout",
     "output_type": "stream",
     "text": [
      "Saved:  CastroGinard2022/UBC1370/385872868.png\n"
     ]
    },
    {
     "data": {
      "application/vnd.jupyter.widget-view+json": {
       "model_id": "ba2042650f434dcc8805634092e093f0",
       "version_major": 2,
       "version_minor": 0
      },
      "text/plain": [
       "UBC1373: 0it [00:00, ?it/s]"
      ]
     },
     "metadata": {},
     "output_type": "display_data"
    },
    {
     "name": "stderr",
     "output_type": "stream",
     "text": [
      "No data found for target \"109.44531743883 -18.78159191036\".\n"
     ]
    },
    {
     "name": "stdout",
     "output_type": "stream",
     "text": [
      "Saved:  CastroGinard2022/UBC1373/100385974.png\n"
     ]
    },
    {
     "name": "stderr",
     "output_type": "stream",
     "text": [
      "No data found for target \"109.28379626196 -18.82380592241\".\n",
      "No data found for target \"109.32883567026 -18.80102752736\".\n",
      "No data found for target \"109.41856015757 -18.7595858505\".\n",
      "No data found for target \"109.35710959329 -18.77477914626\".\n",
      "No data found for target \"109.3578040089 -18.75350838099\".\n",
      "No data found for target \"109.36699748106 -18.73296073847\".\n",
      "No data found for target \"109.37777812975 -18.72479567213\".\n",
      "No data found for target \"109.33079184461 -18.72891786274\".\n",
      "No data found for target \"109.35902536668 -18.73005536481\".\n",
      "No data found for target \"109.37216960081 -18.71667267929\".\n",
      "No data found for target \"109.3616608707 -18.70761533474\".\n",
      "No data found for target \"109.35838851289 -18.7195304433\".\n",
      "No data found for target \"109.30908325967 -18.71609450616\".\n",
      "No data found for target \"109.44737089199 -18.71715123705\".\n",
      "No data found for target \"109.40790521445 -18.71728612052\".\n",
      "No data found for target \"109.42701843224 -18.71527856286\".\n",
      "No data found for target \"109.48401779104 -18.70284802833\".\n",
      "No data found for target \"109.37440421424 -18.70863054603\".\n",
      "No data found for target \"109.38939631807 -18.69929083861\".\n",
      "No data found for target \"109.39108313069 -18.70701280765\".\n"
     ]
    },
    {
     "name": "stdout",
     "output_type": "stream",
     "text": [
      "Saved:  CastroGinard2022/UBC1373/100385807.png\n"
     ]
    },
    {
     "name": "stderr",
     "output_type": "stream",
     "text": [
      "No data found for target \"109.37468755533 -18.70312686175\".\n",
      "No data found for target \"109.36724028378 -18.70436645507\".\n",
      "No data found for target \"109.39576761419 -18.6915006567\".\n",
      "No data found for target \"109.38771656897 -18.66462638308\".\n",
      "No data found for target \"109.42950159713 -18.66035232968\".\n",
      "No data found for target \"109.42597821218 -18.6620566764\".\n",
      "No data found for target \"109.44806202861 -18.65940838599\".\n",
      "No data found for target \"109.26756011956 -18.71199534684\".\n",
      "No data found for target \"109.39773831707 -18.61874587393\".\n",
      "No data found for target \"109.39157346864 -18.60103388677\".\n",
      "No data found for target \"109.35524742247 -18.57723524464\".\n",
      "No data found for target \"109.57728797762 -18.73153380325\".\n",
      "No data found for target \"109.59162931692 -18.68972450616\".\n"
     ]
    },
    {
     "name": "stdout",
     "output_type": "stream",
     "text": [
      "Saved:  CastroGinard2022/UBC1373/4769901.png\n"
     ]
    },
    {
     "name": "stderr",
     "output_type": "stream",
     "text": [
      "No data found for target \"109.4854440207 -18.65394486129\".\n",
      "No data found for target \"109.47169023082 -18.60242839344\".\n",
      "No data found for target \"109.45649095021 -18.58748300656\".\n",
      "No data found for target \"109.4801163591 -18.56642407944\".\n",
      "No data found for target \"109.23278409474 -18.59877326048\".\n"
     ]
    },
    {
     "data": {
      "application/vnd.jupyter.widget-view+json": {
       "model_id": "635dbc0b2068419d97d1d9379e9da36a",
       "version_major": 2,
       "version_minor": 0
      },
      "text/plain": [
       "UBC1376: 0it [00:00, ?it/s]"
      ]
     },
     "metadata": {},
     "output_type": "display_data"
    },
    {
     "name": "stderr",
     "output_type": "stream",
     "text": [
      "No data found for target \"108.82272062195 -20.77830811313\".\n"
     ]
    },
    {
     "name": "stdout",
     "output_type": "stream",
     "text": [
      "Saved:  CastroGinard2022/UBC1376/99926185.png\n"
     ]
    },
    {
     "name": "stderr",
     "output_type": "stream",
     "text": [
      "No data found for target \"108.71082638498 -20.79803600475\".\n",
      "No data found for target \"108.8382514614 -20.65409658621\".\n",
      "No data found for target \"108.85040921084 -20.62305451777\".\n"
     ]
    },
    {
     "name": "stdout",
     "output_type": "stream",
     "text": [
      "Saved:  CastroGinard2022/UBC1376/99780303.png\n"
     ]
    },
    {
     "name": "stderr",
     "output_type": "stream",
     "text": [
      "No data found for target \"108.66270010927 -20.67815841881\".\n",
      "No data found for target \"108.68736833337 -20.66829885925\".\n"
     ]
    },
    {
     "name": "stdout",
     "output_type": "stream",
     "text": [
      "Saved:  CastroGinard2022/UBC1376/262417477.png\n"
     ]
    },
    {
     "name": "stderr",
     "output_type": "stream",
     "text": [
      "No data found for target \"108.73497183338 -20.6410046922\".\n",
      "No data found for target \"108.75676979395 -20.62160720943\".\n",
      "No data found for target \"108.7317525401 -20.62128723884\".\n",
      "No data found for target \"108.73246918301 -20.62362348788\".\n",
      "No data found for target \"108.60271330555 -20.60892830304\".\n"
     ]
    },
    {
     "name": "stdout",
     "output_type": "stream",
     "text": [
      "Saved:  CastroGinard2022/UBC1376/99780063.png\n"
     ]
    },
    {
     "name": "stderr",
     "output_type": "stream",
     "text": [
      "No data found for target \"108.87812881204 -20.63290514394\".\n"
     ]
    },
    {
     "name": "stdout",
     "output_type": "stream",
     "text": [
      "Saved:  CastroGinard2022/UBC1376/99925588.png\n"
     ]
    },
    {
     "name": "stderr",
     "output_type": "stream",
     "text": [
      "No data found for target \"108.85075346951 -20.52857539135\".\n",
      "No data found for target \"108.85002835754 -20.49048470173\".\n"
     ]
    },
    {
     "data": {
      "application/vnd.jupyter.widget-view+json": {
       "model_id": "84c406129e654e2995c080416f4413c9",
       "version_major": 2,
       "version_minor": 0
      },
      "text/plain": [
       "UBC1380: 0it [00:00, ?it/s]"
      ]
     },
     "metadata": {},
     "output_type": "display_data"
    },
    {
     "name": "stdout",
     "output_type": "stream",
     "text": [
      "Saved:  CastroGinard2022/UBC1380/10826866.png\n"
     ]
    },
    {
     "name": "stderr",
     "output_type": "stream",
     "text": [
      "No data found for target \"110.20585358592 -21.27254017902\".\n",
      "No data found for target \"110.1321501219 -21.22764223289\".\n",
      "No data found for target \"110.15172264708 -21.22195826886\".\n",
      "No data found for target \"110.11318916959 -21.18756983871\".\n",
      "No data found for target \"110.07934170462 -21.11682326423\".\n"
     ]
    },
    {
     "name": "stdout",
     "output_type": "stream",
     "text": [
      "Saved:  CastroGinard2022/UBC1380/10827084.png\n"
     ]
    },
    {
     "name": "stderr",
     "output_type": "stream",
     "text": [
      "No data found for target \"110.38972260023 -21.19566809573\".\n",
      "No data found for target \"110.43088237127 -21.17344522958\".\n",
      "No data found for target \"110.43062441463 -21.11248102953\".\n",
      "No data found for target \"110.33977366955 -21.13106176597\".\n",
      "No data found for target \"110.50436428191 -21.12720177197\".\n",
      "No data found for target \"110.2453252142 -21.17101859022\".\n",
      "No data found for target \"110.21723038316 -21.16784538333\".\n"
     ]
    },
    {
     "name": "stdout",
     "output_type": "stream",
     "text": [
      "Saved:  CastroGinard2022/UBC1380/10827306.png\n",
      "Saved:  CastroGinard2022/UBC1380/10827304.png\n"
     ]
    },
    {
     "name": "stderr",
     "output_type": "stream",
     "text": [
      "No data found for target \"110.24645380281 -21.1210949828\".\n",
      "No data found for target \"110.18518784584 -21.16459269738\".\n"
     ]
    },
    {
     "name": "stdout",
     "output_type": "stream",
     "text": [
      "Saved:  CastroGinard2022/UBC1380/281342651.png\n"
     ]
    },
    {
     "name": "stderr",
     "output_type": "stream",
     "text": [
      "No data found for target \"110.23417671491 -21.12297793822\".\n",
      "No data found for target \"110.2766953904 -21.11316816761\".\n",
      "No data found for target \"110.35134598086 -21.04936895171\".\n",
      "No data found for target \"110.25471694772 -21.09661888839\".\n",
      "No data found for target \"110.27685507541 -21.06016183882\".\n",
      "No data found for target \"110.11618671558 -21.07483080392\".\n",
      "No data found for target \"110.14374554795 -21.06014464525\".\n",
      "No data found for target \"110.08480884764 -21.08260283158\".\n",
      "No data found for target \"110.40121625185 -21.03080498449\".\n",
      "No data found for target \"110.35600927163 -20.9965391043\".\n"
     ]
    },
    {
     "name": "stdout",
     "output_type": "stream",
     "text": [
      "Saved:  CastroGinard2022/UBC1380/412262245.png\n"
     ]
    },
    {
     "name": "stderr",
     "output_type": "stream",
     "text": [
      "No data found for target \"110.38213209111 -20.96413416054\".\n"
     ]
    },
    {
     "data": {
      "application/vnd.jupyter.widget-view+json": {
       "model_id": "5795985cb98d4758999f6fe66d1c53de",
       "version_major": 2,
       "version_minor": 0
      },
      "text/plain": [
       "UBC1390: 0it [00:00, ?it/s]"
      ]
     },
     "metadata": {},
     "output_type": "display_data"
    },
    {
     "name": "stderr",
     "output_type": "stream",
     "text": [
      "No data found for target \"115.00177460333 -25.6724762384\".\n",
      "No data found for target \"115.02017442586 -25.60852109404\".\n",
      "No data found for target \"115.07106721397 -25.58305888738\".\n",
      "No data found for target \"115.01495709549 -25.56819715745\".\n",
      "No data found for target \"115.09675948977 -25.57039728318\".\n",
      "No data found for target \"115.10228789975 -25.54446910283\".\n",
      "No data found for target \"115.08437987733 -25.49894684758\".\n",
      "No data found for target \"115.27960437718 -25.55854922875\".\n",
      "No data found for target \"115.23536199315 -25.52615709546\".\n",
      "No data found for target \"115.23792667482 -25.51538470974\".\n",
      "No data found for target \"114.97791350538 -25.58067572737\".\n",
      "No data found for target \"114.98450436775 -25.55611462622\".\n",
      "No data found for target \"115.01938808421 -25.54519566573\".\n"
     ]
    },
    {
     "name": "stdout",
     "output_type": "stream",
     "text": [
      "Saved:  CastroGinard2022/UBC1390/125562843.png\n"
     ]
    },
    {
     "name": "stderr",
     "output_type": "stream",
     "text": [
      "No data found for target \"114.99241854676 -25.5446866374\".\n",
      "No data found for target \"115.00704538088 -25.54629619988\".\n",
      "No data found for target \"114.98884732065 -25.54232348085\".\n"
     ]
    },
    {
     "name": "stdout",
     "output_type": "stream",
     "text": [
      "Saved:  CastroGinard2022/UBC1390/125617022.png\n"
     ]
    },
    {
     "name": "stderr",
     "output_type": "stream",
     "text": [
      "No data found for target \"114.90028759956 -25.5284640827\".\n",
      "No data found for target \"114.94314460915 -25.50517205562\".\n"
     ]
    },
    {
     "name": "stdout",
     "output_type": "stream",
     "text": [
      "Saved:  CastroGinard2022/UBC1390/125616982.png\n"
     ]
    },
    {
     "name": "stderr",
     "output_type": "stream",
     "text": [
      "No data found for target \"115.06052582912 -25.4840866216\".\n"
     ]
    },
    {
     "data": {
      "application/vnd.jupyter.widget-view+json": {
       "model_id": "898b90d7c8564ec8acce31acd93c386c",
       "version_major": 2,
       "version_minor": 0
      },
      "text/plain": [
       "UBC1391: 0it [00:00, ?it/s]"
      ]
     },
     "metadata": {},
     "output_type": "display_data"
    },
    {
     "name": "stderr",
     "output_type": "stream",
     "text": [
      "No data found for target \"115.67905971578 -25.49332668867\".\n",
      "No data found for target \"115.72640768898 -25.38982587187\".\n",
      "No data found for target \"115.67022591728 -25.41466513821\".\n",
      "No data found for target \"115.68003406234 -25.3693651545\".\n",
      "No data found for target \"115.62685660949 -25.37122656189\".\n",
      "No data found for target \"115.64731227617 -25.30341200413\".\n",
      "No data found for target \"115.86354256835 -25.35135812029\".\n"
     ]
    },
    {
     "name": "stdout",
     "output_type": "stream",
     "text": [
      "Saved:  CastroGinard2022/UBC1391/126266927.png\n"
     ]
    },
    {
     "name": "stderr",
     "output_type": "stream",
     "text": [
      "No data found for target \"115.78021135922 -25.37725274939\".\n",
      "No data found for target \"115.74416693404 -25.34284033375\".\n",
      "No data found for target \"115.75121501731 -25.30835547764\".\n",
      "No data found for target \"115.76129610963 -25.28093147673\".\n",
      "No data found for target \"115.75572026534 -25.28289035195\".\n",
      "No data found for target \"115.76767208081 -25.27289793194\".\n",
      "No data found for target \"115.80284608753 -25.26240201306\".\n",
      "No data found for target \"115.69112905531 -25.26487011032\".\n",
      "No data found for target \"115.70285047166 -25.24875810359\".\n",
      "No data found for target \"115.73439267922 -25.26051737599\".\n",
      "No data found for target \"115.76560247214 -25.23959189891\".\n",
      "No data found for target \"115.7227643959 -25.22782681251\".\n",
      "No data found for target \"115.81596105031 -25.20753331066\".\n",
      "No data found for target \"115.79745728192 -25.20092146981\".\n",
      "No data found for target \"115.76860339419 -25.19818038783\".\n",
      "No data found for target \"115.66940469031 -25.26545212185\".\n",
      "No data found for target \"115.70616102981 -25.24100224816\".\n"
     ]
    },
    {
     "name": "stdout",
     "output_type": "stream",
     "text": [
      "Saved:  CastroGinard2022/UBC1391/126267511.png\n"
     ]
    },
    {
     "name": "stderr",
     "output_type": "stream",
     "text": [
      "No data found for target \"115.67242435846 -25.20914791832\".\n",
      "No data found for target \"115.72731162805 -25.21967478604\".\n",
      "No data found for target \"115.73081394816 -25.20088712073\".\n",
      "No data found for target \"115.72540770319 -25.1896388955\".\n",
      "No data found for target \"115.768991715 -25.17740404935\".\n",
      "No data found for target \"115.7410371428 -25.17243258087\".\n",
      "No data found for target \"115.73576857636 -25.17746278408\".\n",
      "No data found for target \"115.59457202956 -25.14566877889\".\n",
      "No data found for target \"115.64475743175 -25.11264746689\".\n",
      "No data found for target \"115.70875145095 -25.06659695011\".\n",
      "No data found for target \"115.79309214561 -25.03461135972\".\n",
      "No data found for target \"118.33752050646 -28.4844631317\".\n",
      "No data found for target \"118.99658432983 -28.23691280469\".\n"
     ]
    },
    {
     "data": {
      "application/vnd.jupyter.widget-view+json": {
       "model_id": "35db4fee35d34e05b6a38c2ec7a722ff",
       "version_major": 2,
       "version_minor": 0
      },
      "text/plain": [
       "UBC1410: 0it [00:00, ?it/s]"
      ]
     },
     "metadata": {},
     "output_type": "display_data"
    },
    {
     "name": "stderr",
     "output_type": "stream",
     "text": [
      "No data found for target \"120.02343831264 -28.87889086395\".\n",
      "No data found for target \"119.9921901027 -28.86952180249\".\n",
      "No data found for target \"119.99786859137 -28.88102810014\".\n",
      "No data found for target \"120.01491932793 -28.87319643468\".\n",
      "No data found for target \"120.00655359575 -28.86750399922\".\n",
      "No data found for target \"120.01641835536 -28.85831592311\".\n",
      "No data found for target \"120.01315954498 -28.86214959445\".\n",
      "No data found for target \"120.03486918575 -28.84623093354\".\n",
      "No data found for target \"120.05557142251 -28.84369783121\".\n",
      "No data found for target \"120.13302491453 -28.86260614725\".\n"
     ]
    },
    {
     "name": "stdout",
     "output_type": "stream",
     "text": [
      "Saved:  CastroGinard2022/UBC1410/130582270.png\n",
      "Saved:  CastroGinard2022/UBC1410/130348667.png\n"
     ]
    },
    {
     "name": "stderr",
     "output_type": "stream",
     "text": [
      "No data found for target \"119.90670760808 -28.87197985527\".\n",
      "No data found for target \"119.99206712815 -28.86346166458\".\n",
      "No data found for target \"120.01253845169 -28.84484833976\".\n",
      "No data found for target \"119.99058728552 -28.84233794849\".\n",
      "No data found for target \"120.00225220651 -28.82675568941\".\n",
      "No data found for target \"120.029778223 -28.80753527248\".\n",
      "No data found for target \"119.90921083714 -28.80335692371\".\n",
      "No data found for target \"119.96337194636 -28.7758096836\".\n",
      "No data found for target \"118.66472702997 -37.10196899838\".\n"
     ]
    },
    {
     "data": {
      "application/vnd.jupyter.widget-view+json": {
       "model_id": "df329a7e4954499293c017bf9d1e8c0e",
       "version_major": 2,
       "version_minor": 0
      },
      "text/plain": [
       "UBC1432: 0it [00:00, ?it/s]"
      ]
     },
     "metadata": {},
     "output_type": "display_data"
    },
    {
     "name": "stderr",
     "output_type": "stream",
     "text": [
      "No data found for target \"124.88411400016 -34.72212997105\".\n",
      "No data found for target \"124.83340727463 -34.67003306133\".\n",
      "No data found for target \"124.80954153679 -34.63125199139\".\n",
      "No data found for target \"125.02140255809 -34.57138217992\".\n",
      "No data found for target \"125.03927079187 -34.57191872439\".\n"
     ]
    },
    {
     "name": "stdout",
     "output_type": "stream",
     "text": [
      "Saved:  CastroGinard2022/UBC1432/147234044.png\n"
     ]
    },
    {
     "name": "stderr",
     "output_type": "stream",
     "text": [
      "No data found for target \"124.8124222685 -34.58515260559\".\n",
      "No data found for target \"124.89883411778 -34.56783619514\".\n",
      "No data found for target \"125.01249991815 -34.51314857447\".\n",
      "No data found for target \"125.02322702741 -34.51350826389\".\n",
      "No data found for target \"124.95423544673 -34.52015903519\".\n",
      "No data found for target \"124.94648258246 -34.49192069984\".\n",
      "No data found for target \"124.89466366566 -34.49994004515\".\n",
      "No data found for target \"125.05845495069 -34.45905469097\".\n",
      "No data found for target \"125.04706814128 -34.41749113101\".\n",
      "No data found for target \"124.52460079656 -34.73368002069\".\n",
      "No data found for target \"124.49244722096 -34.70734094572\".\n",
      "No data found for target \"124.43999433922 -34.61174065625\".\n",
      "No data found for target \"124.65066119982 -34.71430003628\".\n",
      "No data found for target \"124.59900584815 -34.65746740599\".\n",
      "No data found for target \"124.72997143449 -34.64964583347\".\n",
      "No data found for target \"124.68611112778 -34.60257155417\".\n"
     ]
    },
    {
     "name": "stdout",
     "output_type": "stream",
     "text": [
      "Saved:  CastroGinard2022/UBC1432/146979830.png\n"
     ]
    },
    {
     "name": "stderr",
     "output_type": "stream",
     "text": [
      "No data found for target \"124.49257954843 -34.6043727304\".\n",
      "No data found for target \"124.64898854676 -34.56069812077\".\n",
      "No data found for target \"124.68733969542 -34.49954859547\".\n",
      "No data found for target \"124.67331536555 -34.49477007291\".\n",
      "No data found for target \"124.36264569026 -34.67855049648\".\n",
      "No data found for target \"124.39695716726 -34.59091965718\".\n",
      "No data found for target \"124.37003015129 -34.51077899742\".\n",
      "No data found for target \"124.20257652043 -34.62163982662\".\n",
      "No data found for target \"124.33596685793 -34.51485775215\".\n",
      "No data found for target \"124.35016728347 -34.5137575515\".\n",
      "No data found for target \"124.46222584059 -34.55867506094\".\n",
      "No data found for target \"124.47076144759 -34.53723489468\".\n",
      "No data found for target \"124.52828010761 -34.51149471703\".\n",
      "No data found for target \"124.43146453262 -34.51919998698\".\n",
      "No data found for target \"124.36087304473 -34.48539129571\".\n",
      "/home/jp/miniconda3/envs/lk2/lib/python3.10/site-packages/astropy/timeseries/periodograms/bls/core.py:759: RuntimeWarning: invalid value encountered in add\n",
      "  transit_time += t_ref\n"
     ]
    },
    {
     "name": "stdout",
     "output_type": "stream",
     "text": [
      "Saved:  CastroGinard2022/UBC1432/146776643.png\n"
     ]
    },
    {
     "name": "stderr",
     "output_type": "stream",
     "text": [
      "No data found for target \"124.79164775826 -34.56920590402\".\n",
      "No data found for target \"124.84780426575 -34.54603706432\".\n",
      "No data found for target \"124.81669805973 -34.53495917774\".\n",
      "No data found for target \"124.79935175284 -34.53538019466\".\n",
      "No data found for target \"124.87929385185 -34.51344727897\".\n",
      "No data found for target \"124.82922664376 -34.51005742253\".\n",
      "No data found for target \"124.81990184995 -34.50748043808\".\n",
      "No data found for target \"124.84290014174 -34.50395575924\".\n",
      "No data found for target \"124.81902166997 -34.49939381668\".\n",
      "No data found for target \"124.82976601006 -34.48277199076\".\n"
     ]
    },
    {
     "name": "stdout",
     "output_type": "stream",
     "text": [
      "Saved:  CastroGinard2022/UBC1432/147234636.png\n",
      "Saved:  CastroGinard2022/UBC1432/147234662.png\n"
     ]
    },
    {
     "name": "stderr",
     "output_type": "stream",
     "text": [
      "No data found for target \"124.82586744915 -34.48700669756\".\n",
      "No data found for target \"124.82196045412 -34.48471446289\".\n",
      "No data found for target \"124.84892381278 -34.48529561168\".\n",
      "No data found for target \"124.85231731794 -34.48969807397\".\n",
      "No data found for target \"124.84470548061 -34.47810873263\".\n",
      "No data found for target \"124.83860386 -34.47905012006\".\n",
      "No data found for target \"124.83439848409 -34.48370741889\".\n",
      "No data found for target \"124.79474129416 -34.49430667885\".\n",
      "No data found for target \"124.77546746014 -34.48361119874\".\n"
     ]
    },
    {
     "name": "stdout",
     "output_type": "stream",
     "text": [
      "Saved:  CastroGinard2022/UBC1432/147154050.png\n"
     ]
    },
    {
     "name": "stderr",
     "output_type": "stream",
     "text": [
      "No data found for target \"124.82094316188 -34.47501772717\".\n",
      "No data found for target \"124.814255463 -34.46956749179\".\n",
      "No data found for target \"124.813263797 -34.47430190675\".\n",
      "No data found for target \"124.81194477978 -34.48313793272\".\n",
      "No data found for target \"124.82248964352 -34.46495827186\".\n",
      "No data found for target \"124.8182187038 -34.4667330442\".\n",
      "No data found for target \"124.84127118584 -34.44794453653\".\n",
      "No data found for target \"124.83280061878 -34.44409883603\".\n",
      "No data found for target \"124.79192112644 -34.46448728012\".\n",
      "No data found for target \"124.80291920581 -34.45452474566\".\n",
      "No data found for target \"124.78640713244 -34.44312566198\".\n",
      "No data found for target \"124.80973786927 -34.41670755334\".\n",
      "No data found for target \"124.88643620777 -34.46444557299\".\n",
      "No data found for target \"124.85898583188 -34.4594010758\".\n",
      "No data found for target \"124.89465088003 -34.42192146024\".\n",
      "No data found for target \"124.84103561254 -34.4195319651\".\n",
      "No data found for target \"124.8766322072 -34.39470049207\".\n"
     ]
    },
    {
     "name": "stdout",
     "output_type": "stream",
     "text": [
      "Saved:  CastroGinard2022/UBC1432/147234990.png\n",
      "Saved:  CastroGinard2022/UBC1432/147235090.png\n"
     ]
    },
    {
     "name": "stderr",
     "output_type": "stream",
     "text": [
      "No data found for target \"124.89435790605 -34.39630570618\".\n",
      "No data found for target \"124.88855029728 -34.3565449695\".\n",
      "No data found for target \"124.73827127977 -34.45838191736\".\n",
      "No data found for target \"124.79669279836 -34.41359397102\".\n",
      "No data found for target \"124.76688026314 -34.39594618097\".\n",
      "No data found for target \"124.7905161894 -34.33988274111\".\n",
      "No data found for target \"124.85403381269 -34.33171774197\".\n",
      "No data found for target \"124.84493848477 -34.30600128341\".\n",
      "No data found for target \"124.82588570892 -34.28764318117\".\n",
      "No data found for target \"125.00375757004 -34.33842617824\".\n",
      "No data found for target \"124.96263867966 -34.29649984516\".\n",
      "No data found for target \"124.96239270857 -34.28962119149\".\n",
      "No data found for target \"124.8544158812 -34.24574025006\".\n",
      "No data found for target \"124.86954797606 -34.23924034542\".\n",
      "No data found for target \"124.64760613257 -34.37109978421\".\n",
      "No data found for target \"124.72785332316 -34.28878759355\".\n",
      "No data found for target \"133.08924462647 -43.93110212997\".\n",
      "No data found for target \"131.78037533895 -45.46252050577\".\n"
     ]
    },
    {
     "data": {
      "application/vnd.jupyter.widget-view+json": {
       "model_id": "e8098aa92c3647ec99ee622f42b1a363",
       "version_major": 2,
       "version_minor": 0
      },
      "text/plain": [
       "UBC1446: 0it [00:00, ?it/s]"
      ]
     },
     "metadata": {},
     "output_type": "display_data"
    },
    {
     "name": "stderr",
     "output_type": "stream",
     "text": [
      "No data found for target \"129.35811197733 -48.25679073526\".\n"
     ]
    },
    {
     "name": "stdout",
     "output_type": "stream",
     "text": [
      "Saved:  CastroGinard2022/UBC1446/92887902.png\n",
      "Saved:  CastroGinard2022/UBC1446/92887578.png\n"
     ]
    },
    {
     "name": "stderr",
     "output_type": "stream",
     "text": [
      "No data found for target \"129.47911143909 -48.0613946176\".\n",
      "No data found for target \"129.33497529748 -48.16601130945\".\n",
      "No data found for target \"129.35426688229 -48.12299145519\".\n"
     ]
    },
    {
     "name": "stdout",
     "output_type": "stream",
     "text": [
      "Saved:  CastroGinard2022/UBC1446/92887629.png\n"
     ]
    },
    {
     "name": "stderr",
     "output_type": "stream",
     "text": [
      "No data found for target \"129.31787999897 -48.0985590038\".\n",
      "No data found for target \"129.29867971091 -48.09671768657\".\n"
     ]
    },
    {
     "name": "stdout",
     "output_type": "stream",
     "text": [
      "Saved:  CastroGinard2022/UBC1446/92887503.png\n"
     ]
    },
    {
     "name": "stderr",
     "output_type": "stream",
     "text": [
      "No data found for target \"129.26890093487 -48.09410629042\".\n",
      "No data found for target \"129.27620060593 -48.09252312299\".\n"
     ]
    },
    {
     "name": "stdout",
     "output_type": "stream",
     "text": [
      "Saved:  CastroGinard2022/UBC1446/92887340.png\n"
     ]
    },
    {
     "data": {
      "application/vnd.jupyter.widget-view+json": {
       "model_id": "2ab50dd2b1f14c87ad4f465a147690f3",
       "version_major": 2,
       "version_minor": 0
      },
      "text/plain": [
       "UBC1447: 0it [00:00, ?it/s]"
      ]
     },
     "metadata": {},
     "output_type": "display_data"
    },
    {
     "name": "stderr",
     "output_type": "stream",
     "text": [
      "No data found for target \"133.3398437556 -46.08480944576\".\n",
      "No data found for target \"133.28700558209 -46.0743993519\".\n",
      "No data found for target \"133.33851131361 -46.05137763466\".\n",
      "No data found for target \"133.28278311289 -46.06046133695\".\n",
      "No data found for target \"133.28194522522 -46.00852606296\".\n",
      "No data found for target \"133.41137681627 -46.10506089183\".\n",
      "No data found for target \"133.44291125604 -46.06695614747\".\n"
     ]
    },
    {
     "name": "stdout",
     "output_type": "stream",
     "text": [
      "Saved:  CastroGinard2022/UBC1447/29690271.png\n"
     ]
    },
    {
     "name": "stderr",
     "output_type": "stream",
     "text": [
      "No data found for target \"133.35978967396 -46.04607269309\".\n",
      "No data found for target \"133.34500917326 -46.04722079609\".\n",
      "No data found for target \"133.34355298567 -46.0392222529\".\n",
      "No data found for target \"133.36174580542 -46.02606558289\".\n",
      "No data found for target \"133.33194605195 -46.03742412045\".\n"
     ]
    },
    {
     "name": "stdout",
     "output_type": "stream",
     "text": [
      "Saved:  CastroGinard2022/UBC1447/29867312.png\n"
     ]
    },
    {
     "name": "stderr",
     "output_type": "stream",
     "text": [
      "No data found for target \"133.31941004652 -46.01410697274\".\n",
      "No data found for target \"133.3583982292 -45.9935123333\".\n",
      "No data found for target \"133.19052719092 -46.00714108242\".\n",
      "No data found for target \"133.17354132258 -46.00856125892\".\n",
      "No data found for target \"133.24293474708 -45.99604280411\".\n",
      "No data found for target \"133.27983465765 -45.97462815901\".\n",
      "No data found for target \"133.2696463323 -45.87739003583\".\n",
      "No data found for target \"133.21494646132 -45.88701198001\".\n"
     ]
    },
    {
     "data": {
      "application/vnd.jupyter.widget-view+json": {
       "model_id": "3672dc214ef948c89aac429ea0aa57bd",
       "version_major": 2,
       "version_minor": 0
      },
      "text/plain": [
       "UBC1449: 0it [00:00, ?it/s]"
      ]
     },
     "metadata": {},
     "output_type": "display_data"
    },
    {
     "name": "stderr",
     "output_type": "stream",
     "text": [
      "No data found for target \"133.17166514146 -46.38702848979\".\n",
      "No data found for target \"133.17873094525 -46.3228162648\".\n",
      "No data found for target \"133.19112214756 -46.30306510853\".\n"
     ]
    },
    {
     "name": "stdout",
     "output_type": "stream",
     "text": [
      "Saved:  CastroGinard2022/UBC1449/29417022.png\n"
     ]
    },
    {
     "name": "stderr",
     "output_type": "stream",
     "text": [
      "No data found for target \"133.00418278019 -46.33373772454\".\n"
     ]
    },
    {
     "name": "stdout",
     "output_type": "stream",
     "text": [
      "Saved:  CastroGinard2022/UBC1449/29588544.png\n"
     ]
    },
    {
     "name": "stderr",
     "output_type": "stream",
     "text": [
      "No data found for target \"133.15122028831 -46.26007212224\".\n"
     ]
    },
    {
     "name": "stdout",
     "output_type": "stream",
     "text": [
      "Saved:  CastroGinard2022/UBC1449/29588217.png\n"
     ]
    },
    {
     "name": "stderr",
     "output_type": "stream",
     "text": [
      "No data found for target \"133.11539949453 -46.27705361107\".\n",
      "No data found for target \"133.07426121588 -46.27116760043\".\n",
      "No data found for target \"133.09063784279 -46.24192365395\".\n"
     ]
    },
    {
     "name": "stdout",
     "output_type": "stream",
     "text": [
      "Saved:  CastroGinard2022/UBC1449/29588038.png\n",
      "Saved:  CastroGinard2022/UBC1449/29417971.png\n"
     ]
    },
    {
     "name": "stderr",
     "output_type": "stream",
     "text": [
      "No data found for target \"133.38843599045 -46.41452504157\".\n",
      "No data found for target \"133.32137339574 -46.331047449\".\n",
      "No data found for target \"133.23185636878 -46.31077267398\".\n"
     ]
    },
    {
     "name": "stdout",
     "output_type": "stream",
     "text": [
      "Saved:  CastroGinard2022/UBC1449/29689287.png\n"
     ]
    },
    {
     "name": "stderr",
     "output_type": "stream",
     "text": [
      "No data found for target \"133.31153998561 -46.29650639791\".\n"
     ]
    },
    {
     "name": "stdout",
     "output_type": "stream",
     "text": [
      "Saved:  CastroGinard2022/UBC1449/29689387.png\n",
      "Saved:  CastroGinard2022/UBC1449/29588200.png\n"
     ]
    },
    {
     "name": "stderr",
     "output_type": "stream",
     "text": [
      "No data found for target \"133.29803875556 -46.24345481822\".\n",
      "No data found for target \"133.27679292964 -46.23196839295\".\n",
      "No data found for target \"134.11339504829 -48.49696300566\".\n"
     ]
    },
    {
     "data": {
      "application/vnd.jupyter.widget-view+json": {
       "model_id": "5448b75c53c5404ba94d748317e67c8c",
       "version_major": 2,
       "version_minor": 0
      },
      "text/plain": [
       "UBC1473: 0it [00:00, ?it/s]"
      ]
     },
     "metadata": {},
     "output_type": "display_data"
    },
    {
     "name": "stderr",
     "output_type": "stream",
     "text": [
      "No data found for target \"151.10949841664 -55.59308863035\".\n",
      "No data found for target \"151.05294387494 -55.60666070163\".\n"
     ]
    },
    {
     "name": "stdout",
     "output_type": "stream",
     "text": [
      "Saved:  CastroGinard2022/UBC1473/462359394.png\n"
     ]
    },
    {
     "name": "stderr",
     "output_type": "stream",
     "text": [
      "No data found for target \"150.95986031688 -55.58933212357\".\n",
      "No data found for target \"150.97422118964 -55.554260777\".\n",
      "No data found for target \"151.27795660106 -55.61611700185\".\n",
      "No data found for target \"151.20437160391 -55.57730397704\".\n",
      "No data found for target \"151.21704924827 -55.48996921942\".\n",
      "No data found for target \"151.13831902398 -55.57729631465\".\n",
      "No data found for target \"151.1237524694 -55.53331112172\".\n",
      "No data found for target \"151.10771456277 -55.52393246592\".\n",
      "No data found for target \"151.18189538318 -55.4937092894\".\n",
      "No data found for target \"151.13154590639 -55.50639766714\".\n",
      "No data found for target \"151.13463051401 -55.50556009136\".\n",
      "No data found for target \"151.09020566502 -55.40988629531\".\n",
      "No data found for target \"150.94592327337 -55.46958433895\".\n",
      "No data found for target \"150.88492376865 -55.43256474761\".\n",
      "No data found for target \"151.06859865519 -55.35497862805\".\n"
     ]
    },
    {
     "data": {
      "application/vnd.jupyter.widget-view+json": {
       "model_id": "d4b52d7e0622438490106ec537b9ae50",
       "version_major": 2,
       "version_minor": 0
      },
      "text/plain": [
       "UBC1491: 0it [00:00, ?it/s]"
      ]
     },
     "metadata": {},
     "output_type": "display_data"
    },
    {
     "name": "stderr",
     "output_type": "stream",
     "text": [
      "No data found for target \"164.80900706058 -59.5389860047\".\n",
      "No data found for target \"164.81927354937 -59.55013075482\".\n",
      "No data found for target \"164.79787539903 -59.52341185462\".\n",
      "No data found for target \"164.71254620935 -59.52392656364\".\n",
      "No data found for target \"165.1240667449 -59.48587213121\".\n",
      "No data found for target \"165.12942648468 -59.4901018289\".\n",
      "No data found for target \"165.05610657527 -59.44655349869\".\n",
      "No data found for target \"164.97414686139 -59.48121123718\".\n",
      "No data found for target \"164.82141327445 -59.46323244866\".\n",
      "No data found for target \"164.79270325383 -59.45877052516\".\n"
     ]
    },
    {
     "name": "stdout",
     "output_type": "stream",
     "text": [
      "Saved:  CastroGinard2022/UBC1491/304041219.png\n"
     ]
    },
    {
     "name": "stderr",
     "output_type": "stream",
     "text": [
      "No data found for target \"164.78220099077 -59.42198274497\".\n",
      "No data found for target \"164.98848561293 -59.45378775558\".\n",
      "No data found for target \"165.00801885534 -59.43834602493\".\n",
      "No data found for target \"164.93121466453 -59.45820074473\".\n",
      "No data found for target \"164.95165828847 -59.44686795898\".\n"
     ]
    },
    {
     "name": "stdout",
     "output_type": "stream",
     "text": [
      "Saved:  CastroGinard2022/UBC1491/304457392.png\n"
     ]
    },
    {
     "name": "stderr",
     "output_type": "stream",
     "text": [
      "No data found for target \"165.01055208782 -59.42188548677\".\n",
      "No data found for target \"164.95397547914 -59.39633339168\".\n",
      "No data found for target \"164.85205058431 -59.39300292898\".\n"
     ]
    },
    {
     "name": "stdout",
     "output_type": "stream",
     "text": [
      "Saved:  CastroGinard2022/UBC1491/304041441.png\n"
     ]
    },
    {
     "name": "stderr",
     "output_type": "stream",
     "text": [
      "No data found for target \"164.79791878621 -59.3873513215\".\n",
      "No data found for target \"165.05236997075 -59.38876148326\".\n",
      "No data found for target \"165.03084621941 -59.36947047882\".\n",
      "No data found for target \"165.02427205447 -59.36669469548\".\n",
      "No data found for target \"164.99772514677 -59.35421835112\".\n",
      "No data found for target \"164.70114317881 -59.51004420196\".\n",
      "No data found for target \"164.67750246339 -59.51286179993\".\n",
      "No data found for target \"164.67529594359 -59.45621466713\".\n",
      "No data found for target \"164.73015349212 -59.40462325503\".\n"
     ]
    },
    {
     "data": {
      "application/vnd.jupyter.widget-view+json": {
       "model_id": "88d14086e8f148abb12b6ea43b543854",
       "version_major": 2,
       "version_minor": 0
      },
      "text/plain": [
       "UBC1497: 0it [00:00, ?it/s]"
      ]
     },
     "metadata": {},
     "output_type": "display_data"
    },
    {
     "name": "stderr",
     "output_type": "stream",
     "text": [
      "No data found for target \"166.29624331834 -61.25327927885\".\n",
      "No data found for target \"166.24632994918 -61.24932253966\".\n",
      "No data found for target \"166.23750733647 -61.22980456598\".\n",
      "No data found for target \"166.22544495815 -61.22219212838\".\n",
      "No data found for target \"166.20208052132 -61.1887932472\".\n",
      "No data found for target \"166.28287961713 -61.17837280559\".\n",
      "No data found for target \"166.27953980664 -61.16030621602\".\n",
      "No data found for target \"166.4381899465 -61.15039082459\".\n",
      "No data found for target \"166.42617551351 -61.0255190567\".\n",
      "No data found for target \"166.44063896707 -61.01918628233\".\n",
      "No data found for target \"166.26566588464 -60.95202295434\".\n",
      "No data found for target \"166.04586797845 -61.17393949662\".\n",
      "No data found for target \"166.03398125136 -61.15237074074\".\n",
      "No data found for target \"165.99292443194 -61.135906114\".\n",
      "No data found for target \"165.8987456259 -61.13262120564\".\n",
      "No data found for target \"165.80658617375 -61.13971037458\".\n",
      "No data found for target \"165.8968186239 -61.09151318151\".\n",
      "No data found for target \"165.74081848447 -61.08305147838\".\n",
      "No data found for target \"166.17082796666 -61.14985197161\".\n",
      "No data found for target \"166.11177208225 -61.14365338884\".\n",
      "No data found for target \"166.04998094199 -61.12460580216\".\n",
      "No data found for target \"166.08275743611 -61.09899379339\".\n",
      "No data found for target \"166.00709939552 -61.1211968074\".\n"
     ]
    },
    {
     "name": "stdout",
     "output_type": "stream",
     "text": [
      "Saved:  CastroGinard2022/UBC1497/466461888.png\n"
     ]
    },
    {
     "name": "stderr",
     "output_type": "stream",
     "text": [
      "No data found for target \"165.96359387523 -61.08559842702\".\n"
     ]
    },
    {
     "name": "stdout",
     "output_type": "stream",
     "text": [
      "Saved:  CastroGinard2022/UBC1497/466462011.png\n"
     ]
    },
    {
     "name": "stderr",
     "output_type": "stream",
     "text": [
      "No data found for target \"166.02741932612 -60.94648261774\".\n",
      "No data found for target \"166.00333863144 -60.95311346601\".\n"
     ]
    },
    {
     "data": {
      "application/vnd.jupyter.widget-view+json": {
       "model_id": "af1f65ea89554f6fbc35bb1eb2dc2e7e",
       "version_major": 2,
       "version_minor": 0
      },
      "text/plain": [
       "UBC1509: 0it [00:00, ?it/s]"
      ]
     },
     "metadata": {},
     "output_type": "display_data"
    },
    {
     "name": "stderr",
     "output_type": "stream",
     "text": [
      "No data found for target \"177.13137364326 -64.11474663833\".\n",
      "No data found for target \"176.919417694 -64.14743378577\".\n"
     ]
    },
    {
     "name": "stdout",
     "output_type": "stream",
     "text": [
      "Saved:  CastroGinard2022/UBC1509/324286805.png\n"
     ]
    },
    {
     "name": "stderr",
     "output_type": "stream",
     "text": [
      "No data found for target \"176.48496966821 -64.27949938986\".\n",
      "No data found for target \"176.72642307366 -64.21932252267\".\n"
     ]
    },
    {
     "name": "stdout",
     "output_type": "stream",
     "text": [
      "Saved:  CastroGinard2022/UBC1509/323480722.png\n"
     ]
    },
    {
     "name": "stderr",
     "output_type": "stream",
     "text": [
      "No data found for target \"176.51411889022 -64.17398454194\".\n",
      "No data found for target \"176.50919921342 -64.17573146826\".\n",
      "No data found for target \"176.51732635047 -64.13820485278\".\n",
      "No data found for target \"176.53820293443 -64.12601255805\".\n",
      "No data found for target \"176.5023398179 -64.13470607309\".\n",
      "No data found for target \"176.51112873307 -64.13921562475\".\n",
      "No data found for target \"176.3680907518 -64.20797674181\".\n",
      "No data found for target \"176.4588583374 -64.16797675303\".\n"
     ]
    },
    {
     "name": "stdout",
     "output_type": "stream",
     "text": [
      "Saved:  CastroGinard2022/UBC1509/323480072.png\n"
     ]
    },
    {
     "name": "stderr",
     "output_type": "stream",
     "text": [
      "No data found for target \"176.30517182639 -64.07825667464\".\n",
      "No data found for target \"176.78408995416 -64.16161720163\".\n",
      "No data found for target \"176.713140544 -64.14971237083\".\n",
      "No data found for target \"176.6403700049 -64.14018304483\".\n",
      "No data found for target \"176.70118755536 -64.12461089107\".\n"
     ]
    },
    {
     "name": "stdout",
     "output_type": "stream",
     "text": [
      "Saved:  CastroGinard2022/UBC1509/323613280.png\n",
      "Saved:  CastroGinard2022/UBC1509/323613523.png\n"
     ]
    },
    {
     "name": "stderr",
     "output_type": "stream",
     "text": [
      "No data found for target \"176.71484522761 -64.0917240974\".\n"
     ]
    },
    {
     "name": "stdout",
     "output_type": "stream",
     "text": [
      "Saved:  CastroGinard2022/UBC1509/323613459.png\n",
      "Saved:  CastroGinard2022/UBC1509/323613416.png\n"
     ]
    },
    {
     "name": "stderr",
     "output_type": "stream",
     "text": [
      "No data found for target \"176.56628639938 -64.08633331126\".\n"
     ]
    },
    {
     "name": "stdout",
     "output_type": "stream",
     "text": [
      "Saved:  CastroGinard2022/UBC1509/323613498.png\n"
     ]
    },
    {
     "name": "stderr",
     "output_type": "stream",
     "text": [
      "No data found for target \"176.5844155581 -64.09892692828\".\n",
      "No data found for target \"176.5115956973 -64.09716202081\".\n"
     ]
    },
    {
     "name": "stdout",
     "output_type": "stream",
     "text": [
      "Saved:  CastroGinard2022/UBC1509/323613519.png\n",
      "Saved:  CastroGinard2022/UBC1509/323613814.png\n"
     ]
    },
    {
     "name": "stderr",
     "output_type": "stream",
     "text": [
      "No data found for target \"176.51990891106 -64.06428541792\".\n"
     ]
    },
    {
     "name": "stdout",
     "output_type": "stream",
     "text": [
      "Saved:  CastroGinard2022/UBC1509/323613572.png\n"
     ]
    },
    {
     "name": "stderr",
     "output_type": "stream",
     "text": [
      "No data found for target \"176.65857116432 -64.056844066\".\n"
     ]
    },
    {
     "name": "stdout",
     "output_type": "stream",
     "text": [
      "Saved:  CastroGinard2022/UBC1509/323614334.png\n"
     ]
    },
    {
     "name": "stderr",
     "output_type": "stream",
     "text": [
      "No data found for target \"176.56002714701 -64.03006269816\".\n",
      "No data found for target \"176.34316042551 -64.03023091676\".\n",
      "No data found for target \"176.43633164538 -64.04356013079\".\n"
     ]
    },
    {
     "name": "stdout",
     "output_type": "stream",
     "text": [
      "Saved:  CastroGinard2022/UBC1509/323479206.png\n",
      "Saved:  CastroGinard2022/UBC1509/322703167.png\n"
     ]
    },
    {
     "name": "stderr",
     "output_type": "stream",
     "text": [
      "No data found for target \"176.21234000091 -63.99294923851\".\n",
      "No data found for target \"176.29819218296 -63.9670477311\".\n",
      "No data found for target \"176.46982973195 -63.96418448476\".\n"
     ]
    },
    {
     "name": "stdout",
     "output_type": "stream",
     "text": [
      "Saved:  CastroGinard2022/UBC1509/324285940.png\n"
     ]
    },
    {
     "data": {
      "application/vnd.jupyter.widget-view+json": {
       "model_id": "b4d9d07c867b4e9f8c4bf69b06646587",
       "version_major": 2,
       "version_minor": 0
      },
      "text/plain": [
       "UBC1527: 0it [00:00, ?it/s]"
      ]
     },
     "metadata": {},
     "output_type": "display_data"
    },
    {
     "name": "stderr",
     "output_type": "stream",
     "text": [
      "No data found for target \"217.80348840489 -60.56569311548\".\n"
     ]
    },
    {
     "name": "stdout",
     "output_type": "stream",
     "text": [
      "Saved:  CastroGinard2022/UBC1527/390597080.png\n"
     ]
    },
    {
     "name": "stderr",
     "output_type": "stream",
     "text": [
      "No data found for target \"217.64102939938 -60.48730178598\".\n",
      "No data found for target \"217.66318946722 -60.472730167\".\n",
      "No data found for target \"217.94572094116 -60.48707932166\".\n",
      "No data found for target \"217.75865373274 -60.46846860612\".\n"
     ]
    },
    {
     "name": "stdout",
     "output_type": "stream",
     "text": [
      "Saved:  CastroGinard2022/UBC1527/390592469.png\n"
     ]
    },
    {
     "name": "stderr",
     "output_type": "stream",
     "text": [
      "No data found for target \"217.78600967734 -60.3926646148\".\n",
      "No data found for target \"218.01162638113 -60.35812024525\".\n"
     ]
    },
    {
     "name": "stdout",
     "output_type": "stream",
     "text": [
      "Saved:  CastroGinard2022/UBC1527/390596922.png\n"
     ]
    },
    {
     "name": "stderr",
     "output_type": "stream",
     "text": [
      "No data found for target \"217.65731853949 -60.44676071689\".\n",
      "No data found for target \"217.63393006182 -60.41808992578\".\n",
      "No data found for target \"217.61942587429 -60.38448658503\".\n"
     ]
    },
    {
     "name": "stdout",
     "output_type": "stream",
     "text": [
      "Saved:  CastroGinard2022/UBC1527/390596947.png\n"
     ]
    },
    {
     "name": "stderr",
     "output_type": "stream",
     "text": [
      "No data found for target \"217.2706666324 -60.38245314854\".\n",
      "No data found for target \"217.51851420533 -60.36860741189\".\n"
     ]
    },
    {
     "name": "stdout",
     "output_type": "stream",
     "text": [
      "Saved:  CastroGinard2022/UBC1527/390587882.png\n"
     ]
    },
    {
     "name": "stderr",
     "output_type": "stream",
     "text": [
      "No data found for target \"217.69588310427 -60.41955297156\".\n",
      "No data found for target \"217.71698362335 -60.41673020278\".\n",
      "No data found for target \"217.73880837219 -60.39736945228\".\n",
      "No data found for target \"217.75592907138 -60.38689069738\".\n"
     ]
    },
    {
     "name": "stdout",
     "output_type": "stream",
     "text": [
      "Saved:  CastroGinard2022/UBC1527/390596928.png\n"
     ]
    },
    {
     "name": "stderr",
     "output_type": "stream",
     "text": [
      "No data found for target \"217.70203200461 -60.3547169319\".\n",
      "No data found for target \"217.76020091683 -60.35763413231\".\n",
      "No data found for target \"217.76455984731 -60.34352511167\".\n"
     ]
    },
    {
     "name": "stdout",
     "output_type": "stream",
     "text": [
      "Saved:  CastroGinard2022/UBC1527/390601608.png\n",
      "Saved:  CastroGinard2022/UBC1527/390587801.png\n"
     ]
    },
    {
     "name": "stderr",
     "output_type": "stream",
     "text": [
      "No data found for target \"217.58153859193 -60.33183296155\".\n",
      "No data found for target \"217.69244652748 -60.18467669364\".\n"
     ]
    },
    {
     "data": {
      "application/vnd.jupyter.widget-view+json": {
       "model_id": "d7a088123268426ea2d87b5a80a94ce2",
       "version_major": 2,
       "version_minor": 0
      },
      "text/plain": [
       "UBC1534: 0it [00:00, ?it/s]"
      ]
     },
     "metadata": {},
     "output_type": "display_data"
    },
    {
     "name": "stderr",
     "output_type": "stream",
     "text": [
      "No data found for target \"222.95736892407 -57.81369120328\".\n",
      "No data found for target \"223.05533929864 -57.78803475139\".\n",
      "No data found for target \"222.96663143662 -57.77802400809\".\n",
      "No data found for target \"223.05675256054 -57.76106371723\".\n",
      "No data found for target \"223.00612068464 -57.7295852139\".\n",
      "No data found for target \"223.01887943828 -57.7379223851\".\n",
      "No data found for target \"223.12665040993 -57.68447937296\".\n"
     ]
    },
    {
     "name": "stdout",
     "output_type": "stream",
     "text": [
      "Saved:  CastroGinard2022/UBC1534/413212125.png\n",
      "Saved:  CastroGinard2022/UBC1534/413207268.png\n"
     ]
    },
    {
     "name": "stderr",
     "output_type": "stream",
     "text": [
      "No data found for target \"222.6940814177 -57.71177936184\".\n",
      "No data found for target \"222.65851155693 -57.67733391506\".\n",
      "No data found for target \"222.95303140186 -57.75240582576\".\n",
      "No data found for target \"222.93494985672 -57.75066119123\".\n",
      "No data found for target \"222.95783401937 -57.74726724733\".\n"
     ]
    },
    {
     "name": "stdout",
     "output_type": "stream",
     "text": [
      "Saved:  CastroGinard2022/UBC1534/414394025.png\n"
     ]
    },
    {
     "name": "stderr",
     "output_type": "stream",
     "text": [
      "No data found for target \"222.8763893995 -57.72905762306\".\n",
      "No data found for target \"222.88129476087 -57.73162378549\".\n",
      "No data found for target \"222.93285619507 -57.7298954385\".\n",
      "No data found for target \"222.93275822705 -57.720038732\".\n"
     ]
    },
    {
     "name": "stdout",
     "output_type": "stream",
     "text": [
      "Saved:  CastroGinard2022/UBC1534/413207254.png\n"
     ]
    },
    {
     "name": "stderr",
     "output_type": "stream",
     "text": [
      "No data found for target \"222.90792384511 -57.68826864568\".\n",
      "No data found for target \"222.91674746248 -57.6219555164\".\n"
     ]
    },
    {
     "name": "stdout",
     "output_type": "stream",
     "text": [
      "Saved:  CastroGinard2022/UBC1534/414993323.png\n"
     ]
    },
    {
     "data": {
      "application/vnd.jupyter.widget-view+json": {
       "model_id": "cb5c18f0b25c43539bf99ff93079ac06",
       "version_major": 2,
       "version_minor": 0
      },
      "text/plain": [
       "UBC1535: 0it [00:00, ?it/s]"
      ]
     },
     "metadata": {},
     "output_type": "display_data"
    },
    {
     "name": "stderr",
     "output_type": "stream",
     "text": [
      "No data found for target \"228.8307032887 -59.7949966685\".\n"
     ]
    },
    {
     "name": "stdout",
     "output_type": "stream",
     "text": [
      "Saved:  CastroGinard2022/UBC1535/42619463.png\n"
     ]
    },
    {
     "name": "stderr",
     "output_type": "stream",
     "text": [
      "No data found for target \"228.98744567752 -59.75698891728\".\n",
      "No data found for target \"228.96054892638 -59.73600627024\".\n",
      "No data found for target \"229.05011831605 -59.61031737988\".\n"
     ]
    },
    {
     "name": "stdout",
     "output_type": "stream",
     "text": [
      "Saved:  CastroGinard2022/UBC1535/1130695472.png\n"
     ]
    },
    {
     "name": "stderr",
     "output_type": "stream",
     "text": [
      "No data found for target \"228.53894266008 -59.7398501494\".\n",
      "No data found for target \"228.55228210495 -59.70057721802\".\n"
     ]
    },
    {
     "name": "stdout",
     "output_type": "stream",
     "text": [
      "Saved:  CastroGinard2022/UBC1535/42737013.png\n"
     ]
    },
    {
     "name": "stderr",
     "output_type": "stream",
     "text": [
      "No data found for target \"228.70884873509 -59.67792604956\".\n",
      "No data found for target \"228.75116935764 -59.66145468384\".\n",
      "No data found for target \"228.65005947613 -59.688965616\".\n",
      "No data found for target \"228.60163968708 -59.69274366487\".\n",
      "No data found for target \"228.60530160669 -59.69059723366\".\n",
      "No data found for target \"228.61568306847 -59.68045310032\".\n"
     ]
    },
    {
     "name": "stdout",
     "output_type": "stream",
     "text": [
      "Saved:  CastroGinard2022/UBC1535/42615474.png\n"
     ]
    },
    {
     "name": "stderr",
     "output_type": "stream",
     "text": [
      "No data found for target \"228.60997635336 -59.66991172105\".\n",
      "No data found for target \"228.5929090436 -59.66060863914\".\n",
      "No data found for target \"228.60010003224 -59.65882558865\".\n"
     ]
    },
    {
     "name": "stdout",
     "output_type": "stream",
     "text": [
      "Saved:  CastroGinard2022/UBC1535/42615324.png\n"
     ]
    },
    {
     "name": "stderr",
     "output_type": "stream",
     "text": [
      "No data found for target \"228.64268647722 -59.64547086731\".\n"
     ]
    },
    {
     "name": "stdout",
     "output_type": "stream",
     "text": [
      "Saved:  CastroGinard2022/UBC1535/42615122.png\n"
     ]
    },
    {
     "name": "stderr",
     "output_type": "stream",
     "text": [
      "No data found for target \"228.45089172933 -59.60770714028\".\n",
      "No data found for target \"228.57625640927 -59.6664419057\".\n",
      "No data found for target \"228.55287751565 -59.66482261099\".\n"
     ]
    },
    {
     "name": "stdout",
     "output_type": "stream",
     "text": [
      "Saved:  CastroGinard2022/UBC1535/42615015.png\n",
      "Saved:  CastroGinard2022/UBC1535/42614911.png\n",
      "Saved:  CastroGinard2022/UBC1535/42614911.png\n"
     ]
    },
    {
     "name": "stderr",
     "output_type": "stream",
     "text": [
      "No data found for target \"228.5934553421 -59.61128174045\".\n",
      "No data found for target \"228.5943217113 -59.59313458294\".\n",
      "No data found for target \"228.52755577708 -59.579103534\".\n"
     ]
    },
    {
     "name": "stdout",
     "output_type": "stream",
     "text": [
      "Saved:  CastroGinard2022/UBC1535/42737742.png\n"
     ]
    },
    {
     "name": "stderr",
     "output_type": "stream",
     "text": [
      "No data found for target \"228.77275008592 -59.58842564024\".\n",
      "No data found for target \"228.86299868256 -59.51795369212\".\n",
      "No data found for target \"228.85893969218 -59.53016874402\".\n",
      "No data found for target \"228.94276562043 -59.53641693263\".\n",
      "No data found for target \"228.91598039404 -59.51662668753\".\n"
     ]
    },
    {
     "name": "stdout",
     "output_type": "stream",
     "text": [
      "Saved:  CastroGinard2022/UBC1535/42737991.png\n"
     ]
    },
    {
     "name": "stderr",
     "output_type": "stream",
     "text": [
      "No data found for target \"228.81534796245 -59.4896418436\".\n"
     ]
    },
    {
     "data": {
      "application/vnd.jupyter.widget-view+json": {
       "model_id": "c81f3eae2ff74797816a528824d54c04",
       "version_major": 2,
       "version_minor": 0
      },
      "text/plain": [
       "UBC1542: 0it [00:00, ?it/s]"
      ]
     },
     "metadata": {},
     "output_type": "display_data"
    },
    {
     "name": "stderr",
     "output_type": "stream",
     "text": [
      "No data found for target \"240.06581648869 -51.27866124313\".\n",
      "No data found for target \"240.09467303093 -51.22445156212\".\n",
      "No data found for target \"240.07457858604 -51.21501259874\".\n",
      "No data found for target \"240.00621953173 -51.24455669527\".\n",
      "No data found for target \"239.97369672301 -51.25119252812\".\n",
      "No data found for target \"239.94805494896 -51.25742400193\".\n"
     ]
    },
    {
     "name": "stdout",
     "output_type": "stream",
     "text": [
      "Saved:  CastroGinard2022/UBC1542/299366514.png\n"
     ]
    },
    {
     "name": "stderr",
     "output_type": "stream",
     "text": [
      "No data found for target \"240.13437054899 -51.23123972458\".\n",
      "No data found for target \"240.0994811358 -51.21173403986\".\n"
     ]
    },
    {
     "name": "stdout",
     "output_type": "stream",
     "text": [
      "Saved:  CastroGinard2022/UBC1542/299382897.png\n"
     ]
    },
    {
     "name": "stderr",
     "output_type": "stream",
     "text": [
      "No data found for target \"240.10893404109 -51.18762361046\".\n",
      "No data found for target \"240.17408859713 -51.19149227378\".\n",
      "No data found for target \"240.15025046811 -51.14068079883\".\n",
      "No data found for target \"240.07242915133 -51.18628874472\".\n",
      "No data found for target \"240.09217505321 -51.17726699966\".\n"
     ]
    },
    {
     "data": {
      "application/vnd.jupyter.widget-view+json": {
       "model_id": "267d41b8d69c4fe59aeef9887393a804",
       "version_major": 2,
       "version_minor": 0
      },
      "text/plain": [
       "UBC1544: 0it [00:00, ?it/s]"
      ]
     },
     "metadata": {},
     "output_type": "display_data"
    },
    {
     "name": "stderr",
     "output_type": "stream",
     "text": [
      "No data found for target \"242.99169620834 -51.82468351376\".\n",
      "No data found for target \"243.00138805445 -51.76568958133\".\n",
      "No data found for target \"243.06008003848 -51.74220528889\".\n",
      "No data found for target \"243.04726050633 -51.72906746208\".\n",
      "No data found for target \"243.00898708938 -51.73615555075\".\n",
      "No data found for target \"243.0033362362 -51.73158247099\".\n",
      "No data found for target \"242.98663458154 -51.69684308214\".\n",
      "No data found for target \"242.94061204356 -51.75422165984\".\n"
     ]
    },
    {
     "name": "stdout",
     "output_type": "stream",
     "text": [
      "Saved:  CastroGinard2022/UBC1544/215889919.png\n"
     ]
    },
    {
     "name": "stderr",
     "output_type": "stream",
     "text": [
      "No data found for target \"242.89676222618 -51.73220646099\".\n",
      "No data found for target \"242.91665839548 -51.67776717484\".\n",
      "No data found for target \"242.86556894235 -51.70457240434\".\n"
     ]
    },
    {
     "name": "stdout",
     "output_type": "stream",
     "text": [
      "Saved:  CastroGinard2022/UBC1544/267099583.png\n"
     ]
    },
    {
     "name": "stderr",
     "output_type": "stream",
     "text": [
      "No data found for target \"243.12242396909 -51.75608836199\".\n",
      "No data found for target \"243.16652931458 -51.74352114199\".\n",
      "No data found for target \"243.07008322871 -51.73556741429\".\n",
      "No data found for target \"243.08503481788 -51.72788541937\".\n",
      "No data found for target \"243.10017407403 -51.72578373226\".\n",
      "No data found for target \"243.10273037402 -51.71970569557\".\n",
      "No data found for target \"243.20097694678 -51.69942762338\".\n",
      "No data found for target \"243.15208202192 -51.66905974052\".\n",
      "No data found for target \"243.30562891003 -51.69864863453\".\n",
      "No data found for target \"243.28737777061 -51.69350813958\".\n",
      "No data found for target \"243.25406676137 -51.6551197155\".\n",
      "No data found for target \"243.29219668727 -51.61731747973\".\n",
      "No data found for target \"243.26826340303 -51.61288383898\".\n"
     ]
    },
    {
     "name": "stdout",
     "output_type": "stream",
     "text": [
      "Saved:  CastroGinard2022/UBC1544/409492944.png\n",
      "Saved:  CastroGinard2022/UBC1544/267098745.png\n"
     ]
    },
    {
     "name": "stderr",
     "output_type": "stream",
     "text": [
      "No data found for target \"243.17299703639 -51.65983725242\".\n",
      "No data found for target \"243.23519518755 -51.6103988898\".\n"
     ]
    },
    {
     "name": "stdout",
     "output_type": "stream",
     "text": [
      "Saved:  CastroGinard2022/UBC1544/267098246.png\n"
     ]
    },
    {
     "name": "stderr",
     "output_type": "stream",
     "text": [
      "No data found for target \"243.24850831573 -51.58308176864\".\n"
     ]
    },
    {
     "name": "stdout",
     "output_type": "stream",
     "text": [
      "Saved:  CastroGinard2022/UBC1544/267097931.png\n"
     ]
    },
    {
     "name": "stderr",
     "output_type": "stream",
     "text": [
      "No data found for target \"243.04217338522 -51.70081453401\".\n",
      "No data found for target \"243.07222374749 -51.69548273582\".\n",
      "No data found for target \"243.07532488372 -51.69344071832\".\n",
      "No data found for target \"243.05800640128 -51.67148370558\".\n",
      "No data found for target \"243.00067975782 -51.69592715292\".\n",
      "No data found for target \"243.01630765267 -51.6529871258\".\n"
     ]
    },
    {
     "name": "stdout",
     "output_type": "stream",
     "text": [
      "Saved:  CastroGinard2022/UBC1544/267098659.png\n"
     ]
    },
    {
     "name": "stderr",
     "output_type": "stream",
     "text": [
      "No data found for target \"243.0563282381 -51.63015842889\".\n",
      "No data found for target \"242.97855883723 -51.67553894071\".\n",
      "No data found for target \"242.95656474405 -51.66507421649\".\n",
      "No data found for target \"242.99374567119 -51.63005382861\".\n",
      "No data found for target \"243.01931858937 -51.63916860654\".\n",
      "No data found for target \"243.02990856447 -51.61845993545\".\n",
      "No data found for target \"243.09842395413 -51.5885945307\".\n"
     ]
    },
    {
     "name": "stdout",
     "output_type": "stream",
     "text": [
      "Saved:  CastroGinard2022/UBC1544/267097359.png\n"
     ]
    },
    {
     "name": "stderr",
     "output_type": "stream",
     "text": [
      "No data found for target \"243.11227122436 -51.5115322013\".\n",
      "No data found for target \"243.26530881804 -51.56064591175\".\n",
      "No data found for target \"243.28872168658 -51.54572028406\".\n",
      "No data found for target \"243.39200975895 -51.50942553111\".\n",
      "No data found for target \"242.87046901324 -51.55642528972\".\n"
     ]
    },
    {
     "data": {
      "application/vnd.jupyter.widget-view+json": {
       "model_id": "fb20d5da6cef4c9ea3c6682e6f6f80a2",
       "version_major": 2,
       "version_minor": 0
      },
      "text/plain": [
       "UBC1545: 0it [00:00, ?it/s]"
      ]
     },
     "metadata": {},
     "output_type": "display_data"
    },
    {
     "name": "stderr",
     "output_type": "stream",
     "text": [
      "No data found for target \"242.77980916332 -51.05513195832\".\n",
      "No data found for target \"242.79737867951 -51.02995579445\".\n",
      "No data found for target \"242.68981874529 -51.06532295116\".\n",
      "No data found for target \"242.71490475073 -50.97717249009\".\n",
      "No data found for target \"242.6133451128 -51.04764515306\".\n",
      "No data found for target \"242.5785491686 -51.02171915991\".\n",
      "No data found for target \"242.66895753964 -51.02795628024\".\n",
      "No data found for target \"242.61668292369 -51.02935717581\".\n",
      "No data found for target \"242.61243549072 -51.00094602991\".\n"
     ]
    },
    {
     "name": "stdout",
     "output_type": "stream",
     "text": [
      "Saved:  CastroGinard2022/UBC1545/215764027.png\n",
      "Saved:  CastroGinard2022/UBC1545/215763598.png\n"
     ]
    },
    {
     "name": "stderr",
     "output_type": "stream",
     "text": [
      "No data found for target \"242.64213541539 -50.97419003412\".\n",
      "No data found for target \"242.59070157004 -50.9929599969\".\n",
      "No data found for target \"242.61046426248 -50.94381691449\".\n",
      "No data found for target \"243.00887484739 -51.01019165038\".\n",
      "No data found for target \"242.86757607805 -50.93196229071\".\n",
      "No data found for target \"242.77262947483 -50.94361474104\".\n",
      "No data found for target \"242.83762634849 -50.92788101525\".\n",
      "No data found for target \"242.81347029623 -50.91391666159\".\n",
      "No data found for target \"242.93289226256 -50.92058092786\".\n",
      "No data found for target \"242.92438986079 -50.87585805999\".\n",
      "No data found for target \"242.22681625995 -50.87072589641\".\n"
     ]
    },
    {
     "data": {
      "application/vnd.jupyter.widget-view+json": {
       "model_id": "83878661b454414c8a939fd7c8ec2f9a",
       "version_major": 2,
       "version_minor": 0
      },
      "text/plain": [
       "UBC1547: 0it [00:00, ?it/s]"
      ]
     },
     "metadata": {},
     "output_type": "display_data"
    },
    {
     "name": "stdout",
     "output_type": "stream",
     "text": [
      "Saved:  CastroGinard2022/UBC1547/411657300.png\n"
     ]
    },
    {
     "name": "stderr",
     "output_type": "stream",
     "text": [
      "No data found for target \"244.42876294931 -49.9072564001\".\n"
     ]
    },
    {
     "name": "stdout",
     "output_type": "stream",
     "text": [
      "Saved:  CastroGinard2022/UBC1547/411574950.png\n"
     ]
    },
    {
     "name": "stderr",
     "output_type": "stream",
     "text": [
      "No data found for target \"244.39448673345 -49.85375986163\".\n",
      "No data found for target \"244.39570351164 -49.85233425362\".\n",
      "No data found for target \"244.68228745849 -49.95228004398\".\n",
      "No data found for target \"244.71241004417 -49.8802952201\".\n",
      "No data found for target \"244.59419579255 -49.97226563593\".\n"
     ]
    },
    {
     "name": "stdout",
     "output_type": "stream",
     "text": [
      "Saved:  CastroGinard2022/UBC1547/314694948.png\n"
     ]
    },
    {
     "name": "stderr",
     "output_type": "stream",
     "text": [
      "No data found for target \"244.6011811362 -49.91869568863\".\n",
      "No data found for target \"244.6403040876 -49.89528271981\".\n",
      "No data found for target \"244.47349627882 -49.89425497763\".\n",
      "No data found for target \"244.70059421388 -49.84531304015\".\n",
      "No data found for target \"244.68859909534 -49.79911407476\".\n",
      "No data found for target \"244.63176242818 -49.79860515222\".\n",
      "No data found for target \"244.65271338329 -49.7757727506\".\n",
      "No data found for target \"244.54751653121 -49.79057845953\".\n"
     ]
    },
    {
     "name": "stdout",
     "output_type": "stream",
     "text": [
      "Saved:  CastroGinard2022/UBC1547/314699079.png\n",
      "Saved:  CastroGinard2022/UBC1547/314699002.png\n"
     ]
    },
    {
     "name": "stderr",
     "output_type": "stream",
     "text": [
      "No data found for target \"244.59236974764 -49.72279363345\".\n",
      "No data found for target \"244.58430410629 -49.70438939448\".\n",
      "No data found for target \"244.74891226476 -49.7851645657\".\n",
      "No data found for target \"244.77701723292 -49.73324631906\".\n",
      "No data found for target \"244.63547918925 -49.7050549366\".\n",
      "No data found for target \"244.80623671991 -49.60961299621\".\n",
      "No data found for target \"244.66092505826 -49.57528797039\".\n",
      "No data found for target \"244.42377766755 -49.84641222578\".\n",
      "No data found for target \"244.50622957662 -49.82304728836\".\n",
      "No data found for target \"244.46982270672 -49.78475710062\".\n",
      "No data found for target \"244.47628833567 -49.77926362636\".\n"
     ]
    },
    {
     "name": "stdout",
     "output_type": "stream",
     "text": [
      "Saved:  CastroGinard2022/UBC1547/411573465.png\n"
     ]
    },
    {
     "name": "stderr",
     "output_type": "stream",
     "text": [
      "No data found for target \"244.35686920957 -49.78351466989\".\n",
      "No data found for target \"244.40245372899 -49.77257223885\".\n",
      "No data found for target \"244.51860459532 -49.72474323764\".\n",
      "No data found for target \"244.21884808251 -49.72503231309\".\n",
      "No data found for target \"244.57998999496 -49.64386629029\".\n",
      "No data found for target \"244.59830768109 -49.56990026354\".\n"
     ]
    },
    {
     "data": {
      "application/vnd.jupyter.widget-view+json": {
       "model_id": "fda65e70805141f988014f91e787e2a5",
       "version_major": 2,
       "version_minor": 0
      },
      "text/plain": [
       "UBC1549: 0it [00:00, ?it/s]"
      ]
     },
     "metadata": {},
     "output_type": "display_data"
    },
    {
     "name": "stderr",
     "output_type": "stream",
     "text": [
      "No data found for target \"247.24019978726 -49.7283684438\".\n",
      "No data found for target \"247.21981507906 -49.67316235492\".\n",
      "No data found for target \"247.21879693482 -49.66204606504\".\n",
      "No data found for target \"247.13669382258 -49.67457478851\".\n",
      "No data found for target \"247.21884768575 -49.57439425853\".\n",
      "No data found for target \"246.9777830792 -49.77748088408\".\n",
      "No data found for target \"246.85945789291 -49.75976691399\".\n",
      "No data found for target \"246.89536919288 -49.75525276765\".\n",
      "No data found for target \"246.87757275508 -49.75130579841\".\n",
      "No data found for target \"247.01719171644 -49.73255328008\".\n",
      "No data found for target \"246.98459190259 -49.74357477758\".\n",
      "No data found for target \"247.03377564708 -49.71744619592\".\n",
      "No data found for target \"247.0598298907 -49.71369804564\".\n",
      "No data found for target \"247.04963398349 -49.6958797513\".\n",
      "No data found for target \"247.01363515938 -49.68618063304\".\n",
      "No data found for target \"246.90391194783 -49.68266242281\".\n",
      "No data found for target \"246.97126611316 -49.68813021639\".\n",
      "No data found for target \"246.96610840321 -49.64253483049\".\n",
      "No data found for target \"246.92058364374 -49.64433157445\".\n",
      "No data found for target \"246.94749080329 -49.63067076591\".\n",
      "No data found for target \"246.7776849187 -49.66871867576\".\n",
      "No data found for target \"246.92536764407 -49.60744396142\".\n",
      "No data found for target \"247.0777192696 -49.67748225923\".\n",
      "No data found for target \"247.10367509937 -49.65122291915\".\n",
      "No data found for target \"247.03766349165 -49.66543603566\".\n",
      "No data found for target \"247.02338176251 -49.64755427842\".\n",
      "No data found for target \"247.01913611676 -49.63410196439\".\n",
      "No data found for target \"247.02621217891 -49.63225952696\".\n",
      "No data found for target \"247.03049270322 -49.62756589726\".\n",
      "No data found for target \"247.02367321424 -49.62997888227\".\n",
      "No data found for target \"247.03407966273 -49.60885917764\".\n",
      "No data found for target \"247.04036011722 -49.62134065371\".\n",
      "No data found for target \"247.09227380261 -49.6272441636\".\n",
      "No data found for target \"247.12439952949 -49.62670832785\".\n",
      "No data found for target \"247.1216528413 -49.59945495008\".\n",
      "No data found for target \"247.09904551996 -49.61089790072\".\n",
      "No data found for target \"247.10610070729 -49.60720067755\".\n",
      "No data found for target \"247.05900226134 -49.61223584128\".\n",
      "No data found for target \"247.06698308216 -49.6256179625\".\n",
      "No data found for target \"247.06227714952 -49.60474965126\".\n",
      "No data found for target \"247.07643575064 -49.61011722592\".\n"
     ]
    },
    {
     "name": "stdout",
     "output_type": "stream",
     "text": [
      "Saved:  CastroGinard2022/UBC1549/11861921.png\n"
     ]
    },
    {
     "name": "stderr",
     "output_type": "stream",
     "text": [
      "No data found for target \"247.05007869354 -49.61503645528\".\n",
      "No data found for target \"247.0446786564 -49.60762005574\".\n",
      "No data found for target \"247.03402317289 -49.6049252493\".\n",
      "No data found for target \"247.03515627113 -49.6031907174\".\n",
      "No data found for target \"247.09065564957 -49.5902610847\".\n",
      "No data found for target \"247.07938008752 -49.56983909048\".\n",
      "No data found for target \"247.00880422518 -49.63390900219\".\n",
      "No data found for target \"247.00548397437 -49.62968961509\".\n",
      "No data found for target \"246.98599154057 -49.62587072089\".\n",
      "No data found for target \"246.98254800183 -49.61255293746\".\n",
      "No data found for target \"247.01977757464 -49.61707556672\".\n",
      "No data found for target \"246.98632216463 -49.6076413256\".\n",
      "No data found for target \"246.9586944944 -49.60278168582\".\n",
      "No data found for target \"246.94164682022 -49.59625642509\".\n",
      "No data found for target \"246.98239882313 -49.5981897672\".\n",
      "No data found for target \"247.01892214098 -49.59326844401\".\n",
      "No data found for target \"247.01782073014 -49.58102087064\".\n",
      "No data found for target \"247.02270760388 -49.56166661395\".\n",
      "No data found for target \"246.98576385658 -49.52303375181\".\n",
      "No data found for target \"247.10800007992 -49.58218076165\".\n",
      "No data found for target \"247.13145370609 -49.55723035026\".\n",
      "No data found for target \"247.06756076604 -49.56183046916\".\n",
      "No data found for target \"247.11143897189 -49.53883922434\".\n",
      "No data found for target \"247.13414188371 -49.52476169774\".\n",
      "No data found for target \"247.16144120424 -49.51733844751\".\n",
      "No data found for target \"246.96485001134 -49.50050106079\".\n",
      "No data found for target \"246.9562565325 -49.50047283337\".\n",
      "No data found for target \"246.89521574728 -49.48139642971\".\n",
      "No data found for target \"246.95869365215 -49.39003971546\".\n",
      "No data found for target \"247.29858948255 -49.38364230145\".\n"
     ]
    },
    {
     "data": {
      "application/vnd.jupyter.widget-view+json": {
       "model_id": "1d72d0231b2b484a8830b62fb74db6f5",
       "version_major": 2,
       "version_minor": 0
      },
      "text/plain": [
       "UBC1557: 0it [00:00, ?it/s]"
      ]
     },
     "metadata": {},
     "output_type": "display_data"
    },
    {
     "name": "stderr",
     "output_type": "stream",
     "text": [
      "No data found for target \"251.06097264581 -45.77753799345\".\n",
      "No data found for target \"251.01343425164 -45.65122674984\".\n",
      "No data found for target \"251.25494189684 -45.62967964236\".\n",
      "No data found for target \"251.17204898176 -45.6356135573\".\n",
      "No data found for target \"251.10900429753 -45.58730317652\".\n",
      "No data found for target \"251.06783472194 -45.58025095209\".\n"
     ]
    },
    {
     "name": "stdout",
     "output_type": "stream",
     "text": [
      "Saved:  CastroGinard2022/UBC1557/234737679.png\n"
     ]
    },
    {
     "name": "stderr",
     "output_type": "stream",
     "text": [
      "/home/jp/miniconda3/envs/lk2/lib/python3.10/site-packages/numpy/lib/nanfunctions.py:1217: RuntimeWarning: All-NaN slice encountered\n",
      "  return function_base._ureduce(a, func=_nanmedian, keepdims=keepdims,\n",
      "<__array_function__ internals>:200: RuntimeWarning: Degrees of freedom <= 0 for slice.\n"
     ]
    },
    {
     "name": "stdout",
     "output_type": "stream",
     "text": [
      "Saved:  CastroGinard2022/UBC1557/234752533.png\n"
     ]
    },
    {
     "name": "stderr",
     "output_type": "stream",
     "text": [
      "No data found for target \"251.02908843404 -45.56169137411\".\n",
      "No data found for target \"251.04277613563 -45.54595342006\".\n"
     ]
    },
    {
     "name": "stdout",
     "output_type": "stream",
     "text": [
      "Saved:  CastroGinard2022/UBC1557/235318352.png\n"
     ]
    },
    {
     "name": "stderr",
     "output_type": "stream",
     "text": [
      "No data found for target \"251.08349875755 -45.54741208701\".\n",
      "No data found for target \"251.09410561347 -45.55892135655\".\n",
      "No data found for target \"251.09946063812 -45.54985250638\".\n"
     ]
    },
    {
     "name": "stdout",
     "output_type": "stream",
     "text": [
      "Saved:  CastroGinard2022/UBC1557/234742622.png\n"
     ]
    },
    {
     "name": "stderr",
     "output_type": "stream",
     "text": [
      "No data found for target \"251.09016967311 -45.51687005257\".\n",
      "No data found for target \"251.04371129262 -45.53750618837\".\n"
     ]
    },
    {
     "name": "stdout",
     "output_type": "stream",
     "text": [
      "Saved:  CastroGinard2022/UBC1557/234747629.png\n"
     ]
    },
    {
     "name": "stderr",
     "output_type": "stream",
     "text": [
      "No data found for target \"251.04840873793 -45.51960486931\".\n",
      "No data found for target \"251.05764616168 -45.52923933861\".\n",
      "No data found for target \"251.0446047719 -45.51719867944\".\n"
     ]
    },
    {
     "name": "stdout",
     "output_type": "stream",
     "text": [
      "Saved:  CastroGinard2022/UBC1557/234752515.png\n"
     ]
    },
    {
     "name": "stderr",
     "output_type": "stream",
     "text": [
      "No data found for target \"251.18424725573 -45.5336863174\".\n",
      "No data found for target \"251.14453236661 -45.50618526674\".\n",
      "No data found for target \"251.10401843566 -45.49597049468\".\n",
      "No data found for target \"251.07671694077 -45.50307150122\".\n",
      "No data found for target \"251.09088908663 -45.50874548765\".\n",
      "No data found for target \"251.12945746833 -45.43071075085\".\n",
      "No data found for target \"250.9630200939 -45.64419549109\".\n",
      "No data found for target \"250.93617981234 -45.62159444653\".\n",
      "No data found for target \"250.99176962009 -45.60919701286\".\n",
      "No data found for target \"250.87442803888 -45.61854121387\".\n"
     ]
    },
    {
     "name": "stdout",
     "output_type": "stream",
     "text": [
      "Saved:  CastroGinard2022/UBC1557/234436305.png\n"
     ]
    },
    {
     "name": "stderr",
     "output_type": "stream",
     "text": [
      "No data found for target \"250.92052524965 -45.53235016955\".\n",
      "No data found for target \"250.71377101271 -45.56894752939\".\n",
      "No data found for target \"250.84166156678 -45.4938798156\".\n",
      "No data found for target \"251.01558195843 -45.54632108661\".\n",
      "No data found for target \"251.00470689593 -45.52007923857\".\n",
      "No data found for target \"250.97834291731 -45.53278804325\".\n",
      "No data found for target \"250.95566663111 -45.53919632713\".\n",
      "No data found for target \"250.95520239022 -45.53245732711\".\n",
      "No data found for target \"251.03896977721 -45.52084107756\".\n"
     ]
    },
    {
     "name": "stdout",
     "output_type": "stream",
     "text": [
      "Saved:  CastroGinard2022/UBC1557/234742598.png\n"
     ]
    },
    {
     "name": "stderr",
     "output_type": "stream",
     "text": [
      "No data found for target \"251.04034130504 -45.51606258705\".\n"
     ]
    },
    {
     "name": "stdout",
     "output_type": "stream",
     "text": [
      "Saved:  CastroGinard2022/UBC1557/234752505.png\n",
      "Saved:  CastroGinard2022/UBC1557/234747577.png\n"
     ]
    },
    {
     "name": "stderr",
     "output_type": "stream",
     "text": [
      "No data found for target \"251.04060565333 -45.45307654392\".\n",
      "No data found for target \"251.01223258145 -45.42961737567\".\n",
      "No data found for target \"250.98189119312 -45.37911177921\".\n",
      "No data found for target \"250.96620076696 -45.39722741495\".\n"
     ]
    },
    {
     "name": "stdout",
     "output_type": "stream",
     "text": [
      "Saved:  CastroGinard2022/UBC1557/234742538.png\n"
     ]
    },
    {
     "name": "stderr",
     "output_type": "stream",
     "text": [
      "No data found for target \"251.29873662651 -45.50382794341\".\n",
      "No data found for target \"251.25461483449 -45.38411640912\".\n"
     ]
    },
    {
     "data": {
      "application/vnd.jupyter.widget-view+json": {
       "model_id": "ba2d8f281dc44c68988d95adca75812e",
       "version_major": 2,
       "version_minor": 0
      },
      "text/plain": [
       "UBC1558: 0it [00:00, ?it/s]"
      ]
     },
     "metadata": {},
     "output_type": "display_data"
    },
    {
     "name": "stderr",
     "output_type": "stream",
     "text": [
      "No data found for target \"252.85888098527 -45.57064237272\".\n",
      "No data found for target \"252.75184596527 -45.57553911526\".\n",
      "No data found for target \"252.73621075887 -45.48420983988\".\n"
     ]
    },
    {
     "name": "stdout",
     "output_type": "stream",
     "text": [
      "Saved:  CastroGinard2022/UBC1558/246198474.png\n",
      "Saved:  CastroGinard2022/UBC1558/246199811.png\n"
     ]
    },
    {
     "name": "stderr",
     "output_type": "stream",
     "text": [
      "No data found for target \"252.79722309229 -45.50097899748\".\n",
      "No data found for target \"252.8335131923 -45.43706428436\".\n"
     ]
    },
    {
     "name": "stdout",
     "output_type": "stream",
     "text": [
      "Saved:  CastroGinard2022/UBC1558/246398915.png\n"
     ]
    },
    {
     "name": "stderr",
     "output_type": "stream",
     "text": [
      "/home/jp/miniconda3/envs/lk2/lib/python3.10/site-packages/lightkurve/lightcurve.py:1128: LightkurveWarning: The light curve appears to be zero-centered (median=1.00e+00 +/- 7.09e+00); `normalize()` will divide the light curve by a value close to zero, which is probably not what you want.\n",
      "  warnings.warn(\n"
     ]
    },
    {
     "name": "stdout",
     "output_type": "stream",
     "text": [
      "Saved:  CastroGinard2022/UBC1558/246538248.png\n"
     ]
    },
    {
     "name": "stderr",
     "output_type": "stream",
     "text": [
      "No data found for target \"252.87896683341 -45.41418104807\".\n",
      "No data found for target \"252.86591914216 -45.37968031297\".\n"
     ]
    },
    {
     "name": "stdout",
     "output_type": "stream",
     "text": [
      "Saved:  CastroGinard2022/UBC1558/246398747.png\n"
     ]
    },
    {
     "name": "stderr",
     "output_type": "stream",
     "text": [
      "No data found for target \"252.83031921077 -45.40985092811\".\n",
      "No data found for target \"252.81882777122 -45.35784959849\".\n",
      "No data found for target \"252.82223062017 -45.33064740657\".\n",
      "No data found for target \"252.75932222292 -45.47433222394\".\n"
     ]
    },
    {
     "name": "stdout",
     "output_type": "stream",
     "text": [
      "Saved:  CastroGinard2022/UBC1558/246399295.png\n",
      "Saved:  CastroGinard2022/UBC1558/246199208.png\n"
     ]
    }
   ],
   "source": [
    "from utils import plot_bls\n",
    "import matplotlib.pyplot as pl\n",
    "import lightkurve as lk\n",
    "import numpy as np\n",
    "from pathlib import Path\n",
    "from tqdm.notebook import tqdm\n",
    "\n",
    "author = 'QLP'\n",
    "cols = ['RA_ICRS','DE_ICRS']\n",
    "for name in tqdm(df_young.Cluster.values):\n",
    "\n",
    "    cluster = df_mem.query(\"Cluster==@name\")\n",
    "    pos = cluster[cols].values[0]\n",
    "    res_all = lk.search_lightcurve(f\"{pos[0]} {pos[1]}\", author=author, radius=60)\n",
    "    if len(res_all)>0:\n",
    "                \n",
    "        outdir = Path(cd.catalog_name,name)\n",
    "        outdir.mkdir(parents=True, exist_ok=True)\n",
    "\n",
    "        for i,row in tqdm(cluster.iterrows(), desc=name):\n",
    "            pos = row[cols].values\n",
    "            res = lk.search_lightcurve(f\"{pos[0]} {pos[1]}\", author=author)\n",
    "            if len(res)>1:\n",
    "                lc = res[0].download().normalize()\n",
    "                texp = res[0].exptime.value[0] / 60.0 / 24.0\n",
    "\n",
    "                ax = lc.scatter(label=f\"TIC {lc.TICID}\")\n",
    "                pl.close()\n",
    "\n",
    "                x = np.ascontiguousarray(lc.time.value, dtype=np.float64)\n",
    "                y = np.ascontiguousarray(lc.flux.value, dtype=np.float64)\n",
    "                fig = plot_bls(x, y)\n",
    "                fp = outdir.joinpath(f\"{lc.TICID}.png\")\n",
    "                fig.savefig(fp)\n",
    "                print(\"Saved: \", fp)\n",
    "                pl.close()"
   ]
  },
  {
   "cell_type": "code",
   "execution_count": null,
   "id": "ec7ebf57",
   "metadata": {},
   "outputs": [],
   "source": []
  }
 ],
 "metadata": {
  "kernelspec": {
   "display_name": "Python 3 (ipykernel)",
   "language": "python",
   "name": "python3"
  },
  "language_info": {
   "codemirror_mode": {
    "name": "ipython",
    "version": 3
   },
   "file_extension": ".py",
   "mimetype": "text/x-python",
   "name": "python",
   "nbconvert_exporter": "python",
   "pygments_lexer": "ipython3",
   "version": "3.8.13"
  },
  "toc": {
   "base_numbering": 1,
   "nav_menu": {},
   "number_sections": true,
   "sideBar": true,
   "skip_h1_title": false,
   "title_cell": "Table of Contents",
   "title_sidebar": "Contents",
   "toc_cell": false,
   "toc_position": {},
   "toc_section_display": true,
   "toc_window_display": false
  }
 },
 "nbformat": 4,
 "nbformat_minor": 5
}
