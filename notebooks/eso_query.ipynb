{
 "cells": [
  {
   "cell_type": "markdown",
   "id": "bbc5ce47-7a64-4310-a5f3-3e39a2959a21",
   "metadata": {},
   "source": [
    "https://github.com/jvines/eso-query/blob/main/eso_query.py"
   ]
  },
  {
   "cell_type": "code",
   "execution_count": 1,
   "id": "346cacbd-7866-4236-a96a-078386e39b28",
   "metadata": {},
   "outputs": [],
   "source": [
    "import argparse\n",
    "from pyvo.dal import tap\n",
    "from astropy import units as u\n",
    "from astroquery.mast import Catalogs\n",
    "import numpy as np\n",
    "from astropy.time import Time\n",
    "from difflib import SequenceMatcher\n",
    "from astroquery.ipac.nexsci.nasa_exoplanet_archive import NasaExoplanetArchive\n",
    "import re\n",
    "\n",
    "ESO_TAP_OBS = 'http://archive.eso.org/tap_obs'\n",
    "tap_obs = tap.TAPService(ESO_TAP_OBS)"
   ]
  },
  {
   "cell_type": "raw",
   "id": "fb8cfd99-252d-4624-939c-092ee2b042f7",
   "metadata": {},
   "source": [
    "import sys\n",
    "\n",
    "!{sys.executable} -m pip install pyvo astropy astroquery"
   ]
  },
  {
   "cell_type": "code",
   "execution_count": 2,
   "id": "a97a6ea2-b62c-4386-a702-678ab14b4312",
   "metadata": {},
   "outputs": [],
   "source": [
    "def summarise_obs(t):\n",
    "    if len(t) == 0:\n",
    "        print('No results to show.')\n",
    "        return\n",
    "    # First, lets check to see if more than one object exists\n",
    "    if np.unique(t['object']).shape[0] > 1:\n",
    "        text = f'''\n",
    "        Summary includes multiple targets: {\",\".join(np.unique(t['object']))}\n",
    "        '''\n",
    "    else:\n",
    "        text = f'Summary for {t[\"object\"][0]}'\n",
    "    for instrument in np.unique(t['instrument']):\n",
    "        text +='\\n'\n",
    "        t_ = t[t['instrument']==instrument]\n",
    "        start = str(Time(np.min(t_['mjd_obs']), format='mjd').datetime)[:10]\n",
    "        end = str(Time(np.max(t_['mjd_obs']), format='mjd').datetime)[:10]\n",
    "        text += f'{instrument} {start} -> {end} [{len(t_):,} points]'\n",
    "        for prog_id in np.unique(t_['prog_id']):\n",
    "            t__ = t_[t_['prog_id']==prog_id]\n",
    "            start = str(\n",
    "                Time(np.min(t__['mjd_obs']), format='mjd').datetime\n",
    "                )[:10]\n",
    "            end = str(\n",
    "                Time(np.max(t__['mjd_obs']), format='mjd').datetime\n",
    "                )[:10]\n",
    "            tmp = f'{prog_id} ({t__[\"pi_coi\"][0].split(\"/\")[0]})'\n",
    "            text += f'\\n\\t{tmp:<40} {start} -> {end} [{len(t__):,} points]'\n",
    "    return text\n",
    "\n",
    "\n",
    "def text_similarity(s1, s2):\n",
    "    return SequenceMatcher(None, s1, s2).ratio()\n",
    "\n",
    "\n",
    "def get_tic_id(target):\n",
    "    catalog = Catalogs.query_object(target,\n",
    "                                    radius=1e-3, catalog='TIC')\n",
    "    return f'TIC-{catalog[\"ID\"][0]}'\n",
    "\n",
    "\n",
    "def summarize_multiple_observations(table):\n",
    "    table['object'] = list(map(lambda x: fix_tic(x), table['object']))\n",
    "\n",
    "    text = ''\n",
    "    for target in np.unique(table['object']):\n",
    "        mask = table['object'] == target\n",
    "        n_points = len(table[mask])\n",
    "        instruments = ';'.join(np.unique(table[mask]['instrument']))\n",
    "        start_date = (Time(np.min(table[mask]['mjd_obs']), format='mjd')\n",
    "                      .datetime\n",
    "                      .strftime('%Y-%m-%d'))\n",
    "        end_date = (Time(np.max(table[mask]['mjd_obs']), format='mjd')\n",
    "                      .datetime\n",
    "                      .strftime('%Y-%m-%d'))\n",
    "        pis = []\n",
    "        pi_cois = np.sort(table[mask]['pi_coi'])\n",
    "        for pi in pi_cois:\n",
    "            pi = pi.split('/')[0]\n",
    "            if pi not in pis:\n",
    "                if len(list(filter(lambda x: text_similarity(pi, x) > .75, pis))):\n",
    "                    continue\n",
    "                pis.append(pi)\n",
    "        pis = f\"{';'.join(pis)}\"\n",
    "        target_name = table[mask]['target'][0]\n",
    "        text += f'{target_name}|({instruments})|{start_date} -> {end_date} [{n_points} points]|({pis})\\n'\n",
    "    return text\n",
    "\n",
    "\n",
    "def do_query(ra, dec, radius):\n",
    "    query = f\"\"\"\n",
    "    SELECT *\n",
    "    FROM\n",
    "    (\n",
    "        SELECT\n",
    "            target\n",
    "            , object\n",
    "            , ra\n",
    "            , dec\n",
    "            , pi_coi\n",
    "            , prog_id\n",
    "            , instrument\n",
    "            , telescope\n",
    "            , exp_start\n",
    "            , exposure\n",
    "            , mjd_obs\n",
    "        --    , dp_cat\n",
    "            , datalink_url\n",
    "        FROM dbo.raw\n",
    "        WHERE dp_cat='SCIENCE'\n",
    "            AND (instrument='ESPRESSO' OR instrument='HARPS' OR instrument='FEROS')\n",
    "            AND dec BETWEEN -90 AND 90\n",
    "    ) AS sub\n",
    "    WHERE 1=CONTAINS(\n",
    "                point('', sub.ra, sub.dec),\n",
    "                circle('', {ra}, {dec}, {radius}))\n",
    "    \"\"\"\n",
    "    res = tap_obs.search(query=query)\n",
    "    return res.to_table()\n",
    "\n",
    "\n",
    "def build_circle_condition(ras, decs, radius):\n",
    "    template = \"1=CONTAINS(point('', ra, dec), circle('', {}, {}, {}))\"\n",
    "    condition = template.format(ras[0].value, decs[0].value, radius)\n",
    "    for ra, dec in zip(ras[1:], decs[1:]):\n",
    "        condition += ' OR ' + template.format(ra.value, dec.value, radius)\n",
    "    return condition\n",
    "\n",
    "\n",
    "def do_multiple_query(ra, dec, radius):\n",
    "    condition = build_circle_condition(ra, dec, radius)\n",
    "    query = f\"\"\"\n",
    "    SELECT\n",
    "        target\n",
    "        , object\n",
    "        , ra\n",
    "        , dec\n",
    "        , pi_coi\n",
    "        , prog_id\n",
    "        , instrument\n",
    "        , telescope\n",
    "        , exp_start\n",
    "        , exposure\n",
    "        , mjd_obs\n",
    "    --    , dp_cat\n",
    "        , datalink_url\n",
    "    FROM dbo.raw\n",
    "    WHERE dp_cat='SCIENCE'\n",
    "        AND (instrument='ESPRESSO' OR instrument='HARPS' OR instrument='FEROS')\n",
    "        AND dec BETWEEN -90 AND 90\n",
    "        AND ({condition})\n",
    "    \"\"\"\n",
    "    res = tap_obs.search(query=query)\n",
    "    return res.to_table()\n",
    "\n",
    "\n",
    "def fix_tic(tic_id):\n",
    "    if 'TIC' in tic_id:\n",
    "        pattern = r'(TIC)\\s?(\\d+)'\n",
    "        replacement = r\"\\1-\\2\"\n",
    "        return re.sub(pattern, replacement, tic_id)\n",
    "    elif 'TOI' in tic_id:\n",
    "        return get_tic_id_from_toi(tic_id.replace('-','').replace(' ','')[3:])\n",
    "    else:\n",
    "        try:\n",
    "            return get_tic_id(tic_id)\n",
    "        except:\n",
    "            return tic_id\n",
    "\n",
    "\n",
    "def get_tic_id_from_toi(toi):\n",
    "    catalog = NasaExoplanetArchive.query_criteria(table='toi',\n",
    "                                                  where=f'toipfx = {toi}')\n",
    "    return f'TIC-{catalog[\"tid\"][0]}'\n",
    "\n",
    "\n",
    "def get_ra_dec_from_tic_id(tic_id):\n",
    "    catalog = Catalogs.query_object(f'TIC {tic_id}',\n",
    "                                    radius=1e-3, catalog='TIC')\n",
    "    return catalog['ra'][0] * u.deg, catalog['dec'][0] * u.deg\n",
    "\n",
    "\n",
    "def get_multiple_tic_ids_ra_dec(tic_ids):\n",
    "    catalog = Catalogs.query_criteria(catalog='TIC', ID=tic_ids)\n",
    "    return catalog['ra'] * u.deg, catalog['dec'] * u.deg"
   ]
  },
  {
   "cell_type": "code",
   "execution_count": 3,
   "id": "cdcac4b9-5241-42a0-a096-f9128510f6ff",
   "metadata": {},
   "outputs": [],
   "source": [
    "import sys\n",
    "\n",
    "sys.path.insert(0, '../code/')"
   ]
  },
  {
   "cell_type": "raw",
   "id": "a08dbc24-7a65-43bf-b34c-c73dd237e650",
   "metadata": {},
   "source": [
    "!{sys.executable} -m pip install matplotlib pandas tqdm"
   ]
  },
  {
   "cell_type": "code",
   "execution_count": 4,
   "id": "4a1b7d95-e44f-4fe1-8e5f-b1d494b34a6d",
   "metadata": {},
   "outputs": [
    {
     "data": {
      "text/html": [
       "<div>\n",
       "<style scoped>\n",
       "    .dataframe tbody tr th:only-of-type {\n",
       "        vertical-align: middle;\n",
       "    }\n",
       "\n",
       "    .dataframe tbody tr th {\n",
       "        vertical-align: top;\n",
       "    }\n",
       "\n",
       "    .dataframe thead th {\n",
       "        text-align: right;\n",
       "    }\n",
       "</style>\n",
       "<table border=\"1\" class=\"dataframe\">\n",
       "  <thead>\n",
       "    <tr style=\"text-align: right;\">\n",
       "      <th></th>\n",
       "      <th>TIC ID</th>\n",
       "      <th>TOI</th>\n",
       "      <th>Previous CTOI</th>\n",
       "      <th>Master</th>\n",
       "      <th>SG1A</th>\n",
       "      <th>SG1B</th>\n",
       "      <th>SG2</th>\n",
       "      <th>SG3</th>\n",
       "      <th>SG4</th>\n",
       "      <th>SG5</th>\n",
       "      <th>...</th>\n",
       "      <th>Stellar Mass (M_Sun) err</th>\n",
       "      <th>Sectors</th>\n",
       "      <th>Date TOI Alerted (UTC)</th>\n",
       "      <th>Date TOI Updated (UTC)</th>\n",
       "      <th>Date Modified</th>\n",
       "      <th>Comments</th>\n",
       "      <th>ra_deg</th>\n",
       "      <th>dec_deg</th>\n",
       "      <th>GaiaDR3_exofop</th>\n",
       "      <th>GaiaDR3_vizier</th>\n",
       "    </tr>\n",
       "  </thead>\n",
       "  <tbody>\n",
       "    <tr>\n",
       "      <th>6140</th>\n",
       "      <td>201175570</td>\n",
       "      <td>7041.01</td>\n",
       "      <td>TIC 201175570.01</td>\n",
       "      <td>3</td>\n",
       "      <td>4</td>\n",
       "      <td>4</td>\n",
       "      <td>3</td>\n",
       "      <td>1</td>\n",
       "      <td>4</td>\n",
       "      <td>4</td>\n",
       "      <td>...</td>\n",
       "      <td>NaN</td>\n",
       "      <td>68,69</td>\n",
       "      <td>2024-08-28</td>\n",
       "      <td>2024-08-28</td>\n",
       "      <td>2024-09-18 00:00:00</td>\n",
       "      <td>evolved host; low SNR; long duration</td>\n",
       "      <td>357.802167</td>\n",
       "      <td>-50.869861</td>\n",
       "      <td>6.522218e+18</td>\n",
       "      <td>6.522218e+18</td>\n",
       "    </tr>\n",
       "    <tr>\n",
       "      <th>6141</th>\n",
       "      <td>345724317</td>\n",
       "      <td>7042.01</td>\n",
       "      <td>NaN</td>\n",
       "      <td>2</td>\n",
       "      <td>4</td>\n",
       "      <td>2</td>\n",
       "      <td>2</td>\n",
       "      <td>1</td>\n",
       "      <td>4</td>\n",
       "      <td>4</td>\n",
       "      <td>...</td>\n",
       "      <td>0.184685</td>\n",
       "      <td>25,52,79</td>\n",
       "      <td>2024-08-28</td>\n",
       "      <td>2024-08-28</td>\n",
       "      <td>2024-09-08 12:03:03</td>\n",
       "      <td>slight depth aperture correlation; weak BLS; l...</td>\n",
       "      <td>249.910167</td>\n",
       "      <td>20.743061</td>\n",
       "      <td>4.564173e+18</td>\n",
       "      <td>4.564173e+18</td>\n",
       "    </tr>\n",
       "    <tr>\n",
       "      <th>6142</th>\n",
       "      <td>57299130</td>\n",
       "      <td>7043.01</td>\n",
       "      <td>NaN</td>\n",
       "      <td>3</td>\n",
       "      <td>4</td>\n",
       "      <td>3</td>\n",
       "      <td>3</td>\n",
       "      <td>1</td>\n",
       "      <td>4</td>\n",
       "      <td>4</td>\n",
       "      <td>...</td>\n",
       "      <td>0.109921</td>\n",
       "      <td>24,25,51,52,78,79</td>\n",
       "      <td>2024-08-28</td>\n",
       "      <td>2024-08-28</td>\n",
       "      <td>2024-09-08 12:03:02</td>\n",
       "      <td>some events on momentum dumps which cause appa...</td>\n",
       "      <td>251.806167</td>\n",
       "      <td>37.885958</td>\n",
       "      <td>1.352263e+18</td>\n",
       "      <td>1.352263e+18</td>\n",
       "    </tr>\n",
       "    <tr>\n",
       "      <th>6143</th>\n",
       "      <td>263723967</td>\n",
       "      <td>7044.01</td>\n",
       "      <td>NaN</td>\n",
       "      <td>3</td>\n",
       "      <td>4</td>\n",
       "      <td>3</td>\n",
       "      <td>3</td>\n",
       "      <td>1</td>\n",
       "      <td>4</td>\n",
       "      <td>4</td>\n",
       "      <td>...</td>\n",
       "      <td>0.136806</td>\n",
       "      <td>25,52,79</td>\n",
       "      <td>2024-08-28</td>\n",
       "      <td>2024-08-28</td>\n",
       "      <td>2024-09-08 12:03:02</td>\n",
       "      <td>maximum period between events in each year is ...</td>\n",
       "      <td>250.414750</td>\n",
       "      <td>15.200531</td>\n",
       "      <td>4.462612e+18</td>\n",
       "      <td>4.462612e+18</td>\n",
       "    </tr>\n",
       "    <tr>\n",
       "      <th>6144</th>\n",
       "      <td>21720215</td>\n",
       "      <td>7045.01</td>\n",
       "      <td>TIC 21720215.01</td>\n",
       "      <td>3</td>\n",
       "      <td>4</td>\n",
       "      <td>3</td>\n",
       "      <td>3</td>\n",
       "      <td>1</td>\n",
       "      <td>4</td>\n",
       "      <td>4</td>\n",
       "      <td>...</td>\n",
       "      <td>0.192469</td>\n",
       "      <td>25,79</td>\n",
       "      <td>2024-08-28</td>\n",
       "      <td>2024-08-28</td>\n",
       "      <td>2024-09-08 12:03:00</td>\n",
       "      <td>two stars in pixel; somewhat V-shaped</td>\n",
       "      <td>256.054042</td>\n",
       "      <td>31.565369</td>\n",
       "      <td>1.310410e+18</td>\n",
       "      <td>1.310410e+18</td>\n",
       "    </tr>\n",
       "  </tbody>\n",
       "</table>\n",
       "<p>5 rows × 66 columns</p>\n",
       "</div>"
      ],
      "text/plain": [
       "         TIC ID      TOI     Previous CTOI  Master  SG1A  SG1B  SG2  SG3  SG4  \\\n",
       "6140  201175570  7041.01  TIC 201175570.01       3     4     4    3    1    4   \n",
       "6141  345724317  7042.01               NaN       2     4     2    2    1    4   \n",
       "6142   57299130  7043.01               NaN       3     4     3    3    1    4   \n",
       "6143  263723967  7044.01               NaN       3     4     3    3    1    4   \n",
       "6144   21720215  7045.01   TIC 21720215.01       3     4     3    3    1    4   \n",
       "\n",
       "      SG5  ...  Stellar Mass (M_Sun) err            Sectors  \\\n",
       "6140    4  ...                       NaN              68,69   \n",
       "6141    4  ...                  0.184685           25,52,79   \n",
       "6142    4  ...                  0.109921  24,25,51,52,78,79   \n",
       "6143    4  ...                  0.136806           25,52,79   \n",
       "6144    4  ...                  0.192469              25,79   \n",
       "\n",
       "      Date TOI Alerted (UTC)  Date TOI Updated (UTC)        Date Modified  \\\n",
       "6140              2024-08-28              2024-08-28  2024-09-18 00:00:00   \n",
       "6141              2024-08-28              2024-08-28  2024-09-08 12:03:03   \n",
       "6142              2024-08-28              2024-08-28  2024-09-08 12:03:02   \n",
       "6143              2024-08-28              2024-08-28  2024-09-08 12:03:02   \n",
       "6144              2024-08-28              2024-08-28  2024-09-08 12:03:00   \n",
       "\n",
       "                                               Comments      ra_deg  \\\n",
       "6140               evolved host; low SNR; long duration  357.802167   \n",
       "6141  slight depth aperture correlation; weak BLS; l...  249.910167   \n",
       "6142  some events on momentum dumps which cause appa...  251.806167   \n",
       "6143  maximum period between events in each year is ...  250.414750   \n",
       "6144              two stars in pixel; somewhat V-shaped  256.054042   \n",
       "\n",
       "        dec_deg  GaiaDR3_exofop  GaiaDR3_vizier  \n",
       "6140 -50.869861    6.522218e+18    6.522218e+18  \n",
       "6141  20.743061    4.564173e+18    4.564173e+18  \n",
       "6142  37.885958    1.352263e+18    1.352263e+18  \n",
       "6143  15.200531    4.462612e+18    4.462612e+18  \n",
       "6144  31.565369    1.310410e+18    1.310410e+18  \n",
       "\n",
       "[5 rows x 66 columns]"
      ]
     },
     "execution_count": 4,
     "metadata": {},
     "output_type": "execute_result"
    }
   ],
   "source": [
    "from catalog import get_tois\n",
    "\n",
    "tois = get_tois(remove_known_planets=True)\n",
    "tois.tail()"
   ]
  },
  {
   "cell_type": "markdown",
   "id": "777635e4-f7cf-4207-be08-1257de9fc45e",
   "metadata": {},
   "source": [
    "# multiple queries at once but hard to distinguish target name"
   ]
  },
  {
   "cell_type": "code",
   "execution_count": 5,
   "id": "e1655214-7b02-47c4-9c37-8986ac2c0ac3",
   "metadata": {},
   "outputs": [
    {
     "data": {
      "text/plain": [
       "array([278683844, 278683844, 207081058, 231702397,  29831208])"
      ]
     },
     "execution_count": 5,
     "metadata": {},
     "output_type": "execute_result"
    }
   ],
   "source": [
    "tic_list = tois['TIC ID'].T.values[:5]\n",
    "tic_list"
   ]
  },
  {
   "cell_type": "code",
   "execution_count": 6,
   "id": "91af2dd6-e631-4d91-bbf4-599fdee85382",
   "metadata": {},
   "outputs": [
    {
     "data": {
      "text/plain": [
       "(<Quantity [ 99.23800267, 332.94708256,  66.58254045, 331.86723032] deg>,\n",
       " <Quantity [-58.01526792, -58.94506972, -67.80649444, -41.81546905] deg>)"
      ]
     },
     "execution_count": 6,
     "metadata": {},
     "output_type": "execute_result"
    }
   ],
   "source": [
    "get_multiple_tic_ids_ra_dec(tic_list)"
   ]
  },
  {
   "cell_type": "raw",
   "id": "f4ce32e6-4230-4dd3-8ee3-62e5085d9ab1",
   "metadata": {},
   "source": [
    "list(map(lambda x: fix_tic(x), results['object']))"
   ]
  },
  {
   "cell_type": "code",
   "execution_count": 32,
   "id": "c83ee340-6005-4824-a4dd-bb40ded3661e",
   "metadata": {},
   "outputs": [
    {
     "name": "stdout",
     "output_type": "stream",
     "text": [
      "HATS582-005|(FEROS)|2012-04-21 -> 2012-06-08 [13 points]|(MOHLER, M)\n",
      "J054833|(FEROS)|2011-12-17 -> 2011-12-17 [1 points]|(FAEDI)\n",
      "J211947|(FEROS)|2011-12-18 -> 2011-12-18 [3 points]|(FAEDI)\n",
      "SW0548-6359|(HARPS)|2012-10-12 -> 2012-10-17 [15 points]|(TRIAUD)\n",
      "WASP-95|(FEROS)|2014-11-21 -> 2014-11-21 [1 points]|(MANCINI, L)\n",
      "WASP-62|(FEROS;HARPS)|2014-10-11 -> 2017-01-26 [5 points]|(LILLO BOX;MANCINI, L)\n",
      "WASP46|(HARPS)|2018-11-05 -> 2018-11-06 [15 points]|(ESPOSITO)\n",
      "TOI104|(FEROS;HARPS)|2015-07-25 -> 2024-07-19 [2 points]|(HUBER ;MANCINI, L)\n",
      "\n"
     ]
    }
   ],
   "source": [
    "radius = (10 * u.arcsec).to(u.deg)\n",
    "outdir = '.'\n",
    "ras, decs = get_multiple_tic_ids_ra_dec(tic_list)\n",
    "results = do_multiple_query(ras, decs, radius.value)\n",
    "print(summarize_multiple_observations(results))"
   ]
  },
  {
   "cell_type": "markdown",
   "id": "bb5a9d15-eb04-4e73-bb1c-5707a42270ff",
   "metadata": {},
   "source": [
    "## loop each target"
   ]
  },
  {
   "cell_type": "code",
   "execution_count": 15,
   "id": "9054f21d-4d5d-43ec-a152-131ae3f04aad",
   "metadata": {},
   "outputs": [
    {
     "data": {
      "text/plain": [
       "0     7038.01\n",
       "1     6963.01\n",
       "2     6938.01\n",
       "3     6715.01\n",
       "4     6705.01\n",
       "       ...   \n",
       "65     612.01\n",
       "66     588.01\n",
       "67     581.01\n",
       "68     580.01\n",
       "69     520.01\n",
       "Name: TOI, Length: 70, dtype: float64"
      ]
     },
     "execution_count": 15,
     "metadata": {},
     "output_type": "execute_result"
    }
   ],
   "source": [
    "import pandas as pd\n",
    "\n",
    "candidates = pd.read_csv('../../tois_yuanzhe/tois_yuanzhe.txt', names=['TOI']).squeeze()\n",
    "candidates"
   ]
  },
  {
   "cell_type": "code",
   "execution_count": 24,
   "id": "5bf03924-03db-43cd-b9c2-b8f6a4b5736d",
   "metadata": {},
   "outputs": [
    {
     "data": {
      "text/plain": [
       "(65, 66)"
      ]
     },
     "execution_count": 24,
     "metadata": {},
     "output_type": "execute_result"
    }
   ],
   "source": [
    "idx = tois.TOI.isin(candidates)\n",
    "tois[idx].shape"
   ]
  },
  {
   "cell_type": "code",
   "execution_count": 26,
   "id": "e8438644-d385-4c8c-ab72-adbf757fcbe6",
   "metadata": {},
   "outputs": [],
   "source": [
    "results = {}\n",
    "texts = {}"
   ]
  },
  {
   "cell_type": "code",
   "execution_count": 29,
   "id": "5b4c4c0f-50c3-4d9b-80c7-e8a0164c9faa",
   "metadata": {},
   "outputs": [
    {
     "name": "stderr",
     "output_type": "stream",
     "text": [
      "2it [00:08,  4.31s/it]"
     ]
    },
    {
     "name": "stdout",
     "output_type": "stream",
     "text": [
      "No results to show.\n",
      "None\n"
     ]
    },
    {
     "name": "stderr",
     "output_type": "stream",
     "text": [
      "3it [00:15,  5.50s/it]"
     ]
    },
    {
     "name": "stdout",
     "output_type": "stream",
     "text": [
      "No results to show.\n",
      "None\n"
     ]
    },
    {
     "name": "stderr",
     "output_type": "stream",
     "text": [
      "4it [00:23,  6.17s/it]"
     ]
    },
    {
     "name": "stdout",
     "output_type": "stream",
     "text": [
      "\n",
      "        Summary includes multiple targets: HD 58353,TOI-612\n",
      "        \n",
      "HARPS 2024-04-02 -> 2024-05-19 [17 points]\n",
      "\t113.26F7.001 (BATTLEY )                  2024-04-02 -> 2024-05-19 [17 points]\n"
     ]
    },
    {
     "name": "stderr",
     "output_type": "stream",
     "text": [
      "5it [00:30,  6.61s/it]"
     ]
    },
    {
     "name": "stdout",
     "output_type": "stream",
     "text": [
      "No results to show.\n",
      "None\n"
     ]
    },
    {
     "name": "stderr",
     "output_type": "stream",
     "text": [
      "6it [00:37,  6.73s/it]"
     ]
    },
    {
     "name": "stdout",
     "output_type": "stream",
     "text": [
      "No results to show.\n",
      "None\n"
     ]
    },
    {
     "name": "stderr",
     "output_type": "stream",
     "text": [
      "7it [00:44,  6.89s/it]"
     ]
    },
    {
     "name": "stdout",
     "output_type": "stream",
     "text": [
      "No results to show.\n",
      "None\n"
     ]
    },
    {
     "name": "stderr",
     "output_type": "stream",
     "text": [
      "8it [00:51,  6.89s/it]"
     ]
    },
    {
     "name": "stdout",
     "output_type": "stream",
     "text": [
      "No results to show.\n",
      "None\n"
     ]
    },
    {
     "name": "stderr",
     "output_type": "stream",
     "text": [
      "9it [00:59,  7.14s/it]"
     ]
    },
    {
     "name": "stdout",
     "output_type": "stream",
     "text": [
      "\n",
      "        Summary includes multiple targets: CD-45 3120,TOI-1881\n",
      "        \n",
      "HARPS 2024-04-02 -> 2024-06-06 [22 points]\n",
      "\t113.26F7.001 (BATTLEY )                  2024-04-02 -> 2024-06-06 [22 points]\n"
     ]
    },
    {
     "name": "stderr",
     "output_type": "stream",
     "text": [
      "10it [01:06,  7.10s/it]"
     ]
    },
    {
     "name": "stdout",
     "output_type": "stream",
     "text": [
      "Summary for TOI1882\n",
      "HARPS 2024-04-19 -> 2024-04-19 [1 points]\n",
      "\t113.26M1.001 (HUBER )                    2024-04-19 -> 2024-04-19 [1 points]\n"
     ]
    },
    {
     "name": "stderr",
     "output_type": "stream",
     "text": [
      "11it [01:13,  7.15s/it]"
     ]
    },
    {
     "name": "stdout",
     "output_type": "stream",
     "text": [
      "No results to show.\n",
      "None\n"
     ]
    },
    {
     "name": "stderr",
     "output_type": "stream",
     "text": [
      "12it [01:21,  7.31s/it]"
     ]
    },
    {
     "name": "stdout",
     "output_type": "stream",
     "text": [
      "No results to show.\n",
      "None\n"
     ]
    },
    {
     "name": "stderr",
     "output_type": "stream",
     "text": [
      "13it [01:28,  7.25s/it]"
     ]
    },
    {
     "name": "stdout",
     "output_type": "stream",
     "text": [
      "No results to show.\n",
      "None\n"
     ]
    },
    {
     "name": "stderr",
     "output_type": "stream",
     "text": [
      "14it [01:35,  7.14s/it]"
     ]
    },
    {
     "name": "stdout",
     "output_type": "stream",
     "text": [
      "No results to show.\n",
      "None\n"
     ]
    },
    {
     "name": "stderr",
     "output_type": "stream",
     "text": [
      "15it [01:42,  7.10s/it]"
     ]
    },
    {
     "name": "stdout",
     "output_type": "stream",
     "text": [
      "No results to show.\n",
      "None\n"
     ]
    },
    {
     "name": "stderr",
     "output_type": "stream",
     "text": [
      "16it [01:49,  7.12s/it]"
     ]
    },
    {
     "name": "stdout",
     "output_type": "stream",
     "text": [
      "No results to show.\n",
      "None\n"
     ]
    },
    {
     "name": "stderr",
     "output_type": "stream",
     "text": [
      "17it [01:56,  7.11s/it]"
     ]
    },
    {
     "name": "stdout",
     "output_type": "stream",
     "text": [
      "No results to show.\n",
      "None\n"
     ]
    },
    {
     "name": "stderr",
     "output_type": "stream",
     "text": [
      "18it [02:04,  7.34s/it]"
     ]
    },
    {
     "name": "stdout",
     "output_type": "stream",
     "text": [
      "No results to show.\n",
      "None\n"
     ]
    },
    {
     "name": "stderr",
     "output_type": "stream",
     "text": [
      "19it [02:11,  7.42s/it]"
     ]
    },
    {
     "name": "stdout",
     "output_type": "stream",
     "text": [
      "No results to show.\n",
      "None\n"
     ]
    },
    {
     "name": "stderr",
     "output_type": "stream",
     "text": [
      "20it [02:19,  7.37s/it]"
     ]
    },
    {
     "name": "stdout",
     "output_type": "stream",
     "text": [
      "No results to show.\n",
      "None\n"
     ]
    },
    {
     "name": "stderr",
     "output_type": "stream",
     "text": [
      "31it [03:37,  7.16s/it]"
     ]
    },
    {
     "name": "stdout",
     "output_type": "stream",
     "text": [
      "No results to show.\n",
      "None\n"
     ]
    },
    {
     "name": "stderr",
     "output_type": "stream",
     "text": [
      "32it [03:45,  7.21s/it]"
     ]
    },
    {
     "name": "stdout",
     "output_type": "stream",
     "text": [
      "No results to show.\n",
      "None\n"
     ]
    },
    {
     "name": "stderr",
     "output_type": "stream",
     "text": [
      "33it [03:52,  7.21s/it]"
     ]
    },
    {
     "name": "stdout",
     "output_type": "stream",
     "text": [
      "No results to show.\n",
      "None\n"
     ]
    },
    {
     "name": "stderr",
     "output_type": "stream",
     "text": [
      "34it [04:00,  7.35s/it]"
     ]
    },
    {
     "name": "stdout",
     "output_type": "stream",
     "text": [
      "No results to show.\n",
      "None\n"
     ]
    },
    {
     "name": "stderr",
     "output_type": "stream",
     "text": [
      "35it [04:07,  7.30s/it]"
     ]
    },
    {
     "name": "stdout",
     "output_type": "stream",
     "text": [
      "No results to show.\n",
      "None\n"
     ]
    },
    {
     "name": "stderr",
     "output_type": "stream",
     "text": [
      "36it [04:14,  7.22s/it]"
     ]
    },
    {
     "name": "stdout",
     "output_type": "stream",
     "text": [
      "No results to show.\n",
      "None\n"
     ]
    },
    {
     "name": "stderr",
     "output_type": "stream",
     "text": [
      "37it [04:21,  7.30s/it]"
     ]
    },
    {
     "name": "stdout",
     "output_type": "stream",
     "text": [
      "No results to show.\n",
      "None\n"
     ]
    },
    {
     "name": "stderr",
     "output_type": "stream",
     "text": [
      "38it [04:28,  7.18s/it]"
     ]
    },
    {
     "name": "stdout",
     "output_type": "stream",
     "text": [
      "No results to show.\n",
      "None\n"
     ]
    },
    {
     "name": "stderr",
     "output_type": "stream",
     "text": [
      "39it [04:36,  7.24s/it]"
     ]
    },
    {
     "name": "stdout",
     "output_type": "stream",
     "text": [
      "No results to show.\n",
      "None\n"
     ]
    },
    {
     "name": "stderr",
     "output_type": "stream",
     "text": [
      "40it [04:43,  7.23s/it]"
     ]
    },
    {
     "name": "stdout",
     "output_type": "stream",
     "text": [
      "No results to show.\n",
      "None\n"
     ]
    },
    {
     "name": "stderr",
     "output_type": "stream",
     "text": [
      "41it [04:50,  7.17s/it]"
     ]
    },
    {
     "name": "stdout",
     "output_type": "stream",
     "text": [
      "No results to show.\n",
      "None\n"
     ]
    },
    {
     "name": "stderr",
     "output_type": "stream",
     "text": [
      "42it [04:57,  7.25s/it]"
     ]
    },
    {
     "name": "stdout",
     "output_type": "stream",
     "text": [
      "No results to show.\n",
      "None\n"
     ]
    },
    {
     "name": "stderr",
     "output_type": "stream",
     "text": [
      "43it [05:04,  7.11s/it]"
     ]
    },
    {
     "name": "stdout",
     "output_type": "stream",
     "text": [
      "No results to show.\n",
      "None\n"
     ]
    },
    {
     "name": "stderr",
     "output_type": "stream",
     "text": [
      "44it [05:11,  7.05s/it]"
     ]
    },
    {
     "name": "stdout",
     "output_type": "stream",
     "text": [
      "No results to show.\n",
      "None\n"
     ]
    },
    {
     "name": "stderr",
     "output_type": "stream",
     "text": [
      "45it [05:18,  6.99s/it]"
     ]
    },
    {
     "name": "stdout",
     "output_type": "stream",
     "text": [
      "No results to show.\n",
      "None\n"
     ]
    },
    {
     "name": "stderr",
     "output_type": "stream",
     "text": [
      "46it [05:25,  7.00s/it]"
     ]
    },
    {
     "name": "stdout",
     "output_type": "stream",
     "text": [
      "No results to show.\n",
      "None\n"
     ]
    },
    {
     "name": "stderr",
     "output_type": "stream",
     "text": [
      "47it [05:32,  7.02s/it]"
     ]
    },
    {
     "name": "stdout",
     "output_type": "stream",
     "text": [
      "No results to show.\n",
      "None\n"
     ]
    },
    {
     "name": "stderr",
     "output_type": "stream",
     "text": [
      "48it [05:39,  7.02s/it]"
     ]
    },
    {
     "name": "stdout",
     "output_type": "stream",
     "text": [
      "No results to show.\n",
      "None\n"
     ]
    },
    {
     "name": "stderr",
     "output_type": "stream",
     "text": [
      "49it [05:47,  7.18s/it]"
     ]
    },
    {
     "name": "stdout",
     "output_type": "stream",
     "text": [
      "No results to show.\n",
      "None\n"
     ]
    },
    {
     "name": "stderr",
     "output_type": "stream",
     "text": [
      "50it [05:54,  7.12s/it]"
     ]
    },
    {
     "name": "stdout",
     "output_type": "stream",
     "text": [
      "No results to show.\n",
      "None\n"
     ]
    },
    {
     "name": "stderr",
     "output_type": "stream",
     "text": [
      "51it [06:01,  7.08s/it]"
     ]
    },
    {
     "name": "stdout",
     "output_type": "stream",
     "text": [
      "No results to show.\n",
      "None\n"
     ]
    },
    {
     "name": "stderr",
     "output_type": "stream",
     "text": [
      "52it [06:08,  7.07s/it]"
     ]
    },
    {
     "name": "stdout",
     "output_type": "stream",
     "text": [
      "No results to show.\n",
      "None\n"
     ]
    },
    {
     "name": "stderr",
     "output_type": "stream",
     "text": [
      "53it [06:15,  7.10s/it]"
     ]
    },
    {
     "name": "stdout",
     "output_type": "stream",
     "text": [
      "No results to show.\n",
      "None\n"
     ]
    },
    {
     "name": "stderr",
     "output_type": "stream",
     "text": [
      "54it [06:22,  7.09s/it]"
     ]
    },
    {
     "name": "stdout",
     "output_type": "stream",
     "text": [
      "No results to show.\n",
      "None\n"
     ]
    },
    {
     "name": "stderr",
     "output_type": "stream",
     "text": [
      "55it [06:29,  7.25s/it]"
     ]
    },
    {
     "name": "stdout",
     "output_type": "stream",
     "text": [
      "No results to show.\n",
      "None\n"
     ]
    },
    {
     "name": "stderr",
     "output_type": "stream",
     "text": [
      "56it [06:36,  7.15s/it]"
     ]
    },
    {
     "name": "stdout",
     "output_type": "stream",
     "text": [
      "No results to show.\n",
      "None\n"
     ]
    },
    {
     "name": "stderr",
     "output_type": "stream",
     "text": [
      "57it [06:43,  7.09s/it]"
     ]
    },
    {
     "name": "stdout",
     "output_type": "stream",
     "text": [
      "No results to show.\n",
      "None\n"
     ]
    },
    {
     "name": "stderr",
     "output_type": "stream",
     "text": [
      "58it [06:50,  7.07s/it]"
     ]
    },
    {
     "name": "stdout",
     "output_type": "stream",
     "text": [
      "No results to show.\n",
      "None\n"
     ]
    },
    {
     "name": "stderr",
     "output_type": "stream",
     "text": [
      "59it [06:57,  7.03s/it]"
     ]
    },
    {
     "name": "stdout",
     "output_type": "stream",
     "text": [
      "No results to show.\n",
      "None\n"
     ]
    },
    {
     "name": "stderr",
     "output_type": "stream",
     "text": [
      "60it [07:04,  7.06s/it]"
     ]
    },
    {
     "name": "stdout",
     "output_type": "stream",
     "text": [
      "No results to show.\n",
      "None\n"
     ]
    },
    {
     "name": "stderr",
     "output_type": "stream",
     "text": [
      "61it [07:12,  7.09s/it]"
     ]
    },
    {
     "name": "stdout",
     "output_type": "stream",
     "text": [
      "Summary for TOI6705\n",
      "HARPS 2024-07-19 -> 2024-07-19 [1 points]\n",
      "\t113.26M1.001 (HUBER )                    2024-07-19 -> 2024-07-19 [1 points]\n"
     ]
    },
    {
     "name": "stderr",
     "output_type": "stream",
     "text": [
      "62it [07:19,  7.10s/it]"
     ]
    },
    {
     "name": "stdout",
     "output_type": "stream",
     "text": [
      "Summary for RSP95-29\n",
      "HARPS 2010-02-22 -> 2010-03-01 [14 points]\n",
      "\t084.C-1024(A) (BOUVIER)                  2010-02-22 -> 2010-03-01 [14 points]\n"
     ]
    },
    {
     "name": "stderr",
     "output_type": "stream",
     "text": [
      "63it [07:26,  7.05s/it]"
     ]
    },
    {
     "name": "stdout",
     "output_type": "stream",
     "text": [
      "No results to show.\n",
      "None\n"
     ]
    },
    {
     "name": "stderr",
     "output_type": "stream",
     "text": [
      "64it [07:32,  6.98s/it]"
     ]
    },
    {
     "name": "stdout",
     "output_type": "stream",
     "text": [
      "No results to show.\n",
      "None\n"
     ]
    },
    {
     "name": "stderr",
     "output_type": "stream",
     "text": [
      "65it [07:40,  7.08s/it]"
     ]
    },
    {
     "name": "stdout",
     "output_type": "stream",
     "text": [
      "No results to show.\n",
      "None\n"
     ]
    },
    {
     "name": "stderr",
     "output_type": "stream",
     "text": [
      "\n"
     ]
    }
   ],
   "source": [
    "from tqdm import tqdm\n",
    "\n",
    "radius = (10 * u.arcsec).to(u.deg)\n",
    "\n",
    "for i,row in tqdm(tois[idx].iterrows()):\n",
    "    toi = f\"TOI-{row['TOI']}\"\n",
    "    # print(row['Comments'])\n",
    "    if results.get(toi) is None:\n",
    "        ra, dec = get_ra_dec_from_tic_id(row['TIC ID'])\n",
    "        result = do_query(ra.value, dec.value, radius.value)\n",
    "        text = summarise_obs(result)\n",
    "        results[toi] = result\n",
    "        texts[toi] = text\n",
    "        print(text)"
   ]
  },
  {
   "cell_type": "code",
   "execution_count": 38,
   "id": "3ae3dcc7-b6fe-4391-acd2-292b12a75a3f",
   "metadata": {},
   "outputs": [
    {
     "data": {
      "text/plain": [
       "['TOI-612.01', 'TOI-1881.01', 'TOI-1882.01', 'TOI-6705.01', 'TOI-6715.01']"
      ]
     },
     "execution_count": 38,
     "metadata": {},
     "output_type": "execute_result"
    }
   ],
   "source": [
    "[k for k,v in results.items() if v]"
   ]
  },
  {
   "cell_type": "code",
   "execution_count": 54,
   "id": "725c6f9d-f3b5-48e3-a6f1-2329ed42ae06",
   "metadata": {},
   "outputs": [
    {
     "data": {
      "text/plain": [
       "[('TOI-612.01', {'HARPS'}),\n",
       " ('TOI-1881.01', {'HARPS'}),\n",
       " ('TOI-1882.01', {'HARPS'}),\n",
       " ('TOI-6705.01', {'HARPS'}),\n",
       " ('TOI-6715.01', {'HARPS'})]"
      ]
     },
     "execution_count": 54,
     "metadata": {},
     "output_type": "execute_result"
    }
   ],
   "source": [
    "[(k,set(v['instrument'])) for k,v in results.items() if v]"
   ]
  },
  {
   "cell_type": "markdown",
   "id": "97d96f1b-53d3-4975-82f9-2c60b410db47",
   "metadata": {},
   "source": [
    "Download data of each TOI above from: https://archive.eso.org/wdb/wdb/adp/phase3_spectral/form?collection_name=HARPS"
   ]
  },
  {
   "cell_type": "code",
   "execution_count": 41,
   "id": "73b4c90b-2d5e-4523-9268-7de893013811",
   "metadata": {},
   "outputs": [
    {
     "data": {
      "text/html": [
       "<div>\n",
       "<style scoped>\n",
       "    .dataframe tbody tr th:only-of-type {\n",
       "        vertical-align: middle;\n",
       "    }\n",
       "\n",
       "    .dataframe tbody tr th {\n",
       "        vertical-align: top;\n",
       "    }\n",
       "\n",
       "    .dataframe thead th {\n",
       "        text-align: right;\n",
       "    }\n",
       "</style>\n",
       "<table border=\"1\" class=\"dataframe\">\n",
       "  <thead>\n",
       "    <tr style=\"text-align: right;\">\n",
       "      <th></th>\n",
       "      <th>ra_deg</th>\n",
       "      <th>dec_deg</th>\n",
       "    </tr>\n",
       "  </thead>\n",
       "  <tbody>\n",
       "    <tr>\n",
       "      <th>5820</th>\n",
       "      <td>159.157958</td>\n",
       "      <td>-64.798231</td>\n",
       "    </tr>\n",
       "  </tbody>\n",
       "</table>\n",
       "</div>"
      ],
      "text/plain": [
       "          ra_deg    dec_deg\n",
       "5820  159.157958 -64.798231"
      ]
     },
     "execution_count": 41,
     "metadata": {},
     "output_type": "execute_result"
    }
   ],
   "source": [
    "tois.query(\"TOI==6715.01\")[['ra_deg','dec_deg']]"
   ]
  },
  {
   "cell_type": "markdown",
   "id": "6c027ee3-97bf-4e55-b5cf-c3f15a329234",
   "metadata": {},
   "source": [
    "PI:Dan Huber; not yet public until 2025 Feb"
   ]
  },
  {
   "cell_type": "code",
   "execution_count": 55,
   "id": "2598c70b-3614-4f83-8723-d5e4055fa6fc",
   "metadata": {},
   "outputs": [
    {
     "data": {
      "text/html": [
       "<div>\n",
       "<style scoped>\n",
       "    .dataframe tbody tr th:only-of-type {\n",
       "        vertical-align: middle;\n",
       "    }\n",
       "\n",
       "    .dataframe tbody tr th {\n",
       "        vertical-align: top;\n",
       "    }\n",
       "\n",
       "    .dataframe thead th {\n",
       "        text-align: right;\n",
       "    }\n",
       "</style>\n",
       "<table border=\"1\" class=\"dataframe\">\n",
       "  <thead>\n",
       "    <tr style=\"text-align: right;\">\n",
       "      <th></th>\n",
       "      <th>ra_deg</th>\n",
       "      <th>dec_deg</th>\n",
       "    </tr>\n",
       "  </thead>\n",
       "  <tbody>\n",
       "    <tr>\n",
       "      <th>5811</th>\n",
       "      <td>220.003917</td>\n",
       "      <td>-52.91005</td>\n",
       "    </tr>\n",
       "  </tbody>\n",
       "</table>\n",
       "</div>"
      ],
      "text/plain": [
       "          ra_deg   dec_deg\n",
       "5811  220.003917 -52.91005"
      ]
     },
     "execution_count": 55,
     "metadata": {},
     "output_type": "execute_result"
    }
   ],
   "source": [
    "tois.query(\"TOI==6705.01\")[['ra_deg','dec_deg']]"
   ]
  },
  {
   "cell_type": "code",
   "execution_count": 56,
   "id": "fdf58cd4-e9a7-4248-ada4-16605d30eae9",
   "metadata": {},
   "outputs": [
    {
     "data": {
      "text/html": [
       "<div>\n",
       "<style scoped>\n",
       "    .dataframe tbody tr th:only-of-type {\n",
       "        vertical-align: middle;\n",
       "    }\n",
       "\n",
       "    .dataframe tbody tr th {\n",
       "        vertical-align: top;\n",
       "    }\n",
       "\n",
       "    .dataframe thead th {\n",
       "        text-align: right;\n",
       "    }\n",
       "</style>\n",
       "<table border=\"1\" class=\"dataframe\">\n",
       "  <thead>\n",
       "    <tr style=\"text-align: right;\">\n",
       "      <th></th>\n",
       "      <th>ra_deg</th>\n",
       "      <th>dec_deg</th>\n",
       "    </tr>\n",
       "  </thead>\n",
       "  <tbody>\n",
       "    <tr>\n",
       "      <th>1374</th>\n",
       "      <td>212.839208</td>\n",
       "      <td>-75.833203</td>\n",
       "    </tr>\n",
       "  </tbody>\n",
       "</table>\n",
       "</div>"
      ],
      "text/plain": [
       "          ra_deg    dec_deg\n",
       "1374  212.839208 -75.833203"
      ]
     },
     "execution_count": 56,
     "metadata": {},
     "output_type": "execute_result"
    }
   ],
   "source": [
    "tois.query(\"TOI==1882.01\")[['ra_deg','dec_deg']]"
   ]
  },
  {
   "cell_type": "raw",
   "id": "43a4b163-8892-4caa-837f-39bdb910e5e2",
   "metadata": {},
   "source": [
    "#weird but query says no harps data\n",
    "tois.query(\"TOI==1881.01\")[['ra_deg','dec_deg']]"
   ]
  },
  {
   "cell_type": "raw",
   "id": "0e7217e3-fcdc-457c-8ec7-16cae5911d0f",
   "metadata": {},
   "source": [
    "#no harps data\n",
    "tois.query(\"TOI==612.01\")[['ra_deg','dec_deg']]"
   ]
  },
  {
   "cell_type": "code",
   "execution_count": null,
   "id": "b87afb84-353a-40df-a224-1366a1c11906",
   "metadata": {},
   "outputs": [],
   "source": []
  }
 ],
 "metadata": {
  "kernelspec": {
   "display_name": "eso",
   "language": "python",
   "name": "eso"
  },
  "language_info": {
   "codemirror_mode": {
    "name": "ipython",
    "version": 3
   },
   "file_extension": ".py",
   "mimetype": "text/x-python",
   "name": "python",
   "nbconvert_exporter": "python",
   "pygments_lexer": "ipython3",
   "version": "3.10.14"
  }
 },
 "nbformat": 4,
 "nbformat_minor": 5
}
