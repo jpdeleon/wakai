{
 "cells": [
  {
   "cell_type": "code",
   "execution_count": 1,
   "id": "f7a75e69-0dde-44eb-aec1-5d87029c56a8",
   "metadata": {},
   "outputs": [
    {
     "name": "stdout",
     "output_type": "stream",
     "text": [
      "/ut3/jerome/miniconda3/envs/wakai/bin/python\n"
     ]
    }
   ],
   "source": [
    "import sys\n",
    "\n",
    "!which {sys.executable}"
   ]
  },
  {
   "cell_type": "raw",
   "id": "5bf615f9-86e2-402b-a0f5-1a83576734d2",
   "metadata": {
    "ExecuteTime": {
     "end_time": "2023-08-02T09:20:20.655647Z",
     "start_time": "2023-08-02T09:20:20.206769Z"
    }
   },
   "source": [
    "%load init_ipynb"
   ]
  },
  {
   "cell_type": "code",
   "execution_count": 2,
   "id": "87cd30ff-033f-48a4-8e8a-226b71d4fe7d",
   "metadata": {},
   "outputs": [],
   "source": [
    "import sys\n",
    "sys.path.insert(0, '../code')"
   ]
  },
  {
   "cell_type": "code",
   "execution_count": 5,
   "id": "2dd6e880-aa0c-47c3-9702-229ca3af7f95",
   "metadata": {},
   "outputs": [
    {
     "data": {
      "text/html": [
       "<div>\n",
       "<style scoped>\n",
       "    .dataframe tbody tr th:only-of-type {\n",
       "        vertical-align: middle;\n",
       "    }\n",
       "\n",
       "    .dataframe tbody tr th {\n",
       "        vertical-align: top;\n",
       "    }\n",
       "\n",
       "    .dataframe thead th {\n",
       "        text-align: right;\n",
       "    }\n",
       "</style>\n",
       "<table border=\"1\" class=\"dataframe\">\n",
       "  <thead>\n",
       "    <tr style=\"text-align: right;\">\n",
       "      <th></th>\n",
       "      <th>target</th>\n",
       "      <th>ra</th>\n",
       "      <th>dec</th>\n",
       "      <th>BJD</th>\n",
       "      <th>RV_mlc_nzp</th>\n",
       "      <th>e_RV_mlc_nzp</th>\n",
       "      <th>RV_drs_nzp</th>\n",
       "      <th>e_RV_drs_nzp</th>\n",
       "      <th>RV_mlc</th>\n",
       "      <th>e_RV_mlc</th>\n",
       "      <th>...</th>\n",
       "      <th>PROGPI</th>\n",
       "      <th>AIRMASS</th>\n",
       "      <th>OBHAB</th>\n",
       "      <th>THAR_FP</th>\n",
       "      <th>DPR_TYPE</th>\n",
       "      <th>RHKp</th>\n",
       "      <th>dRHKp</th>\n",
       "      <th>sourceflag</th>\n",
       "      <th>vsinflag</th>\n",
       "      <th>metflag</th>\n",
       "    </tr>\n",
       "  </thead>\n",
       "  <tbody>\n",
       "    <tr>\n",
       "      <th>0</th>\n",
       "      <td>HD160617</td>\n",
       "      <td>265.706979</td>\n",
       "      <td>-40.322215</td>\n",
       "      <td>2.454900e+06</td>\n",
       "      <td>2.054999</td>\n",
       "      <td>1.624905</td>\n",
       "      <td>100609.364065</td>\n",
       "      <td>1.322757</td>\n",
       "      <td>7.796334</td>\n",
       "      <td>1.443621</td>\n",
       "      <td>...</td>\n",
       "      <td>UNKNOWN</td>\n",
       "      <td>-9999999</td>\n",
       "      <td>HARPS_ech_obs_all</td>\n",
       "      <td>HARPS_ech_obs_objAB</td>\n",
       "      <td>STAR_SKY_F0V</td>\n",
       "      <td>0.000028</td>\n",
       "      <td>0.000012</td>\n",
       "      <td>0</td>\n",
       "      <td>0</td>\n",
       "      <td>0</td>\n",
       "    </tr>\n",
       "    <tr>\n",
       "      <th>1</th>\n",
       "      <td>HD160617</td>\n",
       "      <td>265.706979</td>\n",
       "      <td>-40.322215</td>\n",
       "      <td>2.454901e+06</td>\n",
       "      <td>5.281584</td>\n",
       "      <td>1.367853</td>\n",
       "      <td>100609.433016</td>\n",
       "      <td>1.203025</td>\n",
       "      <td>11.421773</td>\n",
       "      <td>1.066969</td>\n",
       "      <td>...</td>\n",
       "      <td>UNKNOWN</td>\n",
       "      <td>-9999999</td>\n",
       "      <td>HARPS_ech_obs_all</td>\n",
       "      <td>HARPS_ech_obs_objAB</td>\n",
       "      <td>STAR_SKY_F0V</td>\n",
       "      <td>0.000018</td>\n",
       "      <td>0.000013</td>\n",
       "      <td>0</td>\n",
       "      <td>0</td>\n",
       "      <td>0</td>\n",
       "    </tr>\n",
       "    <tr>\n",
       "      <th>2</th>\n",
       "      <td>HD160617</td>\n",
       "      <td>265.706979</td>\n",
       "      <td>-40.322215</td>\n",
       "      <td>2.454901e+06</td>\n",
       "      <td>2.492506</td>\n",
       "      <td>1.352994</td>\n",
       "      <td>100612.508432</td>\n",
       "      <td>1.199217</td>\n",
       "      <td>8.625994</td>\n",
       "      <td>1.047846</td>\n",
       "      <td>...</td>\n",
       "      <td>UNKNOWN</td>\n",
       "      <td>-9999999</td>\n",
       "      <td>HARPS_ech_obs_all</td>\n",
       "      <td>HARPS_ech_obs_objAB</td>\n",
       "      <td>STAR_SKY_F0V</td>\n",
       "      <td>0.000017</td>\n",
       "      <td>0.000011</td>\n",
       "      <td>0</td>\n",
       "      <td>0</td>\n",
       "      <td>0</td>\n",
       "    </tr>\n",
       "    <tr>\n",
       "      <th>3</th>\n",
       "      <td>HD160617</td>\n",
       "      <td>265.706979</td>\n",
       "      <td>-40.322215</td>\n",
       "      <td>2.454901e+06</td>\n",
       "      <td>5.699697</td>\n",
       "      <td>1.391036</td>\n",
       "      <td>100617.060115</td>\n",
       "      <td>1.218808</td>\n",
       "      <td>11.826615</td>\n",
       "      <td>1.096518</td>\n",
       "      <td>...</td>\n",
       "      <td>UNKNOWN</td>\n",
       "      <td>-9999999</td>\n",
       "      <td>HARPS_ech_obs_all</td>\n",
       "      <td>HARPS_ech_obs_objAB</td>\n",
       "      <td>STAR_SKY_F0V</td>\n",
       "      <td>0.000012</td>\n",
       "      <td>0.000008</td>\n",
       "      <td>0</td>\n",
       "      <td>0</td>\n",
       "      <td>0</td>\n",
       "    </tr>\n",
       "    <tr>\n",
       "      <th>4</th>\n",
       "      <td>HD160617</td>\n",
       "      <td>265.706979</td>\n",
       "      <td>-40.322215</td>\n",
       "      <td>2.454901e+06</td>\n",
       "      <td>1.497738</td>\n",
       "      <td>1.345356</td>\n",
       "      <td>100615.688940</td>\n",
       "      <td>1.202852</td>\n",
       "      <td>7.617891</td>\n",
       "      <td>1.037948</td>\n",
       "      <td>...</td>\n",
       "      <td>UNKNOWN</td>\n",
       "      <td>-9999999</td>\n",
       "      <td>HARPS_ech_obs_all</td>\n",
       "      <td>HARPS_ech_obs_objAB</td>\n",
       "      <td>STAR_SKY_F0V</td>\n",
       "      <td>0.000027</td>\n",
       "      <td>0.000019</td>\n",
       "      <td>0</td>\n",
       "      <td>0</td>\n",
       "      <td>0</td>\n",
       "    </tr>\n",
       "  </tbody>\n",
       "</table>\n",
       "<p>5 rows × 58 columns</p>\n",
       "</div>"
      ],
      "text/plain": [
       "     target          ra        dec           BJD  RV_mlc_nzp  e_RV_mlc_nzp  \\\n",
       "0  HD160617  265.706979 -40.322215  2.454900e+06    2.054999      1.624905   \n",
       "1  HD160617  265.706979 -40.322215  2.454901e+06    5.281584      1.367853   \n",
       "2  HD160617  265.706979 -40.322215  2.454901e+06    2.492506      1.352994   \n",
       "3  HD160617  265.706979 -40.322215  2.454901e+06    5.699697      1.391036   \n",
       "4  HD160617  265.706979 -40.322215  2.454901e+06    1.497738      1.345356   \n",
       "\n",
       "      RV_drs_nzp  e_RV_drs_nzp     RV_mlc  e_RV_mlc  ...   PROGPI  AIRMASS  \\\n",
       "0  100609.364065      1.322757   7.796334  1.443621  ...  UNKNOWN -9999999   \n",
       "1  100609.433016      1.203025  11.421773  1.066969  ...  UNKNOWN -9999999   \n",
       "2  100612.508432      1.199217   8.625994  1.047846  ...  UNKNOWN -9999999   \n",
       "3  100617.060115      1.218808  11.826615  1.096518  ...  UNKNOWN -9999999   \n",
       "4  100615.688940      1.202852   7.617891  1.037948  ...  UNKNOWN -9999999   \n",
       "\n",
       "               OBHAB              THAR_FP      DPR_TYPE      RHKp     dRHKp  \\\n",
       "0  HARPS_ech_obs_all  HARPS_ech_obs_objAB  STAR_SKY_F0V  0.000028  0.000012   \n",
       "1  HARPS_ech_obs_all  HARPS_ech_obs_objAB  STAR_SKY_F0V  0.000018  0.000013   \n",
       "2  HARPS_ech_obs_all  HARPS_ech_obs_objAB  STAR_SKY_F0V  0.000017  0.000011   \n",
       "3  HARPS_ech_obs_all  HARPS_ech_obs_objAB  STAR_SKY_F0V  0.000012  0.000008   \n",
       "4  HARPS_ech_obs_all  HARPS_ech_obs_objAB  STAR_SKY_F0V  0.000027  0.000019   \n",
       "\n",
       "   sourceflag  vsinflag  metflag  \n",
       "0           0         0        0  \n",
       "1           0         0        0  \n",
       "2           0         0        0  \n",
       "3           0         0        0  \n",
       "4           0         0        0  \n",
       "\n",
       "[5 rows x 58 columns]"
      ]
     },
     "execution_count": 5,
     "metadata": {},
     "output_type": "execute_result"
    }
   ],
   "source": [
    "import pandas as pd\n",
    "\n",
    "url = \"https://github.com/3fon3fonov/HARPS_RVBank/raw/refs/heads/master/HARPS_RVBank_ver02.csv.zip\"\n",
    "df = pd.read_csv(url)\n",
    "df.head()"
   ]
  },
  {
   "cell_type": "raw",
   "id": "9f90f61f-f727-4dbe-ba3a-5744f6ad64f0",
   "metadata": {},
   "source": [
    "df.describe()"
   ]
  },
  {
   "cell_type": "code",
   "execution_count": 7,
   "id": "be2c03ac-c1e5-46dd-b2bd-e51c31a86e2d",
   "metadata": {},
   "outputs": [
    {
     "data": {
      "text/plain": [
       "5239"
      ]
     },
     "execution_count": 7,
     "metadata": {},
     "output_type": "execute_result"
    }
   ],
   "source": [
    "len(df.target.unique())"
   ]
  },
  {
   "cell_type": "code",
   "execution_count": 12,
   "id": "61bfe4b8-9650-4126-8140-28f2138c96e0",
   "metadata": {},
   "outputs": [
    {
     "data": {
      "text/plain": [
       "Index(['target', 'ra', 'dec', 'BJD', 'RV_mlc_nzp', 'e_RV_mlc_nzp',\n",
       "       'RV_drs_nzp', 'e_RV_drs_nzp', 'RV_mlc', 'e_RV_mlc', 'RV_drs',\n",
       "       'e_RV_drs', 'RV_mlc_j', 'e_RV_mlc_j', 'CRX', 'e_CRX', 'dLW', 'e_dLW',\n",
       "       'Halpha', 'e_Halpha', 'NaD1', 'e_NaD1', 'NaD2', 'e_NaD2', 'f_RV',\n",
       "       'FWHM_DRS', 'CONTRAST_DRS', 'BIS', 'RVGUESS', 'SNR_DRS', 'BJD_DRS',\n",
       "       'BERV', 'BERV_DRS', 'DRIFT', 'e_DRIFT', 'SA', 'NZP_mlc', 'dNZP_mlc',\n",
       "       'NZP_drs', 'dNZP_drs', 'TMMEAN', 'EXPTIME', 'MLCRX', 'E_MLCRX',\n",
       "       'TIMEID', 'DRIFT_LAMP', 'MASK', 'PROGID', 'PROGPI', 'AIRMASS', 'OBHAB',\n",
       "       'THAR_FP', 'DPR_TYPE', 'RHKp', 'dRHKp', 'sourceflag', 'vsinflag',\n",
       "       'metflag'],\n",
       "      dtype='object')"
      ]
     },
     "execution_count": 12,
     "metadata": {},
     "output_type": "execute_result"
    }
   ],
   "source": [
    "df.columns"
   ]
  },
  {
   "cell_type": "code",
   "execution_count": 11,
   "id": "8b0c0bad-9b18-4869-a77a-c3e37e25c280",
   "metadata": {},
   "outputs": [
    {
     "data": {
      "text/html": [
       "<div>\n",
       "<style scoped>\n",
       "    .dataframe tbody tr th:only-of-type {\n",
       "        vertical-align: middle;\n",
       "    }\n",
       "\n",
       "    .dataframe tbody tr th {\n",
       "        vertical-align: top;\n",
       "    }\n",
       "\n",
       "    .dataframe thead th {\n",
       "        text-align: right;\n",
       "    }\n",
       "</style>\n",
       "<table border=\"1\" class=\"dataframe\">\n",
       "  <thead>\n",
       "    <tr style=\"text-align: right;\">\n",
       "      <th></th>\n",
       "      <th>target</th>\n",
       "      <th>ra</th>\n",
       "      <th>dec</th>\n",
       "      <th>BJD</th>\n",
       "      <th>RV_mlc_nzp</th>\n",
       "      <th>e_RV_mlc_nzp</th>\n",
       "      <th>RV_drs_nzp</th>\n",
       "      <th>e_RV_drs_nzp</th>\n",
       "      <th>RV_mlc</th>\n",
       "      <th>e_RV_mlc</th>\n",
       "      <th>...</th>\n",
       "      <th>PROGPI</th>\n",
       "      <th>AIRMASS</th>\n",
       "      <th>OBHAB</th>\n",
       "      <th>THAR_FP</th>\n",
       "      <th>DPR_TYPE</th>\n",
       "      <th>RHKp</th>\n",
       "      <th>dRHKp</th>\n",
       "      <th>sourceflag</th>\n",
       "      <th>vsinflag</th>\n",
       "      <th>metflag</th>\n",
       "    </tr>\n",
       "  </thead>\n",
       "  <tbody>\n",
       "  </tbody>\n",
       "</table>\n",
       "<p>0 rows × 58 columns</p>\n",
       "</div>"
      ],
      "text/plain": [
       "Empty DataFrame\n",
       "Columns: [target, ra, dec, BJD, RV_mlc_nzp, e_RV_mlc_nzp, RV_drs_nzp, e_RV_drs_nzp, RV_mlc, e_RV_mlc, RV_drs, e_RV_drs, RV_mlc_j, e_RV_mlc_j, CRX, e_CRX, dLW, e_dLW, Halpha, e_Halpha, NaD1, e_NaD1, NaD2, e_NaD2, f_RV, FWHM_DRS, CONTRAST_DRS, BIS, RVGUESS, SNR_DRS, BJD_DRS, BERV, BERV_DRS, DRIFT, e_DRIFT, SA, NZP_mlc, dNZP_mlc, NZP_drs, dNZP_drs, TMMEAN, EXPTIME, MLCRX, E_MLCRX, TIMEID, DRIFT_LAMP, MASK, PROGID, PROGPI, AIRMASS, OBHAB, THAR_FP, DPR_TYPE, RHKp, dRHKp, sourceflag, vsinflag, metflag]\n",
       "Index: []\n",
       "\n",
       "[0 rows x 58 columns]"
      ]
     },
     "execution_count": 11,
     "metadata": {},
     "output_type": "execute_result"
    }
   ],
   "source": [
    "# name = 'RSP95-29'\n",
    "name = 'TOI-6715'\n",
    "df.query(\"target==@name\")"
   ]
  },
  {
   "cell_type": "code",
   "execution_count": 25,
   "id": "4611a1a5-0801-43e5-bf9a-c433c2ec650d",
   "metadata": {},
   "outputs": [
    {
     "data": {
      "text/plain": [
       "(0.0388, -87.25089)"
      ]
     },
     "execution_count": 25,
     "metadata": {},
     "output_type": "execute_result"
    }
   ],
   "source": [
    "df.ra.min(), df.dec.min()"
   ]
  },
  {
   "cell_type": "code",
   "execution_count": 24,
   "id": "bed1c128-c59d-4b7e-a478-4d209c27b1de",
   "metadata": {},
   "outputs": [],
   "source": [
    "import numpy as np\n",
    "\n",
    "df.loc[(df['ra'] < 0) | (df['ra'] >= 360), 'ra'] = np.nan\n",
    "df.loc[(df['dec'] < -90) | (df['dec'] > 90), 'dec'] = np.nan"
   ]
  },
  {
   "cell_type": "code",
   "execution_count": 26,
   "id": "d6a592c2-460b-4530-8108-850cf70aa4e9",
   "metadata": {},
   "outputs": [],
   "source": [
    "from astropy.coordinates import SkyCoord\n",
    "\n",
    "coords = SkyCoord(df.ra, df.dec, unit='deg')"
   ]
  },
  {
   "cell_type": "code",
   "execution_count": 28,
   "id": "93c1607f-19f4-41ed-9651-3c08eee3e976",
   "metadata": {},
   "outputs": [
    {
     "data": {
      "text/plain": [
       "{'ra': '159.15796838828399',\n",
       " 'dec': '-64.798230771542606',\n",
       " 'galactic_long': '289.1993',\n",
       " 'galactic_lat': '-5.584055',\n",
       " 'ecliptic_long': '209.0367',\n",
       " 'ecliptic_lat': '-62.9252',\n",
       " 'pm_ra': '-17.5847',\n",
       " 'pm_ra_error': '.03958',\n",
       " 'pm_dec': '10.2991',\n",
       " 'pm_dec_error': '.0355815'}"
      ]
     },
     "execution_count": 28,
     "metadata": {},
     "output_type": "execute_result"
    }
   ],
   "source": [
    "from urllib.request import urlopen\n",
    "import json\n",
    "\n",
    "target = \"TOI-6715\"\n",
    "url = f\"https://exofop.ipac.caltech.edu/tess/target.php?id={target}&json\"\n",
    "response = urlopen(url)\n",
    "data_json = json.loads(response.read())\n",
    "data_json['coordinates']"
   ]
  },
  {
   "cell_type": "code",
   "execution_count": 29,
   "id": "733aa06c-ccd0-49a0-8eff-cf5703e0b694",
   "metadata": {},
   "outputs": [
    {
     "data": {
      "text/plain": [
       "(159.157968388284, -64.7982307715426)"
      ]
     },
     "execution_count": 29,
     "metadata": {},
     "output_type": "execute_result"
    }
   ],
   "source": [
    "ra  = float(data_json['coordinates']['ra'])      # target coord in deg\n",
    "dec = float(data_json['coordinates']['dec'])       # target coord in deg\n",
    "ra, dec"
   ]
  },
  {
   "cell_type": "code",
   "execution_count": 39,
   "id": "51cb3e86-510a-4c77-b71f-25a180794e38",
   "metadata": {},
   "outputs": [
    {
     "data": {
      "text/latex": [
       "$0^\\circ44{}^\\prime51.56701102{}^{\\prime\\prime}$"
      ],
      "text/plain": [
       "<Angle 0.7476575 deg>"
      ]
     },
     "execution_count": 39,
     "metadata": {},
     "output_type": "execute_result"
    }
   ],
   "source": [
    "tcoord = SkyCoord(ra, dec, unit='deg')\n",
    "idx = np.nanargmin(coords.separation(tcoord))\n",
    "d = df.iloc[idx]\n",
    "tcoord.separation(SkyCoord(d.ra, d.dec, unit='deg'))"
   ]
  },
  {
   "cell_type": "markdown",
   "id": "1c48731d",
   "metadata": {},
   "source": [
    "# Perdelwitz+2024 catalog"
   ]
  },
  {
   "cell_type": "code",
   "execution_count": 3,
   "id": "db1155d5-5aa7-41ef-9073-53127d9acd42",
   "metadata": {
    "ExecuteTime": {
     "end_time": "2023-08-02T09:21:36.655770Z",
     "start_time": "2023-08-02T09:20:20.657443Z"
    }
   },
   "outputs": [
    {
     "name": "stdout",
     "output_type": "stream",
     "text": [
      "Data url: https://vizier.u-strasbg.fr/viz-bin/VizieR?-source=J/A+A/683/A125\n",
      "Downloading all tables in J/A+A/683/A125 from vizier.\n"
     ]
    },
    {
     "name": "stderr",
     "output_type": "stream",
     "text": [
      "/ut3/jerome/miniconda3/envs/wakai/lib/python3.12/site-packages/astroquery/vizier/core.py:769: UserWarning: VOTABLE parsing raised exception: 54311:37: unclosed token\n",
      "  warnings.warn(\"VOTABLE parsing raised exception: {0}\".format(ex))\n"
     ]
    },
    {
     "ename": "TableParseError",
     "evalue": "Failed to parse VIZIER result! The raw response can be found in self.response, and the error in self.table_parse_error. The attempted parsed result is in self.parsed_result.\n Exception: 54311:37: unclosed token",
     "output_type": "error",
     "traceback": [
      "\u001b[0;31m---------------------------------------------------------------------------\u001b[0m",
      "\u001b[0;31mValueError\u001b[0m                                Traceback (most recent call last)",
      "File \u001b[0;32m~/miniconda3/envs/wakai/lib/python3.12/site-packages/astroquery/vizier/core.py:767\u001b[0m, in \u001b[0;36mparse_vizier_votable\u001b[0;34m(data, verbose, invalid, get_catalog_names)\u001b[0m\n\u001b[1;32m    766\u001b[0m \u001b[38;5;28;01mtry\u001b[39;00m:\n\u001b[0;32m--> 767\u001b[0m     vo_tree \u001b[38;5;241m=\u001b[39m \u001b[43mvotable\u001b[49m\u001b[38;5;241;43m.\u001b[39;49m\u001b[43mparse\u001b[49m\u001b[43m(\u001b[49m\u001b[43mtf\u001b[49m\u001b[43m,\u001b[49m\u001b[43m \u001b[49m\u001b[43mverify\u001b[49m\u001b[38;5;241;43m=\u001b[39;49m\u001b[38;5;124;43m'\u001b[39;49m\u001b[38;5;124;43mwarn\u001b[39;49m\u001b[38;5;124;43m'\u001b[39;49m\u001b[43m,\u001b[49m\u001b[43m \u001b[49m\u001b[43minvalid\u001b[49m\u001b[38;5;241;43m=\u001b[39;49m\u001b[38;5;124;43m'\u001b[39;49m\u001b[38;5;124;43mexception\u001b[39;49m\u001b[38;5;124;43m'\u001b[39;49m\u001b[43m)\u001b[49m\n\u001b[1;32m    768\u001b[0m \u001b[38;5;28;01mexcept\u001b[39;00m \u001b[38;5;167;01mException\u001b[39;00m \u001b[38;5;28;01mas\u001b[39;00m ex:\n",
      "File \u001b[0;32m~/miniconda3/envs/wakai/lib/python3.12/site-packages/astropy/io/votable/table.py:164\u001b[0m, in \u001b[0;36mparse\u001b[0;34m(source, columns, invalid, verify, chunk_size, table_number, table_id, filename, unit_format, datatype_mapping, _debug_python_based_parser)\u001b[0m\n\u001b[1;32m    161\u001b[0m \u001b[38;5;28;01mwith\u001b[39;00m iterparser\u001b[38;5;241m.\u001b[39mget_xml_iterator(\n\u001b[1;32m    162\u001b[0m     source, _debug_python_based_parser\u001b[38;5;241m=\u001b[39m_debug_python_based_parser\n\u001b[1;32m    163\u001b[0m ) \u001b[38;5;28;01mas\u001b[39;00m iterator:\n\u001b[0;32m--> 164\u001b[0m     \u001b[38;5;28;01mreturn\u001b[39;00m \u001b[43mtree\u001b[49m\u001b[38;5;241;43m.\u001b[39;49m\u001b[43mVOTableFile\u001b[49m\u001b[43m(\u001b[49m\u001b[43mconfig\u001b[49m\u001b[38;5;241;43m=\u001b[39;49m\u001b[43mconfig\u001b[49m\u001b[43m,\u001b[49m\u001b[43m \u001b[49m\u001b[43mpos\u001b[49m\u001b[38;5;241;43m=\u001b[39;49m\u001b[43m(\u001b[49m\u001b[38;5;241;43m1\u001b[39;49m\u001b[43m,\u001b[49m\u001b[43m \u001b[49m\u001b[38;5;241;43m1\u001b[39;49m\u001b[43m)\u001b[49m\u001b[43m)\u001b[49m\u001b[38;5;241;43m.\u001b[39;49m\u001b[43mparse\u001b[49m\u001b[43m(\u001b[49m\u001b[43miterator\u001b[49m\u001b[43m,\u001b[49m\u001b[43m \u001b[49m\u001b[43mconfig\u001b[49m\u001b[43m)\u001b[49m\n",
      "File \u001b[0;32m~/miniconda3/envs/wakai/lib/python3.12/site-packages/astropy/io/votable/tree.py:4190\u001b[0m, in \u001b[0;36mVOTableFile.parse\u001b[0;34m(self, iterator, config)\u001b[0m\n\u001b[1;32m   4189\u001b[0m \u001b[38;5;28;01mif\u001b[39;00m start:\n\u001b[0;32m-> 4190\u001b[0m     \u001b[43mtag_mapping\u001b[49m\u001b[38;5;241;43m.\u001b[39;49m\u001b[43mget\u001b[49m\u001b[43m(\u001b[49m\u001b[43mtag\u001b[49m\u001b[43m,\u001b[49m\u001b[43m \u001b[49m\u001b[38;5;28;43mself\u001b[39;49m\u001b[38;5;241;43m.\u001b[39;49m\u001b[43m_add_unknown_tag\u001b[49m\u001b[43m)\u001b[49m\u001b[43m(\u001b[49m\n\u001b[1;32m   4191\u001b[0m \u001b[43m        \u001b[49m\u001b[43miterator\u001b[49m\u001b[43m,\u001b[49m\u001b[43m \u001b[49m\u001b[43mtag\u001b[49m\u001b[43m,\u001b[49m\u001b[43m \u001b[49m\u001b[43mdata\u001b[49m\u001b[43m,\u001b[49m\u001b[43m \u001b[49m\u001b[43mconfig\u001b[49m\u001b[43m,\u001b[49m\u001b[43m \u001b[49m\u001b[43mpos\u001b[49m\n\u001b[1;32m   4192\u001b[0m \u001b[43m    \u001b[49m\u001b[43m)\u001b[49m\n\u001b[1;32m   4193\u001b[0m \u001b[38;5;28;01melif\u001b[39;00m tag \u001b[38;5;241m==\u001b[39m \u001b[38;5;124m\"\u001b[39m\u001b[38;5;124mDESCRIPTION\u001b[39m\u001b[38;5;124m\"\u001b[39m:\n",
      "File \u001b[0;32m~/miniconda3/envs/wakai/lib/python3.12/site-packages/astropy/io/votable/tree.py:4070\u001b[0m, in \u001b[0;36mVOTableFile._add_resource\u001b[0;34m(self, iterator, tag, data, config, pos)\u001b[0m\n\u001b[1;32m   4069\u001b[0m \u001b[38;5;28mself\u001b[39m\u001b[38;5;241m.\u001b[39mresources\u001b[38;5;241m.\u001b[39mappend(resource)\n\u001b[0;32m-> 4070\u001b[0m \u001b[43mresource\u001b[49m\u001b[38;5;241;43m.\u001b[39;49m\u001b[43mparse\u001b[49m\u001b[43m(\u001b[49m\u001b[38;5;28;43mself\u001b[39;49m\u001b[43m,\u001b[49m\u001b[43m \u001b[49m\u001b[43miterator\u001b[49m\u001b[43m,\u001b[49m\u001b[43m \u001b[49m\u001b[43mconfig\u001b[49m\u001b[43m)\u001b[49m\n",
      "File \u001b[0;32m~/miniconda3/envs/wakai/lib/python3.12/site-packages/astropy/io/votable/tree.py:3862\u001b[0m, in \u001b[0;36mResource.parse\u001b[0;34m(self, votable, iterator, config)\u001b[0m\n\u001b[1;32m   3861\u001b[0m \u001b[38;5;28;01melif\u001b[39;00m start:\n\u001b[0;32m-> 3862\u001b[0m     \u001b[43mtag_mapping\u001b[49m\u001b[38;5;241;43m.\u001b[39;49m\u001b[43mget\u001b[49m\u001b[43m(\u001b[49m\u001b[43mtag\u001b[49m\u001b[43m,\u001b[49m\u001b[43m \u001b[49m\u001b[38;5;28;43mself\u001b[39;49m\u001b[38;5;241;43m.\u001b[39;49m\u001b[43m_add_unknown_tag\u001b[49m\u001b[43m)\u001b[49m\u001b[43m(\u001b[49m\n\u001b[1;32m   3863\u001b[0m \u001b[43m        \u001b[49m\u001b[43miterator\u001b[49m\u001b[43m,\u001b[49m\u001b[43m \u001b[49m\u001b[43mtag\u001b[49m\u001b[43m,\u001b[49m\u001b[43m \u001b[49m\u001b[43mdata\u001b[49m\u001b[43m,\u001b[49m\u001b[43m \u001b[49m\u001b[43mconfig\u001b[49m\u001b[43m,\u001b[49m\u001b[43m \u001b[49m\u001b[43mpos\u001b[49m\n\u001b[1;32m   3864\u001b[0m \u001b[43m    \u001b[49m\u001b[43m)\u001b[49m\n\u001b[1;32m   3865\u001b[0m \u001b[38;5;28;01melif\u001b[39;00m tag \u001b[38;5;241m==\u001b[39m \u001b[38;5;124m\"\u001b[39m\u001b[38;5;124mDESCRIPTION\u001b[39m\u001b[38;5;124m\"\u001b[39m:\n",
      "File \u001b[0;32m~/miniconda3/envs/wakai/lib/python3.12/site-packages/astropy/io/votable/tree.py:3804\u001b[0m, in \u001b[0;36mResource._add_table\u001b[0;34m(self, iterator, tag, data, config, pos)\u001b[0m\n\u001b[1;32m   3803\u001b[0m \u001b[38;5;28mself\u001b[39m\u001b[38;5;241m.\u001b[39mtables\u001b[38;5;241m.\u001b[39mappend(table)\n\u001b[0;32m-> 3804\u001b[0m \u001b[43mtable\u001b[49m\u001b[38;5;241;43m.\u001b[39;49m\u001b[43mparse\u001b[49m\u001b[43m(\u001b[49m\u001b[43miterator\u001b[49m\u001b[43m,\u001b[49m\u001b[43m \u001b[49m\u001b[43mconfig\u001b[49m\u001b[43m)\u001b[49m\n",
      "File \u001b[0;32m~/miniconda3/envs/wakai/lib/python3.12/site-packages/astropy/io/votable/tree.py:2759\u001b[0m, in \u001b[0;36mTableElement.parse\u001b[0;34m(self, iterator, config)\u001b[0m\n\u001b[1;32m   2758\u001b[0m     warn_unknown_attrs(\u001b[38;5;124m\"\u001b[39m\u001b[38;5;124mTABLEDATA\u001b[39m\u001b[38;5;124m\"\u001b[39m, data\u001b[38;5;241m.\u001b[39mkeys(), config, pos)\n\u001b[0;32m-> 2759\u001b[0m     \u001b[38;5;28mself\u001b[39m\u001b[38;5;241m.\u001b[39marray \u001b[38;5;241m=\u001b[39m \u001b[38;5;28;43mself\u001b[39;49m\u001b[38;5;241;43m.\u001b[39;49m\u001b[43m_parse_tabledata\u001b[49m\u001b[43m(\u001b[49m\n\u001b[1;32m   2760\u001b[0m \u001b[43m        \u001b[49m\u001b[43miterator\u001b[49m\u001b[43m,\u001b[49m\u001b[43m \u001b[49m\u001b[43mcolnumbers\u001b[49m\u001b[43m,\u001b[49m\u001b[43m \u001b[49m\u001b[43mfields\u001b[49m\u001b[43m,\u001b[49m\u001b[43m \u001b[49m\u001b[43mconfig\u001b[49m\n\u001b[1;32m   2761\u001b[0m \u001b[43m    \u001b[49m\u001b[43m)\u001b[49m\n\u001b[1;32m   2762\u001b[0m \u001b[38;5;28;01melif\u001b[39;00m tag \u001b[38;5;241m==\u001b[39m \u001b[38;5;124m\"\u001b[39m\u001b[38;5;124mBINARY\u001b[39m\u001b[38;5;124m\"\u001b[39m:\n",
      "File \u001b[0;32m~/miniconda3/envs/wakai/lib/python3.12/site-packages/astropy/io/votable/tree.py:2840\u001b[0m, in \u001b[0;36mTableElement._parse_tabledata\u001b[0;34m(self, iterator, colnumbers, fields, config)\u001b[0m\n\u001b[1;32m   2839\u001b[0m i \u001b[38;5;241m=\u001b[39m \u001b[38;5;241m0\u001b[39m\n\u001b[0;32m-> 2840\u001b[0m \u001b[43m\u001b[49m\u001b[38;5;28;43;01mfor\u001b[39;49;00m\u001b[43m \u001b[49m\u001b[43mstart\u001b[49m\u001b[43m,\u001b[49m\u001b[43m \u001b[49m\u001b[43mtag\u001b[49m\u001b[43m,\u001b[49m\u001b[43m \u001b[49m\u001b[43mdata\u001b[49m\u001b[43m,\u001b[49m\u001b[43m \u001b[49m\u001b[43mpos\u001b[49m\u001b[43m \u001b[49m\u001b[38;5;129;43;01min\u001b[39;49;00m\u001b[43m \u001b[49m\u001b[43miterator\u001b[49m\u001b[43m:\u001b[49m\n\u001b[1;32m   2841\u001b[0m \u001b[43m    \u001b[49m\u001b[38;5;28;43;01mif\u001b[39;49;00m\u001b[43m \u001b[49m\u001b[43mstart\u001b[49m\u001b[43m:\u001b[49m\n",
      "\u001b[0;31mValueError\u001b[0m: 54311:37: unclosed token",
      "\nDuring handling of the above exception, another exception occurred:\n",
      "\u001b[0;31mValueError\u001b[0m                                Traceback (most recent call last)",
      "File \u001b[0;32m~/miniconda3/envs/wakai/lib/python3.12/site-packages/astroquery/vizier/core.py:699\u001b[0m, in \u001b[0;36mVizierClass._parse_result\u001b[0;34m(self, response, get_catalog_names, verbose, invalid)\u001b[0m\n\u001b[1;32m    698\u001b[0m \u001b[38;5;28;01mtry\u001b[39;00m:\n\u001b[0;32m--> 699\u001b[0m     \u001b[38;5;28;01mreturn\u001b[39;00m \u001b[43mparse_vizier_votable\u001b[49m\u001b[43m(\u001b[49m\n\u001b[1;32m    700\u001b[0m \u001b[43m        \u001b[49m\u001b[43mresponse\u001b[49m\u001b[38;5;241;43m.\u001b[39;49m\u001b[43mcontent\u001b[49m\u001b[43m,\u001b[49m\u001b[43m \u001b[49m\u001b[43mverbose\u001b[49m\u001b[38;5;241;43m=\u001b[39;49m\u001b[43mverbose\u001b[49m\u001b[43m,\u001b[49m\u001b[43m \u001b[49m\u001b[43minvalid\u001b[49m\u001b[38;5;241;43m=\u001b[39;49m\u001b[43minvalid\u001b[49m\u001b[43m,\u001b[49m\n\u001b[1;32m    701\u001b[0m \u001b[43m        \u001b[49m\u001b[43mget_catalog_names\u001b[49m\u001b[38;5;241;43m=\u001b[39;49m\u001b[43mget_catalog_names\u001b[49m\u001b[43m)\u001b[49m\n\u001b[1;32m    702\u001b[0m \u001b[38;5;28;01mexcept\u001b[39;00m \u001b[38;5;167;01mException\u001b[39;00m \u001b[38;5;28;01mas\u001b[39;00m ex:\n",
      "File \u001b[0;32m~/miniconda3/envs/wakai/lib/python3.12/site-packages/astroquery/vizier/core.py:770\u001b[0m, in \u001b[0;36mparse_vizier_votable\u001b[0;34m(data, verbose, invalid, get_catalog_names)\u001b[0m\n\u001b[1;32m    769\u001b[0m         warnings\u001b[38;5;241m.\u001b[39mwarn(\u001b[38;5;124m\"\u001b[39m\u001b[38;5;124mVOTABLE parsing raised exception: \u001b[39m\u001b[38;5;132;01m{0}\u001b[39;00m\u001b[38;5;124m\"\u001b[39m\u001b[38;5;241m.\u001b[39mformat(ex))\n\u001b[0;32m--> 770\u001b[0m         vo_tree \u001b[38;5;241m=\u001b[39m \u001b[43mvotable\u001b[49m\u001b[38;5;241;43m.\u001b[39;49m\u001b[43mparse\u001b[49m\u001b[43m(\u001b[49m\u001b[43mtf\u001b[49m\u001b[43m,\u001b[49m\u001b[43m \u001b[49m\u001b[43mverify\u001b[49m\u001b[38;5;241;43m=\u001b[39;49m\u001b[38;5;124;43m'\u001b[39;49m\u001b[38;5;124;43mwarn\u001b[39;49m\u001b[38;5;124;43m'\u001b[39;49m\u001b[43m,\u001b[49m\u001b[43m \u001b[49m\u001b[43minvalid\u001b[49m\u001b[38;5;241;43m=\u001b[39;49m\u001b[38;5;124;43m'\u001b[39;49m\u001b[38;5;124;43mmask\u001b[39;49m\u001b[38;5;124;43m'\u001b[39;49m\u001b[43m)\u001b[49m\n\u001b[1;32m    771\u001b[0m \u001b[38;5;28;01melif\u001b[39;00m invalid \u001b[38;5;241m==\u001b[39m \u001b[38;5;124m'\u001b[39m\u001b[38;5;124mexception\u001b[39m\u001b[38;5;124m'\u001b[39m:\n",
      "File \u001b[0;32m~/miniconda3/envs/wakai/lib/python3.12/site-packages/astropy/io/votable/table.py:164\u001b[0m, in \u001b[0;36mparse\u001b[0;34m(source, columns, invalid, verify, chunk_size, table_number, table_id, filename, unit_format, datatype_mapping, _debug_python_based_parser)\u001b[0m\n\u001b[1;32m    161\u001b[0m \u001b[38;5;28;01mwith\u001b[39;00m iterparser\u001b[38;5;241m.\u001b[39mget_xml_iterator(\n\u001b[1;32m    162\u001b[0m     source, _debug_python_based_parser\u001b[38;5;241m=\u001b[39m_debug_python_based_parser\n\u001b[1;32m    163\u001b[0m ) \u001b[38;5;28;01mas\u001b[39;00m iterator:\n\u001b[0;32m--> 164\u001b[0m     \u001b[38;5;28;01mreturn\u001b[39;00m \u001b[43mtree\u001b[49m\u001b[38;5;241;43m.\u001b[39;49m\u001b[43mVOTableFile\u001b[49m\u001b[43m(\u001b[49m\u001b[43mconfig\u001b[49m\u001b[38;5;241;43m=\u001b[39;49m\u001b[43mconfig\u001b[49m\u001b[43m,\u001b[49m\u001b[43m \u001b[49m\u001b[43mpos\u001b[49m\u001b[38;5;241;43m=\u001b[39;49m\u001b[43m(\u001b[49m\u001b[38;5;241;43m1\u001b[39;49m\u001b[43m,\u001b[49m\u001b[43m \u001b[49m\u001b[38;5;241;43m1\u001b[39;49m\u001b[43m)\u001b[49m\u001b[43m)\u001b[49m\u001b[38;5;241;43m.\u001b[39;49m\u001b[43mparse\u001b[49m\u001b[43m(\u001b[49m\u001b[43miterator\u001b[49m\u001b[43m,\u001b[49m\u001b[43m \u001b[49m\u001b[43mconfig\u001b[49m\u001b[43m)\u001b[49m\n",
      "File \u001b[0;32m~/miniconda3/envs/wakai/lib/python3.12/site-packages/astropy/io/votable/tree.py:4190\u001b[0m, in \u001b[0;36mVOTableFile.parse\u001b[0;34m(self, iterator, config)\u001b[0m\n\u001b[1;32m   4189\u001b[0m \u001b[38;5;28;01mif\u001b[39;00m start:\n\u001b[0;32m-> 4190\u001b[0m     \u001b[43mtag_mapping\u001b[49m\u001b[38;5;241;43m.\u001b[39;49m\u001b[43mget\u001b[49m\u001b[43m(\u001b[49m\u001b[43mtag\u001b[49m\u001b[43m,\u001b[49m\u001b[43m \u001b[49m\u001b[38;5;28;43mself\u001b[39;49m\u001b[38;5;241;43m.\u001b[39;49m\u001b[43m_add_unknown_tag\u001b[49m\u001b[43m)\u001b[49m\u001b[43m(\u001b[49m\n\u001b[1;32m   4191\u001b[0m \u001b[43m        \u001b[49m\u001b[43miterator\u001b[49m\u001b[43m,\u001b[49m\u001b[43m \u001b[49m\u001b[43mtag\u001b[49m\u001b[43m,\u001b[49m\u001b[43m \u001b[49m\u001b[43mdata\u001b[49m\u001b[43m,\u001b[49m\u001b[43m \u001b[49m\u001b[43mconfig\u001b[49m\u001b[43m,\u001b[49m\u001b[43m \u001b[49m\u001b[43mpos\u001b[49m\n\u001b[1;32m   4192\u001b[0m \u001b[43m    \u001b[49m\u001b[43m)\u001b[49m\n\u001b[1;32m   4193\u001b[0m \u001b[38;5;28;01melif\u001b[39;00m tag \u001b[38;5;241m==\u001b[39m \u001b[38;5;124m\"\u001b[39m\u001b[38;5;124mDESCRIPTION\u001b[39m\u001b[38;5;124m\"\u001b[39m:\n",
      "File \u001b[0;32m~/miniconda3/envs/wakai/lib/python3.12/site-packages/astropy/io/votable/tree.py:4070\u001b[0m, in \u001b[0;36mVOTableFile._add_resource\u001b[0;34m(self, iterator, tag, data, config, pos)\u001b[0m\n\u001b[1;32m   4069\u001b[0m \u001b[38;5;28mself\u001b[39m\u001b[38;5;241m.\u001b[39mresources\u001b[38;5;241m.\u001b[39mappend(resource)\n\u001b[0;32m-> 4070\u001b[0m \u001b[43mresource\u001b[49m\u001b[38;5;241;43m.\u001b[39;49m\u001b[43mparse\u001b[49m\u001b[43m(\u001b[49m\u001b[38;5;28;43mself\u001b[39;49m\u001b[43m,\u001b[49m\u001b[43m \u001b[49m\u001b[43miterator\u001b[49m\u001b[43m,\u001b[49m\u001b[43m \u001b[49m\u001b[43mconfig\u001b[49m\u001b[43m)\u001b[49m\n",
      "File \u001b[0;32m~/miniconda3/envs/wakai/lib/python3.12/site-packages/astropy/io/votable/tree.py:3862\u001b[0m, in \u001b[0;36mResource.parse\u001b[0;34m(self, votable, iterator, config)\u001b[0m\n\u001b[1;32m   3861\u001b[0m \u001b[38;5;28;01melif\u001b[39;00m start:\n\u001b[0;32m-> 3862\u001b[0m     \u001b[43mtag_mapping\u001b[49m\u001b[38;5;241;43m.\u001b[39;49m\u001b[43mget\u001b[49m\u001b[43m(\u001b[49m\u001b[43mtag\u001b[49m\u001b[43m,\u001b[49m\u001b[43m \u001b[49m\u001b[38;5;28;43mself\u001b[39;49m\u001b[38;5;241;43m.\u001b[39;49m\u001b[43m_add_unknown_tag\u001b[49m\u001b[43m)\u001b[49m\u001b[43m(\u001b[49m\n\u001b[1;32m   3863\u001b[0m \u001b[43m        \u001b[49m\u001b[43miterator\u001b[49m\u001b[43m,\u001b[49m\u001b[43m \u001b[49m\u001b[43mtag\u001b[49m\u001b[43m,\u001b[49m\u001b[43m \u001b[49m\u001b[43mdata\u001b[49m\u001b[43m,\u001b[49m\u001b[43m \u001b[49m\u001b[43mconfig\u001b[49m\u001b[43m,\u001b[49m\u001b[43m \u001b[49m\u001b[43mpos\u001b[49m\n\u001b[1;32m   3864\u001b[0m \u001b[43m    \u001b[49m\u001b[43m)\u001b[49m\n\u001b[1;32m   3865\u001b[0m \u001b[38;5;28;01melif\u001b[39;00m tag \u001b[38;5;241m==\u001b[39m \u001b[38;5;124m\"\u001b[39m\u001b[38;5;124mDESCRIPTION\u001b[39m\u001b[38;5;124m\"\u001b[39m:\n",
      "File \u001b[0;32m~/miniconda3/envs/wakai/lib/python3.12/site-packages/astropy/io/votable/tree.py:3804\u001b[0m, in \u001b[0;36mResource._add_table\u001b[0;34m(self, iterator, tag, data, config, pos)\u001b[0m\n\u001b[1;32m   3803\u001b[0m \u001b[38;5;28mself\u001b[39m\u001b[38;5;241m.\u001b[39mtables\u001b[38;5;241m.\u001b[39mappend(table)\n\u001b[0;32m-> 3804\u001b[0m \u001b[43mtable\u001b[49m\u001b[38;5;241;43m.\u001b[39;49m\u001b[43mparse\u001b[49m\u001b[43m(\u001b[49m\u001b[43miterator\u001b[49m\u001b[43m,\u001b[49m\u001b[43m \u001b[49m\u001b[43mconfig\u001b[49m\u001b[43m)\u001b[49m\n",
      "File \u001b[0;32m~/miniconda3/envs/wakai/lib/python3.12/site-packages/astropy/io/votable/tree.py:2759\u001b[0m, in \u001b[0;36mTableElement.parse\u001b[0;34m(self, iterator, config)\u001b[0m\n\u001b[1;32m   2758\u001b[0m     warn_unknown_attrs(\u001b[38;5;124m\"\u001b[39m\u001b[38;5;124mTABLEDATA\u001b[39m\u001b[38;5;124m\"\u001b[39m, data\u001b[38;5;241m.\u001b[39mkeys(), config, pos)\n\u001b[0;32m-> 2759\u001b[0m     \u001b[38;5;28mself\u001b[39m\u001b[38;5;241m.\u001b[39marray \u001b[38;5;241m=\u001b[39m \u001b[38;5;28;43mself\u001b[39;49m\u001b[38;5;241;43m.\u001b[39;49m\u001b[43m_parse_tabledata\u001b[49m\u001b[43m(\u001b[49m\n\u001b[1;32m   2760\u001b[0m \u001b[43m        \u001b[49m\u001b[43miterator\u001b[49m\u001b[43m,\u001b[49m\u001b[43m \u001b[49m\u001b[43mcolnumbers\u001b[49m\u001b[43m,\u001b[49m\u001b[43m \u001b[49m\u001b[43mfields\u001b[49m\u001b[43m,\u001b[49m\u001b[43m \u001b[49m\u001b[43mconfig\u001b[49m\n\u001b[1;32m   2761\u001b[0m \u001b[43m    \u001b[49m\u001b[43m)\u001b[49m\n\u001b[1;32m   2762\u001b[0m \u001b[38;5;28;01melif\u001b[39;00m tag \u001b[38;5;241m==\u001b[39m \u001b[38;5;124m\"\u001b[39m\u001b[38;5;124mBINARY\u001b[39m\u001b[38;5;124m\"\u001b[39m:\n",
      "File \u001b[0;32m~/miniconda3/envs/wakai/lib/python3.12/site-packages/astropy/io/votable/tree.py:2840\u001b[0m, in \u001b[0;36mTableElement._parse_tabledata\u001b[0;34m(self, iterator, colnumbers, fields, config)\u001b[0m\n\u001b[1;32m   2839\u001b[0m i \u001b[38;5;241m=\u001b[39m \u001b[38;5;241m0\u001b[39m\n\u001b[0;32m-> 2840\u001b[0m \u001b[43m\u001b[49m\u001b[38;5;28;43;01mfor\u001b[39;49;00m\u001b[43m \u001b[49m\u001b[43mstart\u001b[49m\u001b[43m,\u001b[49m\u001b[43m \u001b[49m\u001b[43mtag\u001b[49m\u001b[43m,\u001b[49m\u001b[43m \u001b[49m\u001b[43mdata\u001b[49m\u001b[43m,\u001b[49m\u001b[43m \u001b[49m\u001b[43mpos\u001b[49m\u001b[43m \u001b[49m\u001b[38;5;129;43;01min\u001b[39;49;00m\u001b[43m \u001b[49m\u001b[43miterator\u001b[49m\u001b[43m:\u001b[49m\n\u001b[1;32m   2841\u001b[0m \u001b[43m    \u001b[49m\u001b[38;5;28;43;01mif\u001b[39;49;00m\u001b[43m \u001b[49m\u001b[43mstart\u001b[49m\u001b[43m:\u001b[49m\n",
      "\u001b[0;31mValueError\u001b[0m: 54311:37: unclosed token",
      "\nDuring handling of the above exception, another exception occurred:\n",
      "\u001b[0;31mTableParseError\u001b[0m                           Traceback (most recent call last)",
      "Cell \u001b[0;32mIn[3], line 4\u001b[0m\n\u001b[1;32m      1\u001b[0m \u001b[38;5;28;01mfrom\u001b[39;00m \u001b[38;5;21;01mcatalog\u001b[39;00m \u001b[38;5;28;01mimport\u001b[39;00m CatalogDownloader\n\u001b[1;32m      3\u001b[0m cd \u001b[38;5;241m=\u001b[39m CatalogDownloader(catalog_name\u001b[38;5;241m=\u001b[39m\u001b[38;5;124m\"\u001b[39m\u001b[38;5;124mPerdelwitz2024\u001b[39m\u001b[38;5;124m\"\u001b[39m, catalog_type\u001b[38;5;241m=\u001b[39m\u001b[38;5;124m\"\u001b[39m\u001b[38;5;124mrv\u001b[39m\u001b[38;5;124m\"\u001b[39m)\n\u001b[0;32m----> 4\u001b[0m tabs \u001b[38;5;241m=\u001b[39m \u001b[43mcd\u001b[49m\u001b[38;5;241;43m.\u001b[39;49m\u001b[43mget_tables_from_vizier\u001b[49m\u001b[43m(\u001b[49m\u001b[43mrow_limit\u001b[49m\u001b[38;5;241;43m=\u001b[39;49m\u001b[38;5;241;43m-\u001b[39;49m\u001b[38;5;241;43m1\u001b[39;49m\u001b[43m,\u001b[49m\u001b[43m \u001b[49m\u001b[43msave\u001b[49m\u001b[38;5;241;43m=\u001b[39;49m\u001b[38;5;28;43;01mFalse\u001b[39;49;00m\u001b[43m)\u001b[49m\n\u001b[1;32m      5\u001b[0m df \u001b[38;5;241m=\u001b[39m tabs[\u001b[38;5;241m0\u001b[39m]\u001b[38;5;241m.\u001b[39mto_pandas() \u001b[38;5;66;03m#stellar parameters\u001b[39;00m\n\u001b[1;32m      6\u001b[0m rv \u001b[38;5;241m=\u001b[39m tabs[\u001b[38;5;241m1\u001b[39m]\u001b[38;5;241m.\u001b[39mto_pandas() \u001b[38;5;66;03m#rv data\u001b[39;00m\n",
      "File \u001b[0;32m/mnt_ut3/raid_ut3/home/jerome/github/research/project/wakai/notebooks/../code/catalog.py:461\u001b[0m, in \u001b[0;36mCatalogDownloader.get_tables_from_vizier\u001b[0;34m(self, row_limit, save, clobber)\u001b[0m\n\u001b[1;32m    459\u001b[0m     \u001b[38;5;28;01mraise\u001b[39;00m \u001b[38;5;167;01mValueError\u001b[39;00m(\u001b[38;5;124m\"\u001b[39m\u001b[38;5;124mRead the csv data locally.\u001b[39m\u001b[38;5;124m\"\u001b[39m)\n\u001b[1;32m    460\u001b[0m \u001b[38;5;28;01melse\u001b[39;00m:\n\u001b[0;32m--> 461\u001b[0m     tables \u001b[38;5;241m=\u001b[39m \u001b[43mVizier\u001b[49m\u001b[38;5;241;43m.\u001b[39;49m\u001b[43mget_catalogs\u001b[49m\u001b[43m(\u001b[49m\u001b[38;5;28;43mself\u001b[39;49m\u001b[38;5;241;43m.\u001b[39;49m\u001b[43mcatalog_dict\u001b[49m\u001b[43m[\u001b[49m\u001b[38;5;28;43mself\u001b[39;49m\u001b[38;5;241;43m.\u001b[39;49m\u001b[43mcatalog_name\u001b[49m\u001b[43m]\u001b[49m\u001b[43m)\u001b[49m\n\u001b[1;32m    462\u001b[0m     errmsg \u001b[38;5;241m=\u001b[39m \u001b[38;5;124m\"\u001b[39m\u001b[38;5;124mNo data returned from Vizier.\u001b[39m\u001b[38;5;124m\"\u001b[39m\n\u001b[1;32m    463\u001b[0m     \u001b[38;5;28;01massert\u001b[39;00m tables \u001b[38;5;129;01mis\u001b[39;00m \u001b[38;5;129;01mnot\u001b[39;00m \u001b[38;5;28;01mNone\u001b[39;00m, errmsg\n",
      "File \u001b[0;32m~/miniconda3/envs/wakai/lib/python3.12/site-packages/astroquery/utils/class_or_instance.py:25\u001b[0m, in \u001b[0;36mclass_or_instance.__get__.<locals>.f\u001b[0;34m(*args, **kwds)\u001b[0m\n\u001b[1;32m     23\u001b[0m \u001b[38;5;28;01mdef\u001b[39;00m \u001b[38;5;21mf\u001b[39m(\u001b[38;5;241m*\u001b[39margs, \u001b[38;5;241m*\u001b[39m\u001b[38;5;241m*\u001b[39mkwds):\n\u001b[1;32m     24\u001b[0m     \u001b[38;5;28;01mif\u001b[39;00m obj \u001b[38;5;129;01mis\u001b[39;00m \u001b[38;5;129;01mnot\u001b[39;00m \u001b[38;5;28;01mNone\u001b[39;00m:\n\u001b[0;32m---> 25\u001b[0m         \u001b[38;5;28;01mreturn\u001b[39;00m \u001b[38;5;28;43mself\u001b[39;49m\u001b[38;5;241;43m.\u001b[39;49m\u001b[43mfn\u001b[49m\u001b[43m(\u001b[49m\u001b[43mobj\u001b[49m\u001b[43m,\u001b[49m\u001b[43m \u001b[49m\u001b[38;5;241;43m*\u001b[39;49m\u001b[43margs\u001b[49m\u001b[43m,\u001b[49m\u001b[43m \u001b[49m\u001b[38;5;241;43m*\u001b[39;49m\u001b[38;5;241;43m*\u001b[39;49m\u001b[43mkwds\u001b[49m\u001b[43m)\u001b[49m\n\u001b[1;32m     26\u001b[0m     \u001b[38;5;28;01melse\u001b[39;00m:\n\u001b[1;32m     27\u001b[0m         \u001b[38;5;28;01mreturn\u001b[39;00m \u001b[38;5;28mself\u001b[39m\u001b[38;5;241m.\u001b[39mfn(\u001b[38;5;28mcls\u001b[39m, \u001b[38;5;241m*\u001b[39margs, \u001b[38;5;241m*\u001b[39m\u001b[38;5;241m*\u001b[39mkwds)\n",
      "File \u001b[0;32m~/miniconda3/envs/wakai/lib/python3.12/site-packages/astroquery/utils/process_asyncs.py:29\u001b[0m, in \u001b[0;36masync_to_sync.<locals>.create_method.<locals>.newmethod\u001b[0;34m(self, *args, **kwargs)\u001b[0m\n\u001b[1;32m     27\u001b[0m \u001b[38;5;28;01mif\u001b[39;00m kwargs\u001b[38;5;241m.\u001b[39mget(\u001b[38;5;124m'\u001b[39m\u001b[38;5;124mget_query_payload\u001b[39m\u001b[38;5;124m'\u001b[39m) \u001b[38;5;129;01mor\u001b[39;00m kwargs\u001b[38;5;241m.\u001b[39mget(\u001b[38;5;124m'\u001b[39m\u001b[38;5;124mfield_help\u001b[39m\u001b[38;5;124m'\u001b[39m):\n\u001b[1;32m     28\u001b[0m     \u001b[38;5;28;01mreturn\u001b[39;00m response\n\u001b[0;32m---> 29\u001b[0m result \u001b[38;5;241m=\u001b[39m \u001b[38;5;28;43mself\u001b[39;49m\u001b[38;5;241;43m.\u001b[39;49m\u001b[43m_parse_result\u001b[49m\u001b[43m(\u001b[49m\u001b[43mresponse\u001b[49m\u001b[43m,\u001b[49m\u001b[43m \u001b[49m\u001b[43mverbose\u001b[49m\u001b[38;5;241;43m=\u001b[39;49m\u001b[43mverbose\u001b[49m\u001b[43m)\u001b[49m\n\u001b[1;32m     30\u001b[0m \u001b[38;5;28mself\u001b[39m\u001b[38;5;241m.\u001b[39mtable \u001b[38;5;241m=\u001b[39m result\n\u001b[1;32m     31\u001b[0m \u001b[38;5;28;01mreturn\u001b[39;00m result\n",
      "File \u001b[0;32m~/miniconda3/envs/wakai/lib/python3.12/site-packages/astroquery/vizier/core.py:705\u001b[0m, in \u001b[0;36mVizierClass._parse_result\u001b[0;34m(self, response, get_catalog_names, verbose, invalid)\u001b[0m\n\u001b[1;32m    703\u001b[0m         \u001b[38;5;28mself\u001b[39m\u001b[38;5;241m.\u001b[39mresponse \u001b[38;5;241m=\u001b[39m response\n\u001b[1;32m    704\u001b[0m         \u001b[38;5;28mself\u001b[39m\u001b[38;5;241m.\u001b[39mtable_parse_error \u001b[38;5;241m=\u001b[39m ex\n\u001b[0;32m--> 705\u001b[0m         \u001b[38;5;28;01mraise\u001b[39;00m TableParseError(\u001b[38;5;124m\"\u001b[39m\u001b[38;5;124mFailed to parse VIZIER result! The \u001b[39m\u001b[38;5;124m\"\u001b[39m\n\u001b[1;32m    706\u001b[0m                               \u001b[38;5;124m\"\u001b[39m\u001b[38;5;124mraw response can be found in \u001b[39m\u001b[38;5;124m\"\u001b[39m\n\u001b[1;32m    707\u001b[0m                               \u001b[38;5;124m\"\u001b[39m\u001b[38;5;124mself.response, and the error in \u001b[39m\u001b[38;5;124m\"\u001b[39m\n\u001b[1;32m    708\u001b[0m                               \u001b[38;5;124m\"\u001b[39m\u001b[38;5;124mself.table_parse_error. The attempted \u001b[39m\u001b[38;5;124m\"\u001b[39m\n\u001b[1;32m    709\u001b[0m                               \u001b[38;5;124m\"\u001b[39m\u001b[38;5;124mparsed result is in \u001b[39m\u001b[38;5;124m\"\u001b[39m\n\u001b[1;32m    710\u001b[0m                               \u001b[38;5;124m\"\u001b[39m\u001b[38;5;124mself.parsed_result.\u001b[39m\u001b[38;5;130;01m\\n\u001b[39;00m\u001b[38;5;124m Exception: \u001b[39m\u001b[38;5;124m\"\u001b[39m \u001b[38;5;241m+\u001b[39m\n\u001b[1;32m    711\u001b[0m                               \u001b[38;5;28mstr\u001b[39m(\u001b[38;5;28mself\u001b[39m\u001b[38;5;241m.\u001b[39mtable_parse_error))\n\u001b[1;32m    712\u001b[0m \u001b[38;5;28;01melif\u001b[39;00m response\u001b[38;5;241m.\u001b[39mcontent[:\u001b[38;5;241m5\u001b[39m] \u001b[38;5;241m==\u001b[39m \u001b[38;5;124mb\u001b[39m\u001b[38;5;124m'\u001b[39m\u001b[38;5;124m#\u001b[39m\u001b[38;5;130;01m\\n\u001b[39;00m\u001b[38;5;124m#  \u001b[39m\u001b[38;5;124m'\u001b[39m:\n\u001b[1;32m    713\u001b[0m     \u001b[38;5;28;01mreturn\u001b[39;00m parse_vizier_tsvfile(response\u001b[38;5;241m.\u001b[39mcontent, verbose\u001b[38;5;241m=\u001b[39mverbose)\n",
      "\u001b[0;31mTableParseError\u001b[0m: Failed to parse VIZIER result! The raw response can be found in self.response, and the error in self.table_parse_error. The attempted parsed result is in self.parsed_result.\n Exception: 54311:37: unclosed token"
     ]
    }
   ],
   "source": [
    "from catalog import CatalogDownloader\n",
    "\n",
    "cd = CatalogDownloader(catalog_name=\"Perdelwitz2024\", catalog_type=\"rv\")\n",
    "tabs = cd.get_tables_from_vizier(row_limit=50_000, save=False)\n",
    "df = tabs[0].to_pandas() #stellar parameters\n",
    "rv = tabs[1].to_pandas() #rv data"
   ]
  },
  {
   "cell_type": "raw",
   "id": "93fd75d6-004d-4e11-a3a4-bc249bf47b49",
   "metadata": {},
   "source": [
    "!wget -O ../data/Perdelwitz2024/perdelwitz2024_tab4.dat.gz \"https://cdsarc.cds.unistra.fr/viz-bin/nph-Cat/txt.gz?J/A+A/683/A125/table4.dat.gz\""
   ]
  },
  {
   "cell_type": "raw",
   "id": "5a52ec84-a475-437e-84f1-90ffb5f91126",
   "metadata": {},
   "source": [
    "from astropy.table import Table\n",
    "\n",
    "fp = \"https://cdsarc.cds.unistra.fr/viz-bin/nph-Cat/txt.gz?J/A+A/683/A125/table4.dat.gz\"\n",
    "tab = Table.read(fp, format='ascii', guess=False)"
   ]
  },
  {
   "cell_type": "raw",
   "id": "4265b638-e122-46be-89d0-8288715054ab",
   "metadata": {},
   "source": [
    "import pandas as pd\n",
    "\n",
    "fp = '../data/Perdelwitz2024/perdelwitz2024_tab4.dat.gz'\n",
    "df = pd.read_csv(fp, compression='gzip', delim_whitespace=True, comment='#', header=None)"
   ]
  },
  {
   "cell_type": "code",
   "execution_count": 87,
   "id": "c817f858-4db0-4269-b046-60b6f7e585da",
   "metadata": {},
   "outputs": [
    {
     "data": {
      "text/plain": [
       "Text(0.5, 1.0, 'WASP-19')"
      ]
     },
     "execution_count": 87,
     "metadata": {},
     "output_type": "execute_result"
    },
    {
     "data": {
      "image/png": "[encoded data removed]",
      "text/plain": [
       "<Figure size 640x480 with 1 Axes>"
      ]
     },
     "metadata": {},
     "output_type": "display_data"
    }
   ],
   "source": [
    "import matplotlib.pyplot as pl\n",
    "target = 'WASP-19'\n",
    "x, y = '_tab2_4', 'DRVmlc'\n",
    "d = rv.query(\"Target==@target\")\n",
    "pl.plot(d[x], d[y], '.')\n",
    "pl.xlabel(\"\")\n",
    "pl.title(target)"
   ]
  },
  {
   "cell_type": "code",
   "execution_count": 88,
   "id": "0d353ea8",
   "metadata": {},
   "outputs": [
    {
     "data": {
      "text/plain": [
       "968"
      ]
     },
     "execution_count": 88,
     "metadata": {},
     "output_type": "execute_result"
    }
   ],
   "source": [
    "len(rv.Target.unique())"
   ]
  },
  {
   "cell_type": "code",
   "execution_count": 89,
   "id": "bf50e236-fb61-4055-9875-27639c12ac9d",
   "metadata": {},
   "outputs": [
    {
     "data": {
      "text/html": [
       "<div>\n",
       "<style scoped>\n",
       "    .dataframe tbody tr th:only-of-type {\n",
       "        vertical-align: middle;\n",
       "    }\n",
       "\n",
       "    .dataframe tbody tr th {\n",
       "        vertical-align: top;\n",
       "    }\n",
       "\n",
       "    .dataframe thead th {\n",
       "        text-align: right;\n",
       "    }\n",
       "</style>\n",
       "<table border=\"1\" class=\"dataframe\">\n",
       "  <thead>\n",
       "    <tr style=\"text-align: right;\">\n",
       "      <th></th>\n",
       "      <th>TIC ID</th>\n",
       "      <th>TOI</th>\n",
       "      <th>Previous CTOI</th>\n",
       "      <th>Master</th>\n",
       "      <th>SG1A</th>\n",
       "      <th>SG1B</th>\n",
       "      <th>SG2</th>\n",
       "      <th>SG3</th>\n",
       "      <th>SG4</th>\n",
       "      <th>SG5</th>\n",
       "      <th>...</th>\n",
       "      <th>Stellar Mass (M_Sun) err</th>\n",
       "      <th>Sectors</th>\n",
       "      <th>Date TOI Alerted (UTC)</th>\n",
       "      <th>Date TOI Updated (UTC)</th>\n",
       "      <th>Date Modified</th>\n",
       "      <th>Comments</th>\n",
       "      <th>ra_deg</th>\n",
       "      <th>dec_deg</th>\n",
       "      <th>GaiaDR3_exofop</th>\n",
       "      <th>GaiaDR3_vizier</th>\n",
       "    </tr>\n",
       "  </thead>\n",
       "  <tbody>\n",
       "    <tr>\n",
       "      <th>6247</th>\n",
       "      <td>419878733</td>\n",
       "      <td>7181.01</td>\n",
       "      <td>NaN</td>\n",
       "      <td>3</td>\n",
       "      <td>4</td>\n",
       "      <td>3</td>\n",
       "      <td>3</td>\n",
       "      <td>1</td>\n",
       "      <td>4</td>\n",
       "      <td>4</td>\n",
       "      <td>...</td>\n",
       "      <td>0.142793</td>\n",
       "      <td>56,83</td>\n",
       "      <td>2025-01-09</td>\n",
       "      <td>2025-01-09</td>\n",
       "      <td>2025-01-16 12:02:58</td>\n",
       "      <td>slight depth aperture correlation but field is...</td>\n",
       "      <td>337.675333</td>\n",
       "      <td>9.158175</td>\n",
       "      <td>NaN</td>\n",
       "      <td>NaN</td>\n",
       "    </tr>\n",
       "    <tr>\n",
       "      <th>6248</th>\n",
       "      <td>408469564</td>\n",
       "      <td>7182.01</td>\n",
       "      <td>NaN</td>\n",
       "      <td>2</td>\n",
       "      <td>4</td>\n",
       "      <td>2</td>\n",
       "      <td>2</td>\n",
       "      <td>1</td>\n",
       "      <td>4</td>\n",
       "      <td>4</td>\n",
       "      <td>...</td>\n",
       "      <td>0.162713</td>\n",
       "      <td>42,56,70,83</td>\n",
       "      <td>2025-01-09</td>\n",
       "      <td>2025-01-09</td>\n",
       "      <td>2025-01-16 12:03:01</td>\n",
       "      <td>L1 candidate; low SNR</td>\n",
       "      <td>359.262125</td>\n",
       "      <td>9.784658</td>\n",
       "      <td>NaN</td>\n",
       "      <td>NaN</td>\n",
       "    </tr>\n",
       "    <tr>\n",
       "      <th>6249</th>\n",
       "      <td>422159302</td>\n",
       "      <td>7183.01</td>\n",
       "      <td>NaN</td>\n",
       "      <td>3</td>\n",
       "      <td>4</td>\n",
       "      <td>3</td>\n",
       "      <td>3</td>\n",
       "      <td>1</td>\n",
       "      <td>4</td>\n",
       "      <td>4</td>\n",
       "      <td>...</td>\n",
       "      <td>NaN</td>\n",
       "      <td>16,17,24,57,76,77,83,84</td>\n",
       "      <td>2025-01-09</td>\n",
       "      <td>2025-01-09</td>\n",
       "      <td>2025-01-16 12:03:02</td>\n",
       "      <td>weak transit shape; possibly SV</td>\n",
       "      <td>335.623083</td>\n",
       "      <td>58.083092</td>\n",
       "      <td>NaN</td>\n",
       "      <td>NaN</td>\n",
       "    </tr>\n",
       "    <tr>\n",
       "      <th>6250</th>\n",
       "      <td>426956677</td>\n",
       "      <td>7184.01</td>\n",
       "      <td>NaN</td>\n",
       "      <td>2</td>\n",
       "      <td>4</td>\n",
       "      <td>2</td>\n",
       "      <td>2</td>\n",
       "      <td>1</td>\n",
       "      <td>4</td>\n",
       "      <td>4</td>\n",
       "      <td>...</td>\n",
       "      <td>0.127349</td>\n",
       "      <td>57,84</td>\n",
       "      <td>2025-01-09</td>\n",
       "      <td>2025-01-09</td>\n",
       "      <td>2025-01-16 12:02:59</td>\n",
       "      <td>low SNR</td>\n",
       "      <td>2.494583</td>\n",
       "      <td>18.773831</td>\n",
       "      <td>NaN</td>\n",
       "      <td>NaN</td>\n",
       "    </tr>\n",
       "    <tr>\n",
       "      <th>6251</th>\n",
       "      <td>77490011</td>\n",
       "      <td>7185.01</td>\n",
       "      <td>TIC 77490011.01</td>\n",
       "      <td>1</td>\n",
       "      <td>4</td>\n",
       "      <td>1</td>\n",
       "      <td>1</td>\n",
       "      <td>1</td>\n",
       "      <td>4</td>\n",
       "      <td>4</td>\n",
       "      <td>...</td>\n",
       "      <td>0.020103</td>\n",
       "      <td>85</td>\n",
       "      <td>2025-01-09</td>\n",
       "      <td>2025-01-09</td>\n",
       "      <td>2025-01-16 12:03:02</td>\n",
       "      <td>possible odd-even; also a CTOI from Marco Mont...</td>\n",
       "      <td>42.823792</td>\n",
       "      <td>30.281303</td>\n",
       "      <td>NaN</td>\n",
       "      <td>NaN</td>\n",
       "    </tr>\n",
       "  </tbody>\n",
       "</table>\n",
       "<p>5 rows × 66 columns</p>\n",
       "</div>"
      ],
      "text/plain": [
       "         TIC ID      TOI    Previous CTOI  Master  SG1A  SG1B  SG2  SG3  SG4  \\\n",
       "6247  419878733  7181.01              NaN       3     4     3    3    1    4   \n",
       "6248  408469564  7182.01              NaN       2     4     2    2    1    4   \n",
       "6249  422159302  7183.01              NaN       3     4     3    3    1    4   \n",
       "6250  426956677  7184.01              NaN       2     4     2    2    1    4   \n",
       "6251   77490011  7185.01  TIC 77490011.01       1     4     1    1    1    4   \n",
       "\n",
       "      SG5  ...  Stellar Mass (M_Sun) err                  Sectors  \\\n",
       "6247    4  ...                  0.142793                    56,83   \n",
       "6248    4  ...                  0.162713              42,56,70,83   \n",
       "6249    4  ...                       NaN  16,17,24,57,76,77,83,84   \n",
       "6250    4  ...                  0.127349                    57,84   \n",
       "6251    4  ...                  0.020103                       85   \n",
       "\n",
       "      Date TOI Alerted (UTC)  Date TOI Updated (UTC)        Date Modified  \\\n",
       "6247              2025-01-09              2025-01-09  2025-01-16 12:02:58   \n",
       "6248              2025-01-09              2025-01-09  2025-01-16 12:03:01   \n",
       "6249              2025-01-09              2025-01-09  2025-01-16 12:03:02   \n",
       "6250              2025-01-09              2025-01-09  2025-01-16 12:02:59   \n",
       "6251              2025-01-09              2025-01-09  2025-01-16 12:03:02   \n",
       "\n",
       "                                               Comments      ra_deg  \\\n",
       "6247  slight depth aperture correlation but field is...  337.675333   \n",
       "6248                              L1 candidate; low SNR  359.262125   \n",
       "6249                    weak transit shape; possibly SV  335.623083   \n",
       "6250                                            low SNR    2.494583   \n",
       "6251  possible odd-even; also a CTOI from Marco Mont...   42.823792   \n",
       "\n",
       "        dec_deg  GaiaDR3_exofop  GaiaDR3_vizier  \n",
       "6247   9.158175             NaN             NaN  \n",
       "6248   9.784658             NaN             NaN  \n",
       "6249  58.083092             NaN             NaN  \n",
       "6250  18.773831             NaN             NaN  \n",
       "6251  30.281303             NaN             NaN  \n",
       "\n",
       "[5 rows x 66 columns]"
      ]
     },
     "execution_count": 89,
     "metadata": {},
     "output_type": "execute_result"
    }
   ],
   "source": [
    "from catalog import get_tois\n",
    "\n",
    "tois = get_tois()\n",
    "tois.tail()"
   ]
  },
  {
   "cell_type": "code",
   "execution_count": 76,
   "id": "6fc3ee9d-28f9-49bb-8331-ae1dc1e17f4b",
   "metadata": {},
   "outputs": [
    {
     "data": {
      "text/plain": [
       "TIC ID                        434226736\n",
       "TOI                             5095.01\n",
       "Previous CTOI                       NaN\n",
       "Master                                5\n",
       "SG1A                                  5\n",
       "                          ...          \n",
       "Comments                        K2-25 b\n",
       "ra_deg                        63.273917\n",
       "dec_deg                       15.247703\n",
       "GaiaDR3_exofop    3311804515502788608.0\n",
       "GaiaDR3_vizier    3311804515502788608.0\n",
       "Name: 4237, Length: 66, dtype: object"
      ]
     },
     "execution_count": 76,
     "metadata": {},
     "output_type": "execute_result"
    }
   ],
   "source": [
    "# toi = tois.iloc[-1]\n",
    "toi = tois.query(\"TOI==5095.01\").squeeze()\n",
    "toi"
   ]
  },
  {
   "cell_type": "code",
   "execution_count": 84,
   "id": "adfbc081-5dbe-45e6-bcb3-4b939c8b5e20",
   "metadata": {},
   "outputs": [],
   "source": [
    "ra, dec = toi.ra_deg, toi.dec_deg"
   ]
  },
  {
   "cell_type": "code",
   "execution_count": 80,
   "id": "ed5f84f5-1809-48d6-9458-64135952219d",
   "metadata": {},
   "outputs": [],
   "source": [
    "from catalog import get_tfop_info"
   ]
  },
  {
   "cell_type": "code",
   "execution_count": 100,
   "id": "b3e8974c-c40a-4df4-a46a-1f3f400b3b01",
   "metadata": {},
   "outputs": [],
   "source": [
    "info = get_tfop_info(\"WASP-19\")\n",
    "ra, dec = float(info['coordinates']['ra']), float(info['coordinates']['dec'])"
   ]
  },
  {
   "cell_type": "code",
   "execution_count": 101,
   "id": "4d5b8414-5445-403d-b267-1479c5261062",
   "metadata": {},
   "outputs": [],
   "source": [
    "from catalog import Target\n",
    "\n",
    "t = Target(ra, dec)"
   ]
  },
  {
   "cell_type": "code",
   "execution_count": 102,
   "id": "bc103436-e802-4fb5-819e-47d0aa9651b4",
   "metadata": {},
   "outputs": [],
   "source": [
    "key = \"J/A+A/683/A125/table4\""
   ]
  },
  {
   "cell_type": "code",
   "execution_count": 103,
   "id": "facac795-0006-4e7b-ad52-9bfff2147bcd",
   "metadata": {},
   "outputs": [
    {
     "name": "stderr",
     "output_type": "stream",
     "text": [
      "WARNING: UnitsWarning: Unit 'as' not supported by the VOUnit standard. Did you mean A or a? [astropy.units.format.vounit]\n",
      "WARNING: UnitsWarning: Unit 'pct' not supported by the VOUnit standard. Did you mean PC, PT, Pct, pC, pT or pc? [astropy.units.format.vounit]\n",
      "WARNING: UnitsWarning: Unit 'x' not supported by the VOUnit standard.  [astropy.units.format.vounit]\n",
      "WARNING: UnitsWarning: Unit 'Earth' not supported by the VOUnit standard.  [astropy.units.format.vounit]\n"
     ]
    },
    {
     "name": "stdout",
     "output_type": "stream",
     "text": [
      "Found 1 references in Vizier with `RVdrs`.\n"
     ]
    },
    {
     "data": {
      "text/plain": [
       "20746.85"
      ]
     },
     "execution_count": 103,
     "metadata": {},
     "output_type": "execute_result"
    }
   ],
   "source": [
    "# \n",
    "t.query_vizier_param(\"RVdrs\")[key]"
   ]
  },
  {
   "cell_type": "code",
   "execution_count": null,
   "id": "4cdb8605-5758-4ecb-bd0d-b595a6f1d5b1",
   "metadata": {},
   "outputs": [],
   "source": []
  }
 ],
 "metadata": {
  "kernelspec": {
   "display_name": "wakai",
   "language": "python",
   "name": "wakai"
  },
  "language_info": {
   "codemirror_mode": {
    "name": "ipython",
    "version": 3
   },
   "file_extension": ".py",
   "mimetype": "text/x-python",
   "name": "python",
   "nbconvert_exporter": "python",
   "pygments_lexer": "ipython3",
   "version": "3.12.4"
  },
  "toc": {
   "base_numbering": 1,
   "nav_menu": {},
   "number_sections": true,
   "sideBar": true,
   "skip_h1_title": false,
   "title_cell": "Table of Contents",
   "title_sidebar": "Contents",
   "toc_cell": false,
   "toc_position": {},
   "toc_section_display": true,
   "toc_window_display": false
  }
 },
 "nbformat": 4,
 "nbformat_minor": 5
}
