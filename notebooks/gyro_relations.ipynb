{
 "cells": [
  {
   "cell_type": "markdown",
   "metadata": {},
   "source": [
    "# Gyro relations\n",
    "\n",
    "## Angus+2019\n",
    "* https://ui.adsabs.harvard.edu/abs/2019AJ....158..173A/abstract"
   ]
  },
  {
   "cell_type": "code",
   "execution_count": 1,
   "metadata": {
    "ExecuteTime": {
     "end_time": "2022-11-01T05:13:31.251209Z",
     "start_time": "2022-11-01T05:13:30.847903Z"
    }
   },
   "outputs": [],
   "source": [
    "# %load init_ipynb\n",
    "import os\n",
    "import sys\n",
    "import matplotlib.pyplot as pl\n",
    "\n",
    "sys.path.insert(0, '../code')\n",
    "assert os.environ[\"CONDA_DEFAULT_ENV\"] == 'wakai'\n",
    "\n",
    "plotpar = {'axes.labelsize': 16,\n",
    "           'font.size': 16,\n",
    "           'legend.fontsize': 16,\n",
    "           'xtick.labelsize': 16,\n",
    "           'ytick.labelsize': 16,\n",
    "#            'text.usetex': False,\n",
    "           'xtick.direction': 'in',\n",
    "           'ytick.direction': 'in'\n",
    "           }\n",
    "pl.rcParams.update(plotpar)"
   ]
  },
  {
   "cell_type": "markdown",
   "metadata": {},
   "source": [
    "# known young host stars"
   ]
  },
  {
   "cell_type": "code",
   "execution_count": 2,
   "metadata": {
    "ExecuteTime": {
     "end_time": "2022-11-01T05:13:33.615392Z",
     "start_time": "2022-11-01T05:13:31.252943Z"
    }
   },
   "outputs": [
    {
     "name": "stdout",
     "output_type": "stream",
     "text": [
      "Column definitions:  https://exoplanetarchive.ipac.caltech.edu/docs/API_PS_columns.html\n"
     ]
    },
    {
     "name": "stderr",
     "output_type": "stream",
     "text": [
      "/home/jp/github/research/project/wakai/notebooks/../code/utils.py:39: DtypeWarning: Columns (3,4,50,65,148,153,183,206,211,237,242) have mixed types. Specify dtype option on import or set low_memory=False.\n",
      "  df_nexsci = pd.read_csv(fp)\n"
     ]
    },
    {
     "name": "stdout",
     "output_type": "stream",
     "text": [
      "Loaded:  ../data/nexsci_ps.csv\n"
     ]
    }
   ],
   "source": [
    "from utils import get_nexsci_data\n",
    "\n",
    "df_nexsci = get_nexsci_data(table_name=\"ps\", clobber=False)"
   ]
  },
  {
   "cell_type": "code",
   "execution_count": 3,
   "metadata": {
    "ExecuteTime": {
     "end_time": "2022-11-01T05:13:34.560232Z",
     "start_time": "2022-11-01T05:13:34.514893Z"
    }
   },
   "outputs": [
    {
     "data": {
      "text/plain": [
       "(21,\n",
       " array(['WASP-189', 'Qatar-4', 'Qatar-5', 'Qatar-3', 'HIP 94235',\n",
       "        'DS Tuc A', 'HD 110082', 'HD 63433', 'K2-100', 'Kepler-1643',\n",
       "        'Kepler-1928', 'Kepler-411', 'K2-102', 'TOI-2048', 'TOI-1860',\n",
       "        'K2-25', 'TOI-1227', 'Kepler-970', 'K2-33', 'V1298 Tau',\n",
       "        'HIP 67522'], dtype=object))"
      ]
     },
     "execution_count": 3,
     "metadata": {},
     "output_type": "execute_result"
    }
   ],
   "source": [
    "from utils import get_relative_err_index\n",
    "\n",
    "idx = (df_nexsci.st_age<1) & (df_nexsci.default_flag==1) #& (df_nexsci.disc_facility=='Kepler') \n",
    "idx2 = get_relative_err_index(df_nexsci[idx], par='st_age', rel_err=0.2)\n",
    "\n",
    "df_young = df_nexsci[idx][idx2]\n",
    "young_hoststar_names = df_young.hostname.unique()\n",
    "len(young_hoststar_names), young_hoststar_names"
   ]
  }
 ],
 "metadata": {
  "interpreter": {
   "hash": "cf437c9fdc7e33afad30806c8ba898b1ed7208af2531506eaaa1d2480c4ad7ab"
  },
  "kernelspec": {
   "display_name": "Python 3 (ipykernel)",
   "language": "python",
   "name": "python3"
  },
  "language_info": {
   "codemirror_mode": {
    "name": "ipython",
    "version": 3
   },
   "file_extension": ".py",
   "mimetype": "text/x-python",
   "name": "python",
   "nbconvert_exporter": "python",
   "pygments_lexer": "ipython3",
   "version": "3.8.13"
  },
  "toc": {
   "base_numbering": 1,
   "nav_menu": {},
   "number_sections": true,
   "sideBar": true,
   "skip_h1_title": false,
   "title_cell": "Table of Contents",
   "title_sidebar": "Contents",
   "toc_cell": false,
   "toc_position": {},
   "toc_section_display": true,
   "toc_window_display": true
  }
 },
 "nbformat": 4,
 "nbformat_minor": 2
}
