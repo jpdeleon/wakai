{
 "cells": [
  {
   "cell_type": "code",
   "execution_count": null,
   "id": "c6001a29-ec84-484f-92cb-e56b31cb5405",
   "metadata": {},
   "outputs": [],
   "source": [
    "import Comove\n",
    "\n",
    "## Define the inputs:\n",
    "##An target star name searchable on simbad. If coordinates are used, it will just be used as the default results directory\n",
    "targname=\"TOI-179\"\n",
    "\n",
    "##Alternative is to use coordinates, default is [None,None] in which case the targname is used to get coordinates\n",
    "#rd = [None,None]\n",
    "rd = ['02:57:02.88','-56:11:30.73']\n",
    "\n",
    "##input target star radial velocity to calulate 3D space velocities\n",
    "radvel=-0.48 ##km/s\n",
    "\n",
    "##Neighbour velocity difference limit, and on sky search radius\n",
    "vlim=5.0 ##km/s\n",
    "srad=25.0 ##parsecs (spherical radius around target)\n",
    "\n",
    "\n",
    "##This line runs the entire code. Set showplots=True to interactively plot, otherwise they are only saved as pngs\n",
    "##Set verbose=True to see LOTS of print output\n",
    "output_location = Comove.findfriends(targname,radvel,velocity_limit=vlim,search_radius=srad,radec=rd,output_directory=None,verbose=False,showplots=False)"
   ]
  }
 ],
 "metadata": {
  "kernelspec": {
   "display_name": "wakai",
   "language": "python",
   "name": "wakai"
  },
  "language_info": {
   "codemirror_mode": {
    "name": "ipython",
    "version": 3
   },
   "file_extension": ".py",
   "mimetype": "text/x-python",
   "name": "python",
   "nbconvert_exporter": "python",
   "pygments_lexer": "ipython3",
   "version": "3.12.4"
  }
 },
 "nbformat": 4,
 "nbformat_minor": 5
}
