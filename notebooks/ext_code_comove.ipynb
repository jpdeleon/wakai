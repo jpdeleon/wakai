{
 "cells": [
  {
   "cell_type": "markdown",
   "id": "10b1fa84-f578-4ee9-a739-787bc53cd013",
   "metadata": {},
   "source": [
    "https://github.com/adamkraus/Comove"
   ]
  },
  {
   "cell_type": "code",
   "execution_count": 1,
   "id": "841b8fb1-81b9-431b-94b4-ee3146c2c04a",
   "metadata": {},
   "outputs": [],
   "source": [
    "import os\n",
    "\n",
    "os.chdir('/ut3/jerome/github/research/project/ext_tools/Comove/')"
   ]
  },
  {
   "cell_type": "code",
   "execution_count": null,
   "id": "c6001a29-ec84-484f-92cb-e56b31cb5405",
   "metadata": {},
   "outputs": [
    {
     "name": "stdout",
     "output_type": "stream",
     "text": [
      "\u001b[91mA new version of galpy (1.10.0) is available, please upgrade using pip/conda/... to get the latest features and bug fixes!\u001b[0m\n",
      "/ut3/jerome/miniconda3/envs/comove/lib/python3.10/site-packages/galpy/util/bovy_coords.py:8: FutureWarning: galpy.util.bovy_coords is being deprecated in favor of galpy.util.coords; all functions in there are the same; please switch to the new import, because the old import will be removed in v1.9\n",
      "  warnings.warn('galpy.util.bovy_coords is being deprecated in favor of galpy.util.coords; all functions in there are the same; please switch to the new import, because the old import will be removed in v1.9',FutureWarning)\n",
      "\n",
      "Bayestar not imported, doing so now. Will require 30 seconds or so.\n",
      "Loading pixel_info ...\n",
      "Loading samples ...\n",
      "Loading best_fit ...\n",
      "Replacing NaNs in reliable distance estimates ...\n",
      "Sorting pixel_info ...\n",
      "Extracting hp_idx_sorted and data_idx at each nside ...\n",
      "  nside = 64\n",
      "  nside = 128\n",
      "  nside = 256\n",
      "  nside = 512\n",
      "  nside = 1024\n",
      "t = 38.894 s\n",
      "  pix_info:   1.071 s\n",
      "   samples:  22.709 s\n",
      "      best:   4.443 s\n",
      "       nan:   0.026 s\n",
      "      sort:  10.511 s\n",
      "       idx:   0.134 s\n",
      "Already downloaded Bayestar files.\n",
      "Asking Gaia for precise coordinates\n",
      "INFO: Query finished. [astroquery.utils.tap.core]\n",
      "Querying Gaia for neighbors\n",
      "Parallax cut:  2.588469484535541\n"
     ]
    }
   ],
   "source": [
    "import Comove\n",
    "\n",
    "## Define the inputs:\n",
    "##An target star name searchable on simbad. If coordinates are used, it will just be used as the default results directory\n",
    "targname=\"TOI-179\"\n",
    "\n",
    "##Alternative is to use coordinates, default is [None,None] in which case the targname is used to get coordinates\n",
    "#rd = [None,None]\n",
    "rd = ['02:57:02.88','-56:11:30.73']\n",
    "\n",
    "##input target star radial velocity to calulate 3D space velocities\n",
    "radvel=-0.48 ##km/s\n",
    "\n",
    "##Neighbour velocity difference limit, and on sky search radius\n",
    "vlim=5.0 ##km/s\n",
    "srad=25.0 ##parsecs (spherical radius around target)\n",
    "\n",
    "\n",
    "##This line runs the entire code. Set showplots=True to interactively plot, otherwise they are only saved as pngs\n",
    "##Set verbose=True to see LOTS of print output\n",
    "output_location = Comove.findfriends(targname,radvel,velocity_limit=vlim,search_radius=srad,radec=rd,output_directory=None,verbose=False,showplots=False)"
   ]
  },
  {
   "cell_type": "code",
   "execution_count": null,
   "id": "55a3bce9-5b8f-4746-bafe-00e8453da208",
   "metadata": {},
   "outputs": [],
   "source": []
  }
 ],
 "metadata": {
  "kernelspec": {
   "display_name": "comove",
   "language": "python",
   "name": "comove"
  },
  "language_info": {
   "codemirror_mode": {
    "name": "ipython",
    "version": 3
   },
   "file_extension": ".py",
   "mimetype": "text/x-python",
   "name": "python",
   "nbconvert_exporter": "python",
   "pygments_lexer": "ipython3",
   "version": "3.10.8"
  }
 },
 "nbformat": 4,
 "nbformat_minor": 5
}
